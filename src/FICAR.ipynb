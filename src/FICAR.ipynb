{
 "cells": [
  {
   "cell_type": "code",
   "execution_count": 1,
   "id": "4ddd4569",
   "metadata": {},
   "outputs": [],
   "source": [
    "import numpy as np\n",
    "\n",
    "from ficar import FICAR"
   ]
  },
  {
   "cell_type": "code",
   "execution_count": 6,
   "id": "2ad05420",
   "metadata": {},
   "outputs": [],
   "source": [
    "system = FICAR(n_classes=4, class_names=['male_w', 'female_w', 'male_b', 'female_b'])\n",
    "system.train()"
   ]
  },
  {
   "cell_type": "code",
   "execution_count": 7,
   "id": "aea66b22",
   "metadata": {},
   "outputs": [
    {
     "name": "stdout",
     "output_type": "stream",
     "text": [
      "ARGMAX IN (1,2)\n",
      "[[0.         0.09669265 0.69732342 0.69299275]\n",
      " [0.90330735 0.         0.9864615  0.19342668]\n",
      " [0.30267658 0.0135385  0.         0.72727808]\n",
      " [0.30700725 0.80657332 0.27272192 0.        ]]\n",
      "male_b\n"
     ]
    }
   ],
   "source": [
    "instance = 'ins'\n",
    "y_pred = system.predict(instance)\n",
    "print(system.decisions)\n",
    "print(y_pred)"
   ]
  },
  {
   "cell_type": "code",
   "execution_count": null,
   "id": "6ce7edfd",
   "metadata": {},
   "outputs": [],
   "source": []
  },
  {
   "cell_type": "code",
   "execution_count": null,
   "id": "431964cf",
   "metadata": {},
   "outputs": [],
   "source": []
  },
  {
   "cell_type": "code",
   "execution_count": null,
   "id": "5b3727e8",
   "metadata": {},
   "outputs": [],
   "source": []
  },
  {
   "cell_type": "code",
   "execution_count": null,
   "id": "fa8d542b",
   "metadata": {},
   "outputs": [],
   "source": []
  },
  {
   "cell_type": "code",
   "execution_count": null,
   "id": "3f60cf8f",
   "metadata": {},
   "outputs": [],
   "source": []
  },
  {
   "cell_type": "code",
   "execution_count": null,
   "id": "cd054b11",
   "metadata": {},
   "outputs": [],
   "source": []
  },
  {
   "cell_type": "code",
   "execution_count": null,
   "id": "e6d21d43",
   "metadata": {},
   "outputs": [],
   "source": []
  }
 ],
 "metadata": {
  "kernelspec": {
   "display_name": "Python [conda env:tfg] *",
   "language": "python",
   "name": "conda-env-tfg-py"
  },
  "language_info": {
   "codemirror_mode": {
    "name": "ipython",
    "version": 3
   },
   "file_extension": ".py",
   "mimetype": "text/x-python",
   "name": "python",
   "nbconvert_exporter": "python",
   "pygments_lexer": "ipython3",
   "version": "3.7.13"
  }
 },
 "nbformat": 4,
 "nbformat_minor": 5
}

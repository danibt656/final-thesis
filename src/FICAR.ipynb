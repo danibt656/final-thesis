{
 "cells": [
  {
   "cell_type": "markdown",
   "id": "1216511f",
   "metadata": {},
   "source": [
    "# Index\n",
    "\n",
    "### - Fuzzy Loss Function\n",
    "\n",
    "### - Training a Net with FuzzyLoss (ft. pytorch_lightning)\n",
    "\n",
    "#### a1) ResNet50\n",
    "\n",
    "#### a2) ResNeXt50_32x4d\n",
    "\n",
    "#### b) VGG-16\n",
    "\n",
    "### - ...\n",
    "\n",
    "### - FICAR System"
   ]
  },
  {
   "cell_type": "code",
   "execution_count": 1,
   "id": "4ddd4569",
   "metadata": {},
   "outputs": [],
   "source": [
    "import numpy as np\n",
    "import matplotlib.pyplot as plt\n",
    "\n",
    "import os\n",
    "os.environ['TF_CPP_MIN_LOG_LEVEL'] = '3'\n",
    "import torch\n",
    "import torch.nn.functional as F\n",
    "from System import FICAR\n",
    "\n",
    "from fuzzylogic.classes import Domain, Set, Rule\n",
    "from fuzzylogic.hedges import very\n",
    "from fuzzylogic.functions import R, S, alpha, triangular"
   ]
  },
  {
   "cell_type": "markdown",
   "id": "4eabf350",
   "metadata": {},
   "source": [
    "# Fuzzy Loss Function"
   ]
  },
  {
   "cell_type": "code",
   "execution_count": 2,
   "id": "3f60cf8f",
   "metadata": {},
   "outputs": [],
   "source": [
    "# from FuzzyLoss import FuzzyLoss\n",
    "\n",
    "class FuzzyLoss(torch.nn.CrossEntropyLoss):\n",
    "    def __init__(self, gamma, alpha=None, ignore_index=-100, reduction='mean', class_sizes=[]):\n",
    "        super().__init__(weight=alpha, ignore_index=ignore_index, reduction='none')\n",
    "        self.reduction = reduction\n",
    "        self.gamma = gamma\n",
    "        if not class_sizes:\n",
    "            raise ValueError('List with class sizes is required')\n",
    "        self.class_sizes = class_sizes\n",
    "\n",
    "    def forward(self, input_, target):\n",
    "        cross_entropy = super().forward(input_, target)\n",
    "        target = target * (target != self.ignore_index).long()\n",
    "        input_prob = torch.gather(F.softmax(input_, 1), 1, F.one_hot(target.type(torch.int64)))\n",
    "        loss = torch.pow(1 - input_prob, self.gamma) * cross_entropy \n",
    "        return torch.mean(loss) if self.reduction == 'mean' \\\n",
    "                                else torch.sum(loss) if self.reduction == 'sum' \\\n",
    "                                else loss"
   ]
  },
  {
   "cell_type": "code",
   "execution_count": 3,
   "id": "68c20691",
   "metadata": {},
   "outputs": [
    {
     "name": "stdout",
     "output_type": "stream",
     "text": [
      "DF-CELoss :  1.2661572\n",
      "DF-CELoss :  1.2661572\n",
      "FuzzyLoss :  1.2661572\n"
     ]
    }
   ],
   "source": [
    "y_true = torch.tensor([4,  1], dtype=torch.int64)\n",
    "y_pred = torch.tensor([[0 , .7 , 0 ,0 ,  .3], [0, 0.9, 0, 0.1, 0]])\n",
    "\n",
    "print('DF-CELoss : ', F.cross_entropy(y_pred, y_true).numpy())\n",
    "print('DF-CELoss : ', torch.nn.CrossEntropyLoss()(y_pred, y_true).numpy())\n",
    "print('FuzzyLoss : ', FuzzyLoss(gamma=0., class_sizes=[1,1])(y_pred, y_true).numpy())"
   ]
  },
  {
   "cell_type": "code",
   "execution_count": 4,
   "id": "52462712",
   "metadata": {},
   "outputs": [
    {
     "name": "stdout",
     "output_type": "stream",
     "text": [
      "R1: -0.1382113821138212\tR2: -0.004878048780487976\tR3: None\n",
      "Delta Gamma ===> -0.09183457051961834\n"
     ]
    }
   ],
   "source": [
    "# Definir dominios de inputs y output\n",
    "balance_deg = Domain(\"Balance_deg\", 0, 1, res=0.1)\n",
    "balance_deg.low = S(0.1, 0.5)\n",
    "balance_deg.medium = triangular(0.0, 1.0, c=0.5)\n",
    "balance_deg.high = R(0.5, 1.0)\n",
    "\n",
    "delta_gamma = Domain(\"Delta_gamma\", -0.2, 0.2, res=0.01)\n",
    "delta_gamma.ln = S(-0.2, -0.0)\n",
    "delta_gamma.ze = triangular(-0.2, 0.2, c=-0.0)\n",
    "delta_gamma.lp = R(0.0, 0.2)\n",
    "\n",
    "# Reglas\n",
    "R1 = Rule({(balance_deg.low,): delta_gamma.ln})\n",
    "R2 = Rule({(balance_deg.medium,): delta_gamma.ze})\n",
    "R3 = Rule({(balance_deg.high,): very(delta_gamma.lp)})\n",
    "rules = R1 | R2 | R3\n",
    "\n",
    "# Inferencia\n",
    "values = {balance_deg: 0.2}\n",
    "print(f'R1: {R1(values)}\\tR2: {R2(values)}\\tR3: {R3(values)}\\nDelta Gamma ===> {rules(values)}')"
   ]
  },
  {
   "cell_type": "code",
   "execution_count": null,
   "id": "bfcf9347",
   "metadata": {},
   "outputs": [],
   "source": []
  },
  {
   "cell_type": "code",
   "execution_count": null,
   "id": "bd58e0fe",
   "metadata": {},
   "outputs": [],
   "source": []
  },
  {
   "cell_type": "code",
   "execution_count": null,
   "id": "6a36af08",
   "metadata": {},
   "outputs": [],
   "source": []
  },
  {
   "cell_type": "markdown",
   "id": "7a154ade",
   "metadata": {},
   "source": [
    "# Training a Net with FuzzyLoss (ft. `pytorch_lightning`)\n",
    "\n",
    "## a1) ResNet50"
   ]
  },
  {
   "cell_type": "code",
   "execution_count": 9,
   "id": "51825087",
   "metadata": {},
   "outputs": [
    {
     "name": "stderr",
     "output_type": "stream",
     "text": [
      "/home/d/miniconda3/envs/tfg/lib/python3.7/site-packages/torchvision/transforms/transforms.py:703: UserWarning: The use of the transforms.RandomSizedCrop transform is deprecated, please use transforms.RandomResizedCrop instead.\n",
      "  warnings.warn(\"The use of the transforms.RandomSizedCrop transform is deprecated, \" +\n",
      "/home/d/miniconda3/envs/tfg/lib/python3.7/site-packages/torchvision/transforms/transforms.py:219: UserWarning: The use of the transforms.Scale transform is deprecated, please use transforms.Resize instead.\n",
      "  warnings.warn(\"The use of the transforms.Scale transform is deprecated, \" +\n"
     ]
    },
    {
     "name": "stdout",
     "output_type": "stream",
     "text": [
      "NTrain: 47040 // NVal: 11680\n"
     ]
    }
   ],
   "source": [
    "from System import get_dataloaders_from_path, plot_images_sample\n",
    "\n",
    "dataloaders, dataset_sizes, class_names = get_dataloaders_from_path('../data/gender_clf/')\n",
    "# plot_images_sample(dataloaders['train'])\n",
    "print('NTrain:', len(dataloaders['train'])*32, '// NVal:', len(dataloaders['val'])*32) # 32-img batches"
   ]
  },
  {
   "cell_type": "code",
   "execution_count": 16,
   "id": "e1d2a8e7",
   "metadata": {},
   "outputs": [],
   "source": [
    "import pytorch_lightning as pl\n",
    "from torch import nn\n",
    "from torchvision.models import resnet50\n",
    "\n",
    "class ResNetCustom(pl.LightningModule):\n",
    "    def __init__(self, gamma=0., class_sizes=[]):\n",
    "        super().__init__()\n",
    "        self.n_classes = len(class_sizes)\n",
    "#         self.model = resnet50(pretrained=True)\n",
    "#         for param in self.model.parameters():\n",
    "#             param.requires_grad = False\n",
    "#         self.model.fc = nn.Linear(self.model.fc.in_features, self.n_classes, bias=True)\n",
    "        \n",
    "        net = resnet50(pretrained=True)\n",
    "        for param in rr.parameters():\n",
    "            param.requires_grad = False\n",
    "        self.model = nn.Sequential(\n",
    "            net,\n",
    "            nn.BatchNorm1d(1000),\n",
    "            nn.Linear(1000, 2048),\n",
    "            nn.ReLU(),\n",
    "            nn.BatchNorm1d(2048),\n",
    "            nn.Linear(2048, 1024),\n",
    "            nn.ReLU(),\n",
    "            nn.BatchNorm1d(1024),\n",
    "            nn.Linear(1024, 2),\n",
    "        )\n",
    "            \n",
    "        self.loss = FuzzyLoss(gamma=gamma, class_sizes=class_sizes).cuda()\n",
    "        \n",
    "    def forward(self, x):\n",
    "        return self.model(x)\n",
    "    \n",
    "    def training_step(self, batch, batch_no):\n",
    "        x, y = batch\n",
    "        logits = self(x)\n",
    "        loss = self.loss(logits, y)\n",
    "        return loss\n",
    "    \n",
    "    def configure_optimizers(self):\n",
    "#         return torch.optim.RMSprop(self.parameters(), lr=0.005)\n",
    "        return torch.optim.SGD(self.model[0].fc.parameters(), lr=0.001, momentum=0.9)"
   ]
  },
  {
   "cell_type": "code",
   "execution_count": 17,
   "id": "14c2e3c4",
   "metadata": {
    "scrolled": false
   },
   "outputs": [
    {
     "name": "stderr",
     "output_type": "stream",
     "text": [
      "/home/d/miniconda3/envs/tfg/lib/python3.7/site-packages/pytorch_lightning/trainer/connectors/accelerator_connector.py:447: LightningDeprecationWarning: Setting `Trainer(gpus=1)` is deprecated in v1.7 and will be removed in v2.0. Please use `Trainer(accelerator='gpu', devices=1)` instead.\n",
      "  f\"Setting `Trainer(gpus={gpus!r})` is deprecated in v1.7 and will be removed\"\n",
      "/home/d/miniconda3/envs/tfg/lib/python3.7/site-packages/pytorch_lightning/trainer/connectors/accelerator_connector.py:467: UserWarning: The flag `devices=1` will be ignored, instead the device specific number 1 will be used\n",
      "  f\"The flag `devices={devices}` will be ignored, \"\n",
      "GPU available: True (cuda), used: True\n",
      "TPU available: False, using: 0 TPU cores\n",
      "IPU available: False, using: 0 IPUs\n",
      "HPU available: False, using: 0 HPUs\n",
      "LOCAL_RANK: 0 - CUDA_VISIBLE_DEVICES: [0]\n",
      "\n",
      "  | Name  | Type       | Params\n",
      "-------------------------------------\n",
      "0 | model | Sequential | 29.7 M\n",
      "1 | loss  | FuzzyLoss  | 0     \n",
      "-------------------------------------\n",
      "29.7 M    Trainable params\n",
      "0         Non-trainable params\n",
      "29.7 M    Total params\n",
      "118.862   Total estimated model params size (MB)\n"
     ]
    },
    {
     "data": {
      "application/vnd.jupyter.widget-view+json": {
       "model_id": "9e18ccbdc2954f4bb01aed5d037886fa",
       "version_major": 2,
       "version_minor": 0
      },
      "text/plain": [
       "Training: 0it [00:00, ?it/s]"
      ]
     },
     "metadata": {},
     "output_type": "display_data"
    },
    {
     "name": "stderr",
     "output_type": "stream",
     "text": [
      "/home/d/miniconda3/envs/tfg/lib/python3.7/site-packages/pytorch_lightning/trainer/call.py:48: UserWarning: Detected KeyboardInterrupt, attempting graceful shutdown...\n",
      "  rank_zero_warn(\"Detected KeyboardInterrupt, attempting graceful shutdown...\")\n"
     ]
    }
   ],
   "source": [
    "model = ResNetCustom(gamma=0., class_sizes=[1,1])\n",
    "trainer = pl.Trainer(gpus=1, max_epochs=30, devices=1, accelerator=\"gpu\")\n",
    "trainer.fit(model, dataloaders['train'])"
   ]
  },
  {
   "cell_type": "code",
   "execution_count": 18,
   "id": "70b9c245",
   "metadata": {},
   "outputs": [],
   "source": [
    "trainer.save_checkpoint(\"saves/resnet50_gc_focalloss_transfer.pt\")"
   ]
  },
  {
   "cell_type": "markdown",
   "id": "43e46d4c",
   "metadata": {},
   "source": [
    "Now we can reload it w/o training:"
   ]
  },
  {
   "cell_type": "code",
   "execution_count": 19,
   "id": "f6ab7949",
   "metadata": {},
   "outputs": [],
   "source": [
    "def get_prediction(x, model: pl.LightningModule):\n",
    "    model.freeze() # prepares model for predicting\n",
    "    probabilities = torch.softmax(model(x), dim=1)\n",
    "    predicted_class = torch.argmax(probabilities, dim=1)\n",
    "    return predicted_class, probabilities\n",
    "\n",
    "inference_model = ResNetCustom.load_from_checkpoint(\"saves/resnet50_gc_focalloss_transfer.pt\", map_location=\"cuda\", gamma=0., class_sizes=[1,1])"
   ]
  },
  {
   "cell_type": "code",
   "execution_count": null,
   "id": "c153411b",
   "metadata": {},
   "outputs": [],
   "source": [
    "from tqdm.autonotebook import tqdm\n",
    "\n",
    "true_y, pred_y = [], []\n",
    "for batch in tqdm(iter(dataloaders['val']), total=len(dataloaders['val'])):\n",
    "    x, y = batch\n",
    "    true_y.extend(y)\n",
    "    preds, probs = get_prediction(x, inference_model)\n",
    "    pred_y.extend(preds.cpu())"
   ]
  },
  {
   "cell_type": "code",
   "execution_count": null,
   "id": "51ce571c",
   "metadata": {},
   "outputs": [],
   "source": [
    "from sklearn.metrics import classification_report\n",
    "print(classification_report(true_y, pred_y, digits=3))"
   ]
  },
  {
   "cell_type": "markdown",
   "id": "12164889",
   "metadata": {},
   "source": [
    "## a2) ResNeXt50_32x4d"
   ]
  },
  {
   "cell_type": "code",
   "execution_count": 29,
   "id": "aefa2cf4",
   "metadata": {},
   "outputs": [],
   "source": [
    "from torchvision.models import resnext50_32x4d\n",
    "\n",
    "class ResNext(pl.LightningModule):\n",
    "    def __init__(self, gamma=0., class_sizes=[]):\n",
    "        super().__init__()\n",
    "        self.n_classes = len(class_sizes)\n",
    "        self.model = resnext50_32x4d(pretrained=True)\n",
    "        for param in self.model.parameters():\n",
    "            param.requires_grad = False\n",
    "        self.model.fc = nn.Linear(self.model.fc.in_features, self.n_classes, bias=True)\n",
    "        self.loss = FuzzyLoss(gamma=gamma, class_sizes=class_sizes)\n",
    "        \n",
    "    def forward(self, x):\n",
    "        return self.model(x)\n",
    "    \n",
    "    def training_step(self, batch, batch_no):\n",
    "        x, y = batch\n",
    "        logits = self(x)\n",
    "        loss = self.loss(logits, y)\n",
    "        return loss\n",
    "    \n",
    "    def configure_optimizers(self):\n",
    "#         return torch.optim.RMSprop(self.parameters(), lr=0.005)\n",
    "        return torch.optim.SGD(self.model.fc.parameters(), lr=0.001, momentum=0.9)"
   ]
  },
  {
   "cell_type": "code",
   "execution_count": 30,
   "id": "2762076c",
   "metadata": {},
   "outputs": [
    {
     "name": "stderr",
     "output_type": "stream",
     "text": [
      "/home/d/miniconda3/envs/tfg/lib/python3.7/site-packages/pytorch_lightning/trainer/connectors/accelerator_connector.py:447: LightningDeprecationWarning: Setting `Trainer(gpus=1)` is deprecated in v1.7 and will be removed in v2.0. Please use `Trainer(accelerator='gpu', devices=1)` instead.\n",
      "  f\"Setting `Trainer(gpus={gpus!r})` is deprecated in v1.7 and will be removed\"\n",
      "/home/d/miniconda3/envs/tfg/lib/python3.7/site-packages/pytorch_lightning/trainer/connectors/accelerator_connector.py:467: UserWarning: The flag `devices=1` will be ignored, instead the device specific number 1 will be used\n",
      "  f\"The flag `devices={devices}` will be ignored, \"\n",
      "GPU available: True (cuda), used: True\n",
      "TPU available: False, using: 0 TPU cores\n",
      "IPU available: False, using: 0 IPUs\n",
      "HPU available: False, using: 0 HPUs\n",
      "LOCAL_RANK: 0 - CUDA_VISIBLE_DEVICES: [0]\n",
      "\n",
      "  | Name  | Type      | Params\n",
      "------------------------------------\n",
      "0 | model | ResNet    | 23.0 M\n",
      "1 | loss  | FuzzyLoss | 0     \n",
      "------------------------------------\n",
      "4.1 K     Trainable params\n",
      "23.0 M    Non-trainable params\n",
      "23.0 M    Total params\n",
      "91.936    Total estimated model params size (MB)\n"
     ]
    },
    {
     "data": {
      "application/vnd.jupyter.widget-view+json": {
       "model_id": "84eaf93b0efb48ed8d0eb9747c8f382f",
       "version_major": 2,
       "version_minor": 0
      },
      "text/plain": [
       "Training: 0it [00:00, ?it/s]"
      ]
     },
     "metadata": {},
     "output_type": "display_data"
    },
    {
     "name": "stderr",
     "output_type": "stream",
     "text": [
      "`Trainer.fit` stopped: `max_epochs=15` reached.\n"
     ]
    }
   ],
   "source": [
    "model3 = ResNext(gamma=0., class_sizes=[1,1])\n",
    "trainer3 = pl.Trainer(gpus=1, max_epochs=15, devices=1, accelerator=\"gpu\")\n",
    "trainer3.fit(model3, dataloaders['train'])"
   ]
  },
  {
   "cell_type": "code",
   "execution_count": 31,
   "id": "58ab12a9",
   "metadata": {},
   "outputs": [],
   "source": [
    "trainer3.save_checkpoint(\"saves/resneXt_utk_focalloss.pt\")"
   ]
  },
  {
   "cell_type": "code",
   "execution_count": 33,
   "id": "10e852b2",
   "metadata": {},
   "outputs": [
    {
     "data": {
      "application/vnd.jupyter.widget-view+json": {
       "model_id": "3eb436a3449241ecb1223862b33655da",
       "version_major": 2,
       "version_minor": 0
      },
      "text/plain": [
       "  0%|          | 0/220 [00:00<?, ?it/s]"
      ]
     },
     "metadata": {},
     "output_type": "display_data"
    },
    {
     "name": "stdout",
     "output_type": "stream",
     "text": [
      "              precision    recall  f1-score   support\n",
      "\n",
      "           0      0.856     0.676     0.755      3621\n",
      "           1      0.718     0.879     0.790      3401\n",
      "\n",
      "    accuracy                          0.774      7022\n",
      "   macro avg      0.787     0.777     0.773      7022\n",
      "weighted avg      0.789     0.774     0.772      7022\n",
      "\n"
     ]
    }
   ],
   "source": [
    "def get_prediction(x, model: pl.LightningModule):\n",
    "    model.freeze() # prepares model for predicting\n",
    "    probabilities = torch.softmax(model(x), dim=1)\n",
    "    predicted_class = torch.argmax(probabilities, dim=1)\n",
    "    return predicted_class, probabilities\n",
    "\n",
    "inference_model = ResNext.load_from_checkpoint(\"saves/resneXt_utk_focalloss.pt\", map_location=\"cuda\", gamma=0., class_sizes=[1,1])\n",
    "\n",
    "from tqdm.autonotebook import tqdm\n",
    "true_y, pred_y = [], []\n",
    "for batch in tqdm(iter(dataloaders['val']), total=len(dataloaders['val'])):\n",
    "    x, y = batch\n",
    "    true_y.extend(y)\n",
    "    preds, probs = get_prediction(x, inference_model)\n",
    "    pred_y.extend(preds.cpu())\n",
    "    \n",
    "from sklearn.metrics import classification_report\n",
    "print(classification_report(true_y, pred_y, digits=3))"
   ]
  },
  {
   "cell_type": "markdown",
   "id": "1c70e71d",
   "metadata": {},
   "source": [
    "## b) VGG-16"
   ]
  },
  {
   "cell_type": "code",
   "execution_count": 6,
   "id": "32966862",
   "metadata": {},
   "outputs": [],
   "source": [
    "from torchvision.models import vgg16\n",
    "\n",
    "class VGGCustom(pl.LightningModule):\n",
    "    def __init__(self, gamma=0., class_sizes=[]):\n",
    "        super().__init__()\n",
    "        self.model = vgg16(num_classes=10)\n",
    "        self.model.conv1 = nn.Conv2d(3, 64, kernel_size=(3, 3), stride=(1, 1), padding=(1, 1))\n",
    "        self.loss = FuzzyLoss(gamma=gamma, class_sizes=class_sizes)\n",
    "        \n",
    "    def forward(self, x):\n",
    "        return self.model(x)\n",
    "    \n",
    "    def training_step(self, batch, batch_no):\n",
    "        x, y = batch\n",
    "        logits = self(x)\n",
    "        loss = self.loss(logits, y)\n",
    "        return loss\n",
    "    \n",
    "    def configure_optimizers(self):\n",
    "        return torch.optim.RMSprop(self.parameters(), lr=0.005)"
   ]
  },
  {
   "cell_type": "code",
   "execution_count": 7,
   "id": "c75157a6",
   "metadata": {},
   "outputs": [
    {
     "name": "stderr",
     "output_type": "stream",
     "text": [
      "/home/d/miniconda3/envs/tfg/lib/python3.7/site-packages/pytorch_lightning/trainer/connectors/accelerator_connector.py:447: LightningDeprecationWarning: Setting `Trainer(gpus=1)` is deprecated in v1.7 and will be removed in v2.0. Please use `Trainer(accelerator='gpu', devices=1)` instead.\n",
      "  f\"Setting `Trainer(gpus={gpus!r})` is deprecated in v1.7 and will be removed\"\n",
      "/home/d/miniconda3/envs/tfg/lib/python3.7/site-packages/pytorch_lightning/trainer/connectors/accelerator_connector.py:467: UserWarning: The flag `devices=1` will be ignored, instead the device specific number 1 will be used\n",
      "  f\"The flag `devices={devices}` will be ignored, \"\n",
      "GPU available: True (cuda), used: True\n",
      "TPU available: False, using: 0 TPU cores\n",
      "IPU available: False, using: 0 IPUs\n",
      "HPU available: False, using: 0 HPUs\n",
      "LOCAL_RANK: 0 - CUDA_VISIBLE_DEVICES: [0]\n",
      "\n",
      "  | Name  | Type      | Params\n",
      "------------------------------------\n",
      "0 | model | VGG       | 134 M \n",
      "1 | loss  | FuzzyLoss | 0     \n",
      "------------------------------------\n",
      "134 M     Trainable params\n",
      "0         Non-trainable params\n",
      "134 M     Total params\n",
      "537.213   Total estimated model params size (MB)\n"
     ]
    },
    {
     "data": {
      "application/vnd.jupyter.widget-view+json": {
       "model_id": "58488ec1054347a69287805b2bac32f4",
       "version_major": 2,
       "version_minor": 0
      },
      "text/plain": [
       "Training: 0it [00:00, ?it/s]"
      ]
     },
     "metadata": {},
     "output_type": "display_data"
    },
    {
     "name": "stderr",
     "output_type": "stream",
     "text": [
      "`Trainer.fit` stopped: `max_epochs=5` reached.\n"
     ]
    }
   ],
   "source": [
    "model2 = VGGCustom(gamma=0., class_sizes=[1,1])\n",
    "trainer2 = pl.Trainer(gpus=1, max_epochs=5, devices=1, accelerator=\"gpu\")\n",
    "trainer2.fit(model2, dataloaders['train'])"
   ]
  },
  {
   "cell_type": "code",
   "execution_count": 8,
   "id": "e5775fdb",
   "metadata": {},
   "outputs": [],
   "source": [
    "trainer2.save_checkpoint(\"saves/vgg16_utk_focalloss.pt\")"
   ]
  },
  {
   "cell_type": "code",
   "execution_count": 9,
   "id": "23164e5a",
   "metadata": {},
   "outputs": [
    {
     "data": {
      "application/vnd.jupyter.widget-view+json": {
       "model_id": "af3aab220bd6440b8d294e30c4d17807",
       "version_major": 2,
       "version_minor": 0
      },
      "text/plain": [
       "  0%|          | 0/220 [00:00<?, ?it/s]"
      ]
     },
     "metadata": {},
     "output_type": "display_data"
    },
    {
     "name": "stdout",
     "output_type": "stream",
     "text": [
      "              precision    recall  f1-score   support\n",
      "\n",
      "           0      0.516     1.000     0.680      3621\n",
      "           1      0.000     0.000     0.000      3401\n",
      "\n",
      "    accuracy                          0.516      7022\n",
      "   macro avg      0.258     0.500     0.340      7022\n",
      "weighted avg      0.266     0.516     0.351      7022\n",
      "\n"
     ]
    },
    {
     "name": "stderr",
     "output_type": "stream",
     "text": [
      "/home/d/miniconda3/envs/tfg/lib/python3.7/site-packages/sklearn/metrics/_classification.py:1318: UndefinedMetricWarning: Precision and F-score are ill-defined and being set to 0.0 in labels with no predicted samples. Use `zero_division` parameter to control this behavior.\n",
      "  _warn_prf(average, modifier, msg_start, len(result))\n",
      "/home/d/miniconda3/envs/tfg/lib/python3.7/site-packages/sklearn/metrics/_classification.py:1318: UndefinedMetricWarning: Precision and F-score are ill-defined and being set to 0.0 in labels with no predicted samples. Use `zero_division` parameter to control this behavior.\n",
      "  _warn_prf(average, modifier, msg_start, len(result))\n",
      "/home/d/miniconda3/envs/tfg/lib/python3.7/site-packages/sklearn/metrics/_classification.py:1318: UndefinedMetricWarning: Precision and F-score are ill-defined and being set to 0.0 in labels with no predicted samples. Use `zero_division` parameter to control this behavior.\n",
      "  _warn_prf(average, modifier, msg_start, len(result))\n"
     ]
    }
   ],
   "source": [
    "def get_prediction(x, model: pl.LightningModule):\n",
    "    model.freeze() # prepares model for predicting\n",
    "    probabilities = torch.softmax(model(x), dim=1)\n",
    "    predicted_class = torch.argmax(probabilities, dim=1)\n",
    "    return predicted_class, probabilities\n",
    "\n",
    "inference_model = VGGCustom.load_from_checkpoint(\"saves/vgg16_utk_focalloss.pt\", map_location=\"cuda\", gamma=0., class_sizes=[1,1])\n",
    "\n",
    "from tqdm.autonotebook import tqdm\n",
    "true_y, pred_y = [], []\n",
    "for batch in tqdm(iter(dataloaders['val']), total=len(dataloaders['val'])):\n",
    "    x, y = batch\n",
    "    true_y.extend(y)\n",
    "    preds, probs = get_prediction(x, inference_model)\n",
    "    pred_y.extend(preds.cpu())\n",
    "    \n",
    "from sklearn.metrics import classification_report\n",
    "print(classification_report(true_y, pred_y, digits=3))"
   ]
  },
  {
   "cell_type": "markdown",
   "id": "a803511e",
   "metadata": {},
   "source": [
    "# FICAR System"
   ]
  },
  {
   "cell_type": "code",
   "execution_count": 6,
   "id": "2ad05420",
   "metadata": {},
   "outputs": [
    {
     "name": "stdout",
     "output_type": "stream",
     "text": [
      "P(0,1)-> Fit with pair ('male_w', 'female_w')\n",
      "P(0,2)-> Fit with pair ('male_w', 'male_b')\n",
      "P(0,3)-> Fit with pair ('male_w', 'female_b')\n",
      "P(1,2)-> Fit with pair ('female_w', 'male_b')\n",
      "P(1,3)-> Fit with pair ('female_w', 'female_b')\n",
      "P(2,3)-> Fit with pair ('male_b', 'female_b')\n"
     ]
    }
   ],
   "source": [
    "system = FICAR(n_classes=4, class_names=['male_w', 'female_w', 'male_b', 'female_b'])\n",
    "system.train(\"dummyDL\")"
   ]
  },
  {
   "cell_type": "code",
   "execution_count": 7,
   "id": "aea66b22",
   "metadata": {},
   "outputs": [
    {
     "name": "stdout",
     "output_type": "stream",
     "text": [
      "[[0.         0.3120504  0.95452845 0.81355755]\n",
      " [0.6879496  0.         0.24934205 0.20867684]\n",
      " [0.04547155 0.75065795 0.         0.10901914]\n",
      " [0.18644245 0.79132316 0.89098086 0.        ]]\n",
      "male_b\n"
     ]
    }
   ],
   "source": [
    "y_pred = system.predict('dummyIns')\n",
    "print(system.decisions)\n",
    "print(y_pred)"
   ]
  },
  {
   "cell_type": "code",
   "execution_count": null,
   "id": "6ce7edfd",
   "metadata": {},
   "outputs": [],
   "source": []
  },
  {
   "cell_type": "code",
   "execution_count": null,
   "id": "d24e3da5",
   "metadata": {},
   "outputs": [],
   "source": []
  },
  {
   "cell_type": "code",
   "execution_count": null,
   "id": "036286fd",
   "metadata": {},
   "outputs": [],
   "source": []
  },
  {
   "cell_type": "code",
   "execution_count": null,
   "id": "bb20910e",
   "metadata": {},
   "outputs": [],
   "source": []
  }
 ],
 "metadata": {
  "kernelspec": {
   "display_name": "Python 3 (ipykernel)",
   "language": "python",
   "name": "python3"
  },
  "language_info": {
   "codemirror_mode": {
    "name": "ipython",
    "version": 3
   },
   "file_extension": ".py",
   "mimetype": "text/x-python",
   "name": "python",
   "nbconvert_exporter": "python",
   "pygments_lexer": "ipython3",
   "version": "3.7.13"
  }
 },
 "nbformat": 4,
 "nbformat_minor": 5
}

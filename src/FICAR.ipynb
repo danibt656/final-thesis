{
 "cells": [
  {
   "cell_type": "markdown",
   "id": "1216511f",
   "metadata": {},
   "source": [
    "# Index\n",
    "\n",
    "### - Fuzzy Loss Function\n",
    "\n",
    "### - Training a Net with FuzzyLoss (ft. pytorch_lightning)\n",
    "\n",
    "#### a1) ResNet50\n",
    "\n",
    "#### a2) ResNeXt50_32x4d\n",
    "\n",
    "#### b) VGG-16"
   ]
  },
  {
   "cell_type": "code",
   "execution_count": 1,
   "id": "4ddd4569",
   "metadata": {},
   "outputs": [
    {
     "name": "stderr",
     "output_type": "stream",
     "text": [
      "C:\\Users\\laraquij\\Anaconda3\\envs\\tfg_dani\\lib\\site-packages\\tqdm\\auto.py:21: TqdmWarning: IProgress not found. Please update jupyter and ipywidgets. See https://ipywidgets.readthedocs.io/en/stable/user_install.html\n",
      "  from .autonotebook import tqdm as notebook_tqdm\n"
     ]
    }
   ],
   "source": [
    "import numpy as np\n",
    "import pandas as pd\n",
    "import matplotlib.pyplot as plt\n",
    "\n",
    "import os\n",
    "os.environ['TF_CPP_MIN_LOG_LEVEL'] = '3'\n",
    "import torch\n",
    "import torch.nn.functional as F\n",
    "import pytorch_lightning as pl\n",
    "from torch import nn\n",
    "from torch.utils.data import Subset, ConcatDataset\n",
    "import torchmetrics\n",
    "\n",
    "from fuzzylogic.classes import Domain, Set, Rule\n",
    "from fuzzylogic.hedges import very\n",
    "from fuzzylogic.functions import R, S, alpha, triangular\n",
    "\n",
    "from System import FICAR\n",
    "from sklearn.model_selection import KFold\n",
    "from sklearn.metrics import classification_report\n",
    "from torchvision import datasets, transforms\n",
    "from tqdm.autonotebook import tqdm\n",
    "\n",
    "# from ray import tune\n",
    "# from ray.tune.integration.pytorch_lightning import TuneReportCallback"
   ]
  },
  {
   "cell_type": "markdown",
   "id": "4eabf350",
   "metadata": {},
   "source": [
    "# Fuzzy Loss Function"
   ]
  },
  {
   "cell_type": "code",
   "execution_count": 2,
   "id": "3f60cf8f",
   "metadata": {},
   "outputs": [],
   "source": [
    "# from FuzzyLoss import FuzzyLoss\n",
    "\n",
    "class FL_FCS():\n",
    "    \"\"\" Fuzzy Control System for Focal Loss \"\"\"\n",
    "    def __init__(self):\n",
    "        # Definir dominios de inputs y output\n",
    "        self.balance_deg = Domain(\"balance_deg\", 0, 1, res=0.1)\n",
    "        self.balance_deg.low = S(0.2, 0.8)\n",
    "        self.balance_deg.high = R(0.2,0.8)\n",
    "\n",
    "        self.loss_tminus = Domain(\"loss_tminus\", 0, 2, res=0.01)\n",
    "        self.loss_tminus.low = S(0.25, 1.75)\n",
    "        self.loss_tminus.med = triangular(0.25, 1.75, c=1.0)\n",
    "        self.loss_tminus.high = R(0.25,1.85)\n",
    "\n",
    "        self.delta_gamma = Domain(\"Delta_gamma\", -0.2, 0.2, res=0.01)\n",
    "        self.delta_gamma.ne = S(-0.2, -0.0)\n",
    "        self.delta_gamma.ze = triangular(-0.2, 0.2, c=-0.0)\n",
    "        self.delta_gamma.po = R(0.0, 0.2)\n",
    "\n",
    "        # Reglas\n",
    "        R1 = Rule({(self.balance_deg.low, self.loss_tminus.low): self.delta_gamma.ne})\n",
    "        R2 = Rule({(self.balance_deg.low, self.loss_tminus.med): self.delta_gamma.ne})\n",
    "        R3 = Rule({(self.balance_deg.low, self.loss_tminus.high): self.delta_gamma.ze})\n",
    "        R4 = Rule({(self.balance_deg.high, self.loss_tminus.low): self.delta_gamma.ze})\n",
    "        R5 = Rule({(self.balance_deg.high, self.loss_tminus.med): self.delta_gamma.po})\n",
    "        R6 = Rule({(self.balance_deg.high, self.loss_tminus.high): self.delta_gamma.po})\n",
    "        self.rules = R1 | R2 | R3 | R4 | R5 | R6\n",
    "    \n",
    "    def evaluate(self, bd, lt):\n",
    "        \"\"\" return how much to change current gamma in terms of:\n",
    "            - current class' balance degree\n",
    "            - current focal loss for current class, obtained during step\n",
    "        \"\"\"\n",
    "        values = {self.balance_deg: bd, self.loss_tminus: lt}\n",
    "        delta_gamma = self.rules(values)\n",
    "        return delta_gamma\n",
    "\n",
    "    \n",
    "class FuzzyLoss(torch.nn.CrossEntropyLoss):\n",
    "    \"\"\" Fuzzy-Adaptive Focal Loss\n",
    "    \n",
    "    gamma in [0, +inf)\n",
    "    alpha in [0, 1]\n",
    "    \"\"\"\n",
    "    def __init__(self, gamma=0, class_sizes=[1,1], alpha=None):\n",
    "        super(FuzzyLoss, self).__init__()\n",
    "        \n",
    "        self.class_sizes = np.array(class_sizes)\n",
    "        self.n_classes = len(self.class_sizes)\n",
    "        # balance degree of each class (size_i / max(size_j))\n",
    "        self.balance_deg = dict((i, class_sizes[i]/max(class_sizes)) for i in range(len(class_sizes)))\n",
    "        \n",
    "        # initially all classes with same gamma\n",
    "        self.gamma = dict((i, gamma) for i in range(self.n_classes))\n",
    "        self.alpha = alpha\n",
    "        \n",
    "        if isinstance(alpha,(float,int)): self.alpha = torch.Tensor([alpha,1-alpha])\n",
    "        if isinstance(alpha,list): self.alpha = torch.Tensor(alpha)\n",
    "        \n",
    "        self.FCS = FL_FCS()\n",
    "\n",
    "    def forward(self, input_, target):\n",
    "        if input_.dim()>2:\n",
    "            input_ = input_.view(input_.size(0),input_.size(1),-1)  # N,C,H,W => N,C,H*W\n",
    "            input_ = input_.transpose(1,2)    # N,C,H*W => N,H*W,C\n",
    "            input_ = input_.contiguous().view(-1,input_.size(2))   # N,H*W,C => N*H*W,C\n",
    "        ground_truth = target\n",
    "        target = target.view(-1,1)\n",
    "\n",
    "        logpt = F.log_softmax(input_, dim=1)\n",
    "        logpt = logpt.gather(1,target)\n",
    "        logpt = logpt.view(-1)\n",
    "        pt = logpt.data.exp()\n",
    "\n",
    "        if self.alpha is not None:\n",
    "            if self.alpha.type()!=input_.data.type():\n",
    "                self.alpha = self.alpha.type_as(input_.data)\n",
    "            at = self.alpha.gather(0,target.data.view(-1))\n",
    "            logpt = logpt * Variable(at)\n",
    "        \n",
    "        loss = torch.Tensor([0.0]*len(pt))\n",
    "        for i, (pt_, logpt_) in enumerate(zip(pt, logpt)):\n",
    "            curr_class = ground_truth[i].item()\n",
    "            # la loss de cada instancia del batch evaluada con su gamma respectiva\n",
    "            loss[i] = -1 * (1-pt_)**self.gamma[curr_class] * logpt_\n",
    "        \n",
    "        # tanto la media como el loss para cada _Instancia_\n",
    "        return loss.mean(), loss\n",
    "        \n",
    "    def update_hyperparams(self, current_losses, targets, alpha=None):\n",
    "        \"\"\" update each class' gamma based on:\n",
    "            - that class's balance degree\n",
    "            - that class's loss in current step\n",
    "        \"\"\"\n",
    "        if alpha is not None:\n",
    "            self.alpha = alpha\n",
    "        if len(current_losses) != len(targets):\n",
    "            raise ValueError('current loss must be same length as targets!')\n",
    "        \n",
    "        # obtener loss media para cada clase\n",
    "        class_loss = {}\n",
    "        targets = targets.cpu().numpy()\n",
    "        for i in range(len(targets)):\n",
    "            if targets[i] not in class_loss:\n",
    "                class_loss[targets[i]] = np.array([current_losses[i].item()])\n",
    "            else:\n",
    "                class_loss[targets[i]] = np.append(class_loss[targets[i]], current_losses[i].item())\n",
    "        for k in class_loss.keys():\n",
    "            class_loss[k] = class_loss[k].mean()\n",
    "        \n",
    "        for i in range(self.n_classes):\n",
    "            try:\n",
    "                delta_gamma = self.FCS.evaluate(self.balance_deg[i], class_loss[i])\n",
    "            except:\n",
    "                delta_gamma = 0\n",
    "            self.gamma[i] += delta_gamma\n",
    "            self.gamma[i] = max(self.gamma[i], 0) # enforce gamma >= 0"
   ]
  },
  {
   "cell_type": "code",
   "execution_count": 3,
   "id": "68c20691",
   "metadata": {},
   "outputs": [
    {
     "name": "stdout",
     "output_type": "stream",
     "text": [
      "DF-CELoss :  1.0661571\n",
      "FuzzyLoss':  1.0661571\n",
      "FuzzyLoss\":  1.0661571\n"
     ]
    }
   ],
   "source": [
    "y_true = torch.tensor([0,  1], dtype=torch.int64)\n",
    "y_pred = torch.tensor([[.7 , 0 , 0 ,0 ,  .3], [0, 0.9, 0, 0.1, 0]])\n",
    "\n",
    "print('DF-CELoss : ', torch.nn.CrossEntropyLoss()(y_pred, y_true).numpy())\n",
    "\n",
    "fuzzyloss = FuzzyLoss(gamma=0., class_sizes=[500,5000])\n",
    "loss, losses = fuzzyloss(y_pred, y_true)\n",
    "print('FuzzyLoss\\': ', loss.numpy())\n",
    "fuzzyloss.update_hyperparams(losses, y_true)\n",
    "print('FuzzyLoss\": ', loss.numpy())"
   ]
  },
  {
   "cell_type": "markdown",
   "id": "7a154ade",
   "metadata": {},
   "source": [
    "# Training a Net with FuzzyLoss (ft. `pytorch_lightning`)\n",
    "\n",
    "## ResNet50"
   ]
  },
  {
   "cell_type": "code",
   "execution_count": null,
   "id": "51825087",
   "metadata": {},
   "outputs": [],
   "source": [
    "from System import get_dataloaders_from_path, plot_images_sample\n",
    "\n",
    "dataloaders, dataset_sizes, class_names = get_dataloaders_from_path('../data/PlantVillage/')\n",
    "plot_images_sample(dataloaders['train'])\n",
    "print('NTrain:', len(dataloaders['train'])*32, '// NVal:', len(dataloaders['val'])*32) # 32-img batches"
   ]
  },
  {
   "cell_type": "code",
   "execution_count": 88,
   "id": "e1d2a8e7",
   "metadata": {},
   "outputs": [],
   "source": [
    "from torchvision.models import resnet50\n",
    "\n",
    "EPOCHS = 200\n",
    "mean_losses = []\n",
    "mean_acc = []\n",
    "mean_f1s = []\n",
    "\n",
    "class ResNetCustom(pl.LightningModule):\n",
    "    def __init__(self, gamma=0., class_sizes=[1,1]):\n",
    "        super().__init__()\n",
    "        self.n_classes = len(class_sizes)\n",
    "        \n",
    "        # metrics\n",
    "        task = \"multiclass\" if self.n_classes > 2 else \"binary\"\n",
    "        self.accuracy = torchmetrics.Accuracy(task=task, num_classes=self.n_classes)\n",
    "        self.f1score = torchmetrics.F1Score(task=task, num_classes=self.n_classes)\n",
    "        \n",
    "        self.model = resnet50(pretrained=True)\n",
    "        for param in self.model.parameters():\n",
    "            param.requires_grad = False\n",
    "        self.model.fc = nn.Linear(self.model.fc.in_features, self.n_classes, bias=True)\n",
    "            \n",
    "        self.fuzzyloss = FuzzyLoss(gamma=gamma, class_sizes=class_sizes).cuda()\n",
    "        \n",
    "    def forward(self, x):\n",
    "        return self.model(x)\n",
    "    \n",
    "    def training_step(self, batch, batch_no):\n",
    "        x, y = batch\n",
    "        logits = self(x)\n",
    "        \n",
    "        y_onehot = F.one_hot(y, num_classes=self.n_classes).long()\n",
    "        acc = self.accuracy(logits, y_onehot)\n",
    "        f1s = self.f1score(logits, y_onehot)\n",
    "        mean_acc.append(acc.item())\n",
    "        mean_f1s.append(f1s.item())\n",
    "        \n",
    "        mean_loss, losses = self.fuzzyloss(logits, y)\n",
    "        mean_losses.append(mean_loss)\n",
    "        \n",
    "        # Update focal loss with Fuzzy Control System\n",
    "#         self.fuzzyloss.update_hyperparams(losses, y)\n",
    "        return mean_loss\n",
    "    \n",
    "    def configure_optimizers(self):\n",
    "#         return torch.optim.RMSprop(self.parameters(), lr=0.005)\n",
    "#         return torch.optim.SGD(self.model[0].fc.parameters(), lr=0.001, momentum=0.9)\n",
    "        optimizer = torch.optim.Adam(self.model.fc.parameters(), lr=1e-4)\n",
    "        return {\n",
    "            \"optimizer\": optimizer,\n",
    "            \"lr_scheduler\": torch.optim.lr_scheduler.OneCycleLR(\n",
    "                                optimizer ,max_lr=0.01,\n",
    "                                steps_per_epoch=len(dataloaders['train']),\n",
    "                                epochs=EPOCHS)\n",
    "        }"
   ]
  },
  {
   "cell_type": "code",
   "execution_count": null,
   "id": "14c2e3c4",
   "metadata": {
    "scrolled": false
   },
   "outputs": [],
   "source": [
    "model = ResNetCustom(gamma=0., class_sizes=[1591,373])\n",
    "trainer = pl.Trainer(gpus=1, max_epochs=EPOCHS, devices=1, accelerator=\"gpu\")\n",
    "trainer.fit(model, dataloaders['train'])"
   ]
  },
  {
   "cell_type": "code",
   "execution_count": 90,
   "id": "e564303e",
   "metadata": {},
   "outputs": [
    {
     "data": {
      "image/png": "[encoded data removed]",
      "text/plain": [
       "<Figure size 640x480 with 1 Axes>"
      ]
     },
     "metadata": {},
     "output_type": "display_data"
    }
   ],
   "source": [
    "# Plot mean loss\n",
    "x_axis = [i for i in range(200)]\n",
    "\n",
    "splits=49\n",
    "plt.plot(x_axis, [sum(mean_losses[i:i + splits])/splits for i in range(0, len(mean_losses), splits)], 'g', label='Loss')\n",
    "# plt.plot(x_axis, [sum(mean_acc[i:i + splits])/splits for i in range(0, len(mean_acc), splits)], 'b', label='n')\n",
    "plt.plot(x_axis, [sum(mean_f1s[i:i + splits])/splits for i in range(0, len(mean_f1s), splits)], 'r', label='F1-score')\n",
    "plt.title('Training metrics')\n",
    "plt.xlabel('Épocas')\n",
    "# plt.ylabel('Loss media')\n",
    "plt.legend()\n",
    "plt.show()"
   ]
  },
  {
   "cell_type": "code",
   "execution_count": 91,
   "id": "70b9c245",
   "metadata": {},
   "outputs": [],
   "source": [
    "trainer.save_checkpoint(\"saves/resnet50_PlantVillage_focalloss_transfer.pt\")"
   ]
  },
  {
   "cell_type": "markdown",
   "id": "43e46d4c",
   "metadata": {},
   "source": [
    "Now we can reload it w/o training:"
   ]
  },
  {
   "cell_type": "code",
   "execution_count": 92,
   "id": "f6ab7949",
   "metadata": {},
   "outputs": [],
   "source": [
    "def get_prediction(x, model: pl.LightningModule):\n",
    "    model.freeze() # prepares model for predicting\n",
    "    probabilities = torch.softmax(model(x), dim=1)\n",
    "    predicted_class = torch.argmax(probabilities, dim=1)\n",
    "    return predicted_class, probabilities\n",
    "\n",
    "inference_model = ResNetCustom.load_from_checkpoint(\"saves/resnet50_PlantVillage_focalloss_transfer.pt\", map_location=\"cuda\", gamma=0., class_sizes=[1,1])"
   ]
  },
  {
   "cell_type": "code",
   "execution_count": 93,
   "id": "c153411b",
   "metadata": {},
   "outputs": [
    {
     "data": {
      "application/vnd.jupyter.widget-view+json": {
       "model_id": "37311891ab5640a297cf9b62fe879154",
       "version_major": 2,
       "version_minor": 0
      },
      "text/plain": [
       "  0%|          | 0/13 [00:00<?, ?it/s]"
      ]
     },
     "metadata": {},
     "output_type": "display_data"
    }
   ],
   "source": [
    "from tqdm.autonotebook import tqdm\n",
    "\n",
    "true_y, pred_y = [], []\n",
    "for batch in tqdm(iter(dataloaders['val']), total=len(dataloaders['val'])):\n",
    "    x, y = batch\n",
    "    true_y.extend(y)\n",
    "    preds, probs = get_prediction(x, inference_model)\n",
    "    pred_y.extend(preds.cpu())"
   ]
  },
  {
   "cell_type": "code",
   "execution_count": 94,
   "id": "51ce571c",
   "metadata": {},
   "outputs": [
    {
     "name": "stdout",
     "output_type": "stream",
     "text": [
      "              precision    recall  f1-score   support\n",
      "\n",
      "           0      0.978     0.972     0.975       326\n",
      "           1      0.892     0.914     0.902        81\n",
      "\n",
      "    accuracy                          0.961       407\n",
      "   macro avg      0.935     0.943     0.939       407\n",
      "weighted avg      0.961     0.961     0.961       407\n",
      "\n"
     ]
    }
   ],
   "source": [
    "from sklearn.metrics import classification_report\n",
    "print(classification_report(true_y, pred_y, digits=3))"
   ]
  },
  {
   "cell_type": "markdown",
   "id": "12164889",
   "metadata": {},
   "source": [
    "## ResNet50 + transfer learning + 5-Fold"
   ]
  },
  {
   "cell_type": "markdown",
   "id": "4dda0a22",
   "metadata": {},
   "source": [
    "## <span style=\"color:blue\">Plant Village</span>"
   ]
  },
  {
   "cell_type": "code",
   "execution_count": 4,
   "id": "04bac10c",
   "metadata": {},
   "outputs": [
    {
     "name": "stdout",
     "output_type": "stream",
     "text": [
      "Class 0: 1591 / Class 1: 373 / BDeg:  4.265415549597855\n"
     ]
    }
   ],
   "source": [
    "data_transforms = transforms.Compose([\n",
    "    transforms.RandomResizedCrop(224),\n",
    "    transforms.RandomHorizontalFlip(),\n",
    "    transforms.ToTensor(),\n",
    "    transforms.Normalize(mean=[0.485, 0.456, 0.406], std=[0.229, 0.224, 0.225]),\n",
    "])\n",
    "\n",
    "image_dataset = datasets.ImageFolder('../data/PlantVillage/train',data_transforms)\n",
    "\n",
    "# Provocar bias cogiendo un porcentaje de la clase 1 solamente (modificando el porcentaje hasta obtener b_deg deseado)\n",
    "class_0_idxs = torch.nonzero(torch.Tensor(image_dataset.targets)==0).flatten()\n",
    "class_1_idxs = torch.nonzero(torch.Tensor(image_dataset.targets)==1).flatten()\n",
    "# class_1_idxs = class_1_idxs[torch.randperm(len(class_1_idxs))[:int(len(class_1_idxs)*.209)]]\n",
    "\n",
    "c0_s, c1_s = len(class_0_idxs), len(class_1_idxs)\n",
    "b_deg = c0_s / c1_s\n",
    "print('Class 0:', len(class_0_idxs), '/ Class 1:', len(class_1_idxs), '/ BDeg: ', b_deg)\n",
    "\n",
    "class_1_subset = Subset(image_dataset, class_1_idxs)\n",
    "class_0_subset = Subset(image_dataset, class_0_idxs)\n",
    "image_dataset = ConcatDataset([class_0_subset, class_1_subset])"
   ]
  },
  {
   "cell_type": "code",
   "execution_count": 5,
   "id": "aefa2cf4",
   "metadata": {},
   "outputs": [],
   "source": [
    "from torchvision.models import resnet50\n",
    "\n",
    "mean_losses = []\n",
    "mean_acc = []\n",
    "mean_f1s = []\n",
    "\n",
    "class ResNetCustom(pl.LightningModule):\n",
    "    def __init__(self, config, class_sizes):\n",
    "        super().__init__()\n",
    "        self.gamma = config['gamma']\n",
    "        self.class_sizes = class_sizes\n",
    "        self.lr = config['lr']\n",
    "        self.n_classes = len(self.class_sizes)\n",
    "        \n",
    "        # metrics\n",
    "        task = \"multiclass\" if self.n_classes > 2 else \"binary\"\n",
    "        self.accuracy = torchmetrics.Accuracy(task=task, num_classes=self.n_classes)\n",
    "        self.f1score = torchmetrics.F1Score(task=task, num_classes=self.n_classes)\n",
    "        \n",
    "        self.model = resnet50(pretrained=True)\n",
    "        for param in self.model.parameters():\n",
    "            param.requires_grad = False\n",
    "        self.model.fc = nn.Linear(self.model.fc.in_features, self.n_classes, bias=True)\n",
    "            \n",
    "        self.fuzzyloss = FuzzyLoss(gamma=self.gamma, class_sizes=self.class_sizes).cuda()\n",
    "#         self.fuzzyloss = nn.CrossEntropyLoss().cuda()\n",
    "        \n",
    "    def forward(self, x):\n",
    "        return self.model(x)\n",
    "    \n",
    "    def training_step(self, batch, batch_no):\n",
    "        x, y = batch\n",
    "        logits = self(x)\n",
    "        \n",
    "        y_onehot = F.one_hot(y, num_classes=self.n_classes).long()\n",
    "        acc = self.accuracy(logits, y_onehot)\n",
    "        f1s = self.f1score(logits, y_onehot)\n",
    "        mean_acc.append(acc.item())\n",
    "        mean_f1s.append(f1s.item())\n",
    "        \n",
    "        mean_loss, losses = self.fuzzyloss(logits, y)\n",
    "#         mean_loss = self.fuzzyloss(logits, y)\n",
    "        mean_losses.append(mean_loss)\n",
    "        \n",
    "        # Update focal loss with Fuzzy Control System\n",
    "#         self.fuzzyloss.update_hyperparams(losses, y)\n",
    "        return mean_loss\n",
    "    \n",
    "    def configure_optimizers(self):\n",
    "        optimizer = torch.optim.Adam(self.model.fc.parameters(), lr=self.lr)\n",
    "        return {\n",
    "            \"optimizer\": optimizer,\n",
    "            \"lr_scheduler\": torch.optim.lr_scheduler.OneCycleLR(\n",
    "                                optimizer ,max_lr=0.01,\n",
    "                                steps_per_epoch=self.SPE,\n",
    "                                epochs=self.EPOCHS)\n",
    "        }"
   ]
  },
  {
   "cell_type": "code",
   "execution_count": 6,
   "id": "2762076c",
   "metadata": {
    "scrolled": true
   },
   "outputs": [
    {
     "name": "stdout",
     "output_type": "stream",
     "text": [
      "------------fold nº 0----------------------\n"
     ]
    },
    {
     "name": "stderr",
     "output_type": "stream",
     "text": [
      "C:\\Users\\laraquij\\Anaconda3\\envs\\tfg_dani\\lib\\site-packages\\torchvision\\models\\_utils.py:209: UserWarning: The parameter 'pretrained' is deprecated since 0.13 and may be removed in the future, please use 'weights' instead.\n",
      "  f\"The parameter '{pretrained_param}' is deprecated since 0.13 and may be removed in the future, \"\n",
      "C:\\Users\\laraquij\\Anaconda3\\envs\\tfg_dani\\lib\\site-packages\\torchvision\\models\\_utils.py:223: UserWarning: Arguments other than a weight enum or `None` for 'weights' are deprecated since 0.13 and may be removed in the future. The current behavior is equivalent to passing `weights=ResNet50_Weights.IMAGENET1K_V1`. You can also use `weights=ResNet50_Weights.DEFAULT` to get the most up-to-date weights.\n",
      "  warnings.warn(msg)\n",
      "GPU available: True (cuda), used: True\n",
      "TPU available: False, using: 0 TPU cores\n",
      "IPU available: False, using: 0 IPUs\n",
      "HPU available: False, using: 0 HPUs\n",
      "C:\\Users\\laraquij\\Anaconda3\\envs\\tfg_dani\\lib\\site-packages\\pytorch_lightning\\trainer\\connectors\\logger_connector\\logger_connector.py:68: UserWarning: Starting from v1.9.0, `tensorboardX` has been removed as a dependency of the `pytorch_lightning` package, due to potential conflicts with other packages in the ML ecosystem. For this reason, `logger=True` will use `CSVLogger` as the default logger, unless the `tensorboard` or `tensorboardX` packages are found. Please `pip install lightning[extra]` or one of them to enable TensorBoard support by default\n",
      "  \"Starting from v1.9.0, `tensorboardX` has been removed as a dependency of the `pytorch_lightning`\"\n",
      "LOCAL_RANK: 0 - CUDA_VISIBLE_DEVICES: [0]\n",
      "\n",
      "  | Name      | Type           | Params\n",
      "---------------------------------------------\n",
      "0 | accuracy  | BinaryAccuracy | 0     \n",
      "1 | f1score   | BinaryF1Score  | 0     \n",
      "2 | model     | ResNet         | 23.5 M\n",
      "3 | fuzzyloss | FuzzyLoss      | 0     \n",
      "---------------------------------------------\n",
      "4.1 K     Trainable params\n",
      "23.5 M    Non-trainable params\n",
      "23.5 M    Total params\n",
      "94.049    Total estimated model params size (MB)\n",
      "C:\\Users\\laraquij\\Anaconda3\\envs\\tfg_dani\\lib\\site-packages\\pytorch_lightning\\trainer\\connectors\\data_connector.py:229: PossibleUserWarning: The dataloader, train_dataloader, does not have many workers which may be a bottleneck. Consider increasing the value of the `num_workers` argument` (try 8 which is the number of cpus on this machine) in the `DataLoader` init to improve performance.\n",
      "  category=PossibleUserWarning,\n"
     ]
    },
    {
     "name": "stdout",
     "output_type": "stream",
     "text": [
      "Epoch 9: 100%|██████████| 158/158 [00:54<00:00,  2.88it/s, loss=0.0211, v_num=304]"
     ]
    },
    {
     "name": "stderr",
     "output_type": "stream",
     "text": [
      "`Trainer.fit` stopped: `max_epochs=10` reached.\n"
     ]
    },
    {
     "name": "stdout",
     "output_type": "stream",
     "text": [
      "Epoch 9: 100%|██████████| 158/158 [00:55<00:00,  2.86it/s, loss=0.0211, v_num=304]\n"
     ]
    },
    {
     "name": "stderr",
     "output_type": "stream",
     "text": [
      "100%|██████████| 40/40 [00:44<00:00,  1.10s/it]\n",
      "C:\\Users\\laraquij\\Anaconda3\\envs\\tfg_dani\\lib\\site-packages\\torchvision\\models\\_utils.py:209: UserWarning: The parameter 'pretrained' is deprecated since 0.13 and may be removed in the future, please use 'weights' instead.\n",
      "  f\"The parameter '{pretrained_param}' is deprecated since 0.13 and may be removed in the future, \"\n",
      "C:\\Users\\laraquij\\Anaconda3\\envs\\tfg_dani\\lib\\site-packages\\torchvision\\models\\_utils.py:223: UserWarning: Arguments other than a weight enum or `None` for 'weights' are deprecated since 0.13 and may be removed in the future. The current behavior is equivalent to passing `weights=ResNet50_Weights.IMAGENET1K_V1`. You can also use `weights=ResNet50_Weights.DEFAULT` to get the most up-to-date weights.\n",
      "  warnings.warn(msg)\n"
     ]
    },
    {
     "name": "stdout",
     "output_type": "stream",
     "text": [
      "------------fold nº 1----------------------\n"
     ]
    },
    {
     "name": "stderr",
     "output_type": "stream",
     "text": [
      "GPU available: True (cuda), used: True\n",
      "TPU available: False, using: 0 TPU cores\n",
      "IPU available: False, using: 0 IPUs\n",
      "HPU available: False, using: 0 HPUs\n",
      "LOCAL_RANK: 0 - CUDA_VISIBLE_DEVICES: [0]\n",
      "\n",
      "  | Name      | Type           | Params\n",
      "---------------------------------------------\n",
      "0 | accuracy  | BinaryAccuracy | 0     \n",
      "1 | f1score   | BinaryF1Score  | 0     \n",
      "2 | model     | ResNet         | 23.5 M\n",
      "3 | fuzzyloss | FuzzyLoss      | 0     \n",
      "---------------------------------------------\n",
      "4.1 K     Trainable params\n",
      "23.5 M    Non-trainable params\n",
      "23.5 M    Total params\n",
      "94.049    Total estimated model params size (MB)\n",
      "C:\\Users\\laraquij\\Anaconda3\\envs\\tfg_dani\\lib\\site-packages\\pytorch_lightning\\trainer\\connectors\\data_connector.py:229: PossibleUserWarning: The dataloader, train_dataloader, does not have many workers which may be a bottleneck. Consider increasing the value of the `num_workers` argument` (try 8 which is the number of cpus on this machine) in the `DataLoader` init to improve performance.\n",
      "  category=PossibleUserWarning,\n"
     ]
    },
    {
     "name": "stdout",
     "output_type": "stream",
     "text": [
      "Epoch 9: 100%|██████████| 158/158 [00:54<00:00,  2.88it/s, loss=0.0305, v_num=305]"
     ]
    },
    {
     "name": "stderr",
     "output_type": "stream",
     "text": [
      "`Trainer.fit` stopped: `max_epochs=10` reached.\n"
     ]
    },
    {
     "name": "stdout",
     "output_type": "stream",
     "text": [
      "Epoch 9: 100%|██████████| 158/158 [00:55<00:00,  2.85it/s, loss=0.0305, v_num=305]\n"
     ]
    },
    {
     "name": "stderr",
     "output_type": "stream",
     "text": [
      "100%|██████████| 40/40 [00:43<00:00,  1.08s/it]\n",
      "C:\\Users\\laraquij\\Anaconda3\\envs\\tfg_dani\\lib\\site-packages\\torchvision\\models\\_utils.py:209: UserWarning: The parameter 'pretrained' is deprecated since 0.13 and may be removed in the future, please use 'weights' instead.\n",
      "  f\"The parameter '{pretrained_param}' is deprecated since 0.13 and may be removed in the future, \"\n",
      "C:\\Users\\laraquij\\Anaconda3\\envs\\tfg_dani\\lib\\site-packages\\torchvision\\models\\_utils.py:223: UserWarning: Arguments other than a weight enum or `None` for 'weights' are deprecated since 0.13 and may be removed in the future. The current behavior is equivalent to passing `weights=ResNet50_Weights.IMAGENET1K_V1`. You can also use `weights=ResNet50_Weights.DEFAULT` to get the most up-to-date weights.\n",
      "  warnings.warn(msg)\n"
     ]
    },
    {
     "name": "stdout",
     "output_type": "stream",
     "text": [
      "------------fold nº 2----------------------\n"
     ]
    },
    {
     "name": "stderr",
     "output_type": "stream",
     "text": [
      "GPU available: True (cuda), used: True\n",
      "TPU available: False, using: 0 TPU cores\n",
      "IPU available: False, using: 0 IPUs\n",
      "HPU available: False, using: 0 HPUs\n",
      "LOCAL_RANK: 0 - CUDA_VISIBLE_DEVICES: [0]\n",
      "\n",
      "  | Name      | Type           | Params\n",
      "---------------------------------------------\n",
      "0 | accuracy  | BinaryAccuracy | 0     \n",
      "1 | f1score   | BinaryF1Score  | 0     \n",
      "2 | model     | ResNet         | 23.5 M\n",
      "3 | fuzzyloss | FuzzyLoss      | 0     \n",
      "---------------------------------------------\n",
      "4.1 K     Trainable params\n",
      "23.5 M    Non-trainable params\n",
      "23.5 M    Total params\n",
      "94.049    Total estimated model params size (MB)\n",
      "C:\\Users\\laraquij\\Anaconda3\\envs\\tfg_dani\\lib\\site-packages\\pytorch_lightning\\trainer\\connectors\\data_connector.py:229: PossibleUserWarning: The dataloader, train_dataloader, does not have many workers which may be a bottleneck. Consider increasing the value of the `num_workers` argument` (try 8 which is the number of cpus on this machine) in the `DataLoader` init to improve performance.\n",
      "  category=PossibleUserWarning,\n"
     ]
    },
    {
     "name": "stdout",
     "output_type": "stream",
     "text": [
      "Epoch 9: 100%|██████████| 158/158 [00:55<00:00,  2.87it/s, loss=0.0468, v_num=306]"
     ]
    },
    {
     "name": "stderr",
     "output_type": "stream",
     "text": [
      "`Trainer.fit` stopped: `max_epochs=10` reached.\n"
     ]
    },
    {
     "name": "stdout",
     "output_type": "stream",
     "text": [
      "Epoch 9: 100%|██████████| 158/158 [00:55<00:00,  2.85it/s, loss=0.0468, v_num=306]\n"
     ]
    },
    {
     "name": "stderr",
     "output_type": "stream",
     "text": [
      "100%|██████████| 40/40 [00:44<00:00,  1.10s/it]\n",
      "C:\\Users\\laraquij\\Anaconda3\\envs\\tfg_dani\\lib\\site-packages\\torchvision\\models\\_utils.py:209: UserWarning: The parameter 'pretrained' is deprecated since 0.13 and may be removed in the future, please use 'weights' instead.\n",
      "  f\"The parameter '{pretrained_param}' is deprecated since 0.13 and may be removed in the future, \"\n",
      "C:\\Users\\laraquij\\Anaconda3\\envs\\tfg_dani\\lib\\site-packages\\torchvision\\models\\_utils.py:223: UserWarning: Arguments other than a weight enum or `None` for 'weights' are deprecated since 0.13 and may be removed in the future. The current behavior is equivalent to passing `weights=ResNet50_Weights.IMAGENET1K_V1`. You can also use `weights=ResNet50_Weights.DEFAULT` to get the most up-to-date weights.\n",
      "  warnings.warn(msg)\n"
     ]
    },
    {
     "name": "stdout",
     "output_type": "stream",
     "text": [
      "------------fold nº 3----------------------\n"
     ]
    },
    {
     "name": "stderr",
     "output_type": "stream",
     "text": [
      "GPU available: True (cuda), used: True\n",
      "TPU available: False, using: 0 TPU cores\n",
      "IPU available: False, using: 0 IPUs\n",
      "HPU available: False, using: 0 HPUs\n",
      "LOCAL_RANK: 0 - CUDA_VISIBLE_DEVICES: [0]\n",
      "\n",
      "  | Name      | Type           | Params\n",
      "---------------------------------------------\n",
      "0 | accuracy  | BinaryAccuracy | 0     \n",
      "1 | f1score   | BinaryF1Score  | 0     \n",
      "2 | model     | ResNet         | 23.5 M\n",
      "3 | fuzzyloss | FuzzyLoss      | 0     \n",
      "---------------------------------------------\n",
      "4.1 K     Trainable params\n",
      "23.5 M    Non-trainable params\n",
      "23.5 M    Total params\n",
      "94.049    Total estimated model params size (MB)\n",
      "C:\\Users\\laraquij\\Anaconda3\\envs\\tfg_dani\\lib\\site-packages\\pytorch_lightning\\trainer\\connectors\\data_connector.py:229: PossibleUserWarning: The dataloader, train_dataloader, does not have many workers which may be a bottleneck. Consider increasing the value of the `num_workers` argument` (try 8 which is the number of cpus on this machine) in the `DataLoader` init to improve performance.\n",
      "  category=PossibleUserWarning,\n"
     ]
    },
    {
     "name": "stdout",
     "output_type": "stream",
     "text": [
      "Epoch 9: 100%|██████████| 158/158 [00:55<00:00,  2.87it/s, loss=0.0497, v_num=307]"
     ]
    },
    {
     "name": "stderr",
     "output_type": "stream",
     "text": [
      "`Trainer.fit` stopped: `max_epochs=10` reached.\n"
     ]
    },
    {
     "name": "stdout",
     "output_type": "stream",
     "text": [
      "Epoch 9: 100%|██████████| 158/158 [00:55<00:00,  2.84it/s, loss=0.0497, v_num=307]\n"
     ]
    },
    {
     "name": "stderr",
     "output_type": "stream",
     "text": [
      "100%|██████████| 40/40 [00:43<00:00,  1.09s/it]\n",
      "C:\\Users\\laraquij\\Anaconda3\\envs\\tfg_dani\\lib\\site-packages\\torchvision\\models\\_utils.py:209: UserWarning: The parameter 'pretrained' is deprecated since 0.13 and may be removed in the future, please use 'weights' instead.\n",
      "  f\"The parameter '{pretrained_param}' is deprecated since 0.13 and may be removed in the future, \"\n",
      "C:\\Users\\laraquij\\Anaconda3\\envs\\tfg_dani\\lib\\site-packages\\torchvision\\models\\_utils.py:223: UserWarning: Arguments other than a weight enum or `None` for 'weights' are deprecated since 0.13 and may be removed in the future. The current behavior is equivalent to passing `weights=ResNet50_Weights.IMAGENET1K_V1`. You can also use `weights=ResNet50_Weights.DEFAULT` to get the most up-to-date weights.\n",
      "  warnings.warn(msg)\n"
     ]
    },
    {
     "name": "stdout",
     "output_type": "stream",
     "text": [
      "------------fold nº 4----------------------\n"
     ]
    },
    {
     "name": "stderr",
     "output_type": "stream",
     "text": [
      "GPU available: True (cuda), used: True\n",
      "TPU available: False, using: 0 TPU cores\n",
      "IPU available: False, using: 0 IPUs\n",
      "HPU available: False, using: 0 HPUs\n",
      "LOCAL_RANK: 0 - CUDA_VISIBLE_DEVICES: [0]\n",
      "\n",
      "  | Name      | Type           | Params\n",
      "---------------------------------------------\n",
      "0 | accuracy  | BinaryAccuracy | 0     \n",
      "1 | f1score   | BinaryF1Score  | 0     \n",
      "2 | model     | ResNet         | 23.5 M\n",
      "3 | fuzzyloss | FuzzyLoss      | 0     \n",
      "---------------------------------------------\n",
      "4.1 K     Trainable params\n",
      "23.5 M    Non-trainable params\n",
      "23.5 M    Total params\n",
      "94.049    Total estimated model params size (MB)\n",
      "C:\\Users\\laraquij\\Anaconda3\\envs\\tfg_dani\\lib\\site-packages\\pytorch_lightning\\trainer\\connectors\\data_connector.py:229: PossibleUserWarning: The dataloader, train_dataloader, does not have many workers which may be a bottleneck. Consider increasing the value of the `num_workers` argument` (try 8 which is the number of cpus on this machine) in the `DataLoader` init to improve performance.\n",
      "  category=PossibleUserWarning,\n"
     ]
    },
    {
     "name": "stdout",
     "output_type": "stream",
     "text": [
      "Epoch 9: 100%|██████████| 158/158 [00:54<00:00,  2.88it/s, loss=0.02, v_num=308]  "
     ]
    },
    {
     "name": "stderr",
     "output_type": "stream",
     "text": [
      "`Trainer.fit` stopped: `max_epochs=10` reached.\n"
     ]
    },
    {
     "name": "stdout",
     "output_type": "stream",
     "text": [
      "Epoch 9: 100%|██████████| 158/158 [00:55<00:00,  2.85it/s, loss=0.02, v_num=308]\n"
     ]
    },
    {
     "name": "stderr",
     "output_type": "stream",
     "text": [
      "100%|██████████| 40/40 [00:43<00:00,  1.08s/it]\n",
      "C:\\Users\\laraquij\\Anaconda3\\envs\\tfg_dani\\lib\\site-packages\\torchvision\\models\\_utils.py:209: UserWarning: The parameter 'pretrained' is deprecated since 0.13 and may be removed in the future, please use 'weights' instead.\n",
      "  f\"The parameter '{pretrained_param}' is deprecated since 0.13 and may be removed in the future, \"\n",
      "C:\\Users\\laraquij\\Anaconda3\\envs\\tfg_dani\\lib\\site-packages\\torchvision\\models\\_utils.py:223: UserWarning: Arguments other than a weight enum or `None` for 'weights' are deprecated since 0.13 and may be removed in the future. The current behavior is equivalent to passing `weights=ResNet50_Weights.IMAGENET1K_V1`. You can also use `weights=ResNet50_Weights.DEFAULT` to get the most up-to-date weights.\n",
      "  warnings.warn(msg)\n"
     ]
    },
    {
     "name": "stdout",
     "output_type": "stream",
     "text": [
      "------------fold nº 0----------------------\n"
     ]
    },
    {
     "name": "stderr",
     "output_type": "stream",
     "text": [
      "GPU available: True (cuda), used: True\n",
      "TPU available: False, using: 0 TPU cores\n",
      "IPU available: False, using: 0 IPUs\n",
      "HPU available: False, using: 0 HPUs\n",
      "LOCAL_RANK: 0 - CUDA_VISIBLE_DEVICES: [0]\n",
      "\n",
      "  | Name      | Type           | Params\n",
      "---------------------------------------------\n",
      "0 | accuracy  | BinaryAccuracy | 0     \n",
      "1 | f1score   | BinaryF1Score  | 0     \n",
      "2 | model     | ResNet         | 23.5 M\n",
      "3 | fuzzyloss | FuzzyLoss      | 0     \n",
      "---------------------------------------------\n",
      "4.1 K     Trainable params\n",
      "23.5 M    Non-trainable params\n",
      "23.5 M    Total params\n",
      "94.049    Total estimated model params size (MB)\n",
      "C:\\Users\\laraquij\\Anaconda3\\envs\\tfg_dani\\lib\\site-packages\\pytorch_lightning\\trainer\\connectors\\data_connector.py:229: PossibleUserWarning: The dataloader, train_dataloader, does not have many workers which may be a bottleneck. Consider increasing the value of the `num_workers` argument` (try 8 which is the number of cpus on this machine) in the `DataLoader` init to improve performance.\n",
      "  category=PossibleUserWarning,\n"
     ]
    },
    {
     "name": "stdout",
     "output_type": "stream",
     "text": [
      "Epoch 9: 100%|██████████| 158/158 [00:55<00:00,  2.86it/s, loss=0.00978, v_num=309]"
     ]
    },
    {
     "name": "stderr",
     "output_type": "stream",
     "text": [
      "`Trainer.fit` stopped: `max_epochs=10` reached.\n"
     ]
    },
    {
     "name": "stdout",
     "output_type": "stream",
     "text": [
      "Epoch 9: 100%|██████████| 158/158 [00:55<00:00,  2.84it/s, loss=0.00978, v_num=309]\n"
     ]
    },
    {
     "name": "stderr",
     "output_type": "stream",
     "text": [
      "100%|██████████| 40/40 [00:43<00:00,  1.09s/it]\n",
      "C:\\Users\\laraquij\\Anaconda3\\envs\\tfg_dani\\lib\\site-packages\\torchvision\\models\\_utils.py:209: UserWarning: The parameter 'pretrained' is deprecated since 0.13 and may be removed in the future, please use 'weights' instead.\n",
      "  f\"The parameter '{pretrained_param}' is deprecated since 0.13 and may be removed in the future, \"\n",
      "C:\\Users\\laraquij\\Anaconda3\\envs\\tfg_dani\\lib\\site-packages\\torchvision\\models\\_utils.py:223: UserWarning: Arguments other than a weight enum or `None` for 'weights' are deprecated since 0.13 and may be removed in the future. The current behavior is equivalent to passing `weights=ResNet50_Weights.IMAGENET1K_V1`. You can also use `weights=ResNet50_Weights.DEFAULT` to get the most up-to-date weights.\n",
      "  warnings.warn(msg)\n"
     ]
    },
    {
     "name": "stdout",
     "output_type": "stream",
     "text": [
      "------------fold nº 1----------------------\n"
     ]
    },
    {
     "name": "stderr",
     "output_type": "stream",
     "text": [
      "GPU available: True (cuda), used: True\n",
      "TPU available: False, using: 0 TPU cores\n",
      "IPU available: False, using: 0 IPUs\n",
      "HPU available: False, using: 0 HPUs\n",
      "LOCAL_RANK: 0 - CUDA_VISIBLE_DEVICES: [0]\n",
      "\n",
      "  | Name      | Type           | Params\n",
      "---------------------------------------------\n",
      "0 | accuracy  | BinaryAccuracy | 0     \n",
      "1 | f1score   | BinaryF1Score  | 0     \n",
      "2 | model     | ResNet         | 23.5 M\n",
      "3 | fuzzyloss | FuzzyLoss      | 0     \n",
      "---------------------------------------------\n",
      "4.1 K     Trainable params\n",
      "23.5 M    Non-trainable params\n",
      "23.5 M    Total params\n",
      "94.049    Total estimated model params size (MB)\n",
      "C:\\Users\\laraquij\\Anaconda3\\envs\\tfg_dani\\lib\\site-packages\\pytorch_lightning\\trainer\\connectors\\data_connector.py:229: PossibleUserWarning: The dataloader, train_dataloader, does not have many workers which may be a bottleneck. Consider increasing the value of the `num_workers` argument` (try 8 which is the number of cpus on this machine) in the `DataLoader` init to improve performance.\n",
      "  category=PossibleUserWarning,\n"
     ]
    },
    {
     "name": "stdout",
     "output_type": "stream",
     "text": [
      "Epoch 9: 100%|██████████| 158/158 [00:55<00:00,  2.86it/s, loss=0.00951, v_num=310]"
     ]
    },
    {
     "name": "stderr",
     "output_type": "stream",
     "text": [
      "`Trainer.fit` stopped: `max_epochs=10` reached.\n"
     ]
    },
    {
     "name": "stdout",
     "output_type": "stream",
     "text": [
      "Epoch 9: 100%|██████████| 158/158 [00:55<00:00,  2.84it/s, loss=0.00951, v_num=310]\n"
     ]
    },
    {
     "name": "stderr",
     "output_type": "stream",
     "text": [
      "100%|██████████| 40/40 [00:43<00:00,  1.09s/it]\n",
      "C:\\Users\\laraquij\\Anaconda3\\envs\\tfg_dani\\lib\\site-packages\\torchvision\\models\\_utils.py:209: UserWarning: The parameter 'pretrained' is deprecated since 0.13 and may be removed in the future, please use 'weights' instead.\n",
      "  f\"The parameter '{pretrained_param}' is deprecated since 0.13 and may be removed in the future, \"\n",
      "C:\\Users\\laraquij\\Anaconda3\\envs\\tfg_dani\\lib\\site-packages\\torchvision\\models\\_utils.py:223: UserWarning: Arguments other than a weight enum or `None` for 'weights' are deprecated since 0.13 and may be removed in the future. The current behavior is equivalent to passing `weights=ResNet50_Weights.IMAGENET1K_V1`. You can also use `weights=ResNet50_Weights.DEFAULT` to get the most up-to-date weights.\n",
      "  warnings.warn(msg)\n"
     ]
    },
    {
     "name": "stdout",
     "output_type": "stream",
     "text": [
      "------------fold nº 2----------------------\n"
     ]
    },
    {
     "name": "stderr",
     "output_type": "stream",
     "text": [
      "GPU available: True (cuda), used: True\n",
      "TPU available: False, using: 0 TPU cores\n",
      "IPU available: False, using: 0 IPUs\n",
      "HPU available: False, using: 0 HPUs\n",
      "LOCAL_RANK: 0 - CUDA_VISIBLE_DEVICES: [0]\n",
      "\n",
      "  | Name      | Type           | Params\n",
      "---------------------------------------------\n",
      "0 | accuracy  | BinaryAccuracy | 0     \n",
      "1 | f1score   | BinaryF1Score  | 0     \n",
      "2 | model     | ResNet         | 23.5 M\n",
      "3 | fuzzyloss | FuzzyLoss      | 0     \n",
      "---------------------------------------------\n",
      "4.1 K     Trainable params\n",
      "23.5 M    Non-trainable params\n",
      "23.5 M    Total params\n",
      "94.049    Total estimated model params size (MB)\n",
      "C:\\Users\\laraquij\\Anaconda3\\envs\\tfg_dani\\lib\\site-packages\\pytorch_lightning\\trainer\\connectors\\data_connector.py:229: PossibleUserWarning: The dataloader, train_dataloader, does not have many workers which may be a bottleneck. Consider increasing the value of the `num_workers` argument` (try 8 which is the number of cpus on this machine) in the `DataLoader` init to improve performance.\n",
      "  category=PossibleUserWarning,\n"
     ]
    },
    {
     "name": "stdout",
     "output_type": "stream",
     "text": [
      "Epoch 9: 100%|██████████| 158/158 [00:55<00:00,  2.86it/s, loss=0.00553, v_num=311]"
     ]
    },
    {
     "name": "stderr",
     "output_type": "stream",
     "text": [
      "`Trainer.fit` stopped: `max_epochs=10` reached.\n"
     ]
    },
    {
     "name": "stdout",
     "output_type": "stream",
     "text": [
      "Epoch 9: 100%|██████████| 158/158 [00:55<00:00,  2.84it/s, loss=0.00553, v_num=311]\n"
     ]
    },
    {
     "name": "stderr",
     "output_type": "stream",
     "text": [
      "100%|██████████| 40/40 [00:43<00:00,  1.08s/it]\n",
      "C:\\Users\\laraquij\\Anaconda3\\envs\\tfg_dani\\lib\\site-packages\\torchvision\\models\\_utils.py:209: UserWarning: The parameter 'pretrained' is deprecated since 0.13 and may be removed in the future, please use 'weights' instead.\n",
      "  f\"The parameter '{pretrained_param}' is deprecated since 0.13 and may be removed in the future, \"\n",
      "C:\\Users\\laraquij\\Anaconda3\\envs\\tfg_dani\\lib\\site-packages\\torchvision\\models\\_utils.py:223: UserWarning: Arguments other than a weight enum or `None` for 'weights' are deprecated since 0.13 and may be removed in the future. The current behavior is equivalent to passing `weights=ResNet50_Weights.IMAGENET1K_V1`. You can also use `weights=ResNet50_Weights.DEFAULT` to get the most up-to-date weights.\n",
      "  warnings.warn(msg)\n"
     ]
    },
    {
     "name": "stdout",
     "output_type": "stream",
     "text": [
      "------------fold nº 3----------------------\n"
     ]
    },
    {
     "name": "stderr",
     "output_type": "stream",
     "text": [
      "GPU available: True (cuda), used: True\n",
      "TPU available: False, using: 0 TPU cores\n",
      "IPU available: False, using: 0 IPUs\n",
      "HPU available: False, using: 0 HPUs\n",
      "LOCAL_RANK: 0 - CUDA_VISIBLE_DEVICES: [0]\n",
      "\n",
      "  | Name      | Type           | Params\n",
      "---------------------------------------------\n",
      "0 | accuracy  | BinaryAccuracy | 0     \n",
      "1 | f1score   | BinaryF1Score  | 0     \n",
      "2 | model     | ResNet         | 23.5 M\n",
      "3 | fuzzyloss | FuzzyLoss      | 0     \n",
      "---------------------------------------------\n",
      "4.1 K     Trainable params\n",
      "23.5 M    Non-trainable params\n",
      "23.5 M    Total params\n",
      "94.049    Total estimated model params size (MB)\n",
      "C:\\Users\\laraquij\\Anaconda3\\envs\\tfg_dani\\lib\\site-packages\\pytorch_lightning\\trainer\\connectors\\data_connector.py:229: PossibleUserWarning: The dataloader, train_dataloader, does not have many workers which may be a bottleneck. Consider increasing the value of the `num_workers` argument` (try 8 which is the number of cpus on this machine) in the `DataLoader` init to improve performance.\n",
      "  category=PossibleUserWarning,\n"
     ]
    },
    {
     "name": "stdout",
     "output_type": "stream",
     "text": [
      "Epoch 9: 100%|██████████| 158/158 [00:55<00:00,  2.87it/s, loss=0.0102, v_num=312] "
     ]
    },
    {
     "name": "stderr",
     "output_type": "stream",
     "text": [
      "`Trainer.fit` stopped: `max_epochs=10` reached.\n"
     ]
    },
    {
     "name": "stdout",
     "output_type": "stream",
     "text": [
      "Epoch 9: 100%|██████████| 158/158 [00:55<00:00,  2.84it/s, loss=0.0102, v_num=312]\n"
     ]
    },
    {
     "name": "stderr",
     "output_type": "stream",
     "text": [
      "100%|██████████| 40/40 [00:43<00:00,  1.08s/it]\n",
      "C:\\Users\\laraquij\\Anaconda3\\envs\\tfg_dani\\lib\\site-packages\\torchvision\\models\\_utils.py:209: UserWarning: The parameter 'pretrained' is deprecated since 0.13 and may be removed in the future, please use 'weights' instead.\n",
      "  f\"The parameter '{pretrained_param}' is deprecated since 0.13 and may be removed in the future, \"\n",
      "C:\\Users\\laraquij\\Anaconda3\\envs\\tfg_dani\\lib\\site-packages\\torchvision\\models\\_utils.py:223: UserWarning: Arguments other than a weight enum or `None` for 'weights' are deprecated since 0.13 and may be removed in the future. The current behavior is equivalent to passing `weights=ResNet50_Weights.IMAGENET1K_V1`. You can also use `weights=ResNet50_Weights.DEFAULT` to get the most up-to-date weights.\n",
      "  warnings.warn(msg)\n"
     ]
    },
    {
     "name": "stdout",
     "output_type": "stream",
     "text": [
      "------------fold nº 4----------------------\n"
     ]
    },
    {
     "name": "stderr",
     "output_type": "stream",
     "text": [
      "GPU available: True (cuda), used: True\n",
      "TPU available: False, using: 0 TPU cores\n",
      "IPU available: False, using: 0 IPUs\n",
      "HPU available: False, using: 0 HPUs\n",
      "LOCAL_RANK: 0 - CUDA_VISIBLE_DEVICES: [0]\n",
      "\n",
      "  | Name      | Type           | Params\n",
      "---------------------------------------------\n",
      "0 | accuracy  | BinaryAccuracy | 0     \n",
      "1 | f1score   | BinaryF1Score  | 0     \n",
      "2 | model     | ResNet         | 23.5 M\n",
      "3 | fuzzyloss | FuzzyLoss      | 0     \n",
      "---------------------------------------------\n",
      "4.1 K     Trainable params\n",
      "23.5 M    Non-trainable params\n",
      "23.5 M    Total params\n",
      "94.049    Total estimated model params size (MB)\n",
      "C:\\Users\\laraquij\\Anaconda3\\envs\\tfg_dani\\lib\\site-packages\\pytorch_lightning\\trainer\\connectors\\data_connector.py:229: PossibleUserWarning: The dataloader, train_dataloader, does not have many workers which may be a bottleneck. Consider increasing the value of the `num_workers` argument` (try 8 which is the number of cpus on this machine) in the `DataLoader` init to improve performance.\n",
      "  category=PossibleUserWarning,\n"
     ]
    },
    {
     "name": "stdout",
     "output_type": "stream",
     "text": [
      "Epoch 9: 100%|██████████| 158/158 [00:55<00:00,  2.85it/s, loss=0.0321, v_num=313] "
     ]
    },
    {
     "name": "stderr",
     "output_type": "stream",
     "text": [
      "`Trainer.fit` stopped: `max_epochs=10` reached.\n"
     ]
    },
    {
     "name": "stdout",
     "output_type": "stream",
     "text": [
      "Epoch 9: 100%|██████████| 158/158 [00:55<00:00,  2.82it/s, loss=0.0321, v_num=313]\n"
     ]
    },
    {
     "name": "stderr",
     "output_type": "stream",
     "text": [
      "100%|██████████| 40/40 [00:42<00:00,  1.07s/it]\n",
      "C:\\Users\\laraquij\\Anaconda3\\envs\\tfg_dani\\lib\\site-packages\\torchvision\\models\\_utils.py:209: UserWarning: The parameter 'pretrained' is deprecated since 0.13 and may be removed in the future, please use 'weights' instead.\n",
      "  f\"The parameter '{pretrained_param}' is deprecated since 0.13 and may be removed in the future, \"\n",
      "C:\\Users\\laraquij\\Anaconda3\\envs\\tfg_dani\\lib\\site-packages\\torchvision\\models\\_utils.py:223: UserWarning: Arguments other than a weight enum or `None` for 'weights' are deprecated since 0.13 and may be removed in the future. The current behavior is equivalent to passing `weights=ResNet50_Weights.IMAGENET1K_V1`. You can also use `weights=ResNet50_Weights.DEFAULT` to get the most up-to-date weights.\n",
      "  warnings.warn(msg)\n"
     ]
    },
    {
     "name": "stdout",
     "output_type": "stream",
     "text": [
      "------------fold nº 0----------------------\n"
     ]
    },
    {
     "name": "stderr",
     "output_type": "stream",
     "text": [
      "GPU available: True (cuda), used: True\n",
      "TPU available: False, using: 0 TPU cores\n",
      "IPU available: False, using: 0 IPUs\n",
      "HPU available: False, using: 0 HPUs\n",
      "LOCAL_RANK: 0 - CUDA_VISIBLE_DEVICES: [0]\n",
      "\n",
      "  | Name      | Type           | Params\n",
      "---------------------------------------------\n",
      "0 | accuracy  | BinaryAccuracy | 0     \n",
      "1 | f1score   | BinaryF1Score  | 0     \n",
      "2 | model     | ResNet         | 23.5 M\n",
      "3 | fuzzyloss | FuzzyLoss      | 0     \n",
      "---------------------------------------------\n",
      "4.1 K     Trainable params\n",
      "23.5 M    Non-trainable params\n",
      "23.5 M    Total params\n",
      "94.049    Total estimated model params size (MB)\n",
      "C:\\Users\\laraquij\\Anaconda3\\envs\\tfg_dani\\lib\\site-packages\\pytorch_lightning\\trainer\\connectors\\data_connector.py:229: PossibleUserWarning: The dataloader, train_dataloader, does not have many workers which may be a bottleneck. Consider increasing the value of the `num_workers` argument` (try 8 which is the number of cpus on this machine) in the `DataLoader` init to improve performance.\n",
      "  category=PossibleUserWarning,\n"
     ]
    },
    {
     "name": "stdout",
     "output_type": "stream",
     "text": [
      "Epoch 9: 100%|██████████| 158/158 [00:55<00:00,  2.86it/s, loss=0.00281, v_num=314] "
     ]
    },
    {
     "name": "stderr",
     "output_type": "stream",
     "text": [
      "`Trainer.fit` stopped: `max_epochs=10` reached.\n"
     ]
    },
    {
     "name": "stdout",
     "output_type": "stream",
     "text": [
      "Epoch 9: 100%|██████████| 158/158 [00:55<00:00,  2.84it/s, loss=0.00281, v_num=314]\n"
     ]
    },
    {
     "name": "stderr",
     "output_type": "stream",
     "text": [
      "100%|██████████| 40/40 [00:42<00:00,  1.07s/it]\n",
      "C:\\Users\\laraquij\\Anaconda3\\envs\\tfg_dani\\lib\\site-packages\\torchvision\\models\\_utils.py:209: UserWarning: The parameter 'pretrained' is deprecated since 0.13 and may be removed in the future, please use 'weights' instead.\n",
      "  f\"The parameter '{pretrained_param}' is deprecated since 0.13 and may be removed in the future, \"\n",
      "C:\\Users\\laraquij\\Anaconda3\\envs\\tfg_dani\\lib\\site-packages\\torchvision\\models\\_utils.py:223: UserWarning: Arguments other than a weight enum or `None` for 'weights' are deprecated since 0.13 and may be removed in the future. The current behavior is equivalent to passing `weights=ResNet50_Weights.IMAGENET1K_V1`. You can also use `weights=ResNet50_Weights.DEFAULT` to get the most up-to-date weights.\n",
      "  warnings.warn(msg)\n"
     ]
    },
    {
     "name": "stdout",
     "output_type": "stream",
     "text": [
      "------------fold nº 1----------------------\n"
     ]
    },
    {
     "name": "stderr",
     "output_type": "stream",
     "text": [
      "GPU available: True (cuda), used: True\n",
      "TPU available: False, using: 0 TPU cores\n",
      "IPU available: False, using: 0 IPUs\n",
      "HPU available: False, using: 0 HPUs\n",
      "LOCAL_RANK: 0 - CUDA_VISIBLE_DEVICES: [0]\n",
      "\n",
      "  | Name      | Type           | Params\n",
      "---------------------------------------------\n",
      "0 | accuracy  | BinaryAccuracy | 0     \n",
      "1 | f1score   | BinaryF1Score  | 0     \n",
      "2 | model     | ResNet         | 23.5 M\n",
      "3 | fuzzyloss | FuzzyLoss      | 0     \n",
      "---------------------------------------------\n",
      "4.1 K     Trainable params\n",
      "23.5 M    Non-trainable params\n",
      "23.5 M    Total params\n",
      "94.049    Total estimated model params size (MB)\n",
      "C:\\Users\\laraquij\\Anaconda3\\envs\\tfg_dani\\lib\\site-packages\\pytorch_lightning\\trainer\\connectors\\data_connector.py:229: PossibleUserWarning: The dataloader, train_dataloader, does not have many workers which may be a bottleneck. Consider increasing the value of the `num_workers` argument` (try 8 which is the number of cpus on this machine) in the `DataLoader` init to improve performance.\n",
      "  category=PossibleUserWarning,\n"
     ]
    },
    {
     "name": "stdout",
     "output_type": "stream",
     "text": [
      "Epoch 9: 100%|██████████| 158/158 [00:55<00:00,  2.86it/s, loss=0.0235, v_num=315]  "
     ]
    },
    {
     "name": "stderr",
     "output_type": "stream",
     "text": [
      "`Trainer.fit` stopped: `max_epochs=10` reached.\n"
     ]
    },
    {
     "name": "stdout",
     "output_type": "stream",
     "text": [
      "Epoch 9: 100%|██████████| 158/158 [00:55<00:00,  2.84it/s, loss=0.0235, v_num=315]\n"
     ]
    },
    {
     "name": "stderr",
     "output_type": "stream",
     "text": [
      "100%|██████████| 40/40 [00:43<00:00,  1.09s/it]\n",
      "C:\\Users\\laraquij\\Anaconda3\\envs\\tfg_dani\\lib\\site-packages\\torchvision\\models\\_utils.py:209: UserWarning: The parameter 'pretrained' is deprecated since 0.13 and may be removed in the future, please use 'weights' instead.\n",
      "  f\"The parameter '{pretrained_param}' is deprecated since 0.13 and may be removed in the future, \"\n",
      "C:\\Users\\laraquij\\Anaconda3\\envs\\tfg_dani\\lib\\site-packages\\torchvision\\models\\_utils.py:223: UserWarning: Arguments other than a weight enum or `None` for 'weights' are deprecated since 0.13 and may be removed in the future. The current behavior is equivalent to passing `weights=ResNet50_Weights.IMAGENET1K_V1`. You can also use `weights=ResNet50_Weights.DEFAULT` to get the most up-to-date weights.\n",
      "  warnings.warn(msg)\n"
     ]
    },
    {
     "name": "stdout",
     "output_type": "stream",
     "text": [
      "------------fold nº 2----------------------\n"
     ]
    },
    {
     "name": "stderr",
     "output_type": "stream",
     "text": [
      "GPU available: True (cuda), used: True\n",
      "TPU available: False, using: 0 TPU cores\n",
      "IPU available: False, using: 0 IPUs\n",
      "HPU available: False, using: 0 HPUs\n",
      "LOCAL_RANK: 0 - CUDA_VISIBLE_DEVICES: [0]\n",
      "\n",
      "  | Name      | Type           | Params\n",
      "---------------------------------------------\n",
      "0 | accuracy  | BinaryAccuracy | 0     \n",
      "1 | f1score   | BinaryF1Score  | 0     \n",
      "2 | model     | ResNet         | 23.5 M\n",
      "3 | fuzzyloss | FuzzyLoss      | 0     \n",
      "---------------------------------------------\n",
      "4.1 K     Trainable params\n",
      "23.5 M    Non-trainable params\n",
      "23.5 M    Total params\n",
      "94.049    Total estimated model params size (MB)\n",
      "C:\\Users\\laraquij\\Anaconda3\\envs\\tfg_dani\\lib\\site-packages\\pytorch_lightning\\trainer\\connectors\\data_connector.py:229: PossibleUserWarning: The dataloader, train_dataloader, does not have many workers which may be a bottleneck. Consider increasing the value of the `num_workers` argument` (try 8 which is the number of cpus on this machine) in the `DataLoader` init to improve performance.\n",
      "  category=PossibleUserWarning,\n"
     ]
    },
    {
     "name": "stdout",
     "output_type": "stream",
     "text": [
      "Epoch 9: 100%|██████████| 158/158 [00:55<00:00,  2.87it/s, loss=0.00246, v_num=316] "
     ]
    },
    {
     "name": "stderr",
     "output_type": "stream",
     "text": [
      "`Trainer.fit` stopped: `max_epochs=10` reached.\n"
     ]
    },
    {
     "name": "stdout",
     "output_type": "stream",
     "text": [
      "Epoch 9: 100%|██████████| 158/158 [00:55<00:00,  2.84it/s, loss=0.00246, v_num=316]\n"
     ]
    },
    {
     "name": "stderr",
     "output_type": "stream",
     "text": [
      "100%|██████████| 40/40 [00:44<00:00,  1.10s/it]\n",
      "C:\\Users\\laraquij\\Anaconda3\\envs\\tfg_dani\\lib\\site-packages\\torchvision\\models\\_utils.py:209: UserWarning: The parameter 'pretrained' is deprecated since 0.13 and may be removed in the future, please use 'weights' instead.\n",
      "  f\"The parameter '{pretrained_param}' is deprecated since 0.13 and may be removed in the future, \"\n",
      "C:\\Users\\laraquij\\Anaconda3\\envs\\tfg_dani\\lib\\site-packages\\torchvision\\models\\_utils.py:223: UserWarning: Arguments other than a weight enum or `None` for 'weights' are deprecated since 0.13 and may be removed in the future. The current behavior is equivalent to passing `weights=ResNet50_Weights.IMAGENET1K_V1`. You can also use `weights=ResNet50_Weights.DEFAULT` to get the most up-to-date weights.\n",
      "  warnings.warn(msg)\n"
     ]
    },
    {
     "name": "stdout",
     "output_type": "stream",
     "text": [
      "------------fold nº 3----------------------\n"
     ]
    },
    {
     "name": "stderr",
     "output_type": "stream",
     "text": [
      "GPU available: True (cuda), used: True\n",
      "TPU available: False, using: 0 TPU cores\n",
      "IPU available: False, using: 0 IPUs\n",
      "HPU available: False, using: 0 HPUs\n",
      "LOCAL_RANK: 0 - CUDA_VISIBLE_DEVICES: [0]\n",
      "\n",
      "  | Name      | Type           | Params\n",
      "---------------------------------------------\n",
      "0 | accuracy  | BinaryAccuracy | 0     \n",
      "1 | f1score   | BinaryF1Score  | 0     \n",
      "2 | model     | ResNet         | 23.5 M\n",
      "3 | fuzzyloss | FuzzyLoss      | 0     \n",
      "---------------------------------------------\n",
      "4.1 K     Trainable params\n",
      "23.5 M    Non-trainable params\n",
      "23.5 M    Total params\n",
      "94.049    Total estimated model params size (MB)\n",
      "C:\\Users\\laraquij\\Anaconda3\\envs\\tfg_dani\\lib\\site-packages\\pytorch_lightning\\trainer\\connectors\\data_connector.py:229: PossibleUserWarning: The dataloader, train_dataloader, does not have many workers which may be a bottleneck. Consider increasing the value of the `num_workers` argument` (try 8 which is the number of cpus on this machine) in the `DataLoader` init to improve performance.\n",
      "  category=PossibleUserWarning,\n"
     ]
    },
    {
     "name": "stdout",
     "output_type": "stream",
     "text": [
      "Epoch 9: 100%|██████████| 158/158 [00:55<00:00,  2.86it/s, loss=0.0047, v_num=317]  "
     ]
    },
    {
     "name": "stderr",
     "output_type": "stream",
     "text": [
      "`Trainer.fit` stopped: `max_epochs=10` reached.\n"
     ]
    },
    {
     "name": "stdout",
     "output_type": "stream",
     "text": [
      "Epoch 9: 100%|██████████| 158/158 [00:55<00:00,  2.84it/s, loss=0.0047, v_num=317]\n"
     ]
    },
    {
     "name": "stderr",
     "output_type": "stream",
     "text": [
      "100%|██████████| 40/40 [00:43<00:00,  1.08s/it]\n",
      "C:\\Users\\laraquij\\Anaconda3\\envs\\tfg_dani\\lib\\site-packages\\torchvision\\models\\_utils.py:209: UserWarning: The parameter 'pretrained' is deprecated since 0.13 and may be removed in the future, please use 'weights' instead.\n",
      "  f\"The parameter '{pretrained_param}' is deprecated since 0.13 and may be removed in the future, \"\n",
      "C:\\Users\\laraquij\\Anaconda3\\envs\\tfg_dani\\lib\\site-packages\\torchvision\\models\\_utils.py:223: UserWarning: Arguments other than a weight enum or `None` for 'weights' are deprecated since 0.13 and may be removed in the future. The current behavior is equivalent to passing `weights=ResNet50_Weights.IMAGENET1K_V1`. You can also use `weights=ResNet50_Weights.DEFAULT` to get the most up-to-date weights.\n",
      "  warnings.warn(msg)\n"
     ]
    },
    {
     "name": "stdout",
     "output_type": "stream",
     "text": [
      "------------fold nº 4----------------------\n"
     ]
    },
    {
     "name": "stderr",
     "output_type": "stream",
     "text": [
      "GPU available: True (cuda), used: True\n",
      "TPU available: False, using: 0 TPU cores\n",
      "IPU available: False, using: 0 IPUs\n",
      "HPU available: False, using: 0 HPUs\n",
      "LOCAL_RANK: 0 - CUDA_VISIBLE_DEVICES: [0]\n",
      "\n",
      "  | Name      | Type           | Params\n",
      "---------------------------------------------\n",
      "0 | accuracy  | BinaryAccuracy | 0     \n",
      "1 | f1score   | BinaryF1Score  | 0     \n",
      "2 | model     | ResNet         | 23.5 M\n",
      "3 | fuzzyloss | FuzzyLoss      | 0     \n",
      "---------------------------------------------\n",
      "4.1 K     Trainable params\n",
      "23.5 M    Non-trainable params\n",
      "23.5 M    Total params\n",
      "94.049    Total estimated model params size (MB)\n",
      "C:\\Users\\laraquij\\Anaconda3\\envs\\tfg_dani\\lib\\site-packages\\pytorch_lightning\\trainer\\connectors\\data_connector.py:229: PossibleUserWarning: The dataloader, train_dataloader, does not have many workers which may be a bottleneck. Consider increasing the value of the `num_workers` argument` (try 8 which is the number of cpus on this machine) in the `DataLoader` init to improve performance.\n",
      "  category=PossibleUserWarning,\n"
     ]
    },
    {
     "name": "stdout",
     "output_type": "stream",
     "text": [
      "Epoch 9: 100%|██████████| 158/158 [00:55<00:00,  2.86it/s, loss=0.000993, v_num=318]"
     ]
    },
    {
     "name": "stderr",
     "output_type": "stream",
     "text": [
      "`Trainer.fit` stopped: `max_epochs=10` reached.\n"
     ]
    },
    {
     "name": "stdout",
     "output_type": "stream",
     "text": [
      "Epoch 9: 100%|██████████| 158/158 [00:55<00:00,  2.83it/s, loss=0.000993, v_num=318]\n"
     ]
    },
    {
     "name": "stderr",
     "output_type": "stream",
     "text": [
      "100%|██████████| 40/40 [00:43<00:00,  1.08s/it]\n",
      "C:\\Users\\laraquij\\Anaconda3\\envs\\tfg_dani\\lib\\site-packages\\torchvision\\models\\_utils.py:209: UserWarning: The parameter 'pretrained' is deprecated since 0.13 and may be removed in the future, please use 'weights' instead.\n",
      "  f\"The parameter '{pretrained_param}' is deprecated since 0.13 and may be removed in the future, \"\n",
      "C:\\Users\\laraquij\\Anaconda3\\envs\\tfg_dani\\lib\\site-packages\\torchvision\\models\\_utils.py:223: UserWarning: Arguments other than a weight enum or `None` for 'weights' are deprecated since 0.13 and may be removed in the future. The current behavior is equivalent to passing `weights=ResNet50_Weights.IMAGENET1K_V1`. You can also use `weights=ResNet50_Weights.DEFAULT` to get the most up-to-date weights.\n",
      "  warnings.warn(msg)\n"
     ]
    },
    {
     "name": "stdout",
     "output_type": "stream",
     "text": [
      "------------fold nº 0----------------------\n"
     ]
    },
    {
     "name": "stderr",
     "output_type": "stream",
     "text": [
      "GPU available: True (cuda), used: True\n",
      "TPU available: False, using: 0 TPU cores\n",
      "IPU available: False, using: 0 IPUs\n",
      "HPU available: False, using: 0 HPUs\n",
      "LOCAL_RANK: 0 - CUDA_VISIBLE_DEVICES: [0]\n",
      "\n",
      "  | Name      | Type           | Params\n",
      "---------------------------------------------\n",
      "0 | accuracy  | BinaryAccuracy | 0     \n",
      "1 | f1score   | BinaryF1Score  | 0     \n",
      "2 | model     | ResNet         | 23.5 M\n",
      "3 | fuzzyloss | FuzzyLoss      | 0     \n",
      "---------------------------------------------\n",
      "4.1 K     Trainable params\n",
      "23.5 M    Non-trainable params\n",
      "23.5 M    Total params\n",
      "94.049    Total estimated model params size (MB)\n",
      "C:\\Users\\laraquij\\Anaconda3\\envs\\tfg_dani\\lib\\site-packages\\pytorch_lightning\\trainer\\connectors\\data_connector.py:229: PossibleUserWarning: The dataloader, train_dataloader, does not have many workers which may be a bottleneck. Consider increasing the value of the `num_workers` argument` (try 8 which is the number of cpus on this machine) in the `DataLoader` init to improve performance.\n",
      "  category=PossibleUserWarning,\n"
     ]
    },
    {
     "name": "stdout",
     "output_type": "stream",
     "text": [
      "Epoch 24: 100%|██████████| 158/158 [00:55<00:00,  2.86it/s, loss=0.0182, v_num=319] "
     ]
    },
    {
     "name": "stderr",
     "output_type": "stream",
     "text": [
      "`Trainer.fit` stopped: `max_epochs=25` reached.\n"
     ]
    },
    {
     "name": "stdout",
     "output_type": "stream",
     "text": [
      "Epoch 24: 100%|██████████| 158/158 [00:55<00:00,  2.83it/s, loss=0.0182, v_num=319]\n"
     ]
    },
    {
     "name": "stderr",
     "output_type": "stream",
     "text": [
      "100%|██████████| 40/40 [00:43<00:00,  1.08s/it]\n",
      "C:\\Users\\laraquij\\Anaconda3\\envs\\tfg_dani\\lib\\site-packages\\torchvision\\models\\_utils.py:209: UserWarning: The parameter 'pretrained' is deprecated since 0.13 and may be removed in the future, please use 'weights' instead.\n",
      "  f\"The parameter '{pretrained_param}' is deprecated since 0.13 and may be removed in the future, \"\n",
      "C:\\Users\\laraquij\\Anaconda3\\envs\\tfg_dani\\lib\\site-packages\\torchvision\\models\\_utils.py:223: UserWarning: Arguments other than a weight enum or `None` for 'weights' are deprecated since 0.13 and may be removed in the future. The current behavior is equivalent to passing `weights=ResNet50_Weights.IMAGENET1K_V1`. You can also use `weights=ResNet50_Weights.DEFAULT` to get the most up-to-date weights.\n",
      "  warnings.warn(msg)\n"
     ]
    },
    {
     "name": "stdout",
     "output_type": "stream",
     "text": [
      "------------fold nº 1----------------------\n"
     ]
    },
    {
     "name": "stderr",
     "output_type": "stream",
     "text": [
      "GPU available: True (cuda), used: True\n",
      "TPU available: False, using: 0 TPU cores\n",
      "IPU available: False, using: 0 IPUs\n",
      "HPU available: False, using: 0 HPUs\n",
      "LOCAL_RANK: 0 - CUDA_VISIBLE_DEVICES: [0]\n",
      "\n",
      "  | Name      | Type           | Params\n",
      "---------------------------------------------\n",
      "0 | accuracy  | BinaryAccuracy | 0     \n",
      "1 | f1score   | BinaryF1Score  | 0     \n",
      "2 | model     | ResNet         | 23.5 M\n",
      "3 | fuzzyloss | FuzzyLoss      | 0     \n",
      "---------------------------------------------\n",
      "4.1 K     Trainable params\n",
      "23.5 M    Non-trainable params\n",
      "23.5 M    Total params\n",
      "94.049    Total estimated model params size (MB)\n",
      "C:\\Users\\laraquij\\Anaconda3\\envs\\tfg_dani\\lib\\site-packages\\pytorch_lightning\\trainer\\connectors\\data_connector.py:229: PossibleUserWarning: The dataloader, train_dataloader, does not have many workers which may be a bottleneck. Consider increasing the value of the `num_workers` argument` (try 8 which is the number of cpus on this machine) in the `DataLoader` init to improve performance.\n",
      "  category=PossibleUserWarning,\n"
     ]
    },
    {
     "name": "stdout",
     "output_type": "stream",
     "text": [
      "Epoch 24: 100%|██████████| 158/158 [00:55<00:00,  2.86it/s, loss=0.0327, v_num=320] "
     ]
    },
    {
     "name": "stderr",
     "output_type": "stream",
     "text": [
      "`Trainer.fit` stopped: `max_epochs=25` reached.\n"
     ]
    },
    {
     "name": "stdout",
     "output_type": "stream",
     "text": [
      "Epoch 24: 100%|██████████| 158/158 [00:55<00:00,  2.83it/s, loss=0.0327, v_num=320]\n"
     ]
    },
    {
     "name": "stderr",
     "output_type": "stream",
     "text": [
      "100%|██████████| 40/40 [00:44<00:00,  1.11s/it]\n",
      "C:\\Users\\laraquij\\Anaconda3\\envs\\tfg_dani\\lib\\site-packages\\torchvision\\models\\_utils.py:209: UserWarning: The parameter 'pretrained' is deprecated since 0.13 and may be removed in the future, please use 'weights' instead.\n",
      "  f\"The parameter '{pretrained_param}' is deprecated since 0.13 and may be removed in the future, \"\n",
      "C:\\Users\\laraquij\\Anaconda3\\envs\\tfg_dani\\lib\\site-packages\\torchvision\\models\\_utils.py:223: UserWarning: Arguments other than a weight enum or `None` for 'weights' are deprecated since 0.13 and may be removed in the future. The current behavior is equivalent to passing `weights=ResNet50_Weights.IMAGENET1K_V1`. You can also use `weights=ResNet50_Weights.DEFAULT` to get the most up-to-date weights.\n",
      "  warnings.warn(msg)\n"
     ]
    },
    {
     "name": "stdout",
     "output_type": "stream",
     "text": [
      "------------fold nº 2----------------------\n"
     ]
    },
    {
     "name": "stderr",
     "output_type": "stream",
     "text": [
      "GPU available: True (cuda), used: True\n",
      "TPU available: False, using: 0 TPU cores\n",
      "IPU available: False, using: 0 IPUs\n",
      "HPU available: False, using: 0 HPUs\n",
      "LOCAL_RANK: 0 - CUDA_VISIBLE_DEVICES: [0]\n",
      "\n",
      "  | Name      | Type           | Params\n",
      "---------------------------------------------\n",
      "0 | accuracy  | BinaryAccuracy | 0     \n",
      "1 | f1score   | BinaryF1Score  | 0     \n",
      "2 | model     | ResNet         | 23.5 M\n",
      "3 | fuzzyloss | FuzzyLoss      | 0     \n",
      "---------------------------------------------\n",
      "4.1 K     Trainable params\n",
      "23.5 M    Non-trainable params\n",
      "23.5 M    Total params\n",
      "94.049    Total estimated model params size (MB)\n",
      "C:\\Users\\laraquij\\Anaconda3\\envs\\tfg_dani\\lib\\site-packages\\pytorch_lightning\\trainer\\connectors\\data_connector.py:229: PossibleUserWarning: The dataloader, train_dataloader, does not have many workers which may be a bottleneck. Consider increasing the value of the `num_workers` argument` (try 8 which is the number of cpus on this machine) in the `DataLoader` init to improve performance.\n",
      "  category=PossibleUserWarning,\n"
     ]
    },
    {
     "name": "stdout",
     "output_type": "stream",
     "text": [
      "Epoch 24: 100%|██████████| 158/158 [00:55<00:00,  2.86it/s, loss=0.0139, v_num=321]"
     ]
    },
    {
     "name": "stderr",
     "output_type": "stream",
     "text": [
      "`Trainer.fit` stopped: `max_epochs=25` reached.\n"
     ]
    },
    {
     "name": "stdout",
     "output_type": "stream",
     "text": [
      "Epoch 24: 100%|██████████| 158/158 [00:55<00:00,  2.83it/s, loss=0.0139, v_num=321]\n"
     ]
    },
    {
     "name": "stderr",
     "output_type": "stream",
     "text": [
      "100%|██████████| 40/40 [00:43<00:00,  1.10s/it]\n",
      "C:\\Users\\laraquij\\Anaconda3\\envs\\tfg_dani\\lib\\site-packages\\torchvision\\models\\_utils.py:209: UserWarning: The parameter 'pretrained' is deprecated since 0.13 and may be removed in the future, please use 'weights' instead.\n",
      "  f\"The parameter '{pretrained_param}' is deprecated since 0.13 and may be removed in the future, \"\n",
      "C:\\Users\\laraquij\\Anaconda3\\envs\\tfg_dani\\lib\\site-packages\\torchvision\\models\\_utils.py:223: UserWarning: Arguments other than a weight enum or `None` for 'weights' are deprecated since 0.13 and may be removed in the future. The current behavior is equivalent to passing `weights=ResNet50_Weights.IMAGENET1K_V1`. You can also use `weights=ResNet50_Weights.DEFAULT` to get the most up-to-date weights.\n",
      "  warnings.warn(msg)\n"
     ]
    },
    {
     "name": "stdout",
     "output_type": "stream",
     "text": [
      "------------fold nº 3----------------------\n"
     ]
    },
    {
     "name": "stderr",
     "output_type": "stream",
     "text": [
      "GPU available: True (cuda), used: True\n",
      "TPU available: False, using: 0 TPU cores\n",
      "IPU available: False, using: 0 IPUs\n",
      "HPU available: False, using: 0 HPUs\n",
      "LOCAL_RANK: 0 - CUDA_VISIBLE_DEVICES: [0]\n",
      "\n",
      "  | Name      | Type           | Params\n",
      "---------------------------------------------\n",
      "0 | accuracy  | BinaryAccuracy | 0     \n",
      "1 | f1score   | BinaryF1Score  | 0     \n",
      "2 | model     | ResNet         | 23.5 M\n",
      "3 | fuzzyloss | FuzzyLoss      | 0     \n",
      "---------------------------------------------\n",
      "4.1 K     Trainable params\n",
      "23.5 M    Non-trainable params\n",
      "23.5 M    Total params\n",
      "94.049    Total estimated model params size (MB)\n",
      "C:\\Users\\laraquij\\Anaconda3\\envs\\tfg_dani\\lib\\site-packages\\pytorch_lightning\\trainer\\connectors\\data_connector.py:229: PossibleUserWarning: The dataloader, train_dataloader, does not have many workers which may be a bottleneck. Consider increasing the value of the `num_workers` argument` (try 8 which is the number of cpus on this machine) in the `DataLoader` init to improve performance.\n",
      "  category=PossibleUserWarning,\n"
     ]
    },
    {
     "name": "stdout",
     "output_type": "stream",
     "text": [
      "Epoch 24: 100%|██████████| 158/158 [00:55<00:00,  2.85it/s, loss=0.0169, v_num=322] "
     ]
    },
    {
     "name": "stderr",
     "output_type": "stream",
     "text": [
      "`Trainer.fit` stopped: `max_epochs=25` reached.\n"
     ]
    },
    {
     "name": "stdout",
     "output_type": "stream",
     "text": [
      "Epoch 24: 100%|██████████| 158/158 [00:55<00:00,  2.82it/s, loss=0.0169, v_num=322]\n"
     ]
    },
    {
     "name": "stderr",
     "output_type": "stream",
     "text": [
      "100%|██████████| 40/40 [00:44<00:00,  1.10s/it]\n",
      "C:\\Users\\laraquij\\Anaconda3\\envs\\tfg_dani\\lib\\site-packages\\torchvision\\models\\_utils.py:209: UserWarning: The parameter 'pretrained' is deprecated since 0.13 and may be removed in the future, please use 'weights' instead.\n",
      "  f\"The parameter '{pretrained_param}' is deprecated since 0.13 and may be removed in the future, \"\n",
      "C:\\Users\\laraquij\\Anaconda3\\envs\\tfg_dani\\lib\\site-packages\\torchvision\\models\\_utils.py:223: UserWarning: Arguments other than a weight enum or `None` for 'weights' are deprecated since 0.13 and may be removed in the future. The current behavior is equivalent to passing `weights=ResNet50_Weights.IMAGENET1K_V1`. You can also use `weights=ResNet50_Weights.DEFAULT` to get the most up-to-date weights.\n",
      "  warnings.warn(msg)\n"
     ]
    },
    {
     "name": "stdout",
     "output_type": "stream",
     "text": [
      "------------fold nº 4----------------------\n"
     ]
    },
    {
     "name": "stderr",
     "output_type": "stream",
     "text": [
      "GPU available: True (cuda), used: True\n",
      "TPU available: False, using: 0 TPU cores\n",
      "IPU available: False, using: 0 IPUs\n",
      "HPU available: False, using: 0 HPUs\n",
      "LOCAL_RANK: 0 - CUDA_VISIBLE_DEVICES: [0]\n",
      "\n",
      "  | Name      | Type           | Params\n",
      "---------------------------------------------\n",
      "0 | accuracy  | BinaryAccuracy | 0     \n",
      "1 | f1score   | BinaryF1Score  | 0     \n",
      "2 | model     | ResNet         | 23.5 M\n",
      "3 | fuzzyloss | FuzzyLoss      | 0     \n",
      "---------------------------------------------\n",
      "4.1 K     Trainable params\n",
      "23.5 M    Non-trainable params\n",
      "23.5 M    Total params\n",
      "94.049    Total estimated model params size (MB)\n",
      "C:\\Users\\laraquij\\Anaconda3\\envs\\tfg_dani\\lib\\site-packages\\pytorch_lightning\\trainer\\connectors\\data_connector.py:229: PossibleUserWarning: The dataloader, train_dataloader, does not have many workers which may be a bottleneck. Consider increasing the value of the `num_workers` argument` (try 8 which is the number of cpus on this machine) in the `DataLoader` init to improve performance.\n",
      "  category=PossibleUserWarning,\n"
     ]
    },
    {
     "name": "stdout",
     "output_type": "stream",
     "text": [
      "Epoch 24: 100%|██████████| 158/158 [00:55<00:00,  2.85it/s, loss=0.0147, v_num=323] "
     ]
    },
    {
     "name": "stderr",
     "output_type": "stream",
     "text": [
      "`Trainer.fit` stopped: `max_epochs=25` reached.\n"
     ]
    },
    {
     "name": "stdout",
     "output_type": "stream",
     "text": [
      "Epoch 24: 100%|██████████| 158/158 [00:55<00:00,  2.83it/s, loss=0.0147, v_num=323]\n"
     ]
    },
    {
     "name": "stderr",
     "output_type": "stream",
     "text": [
      "100%|██████████| 40/40 [00:44<00:00,  1.10s/it]\n",
      "C:\\Users\\laraquij\\Anaconda3\\envs\\tfg_dani\\lib\\site-packages\\torchvision\\models\\_utils.py:209: UserWarning: The parameter 'pretrained' is deprecated since 0.13 and may be removed in the future, please use 'weights' instead.\n",
      "  f\"The parameter '{pretrained_param}' is deprecated since 0.13 and may be removed in the future, \"\n",
      "C:\\Users\\laraquij\\Anaconda3\\envs\\tfg_dani\\lib\\site-packages\\torchvision\\models\\_utils.py:223: UserWarning: Arguments other than a weight enum or `None` for 'weights' are deprecated since 0.13 and may be removed in the future. The current behavior is equivalent to passing `weights=ResNet50_Weights.IMAGENET1K_V1`. You can also use `weights=ResNet50_Weights.DEFAULT` to get the most up-to-date weights.\n",
      "  warnings.warn(msg)\n"
     ]
    },
    {
     "name": "stdout",
     "output_type": "stream",
     "text": [
      "------------fold nº 0----------------------\n"
     ]
    },
    {
     "name": "stderr",
     "output_type": "stream",
     "text": [
      "GPU available: True (cuda), used: True\n",
      "TPU available: False, using: 0 TPU cores\n",
      "IPU available: False, using: 0 IPUs\n",
      "HPU available: False, using: 0 HPUs\n",
      "LOCAL_RANK: 0 - CUDA_VISIBLE_DEVICES: [0]\n",
      "\n",
      "  | Name      | Type           | Params\n",
      "---------------------------------------------\n",
      "0 | accuracy  | BinaryAccuracy | 0     \n",
      "1 | f1score   | BinaryF1Score  | 0     \n",
      "2 | model     | ResNet         | 23.5 M\n",
      "3 | fuzzyloss | FuzzyLoss      | 0     \n",
      "---------------------------------------------\n",
      "4.1 K     Trainable params\n",
      "23.5 M    Non-trainable params\n",
      "23.5 M    Total params\n",
      "94.049    Total estimated model params size (MB)\n",
      "C:\\Users\\laraquij\\Anaconda3\\envs\\tfg_dani\\lib\\site-packages\\pytorch_lightning\\trainer\\connectors\\data_connector.py:229: PossibleUserWarning: The dataloader, train_dataloader, does not have many workers which may be a bottleneck. Consider increasing the value of the `num_workers` argument` (try 8 which is the number of cpus on this machine) in the `DataLoader` init to improve performance.\n",
      "  category=PossibleUserWarning,\n"
     ]
    },
    {
     "name": "stdout",
     "output_type": "stream",
     "text": [
      "Epoch 24: 100%|██████████| 158/158 [00:55<00:00,  2.85it/s, loss=0.00569, v_num=324]"
     ]
    },
    {
     "name": "stderr",
     "output_type": "stream",
     "text": [
      "`Trainer.fit` stopped: `max_epochs=25` reached.\n"
     ]
    },
    {
     "name": "stdout",
     "output_type": "stream",
     "text": [
      "Epoch 24: 100%|██████████| 158/158 [00:56<00:00,  2.82it/s, loss=0.00569, v_num=324]\n"
     ]
    },
    {
     "name": "stderr",
     "output_type": "stream",
     "text": [
      "100%|██████████| 40/40 [00:43<00:00,  1.08s/it]\n",
      "C:\\Users\\laraquij\\Anaconda3\\envs\\tfg_dani\\lib\\site-packages\\torchvision\\models\\_utils.py:209: UserWarning: The parameter 'pretrained' is deprecated since 0.13 and may be removed in the future, please use 'weights' instead.\n",
      "  f\"The parameter '{pretrained_param}' is deprecated since 0.13 and may be removed in the future, \"\n",
      "C:\\Users\\laraquij\\Anaconda3\\envs\\tfg_dani\\lib\\site-packages\\torchvision\\models\\_utils.py:223: UserWarning: Arguments other than a weight enum or `None` for 'weights' are deprecated since 0.13 and may be removed in the future. The current behavior is equivalent to passing `weights=ResNet50_Weights.IMAGENET1K_V1`. You can also use `weights=ResNet50_Weights.DEFAULT` to get the most up-to-date weights.\n",
      "  warnings.warn(msg)\n"
     ]
    },
    {
     "name": "stdout",
     "output_type": "stream",
     "text": [
      "------------fold nº 1----------------------\n"
     ]
    },
    {
     "name": "stderr",
     "output_type": "stream",
     "text": [
      "GPU available: True (cuda), used: True\n",
      "TPU available: False, using: 0 TPU cores\n",
      "IPU available: False, using: 0 IPUs\n",
      "HPU available: False, using: 0 HPUs\n",
      "LOCAL_RANK: 0 - CUDA_VISIBLE_DEVICES: [0]\n",
      "\n",
      "  | Name      | Type           | Params\n",
      "---------------------------------------------\n",
      "0 | accuracy  | BinaryAccuracy | 0     \n",
      "1 | f1score   | BinaryF1Score  | 0     \n",
      "2 | model     | ResNet         | 23.5 M\n",
      "3 | fuzzyloss | FuzzyLoss      | 0     \n",
      "---------------------------------------------\n",
      "4.1 K     Trainable params\n",
      "23.5 M    Non-trainable params\n",
      "23.5 M    Total params\n",
      "94.049    Total estimated model params size (MB)\n",
      "C:\\Users\\laraquij\\Anaconda3\\envs\\tfg_dani\\lib\\site-packages\\pytorch_lightning\\trainer\\connectors\\data_connector.py:229: PossibleUserWarning: The dataloader, train_dataloader, does not have many workers which may be a bottleneck. Consider increasing the value of the `num_workers` argument` (try 8 which is the number of cpus on this machine) in the `DataLoader` init to improve performance.\n",
      "  category=PossibleUserWarning,\n"
     ]
    },
    {
     "name": "stdout",
     "output_type": "stream",
     "text": [
      "Epoch 24: 100%|██████████| 158/158 [00:55<00:00,  2.84it/s, loss=0.0205, v_num=325] "
     ]
    },
    {
     "name": "stderr",
     "output_type": "stream",
     "text": [
      "`Trainer.fit` stopped: `max_epochs=25` reached.\n"
     ]
    },
    {
     "name": "stdout",
     "output_type": "stream",
     "text": [
      "Epoch 24: 100%|██████████| 158/158 [00:56<00:00,  2.82it/s, loss=0.0205, v_num=325]\n"
     ]
    },
    {
     "name": "stderr",
     "output_type": "stream",
     "text": [
      "100%|██████████| 40/40 [00:43<00:00,  1.10s/it]\n",
      "C:\\Users\\laraquij\\Anaconda3\\envs\\tfg_dani\\lib\\site-packages\\torchvision\\models\\_utils.py:209: UserWarning: The parameter 'pretrained' is deprecated since 0.13 and may be removed in the future, please use 'weights' instead.\n",
      "  f\"The parameter '{pretrained_param}' is deprecated since 0.13 and may be removed in the future, \"\n",
      "C:\\Users\\laraquij\\Anaconda3\\envs\\tfg_dani\\lib\\site-packages\\torchvision\\models\\_utils.py:223: UserWarning: Arguments other than a weight enum or `None` for 'weights' are deprecated since 0.13 and may be removed in the future. The current behavior is equivalent to passing `weights=ResNet50_Weights.IMAGENET1K_V1`. You can also use `weights=ResNet50_Weights.DEFAULT` to get the most up-to-date weights.\n",
      "  warnings.warn(msg)\n"
     ]
    },
    {
     "name": "stdout",
     "output_type": "stream",
     "text": [
      "------------fold nº 2----------------------\n"
     ]
    },
    {
     "name": "stderr",
     "output_type": "stream",
     "text": [
      "GPU available: True (cuda), used: True\n",
      "TPU available: False, using: 0 TPU cores\n",
      "IPU available: False, using: 0 IPUs\n",
      "HPU available: False, using: 0 HPUs\n",
      "LOCAL_RANK: 0 - CUDA_VISIBLE_DEVICES: [0]\n",
      "\n",
      "  | Name      | Type           | Params\n",
      "---------------------------------------------\n",
      "0 | accuracy  | BinaryAccuracy | 0     \n",
      "1 | f1score   | BinaryF1Score  | 0     \n",
      "2 | model     | ResNet         | 23.5 M\n",
      "3 | fuzzyloss | FuzzyLoss      | 0     \n",
      "---------------------------------------------\n",
      "4.1 K     Trainable params\n",
      "23.5 M    Non-trainable params\n",
      "23.5 M    Total params\n",
      "94.049    Total estimated model params size (MB)\n",
      "C:\\Users\\laraquij\\Anaconda3\\envs\\tfg_dani\\lib\\site-packages\\pytorch_lightning\\trainer\\connectors\\data_connector.py:229: PossibleUserWarning: The dataloader, train_dataloader, does not have many workers which may be a bottleneck. Consider increasing the value of the `num_workers` argument` (try 8 which is the number of cpus on this machine) in the `DataLoader` init to improve performance.\n",
      "  category=PossibleUserWarning,\n"
     ]
    },
    {
     "name": "stdout",
     "output_type": "stream",
     "text": [
      "Epoch 24: 100%|██████████| 158/158 [00:55<00:00,  2.84it/s, loss=0.00739, v_num=326]"
     ]
    },
    {
     "name": "stderr",
     "output_type": "stream",
     "text": [
      "`Trainer.fit` stopped: `max_epochs=25` reached.\n"
     ]
    },
    {
     "name": "stdout",
     "output_type": "stream",
     "text": [
      "Epoch 24: 100%|██████████| 158/158 [00:56<00:00,  2.81it/s, loss=0.00739, v_num=326]\n"
     ]
    },
    {
     "name": "stderr",
     "output_type": "stream",
     "text": [
      "100%|██████████| 40/40 [00:48<00:00,  1.20s/it]\n",
      "C:\\Users\\laraquij\\Anaconda3\\envs\\tfg_dani\\lib\\site-packages\\torchvision\\models\\_utils.py:209: UserWarning: The parameter 'pretrained' is deprecated since 0.13 and may be removed in the future, please use 'weights' instead.\n",
      "  f\"The parameter '{pretrained_param}' is deprecated since 0.13 and may be removed in the future, \"\n",
      "C:\\Users\\laraquij\\Anaconda3\\envs\\tfg_dani\\lib\\site-packages\\torchvision\\models\\_utils.py:223: UserWarning: Arguments other than a weight enum or `None` for 'weights' are deprecated since 0.13 and may be removed in the future. The current behavior is equivalent to passing `weights=ResNet50_Weights.IMAGENET1K_V1`. You can also use `weights=ResNet50_Weights.DEFAULT` to get the most up-to-date weights.\n",
      "  warnings.warn(msg)\n"
     ]
    },
    {
     "name": "stdout",
     "output_type": "stream",
     "text": [
      "------------fold nº 3----------------------\n"
     ]
    },
    {
     "name": "stderr",
     "output_type": "stream",
     "text": [
      "GPU available: True (cuda), used: True\n",
      "TPU available: False, using: 0 TPU cores\n",
      "IPU available: False, using: 0 IPUs\n",
      "HPU available: False, using: 0 HPUs\n",
      "LOCAL_RANK: 0 - CUDA_VISIBLE_DEVICES: [0]\n",
      "\n",
      "  | Name      | Type           | Params\n",
      "---------------------------------------------\n",
      "0 | accuracy  | BinaryAccuracy | 0     \n",
      "1 | f1score   | BinaryF1Score  | 0     \n",
      "2 | model     | ResNet         | 23.5 M\n",
      "3 | fuzzyloss | FuzzyLoss      | 0     \n",
      "---------------------------------------------\n",
      "4.1 K     Trainable params\n",
      "23.5 M    Non-trainable params\n",
      "23.5 M    Total params\n",
      "94.049    Total estimated model params size (MB)\n",
      "C:\\Users\\laraquij\\Anaconda3\\envs\\tfg_dani\\lib\\site-packages\\pytorch_lightning\\trainer\\connectors\\data_connector.py:229: PossibleUserWarning: The dataloader, train_dataloader, does not have many workers which may be a bottleneck. Consider increasing the value of the `num_workers` argument` (try 8 which is the number of cpus on this machine) in the `DataLoader` init to improve performance.\n",
      "  category=PossibleUserWarning,\n"
     ]
    },
    {
     "name": "stdout",
     "output_type": "stream",
     "text": [
      "Epoch 24: 100%|██████████| 158/158 [00:55<00:00,  2.84it/s, loss=0.0311, v_num=327] "
     ]
    },
    {
     "name": "stderr",
     "output_type": "stream",
     "text": [
      "`Trainer.fit` stopped: `max_epochs=25` reached.\n"
     ]
    },
    {
     "name": "stdout",
     "output_type": "stream",
     "text": [
      "Epoch 24: 100%|██████████| 158/158 [00:56<00:00,  2.82it/s, loss=0.0311, v_num=327]\n"
     ]
    },
    {
     "name": "stderr",
     "output_type": "stream",
     "text": [
      "100%|██████████| 40/40 [00:43<00:00,  1.09s/it]\n",
      "C:\\Users\\laraquij\\Anaconda3\\envs\\tfg_dani\\lib\\site-packages\\torchvision\\models\\_utils.py:209: UserWarning: The parameter 'pretrained' is deprecated since 0.13 and may be removed in the future, please use 'weights' instead.\n",
      "  f\"The parameter '{pretrained_param}' is deprecated since 0.13 and may be removed in the future, \"\n",
      "C:\\Users\\laraquij\\Anaconda3\\envs\\tfg_dani\\lib\\site-packages\\torchvision\\models\\_utils.py:223: UserWarning: Arguments other than a weight enum or `None` for 'weights' are deprecated since 0.13 and may be removed in the future. The current behavior is equivalent to passing `weights=ResNet50_Weights.IMAGENET1K_V1`. You can also use `weights=ResNet50_Weights.DEFAULT` to get the most up-to-date weights.\n",
      "  warnings.warn(msg)\n"
     ]
    },
    {
     "name": "stdout",
     "output_type": "stream",
     "text": [
      "------------fold nº 4----------------------\n"
     ]
    },
    {
     "name": "stderr",
     "output_type": "stream",
     "text": [
      "GPU available: True (cuda), used: True\n",
      "TPU available: False, using: 0 TPU cores\n",
      "IPU available: False, using: 0 IPUs\n",
      "HPU available: False, using: 0 HPUs\n",
      "LOCAL_RANK: 0 - CUDA_VISIBLE_DEVICES: [0]\n",
      "\n",
      "  | Name      | Type           | Params\n",
      "---------------------------------------------\n",
      "0 | accuracy  | BinaryAccuracy | 0     \n",
      "1 | f1score   | BinaryF1Score  | 0     \n",
      "2 | model     | ResNet         | 23.5 M\n",
      "3 | fuzzyloss | FuzzyLoss      | 0     \n",
      "---------------------------------------------\n",
      "4.1 K     Trainable params\n",
      "23.5 M    Non-trainable params\n",
      "23.5 M    Total params\n",
      "94.049    Total estimated model params size (MB)\n",
      "C:\\Users\\laraquij\\Anaconda3\\envs\\tfg_dani\\lib\\site-packages\\pytorch_lightning\\trainer\\connectors\\data_connector.py:229: PossibleUserWarning: The dataloader, train_dataloader, does not have many workers which may be a bottleneck. Consider increasing the value of the `num_workers` argument` (try 8 which is the number of cpus on this machine) in the `DataLoader` init to improve performance.\n",
      "  category=PossibleUserWarning,\n"
     ]
    },
    {
     "name": "stdout",
     "output_type": "stream",
     "text": [
      "Epoch 24: 100%|██████████| 158/158 [00:55<00:00,  2.84it/s, loss=0.0267, v_num=328]  "
     ]
    },
    {
     "name": "stderr",
     "output_type": "stream",
     "text": [
      "`Trainer.fit` stopped: `max_epochs=25` reached.\n"
     ]
    },
    {
     "name": "stdout",
     "output_type": "stream",
     "text": [
      "Epoch 24: 100%|██████████| 158/158 [00:56<00:00,  2.82it/s, loss=0.0267, v_num=328]\n"
     ]
    },
    {
     "name": "stderr",
     "output_type": "stream",
     "text": [
      "100%|██████████| 40/40 [00:44<00:00,  1.11s/it]\n",
      "C:\\Users\\laraquij\\Anaconda3\\envs\\tfg_dani\\lib\\site-packages\\torchvision\\models\\_utils.py:209: UserWarning: The parameter 'pretrained' is deprecated since 0.13 and may be removed in the future, please use 'weights' instead.\n",
      "  f\"The parameter '{pretrained_param}' is deprecated since 0.13 and may be removed in the future, \"\n",
      "C:\\Users\\laraquij\\Anaconda3\\envs\\tfg_dani\\lib\\site-packages\\torchvision\\models\\_utils.py:223: UserWarning: Arguments other than a weight enum or `None` for 'weights' are deprecated since 0.13 and may be removed in the future. The current behavior is equivalent to passing `weights=ResNet50_Weights.IMAGENET1K_V1`. You can also use `weights=ResNet50_Weights.DEFAULT` to get the most up-to-date weights.\n",
      "  warnings.warn(msg)\n"
     ]
    },
    {
     "name": "stdout",
     "output_type": "stream",
     "text": [
      "------------fold nº 0----------------------\n"
     ]
    },
    {
     "name": "stderr",
     "output_type": "stream",
     "text": [
      "GPU available: True (cuda), used: True\n",
      "TPU available: False, using: 0 TPU cores\n",
      "IPU available: False, using: 0 IPUs\n",
      "HPU available: False, using: 0 HPUs\n",
      "LOCAL_RANK: 0 - CUDA_VISIBLE_DEVICES: [0]\n",
      "\n",
      "  | Name      | Type           | Params\n",
      "---------------------------------------------\n",
      "0 | accuracy  | BinaryAccuracy | 0     \n",
      "1 | f1score   | BinaryF1Score  | 0     \n",
      "2 | model     | ResNet         | 23.5 M\n",
      "3 | fuzzyloss | FuzzyLoss      | 0     \n",
      "---------------------------------------------\n",
      "4.1 K     Trainable params\n",
      "23.5 M    Non-trainable params\n",
      "23.5 M    Total params\n",
      "94.049    Total estimated model params size (MB)\n",
      "C:\\Users\\laraquij\\Anaconda3\\envs\\tfg_dani\\lib\\site-packages\\pytorch_lightning\\trainer\\connectors\\data_connector.py:229: PossibleUserWarning: The dataloader, train_dataloader, does not have many workers which may be a bottleneck. Consider increasing the value of the `num_workers` argument` (try 8 which is the number of cpus on this machine) in the `DataLoader` init to improve performance.\n",
      "  category=PossibleUserWarning,\n"
     ]
    },
    {
     "name": "stdout",
     "output_type": "stream",
     "text": [
      "Epoch 24: 100%|██████████| 158/158 [00:55<00:00,  2.85it/s, loss=0.00188, v_num=329] "
     ]
    },
    {
     "name": "stderr",
     "output_type": "stream",
     "text": [
      "`Trainer.fit` stopped: `max_epochs=25` reached.\n"
     ]
    },
    {
     "name": "stdout",
     "output_type": "stream",
     "text": [
      "Epoch 24: 100%|██████████| 158/158 [00:56<00:00,  2.82it/s, loss=0.00188, v_num=329]\n"
     ]
    },
    {
     "name": "stderr",
     "output_type": "stream",
     "text": [
      "100%|██████████| 40/40 [00:43<00:00,  1.10s/it]\n",
      "C:\\Users\\laraquij\\Anaconda3\\envs\\tfg_dani\\lib\\site-packages\\torchvision\\models\\_utils.py:209: UserWarning: The parameter 'pretrained' is deprecated since 0.13 and may be removed in the future, please use 'weights' instead.\n",
      "  f\"The parameter '{pretrained_param}' is deprecated since 0.13 and may be removed in the future, \"\n",
      "C:\\Users\\laraquij\\Anaconda3\\envs\\tfg_dani\\lib\\site-packages\\torchvision\\models\\_utils.py:223: UserWarning: Arguments other than a weight enum or `None` for 'weights' are deprecated since 0.13 and may be removed in the future. The current behavior is equivalent to passing `weights=ResNet50_Weights.IMAGENET1K_V1`. You can also use `weights=ResNet50_Weights.DEFAULT` to get the most up-to-date weights.\n",
      "  warnings.warn(msg)\n"
     ]
    },
    {
     "name": "stdout",
     "output_type": "stream",
     "text": [
      "------------fold nº 1----------------------\n"
     ]
    },
    {
     "name": "stderr",
     "output_type": "stream",
     "text": [
      "GPU available: True (cuda), used: True\n",
      "TPU available: False, using: 0 TPU cores\n",
      "IPU available: False, using: 0 IPUs\n",
      "HPU available: False, using: 0 HPUs\n",
      "LOCAL_RANK: 0 - CUDA_VISIBLE_DEVICES: [0]\n",
      "\n",
      "  | Name      | Type           | Params\n",
      "---------------------------------------------\n",
      "0 | accuracy  | BinaryAccuracy | 0     \n",
      "1 | f1score   | BinaryF1Score  | 0     \n",
      "2 | model     | ResNet         | 23.5 M\n",
      "3 | fuzzyloss | FuzzyLoss      | 0     \n",
      "---------------------------------------------\n",
      "4.1 K     Trainable params\n",
      "23.5 M    Non-trainable params\n",
      "23.5 M    Total params\n",
      "94.049    Total estimated model params size (MB)\n",
      "C:\\Users\\laraquij\\Anaconda3\\envs\\tfg_dani\\lib\\site-packages\\pytorch_lightning\\trainer\\connectors\\data_connector.py:229: PossibleUserWarning: The dataloader, train_dataloader, does not have many workers which may be a bottleneck. Consider increasing the value of the `num_workers` argument` (try 8 which is the number of cpus on this machine) in the `DataLoader` init to improve performance.\n",
      "  category=PossibleUserWarning,\n"
     ]
    },
    {
     "name": "stdout",
     "output_type": "stream",
     "text": [
      "Epoch 24: 100%|██████████| 158/158 [00:55<00:00,  2.83it/s, loss=0.000975, v_num=330]"
     ]
    },
    {
     "name": "stderr",
     "output_type": "stream",
     "text": [
      "`Trainer.fit` stopped: `max_epochs=25` reached.\n"
     ]
    },
    {
     "name": "stdout",
     "output_type": "stream",
     "text": [
      "Epoch 24: 100%|██████████| 158/158 [00:56<00:00,  2.80it/s, loss=0.000975, v_num=330]\n"
     ]
    },
    {
     "name": "stderr",
     "output_type": "stream",
     "text": [
      "100%|██████████| 40/40 [00:43<00:00,  1.10s/it]\n",
      "C:\\Users\\laraquij\\Anaconda3\\envs\\tfg_dani\\lib\\site-packages\\torchvision\\models\\_utils.py:209: UserWarning: The parameter 'pretrained' is deprecated since 0.13 and may be removed in the future, please use 'weights' instead.\n",
      "  f\"The parameter '{pretrained_param}' is deprecated since 0.13 and may be removed in the future, \"\n",
      "C:\\Users\\laraquij\\Anaconda3\\envs\\tfg_dani\\lib\\site-packages\\torchvision\\models\\_utils.py:223: UserWarning: Arguments other than a weight enum or `None` for 'weights' are deprecated since 0.13 and may be removed in the future. The current behavior is equivalent to passing `weights=ResNet50_Weights.IMAGENET1K_V1`. You can also use `weights=ResNet50_Weights.DEFAULT` to get the most up-to-date weights.\n",
      "  warnings.warn(msg)\n"
     ]
    },
    {
     "name": "stdout",
     "output_type": "stream",
     "text": [
      "------------fold nº 2----------------------\n"
     ]
    },
    {
     "name": "stderr",
     "output_type": "stream",
     "text": [
      "GPU available: True (cuda), used: True\n",
      "TPU available: False, using: 0 TPU cores\n",
      "IPU available: False, using: 0 IPUs\n",
      "HPU available: False, using: 0 HPUs\n",
      "LOCAL_RANK: 0 - CUDA_VISIBLE_DEVICES: [0]\n",
      "\n",
      "  | Name      | Type           | Params\n",
      "---------------------------------------------\n",
      "0 | accuracy  | BinaryAccuracy | 0     \n",
      "1 | f1score   | BinaryF1Score  | 0     \n",
      "2 | model     | ResNet         | 23.5 M\n",
      "3 | fuzzyloss | FuzzyLoss      | 0     \n",
      "---------------------------------------------\n",
      "4.1 K     Trainable params\n",
      "23.5 M    Non-trainable params\n",
      "23.5 M    Total params\n",
      "94.049    Total estimated model params size (MB)\n",
      "C:\\Users\\laraquij\\Anaconda3\\envs\\tfg_dani\\lib\\site-packages\\pytorch_lightning\\trainer\\connectors\\data_connector.py:229: PossibleUserWarning: The dataloader, train_dataloader, does not have many workers which may be a bottleneck. Consider increasing the value of the `num_workers` argument` (try 8 which is the number of cpus on this machine) in the `DataLoader` init to improve performance.\n",
      "  category=PossibleUserWarning,\n"
     ]
    },
    {
     "name": "stdout",
     "output_type": "stream",
     "text": [
      "Epoch 24: 100%|██████████| 158/158 [00:55<00:00,  2.83it/s, loss=0.00456, v_num=331] "
     ]
    },
    {
     "name": "stderr",
     "output_type": "stream",
     "text": [
      "`Trainer.fit` stopped: `max_epochs=25` reached.\n"
     ]
    },
    {
     "name": "stdout",
     "output_type": "stream",
     "text": [
      "Epoch 24: 100%|██████████| 158/158 [00:56<00:00,  2.81it/s, loss=0.00456, v_num=331]\n"
     ]
    },
    {
     "name": "stderr",
     "output_type": "stream",
     "text": [
      "100%|██████████| 40/40 [00:45<00:00,  1.13s/it]\n",
      "C:\\Users\\laraquij\\Anaconda3\\envs\\tfg_dani\\lib\\site-packages\\torchvision\\models\\_utils.py:209: UserWarning: The parameter 'pretrained' is deprecated since 0.13 and may be removed in the future, please use 'weights' instead.\n",
      "  f\"The parameter '{pretrained_param}' is deprecated since 0.13 and may be removed in the future, \"\n",
      "C:\\Users\\laraquij\\Anaconda3\\envs\\tfg_dani\\lib\\site-packages\\torchvision\\models\\_utils.py:223: UserWarning: Arguments other than a weight enum or `None` for 'weights' are deprecated since 0.13 and may be removed in the future. The current behavior is equivalent to passing `weights=ResNet50_Weights.IMAGENET1K_V1`. You can also use `weights=ResNet50_Weights.DEFAULT` to get the most up-to-date weights.\n",
      "  warnings.warn(msg)\n"
     ]
    },
    {
     "name": "stdout",
     "output_type": "stream",
     "text": [
      "------------fold nº 3----------------------\n"
     ]
    },
    {
     "name": "stderr",
     "output_type": "stream",
     "text": [
      "GPU available: True (cuda), used: True\n",
      "TPU available: False, using: 0 TPU cores\n",
      "IPU available: False, using: 0 IPUs\n",
      "HPU available: False, using: 0 HPUs\n",
      "LOCAL_RANK: 0 - CUDA_VISIBLE_DEVICES: [0]\n",
      "\n",
      "  | Name      | Type           | Params\n",
      "---------------------------------------------\n",
      "0 | accuracy  | BinaryAccuracy | 0     \n",
      "1 | f1score   | BinaryF1Score  | 0     \n",
      "2 | model     | ResNet         | 23.5 M\n",
      "3 | fuzzyloss | FuzzyLoss      | 0     \n",
      "---------------------------------------------\n",
      "4.1 K     Trainable params\n",
      "23.5 M    Non-trainable params\n",
      "23.5 M    Total params\n",
      "94.049    Total estimated model params size (MB)\n",
      "C:\\Users\\laraquij\\Anaconda3\\envs\\tfg_dani\\lib\\site-packages\\pytorch_lightning\\trainer\\connectors\\data_connector.py:229: PossibleUserWarning: The dataloader, train_dataloader, does not have many workers which may be a bottleneck. Consider increasing the value of the `num_workers` argument` (try 8 which is the number of cpus on this machine) in the `DataLoader` init to improve performance.\n",
      "  category=PossibleUserWarning,\n"
     ]
    },
    {
     "name": "stdout",
     "output_type": "stream",
     "text": [
      "Epoch 24: 100%|██████████| 158/158 [00:57<00:00,  2.76it/s, loss=0.00228, v_num=332] "
     ]
    },
    {
     "name": "stderr",
     "output_type": "stream",
     "text": [
      "`Trainer.fit` stopped: `max_epochs=25` reached.\n"
     ]
    },
    {
     "name": "stdout",
     "output_type": "stream",
     "text": [
      "Epoch 24: 100%|██████████| 158/158 [00:57<00:00,  2.74it/s, loss=0.00228, v_num=332]\n"
     ]
    },
    {
     "name": "stderr",
     "output_type": "stream",
     "text": [
      "100%|██████████| 40/40 [00:45<00:00,  1.14s/it]\n",
      "C:\\Users\\laraquij\\Anaconda3\\envs\\tfg_dani\\lib\\site-packages\\torchvision\\models\\_utils.py:209: UserWarning: The parameter 'pretrained' is deprecated since 0.13 and may be removed in the future, please use 'weights' instead.\n",
      "  f\"The parameter '{pretrained_param}' is deprecated since 0.13 and may be removed in the future, \"\n",
      "C:\\Users\\laraquij\\Anaconda3\\envs\\tfg_dani\\lib\\site-packages\\torchvision\\models\\_utils.py:223: UserWarning: Arguments other than a weight enum or `None` for 'weights' are deprecated since 0.13 and may be removed in the future. The current behavior is equivalent to passing `weights=ResNet50_Weights.IMAGENET1K_V1`. You can also use `weights=ResNet50_Weights.DEFAULT` to get the most up-to-date weights.\n",
      "  warnings.warn(msg)\n"
     ]
    },
    {
     "name": "stdout",
     "output_type": "stream",
     "text": [
      "------------fold nº 4----------------------\n"
     ]
    },
    {
     "name": "stderr",
     "output_type": "stream",
     "text": [
      "GPU available: True (cuda), used: True\n",
      "TPU available: False, using: 0 TPU cores\n",
      "IPU available: False, using: 0 IPUs\n",
      "HPU available: False, using: 0 HPUs\n",
      "LOCAL_RANK: 0 - CUDA_VISIBLE_DEVICES: [0]\n",
      "\n",
      "  | Name      | Type           | Params\n",
      "---------------------------------------------\n",
      "0 | accuracy  | BinaryAccuracy | 0     \n",
      "1 | f1score   | BinaryF1Score  | 0     \n",
      "2 | model     | ResNet         | 23.5 M\n",
      "3 | fuzzyloss | FuzzyLoss      | 0     \n",
      "---------------------------------------------\n",
      "4.1 K     Trainable params\n",
      "23.5 M    Non-trainable params\n",
      "23.5 M    Total params\n",
      "94.049    Total estimated model params size (MB)\n",
      "C:\\Users\\laraquij\\Anaconda3\\envs\\tfg_dani\\lib\\site-packages\\pytorch_lightning\\trainer\\connectors\\data_connector.py:229: PossibleUserWarning: The dataloader, train_dataloader, does not have many workers which may be a bottleneck. Consider increasing the value of the `num_workers` argument` (try 8 which is the number of cpus on this machine) in the `DataLoader` init to improve performance.\n",
      "  category=PossibleUserWarning,\n"
     ]
    },
    {
     "name": "stdout",
     "output_type": "stream",
     "text": [
      "Epoch 24: 100%|██████████| 158/158 [00:55<00:00,  2.83it/s, loss=0.00362, v_num=333] "
     ]
    },
    {
     "name": "stderr",
     "output_type": "stream",
     "text": [
      "`Trainer.fit` stopped: `max_epochs=25` reached.\n"
     ]
    },
    {
     "name": "stdout",
     "output_type": "stream",
     "text": [
      "Epoch 24: 100%|██████████| 158/158 [00:56<00:00,  2.80it/s, loss=0.00362, v_num=333]\n"
     ]
    },
    {
     "name": "stderr",
     "output_type": "stream",
     "text": [
      "100%|██████████| 40/40 [00:44<00:00,  1.11s/it]\n",
      "C:\\Users\\laraquij\\Anaconda3\\envs\\tfg_dani\\lib\\site-packages\\torchvision\\models\\_utils.py:209: UserWarning: The parameter 'pretrained' is deprecated since 0.13 and may be removed in the future, please use 'weights' instead.\n",
      "  f\"The parameter '{pretrained_param}' is deprecated since 0.13 and may be removed in the future, \"\n",
      "C:\\Users\\laraquij\\Anaconda3\\envs\\tfg_dani\\lib\\site-packages\\torchvision\\models\\_utils.py:223: UserWarning: Arguments other than a weight enum or `None` for 'weights' are deprecated since 0.13 and may be removed in the future. The current behavior is equivalent to passing `weights=ResNet50_Weights.IMAGENET1K_V1`. You can also use `weights=ResNet50_Weights.DEFAULT` to get the most up-to-date weights.\n",
      "  warnings.warn(msg)\n"
     ]
    },
    {
     "name": "stdout",
     "output_type": "stream",
     "text": [
      "------------fold nº 0----------------------\n"
     ]
    },
    {
     "name": "stderr",
     "output_type": "stream",
     "text": [
      "GPU available: True (cuda), used: True\n",
      "TPU available: False, using: 0 TPU cores\n",
      "IPU available: False, using: 0 IPUs\n",
      "HPU available: False, using: 0 HPUs\n",
      "LOCAL_RANK: 0 - CUDA_VISIBLE_DEVICES: [0]\n",
      "\n",
      "  | Name      | Type           | Params\n",
      "---------------------------------------------\n",
      "0 | accuracy  | BinaryAccuracy | 0     \n",
      "1 | f1score   | BinaryF1Score  | 0     \n",
      "2 | model     | ResNet         | 23.5 M\n",
      "3 | fuzzyloss | FuzzyLoss      | 0     \n",
      "---------------------------------------------\n",
      "4.1 K     Trainable params\n",
      "23.5 M    Non-trainable params\n",
      "23.5 M    Total params\n",
      "94.049    Total estimated model params size (MB)\n",
      "C:\\Users\\laraquij\\Anaconda3\\envs\\tfg_dani\\lib\\site-packages\\pytorch_lightning\\trainer\\connectors\\data_connector.py:229: PossibleUserWarning: The dataloader, train_dataloader, does not have many workers which may be a bottleneck. Consider increasing the value of the `num_workers` argument` (try 8 which is the number of cpus on this machine) in the `DataLoader` init to improve performance.\n",
      "  category=PossibleUserWarning,\n"
     ]
    },
    {
     "name": "stdout",
     "output_type": "stream",
     "text": [
      "Epoch 29: 100%|██████████| 158/158 [00:56<00:00,  2.82it/s, loss=0.0654, v_num=334] "
     ]
    },
    {
     "name": "stderr",
     "output_type": "stream",
     "text": [
      "`Trainer.fit` stopped: `max_epochs=30` reached.\n"
     ]
    },
    {
     "name": "stdout",
     "output_type": "stream",
     "text": [
      "Epoch 29: 100%|██████████| 158/158 [00:56<00:00,  2.80it/s, loss=0.0654, v_num=334]\n"
     ]
    },
    {
     "name": "stderr",
     "output_type": "stream",
     "text": [
      "100%|██████████| 40/40 [00:44<00:00,  1.10s/it]\n",
      "C:\\Users\\laraquij\\Anaconda3\\envs\\tfg_dani\\lib\\site-packages\\torchvision\\models\\_utils.py:209: UserWarning: The parameter 'pretrained' is deprecated since 0.13 and may be removed in the future, please use 'weights' instead.\n",
      "  f\"The parameter '{pretrained_param}' is deprecated since 0.13 and may be removed in the future, \"\n",
      "C:\\Users\\laraquij\\Anaconda3\\envs\\tfg_dani\\lib\\site-packages\\torchvision\\models\\_utils.py:223: UserWarning: Arguments other than a weight enum or `None` for 'weights' are deprecated since 0.13 and may be removed in the future. The current behavior is equivalent to passing `weights=ResNet50_Weights.IMAGENET1K_V1`. You can also use `weights=ResNet50_Weights.DEFAULT` to get the most up-to-date weights.\n",
      "  warnings.warn(msg)\n"
     ]
    },
    {
     "name": "stdout",
     "output_type": "stream",
     "text": [
      "------------fold nº 1----------------------\n"
     ]
    },
    {
     "name": "stderr",
     "output_type": "stream",
     "text": [
      "GPU available: True (cuda), used: True\n",
      "TPU available: False, using: 0 TPU cores\n",
      "IPU available: False, using: 0 IPUs\n",
      "HPU available: False, using: 0 HPUs\n",
      "LOCAL_RANK: 0 - CUDA_VISIBLE_DEVICES: [0]\n",
      "\n",
      "  | Name      | Type           | Params\n",
      "---------------------------------------------\n",
      "0 | accuracy  | BinaryAccuracy | 0     \n",
      "1 | f1score   | BinaryF1Score  | 0     \n",
      "2 | model     | ResNet         | 23.5 M\n",
      "3 | fuzzyloss | FuzzyLoss      | 0     \n",
      "---------------------------------------------\n",
      "4.1 K     Trainable params\n",
      "23.5 M    Non-trainable params\n",
      "23.5 M    Total params\n",
      "94.049    Total estimated model params size (MB)\n",
      "C:\\Users\\laraquij\\Anaconda3\\envs\\tfg_dani\\lib\\site-packages\\pytorch_lightning\\trainer\\connectors\\data_connector.py:229: PossibleUserWarning: The dataloader, train_dataloader, does not have many workers which may be a bottleneck. Consider increasing the value of the `num_workers` argument` (try 8 which is the number of cpus on this machine) in the `DataLoader` init to improve performance.\n",
      "  category=PossibleUserWarning,\n"
     ]
    },
    {
     "name": "stdout",
     "output_type": "stream",
     "text": [
      "Epoch 29: 100%|██████████| 158/158 [00:57<00:00,  2.74it/s, loss=0.028, v_num=335]  "
     ]
    },
    {
     "name": "stderr",
     "output_type": "stream",
     "text": [
      "`Trainer.fit` stopped: `max_epochs=30` reached.\n"
     ]
    },
    {
     "name": "stdout",
     "output_type": "stream",
     "text": [
      "Epoch 29: 100%|██████████| 158/158 [00:58<00:00,  2.72it/s, loss=0.028, v_num=335]\n"
     ]
    },
    {
     "name": "stderr",
     "output_type": "stream",
     "text": [
      "100%|██████████| 40/40 [00:44<00:00,  1.11s/it]\n",
      "C:\\Users\\laraquij\\Anaconda3\\envs\\tfg_dani\\lib\\site-packages\\torchvision\\models\\_utils.py:209: UserWarning: The parameter 'pretrained' is deprecated since 0.13 and may be removed in the future, please use 'weights' instead.\n",
      "  f\"The parameter '{pretrained_param}' is deprecated since 0.13 and may be removed in the future, \"\n",
      "C:\\Users\\laraquij\\Anaconda3\\envs\\tfg_dani\\lib\\site-packages\\torchvision\\models\\_utils.py:223: UserWarning: Arguments other than a weight enum or `None` for 'weights' are deprecated since 0.13 and may be removed in the future. The current behavior is equivalent to passing `weights=ResNet50_Weights.IMAGENET1K_V1`. You can also use `weights=ResNet50_Weights.DEFAULT` to get the most up-to-date weights.\n",
      "  warnings.warn(msg)\n"
     ]
    },
    {
     "name": "stdout",
     "output_type": "stream",
     "text": [
      "------------fold nº 2----------------------\n"
     ]
    },
    {
     "name": "stderr",
     "output_type": "stream",
     "text": [
      "GPU available: True (cuda), used: True\n",
      "TPU available: False, using: 0 TPU cores\n",
      "IPU available: False, using: 0 IPUs\n",
      "HPU available: False, using: 0 HPUs\n",
      "LOCAL_RANK: 0 - CUDA_VISIBLE_DEVICES: [0]\n",
      "\n",
      "  | Name      | Type           | Params\n",
      "---------------------------------------------\n",
      "0 | accuracy  | BinaryAccuracy | 0     \n",
      "1 | f1score   | BinaryF1Score  | 0     \n",
      "2 | model     | ResNet         | 23.5 M\n",
      "3 | fuzzyloss | FuzzyLoss      | 0     \n",
      "---------------------------------------------\n",
      "4.1 K     Trainable params\n",
      "23.5 M    Non-trainable params\n",
      "23.5 M    Total params\n",
      "94.049    Total estimated model params size (MB)\n",
      "C:\\Users\\laraquij\\Anaconda3\\envs\\tfg_dani\\lib\\site-packages\\pytorch_lightning\\trainer\\connectors\\data_connector.py:229: PossibleUserWarning: The dataloader, train_dataloader, does not have many workers which may be a bottleneck. Consider increasing the value of the `num_workers` argument` (try 8 which is the number of cpus on this machine) in the `DataLoader` init to improve performance.\n",
      "  category=PossibleUserWarning,\n"
     ]
    },
    {
     "name": "stdout",
     "output_type": "stream",
     "text": [
      "Epoch 29: 100%|██████████| 158/158 [00:55<00:00,  2.82it/s, loss=0.0183, v_num=336] "
     ]
    },
    {
     "name": "stderr",
     "output_type": "stream",
     "text": [
      "`Trainer.fit` stopped: `max_epochs=30` reached.\n"
     ]
    },
    {
     "name": "stdout",
     "output_type": "stream",
     "text": [
      "Epoch 29: 100%|██████████| 158/158 [00:56<00:00,  2.80it/s, loss=0.0183, v_num=336]\n"
     ]
    },
    {
     "name": "stderr",
     "output_type": "stream",
     "text": [
      "100%|██████████| 40/40 [00:43<00:00,  1.10s/it]\n",
      "C:\\Users\\laraquij\\Anaconda3\\envs\\tfg_dani\\lib\\site-packages\\torchvision\\models\\_utils.py:209: UserWarning: The parameter 'pretrained' is deprecated since 0.13 and may be removed in the future, please use 'weights' instead.\n",
      "  f\"The parameter '{pretrained_param}' is deprecated since 0.13 and may be removed in the future, \"\n",
      "C:\\Users\\laraquij\\Anaconda3\\envs\\tfg_dani\\lib\\site-packages\\torchvision\\models\\_utils.py:223: UserWarning: Arguments other than a weight enum or `None` for 'weights' are deprecated since 0.13 and may be removed in the future. The current behavior is equivalent to passing `weights=ResNet50_Weights.IMAGENET1K_V1`. You can also use `weights=ResNet50_Weights.DEFAULT` to get the most up-to-date weights.\n",
      "  warnings.warn(msg)\n"
     ]
    },
    {
     "name": "stdout",
     "output_type": "stream",
     "text": [
      "------------fold nº 3----------------------\n"
     ]
    },
    {
     "name": "stderr",
     "output_type": "stream",
     "text": [
      "GPU available: True (cuda), used: True\n",
      "TPU available: False, using: 0 TPU cores\n",
      "IPU available: False, using: 0 IPUs\n",
      "HPU available: False, using: 0 HPUs\n",
      "LOCAL_RANK: 0 - CUDA_VISIBLE_DEVICES: [0]\n",
      "\n",
      "  | Name      | Type           | Params\n",
      "---------------------------------------------\n",
      "0 | accuracy  | BinaryAccuracy | 0     \n",
      "1 | f1score   | BinaryF1Score  | 0     \n",
      "2 | model     | ResNet         | 23.5 M\n",
      "3 | fuzzyloss | FuzzyLoss      | 0     \n",
      "---------------------------------------------\n",
      "4.1 K     Trainable params\n",
      "23.5 M    Non-trainable params\n",
      "23.5 M    Total params\n",
      "94.049    Total estimated model params size (MB)\n",
      "C:\\Users\\laraquij\\Anaconda3\\envs\\tfg_dani\\lib\\site-packages\\pytorch_lightning\\trainer\\connectors\\data_connector.py:229: PossibleUserWarning: The dataloader, train_dataloader, does not have many workers which may be a bottleneck. Consider increasing the value of the `num_workers` argument` (try 8 which is the number of cpus on this machine) in the `DataLoader` init to improve performance.\n",
      "  category=PossibleUserWarning,\n"
     ]
    },
    {
     "name": "stdout",
     "output_type": "stream",
     "text": [
      "Epoch 29: 100%|██████████| 158/158 [00:55<00:00,  2.82it/s, loss=0.0545, v_num=337] "
     ]
    },
    {
     "name": "stderr",
     "output_type": "stream",
     "text": [
      "`Trainer.fit` stopped: `max_epochs=30` reached.\n"
     ]
    },
    {
     "name": "stdout",
     "output_type": "stream",
     "text": [
      "Epoch 29: 100%|██████████| 158/158 [00:56<00:00,  2.80it/s, loss=0.0545, v_num=337]\n"
     ]
    },
    {
     "name": "stderr",
     "output_type": "stream",
     "text": [
      "100%|██████████| 40/40 [00:44<00:00,  1.11s/it]\n",
      "C:\\Users\\laraquij\\Anaconda3\\envs\\tfg_dani\\lib\\site-packages\\torchvision\\models\\_utils.py:209: UserWarning: The parameter 'pretrained' is deprecated since 0.13 and may be removed in the future, please use 'weights' instead.\n",
      "  f\"The parameter '{pretrained_param}' is deprecated since 0.13 and may be removed in the future, \"\n",
      "C:\\Users\\laraquij\\Anaconda3\\envs\\tfg_dani\\lib\\site-packages\\torchvision\\models\\_utils.py:223: UserWarning: Arguments other than a weight enum or `None` for 'weights' are deprecated since 0.13 and may be removed in the future. The current behavior is equivalent to passing `weights=ResNet50_Weights.IMAGENET1K_V1`. You can also use `weights=ResNet50_Weights.DEFAULT` to get the most up-to-date weights.\n",
      "  warnings.warn(msg)\n"
     ]
    },
    {
     "name": "stdout",
     "output_type": "stream",
     "text": [
      "------------fold nº 4----------------------\n"
     ]
    },
    {
     "name": "stderr",
     "output_type": "stream",
     "text": [
      "GPU available: True (cuda), used: True\n",
      "TPU available: False, using: 0 TPU cores\n",
      "IPU available: False, using: 0 IPUs\n",
      "HPU available: False, using: 0 HPUs\n",
      "LOCAL_RANK: 0 - CUDA_VISIBLE_DEVICES: [0]\n",
      "\n",
      "  | Name      | Type           | Params\n",
      "---------------------------------------------\n",
      "0 | accuracy  | BinaryAccuracy | 0     \n",
      "1 | f1score   | BinaryF1Score  | 0     \n",
      "2 | model     | ResNet         | 23.5 M\n",
      "3 | fuzzyloss | FuzzyLoss      | 0     \n",
      "---------------------------------------------\n",
      "4.1 K     Trainable params\n",
      "23.5 M    Non-trainable params\n",
      "23.5 M    Total params\n",
      "94.049    Total estimated model params size (MB)\n",
      "C:\\Users\\laraquij\\Anaconda3\\envs\\tfg_dani\\lib\\site-packages\\pytorch_lightning\\trainer\\connectors\\data_connector.py:229: PossibleUserWarning: The dataloader, train_dataloader, does not have many workers which may be a bottleneck. Consider increasing the value of the `num_workers` argument` (try 8 which is the number of cpus on this machine) in the `DataLoader` init to improve performance.\n",
      "  category=PossibleUserWarning,\n"
     ]
    },
    {
     "name": "stdout",
     "output_type": "stream",
     "text": [
      "Epoch 29: 100%|██████████| 158/158 [00:56<00:00,  2.81it/s, loss=0.00727, v_num=338]"
     ]
    },
    {
     "name": "stderr",
     "output_type": "stream",
     "text": [
      "`Trainer.fit` stopped: `max_epochs=30` reached.\n"
     ]
    },
    {
     "name": "stdout",
     "output_type": "stream",
     "text": [
      "Epoch 29: 100%|██████████| 158/158 [00:56<00:00,  2.79it/s, loss=0.00727, v_num=338]\n"
     ]
    },
    {
     "name": "stderr",
     "output_type": "stream",
     "text": [
      "100%|██████████| 40/40 [00:43<00:00,  1.09s/it]\n",
      "C:\\Users\\laraquij\\Anaconda3\\envs\\tfg_dani\\lib\\site-packages\\torchvision\\models\\_utils.py:209: UserWarning: The parameter 'pretrained' is deprecated since 0.13 and may be removed in the future, please use 'weights' instead.\n",
      "  f\"The parameter '{pretrained_param}' is deprecated since 0.13 and may be removed in the future, \"\n",
      "C:\\Users\\laraquij\\Anaconda3\\envs\\tfg_dani\\lib\\site-packages\\torchvision\\models\\_utils.py:223: UserWarning: Arguments other than a weight enum or `None` for 'weights' are deprecated since 0.13 and may be removed in the future. The current behavior is equivalent to passing `weights=ResNet50_Weights.IMAGENET1K_V1`. You can also use `weights=ResNet50_Weights.DEFAULT` to get the most up-to-date weights.\n",
      "  warnings.warn(msg)\n"
     ]
    },
    {
     "name": "stdout",
     "output_type": "stream",
     "text": [
      "------------fold nº 0----------------------\n"
     ]
    },
    {
     "name": "stderr",
     "output_type": "stream",
     "text": [
      "GPU available: True (cuda), used: True\n",
      "TPU available: False, using: 0 TPU cores\n",
      "IPU available: False, using: 0 IPUs\n",
      "HPU available: False, using: 0 HPUs\n",
      "LOCAL_RANK: 0 - CUDA_VISIBLE_DEVICES: [0]\n",
      "\n",
      "  | Name      | Type           | Params\n",
      "---------------------------------------------\n",
      "0 | accuracy  | BinaryAccuracy | 0     \n",
      "1 | f1score   | BinaryF1Score  | 0     \n",
      "2 | model     | ResNet         | 23.5 M\n",
      "3 | fuzzyloss | FuzzyLoss      | 0     \n",
      "---------------------------------------------\n",
      "4.1 K     Trainable params\n",
      "23.5 M    Non-trainable params\n",
      "23.5 M    Total params\n",
      "94.049    Total estimated model params size (MB)\n",
      "C:\\Users\\laraquij\\Anaconda3\\envs\\tfg_dani\\lib\\site-packages\\pytorch_lightning\\trainer\\connectors\\data_connector.py:229: PossibleUserWarning: The dataloader, train_dataloader, does not have many workers which may be a bottleneck. Consider increasing the value of the `num_workers` argument` (try 8 which is the number of cpus on this machine) in the `DataLoader` init to improve performance.\n",
      "  category=PossibleUserWarning,\n"
     ]
    },
    {
     "name": "stdout",
     "output_type": "stream",
     "text": [
      "Epoch 29: 100%|██████████| 158/158 [00:56<00:00,  2.81it/s, loss=0.0196, v_num=339] "
     ]
    },
    {
     "name": "stderr",
     "output_type": "stream",
     "text": [
      "`Trainer.fit` stopped: `max_epochs=30` reached.\n"
     ]
    },
    {
     "name": "stdout",
     "output_type": "stream",
     "text": [
      "Epoch 29: 100%|██████████| 158/158 [00:56<00:00,  2.79it/s, loss=0.0196, v_num=339]\n"
     ]
    },
    {
     "name": "stderr",
     "output_type": "stream",
     "text": [
      "100%|██████████| 40/40 [00:45<00:00,  1.14s/it]\n",
      "C:\\Users\\laraquij\\Anaconda3\\envs\\tfg_dani\\lib\\site-packages\\torchvision\\models\\_utils.py:209: UserWarning: The parameter 'pretrained' is deprecated since 0.13 and may be removed in the future, please use 'weights' instead.\n",
      "  f\"The parameter '{pretrained_param}' is deprecated since 0.13 and may be removed in the future, \"\n",
      "C:\\Users\\laraquij\\Anaconda3\\envs\\tfg_dani\\lib\\site-packages\\torchvision\\models\\_utils.py:223: UserWarning: Arguments other than a weight enum or `None` for 'weights' are deprecated since 0.13 and may be removed in the future. The current behavior is equivalent to passing `weights=ResNet50_Weights.IMAGENET1K_V1`. You can also use `weights=ResNet50_Weights.DEFAULT` to get the most up-to-date weights.\n",
      "  warnings.warn(msg)\n"
     ]
    },
    {
     "name": "stdout",
     "output_type": "stream",
     "text": [
      "------------fold nº 1----------------------\n"
     ]
    },
    {
     "name": "stderr",
     "output_type": "stream",
     "text": [
      "GPU available: True (cuda), used: True\n",
      "TPU available: False, using: 0 TPU cores\n",
      "IPU available: False, using: 0 IPUs\n",
      "HPU available: False, using: 0 HPUs\n",
      "LOCAL_RANK: 0 - CUDA_VISIBLE_DEVICES: [0]\n",
      "\n",
      "  | Name      | Type           | Params\n",
      "---------------------------------------------\n",
      "0 | accuracy  | BinaryAccuracy | 0     \n",
      "1 | f1score   | BinaryF1Score  | 0     \n",
      "2 | model     | ResNet         | 23.5 M\n",
      "3 | fuzzyloss | FuzzyLoss      | 0     \n",
      "---------------------------------------------\n",
      "4.1 K     Trainable params\n",
      "23.5 M    Non-trainable params\n",
      "23.5 M    Total params\n",
      "94.049    Total estimated model params size (MB)\n",
      "C:\\Users\\laraquij\\Anaconda3\\envs\\tfg_dani\\lib\\site-packages\\pytorch_lightning\\trainer\\connectors\\data_connector.py:229: PossibleUserWarning: The dataloader, train_dataloader, does not have many workers which may be a bottleneck. Consider increasing the value of the `num_workers` argument` (try 8 which is the number of cpus on this machine) in the `DataLoader` init to improve performance.\n",
      "  category=PossibleUserWarning,\n"
     ]
    },
    {
     "name": "stdout",
     "output_type": "stream",
     "text": [
      "Epoch 29: 100%|██████████| 158/158 [00:56<00:00,  2.81it/s, loss=0.0138, v_num=340] "
     ]
    },
    {
     "name": "stderr",
     "output_type": "stream",
     "text": [
      "`Trainer.fit` stopped: `max_epochs=30` reached.\n"
     ]
    },
    {
     "name": "stdout",
     "output_type": "stream",
     "text": [
      "Epoch 29: 100%|██████████| 158/158 [00:56<00:00,  2.79it/s, loss=0.0138, v_num=340]\n"
     ]
    },
    {
     "name": "stderr",
     "output_type": "stream",
     "text": [
      "100%|██████████| 40/40 [00:44<00:00,  1.12s/it]\n",
      "C:\\Users\\laraquij\\Anaconda3\\envs\\tfg_dani\\lib\\site-packages\\torchvision\\models\\_utils.py:209: UserWarning: The parameter 'pretrained' is deprecated since 0.13 and may be removed in the future, please use 'weights' instead.\n",
      "  f\"The parameter '{pretrained_param}' is deprecated since 0.13 and may be removed in the future, \"\n",
      "C:\\Users\\laraquij\\Anaconda3\\envs\\tfg_dani\\lib\\site-packages\\torchvision\\models\\_utils.py:223: UserWarning: Arguments other than a weight enum or `None` for 'weights' are deprecated since 0.13 and may be removed in the future. The current behavior is equivalent to passing `weights=ResNet50_Weights.IMAGENET1K_V1`. You can also use `weights=ResNet50_Weights.DEFAULT` to get the most up-to-date weights.\n",
      "  warnings.warn(msg)\n"
     ]
    },
    {
     "name": "stdout",
     "output_type": "stream",
     "text": [
      "------------fold nº 2----------------------\n"
     ]
    },
    {
     "name": "stderr",
     "output_type": "stream",
     "text": [
      "GPU available: True (cuda), used: True\n",
      "TPU available: False, using: 0 TPU cores\n",
      "IPU available: False, using: 0 IPUs\n",
      "HPU available: False, using: 0 HPUs\n",
      "LOCAL_RANK: 0 - CUDA_VISIBLE_DEVICES: [0]\n",
      "\n",
      "  | Name      | Type           | Params\n",
      "---------------------------------------------\n",
      "0 | accuracy  | BinaryAccuracy | 0     \n",
      "1 | f1score   | BinaryF1Score  | 0     \n",
      "2 | model     | ResNet         | 23.5 M\n",
      "3 | fuzzyloss | FuzzyLoss      | 0     \n",
      "---------------------------------------------\n",
      "4.1 K     Trainable params\n",
      "23.5 M    Non-trainable params\n",
      "23.5 M    Total params\n",
      "94.049    Total estimated model params size (MB)\n",
      "C:\\Users\\laraquij\\Anaconda3\\envs\\tfg_dani\\lib\\site-packages\\pytorch_lightning\\trainer\\connectors\\data_connector.py:229: PossibleUserWarning: The dataloader, train_dataloader, does not have many workers which may be a bottleneck. Consider increasing the value of the `num_workers` argument` (try 8 which is the number of cpus on this machine) in the `DataLoader` init to improve performance.\n",
      "  category=PossibleUserWarning,\n"
     ]
    },
    {
     "name": "stdout",
     "output_type": "stream",
     "text": [
      "Epoch 29: 100%|██████████| 158/158 [00:56<00:00,  2.81it/s, loss=0.0089, v_num=341] "
     ]
    },
    {
     "name": "stderr",
     "output_type": "stream",
     "text": [
      "`Trainer.fit` stopped: `max_epochs=30` reached.\n"
     ]
    },
    {
     "name": "stdout",
     "output_type": "stream",
     "text": [
      "Epoch 29: 100%|██████████| 158/158 [00:56<00:00,  2.79it/s, loss=0.0089, v_num=341]\n"
     ]
    },
    {
     "name": "stderr",
     "output_type": "stream",
     "text": [
      "100%|██████████| 40/40 [00:45<00:00,  1.13s/it]\n",
      "C:\\Users\\laraquij\\Anaconda3\\envs\\tfg_dani\\lib\\site-packages\\torchvision\\models\\_utils.py:209: UserWarning: The parameter 'pretrained' is deprecated since 0.13 and may be removed in the future, please use 'weights' instead.\n",
      "  f\"The parameter '{pretrained_param}' is deprecated since 0.13 and may be removed in the future, \"\n",
      "C:\\Users\\laraquij\\Anaconda3\\envs\\tfg_dani\\lib\\site-packages\\torchvision\\models\\_utils.py:223: UserWarning: Arguments other than a weight enum or `None` for 'weights' are deprecated since 0.13 and may be removed in the future. The current behavior is equivalent to passing `weights=ResNet50_Weights.IMAGENET1K_V1`. You can also use `weights=ResNet50_Weights.DEFAULT` to get the most up-to-date weights.\n",
      "  warnings.warn(msg)\n"
     ]
    },
    {
     "name": "stdout",
     "output_type": "stream",
     "text": [
      "------------fold nº 3----------------------\n"
     ]
    },
    {
     "name": "stderr",
     "output_type": "stream",
     "text": [
      "GPU available: True (cuda), used: True\n",
      "TPU available: False, using: 0 TPU cores\n",
      "IPU available: False, using: 0 IPUs\n",
      "HPU available: False, using: 0 HPUs\n",
      "LOCAL_RANK: 0 - CUDA_VISIBLE_DEVICES: [0]\n",
      "\n",
      "  | Name      | Type           | Params\n",
      "---------------------------------------------\n",
      "0 | accuracy  | BinaryAccuracy | 0     \n",
      "1 | f1score   | BinaryF1Score  | 0     \n",
      "2 | model     | ResNet         | 23.5 M\n",
      "3 | fuzzyloss | FuzzyLoss      | 0     \n",
      "---------------------------------------------\n",
      "4.1 K     Trainable params\n",
      "23.5 M    Non-trainable params\n",
      "23.5 M    Total params\n",
      "94.049    Total estimated model params size (MB)\n",
      "C:\\Users\\laraquij\\Anaconda3\\envs\\tfg_dani\\lib\\site-packages\\pytorch_lightning\\trainer\\connectors\\data_connector.py:229: PossibleUserWarning: The dataloader, train_dataloader, does not have many workers which may be a bottleneck. Consider increasing the value of the `num_workers` argument` (try 8 which is the number of cpus on this machine) in the `DataLoader` init to improve performance.\n",
      "  category=PossibleUserWarning,\n"
     ]
    },
    {
     "name": "stdout",
     "output_type": "stream",
     "text": [
      "Epoch 29: 100%|██████████| 158/158 [00:56<00:00,  2.80it/s, loss=0.00548, v_num=342]"
     ]
    },
    {
     "name": "stderr",
     "output_type": "stream",
     "text": [
      "`Trainer.fit` stopped: `max_epochs=30` reached.\n"
     ]
    },
    {
     "name": "stdout",
     "output_type": "stream",
     "text": [
      "Epoch 29: 100%|██████████| 158/158 [00:56<00:00,  2.78it/s, loss=0.00548, v_num=342]\n"
     ]
    },
    {
     "name": "stderr",
     "output_type": "stream",
     "text": [
      "100%|██████████| 40/40 [00:44<00:00,  1.11s/it]\n",
      "C:\\Users\\laraquij\\Anaconda3\\envs\\tfg_dani\\lib\\site-packages\\torchvision\\models\\_utils.py:209: UserWarning: The parameter 'pretrained' is deprecated since 0.13 and may be removed in the future, please use 'weights' instead.\n",
      "  f\"The parameter '{pretrained_param}' is deprecated since 0.13 and may be removed in the future, \"\n",
      "C:\\Users\\laraquij\\Anaconda3\\envs\\tfg_dani\\lib\\site-packages\\torchvision\\models\\_utils.py:223: UserWarning: Arguments other than a weight enum or `None` for 'weights' are deprecated since 0.13 and may be removed in the future. The current behavior is equivalent to passing `weights=ResNet50_Weights.IMAGENET1K_V1`. You can also use `weights=ResNet50_Weights.DEFAULT` to get the most up-to-date weights.\n",
      "  warnings.warn(msg)\n"
     ]
    },
    {
     "name": "stdout",
     "output_type": "stream",
     "text": [
      "------------fold nº 4----------------------\n"
     ]
    },
    {
     "name": "stderr",
     "output_type": "stream",
     "text": [
      "GPU available: True (cuda), used: True\n",
      "TPU available: False, using: 0 TPU cores\n",
      "IPU available: False, using: 0 IPUs\n",
      "HPU available: False, using: 0 HPUs\n",
      "LOCAL_RANK: 0 - CUDA_VISIBLE_DEVICES: [0]\n",
      "\n",
      "  | Name      | Type           | Params\n",
      "---------------------------------------------\n",
      "0 | accuracy  | BinaryAccuracy | 0     \n",
      "1 | f1score   | BinaryF1Score  | 0     \n",
      "2 | model     | ResNet         | 23.5 M\n",
      "3 | fuzzyloss | FuzzyLoss      | 0     \n",
      "---------------------------------------------\n",
      "4.1 K     Trainable params\n",
      "23.5 M    Non-trainable params\n",
      "23.5 M    Total params\n",
      "94.049    Total estimated model params size (MB)\n",
      "C:\\Users\\laraquij\\Anaconda3\\envs\\tfg_dani\\lib\\site-packages\\pytorch_lightning\\trainer\\connectors\\data_connector.py:229: PossibleUserWarning: The dataloader, train_dataloader, does not have many workers which may be a bottleneck. Consider increasing the value of the `num_workers` argument` (try 8 which is the number of cpus on this machine) in the `DataLoader` init to improve performance.\n",
      "  category=PossibleUserWarning,\n"
     ]
    },
    {
     "name": "stdout",
     "output_type": "stream",
     "text": [
      "Epoch 29: 100%|██████████| 158/158 [00:56<00:00,  2.80it/s, loss=0.0139, v_num=343] "
     ]
    },
    {
     "name": "stderr",
     "output_type": "stream",
     "text": [
      "`Trainer.fit` stopped: `max_epochs=30` reached.\n"
     ]
    },
    {
     "name": "stdout",
     "output_type": "stream",
     "text": [
      "Epoch 29: 100%|██████████| 158/158 [00:56<00:00,  2.78it/s, loss=0.0139, v_num=343]\n"
     ]
    },
    {
     "name": "stderr",
     "output_type": "stream",
     "text": [
      "100%|██████████| 40/40 [00:44<00:00,  1.12s/it]\n",
      "C:\\Users\\laraquij\\Anaconda3\\envs\\tfg_dani\\lib\\site-packages\\torchvision\\models\\_utils.py:209: UserWarning: The parameter 'pretrained' is deprecated since 0.13 and may be removed in the future, please use 'weights' instead.\n",
      "  f\"The parameter '{pretrained_param}' is deprecated since 0.13 and may be removed in the future, \"\n",
      "C:\\Users\\laraquij\\Anaconda3\\envs\\tfg_dani\\lib\\site-packages\\torchvision\\models\\_utils.py:223: UserWarning: Arguments other than a weight enum or `None` for 'weights' are deprecated since 0.13 and may be removed in the future. The current behavior is equivalent to passing `weights=ResNet50_Weights.IMAGENET1K_V1`. You can also use `weights=ResNet50_Weights.DEFAULT` to get the most up-to-date weights.\n",
      "  warnings.warn(msg)\n"
     ]
    },
    {
     "name": "stdout",
     "output_type": "stream",
     "text": [
      "------------fold nº 0----------------------\n"
     ]
    },
    {
     "name": "stderr",
     "output_type": "stream",
     "text": [
      "GPU available: True (cuda), used: True\n",
      "TPU available: False, using: 0 TPU cores\n",
      "IPU available: False, using: 0 IPUs\n",
      "HPU available: False, using: 0 HPUs\n",
      "LOCAL_RANK: 0 - CUDA_VISIBLE_DEVICES: [0]\n",
      "\n",
      "  | Name      | Type           | Params\n",
      "---------------------------------------------\n",
      "0 | accuracy  | BinaryAccuracy | 0     \n",
      "1 | f1score   | BinaryF1Score  | 0     \n",
      "2 | model     | ResNet         | 23.5 M\n",
      "3 | fuzzyloss | FuzzyLoss      | 0     \n",
      "---------------------------------------------\n",
      "4.1 K     Trainable params\n",
      "23.5 M    Non-trainable params\n",
      "23.5 M    Total params\n",
      "94.049    Total estimated model params size (MB)\n",
      "C:\\Users\\laraquij\\Anaconda3\\envs\\tfg_dani\\lib\\site-packages\\pytorch_lightning\\trainer\\connectors\\data_connector.py:229: PossibleUserWarning: The dataloader, train_dataloader, does not have many workers which may be a bottleneck. Consider increasing the value of the `num_workers` argument` (try 8 which is the number of cpus on this machine) in the `DataLoader` init to improve performance.\n",
      "  category=PossibleUserWarning,\n"
     ]
    },
    {
     "name": "stdout",
     "output_type": "stream",
     "text": [
      "Epoch 29: 100%|██████████| 158/158 [00:56<00:00,  2.80it/s, loss=0.00227, v_num=344] "
     ]
    },
    {
     "name": "stderr",
     "output_type": "stream",
     "text": [
      "`Trainer.fit` stopped: `max_epochs=30` reached.\n"
     ]
    },
    {
     "name": "stdout",
     "output_type": "stream",
     "text": [
      "Epoch 29: 100%|██████████| 158/158 [00:56<00:00,  2.78it/s, loss=0.00227, v_num=344]\n"
     ]
    },
    {
     "name": "stderr",
     "output_type": "stream",
     "text": [
      "100%|██████████| 40/40 [00:44<00:00,  1.12s/it]\n",
      "C:\\Users\\laraquij\\Anaconda3\\envs\\tfg_dani\\lib\\site-packages\\torchvision\\models\\_utils.py:209: UserWarning: The parameter 'pretrained' is deprecated since 0.13 and may be removed in the future, please use 'weights' instead.\n",
      "  f\"The parameter '{pretrained_param}' is deprecated since 0.13 and may be removed in the future, \"\n",
      "C:\\Users\\laraquij\\Anaconda3\\envs\\tfg_dani\\lib\\site-packages\\torchvision\\models\\_utils.py:223: UserWarning: Arguments other than a weight enum or `None` for 'weights' are deprecated since 0.13 and may be removed in the future. The current behavior is equivalent to passing `weights=ResNet50_Weights.IMAGENET1K_V1`. You can also use `weights=ResNet50_Weights.DEFAULT` to get the most up-to-date weights.\n",
      "  warnings.warn(msg)\n"
     ]
    },
    {
     "name": "stdout",
     "output_type": "stream",
     "text": [
      "------------fold nº 1----------------------\n"
     ]
    },
    {
     "name": "stderr",
     "output_type": "stream",
     "text": [
      "GPU available: True (cuda), used: True\n",
      "TPU available: False, using: 0 TPU cores\n",
      "IPU available: False, using: 0 IPUs\n",
      "HPU available: False, using: 0 HPUs\n",
      "LOCAL_RANK: 0 - CUDA_VISIBLE_DEVICES: [0]\n",
      "\n",
      "  | Name      | Type           | Params\n",
      "---------------------------------------------\n",
      "0 | accuracy  | BinaryAccuracy | 0     \n",
      "1 | f1score   | BinaryF1Score  | 0     \n",
      "2 | model     | ResNet         | 23.5 M\n",
      "3 | fuzzyloss | FuzzyLoss      | 0     \n",
      "---------------------------------------------\n",
      "4.1 K     Trainable params\n",
      "23.5 M    Non-trainable params\n",
      "23.5 M    Total params\n",
      "94.049    Total estimated model params size (MB)\n",
      "C:\\Users\\laraquij\\Anaconda3\\envs\\tfg_dani\\lib\\site-packages\\pytorch_lightning\\trainer\\connectors\\data_connector.py:229: PossibleUserWarning: The dataloader, train_dataloader, does not have many workers which may be a bottleneck. Consider increasing the value of the `num_workers` argument` (try 8 which is the number of cpus on this machine) in the `DataLoader` init to improve performance.\n",
      "  category=PossibleUserWarning,\n"
     ]
    },
    {
     "name": "stdout",
     "output_type": "stream",
     "text": [
      "Epoch 29: 100%|██████████| 158/158 [00:56<00:00,  2.79it/s, loss=0.00318, v_num=345] "
     ]
    },
    {
     "name": "stderr",
     "output_type": "stream",
     "text": [
      "`Trainer.fit` stopped: `max_epochs=30` reached.\n"
     ]
    },
    {
     "name": "stdout",
     "output_type": "stream",
     "text": [
      "Epoch 29: 100%|██████████| 158/158 [00:57<00:00,  2.77it/s, loss=0.00318, v_num=345]\n"
     ]
    },
    {
     "name": "stderr",
     "output_type": "stream",
     "text": [
      "100%|██████████| 40/40 [00:45<00:00,  1.14s/it]\n",
      "C:\\Users\\laraquij\\Anaconda3\\envs\\tfg_dani\\lib\\site-packages\\torchvision\\models\\_utils.py:209: UserWarning: The parameter 'pretrained' is deprecated since 0.13 and may be removed in the future, please use 'weights' instead.\n",
      "  f\"The parameter '{pretrained_param}' is deprecated since 0.13 and may be removed in the future, \"\n",
      "C:\\Users\\laraquij\\Anaconda3\\envs\\tfg_dani\\lib\\site-packages\\torchvision\\models\\_utils.py:223: UserWarning: Arguments other than a weight enum or `None` for 'weights' are deprecated since 0.13 and may be removed in the future. The current behavior is equivalent to passing `weights=ResNet50_Weights.IMAGENET1K_V1`. You can also use `weights=ResNet50_Weights.DEFAULT` to get the most up-to-date weights.\n",
      "  warnings.warn(msg)\n"
     ]
    },
    {
     "name": "stdout",
     "output_type": "stream",
     "text": [
      "------------fold nº 2----------------------\n"
     ]
    },
    {
     "name": "stderr",
     "output_type": "stream",
     "text": [
      "GPU available: True (cuda), used: True\n",
      "TPU available: False, using: 0 TPU cores\n",
      "IPU available: False, using: 0 IPUs\n",
      "HPU available: False, using: 0 HPUs\n",
      "LOCAL_RANK: 0 - CUDA_VISIBLE_DEVICES: [0]\n",
      "\n",
      "  | Name      | Type           | Params\n",
      "---------------------------------------------\n",
      "0 | accuracy  | BinaryAccuracy | 0     \n",
      "1 | f1score   | BinaryF1Score  | 0     \n",
      "2 | model     | ResNet         | 23.5 M\n",
      "3 | fuzzyloss | FuzzyLoss      | 0     \n",
      "---------------------------------------------\n",
      "4.1 K     Trainable params\n",
      "23.5 M    Non-trainable params\n",
      "23.5 M    Total params\n",
      "94.049    Total estimated model params size (MB)\n",
      "C:\\Users\\laraquij\\Anaconda3\\envs\\tfg_dani\\lib\\site-packages\\pytorch_lightning\\trainer\\connectors\\data_connector.py:229: PossibleUserWarning: The dataloader, train_dataloader, does not have many workers which may be a bottleneck. Consider increasing the value of the `num_workers` argument` (try 8 which is the number of cpus on this machine) in the `DataLoader` init to improve performance.\n",
      "  category=PossibleUserWarning,\n"
     ]
    },
    {
     "name": "stdout",
     "output_type": "stream",
     "text": [
      "Epoch 29: 100%|██████████| 158/158 [00:56<00:00,  2.80it/s, loss=0.00439, v_num=346] "
     ]
    },
    {
     "name": "stderr",
     "output_type": "stream",
     "text": [
      "`Trainer.fit` stopped: `max_epochs=30` reached.\n"
     ]
    },
    {
     "name": "stdout",
     "output_type": "stream",
     "text": [
      "Epoch 29: 100%|██████████| 158/158 [00:56<00:00,  2.77it/s, loss=0.00439, v_num=346]\n"
     ]
    },
    {
     "name": "stderr",
     "output_type": "stream",
     "text": [
      "100%|██████████| 40/40 [00:45<00:00,  1.13s/it]\n",
      "C:\\Users\\laraquij\\Anaconda3\\envs\\tfg_dani\\lib\\site-packages\\torchvision\\models\\_utils.py:209: UserWarning: The parameter 'pretrained' is deprecated since 0.13 and may be removed in the future, please use 'weights' instead.\n",
      "  f\"The parameter '{pretrained_param}' is deprecated since 0.13 and may be removed in the future, \"\n",
      "C:\\Users\\laraquij\\Anaconda3\\envs\\tfg_dani\\lib\\site-packages\\torchvision\\models\\_utils.py:223: UserWarning: Arguments other than a weight enum or `None` for 'weights' are deprecated since 0.13 and may be removed in the future. The current behavior is equivalent to passing `weights=ResNet50_Weights.IMAGENET1K_V1`. You can also use `weights=ResNet50_Weights.DEFAULT` to get the most up-to-date weights.\n",
      "  warnings.warn(msg)\n"
     ]
    },
    {
     "name": "stdout",
     "output_type": "stream",
     "text": [
      "------------fold nº 3----------------------\n"
     ]
    },
    {
     "name": "stderr",
     "output_type": "stream",
     "text": [
      "GPU available: True (cuda), used: True\n",
      "TPU available: False, using: 0 TPU cores\n",
      "IPU available: False, using: 0 IPUs\n",
      "HPU available: False, using: 0 HPUs\n",
      "LOCAL_RANK: 0 - CUDA_VISIBLE_DEVICES: [0]\n",
      "\n",
      "  | Name      | Type           | Params\n",
      "---------------------------------------------\n",
      "0 | accuracy  | BinaryAccuracy | 0     \n",
      "1 | f1score   | BinaryF1Score  | 0     \n",
      "2 | model     | ResNet         | 23.5 M\n",
      "3 | fuzzyloss | FuzzyLoss      | 0     \n",
      "---------------------------------------------\n",
      "4.1 K     Trainable params\n",
      "23.5 M    Non-trainable params\n",
      "23.5 M    Total params\n",
      "94.049    Total estimated model params size (MB)\n",
      "C:\\Users\\laraquij\\Anaconda3\\envs\\tfg_dani\\lib\\site-packages\\pytorch_lightning\\trainer\\connectors\\data_connector.py:229: PossibleUserWarning: The dataloader, train_dataloader, does not have many workers which may be a bottleneck. Consider increasing the value of the `num_workers` argument` (try 8 which is the number of cpus on this machine) in the `DataLoader` init to improve performance.\n",
      "  category=PossibleUserWarning,\n"
     ]
    },
    {
     "name": "stdout",
     "output_type": "stream",
     "text": [
      "Epoch 29: 100%|██████████| 158/158 [00:56<00:00,  2.80it/s, loss=0.000192, v_num=347]"
     ]
    },
    {
     "name": "stderr",
     "output_type": "stream",
     "text": [
      "`Trainer.fit` stopped: `max_epochs=30` reached.\n"
     ]
    },
    {
     "name": "stdout",
     "output_type": "stream",
     "text": [
      "Epoch 29: 100%|██████████| 158/158 [00:56<00:00,  2.78it/s, loss=0.000192, v_num=347]\n"
     ]
    },
    {
     "name": "stderr",
     "output_type": "stream",
     "text": [
      "100%|██████████| 40/40 [00:44<00:00,  1.12s/it]\n",
      "C:\\Users\\laraquij\\Anaconda3\\envs\\tfg_dani\\lib\\site-packages\\torchvision\\models\\_utils.py:209: UserWarning: The parameter 'pretrained' is deprecated since 0.13 and may be removed in the future, please use 'weights' instead.\n",
      "  f\"The parameter '{pretrained_param}' is deprecated since 0.13 and may be removed in the future, \"\n",
      "C:\\Users\\laraquij\\Anaconda3\\envs\\tfg_dani\\lib\\site-packages\\torchvision\\models\\_utils.py:223: UserWarning: Arguments other than a weight enum or `None` for 'weights' are deprecated since 0.13 and may be removed in the future. The current behavior is equivalent to passing `weights=ResNet50_Weights.IMAGENET1K_V1`. You can also use `weights=ResNet50_Weights.DEFAULT` to get the most up-to-date weights.\n",
      "  warnings.warn(msg)\n"
     ]
    },
    {
     "name": "stdout",
     "output_type": "stream",
     "text": [
      "------------fold nº 4----------------------\n"
     ]
    },
    {
     "name": "stderr",
     "output_type": "stream",
     "text": [
      "GPU available: True (cuda), used: True\n",
      "TPU available: False, using: 0 TPU cores\n",
      "IPU available: False, using: 0 IPUs\n",
      "HPU available: False, using: 0 HPUs\n",
      "LOCAL_RANK: 0 - CUDA_VISIBLE_DEVICES: [0]\n",
      "\n",
      "  | Name      | Type           | Params\n",
      "---------------------------------------------\n",
      "0 | accuracy  | BinaryAccuracy | 0     \n",
      "1 | f1score   | BinaryF1Score  | 0     \n",
      "2 | model     | ResNet         | 23.5 M\n",
      "3 | fuzzyloss | FuzzyLoss      | 0     \n",
      "---------------------------------------------\n",
      "4.1 K     Trainable params\n",
      "23.5 M    Non-trainable params\n",
      "23.5 M    Total params\n",
      "94.049    Total estimated model params size (MB)\n",
      "C:\\Users\\laraquij\\Anaconda3\\envs\\tfg_dani\\lib\\site-packages\\pytorch_lightning\\trainer\\connectors\\data_connector.py:229: PossibleUserWarning: The dataloader, train_dataloader, does not have many workers which may be a bottleneck. Consider increasing the value of the `num_workers` argument` (try 8 which is the number of cpus on this machine) in the `DataLoader` init to improve performance.\n",
      "  category=PossibleUserWarning,\n"
     ]
    },
    {
     "name": "stdout",
     "output_type": "stream",
     "text": [
      "Epoch 29: 100%|██████████| 158/158 [00:56<00:00,  2.79it/s, loss=0.00107, v_num=348] "
     ]
    },
    {
     "name": "stderr",
     "output_type": "stream",
     "text": [
      "`Trainer.fit` stopped: `max_epochs=30` reached.\n"
     ]
    },
    {
     "name": "stdout",
     "output_type": "stream",
     "text": [
      "Epoch 29: 100%|██████████| 158/158 [00:57<00:00,  2.76it/s, loss=0.00107, v_num=348]\n"
     ]
    },
    {
     "name": "stderr",
     "output_type": "stream",
     "text": [
      "100%|██████████| 40/40 [00:44<00:00,  1.10s/it]\n"
     ]
    },
    {
     "data": {
      "text/html": [
       "<div>\n",
       "<style scoped>\n",
       "    .dataframe tbody tr th:only-of-type {\n",
       "        vertical-align: middle;\n",
       "    }\n",
       "\n",
       "    .dataframe tbody tr th {\n",
       "        vertical-align: top;\n",
       "    }\n",
       "\n",
       "    .dataframe thead th {\n",
       "        text-align: right;\n",
       "    }\n",
       "</style>\n",
       "<table border=\"1\" class=\"dataframe\">\n",
       "  <thead>\n",
       "    <tr style=\"text-align: right;\">\n",
       "      <th></th>\n",
       "      <th>epochs</th>\n",
       "      <th>gamma</th>\n",
       "      <th>lr</th>\n",
       "      <th>f1-0</th>\n",
       "      <th>f1-1</th>\n",
       "      <th>acc</th>\n",
       "    </tr>\n",
       "  </thead>\n",
       "  <tbody>\n",
       "    <tr>\n",
       "      <th>0</th>\n",
       "      <td>10.0</td>\n",
       "      <td>0.5</td>\n",
       "      <td>0.0001</td>\n",
       "      <td>0.996855</td>\n",
       "      <td>0.986667</td>\n",
       "      <td>0.994911</td>\n",
       "    </tr>\n",
       "    <tr>\n",
       "      <th>1</th>\n",
       "      <td>10.0</td>\n",
       "      <td>2.0</td>\n",
       "      <td>0.0001</td>\n",
       "      <td>1.000000</td>\n",
       "      <td>1.000000</td>\n",
       "      <td>1.000000</td>\n",
       "    </tr>\n",
       "    <tr>\n",
       "      <th>2</th>\n",
       "      <td>10.0</td>\n",
       "      <td>5.0</td>\n",
       "      <td>0.0001</td>\n",
       "      <td>0.998469</td>\n",
       "      <td>0.992481</td>\n",
       "      <td>0.997455</td>\n",
       "    </tr>\n",
       "    <tr>\n",
       "      <th>3</th>\n",
       "      <td>25.0</td>\n",
       "      <td>0.5</td>\n",
       "      <td>0.0001</td>\n",
       "      <td>0.998410</td>\n",
       "      <td>0.993548</td>\n",
       "      <td>0.997449</td>\n",
       "    </tr>\n",
       "    <tr>\n",
       "      <th>4</th>\n",
       "      <td>25.0</td>\n",
       "      <td>2.0</td>\n",
       "      <td>0.0001</td>\n",
       "      <td>1.000000</td>\n",
       "      <td>1.000000</td>\n",
       "      <td>1.000000</td>\n",
       "    </tr>\n",
       "    <tr>\n",
       "      <th>5</th>\n",
       "      <td>25.0</td>\n",
       "      <td>5.0</td>\n",
       "      <td>0.0001</td>\n",
       "      <td>0.996774</td>\n",
       "      <td>0.987805</td>\n",
       "      <td>0.994898</td>\n",
       "    </tr>\n",
       "    <tr>\n",
       "      <th>6</th>\n",
       "      <td>30.0</td>\n",
       "      <td>0.5</td>\n",
       "      <td>0.0001</td>\n",
       "      <td>0.998395</td>\n",
       "      <td>0.993865</td>\n",
       "      <td>0.997455</td>\n",
       "    </tr>\n",
       "    <tr>\n",
       "      <th>7</th>\n",
       "      <td>30.0</td>\n",
       "      <td>2.0</td>\n",
       "      <td>0.0001</td>\n",
       "      <td>1.000000</td>\n",
       "      <td>1.000000</td>\n",
       "      <td>1.000000</td>\n",
       "    </tr>\n",
       "    <tr>\n",
       "      <th>8</th>\n",
       "      <td>30.0</td>\n",
       "      <td>5.0</td>\n",
       "      <td>0.0001</td>\n",
       "      <td>0.998435</td>\n",
       "      <td>0.993197</td>\n",
       "      <td>0.997455</td>\n",
       "    </tr>\n",
       "  </tbody>\n",
       "</table>\n",
       "</div>"
      ],
      "text/plain": [
       "   epochs  gamma      lr      f1-0      f1-1       acc\n",
       "0    10.0    0.5  0.0001  0.996855  0.986667  0.994911\n",
       "1    10.0    2.0  0.0001  1.000000  1.000000  1.000000\n",
       "2    10.0    5.0  0.0001  0.998469  0.992481  0.997455\n",
       "3    25.0    0.5  0.0001  0.998410  0.993548  0.997449\n",
       "4    25.0    2.0  0.0001  1.000000  1.000000  1.000000\n",
       "5    25.0    5.0  0.0001  0.996774  0.987805  0.994898\n",
       "6    30.0    0.5  0.0001  0.998395  0.993865  0.997455\n",
       "7    30.0    2.0  0.0001  1.000000  1.000000  1.000000\n",
       "8    30.0    5.0  0.0001  0.998435  0.993197  0.997455"
      ]
     },
     "execution_count": 6,
     "metadata": {},
     "output_type": "execute_result"
    }
   ],
   "source": [
    "K=5\n",
    "BATCH_SIZE=10\n",
    "EPOCHS=1\n",
    "GAMMA_0=2\n",
    "\n",
    "def get_prediction(x, model: pl.LightningModule):\n",
    "    model.freeze() # prepares model for predicting\n",
    "    probabilities = torch.softmax(model(x), dim=1)\n",
    "    predicted_class = torch.argmax(probabilities, dim=1)\n",
    "    return predicted_class, probabilities\n",
    "\n",
    "def train_tune(config):\n",
    "    kfold = KFold(n_splits=K, shuffle=True)\n",
    "    reports = []\n",
    "    mean_f1s = []\n",
    "    for fold,(train_idx,val_idx) in enumerate(kfold.split(image_dataset)):\n",
    "        print(f'------------fold nº {fold}----------------------')\n",
    "\n",
    "        train_subsampler = torch.utils.data.SubsetRandomSampler(train_idx)\n",
    "        val_subsampler = torch.utils.data.SubsetRandomSampler(val_idx)\n",
    "        trainloader = torch.utils.data.DataLoader(\n",
    "                          image_dataset, \n",
    "                          batch_size=BATCH_SIZE, sampler=train_subsampler)\n",
    "        testloader = torch.utils.data.DataLoader(\n",
    "                          image_dataset,\n",
    "                          batch_size=BATCH_SIZE, sampler=val_subsampler)\n",
    "\n",
    "        # Train this fold\n",
    "#         model = ResNetCustom(gamma=GAMMA_0, class_sizes=[c0_s,c1_s])\n",
    "        model = ResNetCustom(config, class_sizes=[c0_s,c1_s])\n",
    "        model.SPE = len(trainloader)\n",
    "        model.EPOCHS = config['epochs']\n",
    "        trainer = pl.Trainer(max_epochs=config['epochs'], devices=1, accelerator=\"gpu\")\n",
    "        trainer.fit(model, trainloader)\n",
    "\n",
    "        # Test this fold\n",
    "        true_y, pred_y = [], []\n",
    "        for batch in tqdm(iter(testloader), total=len(testloader)):\n",
    "            x, y = batch\n",
    "            true_y.extend(y)\n",
    "            preds, probs = get_prediction(x, model)\n",
    "            pred_y.extend(preds.cpu())\n",
    "\n",
    "        report = classification_report(true_y, pred_y, output_dict=True)\n",
    "        reports.append(report)\n",
    "        mean_f1s.append((report['0']['f1-score']+report['1']['f1-score'])/2)\n",
    "#         print('=> CONFIG:', config)\n",
    "#         print(classification_report(true_y, pred_y))\n",
    "    max_f1_idx = mean_f1s.index(max(mean_f1s))\n",
    "    return reports[max_f1_idx]\n",
    "\n",
    "EPOCHS = [10, 25, 30]\n",
    "GAMMAS = [.5, 2, 5]\n",
    "LRS = [1e-4]\n",
    "\n",
    "grid_search = pd.DataFrame(columns=['epochs','gamma','lr','f1-0','f1-1','acc'])\n",
    "\n",
    "for epochs in EPOCHS:\n",
    "    for gamma in GAMMAS:\n",
    "        for lr in LRS:\n",
    "            config = {'epochs': epochs, 'gamma': gamma, 'lr': lr}\n",
    "            report = train_tune(config)\n",
    "            grid_search = grid_search.append(\n",
    "                            pd.Series(\n",
    "                                [epochs,gamma,lr,report['0']['f1-score'],report['1']['f1-score'],report['accuracy']],\n",
    "                                index=grid_search.columns), \n",
    "                            ignore_index=True)\n",
    "            grid_search.to_csv('./grid_search/plant_village_focalloss.csv')\n",
    "grid_search"
   ]
  },
  {
   "cell_type": "code",
   "execution_count": 7,
   "id": "336b3932",
   "metadata": {
    "scrolled": true
   },
   "outputs": [
    {
     "name": "stdout",
     "output_type": "stream",
     "text": [
      "------------fold nº 0----------------------\n"
     ]
    },
    {
     "name": "stderr",
     "output_type": "stream",
     "text": [
      "C:\\Users\\laraquij\\Anaconda3\\envs\\tfg_dani\\lib\\site-packages\\torchvision\\models\\_utils.py:209: UserWarning: The parameter 'pretrained' is deprecated since 0.13 and may be removed in the future, please use 'weights' instead.\n",
      "  f\"The parameter '{pretrained_param}' is deprecated since 0.13 and may be removed in the future, \"\n",
      "C:\\Users\\laraquij\\Anaconda3\\envs\\tfg_dani\\lib\\site-packages\\torchvision\\models\\_utils.py:223: UserWarning: Arguments other than a weight enum or `None` for 'weights' are deprecated since 0.13 and may be removed in the future. The current behavior is equivalent to passing `weights=ResNet50_Weights.IMAGENET1K_V1`. You can also use `weights=ResNet50_Weights.DEFAULT` to get the most up-to-date weights.\n",
      "  warnings.warn(msg)\n",
      "GPU available: True (cuda), used: True\n",
      "TPU available: False, using: 0 TPU cores\n",
      "IPU available: False, using: 0 IPUs\n",
      "HPU available: False, using: 0 HPUs\n",
      "LOCAL_RANK: 0 - CUDA_VISIBLE_DEVICES: [0]\n",
      "\n",
      "  | Name      | Type           | Params\n",
      "---------------------------------------------\n",
      "0 | accuracy  | BinaryAccuracy | 0     \n",
      "1 | f1score   | BinaryF1Score  | 0     \n",
      "2 | model     | ResNet         | 23.5 M\n",
      "3 | fuzzyloss | FuzzyLoss      | 0     \n",
      "---------------------------------------------\n",
      "4.1 K     Trainable params\n",
      "23.5 M    Non-trainable params\n",
      "23.5 M    Total params\n",
      "94.049    Total estimated model params size (MB)\n",
      "C:\\Users\\laraquij\\Anaconda3\\envs\\tfg_dani\\lib\\site-packages\\pytorch_lightning\\trainer\\connectors\\data_connector.py:229: PossibleUserWarning: The dataloader, train_dataloader, does not have many workers which may be a bottleneck. Consider increasing the value of the `num_workers` argument` (try 8 which is the number of cpus on this machine) in the `DataLoader` init to improve performance.\n",
      "  category=PossibleUserWarning,\n"
     ]
    },
    {
     "name": "stdout",
     "output_type": "stream",
     "text": [
      "Epoch 24: 100%|██████████| 158/158 [00:55<00:00,  2.84it/s, loss=0.000205, v_num=349]"
     ]
    },
    {
     "name": "stderr",
     "output_type": "stream",
     "text": [
      "`Trainer.fit` stopped: `max_epochs=25` reached.\n"
     ]
    },
    {
     "name": "stdout",
     "output_type": "stream",
     "text": [
      "Epoch 24: 100%|██████████| 158/158 [00:56<00:00,  2.81it/s, loss=0.000205, v_num=349]\n"
     ]
    },
    {
     "name": "stderr",
     "output_type": "stream",
     "text": [
      "100%|██████████| 40/40 [00:43<00:00,  1.10s/it]\n",
      "C:\\Users\\laraquij\\Anaconda3\\envs\\tfg_dani\\lib\\site-packages\\torchvision\\models\\_utils.py:209: UserWarning: The parameter 'pretrained' is deprecated since 0.13 and may be removed in the future, please use 'weights' instead.\n",
      "  f\"The parameter '{pretrained_param}' is deprecated since 0.13 and may be removed in the future, \"\n",
      "C:\\Users\\laraquij\\Anaconda3\\envs\\tfg_dani\\lib\\site-packages\\torchvision\\models\\_utils.py:223: UserWarning: Arguments other than a weight enum or `None` for 'weights' are deprecated since 0.13 and may be removed in the future. The current behavior is equivalent to passing `weights=ResNet50_Weights.IMAGENET1K_V1`. You can also use `weights=ResNet50_Weights.DEFAULT` to get the most up-to-date weights.\n",
      "  warnings.warn(msg)\n"
     ]
    },
    {
     "name": "stdout",
     "output_type": "stream",
     "text": [
      "------------fold nº 1----------------------\n"
     ]
    },
    {
     "name": "stderr",
     "output_type": "stream",
     "text": [
      "GPU available: True (cuda), used: True\n",
      "TPU available: False, using: 0 TPU cores\n",
      "IPU available: False, using: 0 IPUs\n",
      "HPU available: False, using: 0 HPUs\n",
      "LOCAL_RANK: 0 - CUDA_VISIBLE_DEVICES: [0]\n",
      "\n",
      "  | Name      | Type           | Params\n",
      "---------------------------------------------\n",
      "0 | accuracy  | BinaryAccuracy | 0     \n",
      "1 | f1score   | BinaryF1Score  | 0     \n",
      "2 | model     | ResNet         | 23.5 M\n",
      "3 | fuzzyloss | FuzzyLoss      | 0     \n",
      "---------------------------------------------\n",
      "4.1 K     Trainable params\n",
      "23.5 M    Non-trainable params\n",
      "23.5 M    Total params\n",
      "94.049    Total estimated model params size (MB)\n",
      "C:\\Users\\laraquij\\Anaconda3\\envs\\tfg_dani\\lib\\site-packages\\pytorch_lightning\\trainer\\connectors\\data_connector.py:229: PossibleUserWarning: The dataloader, train_dataloader, does not have many workers which may be a bottleneck. Consider increasing the value of the `num_workers` argument` (try 8 which is the number of cpus on this machine) in the `DataLoader` init to improve performance.\n",
      "  category=PossibleUserWarning,\n"
     ]
    },
    {
     "name": "stdout",
     "output_type": "stream",
     "text": [
      "Epoch 24: 100%|██████████| 158/158 [00:57<00:00,  2.75it/s, loss=0.000694, v_num=350]"
     ]
    },
    {
     "name": "stderr",
     "output_type": "stream",
     "text": [
      "`Trainer.fit` stopped: `max_epochs=25` reached.\n"
     ]
    },
    {
     "name": "stdout",
     "output_type": "stream",
     "text": [
      "Epoch 24: 100%|██████████| 158/158 [00:57<00:00,  2.73it/s, loss=0.000694, v_num=350]\n"
     ]
    },
    {
     "name": "stderr",
     "output_type": "stream",
     "text": [
      "100%|██████████| 40/40 [00:43<00:00,  1.09s/it]\n",
      "C:\\Users\\laraquij\\Anaconda3\\envs\\tfg_dani\\lib\\site-packages\\torchvision\\models\\_utils.py:209: UserWarning: The parameter 'pretrained' is deprecated since 0.13 and may be removed in the future, please use 'weights' instead.\n",
      "  f\"The parameter '{pretrained_param}' is deprecated since 0.13 and may be removed in the future, \"\n",
      "C:\\Users\\laraquij\\Anaconda3\\envs\\tfg_dani\\lib\\site-packages\\torchvision\\models\\_utils.py:223: UserWarning: Arguments other than a weight enum or `None` for 'weights' are deprecated since 0.13 and may be removed in the future. The current behavior is equivalent to passing `weights=ResNet50_Weights.IMAGENET1K_V1`. You can also use `weights=ResNet50_Weights.DEFAULT` to get the most up-to-date weights.\n",
      "  warnings.warn(msg)\n"
     ]
    },
    {
     "name": "stdout",
     "output_type": "stream",
     "text": [
      "------------fold nº 2----------------------\n"
     ]
    },
    {
     "name": "stderr",
     "output_type": "stream",
     "text": [
      "GPU available: True (cuda), used: True\n",
      "TPU available: False, using: 0 TPU cores\n",
      "IPU available: False, using: 0 IPUs\n",
      "HPU available: False, using: 0 HPUs\n",
      "LOCAL_RANK: 0 - CUDA_VISIBLE_DEVICES: [0]\n",
      "\n",
      "  | Name      | Type           | Params\n",
      "---------------------------------------------\n",
      "0 | accuracy  | BinaryAccuracy | 0     \n",
      "1 | f1score   | BinaryF1Score  | 0     \n",
      "2 | model     | ResNet         | 23.5 M\n",
      "3 | fuzzyloss | FuzzyLoss      | 0     \n",
      "---------------------------------------------\n",
      "4.1 K     Trainable params\n",
      "23.5 M    Non-trainable params\n",
      "23.5 M    Total params\n",
      "94.049    Total estimated model params size (MB)\n",
      "C:\\Users\\laraquij\\Anaconda3\\envs\\tfg_dani\\lib\\site-packages\\pytorch_lightning\\trainer\\connectors\\data_connector.py:229: PossibleUserWarning: The dataloader, train_dataloader, does not have many workers which may be a bottleneck. Consider increasing the value of the `num_workers` argument` (try 8 which is the number of cpus on this machine) in the `DataLoader` init to improve performance.\n",
      "  category=PossibleUserWarning,\n"
     ]
    },
    {
     "name": "stdout",
     "output_type": "stream",
     "text": [
      "Epoch 24: 100%|██████████| 158/158 [00:55<00:00,  2.84it/s, loss=0.00178, v_num=351] "
     ]
    },
    {
     "name": "stderr",
     "output_type": "stream",
     "text": [
      "`Trainer.fit` stopped: `max_epochs=25` reached.\n"
     ]
    },
    {
     "name": "stdout",
     "output_type": "stream",
     "text": [
      "Epoch 24: 100%|██████████| 158/158 [00:56<00:00,  2.81it/s, loss=0.00178, v_num=351]\n"
     ]
    },
    {
     "name": "stderr",
     "output_type": "stream",
     "text": [
      "100%|██████████| 40/40 [00:43<00:00,  1.08s/it]\n",
      "C:\\Users\\laraquij\\Anaconda3\\envs\\tfg_dani\\lib\\site-packages\\torchvision\\models\\_utils.py:209: UserWarning: The parameter 'pretrained' is deprecated since 0.13 and may be removed in the future, please use 'weights' instead.\n",
      "  f\"The parameter '{pretrained_param}' is deprecated since 0.13 and may be removed in the future, \"\n",
      "C:\\Users\\laraquij\\Anaconda3\\envs\\tfg_dani\\lib\\site-packages\\torchvision\\models\\_utils.py:223: UserWarning: Arguments other than a weight enum or `None` for 'weights' are deprecated since 0.13 and may be removed in the future. The current behavior is equivalent to passing `weights=ResNet50_Weights.IMAGENET1K_V1`. You can also use `weights=ResNet50_Weights.DEFAULT` to get the most up-to-date weights.\n",
      "  warnings.warn(msg)\n"
     ]
    },
    {
     "name": "stdout",
     "output_type": "stream",
     "text": [
      "------------fold nº 3----------------------\n"
     ]
    },
    {
     "name": "stderr",
     "output_type": "stream",
     "text": [
      "GPU available: True (cuda), used: True\n",
      "TPU available: False, using: 0 TPU cores\n",
      "IPU available: False, using: 0 IPUs\n",
      "HPU available: False, using: 0 HPUs\n",
      "LOCAL_RANK: 0 - CUDA_VISIBLE_DEVICES: [0]\n",
      "\n",
      "  | Name      | Type           | Params\n",
      "---------------------------------------------\n",
      "0 | accuracy  | BinaryAccuracy | 0     \n",
      "1 | f1score   | BinaryF1Score  | 0     \n",
      "2 | model     | ResNet         | 23.5 M\n",
      "3 | fuzzyloss | FuzzyLoss      | 0     \n",
      "---------------------------------------------\n",
      "4.1 K     Trainable params\n",
      "23.5 M    Non-trainable params\n",
      "23.5 M    Total params\n",
      "94.049    Total estimated model params size (MB)\n",
      "C:\\Users\\laraquij\\Anaconda3\\envs\\tfg_dani\\lib\\site-packages\\pytorch_lightning\\trainer\\connectors\\data_connector.py:229: PossibleUserWarning: The dataloader, train_dataloader, does not have many workers which may be a bottleneck. Consider increasing the value of the `num_workers` argument` (try 8 which is the number of cpus on this machine) in the `DataLoader` init to improve performance.\n",
      "  category=PossibleUserWarning,\n"
     ]
    },
    {
     "name": "stdout",
     "output_type": "stream",
     "text": [
      "Epoch 24: 100%|██████████| 158/158 [00:55<00:00,  2.85it/s, loss=0.0157, v_num=352]  "
     ]
    },
    {
     "name": "stderr",
     "output_type": "stream",
     "text": [
      "`Trainer.fit` stopped: `max_epochs=25` reached.\n"
     ]
    },
    {
     "name": "stdout",
     "output_type": "stream",
     "text": [
      "Epoch 24: 100%|██████████| 158/158 [00:55<00:00,  2.83it/s, loss=0.0157, v_num=352]\n"
     ]
    },
    {
     "name": "stderr",
     "output_type": "stream",
     "text": [
      "100%|██████████| 40/40 [00:44<00:00,  1.11s/it]\n",
      "C:\\Users\\laraquij\\Anaconda3\\envs\\tfg_dani\\lib\\site-packages\\torchvision\\models\\_utils.py:209: UserWarning: The parameter 'pretrained' is deprecated since 0.13 and may be removed in the future, please use 'weights' instead.\n",
      "  f\"The parameter '{pretrained_param}' is deprecated since 0.13 and may be removed in the future, \"\n",
      "C:\\Users\\laraquij\\Anaconda3\\envs\\tfg_dani\\lib\\site-packages\\torchvision\\models\\_utils.py:223: UserWarning: Arguments other than a weight enum or `None` for 'weights' are deprecated since 0.13 and may be removed in the future. The current behavior is equivalent to passing `weights=ResNet50_Weights.IMAGENET1K_V1`. You can also use `weights=ResNet50_Weights.DEFAULT` to get the most up-to-date weights.\n",
      "  warnings.warn(msg)\n"
     ]
    },
    {
     "name": "stdout",
     "output_type": "stream",
     "text": [
      "------------fold nº 4----------------------\n"
     ]
    },
    {
     "name": "stderr",
     "output_type": "stream",
     "text": [
      "GPU available: True (cuda), used: True\n",
      "TPU available: False, using: 0 TPU cores\n",
      "IPU available: False, using: 0 IPUs\n",
      "HPU available: False, using: 0 HPUs\n",
      "LOCAL_RANK: 0 - CUDA_VISIBLE_DEVICES: [0]\n",
      "\n",
      "  | Name      | Type           | Params\n",
      "---------------------------------------------\n",
      "0 | accuracy  | BinaryAccuracy | 0     \n",
      "1 | f1score   | BinaryF1Score  | 0     \n",
      "2 | model     | ResNet         | 23.5 M\n",
      "3 | fuzzyloss | FuzzyLoss      | 0     \n",
      "---------------------------------------------\n",
      "4.1 K     Trainable params\n",
      "23.5 M    Non-trainable params\n",
      "23.5 M    Total params\n",
      "94.049    Total estimated model params size (MB)\n",
      "C:\\Users\\laraquij\\Anaconda3\\envs\\tfg_dani\\lib\\site-packages\\pytorch_lightning\\trainer\\connectors\\data_connector.py:229: PossibleUserWarning: The dataloader, train_dataloader, does not have many workers which may be a bottleneck. Consider increasing the value of the `num_workers` argument` (try 8 which is the number of cpus on this machine) in the `DataLoader` init to improve performance.\n",
      "  category=PossibleUserWarning,\n"
     ]
    },
    {
     "name": "stdout",
     "output_type": "stream",
     "text": [
      "Epoch 24: 100%|██████████| 158/158 [00:55<00:00,  2.84it/s, loss=0.00344, v_num=353] "
     ]
    },
    {
     "name": "stderr",
     "output_type": "stream",
     "text": [
      "`Trainer.fit` stopped: `max_epochs=25` reached.\n"
     ]
    },
    {
     "name": "stdout",
     "output_type": "stream",
     "text": [
      "Epoch 24: 100%|██████████| 158/158 [00:56<00:00,  2.81it/s, loss=0.00344, v_num=353]\n"
     ]
    },
    {
     "name": "stderr",
     "output_type": "stream",
     "text": [
      "100%|██████████| 40/40 [00:43<00:00,  1.10s/it]"
     ]
    },
    {
     "name": "stdout",
     "output_type": "stream",
     "text": [
      "{'0': {'precision': 1.0, 'recall': 0.9968652037617555, 'f1-score': 0.9984301412872841, 'support': 319}, '1': {'precision': 0.9866666666666667, 'recall': 1.0, 'f1-score': 0.9932885906040269, 'support': 74}, 'accuracy': 0.9974554707379135, 'macro avg': {'precision': 0.9933333333333334, 'recall': 0.9984326018808778, 'f1-score': 0.9958593659456555, 'support': 393}, 'weighted avg': {'precision': 0.9974893977947413, 'recall': 0.9974554707379135, 'f1-score': 0.9974620121509965, 'support': 393}}\n"
     ]
    },
    {
     "name": "stderr",
     "output_type": "stream",
     "text": [
      "\n"
     ]
    }
   ],
   "source": [
    "mean_losses = []\n",
    "mean_acc = []\n",
    "mean_f1s = []\n",
    "\n",
    "config = {'epochs': 25, 'gamma': 5, 'lr': 1e-4}\n",
    "report = train_tune(config)\n",
    "print(report)"
   ]
  },
  {
   "cell_type": "code",
   "execution_count": 12,
   "id": "e08f8fd8",
   "metadata": {},
   "outputs": [
    {
     "data": {
      "image/png": "[encoded data removed]",
      "text/plain": [
       "<Figure size 640x480 with 1 Axes>"
      ]
     },
     "metadata": {},
     "output_type": "display_data"
    }
   ],
   "source": [
    "# Plot mean loss\n",
    "splits = 49\n",
    "ml = [sum(mean_losses[i:i + splits])/splits for i in range(0, len(mean_losses), splits)]\n",
    "ma = [sum(mean_acc[i:i + splits])/splits for i in range(0, len(mean_acc), splits)]\n",
    "mf = [sum(mean_f1s[i:i + splits])/splits for i in range(0, len(mean_f1s), splits)]\n",
    "x_axis = [i for i in range(404)]\n",
    "\n",
    "for i, l in enumerate(mean_losses):\n",
    "    mean_losses[i] = l.cpu().detach()\n",
    "plt.plot(x_axis, ml, 'g', label='Loss')\n",
    "plt.plot(x_axis, ma, 'b', label='Accuracy')\n",
    "plt.plot(x_axis, mf, 'r', label='F1-score')\n",
    "plt.title('Training metrics')\n",
    "plt.xlabel('Épocas')\n",
    "# plt.ylabel('Loss media')\n",
    "plt.legend()\n",
    "plt.show()"
   ]
  },
  {
   "cell_type": "markdown",
   "id": "1c70e71d",
   "metadata": {},
   "source": [
    "## <span style=\"color:blue\">UTKFace</span>"
   ]
  },
  {
   "cell_type": "code",
   "execution_count": 4,
   "id": "00b44a1b",
   "metadata": {},
   "outputs": [
    {
     "name": "stdout",
     "output_type": "stream",
     "text": [
      "Class 0: 11317 / Class 1: 2589 / BDeg:  4.371185786017768\n"
     ]
    }
   ],
   "source": [
    "data_transforms = transforms.Compose([\n",
    "    transforms.RandomResizedCrop(224),\n",
    "    transforms.RandomHorizontalFlip(),\n",
    "    transforms.ToTensor(),\n",
    "    transforms.Normalize(mean=[0.485, 0.456, 0.406], std=[0.229, 0.224, 0.225]),\n",
    "])\n",
    "\n",
    "image_dataset = datasets.ImageFolder('../data/UTKFace/train',data_transforms)\n",
    "\n",
    "# Provocar bias cogiendo un porcentaje de la clase 1 solamente (modificando el porcentaje hasta obtener b_deg deseado)\n",
    "class_0_idxs = torch.nonzero(torch.Tensor(image_dataset.targets)==0).flatten()\n",
    "class_1_idxs = torch.nonzero(torch.Tensor(image_dataset.targets)==1).flatten()\n",
    "class_1_idxs = class_1_idxs[torch.randperm(len(class_1_idxs))[:int(len(class_1_idxs)*.209)]]\n",
    "\n",
    "c0_s, c1_s = len(class_0_idxs), len(class_1_idxs)\n",
    "b_deg = c0_s / c1_s\n",
    "print('Class 0:', len(class_0_idxs), '/ Class 1:', len(class_1_idxs), '/ BDeg: ', b_deg)\n",
    "\n",
    "class_1_subset = Subset(image_dataset, class_1_idxs)\n",
    "class_0_subset = Subset(image_dataset, class_0_idxs)\n",
    "image_dataset = ConcatDataset([class_0_subset, class_1_subset])"
   ]
  },
  {
   "cell_type": "code",
   "execution_count": 5,
   "id": "394906f8",
   "metadata": {
    "scrolled": true
   },
   "outputs": [],
   "source": [
    "from torchvision.models import resnet50\n",
    "\n",
    "mean_losses = []\n",
    "mean_acc = []\n",
    "mean_f1s = []\n",
    "\n",
    "class ResNetCustom(pl.LightningModule):\n",
    "    def __init__(self, config, class_sizes):\n",
    "        super().__init__()\n",
    "        self.gamma = config['gamma']\n",
    "        self.class_sizes = class_sizes\n",
    "        self.lr = config['lr']\n",
    "        self.n_classes = len(self.class_sizes)\n",
    "        \n",
    "        # metrics\n",
    "        task = \"multiclass\" if self.n_classes > 2 else \"binary\"\n",
    "        self.accuracy = torchmetrics.Accuracy(task=task, num_classes=self.n_classes)\n",
    "        self.f1score = torchmetrics.F1Score(task=task, num_classes=self.n_classes)\n",
    "        \n",
    "        self.model = resnet50(pretrained=True)\n",
    "        for param in self.model.parameters():\n",
    "            param.requires_grad = False\n",
    "        self.model.fc = nn.Linear(self.model.fc.in_features, self.n_classes, bias=True)\n",
    "            \n",
    "        self.fuzzyloss = FuzzyLoss(gamma=self.gamma, class_sizes=self.class_sizes).cuda()\n",
    "#         self.fuzzyloss = nn.CrossEntropyLoss().cuda()\n",
    "        \n",
    "    def forward(self, x):\n",
    "        return self.model(x)\n",
    "    \n",
    "    def training_step(self, batch, batch_no):\n",
    "        x, y = batch\n",
    "        logits = self(x)\n",
    "        \n",
    "        y_onehot = F.one_hot(y, num_classes=self.n_classes).long()\n",
    "        acc = self.accuracy(logits, y_onehot)\n",
    "        f1s = self.f1score(logits, y_onehot)\n",
    "        mean_acc.append(acc.item())\n",
    "        mean_f1s.append(f1s.item())\n",
    "        \n",
    "        mean_loss, losses = self.fuzzyloss(logits, y)\n",
    "#         mean_loss = self.fuzzyloss(logits, y)\n",
    "        mean_losses.append(mean_loss)\n",
    "        \n",
    "        # Update focal loss with Fuzzy Control System\n",
    "#         self.fuzzyloss.update_hyperparams(losses, y)\n",
    "        return mean_loss\n",
    "    \n",
    "    def configure_optimizers(self):\n",
    "        optimizer = torch.optim.Adam(self.model.fc.parameters(), lr=self.lr)\n",
    "        return {\n",
    "            \"optimizer\": optimizer,\n",
    "            \"lr_scheduler\": torch.optim.lr_scheduler.OneCycleLR(\n",
    "                                optimizer ,max_lr=0.01,\n",
    "                                steps_per_epoch=self.SPE,\n",
    "                                epochs=self.EPOCHS)\n",
    "        }"
   ]
  },
  {
   "cell_type": "code",
   "execution_count": 6,
   "id": "53e7d9bc",
   "metadata": {
    "scrolled": true
   },
   "outputs": [],
   "source": [
    "K=5\n",
    "BATCH_SIZE=10\n",
    "EPOCHS=1\n",
    "GAMMA_0=2\n",
    "\n",
    "def get_prediction(x, model: pl.LightningModule):\n",
    "    model.freeze() # prepares model for predicting\n",
    "    probabilities = torch.softmax(model(x), dim=1)\n",
    "    predicted_class = torch.argmax(probabilities, dim=1)\n",
    "    return predicted_class, probabilities\n",
    "\n",
    "def train_tune(config):\n",
    "    kfold = KFold(n_splits=K, shuffle=True)\n",
    "    reports = []\n",
    "    mean_f1s = []\n",
    "    for fold,(train_idx,val_idx) in enumerate(kfold.split(image_dataset)):\n",
    "        print(f'------------fold nº {fold}----------------------')\n",
    "\n",
    "        train_subsampler = torch.utils.data.SubsetRandomSampler(train_idx)\n",
    "        val_subsampler = torch.utils.data.SubsetRandomSampler(val_idx)\n",
    "        trainloader = torch.utils.data.DataLoader(\n",
    "                          image_dataset, \n",
    "                          batch_size=BATCH_SIZE, sampler=train_subsampler)\n",
    "        testloader = torch.utils.data.DataLoader(\n",
    "                          image_dataset,\n",
    "                          batch_size=BATCH_SIZE, sampler=val_subsampler)\n",
    "\n",
    "        # Train this fold\n",
    "#         model = ResNetCustom(gamma=GAMMA_0, class_sizes=[c0_s,c1_s])\n",
    "        model = ResNetCustom(config, class_sizes=[c0_s,c1_s])\n",
    "        model.SPE = len(trainloader)\n",
    "        model.EPOCHS = config['epochs']\n",
    "        trainer = pl.Trainer(max_epochs=config['epochs'], devices=1, accelerator=\"gpu\")\n",
    "        trainer.fit(model, trainloader)\n",
    "\n",
    "        # Test this fold\n",
    "        true_y, pred_y = [], []\n",
    "        for batch in tqdm(iter(testloader), total=len(testloader)):\n",
    "            x, y = batch\n",
    "            true_y.extend(y)\n",
    "            preds, probs = get_prediction(x, model)\n",
    "            pred_y.extend(preds.cpu())\n",
    "\n",
    "        report = classification_report(true_y, pred_y, output_dict=True)\n",
    "        reports.append(report)\n",
    "        mean_f1s.append((report['0']['f1-score']+report['1']['f1-score'])/2)\n",
    "#         print('=> CONFIG:', config)\n",
    "#         print(classification_report(true_y, pred_y))\n",
    "    max_f1_idx = mean_f1s.index(max(mean_f1s))\n",
    "    return reports[max_f1_idx]\n",
    "\n",
    "EPOCHS = [10, 25, 30]\n",
    "GAMMAS = [.5, 2, 5]\n",
    "LRS = [1e-4]\n",
    "\n",
    "grid_search = pd.DataFrame(columns=['epochs','gamma','lr','f1-0','f1-1','acc'])\n",
    "\n",
    "for epochs in EPOCHS:\n",
    "    for gamma in GAMMAS:\n",
    "        for lr in LRS:\n",
    "            config = {'epochs': epochs, 'gamma': gamma, 'lr': lr}\n",
    "            report = train_tune(config)\n",
    "            grid_search = grid_search.append(\n",
    "                            pd.Series(\n",
    "                                [epochs,gamma,lr,report['0']['f1-score'],report['1']['f1-score'],report['accuracy']],\n",
    "                                index=grid_search.columns), \n",
    "                            ignore_index=True)\n",
    "            grid_search.to_csv('./grid_search/UTKFace_focalloss.csv')\n",
    "grid_search"
   ]
  },
  {
   "cell_type": "code",
   "execution_count": 7,
   "id": "ee34a65b",
   "metadata": {
    "scrolled": true
   },
   "outputs": [
    {
     "name": "stdout",
     "output_type": "stream",
     "text": [
      "------------fold nº 0----------------------\n"
     ]
    },
    {
     "name": "stderr",
     "output_type": "stream",
     "text": [
      "C:\\Users\\laraquij\\Anaconda3\\envs\\tfg_dani\\lib\\site-packages\\torchvision\\models\\_utils.py:209: UserWarning: The parameter 'pretrained' is deprecated since 0.13 and may be removed in the future, please use 'weights' instead.\n",
      "  f\"The parameter '{pretrained_param}' is deprecated since 0.13 and may be removed in the future, \"\n",
      "C:\\Users\\laraquij\\Anaconda3\\envs\\tfg_dani\\lib\\site-packages\\torchvision\\models\\_utils.py:223: UserWarning: Arguments other than a weight enum or `None` for 'weights' are deprecated since 0.13 and may be removed in the future. The current behavior is equivalent to passing `weights=ResNet50_Weights.IMAGENET1K_V1`. You can also use `weights=ResNet50_Weights.DEFAULT` to get the most up-to-date weights.\n",
      "  warnings.warn(msg)\n",
      "GPU available: True (cuda), used: True\n",
      "TPU available: False, using: 0 TPU cores\n",
      "IPU available: False, using: 0 IPUs\n",
      "HPU available: False, using: 0 HPUs\n",
      "C:\\Users\\laraquij\\Anaconda3\\envs\\tfg_dani\\lib\\site-packages\\pytorch_lightning\\trainer\\connectors\\logger_connector\\logger_connector.py:68: UserWarning: Starting from v1.9.0, `tensorboardX` has been removed as a dependency of the `pytorch_lightning` package, due to potential conflicts with other packages in the ML ecosystem. For this reason, `logger=True` will use `CSVLogger` as the default logger, unless the `tensorboard` or `tensorboardX` packages are found. Please `pip install lightning[extra]` or one of them to enable TensorBoard support by default\n",
      "  \"Starting from v1.9.0, `tensorboardX` has been removed as a dependency of the `pytorch_lightning`\"\n",
      "LOCAL_RANK: 0 - CUDA_VISIBLE_DEVICES: [0]\n",
      "\n",
      "  | Name      | Type           | Params\n",
      "---------------------------------------------\n",
      "0 | accuracy  | BinaryAccuracy | 0     \n",
      "1 | f1score   | BinaryF1Score  | 0     \n",
      "2 | model     | ResNet         | 23.5 M\n",
      "3 | fuzzyloss | FuzzyLoss      | 0     \n",
      "---------------------------------------------\n",
      "4.1 K     Trainable params\n",
      "23.5 M    Non-trainable params\n",
      "23.5 M    Total params\n",
      "94.049    Total estimated model params size (MB)\n",
      "C:\\Users\\laraquij\\Anaconda3\\envs\\tfg_dani\\lib\\site-packages\\pytorch_lightning\\trainer\\connectors\\data_connector.py:229: PossibleUserWarning: The dataloader, train_dataloader, does not have many workers which may be a bottleneck. Consider increasing the value of the `num_workers` argument` (try 8 which is the number of cpus on this machine) in the `DataLoader` init to improve performance.\n",
      "  category=PossibleUserWarning,\n"
     ]
    },
    {
     "name": "stdout",
     "output_type": "stream",
     "text": [
      "Epoch 29: 100%|██████████| 1113/1113 [12:18<00:00,  1.51it/s, loss=0.147, v_num=400] "
     ]
    },
    {
     "name": "stderr",
     "output_type": "stream",
     "text": [
      "`Trainer.fit` stopped: `max_epochs=30` reached.\n"
     ]
    },
    {
     "name": "stdout",
     "output_type": "stream",
     "text": [
      "Epoch 29: 100%|██████████| 1113/1113 [12:19<00:00,  1.51it/s, loss=0.147, v_num=400]\n"
     ]
    },
    {
     "name": "stderr",
     "output_type": "stream",
     "text": [
      "100%|██████████| 279/279 [07:41<00:00,  1.65s/it]\n",
      "C:\\Users\\laraquij\\Anaconda3\\envs\\tfg_dani\\lib\\site-packages\\torchvision\\models\\_utils.py:209: UserWarning: The parameter 'pretrained' is deprecated since 0.13 and may be removed in the future, please use 'weights' instead.\n",
      "  f\"The parameter '{pretrained_param}' is deprecated since 0.13 and may be removed in the future, \"\n",
      "C:\\Users\\laraquij\\Anaconda3\\envs\\tfg_dani\\lib\\site-packages\\torchvision\\models\\_utils.py:223: UserWarning: Arguments other than a weight enum or `None` for 'weights' are deprecated since 0.13 and may be removed in the future. The current behavior is equivalent to passing `weights=ResNet50_Weights.IMAGENET1K_V1`. You can also use `weights=ResNet50_Weights.DEFAULT` to get the most up-to-date weights.\n",
      "  warnings.warn(msg)\n"
     ]
    },
    {
     "name": "stdout",
     "output_type": "stream",
     "text": [
      "------------fold nº 1----------------------\n"
     ]
    },
    {
     "name": "stderr",
     "output_type": "stream",
     "text": [
      "GPU available: True (cuda), used: True\n",
      "TPU available: False, using: 0 TPU cores\n",
      "IPU available: False, using: 0 IPUs\n",
      "HPU available: False, using: 0 HPUs\n",
      "LOCAL_RANK: 0 - CUDA_VISIBLE_DEVICES: [0]\n",
      "\n",
      "  | Name      | Type           | Params\n",
      "---------------------------------------------\n",
      "0 | accuracy  | BinaryAccuracy | 0     \n",
      "1 | f1score   | BinaryF1Score  | 0     \n",
      "2 | model     | ResNet         | 23.5 M\n",
      "3 | fuzzyloss | FuzzyLoss      | 0     \n",
      "---------------------------------------------\n",
      "4.1 K     Trainable params\n",
      "23.5 M    Non-trainable params\n",
      "23.5 M    Total params\n",
      "94.049    Total estimated model params size (MB)\n",
      "C:\\Users\\laraquij\\Anaconda3\\envs\\tfg_dani\\lib\\site-packages\\pytorch_lightning\\trainer\\connectors\\data_connector.py:229: PossibleUserWarning: The dataloader, train_dataloader, does not have many workers which may be a bottleneck. Consider increasing the value of the `num_workers` argument` (try 8 which is the number of cpus on this machine) in the `DataLoader` init to improve performance.\n",
      "  category=PossibleUserWarning,\n"
     ]
    },
    {
     "name": "stdout",
     "output_type": "stream",
     "text": [
      "Epoch 29: 100%|██████████| 1113/1113 [12:48<00:00,  1.45it/s, loss=0.121, v_num=402] "
     ]
    },
    {
     "name": "stderr",
     "output_type": "stream",
     "text": [
      "`Trainer.fit` stopped: `max_epochs=30` reached.\n"
     ]
    },
    {
     "name": "stdout",
     "output_type": "stream",
     "text": [
      "Epoch 29: 100%|██████████| 1113/1113 [12:49<00:00,  1.45it/s, loss=0.121, v_num=402]\n"
     ]
    },
    {
     "name": "stderr",
     "output_type": "stream",
     "text": [
      "100%|██████████| 279/279 [07:34<00:00,  1.63s/it]\n"
     ]
    },
    {
     "name": "stdout",
     "output_type": "stream",
     "text": [
      "------------fold nº 2----------------------\n"
     ]
    },
    {
     "name": "stderr",
     "output_type": "stream",
     "text": [
      "C:\\Users\\laraquij\\Anaconda3\\envs\\tfg_dani\\lib\\site-packages\\torchvision\\models\\_utils.py:209: UserWarning: The parameter 'pretrained' is deprecated since 0.13 and may be removed in the future, please use 'weights' instead.\n",
      "  f\"The parameter '{pretrained_param}' is deprecated since 0.13 and may be removed in the future, \"\n",
      "C:\\Users\\laraquij\\Anaconda3\\envs\\tfg_dani\\lib\\site-packages\\torchvision\\models\\_utils.py:223: UserWarning: Arguments other than a weight enum or `None` for 'weights' are deprecated since 0.13 and may be removed in the future. The current behavior is equivalent to passing `weights=ResNet50_Weights.IMAGENET1K_V1`. You can also use `weights=ResNet50_Weights.DEFAULT` to get the most up-to-date weights.\n",
      "  warnings.warn(msg)\n",
      "GPU available: True (cuda), used: True\n",
      "TPU available: False, using: 0 TPU cores\n",
      "IPU available: False, using: 0 IPUs\n",
      "HPU available: False, using: 0 HPUs\n",
      "LOCAL_RANK: 0 - CUDA_VISIBLE_DEVICES: [0]\n",
      "\n",
      "  | Name      | Type           | Params\n",
      "---------------------------------------------\n",
      "0 | accuracy  | BinaryAccuracy | 0     \n",
      "1 | f1score   | BinaryF1Score  | 0     \n",
      "2 | model     | ResNet         | 23.5 M\n",
      "3 | fuzzyloss | FuzzyLoss      | 0     \n",
      "---------------------------------------------\n",
      "4.1 K     Trainable params\n",
      "23.5 M    Non-trainable params\n",
      "23.5 M    Total params\n",
      "94.049    Total estimated model params size (MB)\n",
      "C:\\Users\\laraquij\\Anaconda3\\envs\\tfg_dani\\lib\\site-packages\\pytorch_lightning\\trainer\\connectors\\data_connector.py:229: PossibleUserWarning: The dataloader, train_dataloader, does not have many workers which may be a bottleneck. Consider increasing the value of the `num_workers` argument` (try 8 which is the number of cpus on this machine) in the `DataLoader` init to improve performance.\n",
      "  category=PossibleUserWarning,\n"
     ]
    },
    {
     "name": "stdout",
     "output_type": "stream",
     "text": [
      "Epoch 29: 100%|██████████| 1113/1113 [12:47<00:00,  1.45it/s, loss=0.126, v_num=403] "
     ]
    },
    {
     "name": "stderr",
     "output_type": "stream",
     "text": [
      "`Trainer.fit` stopped: `max_epochs=30` reached.\n"
     ]
    },
    {
     "name": "stdout",
     "output_type": "stream",
     "text": [
      "Epoch 29: 100%|██████████| 1113/1113 [12:48<00:00,  1.45it/s, loss=0.126, v_num=403]\n"
     ]
    },
    {
     "name": "stderr",
     "output_type": "stream",
     "text": [
      "100%|██████████| 279/279 [07:26<00:00,  1.60s/it]\n"
     ]
    },
    {
     "name": "stdout",
     "output_type": "stream",
     "text": [
      "------------fold nº 3----------------------\n"
     ]
    },
    {
     "name": "stderr",
     "output_type": "stream",
     "text": [
      "C:\\Users\\laraquij\\Anaconda3\\envs\\tfg_dani\\lib\\site-packages\\torchvision\\models\\_utils.py:209: UserWarning: The parameter 'pretrained' is deprecated since 0.13 and may be removed in the future, please use 'weights' instead.\n",
      "  f\"The parameter '{pretrained_param}' is deprecated since 0.13 and may be removed in the future, \"\n",
      "C:\\Users\\laraquij\\Anaconda3\\envs\\tfg_dani\\lib\\site-packages\\torchvision\\models\\_utils.py:223: UserWarning: Arguments other than a weight enum or `None` for 'weights' are deprecated since 0.13 and may be removed in the future. The current behavior is equivalent to passing `weights=ResNet50_Weights.IMAGENET1K_V1`. You can also use `weights=ResNet50_Weights.DEFAULT` to get the most up-to-date weights.\n",
      "  warnings.warn(msg)\n",
      "GPU available: True (cuda), used: True\n",
      "TPU available: False, using: 0 TPU cores\n",
      "IPU available: False, using: 0 IPUs\n",
      "HPU available: False, using: 0 HPUs\n",
      "LOCAL_RANK: 0 - CUDA_VISIBLE_DEVICES: [0]\n",
      "\n",
      "  | Name      | Type           | Params\n",
      "---------------------------------------------\n",
      "0 | accuracy  | BinaryAccuracy | 0     \n",
      "1 | f1score   | BinaryF1Score  | 0     \n",
      "2 | model     | ResNet         | 23.5 M\n",
      "3 | fuzzyloss | FuzzyLoss      | 0     \n",
      "---------------------------------------------\n",
      "4.1 K     Trainable params\n",
      "23.5 M    Non-trainable params\n",
      "23.5 M    Total params\n",
      "94.049    Total estimated model params size (MB)\n",
      "C:\\Users\\laraquij\\Anaconda3\\envs\\tfg_dani\\lib\\site-packages\\pytorch_lightning\\trainer\\connectors\\data_connector.py:229: PossibleUserWarning: The dataloader, train_dataloader, does not have many workers which may be a bottleneck. Consider increasing the value of the `num_workers` argument` (try 8 which is the number of cpus on this machine) in the `DataLoader` init to improve performance.\n",
      "  category=PossibleUserWarning,\n"
     ]
    },
    {
     "name": "stdout",
     "output_type": "stream",
     "text": [
      "Epoch 29: 100%|██████████| 1113/1113 [12:47<00:00,  1.45it/s, loss=0.102, v_num=405] "
     ]
    },
    {
     "name": "stderr",
     "output_type": "stream",
     "text": [
      "`Trainer.fit` stopped: `max_epochs=30` reached.\n"
     ]
    },
    {
     "name": "stdout",
     "output_type": "stream",
     "text": [
      "Epoch 29: 100%|██████████| 1113/1113 [12:47<00:00,  1.45it/s, loss=0.102, v_num=405]\n"
     ]
    },
    {
     "name": "stderr",
     "output_type": "stream",
     "text": [
      "100%|██████████| 279/279 [07:23<00:00,  1.59s/it]\n"
     ]
    },
    {
     "name": "stdout",
     "output_type": "stream",
     "text": [
      "------------fold nº 4----------------------\n"
     ]
    },
    {
     "name": "stderr",
     "output_type": "stream",
     "text": [
      "C:\\Users\\laraquij\\Anaconda3\\envs\\tfg_dani\\lib\\site-packages\\torchvision\\models\\_utils.py:209: UserWarning: The parameter 'pretrained' is deprecated since 0.13 and may be removed in the future, please use 'weights' instead.\n",
      "  f\"The parameter '{pretrained_param}' is deprecated since 0.13 and may be removed in the future, \"\n",
      "C:\\Users\\laraquij\\Anaconda3\\envs\\tfg_dani\\lib\\site-packages\\torchvision\\models\\_utils.py:223: UserWarning: Arguments other than a weight enum or `None` for 'weights' are deprecated since 0.13 and may be removed in the future. The current behavior is equivalent to passing `weights=ResNet50_Weights.IMAGENET1K_V1`. You can also use `weights=ResNet50_Weights.DEFAULT` to get the most up-to-date weights.\n",
      "  warnings.warn(msg)\n",
      "GPU available: True (cuda), used: True\n",
      "TPU available: False, using: 0 TPU cores\n",
      "IPU available: False, using: 0 IPUs\n",
      "HPU available: False, using: 0 HPUs\n",
      "LOCAL_RANK: 0 - CUDA_VISIBLE_DEVICES: [0]\n",
      "\n",
      "  | Name      | Type           | Params\n",
      "---------------------------------------------\n",
      "0 | accuracy  | BinaryAccuracy | 0     \n",
      "1 | f1score   | BinaryF1Score  | 0     \n",
      "2 | model     | ResNet         | 23.5 M\n",
      "3 | fuzzyloss | FuzzyLoss      | 0     \n",
      "---------------------------------------------\n",
      "4.1 K     Trainable params\n",
      "23.5 M    Non-trainable params\n",
      "23.5 M    Total params\n",
      "94.049    Total estimated model params size (MB)\n",
      "C:\\Users\\laraquij\\Anaconda3\\envs\\tfg_dani\\lib\\site-packages\\pytorch_lightning\\trainer\\connectors\\data_connector.py:229: PossibleUserWarning: The dataloader, train_dataloader, does not have many workers which may be a bottleneck. Consider increasing the value of the `num_workers` argument` (try 8 which is the number of cpus on this machine) in the `DataLoader` init to improve performance.\n",
      "  category=PossibleUserWarning,\n"
     ]
    },
    {
     "name": "stdout",
     "output_type": "stream",
     "text": [
      "Epoch 29: 100%|██████████| 1113/1113 [12:46<00:00,  1.45it/s, loss=0.0928, v_num=407]"
     ]
    },
    {
     "name": "stderr",
     "output_type": "stream",
     "text": [
      "`Trainer.fit` stopped: `max_epochs=30` reached.\n"
     ]
    },
    {
     "name": "stdout",
     "output_type": "stream",
     "text": [
      "Epoch 29: 100%|██████████| 1113/1113 [12:46<00:00,  1.45it/s, loss=0.0928, v_num=407]\n"
     ]
    },
    {
     "name": "stderr",
     "output_type": "stream",
     "text": [
      "100%|██████████| 279/279 [07:10<00:00,  1.54s/it]\n"
     ]
    },
    {
     "name": "stdout",
     "output_type": "stream",
     "text": [
      "{'0': {'precision': 0.9054494643688868, 'recall': 0.8674698795180723, 'f1-score': 0.886052871467639, 'support': 2241}, '1': {'precision': 0.5315457413249212, 'recall': 0.6240740740740741, 'f1-score': 0.5741056218057922, 'support': 540}, 'accuracy': 0.8202085580726357, 'macro avg': {'precision': 0.718497602846904, 'recall': 0.7457719767960732, 'f1-score': 0.7300792466367156, 'support': 2781}, 'weighted avg': {'precision': 0.8328467997001557, 'recall': 0.8202085580726357, 'f1-score': 0.8254805899799018, 'support': 2781}}\n"
     ]
    }
   ],
   "source": [
    "mean_losses = []\n",
    "mean_acc = []\n",
    "mean_f1s = []\n",
    "\n",
    "config = {'epochs': 30, 'gamma': 2, 'lr': 1e-4}\n",
    "report = train_tune(config)\n",
    "print(report)"
   ]
  },
  {
   "cell_type": "code",
   "execution_count": 9,
   "id": "10627f88",
   "metadata": {},
   "outputs": [
    {
     "data": {
      "image/png": "[encoded data removed]",
      "text/plain": [
       "<Figure size 640x480 with 1 Axes>"
      ]
     },
     "metadata": {},
     "output_type": "display_data"
    }
   ],
   "source": [
    "# Plot mean loss\n",
    "splits=49\n",
    "for i, l in enumerate(mean_losses):\n",
    "    mean_losses[i] = l.cpu().detach()\n",
    "\n",
    "ml = [sum(mean_losses[i:i + splits])/splits for i in range(0, len(mean_losses), splits)]\n",
    "ma = [sum(mean_acc[i:i + splits])/splits for i in range(0, len(mean_acc), splits)]\n",
    "mf = [sum(mean_f1s[i:i + splits])/splits for i in range(0, len(mean_f1s), splits)]\n",
    "x_axis = [i for i in range(3408)]\n",
    "\n",
    "plt.plot(x_axis, ml, 'g', label='Loss')\n",
    "plt.plot(x_axis, ma, 'b', label='Accuracy')\n",
    "plt.plot(x_axis, mf, 'r', label='F1-score')\n",
    "plt.title('Training metrics')\n",
    "plt.xlabel('Épocas')\n",
    "# plt.ylabel('Loss media')\n",
    "plt.legend()\n",
    "plt.show()"
   ]
  },
  {
   "cell_type": "markdown",
   "id": "cfa5df61",
   "metadata": {},
   "source": [
    "## <span style=\"color:blue\">gender_clf</span>"
   ]
  },
  {
   "cell_type": "code",
   "execution_count": 3,
   "id": "27391d1f",
   "metadata": {},
   "outputs": [
    {
     "name": "stdout",
     "output_type": "stream",
     "text": [
      "Class 0: 23243 / Class 1: 4967 / BDeg:  4.679484598349104\n"
     ]
    }
   ],
   "source": [
    "data_transforms = transforms.Compose([\n",
    "    transforms.RandomResizedCrop(224),\n",
    "    transforms.RandomHorizontalFlip(),\n",
    "    transforms.ToTensor(),\n",
    "    transforms.Normalize(mean=[0.485, 0.456, 0.406], std=[0.229, 0.224, 0.225]),\n",
    "])\n",
    "\n",
    "image_dataset = datasets.ImageFolder('../data/gender_clf/train',data_transforms)\n",
    "\n",
    "# Provocar bias cogiendo un porcentaje de la clase 1 solamente (modificando el porcentaje hasta obtener b_deg deseado)\n",
    "class_0_idxs = torch.nonzero(torch.Tensor(image_dataset.targets)==0).flatten()\n",
    "class_1_idxs = torch.nonzero(torch.Tensor(image_dataset.targets)==1).flatten()\n",
    "class_1_idxs = class_1_idxs[torch.randperm(len(class_1_idxs))[:int(len(class_1_idxs)*.209)]]\n",
    "\n",
    "c0_s, c1_s = len(class_0_idxs), len(class_1_idxs)\n",
    "b_deg = c0_s / c1_s\n",
    "print('Class 0:', len(class_0_idxs), '/ Class 1:', len(class_1_idxs), '/ BDeg: ', b_deg)\n",
    "\n",
    "class_1_subset = Subset(image_dataset, class_1_idxs)\n",
    "class_0_subset = Subset(image_dataset, class_0_idxs)\n",
    "image_dataset = ConcatDataset([class_0_subset, class_1_subset])"
   ]
  },
  {
   "cell_type": "code",
   "execution_count": 4,
   "id": "3e588a0f",
   "metadata": {},
   "outputs": [],
   "source": [
    "from torchvision.models import resnet50\n",
    "\n",
    "mean_losses = []\n",
    "mean_acc = []\n",
    "mean_f1s = []\n",
    "\n",
    "class ResNetCustom(pl.LightningModule):\n",
    "    def __init__(self,\n",
    "                 gamma=0.,\n",
    "                 class_sizes=[1,1],\n",
    "        ):\n",
    "        super().__init__()\n",
    "        self.n_classes = len(class_sizes)\n",
    "        \n",
    "        # metrics\n",
    "        task = \"multiclass\" if self.n_classes > 2 else \"binary\"\n",
    "        self.accuracy = torchmetrics.Accuracy(task=task, num_classes=self.n_classes)\n",
    "        self.f1score = torchmetrics.F1Score(task=task, num_classes=self.n_classes)\n",
    "        \n",
    "        self.model = resnet50(pretrained=True)\n",
    "        for param in self.model.parameters():\n",
    "            param.requires_grad = False\n",
    "        self.model.fc = nn.Linear(self.model.fc.in_features, self.n_classes, bias=True)\n",
    "            \n",
    "#         self.fuzzyloss = FuzzyLoss(gamma=gamma, class_sizes=class_sizes).cuda()\n",
    "        self.fuzzyloss = nn.CrossEntropyLoss().cuda()\n",
    "        \n",
    "    def forward(self, x):\n",
    "        return self.model(x)\n",
    "    \n",
    "    def training_step(self, batch, batch_no):\n",
    "        x, y = batch\n",
    "        logits = self(x)\n",
    "        \n",
    "        y_onehot = F.one_hot(y, num_classes=self.n_classes).long()\n",
    "        acc = self.accuracy(logits, y_onehot)\n",
    "        f1s = self.f1score(logits, y_onehot)\n",
    "        mean_acc.append(acc.item())\n",
    "        mean_f1s.append(f1s.item())\n",
    "        \n",
    "#         mean_loss, losses = self.fuzzyloss(logits, y)\n",
    "        mean_loss = self.fuzzyloss(logits, y)\n",
    "        mean_losses.append(mean_loss)\n",
    "        \n",
    "        # Update focal loss with Fuzzy Control System\n",
    "#         self.fuzzyloss.update_hyperparams(losses, y)\n",
    "        return mean_loss\n",
    "    \n",
    "    def configure_optimizers(self):\n",
    "        optimizer = torch.optim.Adam(self.model.fc.parameters(), lr=1e-4)\n",
    "        return {\n",
    "            \"optimizer\": optimizer,\n",
    "            \"lr_scheduler\": torch.optim.lr_scheduler.OneCycleLR(\n",
    "                                optimizer ,max_lr=0.01,\n",
    "                                steps_per_epoch=len(trainloader),\n",
    "                                epochs=EPOCHS)\n",
    "        }"
   ]
  },
  {
   "cell_type": "code",
   "execution_count": 5,
   "id": "bc70ab0e",
   "metadata": {},
   "outputs": [
    {
     "name": "stdout",
     "output_type": "stream",
     "text": [
      "------------fold nº 0----------------------\n"
     ]
    },
    {
     "name": "stderr",
     "output_type": "stream",
     "text": [
      "/home/d/miniconda3/envs/tfg/lib/python3.7/site-packages/pytorch_lightning/trainer/connectors/accelerator_connector.py:447: LightningDeprecationWarning: Setting `Trainer(gpus=1)` is deprecated in v1.7 and will be removed in v2.0. Please use `Trainer(accelerator='gpu', devices=1)` instead.\n",
      "  f\"Setting `Trainer(gpus={gpus!r})` is deprecated in v1.7 and will be removed\"\n",
      "/home/d/miniconda3/envs/tfg/lib/python3.7/site-packages/pytorch_lightning/trainer/connectors/accelerator_connector.py:467: UserWarning: The flag `devices=1` will be ignored, instead the device specific number 1 will be used\n",
      "  f\"The flag `devices={devices}` will be ignored, \"\n",
      "GPU available: True (cuda), used: True\n",
      "TPU available: False, using: 0 TPU cores\n",
      "IPU available: False, using: 0 IPUs\n",
      "HPU available: False, using: 0 HPUs\n",
      "LOCAL_RANK: 0 - CUDA_VISIBLE_DEVICES: [0]\n",
      "\n",
      "  | Name      | Type             | Params\n",
      "-----------------------------------------------\n",
      "0 | accuracy  | BinaryAccuracy   | 0     \n",
      "1 | f1score   | BinaryF1Score    | 0     \n",
      "2 | model     | ResNet           | 23.5 M\n",
      "3 | fuzzyloss | CrossEntropyLoss | 0     \n",
      "-----------------------------------------------\n",
      "4.1 K     Trainable params\n",
      "23.5 M    Non-trainable params\n",
      "23.5 M    Total params\n",
      "94.049    Total estimated model params size (MB)\n",
      "/home/d/miniconda3/envs/tfg/lib/python3.7/site-packages/pytorch_lightning/trainer/connectors/data_connector.py:229: PossibleUserWarning: The dataloader, train_dataloader, does not have many workers which may be a bottleneck. Consider increasing the value of the `num_workers` argument` (try 12 which is the number of cpus on this machine) in the `DataLoader` init to improve performance.\n",
      "  category=PossibleUserWarning,\n"
     ]
    },
    {
     "data": {
      "application/vnd.jupyter.widget-view+json": {
       "model_id": "cc1bd18bc4cf4168a1b83bbec94e782d",
       "version_major": 2,
       "version_minor": 0
      },
      "text/plain": [
       "Training: 0it [00:00, ?it/s]"
      ]
     },
     "metadata": {},
     "output_type": "display_data"
    },
    {
     "name": "stderr",
     "output_type": "stream",
     "text": [
      "`Trainer.fit` stopped: `max_epochs=25` reached.\n"
     ]
    },
    {
     "data": {
      "application/vnd.jupyter.widget-view+json": {
       "model_id": "8a96164ba2a547138cc2269c2b722d23",
       "version_major": 2,
       "version_minor": 0
      },
      "text/plain": [
       "  0%|          | 0/565 [00:00<?, ?it/s]"
      ]
     },
     "metadata": {},
     "output_type": "display_data"
    },
    {
     "name": "stdout",
     "output_type": "stream",
     "text": [
      "              precision    recall  f1-score   support\n",
      "\n",
      "           0      0.875     0.987     0.927      4615\n",
      "           1      0.860     0.365     0.513      1027\n",
      "\n",
      "    accuracy                          0.874      5642\n",
      "   macro avg      0.867     0.676     0.720      5642\n",
      "weighted avg      0.872     0.874     0.852      5642\n",
      "\n",
      "------------fold nº 1----------------------\n"
     ]
    },
    {
     "name": "stderr",
     "output_type": "stream",
     "text": [
      "/home/d/miniconda3/envs/tfg/lib/python3.7/site-packages/pytorch_lightning/trainer/connectors/accelerator_connector.py:447: LightningDeprecationWarning: Setting `Trainer(gpus=1)` is deprecated in v1.7 and will be removed in v2.0. Please use `Trainer(accelerator='gpu', devices=1)` instead.\n",
      "  f\"Setting `Trainer(gpus={gpus!r})` is deprecated in v1.7 and will be removed\"\n",
      "/home/d/miniconda3/envs/tfg/lib/python3.7/site-packages/pytorch_lightning/trainer/connectors/accelerator_connector.py:467: UserWarning: The flag `devices=1` will be ignored, instead the device specific number 1 will be used\n",
      "  f\"The flag `devices={devices}` will be ignored, \"\n",
      "GPU available: True (cuda), used: True\n",
      "TPU available: False, using: 0 TPU cores\n",
      "IPU available: False, using: 0 IPUs\n",
      "HPU available: False, using: 0 HPUs\n",
      "LOCAL_RANK: 0 - CUDA_VISIBLE_DEVICES: [0]\n",
      "\n",
      "  | Name      | Type             | Params\n",
      "-----------------------------------------------\n",
      "0 | accuracy  | BinaryAccuracy   | 0     \n",
      "1 | f1score   | BinaryF1Score    | 0     \n",
      "2 | model     | ResNet           | 23.5 M\n",
      "3 | fuzzyloss | CrossEntropyLoss | 0     \n",
      "-----------------------------------------------\n",
      "4.1 K     Trainable params\n",
      "23.5 M    Non-trainable params\n",
      "23.5 M    Total params\n",
      "94.049    Total estimated model params size (MB)\n",
      "/home/d/miniconda3/envs/tfg/lib/python3.7/site-packages/pytorch_lightning/trainer/connectors/data_connector.py:229: PossibleUserWarning: The dataloader, train_dataloader, does not have many workers which may be a bottleneck. Consider increasing the value of the `num_workers` argument` (try 12 which is the number of cpus on this machine) in the `DataLoader` init to improve performance.\n",
      "  category=PossibleUserWarning,\n"
     ]
    },
    {
     "data": {
      "application/vnd.jupyter.widget-view+json": {
       "model_id": "b731326106cc46208c12fd9bd4f41f02",
       "version_major": 2,
       "version_minor": 0
      },
      "text/plain": [
       "Training: 0it [00:00, ?it/s]"
      ]
     },
     "metadata": {},
     "output_type": "display_data"
    },
    {
     "name": "stderr",
     "output_type": "stream",
     "text": [
      "`Trainer.fit` stopped: `max_epochs=25` reached.\n"
     ]
    },
    {
     "data": {
      "application/vnd.jupyter.widget-view+json": {
       "model_id": "bc728b304ac7458d9b930a351995db15",
       "version_major": 2,
       "version_minor": 0
      },
      "text/plain": [
       "  0%|          | 0/565 [00:00<?, ?it/s]"
      ]
     },
     "metadata": {},
     "output_type": "display_data"
    },
    {
     "name": "stdout",
     "output_type": "stream",
     "text": [
      "              precision    recall  f1-score   support\n",
      "\n",
      "           0      0.902     0.971     0.935      4637\n",
      "           1      0.794     0.513     0.624      1005\n",
      "\n",
      "    accuracy                          0.890      5642\n",
      "   macro avg      0.848     0.742     0.779      5642\n",
      "weighted avg      0.883     0.890     0.880      5642\n",
      "\n",
      "------------fold nº 2----------------------\n"
     ]
    },
    {
     "name": "stderr",
     "output_type": "stream",
     "text": [
      "/home/d/miniconda3/envs/tfg/lib/python3.7/site-packages/pytorch_lightning/trainer/connectors/accelerator_connector.py:447: LightningDeprecationWarning: Setting `Trainer(gpus=1)` is deprecated in v1.7 and will be removed in v2.0. Please use `Trainer(accelerator='gpu', devices=1)` instead.\n",
      "  f\"Setting `Trainer(gpus={gpus!r})` is deprecated in v1.7 and will be removed\"\n",
      "/home/d/miniconda3/envs/tfg/lib/python3.7/site-packages/pytorch_lightning/trainer/connectors/accelerator_connector.py:467: UserWarning: The flag `devices=1` will be ignored, instead the device specific number 1 will be used\n",
      "  f\"The flag `devices={devices}` will be ignored, \"\n",
      "GPU available: True (cuda), used: True\n",
      "TPU available: False, using: 0 TPU cores\n",
      "IPU available: False, using: 0 IPUs\n",
      "HPU available: False, using: 0 HPUs\n",
      "LOCAL_RANK: 0 - CUDA_VISIBLE_DEVICES: [0]\n",
      "\n",
      "  | Name      | Type             | Params\n",
      "-----------------------------------------------\n",
      "0 | accuracy  | BinaryAccuracy   | 0     \n",
      "1 | f1score   | BinaryF1Score    | 0     \n",
      "2 | model     | ResNet           | 23.5 M\n",
      "3 | fuzzyloss | CrossEntropyLoss | 0     \n",
      "-----------------------------------------------\n",
      "4.1 K     Trainable params\n",
      "23.5 M    Non-trainable params\n",
      "23.5 M    Total params\n",
      "94.049    Total estimated model params size (MB)\n",
      "/home/d/miniconda3/envs/tfg/lib/python3.7/site-packages/pytorch_lightning/trainer/connectors/data_connector.py:229: PossibleUserWarning: The dataloader, train_dataloader, does not have many workers which may be a bottleneck. Consider increasing the value of the `num_workers` argument` (try 12 which is the number of cpus on this machine) in the `DataLoader` init to improve performance.\n",
      "  category=PossibleUserWarning,\n"
     ]
    },
    {
     "data": {
      "application/vnd.jupyter.widget-view+json": {
       "model_id": "5558b886ddbf4547a0c0f09995fb593d",
       "version_major": 2,
       "version_minor": 0
      },
      "text/plain": [
       "Training: 0it [00:00, ?it/s]"
      ]
     },
     "metadata": {},
     "output_type": "display_data"
    },
    {
     "name": "stderr",
     "output_type": "stream",
     "text": [
      "`Trainer.fit` stopped: `max_epochs=25` reached.\n"
     ]
    },
    {
     "data": {
      "application/vnd.jupyter.widget-view+json": {
       "model_id": "ead446aa1f76452f901128564bf111c8",
       "version_major": 2,
       "version_minor": 0
      },
      "text/plain": [
       "  0%|          | 0/565 [00:00<?, ?it/s]"
      ]
     },
     "metadata": {},
     "output_type": "display_data"
    },
    {
     "name": "stdout",
     "output_type": "stream",
     "text": [
      "              precision    recall  f1-score   support\n",
      "\n",
      "           0      0.938     0.906     0.922      4650\n",
      "           1      0.620     0.718     0.665       992\n",
      "\n",
      "    accuracy                          0.873      5642\n",
      "   macro avg      0.779     0.812     0.793      5642\n",
      "weighted avg      0.882     0.873     0.876      5642\n",
      "\n",
      "------------fold nº 3----------------------\n"
     ]
    },
    {
     "name": "stderr",
     "output_type": "stream",
     "text": [
      "/home/d/miniconda3/envs/tfg/lib/python3.7/site-packages/pytorch_lightning/trainer/connectors/accelerator_connector.py:447: LightningDeprecationWarning: Setting `Trainer(gpus=1)` is deprecated in v1.7 and will be removed in v2.0. Please use `Trainer(accelerator='gpu', devices=1)` instead.\n",
      "  f\"Setting `Trainer(gpus={gpus!r})` is deprecated in v1.7 and will be removed\"\n",
      "/home/d/miniconda3/envs/tfg/lib/python3.7/site-packages/pytorch_lightning/trainer/connectors/accelerator_connector.py:467: UserWarning: The flag `devices=1` will be ignored, instead the device specific number 1 will be used\n",
      "  f\"The flag `devices={devices}` will be ignored, \"\n",
      "GPU available: True (cuda), used: True\n",
      "TPU available: False, using: 0 TPU cores\n",
      "IPU available: False, using: 0 IPUs\n",
      "HPU available: False, using: 0 HPUs\n",
      "LOCAL_RANK: 0 - CUDA_VISIBLE_DEVICES: [0]\n",
      "\n",
      "  | Name      | Type             | Params\n",
      "-----------------------------------------------\n",
      "0 | accuracy  | BinaryAccuracy   | 0     \n",
      "1 | f1score   | BinaryF1Score    | 0     \n",
      "2 | model     | ResNet           | 23.5 M\n",
      "3 | fuzzyloss | CrossEntropyLoss | 0     \n",
      "-----------------------------------------------\n",
      "4.1 K     Trainable params\n",
      "23.5 M    Non-trainable params\n",
      "23.5 M    Total params\n",
      "94.049    Total estimated model params size (MB)\n",
      "/home/d/miniconda3/envs/tfg/lib/python3.7/site-packages/pytorch_lightning/trainer/connectors/data_connector.py:229: PossibleUserWarning: The dataloader, train_dataloader, does not have many workers which may be a bottleneck. Consider increasing the value of the `num_workers` argument` (try 12 which is the number of cpus on this machine) in the `DataLoader` init to improve performance.\n",
      "  category=PossibleUserWarning,\n"
     ]
    },
    {
     "data": {
      "application/vnd.jupyter.widget-view+json": {
       "model_id": "ed554f990e224146a9d1c67118a4a0e4",
       "version_major": 2,
       "version_minor": 0
      },
      "text/plain": [
       "Training: 0it [00:00, ?it/s]"
      ]
     },
     "metadata": {},
     "output_type": "display_data"
    },
    {
     "name": "stderr",
     "output_type": "stream",
     "text": [
      "`Trainer.fit` stopped: `max_epochs=25` reached.\n"
     ]
    },
    {
     "data": {
      "application/vnd.jupyter.widget-view+json": {
       "model_id": "ef0c7f01057e4e2f96a39afe44139f03",
       "version_major": 2,
       "version_minor": 0
      },
      "text/plain": [
       "  0%|          | 0/565 [00:00<?, ?it/s]"
      ]
     },
     "metadata": {},
     "output_type": "display_data"
    },
    {
     "name": "stdout",
     "output_type": "stream",
     "text": [
      "              precision    recall  f1-score   support\n",
      "\n",
      "           0      0.954     0.834     0.890      4678\n",
      "           1      0.500     0.805     0.617       964\n",
      "\n",
      "    accuracy                          0.829      5642\n",
      "   macro avg      0.727     0.820     0.753      5642\n",
      "weighted avg      0.876     0.829     0.843      5642\n",
      "\n",
      "------------fold nº 4----------------------\n"
     ]
    },
    {
     "name": "stderr",
     "output_type": "stream",
     "text": [
      "/home/d/miniconda3/envs/tfg/lib/python3.7/site-packages/pytorch_lightning/trainer/connectors/accelerator_connector.py:447: LightningDeprecationWarning: Setting `Trainer(gpus=1)` is deprecated in v1.7 and will be removed in v2.0. Please use `Trainer(accelerator='gpu', devices=1)` instead.\n",
      "  f\"Setting `Trainer(gpus={gpus!r})` is deprecated in v1.7 and will be removed\"\n",
      "/home/d/miniconda3/envs/tfg/lib/python3.7/site-packages/pytorch_lightning/trainer/connectors/accelerator_connector.py:467: UserWarning: The flag `devices=1` will be ignored, instead the device specific number 1 will be used\n",
      "  f\"The flag `devices={devices}` will be ignored, \"\n",
      "GPU available: True (cuda), used: True\n",
      "TPU available: False, using: 0 TPU cores\n",
      "IPU available: False, using: 0 IPUs\n",
      "HPU available: False, using: 0 HPUs\n",
      "LOCAL_RANK: 0 - CUDA_VISIBLE_DEVICES: [0]\n",
      "\n",
      "  | Name      | Type             | Params\n",
      "-----------------------------------------------\n",
      "0 | accuracy  | BinaryAccuracy   | 0     \n",
      "1 | f1score   | BinaryF1Score    | 0     \n",
      "2 | model     | ResNet           | 23.5 M\n",
      "3 | fuzzyloss | CrossEntropyLoss | 0     \n",
      "-----------------------------------------------\n",
      "4.1 K     Trainable params\n",
      "23.5 M    Non-trainable params\n",
      "23.5 M    Total params\n",
      "94.049    Total estimated model params size (MB)\n",
      "/home/d/miniconda3/envs/tfg/lib/python3.7/site-packages/pytorch_lightning/trainer/connectors/data_connector.py:229: PossibleUserWarning: The dataloader, train_dataloader, does not have many workers which may be a bottleneck. Consider increasing the value of the `num_workers` argument` (try 12 which is the number of cpus on this machine) in the `DataLoader` init to improve performance.\n",
      "  category=PossibleUserWarning,\n"
     ]
    },
    {
     "data": {
      "application/vnd.jupyter.widget-view+json": {
       "model_id": "9427ef1042cb48b0a28eb3caa0101441",
       "version_major": 2,
       "version_minor": 0
      },
      "text/plain": [
       "Training: 0it [00:00, ?it/s]"
      ]
     },
     "metadata": {},
     "output_type": "display_data"
    },
    {
     "name": "stderr",
     "output_type": "stream",
     "text": [
      "`Trainer.fit` stopped: `max_epochs=25` reached.\n"
     ]
    },
    {
     "data": {
      "application/vnd.jupyter.widget-view+json": {
       "model_id": "2f36a58881864ba8b7bc84b9de9397b8",
       "version_major": 2,
       "version_minor": 0
      },
      "text/plain": [
       "  0%|          | 0/565 [00:00<?, ?it/s]"
      ]
     },
     "metadata": {},
     "output_type": "display_data"
    },
    {
     "name": "stdout",
     "output_type": "stream",
     "text": [
      "              precision    recall  f1-score   support\n",
      "\n",
      "           0      0.869     0.991     0.926      4663\n",
      "           1      0.868     0.289     0.434       979\n",
      "\n",
      "    accuracy                          0.869      5642\n",
      "   macro avg      0.869     0.640     0.680      5642\n",
      "weighted avg      0.869     0.869     0.841      5642\n",
      "\n"
     ]
    }
   ],
   "source": [
    "EPOCHS=25\n",
    "K=5\n",
    "GAMMA_0=2\n",
    "BATCH_SIZE=10\n",
    "\n",
    "def get_prediction(x, model: pl.LightningModule):\n",
    "    model.freeze() # prepares model for predicting\n",
    "    probabilities = torch.softmax(model(x), dim=1)\n",
    "    predicted_class = torch.argmax(probabilities, dim=1)\n",
    "    return predicted_class, probabilities\n",
    "\n",
    "kfold = KFold(n_splits=K, shuffle=True)\n",
    "for fold,(train_idx,val_idx) in enumerate(kfold.split(image_dataset)):\n",
    "    print(f'------------fold nº {fold}----------------------')\n",
    "    \n",
    "    train_subsampler = torch.utils.data.SubsetRandomSampler(train_idx)\n",
    "    val_subsampler = torch.utils.data.SubsetRandomSampler(val_idx)\n",
    "    trainloader = torch.utils.data.DataLoader(\n",
    "                      image_dataset, \n",
    "                      batch_size=BATCH_SIZE, sampler=train_subsampler)\n",
    "    testloader = torch.utils.data.DataLoader(\n",
    "                      image_dataset,\n",
    "                      batch_size=BATCH_SIZE, sampler=val_subsampler)\n",
    "    \n",
    "    # Train this fold\n",
    "    model = ResNetCustom(gamma=GAMMA_0, class_sizes=[c0_s,c1_s])\n",
    "    trainer = pl.Trainer(gpus=1, max_epochs=EPOCHS, devices=1, accelerator=\"gpu\")\n",
    "    trainer.fit(model, trainloader)\n",
    "    \n",
    "    # Test this fold\n",
    "    true_y, pred_y = [], []\n",
    "    for batch in tqdm(iter(testloader), total=len(testloader)):\n",
    "        x, y = batch\n",
    "        true_y.extend(y)\n",
    "        preds, probs = get_prediction(x, model)\n",
    "        pred_y.extend(preds.cpu())\n",
    "    \n",
    "    print(classification_report(true_y, pred_y, digits=3))"
   ]
  },
  {
   "cell_type": "code",
   "execution_count": 9,
   "id": "9b9b70e9",
   "metadata": {},
   "outputs": [
    {
     "data": {
      "image/png": "[encoded data removed]",
      "text/plain": [
       "<Figure size 640x480 with 1 Axes>"
      ]
     },
     "metadata": {},
     "output_type": "display_data"
    }
   ],
   "source": [
    "# Plot mean loss\n",
    "x_axis = [i for i in range(5643)]\n",
    "\n",
    "splits=50\n",
    "plt.plot(x_axis, [sum(mean_losses[i:i + splits])/splits for i in range(0, len(mean_losses), splits)], 'g', label='Loss')\n",
    "plt.plot(x_axis, [sum(mean_acc[i:i + splits])/splits for i in range(0, len(mean_acc), splits)], 'b', label='Accuracy')\n",
    "# plt.plot(x_axis, [sum(mean_f1s[i:i + splits])/splits for i in range(0, len(mean_f1s), splits)], 'r', label='F1-score')\n",
    "plt.title('Training metrics')\n",
    "plt.xlabel('Épocas')\n",
    "# plt.ylabel('Loss media')\n",
    "plt.legend()\n",
    "plt.show()"
   ]
  }
 ],
 "metadata": {
  "kernelspec": {
   "display_name": "Python 3 (ipykernel)",
   "language": "python",
   "name": "python3"
  },
  "language_info": {
   "codemirror_mode": {
    "name": "ipython",
    "version": 3
   },
   "file_extension": ".py",
   "mimetype": "text/x-python",
   "name": "python",
   "nbconvert_exporter": "python",
   "pygments_lexer": "ipython3",
   "version": "3.7.13"
  }
 },
 "nbformat": 4,
 "nbformat_minor": 5
}

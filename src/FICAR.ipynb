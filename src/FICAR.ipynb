{
 "cells": [
  {
   "cell_type": "code",
   "execution_count": 1,
   "id": "4ddd4569",
   "metadata": {},
   "outputs": [],
   "source": [
    "import numpy as np\n",
    "import matplotlib.pyplot as plt\n",
    "\n",
    "import os\n",
    "os.environ['TF_CPP_MIN_LOG_LEVEL'] = '3' \n",
    "# import tensorflow as tf\n",
    "# from tensorflow.keras.losses import CategoricalCrossentropy\n",
    "import torch\n",
    "import torch.nn.functional as F\n",
    "from System import FICAR"
   ]
  },
  {
   "cell_type": "markdown",
   "id": "4eabf350",
   "metadata": {},
   "source": [
    "# Fuzzy Loss Function"
   ]
  },
  {
   "cell_type": "code",
   "execution_count": 9,
   "id": "3f60cf8f",
   "metadata": {},
   "outputs": [
    {
     "name": "stdout",
     "output_type": "stream",
     "text": [
      "DF-CELoss :  1.2661572\n",
      "DF-CELoss :  1.2661572\n",
      "FuzzyLoss :  1.2661572\n"
     ]
    }
   ],
   "source": [
    "from FuzzyLoss import FuzzyLoss\n",
    "\n",
    "y_true = torch.tensor([4,  1], dtype=torch.int64)\n",
    "y_pred = torch.tensor([[0 , .7 , 0 ,0 ,  .3], [0, 0.9, 0, 0.1, 0]])\n",
    "\n",
    "print('DF-CELoss : ', F.cross_entropy(y_pred, y_true).numpy())\n",
    "print('DF-CELoss : ', torch.nn.CrossEntropyLoss()(y_pred, y_true).numpy())\n",
    "print('FuzzyLoss : ', FuzzyLoss(gamma=0.)(y_pred, y_true).numpy())"
   ]
  },
  {
   "cell_type": "markdown",
   "id": "3d0310fa",
   "metadata": {},
   "source": [
    "Let's test it with a simple VGG16 + Cifar10 dataset"
   ]
  },
  {
   "cell_type": "code",
   "execution_count": 7,
   "id": "20907028",
   "metadata": {},
   "outputs": [
    {
     "name": "stdout",
     "output_type": "stream",
     "text": [
      "Downloading data from https://www.cs.toronto.edu/~kriz/cifar-10-python.tar.gz\n",
      "170500096/170498071 [==============================] - 15s 0us/step\n"
     ]
    }
   ],
   "source": [
    "from tensorflow.keras import datasets\n",
    "from tensorflow.keras.layers import Dense, Dropout, Flatten\n",
    "from tensorflow.keras.models import Model\n",
    "\n",
    "(train_images, train_labels), (test_images, test_labels) = datasets.cifar10.load_data()\n",
    "#Normalize the pixel valuesº\n",
    "train_images, test_images = train_images / 255.0, test_images / 255.0"
   ]
  },
  {
   "cell_type": "code",
   "execution_count": 8,
   "id": "2342c6f1",
   "metadata": {},
   "outputs": [],
   "source": [
    "train_labels = tf.keras.utils.to_categorical(train_labels)\n",
    "test_labels = tf.keras.utils.to_categorical(test_labels)\n",
    "train_labels = tf.convert_to_tensor(train_labels, dtype=tf.float32)\n",
    "test_labels = tf.convert_to_tensor(test_labels, dtype=tf.float32)\n",
    "train_labels."
   ]
  },
  {
   "cell_type": "code",
   "execution_count": null,
   "id": "2d1c61f2",
   "metadata": {},
   "outputs": [],
   "source": [
    "base_model = tf.keras.applications.vgg16.VGG16(input_shape = (32, 32, 3), include_top = False, weights = 'imagenet')\n",
    "base_model.trainable=False\n",
    "model=base_model.output\n",
    "model=Flatten()(model)\n",
    "model=Dense(4096, activation='relu')(model)\n",
    "model=Dropout(rate=0.5)(model)\n",
    "model=Dense(4096, activation='relu')(model)\n",
    "model=Dropout(rate=0.5)(model)\n",
    "model=Dense(10, activation='softmax')(model)\n",
    "model=Model(inputs=base_model.inputs, outputs=model)"
   ]
  },
  {
   "cell_type": "code",
   "execution_count": 23,
   "id": "91bcafe0",
   "metadata": {},
   "outputs": [
    {
     "name": "stdout",
     "output_type": "stream",
     "text": [
      "Epoch 1/5\n",
      "1563/1563 [==============================] - 27s 17ms/step - loss: nan - accuracy: 0.0999 - val_loss: nan - val_accuracy: 0.1000\n",
      "Epoch 2/5\n",
      "1563/1563 [==============================] - 28s 18ms/step - loss: nan - accuracy: 0.1014 - val_loss: nan - val_accuracy: 0.1000\n",
      "Epoch 3/5\n",
      "1563/1563 [==============================] - 28s 18ms/step - loss: nan - accuracy: 0.1004 - val_loss: nan - val_accuracy: 0.1000\n",
      "Epoch 4/5\n",
      "1563/1563 [==============================] - 28s 18ms/step - loss: nan - accuracy: 0.0992 - val_loss: nan - val_accuracy: 0.1000\n",
      "Epoch 5/5\n",
      "1563/1563 [==============================] - 29s 18ms/step - loss: nan - accuracy: 0.0989 - val_loss: nan - val_accuracy: 0.1000\n"
     ]
    }
   ],
   "source": [
    "model.compile(optimizer='adam', loss=FuzzyLoss(gamma=2), metrics=['accuracy'])\n",
    "history = model.fit(train_images, train_labels, epochs=5, validation_data=(test_images, test_labels))"
   ]
  },
  {
   "cell_type": "code",
   "execution_count": 24,
   "id": "ecdf6d6c",
   "metadata": {},
   "outputs": [
    {
     "name": "stdout",
     "output_type": "stream",
     "text": [
      "313/313 - 3s - loss: nan - accuracy: 0.1000\n"
     ]
    }
   ],
   "source": [
    "test_loss, test_acc = model.evaluate(test_images,  test_labels, verbose=2)"
   ]
  },
  {
   "cell_type": "code",
   "execution_count": 21,
   "id": "a3ad9563",
   "metadata": {},
   "outputs": [
    {
     "data": {
      "text/plain": [
       "(nan, 0.10000000149011612)"
      ]
     },
     "execution_count": 21,
     "metadata": {},
     "output_type": "execute_result"
    }
   ],
   "source": [
    "test_loss, test_acc"
   ]
  },
  {
   "cell_type": "code",
   "execution_count": null,
   "id": "6a36af08",
   "metadata": {},
   "outputs": [],
   "source": []
  },
  {
   "cell_type": "markdown",
   "id": "a803511e",
   "metadata": {},
   "source": [
    "# System"
   ]
  },
  {
   "cell_type": "code",
   "execution_count": 6,
   "id": "2ad05420",
   "metadata": {},
   "outputs": [
    {
     "name": "stdout",
     "output_type": "stream",
     "text": [
      "P(0,1)-> Fit with pair ('male_w', 'female_w')\n",
      "P(0,2)-> Fit with pair ('male_w', 'male_b')\n",
      "P(0,3)-> Fit with pair ('male_w', 'female_b')\n",
      "P(1,2)-> Fit with pair ('female_w', 'male_b')\n",
      "P(1,3)-> Fit with pair ('female_w', 'female_b')\n",
      "P(2,3)-> Fit with pair ('male_b', 'female_b')\n"
     ]
    }
   ],
   "source": [
    "system = FICAR(n_classes=4, class_names=['male_w', 'female_w', 'male_b', 'female_b'])\n",
    "system.train(\"dummyDL\")"
   ]
  },
  {
   "cell_type": "code",
   "execution_count": 7,
   "id": "aea66b22",
   "metadata": {},
   "outputs": [
    {
     "name": "stdout",
     "output_type": "stream",
     "text": [
      "[[0.         0.3120504  0.95452845 0.81355755]\n",
      " [0.6879496  0.         0.24934205 0.20867684]\n",
      " [0.04547155 0.75065795 0.         0.10901914]\n",
      " [0.18644245 0.79132316 0.89098086 0.        ]]\n",
      "male_b\n"
     ]
    }
   ],
   "source": [
    "y_pred = system.predict('dummyIns')\n",
    "print(system.decisions)\n",
    "print(y_pred)"
   ]
  },
  {
   "cell_type": "code",
   "execution_count": null,
   "id": "6ce7edfd",
   "metadata": {},
   "outputs": [],
   "source": []
  },
  {
   "cell_type": "code",
   "execution_count": null,
   "id": "d24e3da5",
   "metadata": {},
   "outputs": [],
   "source": []
  },
  {
   "cell_type": "code",
   "execution_count": null,
   "id": "036286fd",
   "metadata": {},
   "outputs": [],
   "source": []
  },
  {
   "cell_type": "code",
   "execution_count": null,
   "id": "bb20910e",
   "metadata": {},
   "outputs": [],
   "source": []
  }
 ],
 "metadata": {
  "kernelspec": {
   "display_name": "Python 3 (ipykernel)",
   "language": "python",
   "name": "python3"
  },
  "language_info": {
   "codemirror_mode": {
    "name": "ipython",
    "version": 3
   },
   "file_extension": ".py",
   "mimetype": "text/x-python",
   "name": "python",
   "nbconvert_exporter": "python",
   "pygments_lexer": "ipython3",
   "version": "3.7.13"
  }
 },
 "nbformat": 4,
 "nbformat_minor": 5
}

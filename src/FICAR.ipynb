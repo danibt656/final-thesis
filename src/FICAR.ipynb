{
 "cells": [
  {
   "cell_type": "markdown",
   "id": "1216511f",
   "metadata": {},
   "source": [
    "# Index\n",
    "\n",
    "### - Fuzzy Loss Function\n",
    "\n",
    "### - Training a Net with FuzzyLoss (ft. pytorch_lightning)\n",
    "\n",
    "#### a1) ResNet50\n",
    "\n",
    "#### a2) ResNeXt50_32x4d\n",
    "\n",
    "#### b) VGG-16"
   ]
  },
  {
   "cell_type": "code",
   "execution_count": 2,
   "id": "4ddd4569",
   "metadata": {},
   "outputs": [],
   "source": [
    "import numpy as np\n",
    "import pandas as pd\n",
    "import matplotlib.pyplot as plt\n",
    "\n",
    "import os\n",
    "os.environ['TF_CPP_MIN_LOG_LEVEL'] = '3'\n",
    "import torch\n",
    "import torch.nn.functional as F\n",
    "import pytorch_lightning as pl\n",
    "from torch import nn\n",
    "from torch.utils.data import Subset, ConcatDataset\n",
    "import torchmetrics\n",
    "\n",
    "from fuzzylogic.classes import Domain, Set, Rule\n",
    "from fuzzylogic.hedges import very\n",
    "from fuzzylogic.functions import R, S, alpha, triangular\n",
    "\n",
    "from System import FICAR\n",
    "from sklearn.model_selection import KFold\n",
    "from sklearn.metrics import classification_report\n",
    "from torchvision import datasets, transforms\n",
    "from tqdm.autonotebook import tqdm\n",
    "\n",
    "# from ray import tune\n",
    "# from ray.tune.integration.pytorch_lightning import TuneReportCallback"
   ]
  },
  {
   "cell_type": "markdown",
   "id": "4eabf350",
   "metadata": {},
   "source": [
    "# Fuzzy Loss Function"
   ]
  },
  {
   "cell_type": "code",
   "execution_count": 3,
   "id": "3f60cf8f",
   "metadata": {},
   "outputs": [],
   "source": [
    "# from FuzzyLoss import FuzzyLoss\n",
    "\n",
    "class FL_FCS():\n",
    "    \"\"\" Fuzzy Control System for Focal Loss \"\"\"\n",
    "    def __init__(self):\n",
    "        # Definir dominios de inputs y output\n",
    "        self.balance_deg = Domain(\"balance_deg\", 0, 1, res=0.1)\n",
    "        self.balance_deg.low = S(0.2, 0.8)\n",
    "        self.balance_deg.high = R(0.2,0.8)\n",
    "\n",
    "        self.loss_tminus = Domain(\"loss_tminus\", 0, 2, res=0.01)\n",
    "        self.loss_tminus.low = S(0.25, 1.75)\n",
    "        self.loss_tminus.med = triangular(0.25, 1.75, c=1.0)\n",
    "        self.loss_tminus.high = R(0.25,1.85)\n",
    "\n",
    "        self.delta_gamma = Domain(\"Delta_gamma\", -0.2, 0.2, res=0.01)\n",
    "        self.delta_gamma.ne = S(-0.2, -0.0)\n",
    "        self.delta_gamma.ze = triangular(-0.2, 0.2, c=-0.0)\n",
    "        self.delta_gamma.po = R(0.0, 0.2)\n",
    "\n",
    "        # Reglas\n",
    "        R1 = Rule({(self.balance_deg.low, self.loss_tminus.low): self.delta_gamma.ne})\n",
    "        R2 = Rule({(self.balance_deg.low, self.loss_tminus.med): self.delta_gamma.ne})\n",
    "        R3 = Rule({(self.balance_deg.low, self.loss_tminus.high): self.delta_gamma.ze})\n",
    "        R4 = Rule({(self.balance_deg.high, self.loss_tminus.low): self.delta_gamma.ze})\n",
    "        R5 = Rule({(self.balance_deg.high, self.loss_tminus.med): self.delta_gamma.po})\n",
    "        R6 = Rule({(self.balance_deg.high, self.loss_tminus.high): self.delta_gamma.po})\n",
    "        self.rules = R1 | R2 | R3 | R4 | R5 | R6\n",
    "    \n",
    "    def evaluate(self, bd, lt):\n",
    "        \"\"\" return how much to change current gamma in terms of:\n",
    "            - current class' balance degree\n",
    "            - current focal loss for current class, obtained during step\n",
    "        \"\"\"\n",
    "        values = {self.balance_deg: bd, self.loss_tminus: lt}\n",
    "        delta_gamma = self.rules(values)\n",
    "        return delta_gamma\n",
    "\n",
    "    \n",
    "class FuzzyLoss(torch.nn.CrossEntropyLoss):\n",
    "    \"\"\" Fuzzy-Adaptive Focal Loss\n",
    "    \n",
    "    gamma in [0, +inf)\n",
    "    alpha in [0, 1]\n",
    "    \"\"\"\n",
    "    def __init__(self, gamma=0, class_sizes=[1,1], alpha=None):\n",
    "        super(FuzzyLoss, self).__init__()\n",
    "        \n",
    "        self.class_sizes = np.array(class_sizes)\n",
    "        self.n_classes = len(self.class_sizes)\n",
    "        # balance degree of each class (size_i / max(size_j))\n",
    "        self.balance_deg = dict((i, class_sizes[i]/max(class_sizes)) for i in range(len(class_sizes)))\n",
    "        \n",
    "        # initially all classes with same gamma\n",
    "        self.gamma = dict((i, gamma) for i in range(self.n_classes))\n",
    "        self.alpha = alpha\n",
    "        \n",
    "        if isinstance(alpha,(float,int)): self.alpha = torch.Tensor([alpha,1-alpha])\n",
    "        if isinstance(alpha,list): self.alpha = torch.Tensor(alpha)\n",
    "        \n",
    "        self.FCS = FL_FCS()\n",
    "\n",
    "    def forward(self, input_, target):\n",
    "        if input_.dim()>2:\n",
    "            input_ = input_.view(input_.size(0),input_.size(1),-1)  # N,C,H,W => N,C,H*W\n",
    "            input_ = input_.transpose(1,2)    # N,C,H*W => N,H*W,C\n",
    "            input_ = input_.contiguous().view(-1,input_.size(2))   # N,H*W,C => N*H*W,C\n",
    "        ground_truth = target\n",
    "        target = target.view(-1,1)\n",
    "\n",
    "        logpt = F.log_softmax(input_, dim=1)\n",
    "        logpt = logpt.gather(1,target)\n",
    "        logpt = logpt.view(-1)\n",
    "        pt = logpt.data.exp()\n",
    "\n",
    "        if self.alpha is not None:\n",
    "            if self.alpha.type()!=input_.data.type():\n",
    "                self.alpha = self.alpha.type_as(input_.data)\n",
    "            at = self.alpha.gather(0,target.data.view(-1))\n",
    "            logpt = logpt * Variable(at)\n",
    "        \n",
    "        loss = torch.Tensor([0.0]*len(pt))\n",
    "        for i, (pt_, logpt_) in enumerate(zip(pt, logpt)):\n",
    "            curr_class = ground_truth[i].item()\n",
    "            # la loss de cada instancia del batch evaluada con su gamma respectiva\n",
    "            loss[i] = -1 * (1-pt_)**self.gamma[curr_class] * logpt_\n",
    "        \n",
    "        # tanto la media como el loss para cada _Instancia_\n",
    "        return loss.mean(), loss\n",
    "        \n",
    "    def update_hyperparams(self, current_losses, targets, alpha=None):\n",
    "        \"\"\" update each class' gamma based on:\n",
    "            - that class's balance degree\n",
    "            - that class's loss in current step\n",
    "        \"\"\"\n",
    "        if alpha is not None:\n",
    "            self.alpha = alpha\n",
    "        if len(current_losses) != len(targets):\n",
    "            raise ValueError('current loss must be same length as targets!')\n",
    "        \n",
    "        # obtener loss media para cada clase\n",
    "        class_loss = {}\n",
    "        targets = targets.cpu().numpy()\n",
    "        for i in range(len(targets)):\n",
    "            if targets[i] not in class_loss:\n",
    "                class_loss[targets[i]] = np.array([current_losses[i].item()])\n",
    "            else:\n",
    "                class_loss[targets[i]] = np.append(class_loss[targets[i]], current_losses[i].item())\n",
    "        for k in class_loss.keys():\n",
    "            class_loss[k] = class_loss[k].mean()\n",
    "        \n",
    "        for i in range(self.n_classes):\n",
    "            try:\n",
    "                delta_gamma = self.FCS.evaluate(self.balance_deg[i], class_loss[i])\n",
    "            except:\n",
    "                delta_gamma = 0\n",
    "            self.gamma[i] += delta_gamma\n",
    "            self.gamma[i] = max(self.gamma[i], 0) # enforce gamma >= 0"
   ]
  },
  {
   "cell_type": "code",
   "execution_count": 4,
   "id": "68c20691",
   "metadata": {},
   "outputs": [
    {
     "name": "stdout",
     "output_type": "stream",
     "text": [
      "DF-CELoss :  1.0661571\n",
      "FuzzyLoss':  1.0661571\n",
      "FuzzyLoss\":  1.0661571\n"
     ]
    }
   ],
   "source": [
    "y_true = torch.tensor([0,  1], dtype=torch.int64)\n",
    "y_pred = torch.tensor([[.7 , 0 , 0 ,0 ,  .3], [0, 0.9, 0, 0.1, 0]])\n",
    "\n",
    "print('DF-CELoss : ', torch.nn.CrossEntropyLoss()(y_pred, y_true).numpy())\n",
    "\n",
    "fuzzyloss = FuzzyLoss(gamma=0., class_sizes=[500,5000])\n",
    "loss, losses = fuzzyloss(y_pred, y_true)\n",
    "print('FuzzyLoss\\': ', loss.numpy())\n",
    "fuzzyloss.update_hyperparams(losses, y_true)\n",
    "print('FuzzyLoss\": ', loss.numpy())"
   ]
  },
  {
   "cell_type": "markdown",
   "id": "7a154ade",
   "metadata": {},
   "source": [
    "# Training a Net with FuzzyLoss (ft. `pytorch_lightning`)\n",
    "\n",
    "## ResNet50"
   ]
  },
  {
   "cell_type": "code",
   "execution_count": null,
   "id": "51825087",
   "metadata": {},
   "outputs": [],
   "source": [
    "from System import get_dataloaders_from_path, plot_images_sample\n",
    "\n",
    "dataloaders, dataset_sizes, class_names = get_dataloaders_from_path('../data/PlantVillage/')\n",
    "plot_images_sample(dataloaders['train'])\n",
    "print('NTrain:', len(dataloaders['train'])*32, '// NVal:', len(dataloaders['val'])*32) # 32-img batches"
   ]
  },
  {
   "cell_type": "code",
   "execution_count": 88,
   "id": "e1d2a8e7",
   "metadata": {},
   "outputs": [],
   "source": [
    "from torchvision.models import resnet50\n",
    "\n",
    "EPOCHS = 200\n",
    "mean_losses = []\n",
    "mean_acc = []\n",
    "mean_f1s = []\n",
    "\n",
    "class ResNetCustom(pl.LightningModule):\n",
    "    def __init__(self, gamma=0., class_sizes=[1,1]):\n",
    "        super().__init__()\n",
    "        self.n_classes = len(class_sizes)\n",
    "        \n",
    "        # metrics\n",
    "        task = \"multiclass\" if self.n_classes > 2 else \"binary\"\n",
    "        self.accuracy = torchmetrics.Accuracy(task=task, num_classes=self.n_classes)\n",
    "        self.f1score = torchmetrics.F1Score(task=task, num_classes=self.n_classes)\n",
    "        \n",
    "        self.model = resnet50(pretrained=True)\n",
    "        for param in self.model.parameters():\n",
    "            param.requires_grad = False\n",
    "        self.model.fc = nn.Linear(self.model.fc.in_features, self.n_classes, bias=True)\n",
    "            \n",
    "        self.fuzzyloss = FuzzyLoss(gamma=gamma, class_sizes=class_sizes).cuda()\n",
    "        \n",
    "    def forward(self, x):\n",
    "        return self.model(x)\n",
    "    \n",
    "    def training_step(self, batch, batch_no):\n",
    "        x, y = batch\n",
    "        logits = self(x)\n",
    "        \n",
    "        y_onehot = F.one_hot(y, num_classes=self.n_classes).long()\n",
    "        acc = self.accuracy(logits, y_onehot)\n",
    "        f1s = self.f1score(logits, y_onehot)\n",
    "        mean_acc.append(acc.item())\n",
    "        mean_f1s.append(f1s.item())\n",
    "        \n",
    "        mean_loss, losses = self.fuzzyloss(logits, y)\n",
    "        mean_losses.append(mean_loss)\n",
    "        \n",
    "        # Update focal loss with Fuzzy Control System\n",
    "#         self.fuzzyloss.update_hyperparams(losses, y)\n",
    "        return mean_loss\n",
    "    \n",
    "    def configure_optimizers(self):\n",
    "#         return torch.optim.RMSprop(self.parameters(), lr=0.005)\n",
    "#         return torch.optim.SGD(self.model[0].fc.parameters(), lr=0.001, momentum=0.9)\n",
    "        optimizer = torch.optim.Adam(self.model.fc.parameters(), lr=1e-4)\n",
    "        return {\n",
    "            \"optimizer\": optimizer,\n",
    "            \"lr_scheduler\": torch.optim.lr_scheduler.OneCycleLR(\n",
    "                                optimizer ,max_lr=0.01,\n",
    "                                steps_per_epoch=len(dataloaders['train']),\n",
    "                                epochs=EPOCHS)\n",
    "        }"
   ]
  },
  {
   "cell_type": "code",
   "execution_count": null,
   "id": "14c2e3c4",
   "metadata": {
    "scrolled": false
   },
   "outputs": [],
   "source": [
    "model = ResNetCustom(gamma=0., class_sizes=[1591,373])\n",
    "trainer = pl.Trainer(gpus=1, max_epochs=EPOCHS, devices=1, accelerator=\"gpu\")\n",
    "trainer.fit(model, dataloaders['train'])"
   ]
  },
  {
   "cell_type": "code",
   "execution_count": 90,
   "id": "e564303e",
   "metadata": {},
   "outputs": [
    {
     "data": {
      "image/png": "[encoded data removed]",
      "text/plain": [
       "<Figure size 640x480 with 1 Axes>"
      ]
     },
     "metadata": {},
     "output_type": "display_data"
    }
   ],
   "source": [
    "# Plot mean loss\n",
    "x_axis = [i for i in range(200)]\n",
    "\n",
    "splits=49\n",
    "plt.plot(x_axis, [sum(mean_losses[i:i + splits])/splits for i in range(0, len(mean_losses), splits)], 'g', label='Loss')\n",
    "# plt.plot(x_axis, [sum(mean_acc[i:i + splits])/splits for i in range(0, len(mean_acc), splits)], 'b', label='n')\n",
    "plt.plot(x_axis, [sum(mean_f1s[i:i + splits])/splits for i in range(0, len(mean_f1s), splits)], 'r', label='F1-score')\n",
    "plt.title('Training metrics')\n",
    "plt.xlabel('Épocas')\n",
    "# plt.ylabel('Loss media')\n",
    "plt.legend()\n",
    "plt.show()"
   ]
  },
  {
   "cell_type": "code",
   "execution_count": 91,
   "id": "70b9c245",
   "metadata": {},
   "outputs": [],
   "source": [
    "trainer.save_checkpoint(\"saves/resnet50_PlantVillage_focalloss_transfer.pt\")"
   ]
  },
  {
   "cell_type": "markdown",
   "id": "43e46d4c",
   "metadata": {},
   "source": [
    "Now we can reload it w/o training:"
   ]
  },
  {
   "cell_type": "code",
   "execution_count": 92,
   "id": "f6ab7949",
   "metadata": {},
   "outputs": [],
   "source": [
    "def get_prediction(x, model: pl.LightningModule):\n",
    "    model.freeze() # prepares model for predicting\n",
    "    probabilities = torch.softmax(model(x), dim=1)\n",
    "    predicted_class = torch.argmax(probabilities, dim=1)\n",
    "    return predicted_class, probabilities\n",
    "\n",
    "inference_model = ResNetCustom.load_from_checkpoint(\"saves/resnet50_PlantVillage_focalloss_transfer.pt\", map_location=\"cuda\", gamma=0., class_sizes=[1,1])"
   ]
  },
  {
   "cell_type": "code",
   "execution_count": 93,
   "id": "c153411b",
   "metadata": {},
   "outputs": [
    {
     "data": {
      "application/vnd.jupyter.widget-view+json": {
       "model_id": "37311891ab5640a297cf9b62fe879154",
       "version_major": 2,
       "version_minor": 0
      },
      "text/plain": [
       "  0%|          | 0/13 [00:00<?, ?it/s]"
      ]
     },
     "metadata": {},
     "output_type": "display_data"
    }
   ],
   "source": [
    "from tqdm.autonotebook import tqdm\n",
    "\n",
    "true_y, pred_y = [], []\n",
    "for batch in tqdm(iter(dataloaders['val']), total=len(dataloaders['val'])):\n",
    "    x, y = batch\n",
    "    true_y.extend(y)\n",
    "    preds, probs = get_prediction(x, inference_model)\n",
    "    pred_y.extend(preds.cpu())"
   ]
  },
  {
   "cell_type": "code",
   "execution_count": 94,
   "id": "51ce571c",
   "metadata": {},
   "outputs": [
    {
     "name": "stdout",
     "output_type": "stream",
     "text": [
      "              precision    recall  f1-score   support\n",
      "\n",
      "           0      0.978     0.972     0.975       326\n",
      "           1      0.892     0.914     0.902        81\n",
      "\n",
      "    accuracy                          0.961       407\n",
      "   macro avg      0.935     0.943     0.939       407\n",
      "weighted avg      0.961     0.961     0.961       407\n",
      "\n"
     ]
    }
   ],
   "source": [
    "from sklearn.metrics import classification_report\n",
    "print(classification_report(true_y, pred_y, digits=3))"
   ]
  },
  {
   "cell_type": "markdown",
   "id": "12164889",
   "metadata": {},
   "source": [
    "## ResNet50 + transfer learning + 5-Fold"
   ]
  },
  {
   "cell_type": "markdown",
   "id": "4dda0a22",
   "metadata": {},
   "source": [
    "## <span style=\"color:blue\">Plant Village</span>"
   ]
  },
  {
   "cell_type": "code",
   "execution_count": 5,
   "id": "04bac10c",
   "metadata": {},
   "outputs": [
    {
     "name": "stdout",
     "output_type": "stream",
     "text": [
      "Class 0: 1591 / Class 1: 373 / BDeg:  4.265415549597855\n"
     ]
    }
   ],
   "source": [
    "data_transforms = transforms.Compose([\n",
    "    transforms.RandomResizedCrop(224),\n",
    "    transforms.RandomHorizontalFlip(),\n",
    "    transforms.ToTensor(),\n",
    "    transforms.Normalize(mean=[0.485, 0.456, 0.406], std=[0.229, 0.224, 0.225]),\n",
    "])\n",
    "\n",
    "image_dataset = datasets.ImageFolder('../data/PlantVillage/train',data_transforms)\n",
    "\n",
    "# Provocar bias cogiendo un porcentaje de la clase 1 solamente (modificando el porcentaje hasta obtener b_deg deseado)\n",
    "class_0_idxs = torch.nonzero(torch.Tensor(image_dataset.targets)==0).flatten()\n",
    "class_1_idxs = torch.nonzero(torch.Tensor(image_dataset.targets)==1).flatten()\n",
    "# class_1_idxs = class_1_idxs[torch.randperm(len(class_1_idxs))[:int(len(class_1_idxs)*.209)]]\n",
    "\n",
    "c0_s, c1_s = len(class_0_idxs), len(class_1_idxs)\n",
    "b_deg = c0_s / c1_s\n",
    "print('Class 0:', len(class_0_idxs), '/ Class 1:', len(class_1_idxs), '/ BDeg: ', b_deg)\n",
    "\n",
    "class_1_subset = Subset(image_dataset, class_1_idxs)\n",
    "class_0_subset = Subset(image_dataset, class_0_idxs)\n",
    "image_dataset = ConcatDataset([class_0_subset, class_1_subset])"
   ]
  },
  {
   "cell_type": "code",
   "execution_count": 8,
   "id": "aefa2cf4",
   "metadata": {},
   "outputs": [],
   "source": [
    "from torchvision.models import resnet50\n",
    "\n",
    "mean_losses = []\n",
    "mean_acc = []\n",
    "mean_f1s = []\n",
    "\n",
    "class ResNetCustom(pl.LightningModule):\n",
    "    def __init__(self, config, class_sizes):\n",
    "        super().__init__()\n",
    "        self.gamma = config['gamma']\n",
    "        self.class_sizes = class_sizes\n",
    "        self.lr = config['lr']\n",
    "        self.n_classes = len(self.class_sizes)\n",
    "        \n",
    "        # metrics\n",
    "        task = \"multiclass\" if self.n_classes > 2 else \"binary\"\n",
    "        self.accuracy = torchmetrics.Accuracy(task=task, num_classes=self.n_classes)\n",
    "        self.f1score = torchmetrics.F1Score(task=task, num_classes=self.n_classes)\n",
    "        \n",
    "        self.model = resnet50(pretrained=True)\n",
    "        for param in self.model.parameters():\n",
    "            param.requires_grad = False\n",
    "        self.model.fc = nn.Linear(self.model.fc.in_features, self.n_classes, bias=True)\n",
    "            \n",
    "        self.fuzzyloss = FuzzyLoss(gamma=self.gamma, class_sizes=self.class_sizes).cuda()\n",
    "#         self.fuzzyloss = nn.CrossEntropyLoss().cuda()\n",
    "        \n",
    "    def forward(self, x):\n",
    "        return self.model(x)\n",
    "    \n",
    "    def training_step(self, batch, batch_no):\n",
    "        x, y = batch\n",
    "        logits = self(x)\n",
    "        \n",
    "        y_onehot = F.one_hot(y, num_classes=self.n_classes).long()\n",
    "        acc = self.accuracy(logits, y_onehot)\n",
    "        f1s = self.f1score(logits, y_onehot)\n",
    "        mean_acc.append(acc.item())\n",
    "        mean_f1s.append(f1s.item())\n",
    "        \n",
    "        mean_loss, losses = self.fuzzyloss(logits, y)\n",
    "#         mean_loss = self.fuzzyloss(logits, y)\n",
    "        mean_losses.append(mean_loss)\n",
    "        \n",
    "        # Update focal loss with Fuzzy Control System\n",
    "        self.fuzzyloss.update_hyperparams(losses, y)\n",
    "        return mean_loss\n",
    "    \n",
    "    def configure_optimizers(self):\n",
    "        optimizer = torch.optim.Adam(self.model.fc.parameters(), lr=self.lr)\n",
    "        return {\n",
    "            \"optimizer\": optimizer,\n",
    "            \"lr_scheduler\": torch.optim.lr_scheduler.OneCycleLR(\n",
    "                                optimizer ,max_lr=0.01,\n",
    "                                steps_per_epoch=self.SPE,\n",
    "                                epochs=self.EPOCHS)\n",
    "        }"
   ]
  },
  {
   "cell_type": "code",
   "execution_count": 9,
   "id": "2762076c",
   "metadata": {
    "scrolled": true
   },
   "outputs": [
    {
     "name": "stdout",
     "output_type": "stream",
     "text": [
      "------------fold nº 0----------------------\n"
     ]
    },
    {
     "name": "stderr",
     "output_type": "stream",
     "text": [
      "GPU available: True (cuda), used: True\n",
      "TPU available: False, using: 0 TPU cores\n",
      "IPU available: False, using: 0 IPUs\n",
      "HPU available: False, using: 0 HPUs\n",
      "LOCAL_RANK: 0 - CUDA_VISIBLE_DEVICES: [0]\n",
      "\n",
      "  | Name      | Type           | Params\n",
      "---------------------------------------------\n",
      "0 | accuracy  | BinaryAccuracy | 0     \n",
      "1 | f1score   | BinaryF1Score  | 0     \n",
      "2 | model     | ResNet         | 23.5 M\n",
      "3 | fuzzyloss | FuzzyLoss      | 0     \n",
      "---------------------------------------------\n",
      "4.1 K     Trainable params\n",
      "23.5 M    Non-trainable params\n",
      "23.5 M    Total params\n",
      "94.049    Total estimated model params size (MB)\n"
     ]
    },
    {
     "name": "stdout",
     "output_type": "stream",
     "text": [
      "Epoch 9: 100%|██████████| 158/158 [00:54<00:00,  2.89it/s, loss=0.0592, v_num=172]"
     ]
    },
    {
     "name": "stderr",
     "output_type": "stream",
     "text": [
      "`Trainer.fit` stopped: `max_epochs=10` reached.\n"
     ]
    },
    {
     "name": "stdout",
     "output_type": "stream",
     "text": [
      "Epoch 9: 100%|██████████| 158/158 [00:55<00:00,  2.86it/s, loss=0.0592, v_num=172]\n"
     ]
    },
    {
     "name": "stderr",
     "output_type": "stream",
     "text": [
      "\n",
      "  0%|          | 0/40 [00:00<?, ?it/s]\u001b[A\n",
      "  2%|▎         | 1/40 [00:01<00:41,  1.07s/it]\u001b[A\n",
      "  5%|▌         | 2/40 [00:02<00:42,  1.13s/it]\u001b[A\n",
      "  8%|▊         | 3/40 [00:03<00:41,  1.12s/it]\u001b[A\n",
      " 10%|█         | 4/40 [00:04<00:40,  1.11s/it]\u001b[A\n",
      " 12%|█▎        | 5/40 [00:05<00:39,  1.12s/it]\u001b[A\n",
      " 15%|█▌        | 6/40 [00:06<00:37,  1.12s/it]\u001b[A\n",
      " 18%|█▊        | 7/40 [00:07<00:36,  1.10s/it]\u001b[A\n",
      " 20%|██        | 8/40 [00:08<00:35,  1.11s/it]\u001b[A\n",
      " 22%|██▎       | 9/40 [00:10<00:34,  1.12s/it]\u001b[A\n",
      " 25%|██▌       | 10/40 [00:11<00:33,  1.11s/it]\u001b[A\n",
      " 28%|██▊       | 11/40 [00:12<00:32,  1.12s/it]\u001b[A\n",
      " 30%|███       | 12/40 [00:13<00:31,  1.13s/it]\u001b[A\n",
      " 32%|███▎      | 13/40 [00:14<00:30,  1.14s/it]\u001b[A\n",
      " 35%|███▌      | 14/40 [00:15<00:29,  1.13s/it]\u001b[A\n",
      " 38%|███▊      | 15/40 [00:16<00:28,  1.14s/it]\u001b[A\n",
      " 40%|████      | 16/40 [00:18<00:27,  1.15s/it]\u001b[A\n",
      " 42%|████▎     | 17/40 [00:19<00:26,  1.14s/it]\u001b[A\n",
      " 45%|████▌     | 18/40 [00:20<00:25,  1.14s/it]\u001b[A\n",
      " 48%|████▊     | 19/40 [00:21<00:23,  1.11s/it]\u001b[A\n",
      " 50%|█████     | 20/40 [00:22<00:22,  1.12s/it]\u001b[A\n",
      " 52%|█████▎    | 21/40 [00:23<00:21,  1.11s/it]\u001b[A\n",
      " 55%|█████▌    | 22/40 [00:24<00:20,  1.12s/it]\u001b[A\n",
      " 57%|█████▊    | 23/40 [00:25<00:19,  1.12s/it]\u001b[A\n",
      " 60%|██████    | 24/40 [00:26<00:18,  1.13s/it]\u001b[A\n",
      " 62%|██████▎   | 25/40 [00:28<00:16,  1.12s/it]\u001b[A\n",
      " 65%|██████▌   | 26/40 [00:29<00:15,  1.12s/it]\u001b[A\n",
      " 68%|██████▊   | 27/40 [00:30<00:14,  1.12s/it]\u001b[A\n",
      " 70%|███████   | 28/40 [00:31<00:13,  1.13s/it]\u001b[A\n",
      " 72%|███████▎  | 29/40 [00:32<00:12,  1.13s/it]\u001b[A\n",
      " 75%|███████▌  | 30/40 [00:33<00:11,  1.14s/it]\u001b[A\n",
      " 78%|███████▊  | 31/40 [00:34<00:10,  1.14s/it]\u001b[A\n",
      " 80%|████████  | 32/40 [00:35<00:09,  1.13s/it]\u001b[A\n",
      " 82%|████████▎ | 33/40 [00:37<00:07,  1.14s/it]\u001b[A\n",
      " 85%|████████▌ | 34/40 [00:38<00:06,  1.14s/it]\u001b[A\n",
      " 88%|████████▊ | 35/40 [00:39<00:05,  1.12s/it]\u001b[A\n",
      " 90%|█████████ | 36/40 [00:40<00:04,  1.11s/it]\u001b[A\n",
      " 92%|█████████▎| 37/40 [00:41<00:03,  1.12s/it]\u001b[A\n",
      " 95%|█████████▌| 38/40 [00:42<00:02,  1.12s/it]\u001b[A\n",
      " 98%|█████████▊| 39/40 [00:43<00:01,  1.11s/it]\u001b[A\n",
      "100%|██████████| 40/40 [00:44<00:00,  1.11s/it]\u001b[A\n",
      "C:\\Users\\laraquij\\Anaconda3\\envs\\tfg_dani\\lib\\site-packages\\torchvision\\models\\_utils.py:209: UserWarning: The parameter 'pretrained' is deprecated since 0.13 and may be removed in the future, please use 'weights' instead.\n",
      "  f\"The parameter '{pretrained_param}' is deprecated since 0.13 and may be removed in the future, \"\n",
      "C:\\Users\\laraquij\\Anaconda3\\envs\\tfg_dani\\lib\\site-packages\\torchvision\\models\\_utils.py:223: UserWarning: Arguments other than a weight enum or `None` for 'weights' are deprecated since 0.13 and may be removed in the future. The current behavior is equivalent to passing `weights=ResNet50_Weights.IMAGENET1K_V1`. You can also use `weights=ResNet50_Weights.DEFAULT` to get the most up-to-date weights.\n",
      "  warnings.warn(msg)\n"
     ]
    },
    {
     "name": "stdout",
     "output_type": "stream",
     "text": [
      "------------fold nº 1----------------------\n"
     ]
    },
    {
     "name": "stderr",
     "output_type": "stream",
     "text": [
      "GPU available: True (cuda), used: True\n",
      "TPU available: False, using: 0 TPU cores\n",
      "IPU available: False, using: 0 IPUs\n",
      "HPU available: False, using: 0 HPUs\n",
      "LOCAL_RANK: 0 - CUDA_VISIBLE_DEVICES: [0]\n",
      "\n",
      "  | Name      | Type           | Params\n",
      "---------------------------------------------\n",
      "0 | accuracy  | BinaryAccuracy | 0     \n",
      "1 | f1score   | BinaryF1Score  | 0     \n",
      "2 | model     | ResNet         | 23.5 M\n",
      "3 | fuzzyloss | FuzzyLoss      | 0     \n",
      "---------------------------------------------\n",
      "4.1 K     Trainable params\n",
      "23.5 M    Non-trainable params\n",
      "23.5 M    Total params\n",
      "94.049    Total estimated model params size (MB)\n",
      "C:\\Users\\laraquij\\Anaconda3\\envs\\tfg_dani\\lib\\site-packages\\pytorch_lightning\\trainer\\connectors\\data_connector.py:229: PossibleUserWarning: The dataloader, train_dataloader, does not have many workers which may be a bottleneck. Consider increasing the value of the `num_workers` argument` (try 8 which is the number of cpus on this machine) in the `DataLoader` init to improve performance.\n",
      "  category=PossibleUserWarning,\n"
     ]
    },
    {
     "name": "stdout",
     "output_type": "stream",
     "text": [
      "Epoch 9: 100%|██████████| 158/158 [00:55<00:00,  2.87it/s, loss=0.284, v_num=173] "
     ]
    },
    {
     "name": "stderr",
     "output_type": "stream",
     "text": [
      "`Trainer.fit` stopped: `max_epochs=10` reached.\n"
     ]
    },
    {
     "name": "stdout",
     "output_type": "stream",
     "text": [
      "Epoch 9: 100%|██████████| 158/158 [00:55<00:00,  2.85it/s, loss=0.284, v_num=173]\n"
     ]
    },
    {
     "name": "stderr",
     "output_type": "stream",
     "text": [
      "\n",
      "  0%|          | 0/40 [00:00<?, ?it/s]\u001b[A\n",
      "  2%|▎         | 1/40 [00:01<00:44,  1.14s/it]\u001b[A\n",
      "  5%|▌         | 2/40 [00:02<00:42,  1.11s/it]\u001b[A\n",
      "  8%|▊         | 3/40 [00:03<00:41,  1.13s/it]\u001b[A\n",
      " 10%|█         | 4/40 [00:04<00:40,  1.12s/it]\u001b[A\n",
      " 12%|█▎        | 5/40 [00:05<00:39,  1.12s/it]\u001b[A\n",
      " 15%|█▌        | 6/40 [00:06<00:37,  1.10s/it]\u001b[A\n",
      " 18%|█▊        | 7/40 [00:07<00:37,  1.12s/it]\u001b[A\n",
      " 20%|██        | 8/40 [00:08<00:35,  1.10s/it]\u001b[A\n",
      " 22%|██▎       | 9/40 [00:09<00:33,  1.09s/it]\u001b[A\n",
      " 25%|██▌       | 10/40 [00:11<00:33,  1.10s/it]\u001b[A\n",
      " 28%|██▊       | 11/40 [00:12<00:32,  1.11s/it]\u001b[A\n",
      " 30%|███       | 12/40 [00:13<00:31,  1.12s/it]\u001b[A\n",
      " 32%|███▎      | 13/40 [00:14<00:29,  1.10s/it]\u001b[A\n",
      " 35%|███▌      | 14/40 [00:15<00:28,  1.09s/it]\u001b[A\n",
      " 38%|███▊      | 15/40 [00:16<00:27,  1.09s/it]\u001b[A\n",
      " 40%|████      | 16/40 [00:17<00:26,  1.08s/it]\u001b[A\n",
      " 42%|████▎     | 17/40 [00:18<00:24,  1.07s/it]\u001b[A\n",
      " 45%|████▌     | 18/40 [00:19<00:23,  1.09s/it]\u001b[A\n",
      " 48%|████▊     | 19/40 [00:20<00:22,  1.08s/it]\u001b[A\n",
      " 50%|█████     | 20/40 [00:21<00:21,  1.09s/it]\u001b[A\n",
      " 52%|█████▎    | 21/40 [00:23<00:20,  1.10s/it]\u001b[A\n",
      " 55%|█████▌    | 22/40 [00:24<00:20,  1.11s/it]\u001b[A\n",
      " 57%|█████▊    | 23/40 [00:25<00:19,  1.12s/it]\u001b[A\n",
      " 60%|██████    | 24/40 [00:26<00:17,  1.12s/it]\u001b[A\n",
      " 62%|██████▎   | 25/40 [00:27<00:16,  1.10s/it]\u001b[A\n",
      " 65%|██████▌   | 26/40 [00:28<00:15,  1.11s/it]\u001b[A\n",
      " 68%|██████▊   | 27/40 [00:29<00:14,  1.11s/it]\u001b[A\n",
      " 70%|███████   | 28/40 [00:30<00:13,  1.11s/it]\u001b[A\n",
      " 72%|███████▎  | 29/40 [00:32<00:12,  1.11s/it]\u001b[A\n",
      " 75%|███████▌  | 30/40 [00:33<00:11,  1.11s/it]\u001b[A\n",
      " 78%|███████▊  | 31/40 [00:34<00:09,  1.10s/it]\u001b[A\n",
      " 80%|████████  | 32/40 [00:35<00:08,  1.12s/it]\u001b[A\n",
      " 82%|████████▎ | 33/40 [00:36<00:07,  1.12s/it]\u001b[A\n",
      " 85%|████████▌ | 34/40 [00:37<00:06,  1.12s/it]\u001b[A\n",
      " 88%|████████▊ | 35/40 [00:38<00:05,  1.10s/it]\u001b[A\n",
      " 90%|█████████ | 36/40 [00:39<00:04,  1.11s/it]\u001b[A\n",
      " 92%|█████████▎| 37/40 [00:40<00:03,  1.11s/it]\u001b[A\n",
      " 95%|█████████▌| 38/40 [00:42<00:02,  1.12s/it]\u001b[A\n",
      " 98%|█████████▊| 39/40 [00:43<00:01,  1.11s/it]\u001b[A\n",
      "100%|██████████| 40/40 [00:43<00:00,  1.09s/it]\u001b[A\n",
      "C:\\Users\\laraquij\\Anaconda3\\envs\\tfg_dani\\lib\\site-packages\\torchvision\\models\\_utils.py:209: UserWarning: The parameter 'pretrained' is deprecated since 0.13 and may be removed in the future, please use 'weights' instead.\n",
      "  f\"The parameter '{pretrained_param}' is deprecated since 0.13 and may be removed in the future, \"\n",
      "C:\\Users\\laraquij\\Anaconda3\\envs\\tfg_dani\\lib\\site-packages\\torchvision\\models\\_utils.py:223: UserWarning: Arguments other than a weight enum or `None` for 'weights' are deprecated since 0.13 and may be removed in the future. The current behavior is equivalent to passing `weights=ResNet50_Weights.IMAGENET1K_V1`. You can also use `weights=ResNet50_Weights.DEFAULT` to get the most up-to-date weights.\n",
      "  warnings.warn(msg)\n"
     ]
    },
    {
     "name": "stdout",
     "output_type": "stream",
     "text": [
      "------------fold nº 2----------------------\n"
     ]
    },
    {
     "name": "stderr",
     "output_type": "stream",
     "text": [
      "GPU available: True (cuda), used: True\n",
      "TPU available: False, using: 0 TPU cores\n",
      "IPU available: False, using: 0 IPUs\n",
      "HPU available: False, using: 0 HPUs\n",
      "LOCAL_RANK: 0 - CUDA_VISIBLE_DEVICES: [0]\n",
      "\n",
      "  | Name      | Type           | Params\n",
      "---------------------------------------------\n",
      "0 | accuracy  | BinaryAccuracy | 0     \n",
      "1 | f1score   | BinaryF1Score  | 0     \n",
      "2 | model     | ResNet         | 23.5 M\n",
      "3 | fuzzyloss | FuzzyLoss      | 0     \n",
      "---------------------------------------------\n",
      "4.1 K     Trainable params\n",
      "23.5 M    Non-trainable params\n",
      "23.5 M    Total params\n",
      "94.049    Total estimated model params size (MB)\n",
      "C:\\Users\\laraquij\\Anaconda3\\envs\\tfg_dani\\lib\\site-packages\\pytorch_lightning\\trainer\\connectors\\data_connector.py:229: PossibleUserWarning: The dataloader, train_dataloader, does not have many workers which may be a bottleneck. Consider increasing the value of the `num_workers` argument` (try 8 which is the number of cpus on this machine) in the `DataLoader` init to improve performance.\n",
      "  category=PossibleUserWarning,\n"
     ]
    },
    {
     "name": "stdout",
     "output_type": "stream",
     "text": [
      "Epoch 9: 100%|██████████| 158/158 [00:55<00:00,  2.87it/s, loss=0.0312, v_num=174]"
     ]
    },
    {
     "name": "stderr",
     "output_type": "stream",
     "text": [
      "`Trainer.fit` stopped: `max_epochs=10` reached.\n"
     ]
    },
    {
     "name": "stdout",
     "output_type": "stream",
     "text": [
      "Epoch 9: 100%|██████████| 158/158 [00:55<00:00,  2.84it/s, loss=0.0312, v_num=174]\n"
     ]
    },
    {
     "name": "stderr",
     "output_type": "stream",
     "text": [
      "\n",
      "  0%|          | 0/40 [00:00<?, ?it/s]\u001b[A\n",
      "  2%|▎         | 1/40 [00:01<00:42,  1.10s/it]\u001b[A\n",
      "  5%|▌         | 2/40 [00:02<00:42,  1.11s/it]\u001b[A\n",
      "  8%|▊         | 3/40 [00:03<00:41,  1.13s/it]\u001b[A\n",
      " 10%|█         | 4/40 [00:04<00:39,  1.11s/it]\u001b[A\n",
      " 12%|█▎        | 5/40 [00:05<00:39,  1.12s/it]\u001b[A\n",
      " 15%|█▌        | 6/40 [00:06<00:37,  1.11s/it]\u001b[A\n",
      " 18%|█▊        | 7/40 [00:07<00:36,  1.11s/it]\u001b[A\n",
      " 20%|██        | 8/40 [00:08<00:36,  1.13s/it]\u001b[A\n",
      " 22%|██▎       | 9/40 [00:10<00:35,  1.14s/it]\u001b[A\n",
      " 25%|██▌       | 10/40 [00:11<00:35,  1.18s/it]\u001b[A\n",
      " 28%|██▊       | 11/40 [00:12<00:35,  1.21s/it]\u001b[A\n",
      " 30%|███       | 12/40 [00:13<00:34,  1.22s/it]\u001b[A\n",
      " 32%|███▎      | 13/40 [00:15<00:33,  1.25s/it]\u001b[A\n",
      " 35%|███▌      | 14/40 [00:16<00:32,  1.25s/it]\u001b[A\n",
      " 38%|███▊      | 15/40 [00:17<00:31,  1.25s/it]\u001b[A\n",
      " 40%|████      | 16/40 [00:19<00:30,  1.27s/it]\u001b[A\n",
      " 42%|████▎     | 17/40 [00:20<00:27,  1.22s/it]\u001b[A\n",
      " 45%|████▌     | 18/40 [00:21<00:25,  1.17s/it]\u001b[A\n",
      " 48%|████▊     | 19/40 [00:22<00:24,  1.16s/it]\u001b[A\n",
      " 50%|█████     | 20/40 [00:23<00:22,  1.14s/it]\u001b[A\n",
      " 52%|█████▎    | 21/40 [00:24<00:21,  1.13s/it]\u001b[A\n",
      " 55%|█████▌    | 22/40 [00:25<00:20,  1.13s/it]\u001b[A\n",
      " 57%|█████▊    | 23/40 [00:26<00:19,  1.12s/it]\u001b[A\n",
      " 60%|██████    | 24/40 [00:27<00:18,  1.13s/it]\u001b[A\n",
      " 62%|██████▎   | 25/40 [00:29<00:16,  1.12s/it]\u001b[A\n",
      " 65%|██████▌   | 26/40 [00:30<00:15,  1.12s/it]\u001b[A\n",
      " 68%|██████▊   | 27/40 [00:31<00:14,  1.11s/it]\u001b[A\n",
      " 70%|███████   | 28/40 [00:32<00:13,  1.11s/it]\u001b[A\n",
      " 72%|███████▎  | 29/40 [00:33<00:12,  1.13s/it]\u001b[A\n",
      " 75%|███████▌  | 30/40 [00:34<00:11,  1.14s/it]\u001b[A\n",
      " 78%|███████▊  | 31/40 [00:35<00:10,  1.13s/it]\u001b[A\n",
      " 80%|████████  | 32/40 [00:36<00:09,  1.13s/it]\u001b[A\n",
      " 82%|████████▎ | 33/40 [00:38<00:07,  1.14s/it]\u001b[A\n",
      " 85%|████████▌ | 34/40 [00:39<00:06,  1.14s/it]\u001b[A\n",
      " 88%|████████▊ | 35/40 [00:40<00:05,  1.12s/it]\u001b[A\n",
      " 90%|█████████ | 36/40 [00:41<00:04,  1.10s/it]\u001b[A\n",
      " 92%|█████████▎| 37/40 [00:42<00:03,  1.12s/it]\u001b[A\n",
      " 95%|█████████▌| 38/40 [00:43<00:02,  1.11s/it]\u001b[A\n",
      " 98%|█████████▊| 39/40 [00:44<00:01,  1.12s/it]\u001b[A\n",
      "100%|██████████| 40/40 [00:45<00:00,  1.13s/it]\u001b[A\n",
      "C:\\Users\\laraquij\\Anaconda3\\envs\\tfg_dani\\lib\\site-packages\\torchvision\\models\\_utils.py:209: UserWarning: The parameter 'pretrained' is deprecated since 0.13 and may be removed in the future, please use 'weights' instead.\n",
      "  f\"The parameter '{pretrained_param}' is deprecated since 0.13 and may be removed in the future, \"\n",
      "C:\\Users\\laraquij\\Anaconda3\\envs\\tfg_dani\\lib\\site-packages\\torchvision\\models\\_utils.py:223: UserWarning: Arguments other than a weight enum or `None` for 'weights' are deprecated since 0.13 and may be removed in the future. The current behavior is equivalent to passing `weights=ResNet50_Weights.IMAGENET1K_V1`. You can also use `weights=ResNet50_Weights.DEFAULT` to get the most up-to-date weights.\n",
      "  warnings.warn(msg)\n"
     ]
    },
    {
     "name": "stdout",
     "output_type": "stream",
     "text": [
      "------------fold nº 3----------------------\n"
     ]
    },
    {
     "name": "stderr",
     "output_type": "stream",
     "text": [
      "GPU available: True (cuda), used: True\n",
      "TPU available: False, using: 0 TPU cores\n",
      "IPU available: False, using: 0 IPUs\n",
      "HPU available: False, using: 0 HPUs\n",
      "LOCAL_RANK: 0 - CUDA_VISIBLE_DEVICES: [0]\n",
      "\n",
      "  | Name      | Type           | Params\n",
      "---------------------------------------------\n",
      "0 | accuracy  | BinaryAccuracy | 0     \n",
      "1 | f1score   | BinaryF1Score  | 0     \n",
      "2 | model     | ResNet         | 23.5 M\n",
      "3 | fuzzyloss | FuzzyLoss      | 0     \n",
      "---------------------------------------------\n",
      "4.1 K     Trainable params\n",
      "23.5 M    Non-trainable params\n",
      "23.5 M    Total params\n",
      "94.049    Total estimated model params size (MB)\n",
      "C:\\Users\\laraquij\\Anaconda3\\envs\\tfg_dani\\lib\\site-packages\\pytorch_lightning\\trainer\\connectors\\data_connector.py:229: PossibleUserWarning: The dataloader, train_dataloader, does not have many workers which may be a bottleneck. Consider increasing the value of the `num_workers` argument` (try 8 which is the number of cpus on this machine) in the `DataLoader` init to improve performance.\n",
      "  category=PossibleUserWarning,\n"
     ]
    },
    {
     "name": "stdout",
     "output_type": "stream",
     "text": [
      "Epoch 9: 100%|██████████| 158/158 [00:54<00:00,  2.87it/s, loss=0.0432, v_num=175]"
     ]
    },
    {
     "name": "stderr",
     "output_type": "stream",
     "text": [
      "`Trainer.fit` stopped: `max_epochs=10` reached.\n"
     ]
    },
    {
     "name": "stdout",
     "output_type": "stream",
     "text": [
      "Epoch 9: 100%|██████████| 158/158 [00:55<00:00,  2.85it/s, loss=0.0432, v_num=175]\n"
     ]
    },
    {
     "name": "stderr",
     "output_type": "stream",
     "text": [
      "\n",
      "  0%|          | 0/40 [00:00<?, ?it/s]\u001b[A\n",
      "  2%|▎         | 1/40 [00:01<00:44,  1.14s/it]\u001b[A\n",
      "  5%|▌         | 2/40 [00:02<00:42,  1.12s/it]\u001b[A\n",
      "  8%|▊         | 3/40 [00:03<00:40,  1.10s/it]\u001b[A\n",
      " 10%|█         | 4/40 [00:04<00:39,  1.10s/it]\u001b[A\n",
      " 12%|█▎        | 5/40 [00:05<00:37,  1.08s/it]\u001b[A\n",
      " 15%|█▌        | 6/40 [00:06<00:37,  1.10s/it]\u001b[A\n",
      " 18%|█▊        | 7/40 [00:07<00:36,  1.11s/it]\u001b[A\n",
      " 20%|██        | 8/40 [00:08<00:35,  1.11s/it]\u001b[A\n",
      " 22%|██▎       | 9/40 [00:09<00:34,  1.10s/it]\u001b[A\n",
      " 25%|██▌       | 10/40 [00:11<00:33,  1.11s/it]\u001b[A\n",
      " 28%|██▊       | 11/40 [00:12<00:32,  1.13s/it]\u001b[A\n",
      " 30%|███       | 12/40 [00:13<00:32,  1.15s/it]\u001b[A\n",
      " 32%|███▎      | 13/40 [00:14<00:31,  1.15s/it]\u001b[A\n",
      " 35%|███▌      | 14/40 [00:15<00:29,  1.15s/it]\u001b[A\n",
      " 38%|███▊      | 15/40 [00:16<00:28,  1.15s/it]\u001b[A\n",
      " 40%|████      | 16/40 [00:18<00:27,  1.16s/it]\u001b[A\n",
      " 42%|████▎     | 17/40 [00:19<00:26,  1.16s/it]\u001b[A\n",
      " 45%|████▌     | 18/40 [00:20<00:25,  1.14s/it]\u001b[A\n",
      " 48%|████▊     | 19/40 [00:21<00:23,  1.14s/it]\u001b[A\n",
      " 50%|█████     | 20/40 [00:22<00:22,  1.12s/it]\u001b[A\n",
      " 52%|█████▎    | 21/40 [00:23<00:21,  1.13s/it]\u001b[A\n",
      " 55%|█████▌    | 22/40 [00:24<00:20,  1.14s/it]\u001b[A\n",
      " 57%|█████▊    | 23/40 [00:26<00:19,  1.15s/it]\u001b[A\n",
      " 60%|██████    | 24/40 [00:27<00:18,  1.14s/it]\u001b[A\n",
      " 62%|██████▎   | 25/40 [00:28<00:17,  1.14s/it]\u001b[A\n",
      " 65%|██████▌   | 26/40 [00:29<00:15,  1.12s/it]\u001b[A\n",
      " 68%|██████▊   | 27/40 [00:30<00:14,  1.11s/it]\u001b[A\n",
      " 70%|███████   | 28/40 [00:31<00:13,  1.11s/it]\u001b[A\n",
      " 72%|███████▎  | 29/40 [00:32<00:12,  1.12s/it]\u001b[A\n",
      " 75%|███████▌  | 30/40 [00:33<00:11,  1.12s/it]\u001b[A\n",
      " 78%|███████▊  | 31/40 [00:34<00:09,  1.11s/it]\u001b[A\n",
      " 80%|████████  | 32/40 [00:35<00:08,  1.09s/it]\u001b[A\n",
      " 82%|████████▎ | 33/40 [00:37<00:07,  1.10s/it]\u001b[A\n",
      " 85%|████████▌ | 34/40 [00:38<00:06,  1.10s/it]\u001b[A\n",
      " 88%|████████▊ | 35/40 [00:39<00:05,  1.10s/it]\u001b[A\n",
      " 90%|█████████ | 36/40 [00:40<00:04,  1.11s/it]\u001b[A\n",
      " 92%|█████████▎| 37/40 [00:41<00:03,  1.10s/it]\u001b[A\n",
      " 95%|█████████▌| 38/40 [00:42<00:02,  1.11s/it]\u001b[A\n",
      " 98%|█████████▊| 39/40 [00:43<00:01,  1.12s/it]\u001b[A\n",
      "100%|██████████| 40/40 [00:44<00:00,  1.10s/it]\u001b[A\n",
      "C:\\Users\\laraquij\\Anaconda3\\envs\\tfg_dani\\lib\\site-packages\\torchvision\\models\\_utils.py:209: UserWarning: The parameter 'pretrained' is deprecated since 0.13 and may be removed in the future, please use 'weights' instead.\n",
      "  f\"The parameter '{pretrained_param}' is deprecated since 0.13 and may be removed in the future, \"\n",
      "C:\\Users\\laraquij\\Anaconda3\\envs\\tfg_dani\\lib\\site-packages\\torchvision\\models\\_utils.py:223: UserWarning: Arguments other than a weight enum or `None` for 'weights' are deprecated since 0.13 and may be removed in the future. The current behavior is equivalent to passing `weights=ResNet50_Weights.IMAGENET1K_V1`. You can also use `weights=ResNet50_Weights.DEFAULT` to get the most up-to-date weights.\n",
      "  warnings.warn(msg)\n"
     ]
    },
    {
     "name": "stdout",
     "output_type": "stream",
     "text": [
      "------------fold nº 4----------------------\n"
     ]
    },
    {
     "name": "stderr",
     "output_type": "stream",
     "text": [
      "GPU available: True (cuda), used: True\n",
      "TPU available: False, using: 0 TPU cores\n",
      "IPU available: False, using: 0 IPUs\n",
      "HPU available: False, using: 0 HPUs\n",
      "LOCAL_RANK: 0 - CUDA_VISIBLE_DEVICES: [0]\n",
      "\n",
      "  | Name      | Type           | Params\n",
      "---------------------------------------------\n",
      "0 | accuracy  | BinaryAccuracy | 0     \n",
      "1 | f1score   | BinaryF1Score  | 0     \n",
      "2 | model     | ResNet         | 23.5 M\n",
      "3 | fuzzyloss | FuzzyLoss      | 0     \n",
      "---------------------------------------------\n",
      "4.1 K     Trainable params\n",
      "23.5 M    Non-trainable params\n",
      "23.5 M    Total params\n",
      "94.049    Total estimated model params size (MB)\n",
      "C:\\Users\\laraquij\\Anaconda3\\envs\\tfg_dani\\lib\\site-packages\\pytorch_lightning\\trainer\\connectors\\data_connector.py:229: PossibleUserWarning: The dataloader, train_dataloader, does not have many workers which may be a bottleneck. Consider increasing the value of the `num_workers` argument` (try 8 which is the number of cpus on this machine) in the `DataLoader` init to improve performance.\n",
      "  category=PossibleUserWarning,\n"
     ]
    },
    {
     "name": "stdout",
     "output_type": "stream",
     "text": [
      "Epoch 9: 100%|██████████| 158/158 [00:55<00:00,  2.86it/s, loss=0.0369, v_num=176]"
     ]
    },
    {
     "name": "stderr",
     "output_type": "stream",
     "text": [
      "`Trainer.fit` stopped: `max_epochs=10` reached.\n"
     ]
    },
    {
     "name": "stdout",
     "output_type": "stream",
     "text": [
      "Epoch 9: 100%|██████████| 158/158 [00:55<00:00,  2.84it/s, loss=0.0369, v_num=176]\n"
     ]
    },
    {
     "name": "stderr",
     "output_type": "stream",
     "text": [
      "\n",
      "  0%|          | 0/40 [00:00<?, ?it/s]\u001b[A\n",
      "  2%|▎         | 1/40 [00:01<00:39,  1.01s/it]\u001b[A\n",
      "  5%|▌         | 2/40 [00:02<00:44,  1.17s/it]\u001b[A\n",
      "  8%|▊         | 3/40 [00:03<00:51,  1.40s/it]\u001b[A\n",
      " 10%|█         | 4/40 [00:05<00:46,  1.30s/it]\u001b[A\n",
      " 12%|█▎        | 5/40 [00:06<00:43,  1.24s/it]\u001b[A\n",
      " 15%|█▌        | 6/40 [00:07<00:40,  1.18s/it]\u001b[A\n",
      " 18%|█▊        | 7/40 [00:08<00:37,  1.13s/it]\u001b[A\n",
      " 20%|██        | 8/40 [00:09<00:35,  1.12s/it]\u001b[A\n",
      " 22%|██▎       | 9/40 [00:10<00:34,  1.10s/it]\u001b[A\n",
      " 25%|██▌       | 10/40 [00:11<00:33,  1.10s/it]\u001b[A\n",
      " 28%|██▊       | 11/40 [00:12<00:32,  1.11s/it]\u001b[A\n",
      " 30%|███       | 12/40 [00:13<00:30,  1.10s/it]\u001b[A\n",
      " 32%|███▎      | 13/40 [00:14<00:29,  1.09s/it]\u001b[A\n",
      " 35%|███▌      | 14/40 [00:15<00:28,  1.08s/it]\u001b[A\n",
      " 38%|███▊      | 15/40 [00:17<00:27,  1.10s/it]\u001b[A\n",
      " 40%|████      | 16/40 [00:18<00:25,  1.08s/it]\u001b[A\n",
      " 42%|████▎     | 17/40 [00:19<00:25,  1.09s/it]\u001b[A\n",
      " 45%|████▌     | 18/40 [00:20<00:24,  1.10s/it]\u001b[A\n",
      " 48%|████▊     | 19/40 [00:21<00:22,  1.08s/it]\u001b[A\n",
      " 50%|█████     | 20/40 [00:22<00:22,  1.10s/it]\u001b[A\n",
      " 52%|█████▎    | 21/40 [00:23<00:20,  1.10s/it]\u001b[A\n",
      " 55%|█████▌    | 22/40 [00:24<00:20,  1.12s/it]\u001b[A\n",
      " 57%|█████▊    | 23/40 [00:25<00:19,  1.13s/it]\u001b[A\n",
      " 60%|██████    | 24/40 [00:27<00:18,  1.13s/it]\u001b[A\n",
      " 62%|██████▎   | 25/40 [00:28<00:16,  1.13s/it]\u001b[A\n",
      " 65%|██████▌   | 26/40 [00:29<00:15,  1.13s/it]\u001b[A\n",
      " 68%|██████▊   | 27/40 [00:30<00:14,  1.12s/it]\u001b[A\n",
      " 70%|███████   | 28/40 [00:31<00:13,  1.11s/it]\u001b[A\n",
      " 72%|███████▎  | 29/40 [00:32<00:12,  1.10s/it]\u001b[A\n",
      " 75%|███████▌  | 30/40 [00:33<00:11,  1.11s/it]\u001b[A\n",
      " 78%|███████▊  | 31/40 [00:34<00:09,  1.11s/it]\u001b[A\n",
      " 80%|████████  | 32/40 [00:35<00:08,  1.10s/it]\u001b[A\n",
      " 82%|████████▎ | 33/40 [00:37<00:07,  1.11s/it]\u001b[A\n",
      " 85%|████████▌ | 34/40 [00:38<00:06,  1.11s/it]\u001b[A\n",
      " 88%|████████▊ | 35/40 [00:39<00:05,  1.09s/it]\u001b[A\n",
      " 90%|█████████ | 36/40 [00:40<00:04,  1.11s/it]\u001b[A\n",
      " 92%|█████████▎| 37/40 [00:41<00:03,  1.10s/it]\u001b[A\n",
      " 95%|█████████▌| 38/40 [00:42<00:02,  1.08s/it]\u001b[A\n",
      " 98%|█████████▊| 39/40 [00:43<00:01,  1.10s/it]\u001b[A\n",
      "100%|██████████| 40/40 [00:43<00:00,  1.10s/it]\u001b[A\n",
      "C:\\Users\\laraquij\\Anaconda3\\envs\\tfg_dani\\lib\\site-packages\\torchvision\\models\\_utils.py:209: UserWarning: The parameter 'pretrained' is deprecated since 0.13 and may be removed in the future, please use 'weights' instead.\n",
      "  f\"The parameter '{pretrained_param}' is deprecated since 0.13 and may be removed in the future, \"\n",
      "C:\\Users\\laraquij\\Anaconda3\\envs\\tfg_dani\\lib\\site-packages\\torchvision\\models\\_utils.py:223: UserWarning: Arguments other than a weight enum or `None` for 'weights' are deprecated since 0.13 and may be removed in the future. The current behavior is equivalent to passing `weights=ResNet50_Weights.IMAGENET1K_V1`. You can also use `weights=ResNet50_Weights.DEFAULT` to get the most up-to-date weights.\n",
      "  warnings.warn(msg)\n"
     ]
    },
    {
     "name": "stdout",
     "output_type": "stream",
     "text": [
      "------------fold nº 0----------------------\n"
     ]
    },
    {
     "name": "stderr",
     "output_type": "stream",
     "text": [
      "GPU available: True (cuda), used: True\n",
      "TPU available: False, using: 0 TPU cores\n",
      "IPU available: False, using: 0 IPUs\n",
      "HPU available: False, using: 0 HPUs\n",
      "LOCAL_RANK: 0 - CUDA_VISIBLE_DEVICES: [0]\n",
      "\n",
      "  | Name      | Type           | Params\n",
      "---------------------------------------------\n",
      "0 | accuracy  | BinaryAccuracy | 0     \n",
      "1 | f1score   | BinaryF1Score  | 0     \n",
      "2 | model     | ResNet         | 23.5 M\n",
      "3 | fuzzyloss | FuzzyLoss      | 0     \n",
      "---------------------------------------------\n",
      "4.1 K     Trainable params\n",
      "23.5 M    Non-trainable params\n",
      "23.5 M    Total params\n",
      "94.049    Total estimated model params size (MB)\n",
      "C:\\Users\\laraquij\\Anaconda3\\envs\\tfg_dani\\lib\\site-packages\\pytorch_lightning\\trainer\\connectors\\data_connector.py:229: PossibleUserWarning: The dataloader, train_dataloader, does not have many workers which may be a bottleneck. Consider increasing the value of the `num_workers` argument` (try 8 which is the number of cpus on this machine) in the `DataLoader` init to improve performance.\n",
      "  category=PossibleUserWarning,\n"
     ]
    },
    {
     "name": "stdout",
     "output_type": "stream",
     "text": [
      "Epoch 9: 100%|██████████| 158/158 [00:55<00:00,  2.87it/s, loss=0.281, v_num=177] "
     ]
    },
    {
     "name": "stderr",
     "output_type": "stream",
     "text": [
      "`Trainer.fit` stopped: `max_epochs=10` reached.\n"
     ]
    },
    {
     "name": "stdout",
     "output_type": "stream",
     "text": [
      "Epoch 9: 100%|██████████| 158/158 [00:55<00:00,  2.84it/s, loss=0.281, v_num=177]\n"
     ]
    },
    {
     "name": "stderr",
     "output_type": "stream",
     "text": [
      "\n",
      "  0%|          | 0/40 [00:00<?, ?it/s]\u001b[A\n",
      "  2%|▎         | 1/40 [00:01<00:41,  1.07s/it]\u001b[A\n",
      "  5%|▌         | 2/40 [00:02<00:42,  1.11s/it]\u001b[A\n",
      "  8%|▊         | 3/40 [00:03<00:40,  1.10s/it]\u001b[A\n",
      " 10%|█         | 4/40 [00:04<00:40,  1.12s/it]\u001b[A\n",
      " 12%|█▎        | 5/40 [00:05<00:38,  1.11s/it]\u001b[A\n",
      " 15%|█▌        | 6/40 [00:06<00:38,  1.13s/it]\u001b[A\n",
      " 18%|█▊        | 7/40 [00:07<00:36,  1.12s/it]\u001b[A\n",
      " 20%|██        | 8/40 [00:08<00:35,  1.10s/it]\u001b[A\n",
      " 22%|██▎       | 9/40 [00:09<00:33,  1.09s/it]\u001b[A\n",
      " 25%|██▌       | 10/40 [00:11<00:33,  1.12s/it]\u001b[A\n",
      " 28%|██▊       | 11/40 [00:12<00:32,  1.10s/it]\u001b[A\n",
      " 30%|███       | 12/40 [00:13<00:31,  1.11s/it]\u001b[A\n",
      " 32%|███▎      | 13/40 [00:14<00:30,  1.11s/it]\u001b[A\n",
      " 35%|███▌      | 14/40 [00:15<00:29,  1.12s/it]\u001b[A\n",
      " 38%|███▊      | 15/40 [00:16<00:27,  1.12s/it]\u001b[A\n",
      " 40%|████      | 16/40 [00:17<00:26,  1.12s/it]\u001b[A\n",
      " 42%|████▎     | 17/40 [00:18<00:25,  1.11s/it]\u001b[A\n",
      " 45%|████▌     | 18/40 [00:20<00:24,  1.12s/it]\u001b[A\n",
      " 48%|████▊     | 19/40 [00:21<00:23,  1.12s/it]\u001b[A\n",
      " 50%|█████     | 20/40 [00:22<00:23,  1.15s/it]\u001b[A\n",
      " 52%|█████▎    | 21/40 [00:23<00:22,  1.17s/it]\u001b[A\n",
      " 55%|█████▌    | 22/40 [00:24<00:21,  1.17s/it]\u001b[A\n",
      " 57%|█████▊    | 23/40 [00:25<00:19,  1.14s/it]\u001b[A\n",
      " 60%|██████    | 24/40 [00:26<00:17,  1.12s/it]\u001b[A\n",
      " 62%|██████▎   | 25/40 [00:27<00:16,  1.09s/it]\u001b[A\n",
      " 65%|██████▌   | 26/40 [00:28<00:15,  1.08s/it]\u001b[A\n",
      " 68%|██████▊   | 27/40 [00:30<00:14,  1.09s/it]\u001b[A\n",
      " 70%|███████   | 28/40 [00:31<00:12,  1.07s/it]\u001b[A\n",
      " 72%|███████▎  | 29/40 [00:32<00:11,  1.08s/it]\u001b[A\n",
      " 75%|███████▌  | 30/40 [00:33<00:10,  1.09s/it]\u001b[A\n",
      " 78%|███████▊  | 31/40 [00:34<00:09,  1.10s/it]\u001b[A\n",
      " 80%|████████  | 32/40 [00:35<00:08,  1.12s/it]\u001b[A\n",
      " 82%|████████▎ | 33/40 [00:36<00:07,  1.11s/it]\u001b[A\n",
      " 85%|████████▌ | 34/40 [00:37<00:06,  1.12s/it]\u001b[A\n",
      " 88%|████████▊ | 35/40 [00:38<00:05,  1.11s/it]\u001b[A\n",
      " 90%|█████████ | 36/40 [00:40<00:04,  1.12s/it]\u001b[A\n",
      " 92%|█████████▎| 37/40 [00:41<00:03,  1.11s/it]\u001b[A\n",
      " 95%|█████████▌| 38/40 [00:42<00:02,  1.12s/it]\u001b[A\n",
      " 98%|█████████▊| 39/40 [00:43<00:01,  1.12s/it]\u001b[A\n",
      "100%|██████████| 40/40 [00:43<00:00,  1.09s/it]\u001b[A\n",
      "C:\\Users\\laraquij\\Anaconda3\\envs\\tfg_dani\\lib\\site-packages\\torchvision\\models\\_utils.py:209: UserWarning: The parameter 'pretrained' is deprecated since 0.13 and may be removed in the future, please use 'weights' instead.\n",
      "  f\"The parameter '{pretrained_param}' is deprecated since 0.13 and may be removed in the future, \"\n",
      "C:\\Users\\laraquij\\Anaconda3\\envs\\tfg_dani\\lib\\site-packages\\torchvision\\models\\_utils.py:223: UserWarning: Arguments other than a weight enum or `None` for 'weights' are deprecated since 0.13 and may be removed in the future. The current behavior is equivalent to passing `weights=ResNet50_Weights.IMAGENET1K_V1`. You can also use `weights=ResNet50_Weights.DEFAULT` to get the most up-to-date weights.\n",
      "  warnings.warn(msg)\n"
     ]
    },
    {
     "name": "stdout",
     "output_type": "stream",
     "text": [
      "------------fold nº 1----------------------\n"
     ]
    },
    {
     "name": "stderr",
     "output_type": "stream",
     "text": [
      "GPU available: True (cuda), used: True\n",
      "TPU available: False, using: 0 TPU cores\n",
      "IPU available: False, using: 0 IPUs\n",
      "HPU available: False, using: 0 HPUs\n",
      "LOCAL_RANK: 0 - CUDA_VISIBLE_DEVICES: [0]\n",
      "\n",
      "  | Name      | Type           | Params\n",
      "---------------------------------------------\n",
      "0 | accuracy  | BinaryAccuracy | 0     \n",
      "1 | f1score   | BinaryF1Score  | 0     \n",
      "2 | model     | ResNet         | 23.5 M\n",
      "3 | fuzzyloss | FuzzyLoss      | 0     \n",
      "---------------------------------------------\n",
      "4.1 K     Trainable params\n",
      "23.5 M    Non-trainable params\n",
      "23.5 M    Total params\n",
      "94.049    Total estimated model params size (MB)\n",
      "C:\\Users\\laraquij\\Anaconda3\\envs\\tfg_dani\\lib\\site-packages\\pytorch_lightning\\trainer\\connectors\\data_connector.py:229: PossibleUserWarning: The dataloader, train_dataloader, does not have many workers which may be a bottleneck. Consider increasing the value of the `num_workers` argument` (try 8 which is the number of cpus on this machine) in the `DataLoader` init to improve performance.\n",
      "  category=PossibleUserWarning,\n"
     ]
    },
    {
     "name": "stdout",
     "output_type": "stream",
     "text": [
      "Epoch 9: 100%|██████████| 158/158 [00:54<00:00,  2.88it/s, loss=0.0784, v_num=178]"
     ]
    },
    {
     "name": "stderr",
     "output_type": "stream",
     "text": [
      "`Trainer.fit` stopped: `max_epochs=10` reached.\n"
     ]
    },
    {
     "name": "stdout",
     "output_type": "stream",
     "text": [
      "Epoch 9: 100%|██████████| 158/158 [00:55<00:00,  2.85it/s, loss=0.0784, v_num=178]\n"
     ]
    },
    {
     "name": "stderr",
     "output_type": "stream",
     "text": [
      "\n",
      "  0%|          | 0/40 [00:00<?, ?it/s]\u001b[A\n",
      "  2%|▎         | 1/40 [00:01<00:45,  1.16s/it]\u001b[A\n",
      "  5%|▌         | 2/40 [00:02<00:43,  1.14s/it]\u001b[A\n",
      "  8%|▊         | 3/40 [00:03<00:41,  1.11s/it]\u001b[A\n",
      " 10%|█         | 4/40 [00:04<00:40,  1.11s/it]\u001b[A\n",
      " 12%|█▎        | 5/40 [00:05<00:38,  1.10s/it]\u001b[A\n",
      " 15%|█▌        | 6/40 [00:06<00:37,  1.11s/it]\u001b[A\n",
      " 18%|█▊        | 7/40 [00:07<00:36,  1.09s/it]\u001b[A\n",
      " 20%|██        | 8/40 [00:08<00:34,  1.07s/it]\u001b[A\n",
      " 22%|██▎       | 9/40 [00:09<00:33,  1.07s/it]\u001b[A\n",
      " 25%|██▌       | 10/40 [00:10<00:32,  1.08s/it]\u001b[A\n",
      " 28%|██▊       | 11/40 [00:12<00:32,  1.11s/it]\u001b[A\n",
      " 30%|███       | 12/40 [00:13<00:31,  1.11s/it]\u001b[A\n",
      " 32%|███▎      | 13/40 [00:14<00:29,  1.10s/it]\u001b[A\n",
      " 35%|███▌      | 14/40 [00:15<00:28,  1.10s/it]\u001b[A\n",
      " 38%|███▊      | 15/40 [00:16<00:27,  1.10s/it]\u001b[A\n",
      " 40%|████      | 16/40 [00:17<00:26,  1.10s/it]\u001b[A\n",
      " 42%|████▎     | 17/40 [00:18<00:25,  1.09s/it]\u001b[A\n",
      " 45%|████▌     | 18/40 [00:19<00:24,  1.09s/it]\u001b[A\n",
      " 48%|████▊     | 19/40 [00:20<00:22,  1.09s/it]\u001b[A\n",
      " 50%|█████     | 20/40 [00:21<00:22,  1.10s/it]\u001b[A\n",
      " 52%|█████▎    | 21/40 [00:23<00:20,  1.10s/it]\u001b[A\n",
      " 55%|█████▌    | 22/40 [00:24<00:19,  1.10s/it]\u001b[A\n",
      " 57%|█████▊    | 23/40 [00:25<00:18,  1.10s/it]\u001b[A\n",
      " 60%|██████    | 24/40 [00:26<00:17,  1.11s/it]\u001b[A\n",
      " 62%|██████▎   | 25/40 [00:27<00:16,  1.10s/it]\u001b[A\n",
      " 65%|██████▌   | 26/40 [00:28<00:15,  1.09s/it]\u001b[A\n",
      " 68%|██████▊   | 27/40 [00:29<00:14,  1.10s/it]\u001b[A\n",
      " 70%|███████   | 28/40 [00:30<00:13,  1.12s/it]\u001b[A\n",
      " 72%|███████▎  | 29/40 [00:31<00:12,  1.11s/it]\u001b[A\n",
      " 75%|███████▌  | 30/40 [00:33<00:10,  1.10s/it]\u001b[A\n",
      " 78%|███████▊  | 31/40 [00:34<00:09,  1.10s/it]\u001b[A\n",
      " 80%|████████  | 32/40 [00:35<00:08,  1.09s/it]\u001b[A\n",
      " 82%|████████▎ | 33/40 [00:36<00:07,  1.07s/it]\u001b[A\n",
      " 85%|████████▌ | 34/40 [00:37<00:06,  1.08s/it]\u001b[A\n",
      " 88%|████████▊ | 35/40 [00:38<00:05,  1.08s/it]\u001b[A\n",
      " 90%|█████████ | 36/40 [00:39<00:04,  1.09s/it]\u001b[A\n",
      " 92%|█████████▎| 37/40 [00:40<00:03,  1.08s/it]\u001b[A\n",
      " 95%|█████████▌| 38/40 [00:41<00:02,  1.09s/it]\u001b[A\n",
      " 98%|█████████▊| 39/40 [00:42<00:01,  1.08s/it]\u001b[A\n",
      "100%|██████████| 40/40 [00:43<00:00,  1.08s/it]\u001b[A\n",
      "C:\\Users\\laraquij\\Anaconda3\\envs\\tfg_dani\\lib\\site-packages\\torchvision\\models\\_utils.py:209: UserWarning: The parameter 'pretrained' is deprecated since 0.13 and may be removed in the future, please use 'weights' instead.\n",
      "  f\"The parameter '{pretrained_param}' is deprecated since 0.13 and may be removed in the future, \"\n",
      "C:\\Users\\laraquij\\Anaconda3\\envs\\tfg_dani\\lib\\site-packages\\torchvision\\models\\_utils.py:223: UserWarning: Arguments other than a weight enum or `None` for 'weights' are deprecated since 0.13 and may be removed in the future. The current behavior is equivalent to passing `weights=ResNet50_Weights.IMAGENET1K_V1`. You can also use `weights=ResNet50_Weights.DEFAULT` to get the most up-to-date weights.\n",
      "  warnings.warn(msg)\n"
     ]
    },
    {
     "name": "stdout",
     "output_type": "stream",
     "text": [
      "------------fold nº 2----------------------\n"
     ]
    },
    {
     "name": "stderr",
     "output_type": "stream",
     "text": [
      "GPU available: True (cuda), used: True\n",
      "TPU available: False, using: 0 TPU cores\n",
      "IPU available: False, using: 0 IPUs\n",
      "HPU available: False, using: 0 HPUs\n",
      "LOCAL_RANK: 0 - CUDA_VISIBLE_DEVICES: [0]\n",
      "\n",
      "  | Name      | Type           | Params\n",
      "---------------------------------------------\n",
      "0 | accuracy  | BinaryAccuracy | 0     \n",
      "1 | f1score   | BinaryF1Score  | 0     \n",
      "2 | model     | ResNet         | 23.5 M\n",
      "3 | fuzzyloss | FuzzyLoss      | 0     \n",
      "---------------------------------------------\n",
      "4.1 K     Trainable params\n",
      "23.5 M    Non-trainable params\n",
      "23.5 M    Total params\n",
      "94.049    Total estimated model params size (MB)\n",
      "C:\\Users\\laraquij\\Anaconda3\\envs\\tfg_dani\\lib\\site-packages\\pytorch_lightning\\trainer\\connectors\\data_connector.py:229: PossibleUserWarning: The dataloader, train_dataloader, does not have many workers which may be a bottleneck. Consider increasing the value of the `num_workers` argument` (try 8 which is the number of cpus on this machine) in the `DataLoader` init to improve performance.\n",
      "  category=PossibleUserWarning,\n"
     ]
    },
    {
     "name": "stdout",
     "output_type": "stream",
     "text": [
      "Epoch 9: 100%|██████████| 158/158 [00:55<00:00,  2.86it/s, loss=0.0579, v_num=179]"
     ]
    },
    {
     "name": "stderr",
     "output_type": "stream",
     "text": [
      "`Trainer.fit` stopped: `max_epochs=10` reached.\n"
     ]
    },
    {
     "name": "stdout",
     "output_type": "stream",
     "text": [
      "Epoch 9: 100%|██████████| 158/158 [00:55<00:00,  2.83it/s, loss=0.0579, v_num=179]\n"
     ]
    },
    {
     "name": "stderr",
     "output_type": "stream",
     "text": [
      "\n",
      "  0%|          | 0/40 [00:00<?, ?it/s]\u001b[A\n",
      "  2%|▎         | 1/40 [00:01<00:44,  1.13s/it]\u001b[A\n",
      "  5%|▌         | 2/40 [00:02<00:43,  1.15s/it]\u001b[A\n",
      "  8%|▊         | 3/40 [00:03<00:42,  1.15s/it]\u001b[A\n",
      " 10%|█         | 4/40 [00:04<00:40,  1.12s/it]\u001b[A\n",
      " 12%|█▎        | 5/40 [00:05<00:38,  1.11s/it]\u001b[A\n",
      " 15%|█▌        | 6/40 [00:06<00:38,  1.12s/it]\u001b[A\n",
      " 18%|█▊        | 7/40 [00:07<00:36,  1.12s/it]\u001b[A\n",
      " 20%|██        | 8/40 [00:08<00:35,  1.11s/it]\u001b[A\n",
      " 22%|██▎       | 9/40 [00:10<00:34,  1.11s/it]\u001b[A\n",
      " 25%|██▌       | 10/40 [00:11<00:33,  1.11s/it]\u001b[A\n",
      " 28%|██▊       | 11/40 [00:12<00:32,  1.11s/it]\u001b[A\n",
      " 30%|███       | 12/40 [00:13<00:31,  1.12s/it]\u001b[A\n",
      " 32%|███▎      | 13/40 [00:14<00:29,  1.11s/it]\u001b[A\n",
      " 35%|███▌      | 14/40 [00:15<00:28,  1.10s/it]\u001b[A\n",
      " 38%|███▊      | 15/40 [00:16<00:27,  1.12s/it]\u001b[A\n",
      " 40%|████      | 16/40 [00:17<00:26,  1.12s/it]\u001b[A\n",
      " 42%|████▎     | 17/40 [00:18<00:25,  1.11s/it]\u001b[A\n",
      " 45%|████▌     | 18/40 [00:20<00:24,  1.10s/it]\u001b[A\n",
      " 48%|████▊     | 19/40 [00:21<00:23,  1.10s/it]\u001b[A\n",
      " 50%|█████     | 20/40 [00:22<00:22,  1.11s/it]\u001b[A\n",
      " 52%|█████▎    | 21/40 [00:23<00:21,  1.11s/it]\u001b[A\n",
      " 55%|█████▌    | 22/40 [00:24<00:19,  1.10s/it]\u001b[A\n",
      " 57%|█████▊    | 23/40 [00:25<00:18,  1.09s/it]\u001b[A\n",
      " 60%|██████    | 24/40 [00:26<00:17,  1.10s/it]\u001b[A\n",
      " 62%|██████▎   | 25/40 [00:27<00:16,  1.09s/it]\u001b[A\n",
      " 65%|██████▌   | 26/40 [00:28<00:15,  1.11s/it]\u001b[A\n",
      " 68%|██████▊   | 27/40 [00:30<00:14,  1.13s/it]\u001b[A\n",
      " 70%|███████   | 28/40 [00:31<00:13,  1.11s/it]\u001b[A\n",
      " 72%|███████▎  | 29/40 [00:32<00:12,  1.11s/it]\u001b[A\n",
      " 75%|███████▌  | 30/40 [00:33<00:10,  1.09s/it]\u001b[A\n",
      " 78%|███████▊  | 31/40 [00:34<00:09,  1.09s/it]\u001b[A\n",
      " 80%|████████  | 32/40 [00:35<00:08,  1.11s/it]\u001b[A\n",
      " 82%|████████▎ | 33/40 [00:36<00:07,  1.12s/it]\u001b[A\n",
      " 85%|████████▌ | 34/40 [00:37<00:06,  1.10s/it]\u001b[A\n",
      " 88%|████████▊ | 35/40 [00:38<00:05,  1.11s/it]\u001b[A\n",
      " 90%|█████████ | 36/40 [00:39<00:04,  1.09s/it]\u001b[A\n",
      " 92%|█████████▎| 37/40 [00:40<00:03,  1.09s/it]\u001b[A\n",
      " 95%|█████████▌| 38/40 [00:42<00:02,  1.11s/it]\u001b[A\n",
      " 98%|█████████▊| 39/40 [00:43<00:01,  1.11s/it]\u001b[A\n",
      "100%|██████████| 40/40 [00:43<00:00,  1.09s/it]\u001b[A\n",
      "C:\\Users\\laraquij\\Anaconda3\\envs\\tfg_dani\\lib\\site-packages\\torchvision\\models\\_utils.py:209: UserWarning: The parameter 'pretrained' is deprecated since 0.13 and may be removed in the future, please use 'weights' instead.\n",
      "  f\"The parameter '{pretrained_param}' is deprecated since 0.13 and may be removed in the future, \"\n",
      "C:\\Users\\laraquij\\Anaconda3\\envs\\tfg_dani\\lib\\site-packages\\torchvision\\models\\_utils.py:223: UserWarning: Arguments other than a weight enum or `None` for 'weights' are deprecated since 0.13 and may be removed in the future. The current behavior is equivalent to passing `weights=ResNet50_Weights.IMAGENET1K_V1`. You can also use `weights=ResNet50_Weights.DEFAULT` to get the most up-to-date weights.\n",
      "  warnings.warn(msg)\n"
     ]
    },
    {
     "name": "stdout",
     "output_type": "stream",
     "text": [
      "------------fold nº 3----------------------\n"
     ]
    },
    {
     "name": "stderr",
     "output_type": "stream",
     "text": [
      "GPU available: True (cuda), used: True\n",
      "TPU available: False, using: 0 TPU cores\n",
      "IPU available: False, using: 0 IPUs\n",
      "HPU available: False, using: 0 HPUs\n",
      "LOCAL_RANK: 0 - CUDA_VISIBLE_DEVICES: [0]\n",
      "\n",
      "  | Name      | Type           | Params\n",
      "---------------------------------------------\n",
      "0 | accuracy  | BinaryAccuracy | 0     \n",
      "1 | f1score   | BinaryF1Score  | 0     \n",
      "2 | model     | ResNet         | 23.5 M\n",
      "3 | fuzzyloss | FuzzyLoss      | 0     \n",
      "---------------------------------------------\n",
      "4.1 K     Trainable params\n",
      "23.5 M    Non-trainable params\n",
      "23.5 M    Total params\n",
      "94.049    Total estimated model params size (MB)\n",
      "C:\\Users\\laraquij\\Anaconda3\\envs\\tfg_dani\\lib\\site-packages\\pytorch_lightning\\trainer\\connectors\\data_connector.py:229: PossibleUserWarning: The dataloader, train_dataloader, does not have many workers which may be a bottleneck. Consider increasing the value of the `num_workers` argument` (try 8 which is the number of cpus on this machine) in the `DataLoader` init to improve performance.\n",
      "  category=PossibleUserWarning,\n"
     ]
    },
    {
     "name": "stdout",
     "output_type": "stream",
     "text": [
      "Epoch 9: 100%|██████████| 158/158 [00:55<00:00,  2.87it/s, loss=0.0407, v_num=180]"
     ]
    },
    {
     "name": "stderr",
     "output_type": "stream",
     "text": [
      "`Trainer.fit` stopped: `max_epochs=10` reached.\n"
     ]
    },
    {
     "name": "stdout",
     "output_type": "stream",
     "text": [
      "Epoch 9: 100%|██████████| 158/158 [00:55<00:00,  2.84it/s, loss=0.0407, v_num=180]\n"
     ]
    },
    {
     "name": "stderr",
     "output_type": "stream",
     "text": [
      "\n",
      "  0%|          | 0/40 [00:00<?, ?it/s]\u001b[A\n",
      "  2%|▎         | 1/40 [00:01<00:42,  1.08s/it]\u001b[A\n",
      "  5%|▌         | 2/40 [00:02<00:41,  1.10s/it]\u001b[A\n",
      "  8%|▊         | 3/40 [00:03<00:41,  1.12s/it]\u001b[A\n",
      " 10%|█         | 4/40 [00:04<00:40,  1.13s/it]\u001b[A\n",
      " 12%|█▎        | 5/40 [00:05<00:38,  1.10s/it]\u001b[A\n",
      " 15%|█▌        | 6/40 [00:06<00:37,  1.09s/it]\u001b[A\n",
      " 18%|█▊        | 7/40 [00:07<00:35,  1.09s/it]\u001b[A\n",
      " 20%|██        | 8/40 [00:08<00:35,  1.11s/it]\u001b[A\n",
      " 22%|██▎       | 9/40 [00:09<00:34,  1.10s/it]\u001b[A\n",
      " 25%|██▌       | 10/40 [00:11<00:33,  1.10s/it]\u001b[A\n",
      " 28%|██▊       | 11/40 [00:12<00:33,  1.15s/it]\u001b[A\n",
      " 30%|███       | 12/40 [00:13<00:32,  1.18s/it]\u001b[A\n",
      " 32%|███▎      | 13/40 [00:14<00:31,  1.16s/it]\u001b[A\n",
      " 35%|███▌      | 14/40 [00:15<00:29,  1.15s/it]\u001b[A\n",
      " 38%|███▊      | 15/40 [00:16<00:28,  1.13s/it]\u001b[A\n",
      " 40%|████      | 16/40 [00:17<00:26,  1.12s/it]\u001b[A\n",
      " 42%|████▎     | 17/40 [00:19<00:26,  1.13s/it]\u001b[A\n",
      " 45%|████▌     | 18/40 [00:20<00:24,  1.12s/it]\u001b[A\n",
      " 48%|████▊     | 19/40 [00:21<00:23,  1.12s/it]\u001b[A\n",
      " 50%|█████     | 20/40 [00:22<00:22,  1.11s/it]\u001b[A\n",
      " 52%|█████▎    | 21/40 [00:23<00:21,  1.12s/it]\u001b[A\n",
      " 55%|█████▌    | 22/40 [00:24<00:20,  1.13s/it]\u001b[A\n",
      " 57%|█████▊    | 23/40 [00:25<00:19,  1.14s/it]\u001b[A\n",
      " 60%|██████    | 24/40 [00:26<00:18,  1.13s/it]\u001b[A\n",
      " 62%|██████▎   | 25/40 [00:28<00:16,  1.13s/it]\u001b[A\n",
      " 65%|██████▌   | 26/40 [00:29<00:15,  1.13s/it]\u001b[A\n",
      " 68%|██████▊   | 27/40 [00:30<00:14,  1.13s/it]\u001b[A\n",
      " 70%|███████   | 28/40 [00:31<00:13,  1.13s/it]\u001b[A\n",
      " 72%|███████▎  | 29/40 [00:32<00:12,  1.12s/it]\u001b[A\n",
      " 75%|███████▌  | 30/40 [00:33<00:11,  1.13s/it]\u001b[A\n",
      " 78%|███████▊  | 31/40 [00:34<00:10,  1.12s/it]\u001b[A\n",
      " 80%|████████  | 32/40 [00:35<00:08,  1.12s/it]\u001b[A\n",
      " 82%|████████▎ | 33/40 [00:37<00:07,  1.11s/it]\u001b[A\n",
      " 85%|████████▌ | 34/40 [00:38<00:06,  1.13s/it]\u001b[A\n",
      " 88%|████████▊ | 35/40 [00:39<00:05,  1.13s/it]\u001b[A\n",
      " 90%|█████████ | 36/40 [00:40<00:04,  1.11s/it]\u001b[A\n",
      " 92%|█████████▎| 37/40 [00:41<00:03,  1.12s/it]\u001b[A\n",
      " 95%|█████████▌| 38/40 [00:42<00:02,  1.12s/it]\u001b[A\n",
      " 98%|█████████▊| 39/40 [00:43<00:01,  1.12s/it]\u001b[A\n",
      "100%|██████████| 40/40 [00:44<00:00,  1.10s/it]\u001b[A\n",
      "C:\\Users\\laraquij\\Anaconda3\\envs\\tfg_dani\\lib\\site-packages\\torchvision\\models\\_utils.py:209: UserWarning: The parameter 'pretrained' is deprecated since 0.13 and may be removed in the future, please use 'weights' instead.\n",
      "  f\"The parameter '{pretrained_param}' is deprecated since 0.13 and may be removed in the future, \"\n",
      "C:\\Users\\laraquij\\Anaconda3\\envs\\tfg_dani\\lib\\site-packages\\torchvision\\models\\_utils.py:223: UserWarning: Arguments other than a weight enum or `None` for 'weights' are deprecated since 0.13 and may be removed in the future. The current behavior is equivalent to passing `weights=ResNet50_Weights.IMAGENET1K_V1`. You can also use `weights=ResNet50_Weights.DEFAULT` to get the most up-to-date weights.\n",
      "  warnings.warn(msg)\n"
     ]
    },
    {
     "name": "stdout",
     "output_type": "stream",
     "text": [
      "------------fold nº 4----------------------\n"
     ]
    },
    {
     "name": "stderr",
     "output_type": "stream",
     "text": [
      "GPU available: True (cuda), used: True\n",
      "TPU available: False, using: 0 TPU cores\n",
      "IPU available: False, using: 0 IPUs\n",
      "HPU available: False, using: 0 HPUs\n",
      "LOCAL_RANK: 0 - CUDA_VISIBLE_DEVICES: [0]\n",
      "\n",
      "  | Name      | Type           | Params\n",
      "---------------------------------------------\n",
      "0 | accuracy  | BinaryAccuracy | 0     \n",
      "1 | f1score   | BinaryF1Score  | 0     \n",
      "2 | model     | ResNet         | 23.5 M\n",
      "3 | fuzzyloss | FuzzyLoss      | 0     \n",
      "---------------------------------------------\n",
      "4.1 K     Trainable params\n",
      "23.5 M    Non-trainable params\n",
      "23.5 M    Total params\n",
      "94.049    Total estimated model params size (MB)\n",
      "C:\\Users\\laraquij\\Anaconda3\\envs\\tfg_dani\\lib\\site-packages\\pytorch_lightning\\trainer\\connectors\\data_connector.py:229: PossibleUserWarning: The dataloader, train_dataloader, does not have many workers which may be a bottleneck. Consider increasing the value of the `num_workers` argument` (try 8 which is the number of cpus on this machine) in the `DataLoader` init to improve performance.\n",
      "  category=PossibleUserWarning,\n"
     ]
    },
    {
     "name": "stdout",
     "output_type": "stream",
     "text": [
      "Epoch 9: 100%|██████████| 158/158 [00:55<00:00,  2.86it/s, loss=0.108, v_num=181] "
     ]
    },
    {
     "name": "stderr",
     "output_type": "stream",
     "text": [
      "`Trainer.fit` stopped: `max_epochs=10` reached.\n"
     ]
    },
    {
     "name": "stdout",
     "output_type": "stream",
     "text": [
      "Epoch 9: 100%|██████████| 158/158 [00:55<00:00,  2.83it/s, loss=0.108, v_num=181]\n"
     ]
    },
    {
     "name": "stderr",
     "output_type": "stream",
     "text": [
      "\n",
      "  0%|          | 0/40 [00:00<?, ?it/s]\u001b[A\n",
      "  2%|▎         | 1/40 [00:01<00:45,  1.17s/it]\u001b[A\n",
      "  5%|▌         | 2/40 [00:02<00:42,  1.13s/it]\u001b[A\n",
      "  8%|▊         | 3/40 [00:03<00:41,  1.12s/it]\u001b[A\n",
      " 10%|█         | 4/40 [00:04<00:40,  1.13s/it]\u001b[A\n",
      " 12%|█▎        | 5/40 [00:05<00:39,  1.12s/it]\u001b[A\n",
      " 15%|█▌        | 6/40 [00:06<00:38,  1.12s/it]\u001b[A\n",
      " 18%|█▊        | 7/40 [00:07<00:37,  1.13s/it]\u001b[A\n",
      " 20%|██        | 8/40 [00:09<00:36,  1.13s/it]\u001b[A\n",
      " 22%|██▎       | 9/40 [00:10<00:34,  1.11s/it]\u001b[A\n",
      " 25%|██▌       | 10/40 [00:11<00:33,  1.12s/it]\u001b[A\n",
      " 28%|██▊       | 11/40 [00:12<00:32,  1.12s/it]\u001b[A\n",
      " 30%|███       | 12/40 [00:13<00:32,  1.15s/it]\u001b[A\n",
      " 32%|███▎      | 13/40 [00:14<00:30,  1.14s/it]\u001b[A\n",
      " 35%|███▌      | 14/40 [00:15<00:29,  1.13s/it]\u001b[A\n",
      " 38%|███▊      | 15/40 [00:16<00:28,  1.14s/it]\u001b[A\n",
      " 40%|████      | 16/40 [00:18<00:27,  1.14s/it]\u001b[A\n",
      " 42%|████▎     | 17/40 [00:19<00:26,  1.14s/it]\u001b[A\n",
      " 45%|████▌     | 18/40 [00:20<00:25,  1.14s/it]\u001b[A\n",
      " 48%|████▊     | 19/40 [00:21<00:23,  1.13s/it]\u001b[A\n",
      " 50%|█████     | 20/40 [00:22<00:22,  1.12s/it]\u001b[A\n",
      " 52%|█████▎    | 21/40 [00:23<00:21,  1.14s/it]\u001b[A\n",
      " 55%|█████▌    | 22/40 [00:24<00:20,  1.13s/it]\u001b[A\n",
      " 57%|█████▊    | 23/40 [00:25<00:19,  1.13s/it]\u001b[A\n",
      " 60%|██████    | 24/40 [00:27<00:18,  1.15s/it]\u001b[A\n",
      " 62%|██████▎   | 25/40 [00:28<00:17,  1.16s/it]\u001b[A\n",
      " 65%|██████▌   | 26/40 [00:29<00:16,  1.16s/it]\u001b[A\n",
      " 68%|██████▊   | 27/40 [00:30<00:14,  1.15s/it]\u001b[A\n",
      " 70%|███████   | 28/40 [00:31<00:13,  1.13s/it]\u001b[A\n",
      " 72%|███████▎  | 29/40 [00:32<00:12,  1.12s/it]\u001b[A\n",
      " 75%|███████▌  | 30/40 [00:33<00:10,  1.10s/it]\u001b[A\n",
      " 78%|███████▊  | 31/40 [00:35<00:10,  1.11s/it]\u001b[A\n",
      " 80%|████████  | 32/40 [00:36<00:09,  1.13s/it]\u001b[A\n",
      " 82%|████████▎ | 33/40 [00:37<00:07,  1.14s/it]\u001b[A\n",
      " 85%|████████▌ | 34/40 [00:38<00:06,  1.15s/it]\u001b[A\n",
      " 88%|████████▊ | 35/40 [00:39<00:05,  1.15s/it]\u001b[A\n",
      " 90%|█████████ | 36/40 [00:40<00:04,  1.15s/it]\u001b[A\n",
      " 92%|█████████▎| 37/40 [00:41<00:03,  1.13s/it]\u001b[A\n",
      " 95%|█████████▌| 38/40 [00:43<00:02,  1.13s/it]\u001b[A\n",
      " 98%|█████████▊| 39/40 [00:44<00:01,  1.13s/it]\u001b[A\n",
      "100%|██████████| 40/40 [00:44<00:00,  1.11s/it]\u001b[A\n",
      "C:\\Users\\laraquij\\Anaconda3\\envs\\tfg_dani\\lib\\site-packages\\torchvision\\models\\_utils.py:209: UserWarning: The parameter 'pretrained' is deprecated since 0.13 and may be removed in the future, please use 'weights' instead.\n",
      "  f\"The parameter '{pretrained_param}' is deprecated since 0.13 and may be removed in the future, \"\n",
      "C:\\Users\\laraquij\\Anaconda3\\envs\\tfg_dani\\lib\\site-packages\\torchvision\\models\\_utils.py:223: UserWarning: Arguments other than a weight enum or `None` for 'weights' are deprecated since 0.13 and may be removed in the future. The current behavior is equivalent to passing `weights=ResNet50_Weights.IMAGENET1K_V1`. You can also use `weights=ResNet50_Weights.DEFAULT` to get the most up-to-date weights.\n",
      "  warnings.warn(msg)\n"
     ]
    },
    {
     "name": "stdout",
     "output_type": "stream",
     "text": [
      "------------fold nº 0----------------------\n"
     ]
    },
    {
     "name": "stderr",
     "output_type": "stream",
     "text": [
      "GPU available: True (cuda), used: True\n",
      "TPU available: False, using: 0 TPU cores\n",
      "IPU available: False, using: 0 IPUs\n",
      "HPU available: False, using: 0 HPUs\n",
      "LOCAL_RANK: 0 - CUDA_VISIBLE_DEVICES: [0]\n",
      "\n",
      "  | Name      | Type           | Params\n",
      "---------------------------------------------\n",
      "0 | accuracy  | BinaryAccuracy | 0     \n",
      "1 | f1score   | BinaryF1Score  | 0     \n",
      "2 | model     | ResNet         | 23.5 M\n",
      "3 | fuzzyloss | FuzzyLoss      | 0     \n",
      "---------------------------------------------\n",
      "4.1 K     Trainable params\n",
      "23.5 M    Non-trainable params\n",
      "23.5 M    Total params\n",
      "94.049    Total estimated model params size (MB)\n",
      "C:\\Users\\laraquij\\Anaconda3\\envs\\tfg_dani\\lib\\site-packages\\pytorch_lightning\\trainer\\connectors\\data_connector.py:229: PossibleUserWarning: The dataloader, train_dataloader, does not have many workers which may be a bottleneck. Consider increasing the value of the `num_workers` argument` (try 8 which is the number of cpus on this machine) in the `DataLoader` init to improve performance.\n",
      "  category=PossibleUserWarning,\n"
     ]
    },
    {
     "name": "stdout",
     "output_type": "stream",
     "text": [
      "Epoch 9: 100%|██████████| 158/158 [00:55<00:00,  2.86it/s, loss=0.0637, v_num=182]"
     ]
    },
    {
     "name": "stderr",
     "output_type": "stream",
     "text": [
      "`Trainer.fit` stopped: `max_epochs=10` reached.\n"
     ]
    },
    {
     "name": "stdout",
     "output_type": "stream",
     "text": [
      "Epoch 9: 100%|██████████| 158/158 [00:55<00:00,  2.83it/s, loss=0.0637, v_num=182]\n"
     ]
    },
    {
     "name": "stderr",
     "output_type": "stream",
     "text": [
      "\n",
      "  0%|          | 0/40 [00:00<?, ?it/s]\u001b[A\n",
      "  2%|▎         | 1/40 [00:01<00:43,  1.11s/it]\u001b[A\n",
      "  5%|▌         | 2/40 [00:02<00:41,  1.09s/it]\u001b[A\n",
      "  8%|▊         | 3/40 [00:03<00:40,  1.10s/it]\u001b[A\n",
      " 10%|█         | 4/40 [00:04<00:39,  1.09s/it]\u001b[A\n",
      " 12%|█▎        | 5/40 [00:05<00:38,  1.10s/it]\u001b[A\n",
      " 15%|█▌        | 6/40 [00:06<00:36,  1.08s/it]\u001b[A\n",
      " 18%|█▊        | 7/40 [00:07<00:35,  1.08s/it]\u001b[A\n",
      " 20%|██        | 8/40 [00:08<00:34,  1.07s/it]\u001b[A\n",
      " 22%|██▎       | 9/40 [00:09<00:33,  1.07s/it]\u001b[A\n",
      " 25%|██▌       | 10/40 [00:10<00:32,  1.09s/it]\u001b[A\n",
      " 28%|██▊       | 11/40 [00:12<00:32,  1.11s/it]\u001b[A\n",
      " 30%|███       | 12/40 [00:13<00:30,  1.11s/it]\u001b[A\n",
      " 32%|███▎      | 13/40 [00:14<00:29,  1.11s/it]\u001b[A\n",
      " 35%|███▌      | 14/40 [00:15<00:29,  1.12s/it]\u001b[A\n",
      " 38%|███▊      | 15/40 [00:16<00:27,  1.11s/it]\u001b[A\n",
      " 40%|████      | 16/40 [00:17<00:26,  1.11s/it]\u001b[A\n",
      " 42%|████▎     | 17/40 [00:18<00:25,  1.12s/it]\u001b[A\n",
      " 45%|████▌     | 18/40 [00:19<00:24,  1.12s/it]\u001b[A\n",
      " 48%|████▊     | 19/40 [00:20<00:23,  1.11s/it]\u001b[A\n",
      " 50%|█████     | 20/40 [00:22<00:22,  1.11s/it]\u001b[A\n",
      " 52%|█████▎    | 21/40 [00:23<00:21,  1.11s/it]\u001b[A\n",
      " 55%|█████▌    | 22/40 [00:24<00:19,  1.10s/it]\u001b[A\n",
      " 57%|█████▊    | 23/40 [00:25<00:18,  1.11s/it]\u001b[A\n",
      " 60%|██████    | 24/40 [00:26<00:17,  1.12s/it]\u001b[A\n",
      " 62%|██████▎   | 25/40 [00:27<00:16,  1.11s/it]\u001b[A\n",
      " 65%|██████▌   | 26/40 [00:28<00:15,  1.10s/it]\u001b[A\n",
      " 68%|██████▊   | 27/40 [00:29<00:14,  1.09s/it]\u001b[A\n",
      " 70%|███████   | 28/40 [00:30<00:13,  1.11s/it]\u001b[A\n",
      " 72%|███████▎  | 29/40 [00:32<00:12,  1.12s/it]\u001b[A\n",
      " 75%|███████▌  | 30/40 [00:33<00:11,  1.10s/it]\u001b[A\n",
      " 78%|███████▊  | 31/40 [00:34<00:09,  1.11s/it]\u001b[A\n",
      " 80%|████████  | 32/40 [00:35<00:08,  1.12s/it]\u001b[A\n",
      " 82%|████████▎ | 33/40 [00:36<00:07,  1.11s/it]\u001b[A\n",
      " 85%|████████▌ | 34/40 [00:37<00:06,  1.11s/it]\u001b[A\n",
      " 88%|████████▊ | 35/40 [00:38<00:05,  1.08s/it]\u001b[A\n",
      " 90%|█████████ | 36/40 [00:39<00:04,  1.10s/it]\u001b[A\n",
      " 92%|█████████▎| 37/40 [00:40<00:03,  1.10s/it]\u001b[A\n",
      " 95%|█████████▌| 38/40 [00:41<00:02,  1.10s/it]\u001b[A\n",
      " 98%|█████████▊| 39/40 [00:43<00:01,  1.10s/it]\u001b[A\n",
      "100%|██████████| 40/40 [00:43<00:00,  1.08s/it]\u001b[A\n",
      "C:\\Users\\laraquij\\Anaconda3\\envs\\tfg_dani\\lib\\site-packages\\torchvision\\models\\_utils.py:209: UserWarning: The parameter 'pretrained' is deprecated since 0.13 and may be removed in the future, please use 'weights' instead.\n",
      "  f\"The parameter '{pretrained_param}' is deprecated since 0.13 and may be removed in the future, \"\n",
      "C:\\Users\\laraquij\\Anaconda3\\envs\\tfg_dani\\lib\\site-packages\\torchvision\\models\\_utils.py:223: UserWarning: Arguments other than a weight enum or `None` for 'weights' are deprecated since 0.13 and may be removed in the future. The current behavior is equivalent to passing `weights=ResNet50_Weights.IMAGENET1K_V1`. You can also use `weights=ResNet50_Weights.DEFAULT` to get the most up-to-date weights.\n",
      "  warnings.warn(msg)\n"
     ]
    },
    {
     "name": "stdout",
     "output_type": "stream",
     "text": [
      "------------fold nº 1----------------------\n"
     ]
    },
    {
     "name": "stderr",
     "output_type": "stream",
     "text": [
      "GPU available: True (cuda), used: True\n",
      "TPU available: False, using: 0 TPU cores\n",
      "IPU available: False, using: 0 IPUs\n",
      "HPU available: False, using: 0 HPUs\n",
      "LOCAL_RANK: 0 - CUDA_VISIBLE_DEVICES: [0]\n",
      "\n",
      "  | Name      | Type           | Params\n",
      "---------------------------------------------\n",
      "0 | accuracy  | BinaryAccuracy | 0     \n",
      "1 | f1score   | BinaryF1Score  | 0     \n",
      "2 | model     | ResNet         | 23.5 M\n",
      "3 | fuzzyloss | FuzzyLoss      | 0     \n",
      "---------------------------------------------\n",
      "4.1 K     Trainable params\n",
      "23.5 M    Non-trainable params\n",
      "23.5 M    Total params\n",
      "94.049    Total estimated model params size (MB)\n",
      "C:\\Users\\laraquij\\Anaconda3\\envs\\tfg_dani\\lib\\site-packages\\pytorch_lightning\\trainer\\connectors\\data_connector.py:229: PossibleUserWarning: The dataloader, train_dataloader, does not have many workers which may be a bottleneck. Consider increasing the value of the `num_workers` argument` (try 8 which is the number of cpus on this machine) in the `DataLoader` init to improve performance.\n",
      "  category=PossibleUserWarning,\n"
     ]
    },
    {
     "name": "stdout",
     "output_type": "stream",
     "text": [
      "Epoch 9: 100%|██████████| 158/158 [00:55<00:00,  2.87it/s, loss=0.0735, v_num=183]"
     ]
    },
    {
     "name": "stderr",
     "output_type": "stream",
     "text": [
      "`Trainer.fit` stopped: `max_epochs=10` reached.\n"
     ]
    },
    {
     "name": "stdout",
     "output_type": "stream",
     "text": [
      "Epoch 9: 100%|██████████| 158/158 [00:55<00:00,  2.84it/s, loss=0.0735, v_num=183]\n"
     ]
    },
    {
     "name": "stderr",
     "output_type": "stream",
     "text": [
      "\n",
      "  0%|          | 0/40 [00:00<?, ?it/s]\u001b[A\n",
      "  2%|▎         | 1/40 [00:01<00:42,  1.10s/it]\u001b[A\n",
      "  5%|▌         | 2/40 [00:02<00:41,  1.09s/it]\u001b[A\n",
      "  8%|▊         | 3/40 [00:03<00:39,  1.08s/it]\u001b[A\n",
      " 10%|█         | 4/40 [00:04<00:39,  1.09s/it]\u001b[A\n",
      " 12%|█▎        | 5/40 [00:05<00:38,  1.10s/it]\u001b[A\n",
      " 15%|█▌        | 6/40 [00:06<00:37,  1.11s/it]\u001b[A\n",
      " 18%|█▊        | 7/40 [00:07<00:36,  1.11s/it]\u001b[A\n",
      " 20%|██        | 8/40 [00:08<00:35,  1.10s/it]\u001b[A\n",
      " 22%|██▎       | 9/40 [00:09<00:34,  1.11s/it]\u001b[A\n",
      " 25%|██▌       | 10/40 [00:11<00:33,  1.11s/it]\u001b[A\n",
      " 28%|██▊       | 11/40 [00:12<00:32,  1.12s/it]\u001b[A\n",
      " 30%|███       | 12/40 [00:13<00:31,  1.14s/it]\u001b[A\n",
      " 32%|███▎      | 13/40 [00:14<00:31,  1.18s/it]\u001b[A\n",
      " 35%|███▌      | 14/40 [00:15<00:30,  1.18s/it]\u001b[A\n",
      " 38%|███▊      | 15/40 [00:16<00:29,  1.17s/it]\u001b[A\n",
      " 40%|████      | 16/40 [00:18<00:27,  1.14s/it]\u001b[A\n",
      " 42%|████▎     | 17/40 [00:19<00:25,  1.13s/it]\u001b[A\n",
      " 45%|████▌     | 18/40 [00:20<00:24,  1.13s/it]\u001b[A\n",
      " 48%|████▊     | 19/40 [00:21<00:23,  1.12s/it]\u001b[A\n",
      " 50%|█████     | 20/40 [00:22<00:22,  1.12s/it]\u001b[A\n",
      " 52%|█████▎    | 21/40 [00:23<00:21,  1.12s/it]\u001b[A\n",
      " 55%|█████▌    | 22/40 [00:24<00:20,  1.12s/it]\u001b[A\n",
      " 57%|█████▊    | 23/40 [00:25<00:18,  1.12s/it]\u001b[A\n",
      " 60%|██████    | 24/40 [00:26<00:17,  1.10s/it]\u001b[A\n",
      " 62%|██████▎   | 25/40 [00:27<00:16,  1.10s/it]\u001b[A\n",
      " 65%|██████▌   | 26/40 [00:29<00:15,  1.10s/it]\u001b[A\n",
      " 68%|██████▊   | 27/40 [00:30<00:14,  1.10s/it]\u001b[A\n",
      " 70%|███████   | 28/40 [00:31<00:13,  1.10s/it]\u001b[A\n",
      " 72%|███████▎  | 29/40 [00:32<00:12,  1.11s/it]\u001b[A\n",
      " 75%|███████▌  | 30/40 [00:33<00:11,  1.11s/it]\u001b[A\n",
      " 78%|███████▊  | 31/40 [00:34<00:09,  1.11s/it]\u001b[A\n",
      " 80%|████████  | 32/40 [00:35<00:08,  1.10s/it]\u001b[A\n",
      " 82%|████████▎ | 33/40 [00:36<00:07,  1.09s/it]\u001b[A\n",
      " 85%|████████▌ | 34/40 [00:37<00:06,  1.11s/it]\u001b[A\n",
      " 88%|████████▊ | 35/40 [00:39<00:05,  1.10s/it]\u001b[A\n",
      " 90%|█████████ | 36/40 [00:40<00:04,  1.09s/it]\u001b[A\n",
      " 92%|█████████▎| 37/40 [00:41<00:03,  1.10s/it]\u001b[A\n",
      " 95%|█████████▌| 38/40 [00:42<00:02,  1.10s/it]\u001b[A\n",
      " 98%|█████████▊| 39/40 [00:43<00:01,  1.11s/it]\u001b[A\n",
      "100%|██████████| 40/40 [00:43<00:00,  1.09s/it]\u001b[A\n",
      "C:\\Users\\laraquij\\Anaconda3\\envs\\tfg_dani\\lib\\site-packages\\torchvision\\models\\_utils.py:209: UserWarning: The parameter 'pretrained' is deprecated since 0.13 and may be removed in the future, please use 'weights' instead.\n",
      "  f\"The parameter '{pretrained_param}' is deprecated since 0.13 and may be removed in the future, \"\n",
      "C:\\Users\\laraquij\\Anaconda3\\envs\\tfg_dani\\lib\\site-packages\\torchvision\\models\\_utils.py:223: UserWarning: Arguments other than a weight enum or `None` for 'weights' are deprecated since 0.13 and may be removed in the future. The current behavior is equivalent to passing `weights=ResNet50_Weights.IMAGENET1K_V1`. You can also use `weights=ResNet50_Weights.DEFAULT` to get the most up-to-date weights.\n",
      "  warnings.warn(msg)\n"
     ]
    },
    {
     "name": "stdout",
     "output_type": "stream",
     "text": [
      "------------fold nº 2----------------------\n"
     ]
    },
    {
     "name": "stderr",
     "output_type": "stream",
     "text": [
      "GPU available: True (cuda), used: True\n",
      "TPU available: False, using: 0 TPU cores\n",
      "IPU available: False, using: 0 IPUs\n",
      "HPU available: False, using: 0 HPUs\n",
      "LOCAL_RANK: 0 - CUDA_VISIBLE_DEVICES: [0]\n",
      "\n",
      "  | Name      | Type           | Params\n",
      "---------------------------------------------\n",
      "0 | accuracy  | BinaryAccuracy | 0     \n",
      "1 | f1score   | BinaryF1Score  | 0     \n",
      "2 | model     | ResNet         | 23.5 M\n",
      "3 | fuzzyloss | FuzzyLoss      | 0     \n",
      "---------------------------------------------\n",
      "4.1 K     Trainable params\n",
      "23.5 M    Non-trainable params\n",
      "23.5 M    Total params\n",
      "94.049    Total estimated model params size (MB)\n",
      "C:\\Users\\laraquij\\Anaconda3\\envs\\tfg_dani\\lib\\site-packages\\pytorch_lightning\\trainer\\connectors\\data_connector.py:229: PossibleUserWarning: The dataloader, train_dataloader, does not have many workers which may be a bottleneck. Consider increasing the value of the `num_workers` argument` (try 8 which is the number of cpus on this machine) in the `DataLoader` init to improve performance.\n",
      "  category=PossibleUserWarning,\n"
     ]
    },
    {
     "name": "stdout",
     "output_type": "stream",
     "text": [
      "Epoch 9: 100%|██████████| 158/158 [00:55<00:00,  2.86it/s, loss=0.23, v_num=184]  "
     ]
    },
    {
     "name": "stderr",
     "output_type": "stream",
     "text": [
      "`Trainer.fit` stopped: `max_epochs=10` reached.\n"
     ]
    },
    {
     "name": "stdout",
     "output_type": "stream",
     "text": [
      "Epoch 9: 100%|██████████| 158/158 [00:55<00:00,  2.83it/s, loss=0.23, v_num=184]\n"
     ]
    },
    {
     "name": "stderr",
     "output_type": "stream",
     "text": [
      "\n",
      "  0%|          | 0/40 [00:00<?, ?it/s]\u001b[A\n",
      "  2%|▎         | 1/40 [00:01<00:43,  1.12s/it]\u001b[A\n",
      "  5%|▌         | 2/40 [00:02<00:41,  1.09s/it]\u001b[A\n",
      "  8%|▊         | 3/40 [00:03<00:40,  1.10s/it]\u001b[A\n",
      " 10%|█         | 4/40 [00:04<00:39,  1.11s/it]\u001b[A\n",
      " 12%|█▎        | 5/40 [00:05<00:39,  1.12s/it]\u001b[A\n",
      " 15%|█▌        | 6/40 [00:06<00:37,  1.11s/it]\u001b[A\n",
      " 18%|█▊        | 7/40 [00:07<00:36,  1.11s/it]\u001b[A\n",
      " 20%|██        | 8/40 [00:08<00:34,  1.09s/it]\u001b[A\n",
      " 22%|██▎       | 9/40 [00:09<00:33,  1.08s/it]\u001b[A\n",
      " 25%|██▌       | 10/40 [00:11<00:32,  1.10s/it]\u001b[A\n",
      " 28%|██▊       | 11/40 [00:12<00:32,  1.12s/it]\u001b[A\n",
      " 30%|███       | 12/40 [00:13<00:30,  1.09s/it]\u001b[A\n",
      " 32%|███▎      | 13/40 [00:14<00:29,  1.09s/it]\u001b[A\n",
      " 35%|███▌      | 14/40 [00:15<00:28,  1.10s/it]\u001b[A\n",
      " 38%|███▊      | 15/40 [00:16<00:27,  1.10s/it]\u001b[A\n",
      " 40%|████      | 16/40 [00:17<00:26,  1.10s/it]\u001b[A\n",
      " 42%|████▎     | 17/40 [00:18<00:25,  1.10s/it]\u001b[A\n",
      " 45%|████▌     | 18/40 [00:19<00:23,  1.09s/it]\u001b[A\n",
      " 48%|████▊     | 19/40 [00:20<00:23,  1.11s/it]\u001b[A\n",
      " 50%|█████     | 20/40 [00:22<00:22,  1.11s/it]\u001b[A\n",
      " 52%|█████▎    | 21/40 [00:23<00:21,  1.11s/it]\u001b[A\n",
      " 55%|█████▌    | 22/40 [00:24<00:20,  1.11s/it]\u001b[A\n",
      " 57%|█████▊    | 23/40 [00:25<00:18,  1.11s/it]\u001b[A\n",
      " 60%|██████    | 24/40 [00:26<00:17,  1.11s/it]\u001b[A\n",
      " 62%|██████▎   | 25/40 [00:27<00:16,  1.11s/it]\u001b[A\n",
      " 65%|██████▌   | 26/40 [00:28<00:15,  1.08s/it]\u001b[A\n",
      " 68%|██████▊   | 27/40 [00:29<00:14,  1.09s/it]\u001b[A\n",
      " 70%|███████   | 28/40 [00:30<00:13,  1.10s/it]\u001b[A\n",
      " 72%|███████▎  | 29/40 [00:31<00:11,  1.09s/it]\u001b[A\n",
      " 75%|███████▌  | 30/40 [00:33<00:11,  1.11s/it]\u001b[A\n",
      " 78%|███████▊  | 31/40 [00:34<00:09,  1.11s/it]\u001b[A\n",
      " 80%|████████  | 32/40 [00:35<00:08,  1.10s/it]\u001b[A\n",
      " 82%|████████▎ | 33/40 [00:36<00:07,  1.10s/it]\u001b[A\n",
      " 85%|████████▌ | 34/40 [00:37<00:06,  1.09s/it]\u001b[A\n",
      " 88%|████████▊ | 35/40 [00:38<00:05,  1.10s/it]\u001b[A\n",
      " 90%|█████████ | 36/40 [00:39<00:04,  1.09s/it]\u001b[A\n",
      " 92%|█████████▎| 37/40 [00:40<00:03,  1.09s/it]\u001b[A\n",
      " 95%|█████████▌| 38/40 [00:41<00:02,  1.10s/it]\u001b[A\n",
      " 98%|█████████▊| 39/40 [00:42<00:01,  1.09s/it]\u001b[A\n",
      "100%|██████████| 40/40 [00:43<00:00,  1.08s/it]\u001b[A\n",
      "C:\\Users\\laraquij\\Anaconda3\\envs\\tfg_dani\\lib\\site-packages\\torchvision\\models\\_utils.py:209: UserWarning: The parameter 'pretrained' is deprecated since 0.13 and may be removed in the future, please use 'weights' instead.\n",
      "  f\"The parameter '{pretrained_param}' is deprecated since 0.13 and may be removed in the future, \"\n",
      "C:\\Users\\laraquij\\Anaconda3\\envs\\tfg_dani\\lib\\site-packages\\torchvision\\models\\_utils.py:223: UserWarning: Arguments other than a weight enum or `None` for 'weights' are deprecated since 0.13 and may be removed in the future. The current behavior is equivalent to passing `weights=ResNet50_Weights.IMAGENET1K_V1`. You can also use `weights=ResNet50_Weights.DEFAULT` to get the most up-to-date weights.\n",
      "  warnings.warn(msg)\n"
     ]
    },
    {
     "name": "stdout",
     "output_type": "stream",
     "text": [
      "------------fold nº 3----------------------\n"
     ]
    },
    {
     "name": "stderr",
     "output_type": "stream",
     "text": [
      "GPU available: True (cuda), used: True\n",
      "TPU available: False, using: 0 TPU cores\n",
      "IPU available: False, using: 0 IPUs\n",
      "HPU available: False, using: 0 HPUs\n",
      "LOCAL_RANK: 0 - CUDA_VISIBLE_DEVICES: [0]\n",
      "\n",
      "  | Name      | Type           | Params\n",
      "---------------------------------------------\n",
      "0 | accuracy  | BinaryAccuracy | 0     \n",
      "1 | f1score   | BinaryF1Score  | 0     \n",
      "2 | model     | ResNet         | 23.5 M\n",
      "3 | fuzzyloss | FuzzyLoss      | 0     \n",
      "---------------------------------------------\n",
      "4.1 K     Trainable params\n",
      "23.5 M    Non-trainable params\n",
      "23.5 M    Total params\n",
      "94.049    Total estimated model params size (MB)\n",
      "C:\\Users\\laraquij\\Anaconda3\\envs\\tfg_dani\\lib\\site-packages\\pytorch_lightning\\trainer\\connectors\\data_connector.py:229: PossibleUserWarning: The dataloader, train_dataloader, does not have many workers which may be a bottleneck. Consider increasing the value of the `num_workers` argument` (try 8 which is the number of cpus on this machine) in the `DataLoader` init to improve performance.\n",
      "  category=PossibleUserWarning,\n"
     ]
    },
    {
     "name": "stdout",
     "output_type": "stream",
     "text": [
      "Epoch 9: 100%|██████████| 158/158 [00:54<00:00,  2.87it/s, loss=0.071, v_num=185] "
     ]
    },
    {
     "name": "stderr",
     "output_type": "stream",
     "text": [
      "`Trainer.fit` stopped: `max_epochs=10` reached.\n"
     ]
    },
    {
     "name": "stdout",
     "output_type": "stream",
     "text": [
      "Epoch 9: 100%|██████████| 158/158 [00:55<00:00,  2.85it/s, loss=0.071, v_num=185]\n"
     ]
    },
    {
     "name": "stderr",
     "output_type": "stream",
     "text": [
      "\n",
      "  0%|          | 0/40 [00:00<?, ?it/s]\u001b[A\n",
      "  2%|▎         | 1/40 [00:01<00:42,  1.10s/it]\u001b[A\n",
      "  5%|▌         | 2/40 [00:02<00:41,  1.10s/it]\u001b[A\n",
      "  8%|▊         | 3/40 [00:03<00:41,  1.11s/it]\u001b[A\n",
      " 10%|█         | 4/40 [00:04<00:39,  1.10s/it]\u001b[A\n",
      " 12%|█▎        | 5/40 [00:05<00:39,  1.12s/it]\u001b[A\n",
      " 15%|█▌        | 6/40 [00:06<00:38,  1.13s/it]\u001b[A\n",
      " 18%|█▊        | 7/40 [00:07<00:37,  1.13s/it]\u001b[A\n",
      " 20%|██        | 8/40 [00:08<00:35,  1.11s/it]\u001b[A\n",
      " 22%|██▎       | 9/40 [00:09<00:34,  1.11s/it]\u001b[A\n",
      " 25%|██▌       | 10/40 [00:11<00:32,  1.10s/it]\u001b[A\n",
      " 28%|██▊       | 11/40 [00:12<00:31,  1.10s/it]\u001b[A\n",
      " 30%|███       | 12/40 [00:13<00:30,  1.08s/it]\u001b[A\n",
      " 32%|███▎      | 13/40 [00:14<00:29,  1.10s/it]\u001b[A\n",
      " 35%|███▌      | 14/40 [00:15<00:28,  1.11s/it]\u001b[A\n",
      " 38%|███▊      | 15/40 [00:16<00:27,  1.09s/it]\u001b[A\n",
      " 40%|████      | 16/40 [00:17<00:26,  1.09s/it]\u001b[A\n",
      " 42%|████▎     | 17/40 [00:18<00:25,  1.11s/it]\u001b[A\n",
      " 45%|████▌     | 18/40 [00:19<00:24,  1.09s/it]\u001b[A\n",
      " 48%|████▊     | 19/40 [00:20<00:22,  1.09s/it]\u001b[A\n",
      " 50%|█████     | 20/40 [00:22<00:22,  1.11s/it]\u001b[A\n",
      " 52%|█████▎    | 21/40 [00:23<00:21,  1.11s/it]\u001b[A\n",
      " 55%|█████▌    | 22/40 [00:24<00:19,  1.11s/it]\u001b[A\n",
      " 57%|█████▊    | 23/40 [00:25<00:18,  1.11s/it]\u001b[A\n",
      " 60%|██████    | 24/40 [00:26<00:17,  1.11s/it]\u001b[A\n",
      " 62%|██████▎   | 25/40 [00:27<00:16,  1.11s/it]\u001b[A\n",
      " 65%|██████▌   | 26/40 [00:28<00:15,  1.09s/it]\u001b[A\n",
      " 68%|██████▊   | 27/40 [00:29<00:14,  1.10s/it]\u001b[A\n",
      " 70%|███████   | 28/40 [00:30<00:13,  1.11s/it]\u001b[A\n",
      " 72%|███████▎  | 29/40 [00:32<00:12,  1.11s/it]\u001b[A\n",
      " 75%|███████▌  | 30/40 [00:33<00:11,  1.10s/it]\u001b[A\n",
      " 78%|███████▊  | 31/40 [00:34<00:09,  1.10s/it]\u001b[A\n",
      " 80%|████████  | 32/40 [00:35<00:08,  1.09s/it]\u001b[A\n",
      " 82%|████████▎ | 33/40 [00:36<00:07,  1.09s/it]\u001b[A\n",
      " 85%|████████▌ | 34/40 [00:37<00:06,  1.08s/it]\u001b[A\n",
      " 88%|████████▊ | 35/40 [00:38<00:05,  1.10s/it]\u001b[A\n",
      " 90%|█████████ | 36/40 [00:39<00:04,  1.11s/it]\u001b[A\n",
      " 92%|█████████▎| 37/40 [00:40<00:03,  1.12s/it]\u001b[A\n",
      " 95%|█████████▌| 38/40 [00:41<00:02,  1.11s/it]\u001b[A\n",
      " 98%|█████████▊| 39/40 [00:43<00:01,  1.10s/it]\u001b[A\n",
      "100%|██████████| 40/40 [00:43<00:00,  1.08s/it]\u001b[A\n",
      "C:\\Users\\laraquij\\Anaconda3\\envs\\tfg_dani\\lib\\site-packages\\torchvision\\models\\_utils.py:209: UserWarning: The parameter 'pretrained' is deprecated since 0.13 and may be removed in the future, please use 'weights' instead.\n",
      "  f\"The parameter '{pretrained_param}' is deprecated since 0.13 and may be removed in the future, \"\n",
      "C:\\Users\\laraquij\\Anaconda3\\envs\\tfg_dani\\lib\\site-packages\\torchvision\\models\\_utils.py:223: UserWarning: Arguments other than a weight enum or `None` for 'weights' are deprecated since 0.13 and may be removed in the future. The current behavior is equivalent to passing `weights=ResNet50_Weights.IMAGENET1K_V1`. You can also use `weights=ResNet50_Weights.DEFAULT` to get the most up-to-date weights.\n",
      "  warnings.warn(msg)\n"
     ]
    },
    {
     "name": "stdout",
     "output_type": "stream",
     "text": [
      "------------fold nº 4----------------------\n"
     ]
    },
    {
     "name": "stderr",
     "output_type": "stream",
     "text": [
      "GPU available: True (cuda), used: True\n",
      "TPU available: False, using: 0 TPU cores\n",
      "IPU available: False, using: 0 IPUs\n",
      "HPU available: False, using: 0 HPUs\n",
      "LOCAL_RANK: 0 - CUDA_VISIBLE_DEVICES: [0]\n",
      "\n",
      "  | Name      | Type           | Params\n",
      "---------------------------------------------\n",
      "0 | accuracy  | BinaryAccuracy | 0     \n",
      "1 | f1score   | BinaryF1Score  | 0     \n",
      "2 | model     | ResNet         | 23.5 M\n",
      "3 | fuzzyloss | FuzzyLoss      | 0     \n",
      "---------------------------------------------\n",
      "4.1 K     Trainable params\n",
      "23.5 M    Non-trainable params\n",
      "23.5 M    Total params\n",
      "94.049    Total estimated model params size (MB)\n",
      "C:\\Users\\laraquij\\Anaconda3\\envs\\tfg_dani\\lib\\site-packages\\pytorch_lightning\\trainer\\connectors\\data_connector.py:229: PossibleUserWarning: The dataloader, train_dataloader, does not have many workers which may be a bottleneck. Consider increasing the value of the `num_workers` argument` (try 8 which is the number of cpus on this machine) in the `DataLoader` init to improve performance.\n",
      "  category=PossibleUserWarning,\n"
     ]
    },
    {
     "name": "stdout",
     "output_type": "stream",
     "text": [
      "Epoch 9: 100%|██████████| 158/158 [00:55<00:00,  2.86it/s, loss=0.0528, v_num=186]"
     ]
    },
    {
     "name": "stderr",
     "output_type": "stream",
     "text": [
      "`Trainer.fit` stopped: `max_epochs=10` reached.\n"
     ]
    },
    {
     "name": "stdout",
     "output_type": "stream",
     "text": [
      "Epoch 9: 100%|██████████| 158/158 [00:55<00:00,  2.84it/s, loss=0.0528, v_num=186]\n"
     ]
    },
    {
     "name": "stderr",
     "output_type": "stream",
     "text": [
      "\n",
      "  0%|          | 0/40 [00:00<?, ?it/s]\u001b[A\n",
      "  2%|▎         | 1/40 [00:01<00:42,  1.08s/it]\u001b[A\n",
      "  5%|▌         | 2/40 [00:02<00:41,  1.08s/it]\u001b[A\n",
      "  8%|▊         | 3/40 [00:03<00:40,  1.11s/it]\u001b[A\n",
      " 10%|█         | 4/40 [00:04<00:40,  1.12s/it]\u001b[A\n",
      " 12%|█▎        | 5/40 [00:05<00:38,  1.10s/it]\u001b[A\n",
      " 15%|█▌        | 6/40 [00:06<00:38,  1.12s/it]\u001b[A\n",
      " 18%|█▊        | 7/40 [00:07<00:36,  1.12s/it]\u001b[A\n",
      " 20%|██        | 8/40 [00:08<00:34,  1.09s/it]\u001b[A\n",
      " 22%|██▎       | 9/40 [00:09<00:34,  1.10s/it]\u001b[A\n",
      " 25%|██▌       | 10/40 [00:11<00:33,  1.11s/it]\u001b[A\n",
      " 28%|██▊       | 11/40 [00:12<00:32,  1.11s/it]\u001b[A\n",
      " 30%|███       | 12/40 [00:13<00:30,  1.11s/it]\u001b[A\n",
      " 32%|███▎      | 13/40 [00:14<00:29,  1.09s/it]\u001b[A\n",
      " 35%|███▌      | 14/40 [00:15<00:28,  1.11s/it]\u001b[A\n",
      " 38%|███▊      | 15/40 [00:16<00:27,  1.12s/it]\u001b[A\n",
      " 40%|████      | 16/40 [00:17<00:26,  1.12s/it]\u001b[A\n",
      " 42%|████▎     | 17/40 [00:18<00:25,  1.12s/it]\u001b[A\n",
      " 45%|████▌     | 18/40 [00:19<00:24,  1.10s/it]\u001b[A\n",
      " 48%|████▊     | 19/40 [00:21<00:23,  1.11s/it]\u001b[A\n",
      " 50%|█████     | 20/40 [00:22<00:21,  1.09s/it]\u001b[A\n",
      " 52%|█████▎    | 21/40 [00:23<00:20,  1.09s/it]\u001b[A\n",
      " 55%|█████▌    | 22/40 [00:24<00:19,  1.11s/it]\u001b[A\n",
      " 57%|█████▊    | 23/40 [00:25<00:18,  1.09s/it]\u001b[A\n",
      " 60%|██████    | 24/40 [00:26<00:17,  1.10s/it]\u001b[A\n",
      " 62%|██████▎   | 25/40 [00:27<00:16,  1.11s/it]\u001b[A\n",
      " 65%|██████▌   | 26/40 [00:28<00:15,  1.09s/it]\u001b[A\n",
      " 68%|██████▊   | 27/40 [00:29<00:14,  1.10s/it]\u001b[A\n",
      " 70%|███████   | 28/40 [00:30<00:13,  1.09s/it]\u001b[A\n",
      " 72%|███████▎  | 29/40 [00:32<00:12,  1.11s/it]\u001b[A\n",
      " 75%|███████▌  | 30/40 [00:33<00:11,  1.12s/it]\u001b[A\n",
      " 78%|███████▊  | 31/40 [00:34<00:09,  1.11s/it]\u001b[A\n",
      " 80%|████████  | 32/40 [00:35<00:08,  1.09s/it]\u001b[A\n",
      " 82%|████████▎ | 33/40 [00:36<00:07,  1.13s/it]\u001b[A\n",
      " 85%|████████▌ | 34/40 [00:37<00:06,  1.15s/it]\u001b[A\n",
      " 88%|████████▊ | 35/40 [00:38<00:05,  1.17s/it]\u001b[A\n",
      " 90%|█████████ | 36/40 [00:40<00:04,  1.15s/it]\u001b[A\n",
      " 92%|█████████▎| 37/40 [00:41<00:03,  1.12s/it]\u001b[A\n",
      " 95%|█████████▌| 38/40 [00:42<00:02,  1.10s/it]\u001b[A\n",
      " 98%|█████████▊| 39/40 [00:43<00:01,  1.09s/it]\u001b[A\n",
      "100%|██████████| 40/40 [00:43<00:00,  1.09s/it]\u001b[A\n",
      "C:\\Users\\laraquij\\Anaconda3\\envs\\tfg_dani\\lib\\site-packages\\torchvision\\models\\_utils.py:209: UserWarning: The parameter 'pretrained' is deprecated since 0.13 and may be removed in the future, please use 'weights' instead.\n",
      "  f\"The parameter '{pretrained_param}' is deprecated since 0.13 and may be removed in the future, \"\n",
      "C:\\Users\\laraquij\\Anaconda3\\envs\\tfg_dani\\lib\\site-packages\\torchvision\\models\\_utils.py:223: UserWarning: Arguments other than a weight enum or `None` for 'weights' are deprecated since 0.13 and may be removed in the future. The current behavior is equivalent to passing `weights=ResNet50_Weights.IMAGENET1K_V1`. You can also use `weights=ResNet50_Weights.DEFAULT` to get the most up-to-date weights.\n",
      "  warnings.warn(msg)\n"
     ]
    },
    {
     "name": "stdout",
     "output_type": "stream",
     "text": [
      "------------fold nº 0----------------------\n"
     ]
    },
    {
     "name": "stderr",
     "output_type": "stream",
     "text": [
      "GPU available: True (cuda), used: True\n",
      "TPU available: False, using: 0 TPU cores\n",
      "IPU available: False, using: 0 IPUs\n",
      "HPU available: False, using: 0 HPUs\n",
      "LOCAL_RANK: 0 - CUDA_VISIBLE_DEVICES: [0]\n",
      "\n",
      "  | Name      | Type           | Params\n",
      "---------------------------------------------\n",
      "0 | accuracy  | BinaryAccuracy | 0     \n",
      "1 | f1score   | BinaryF1Score  | 0     \n",
      "2 | model     | ResNet         | 23.5 M\n",
      "3 | fuzzyloss | FuzzyLoss      | 0     \n",
      "---------------------------------------------\n",
      "4.1 K     Trainable params\n",
      "23.5 M    Non-trainable params\n",
      "23.5 M    Total params\n",
      "94.049    Total estimated model params size (MB)\n",
      "C:\\Users\\laraquij\\Anaconda3\\envs\\tfg_dani\\lib\\site-packages\\pytorch_lightning\\trainer\\connectors\\data_connector.py:229: PossibleUserWarning: The dataloader, train_dataloader, does not have many workers which may be a bottleneck. Consider increasing the value of the `num_workers` argument` (try 8 which is the number of cpus on this machine) in the `DataLoader` init to improve performance.\n",
      "  category=PossibleUserWarning,\n"
     ]
    },
    {
     "name": "stdout",
     "output_type": "stream",
     "text": [
      "Epoch 9: 100%|██████████| 158/158 [00:55<00:00,  2.86it/s, loss=0.0479, v_num=187]"
     ]
    },
    {
     "name": "stderr",
     "output_type": "stream",
     "text": [
      "`Trainer.fit` stopped: `max_epochs=10` reached.\n"
     ]
    },
    {
     "name": "stdout",
     "output_type": "stream",
     "text": [
      "Epoch 9: 100%|██████████| 158/158 [00:55<00:00,  2.83it/s, loss=0.0479, v_num=187]\n"
     ]
    },
    {
     "name": "stderr",
     "output_type": "stream",
     "text": [
      "\n",
      "  0%|          | 0/40 [00:00<?, ?it/s]\u001b[A\n",
      "  2%|▎         | 1/40 [00:01<00:45,  1.17s/it]\u001b[A\n",
      "  5%|▌         | 2/40 [00:02<00:44,  1.17s/it]\u001b[A\n",
      "  8%|▊         | 3/40 [00:03<00:43,  1.19s/it]\u001b[A\n",
      " 10%|█         | 4/40 [00:04<00:42,  1.18s/it]\u001b[A\n",
      " 12%|█▎        | 5/40 [00:05<00:40,  1.16s/it]\u001b[A\n",
      " 15%|█▌        | 6/40 [00:06<00:38,  1.15s/it]\u001b[A\n",
      " 18%|█▊        | 7/40 [00:08<00:38,  1.15s/it]\u001b[A\n",
      " 20%|██        | 8/40 [00:09<00:36,  1.15s/it]\u001b[A\n",
      " 22%|██▎       | 9/40 [00:10<00:35,  1.14s/it]\u001b[A\n",
      " 25%|██▌       | 10/40 [00:11<00:34,  1.14s/it]\u001b[A\n",
      " 28%|██▊       | 11/40 [00:12<00:33,  1.14s/it]\u001b[A\n",
      " 30%|███       | 12/40 [00:13<00:32,  1.16s/it]\u001b[A\n",
      " 32%|███▎      | 13/40 [00:14<00:30,  1.14s/it]\u001b[A\n",
      " 35%|███▌      | 14/40 [00:16<00:29,  1.15s/it]\u001b[A\n",
      " 38%|███▊      | 15/40 [00:17<00:28,  1.13s/it]\u001b[A\n",
      " 40%|████      | 16/40 [00:18<00:27,  1.13s/it]\u001b[A\n",
      " 42%|████▎     | 17/40 [00:19<00:25,  1.12s/it]\u001b[A\n",
      " 45%|████▌     | 18/40 [00:20<00:24,  1.11s/it]\u001b[A\n",
      " 48%|████▊     | 19/40 [00:21<00:23,  1.10s/it]\u001b[A\n",
      " 50%|█████     | 20/40 [00:22<00:22,  1.12s/it]\u001b[A\n",
      " 52%|█████▎    | 21/40 [00:23<00:21,  1.13s/it]\u001b[A\n",
      " 55%|█████▌    | 22/40 [00:25<00:20,  1.14s/it]\u001b[A\n",
      " 57%|█████▊    | 23/40 [00:26<00:19,  1.14s/it]\u001b[A\n",
      " 60%|██████    | 24/40 [00:27<00:18,  1.14s/it]\u001b[A\n",
      " 62%|██████▎   | 25/40 [00:28<00:16,  1.12s/it]\u001b[A\n",
      " 65%|██████▌   | 26/40 [00:29<00:15,  1.14s/it]\u001b[A\n",
      " 68%|██████▊   | 27/40 [00:30<00:14,  1.12s/it]\u001b[A\n",
      " 70%|███████   | 28/40 [00:31<00:13,  1.13s/it]\u001b[A\n",
      " 72%|███████▎  | 29/40 [00:32<00:12,  1.12s/it]\u001b[A\n",
      " 75%|███████▌  | 30/40 [00:34<00:11,  1.13s/it]\u001b[A\n",
      " 78%|███████▊  | 31/40 [00:35<00:10,  1.15s/it]\u001b[A\n",
      " 80%|████████  | 32/40 [00:36<00:09,  1.15s/it]\u001b[A\n",
      " 82%|████████▎ | 33/40 [00:37<00:08,  1.16s/it]\u001b[A\n",
      " 85%|████████▌ | 34/40 [00:38<00:06,  1.15s/it]\u001b[A\n",
      " 88%|████████▊ | 35/40 [00:39<00:05,  1.15s/it]\u001b[A\n",
      " 90%|█████████ | 36/40 [00:41<00:04,  1.14s/it]\u001b[A\n",
      " 92%|█████████▎| 37/40 [00:42<00:03,  1.14s/it]\u001b[A\n",
      " 95%|█████████▌| 38/40 [00:43<00:02,  1.14s/it]\u001b[A\n",
      " 98%|█████████▊| 39/40 [00:44<00:01,  1.12s/it]\u001b[A\n",
      "100%|██████████| 40/40 [00:44<00:00,  1.12s/it]\u001b[A\n",
      "C:\\Users\\laraquij\\Anaconda3\\envs\\tfg_dani\\lib\\site-packages\\torchvision\\models\\_utils.py:209: UserWarning: The parameter 'pretrained' is deprecated since 0.13 and may be removed in the future, please use 'weights' instead.\n",
      "  f\"The parameter '{pretrained_param}' is deprecated since 0.13 and may be removed in the future, \"\n",
      "C:\\Users\\laraquij\\Anaconda3\\envs\\tfg_dani\\lib\\site-packages\\torchvision\\models\\_utils.py:223: UserWarning: Arguments other than a weight enum or `None` for 'weights' are deprecated since 0.13 and may be removed in the future. The current behavior is equivalent to passing `weights=ResNet50_Weights.IMAGENET1K_V1`. You can also use `weights=ResNet50_Weights.DEFAULT` to get the most up-to-date weights.\n",
      "  warnings.warn(msg)\n"
     ]
    },
    {
     "name": "stdout",
     "output_type": "stream",
     "text": [
      "------------fold nº 1----------------------\n"
     ]
    },
    {
     "name": "stderr",
     "output_type": "stream",
     "text": [
      "GPU available: True (cuda), used: True\n",
      "TPU available: False, using: 0 TPU cores\n",
      "IPU available: False, using: 0 IPUs\n",
      "HPU available: False, using: 0 HPUs\n",
      "LOCAL_RANK: 0 - CUDA_VISIBLE_DEVICES: [0]\n",
      "\n",
      "  | Name      | Type           | Params\n",
      "---------------------------------------------\n",
      "0 | accuracy  | BinaryAccuracy | 0     \n",
      "1 | f1score   | BinaryF1Score  | 0     \n",
      "2 | model     | ResNet         | 23.5 M\n",
      "3 | fuzzyloss | FuzzyLoss      | 0     \n",
      "---------------------------------------------\n",
      "4.1 K     Trainable params\n",
      "23.5 M    Non-trainable params\n",
      "23.5 M    Total params\n",
      "94.049    Total estimated model params size (MB)\n",
      "C:\\Users\\laraquij\\Anaconda3\\envs\\tfg_dani\\lib\\site-packages\\pytorch_lightning\\trainer\\connectors\\data_connector.py:229: PossibleUserWarning: The dataloader, train_dataloader, does not have many workers which may be a bottleneck. Consider increasing the value of the `num_workers` argument` (try 8 which is the number of cpus on this machine) in the `DataLoader` init to improve performance.\n",
      "  category=PossibleUserWarning,\n"
     ]
    },
    {
     "name": "stdout",
     "output_type": "stream",
     "text": [
      "Epoch 9: 100%|██████████| 158/158 [00:55<00:00,  2.85it/s, loss=0.0436, v_num=188]"
     ]
    },
    {
     "name": "stderr",
     "output_type": "stream",
     "text": [
      "`Trainer.fit` stopped: `max_epochs=10` reached.\n"
     ]
    },
    {
     "name": "stdout",
     "output_type": "stream",
     "text": [
      "Epoch 9: 100%|██████████| 158/158 [00:55<00:00,  2.83it/s, loss=0.0436, v_num=188]\n"
     ]
    },
    {
     "name": "stderr",
     "output_type": "stream",
     "text": [
      "\n",
      "  0%|          | 0/40 [00:00<?, ?it/s]\u001b[A\n",
      "  2%|▎         | 1/40 [00:01<00:43,  1.12s/it]\u001b[A\n",
      "  5%|▌         | 2/40 [00:02<00:42,  1.11s/it]\u001b[A\n",
      "  8%|▊         | 3/40 [00:03<00:40,  1.09s/it]\u001b[A\n",
      " 10%|█         | 4/40 [00:04<00:40,  1.13s/it]\u001b[A\n",
      " 12%|█▎        | 5/40 [00:05<00:39,  1.12s/it]\u001b[A\n",
      " 15%|█▌        | 6/40 [00:06<00:38,  1.13s/it]\u001b[A\n",
      " 18%|█▊        | 7/40 [00:07<00:37,  1.13s/it]\u001b[A\n",
      " 20%|██        | 8/40 [00:08<00:35,  1.12s/it]\u001b[A\n",
      " 22%|██▎       | 9/40 [00:10<00:34,  1.11s/it]\u001b[A\n",
      " 25%|██▌       | 10/40 [00:11<00:33,  1.12s/it]\u001b[A\n",
      " 28%|██▊       | 11/40 [00:12<00:32,  1.14s/it]\u001b[A\n",
      " 30%|███       | 12/40 [00:13<00:32,  1.15s/it]\u001b[A\n",
      " 32%|███▎      | 13/40 [00:14<00:30,  1.14s/it]\u001b[A\n",
      " 35%|███▌      | 14/40 [00:15<00:28,  1.11s/it]\u001b[A\n",
      " 38%|███▊      | 15/40 [00:16<00:27,  1.11s/it]\u001b[A\n",
      " 40%|████      | 16/40 [00:17<00:26,  1.11s/it]\u001b[A\n",
      " 42%|████▎     | 17/40 [00:19<00:26,  1.13s/it]\u001b[A\n",
      " 45%|████▌     | 18/40 [00:20<00:25,  1.15s/it]\u001b[A\n",
      " 48%|████▊     | 19/40 [00:21<00:23,  1.14s/it]\u001b[A\n",
      " 50%|█████     | 20/40 [00:22<00:22,  1.14s/it]\u001b[A\n",
      " 52%|█████▎    | 21/40 [00:23<00:21,  1.12s/it]\u001b[A\n",
      " 55%|█████▌    | 22/40 [00:24<00:19,  1.11s/it]\u001b[A\n",
      " 57%|█████▊    | 23/40 [00:25<00:18,  1.11s/it]\u001b[A\n",
      " 60%|██████    | 24/40 [00:26<00:17,  1.11s/it]\u001b[A\n",
      " 62%|██████▎   | 25/40 [00:28<00:16,  1.12s/it]\u001b[A\n",
      " 65%|██████▌   | 26/40 [00:29<00:15,  1.12s/it]\u001b[A\n",
      " 68%|██████▊   | 27/40 [00:30<00:14,  1.12s/it]\u001b[A\n",
      " 70%|███████   | 28/40 [00:31<00:13,  1.12s/it]\u001b[A\n",
      " 72%|███████▎  | 29/40 [00:32<00:12,  1.10s/it]\u001b[A\n",
      " 75%|███████▌  | 30/40 [00:33<00:10,  1.10s/it]\u001b[A\n",
      " 78%|███████▊  | 31/40 [00:34<00:09,  1.10s/it]\u001b[A\n",
      " 80%|████████  | 32/40 [00:35<00:08,  1.11s/it]\u001b[A\n",
      " 82%|████████▎ | 33/40 [00:36<00:07,  1.10s/it]\u001b[A\n",
      " 85%|████████▌ | 34/40 [00:38<00:06,  1.10s/it]\u001b[A\n",
      " 88%|████████▊ | 35/40 [00:39<00:05,  1.11s/it]\u001b[A\n",
      " 90%|█████████ | 36/40 [00:40<00:04,  1.13s/it]\u001b[A\n",
      " 92%|█████████▎| 37/40 [00:41<00:03,  1.12s/it]\u001b[A\n",
      " 95%|█████████▌| 38/40 [00:42<00:02,  1.12s/it]\u001b[A\n",
      " 98%|█████████▊| 39/40 [00:43<00:01,  1.11s/it]\u001b[A\n",
      "100%|██████████| 40/40 [00:43<00:00,  1.10s/it]\u001b[A\n",
      "C:\\Users\\laraquij\\Anaconda3\\envs\\tfg_dani\\lib\\site-packages\\torchvision\\models\\_utils.py:209: UserWarning: The parameter 'pretrained' is deprecated since 0.13 and may be removed in the future, please use 'weights' instead.\n",
      "  f\"The parameter '{pretrained_param}' is deprecated since 0.13 and may be removed in the future, \"\n",
      "C:\\Users\\laraquij\\Anaconda3\\envs\\tfg_dani\\lib\\site-packages\\torchvision\\models\\_utils.py:223: UserWarning: Arguments other than a weight enum or `None` for 'weights' are deprecated since 0.13 and may be removed in the future. The current behavior is equivalent to passing `weights=ResNet50_Weights.IMAGENET1K_V1`. You can also use `weights=ResNet50_Weights.DEFAULT` to get the most up-to-date weights.\n",
      "  warnings.warn(msg)\n"
     ]
    },
    {
     "name": "stdout",
     "output_type": "stream",
     "text": [
      "------------fold nº 2----------------------\n"
     ]
    },
    {
     "name": "stderr",
     "output_type": "stream",
     "text": [
      "GPU available: True (cuda), used: True\n",
      "TPU available: False, using: 0 TPU cores\n",
      "IPU available: False, using: 0 IPUs\n",
      "HPU available: False, using: 0 HPUs\n",
      "LOCAL_RANK: 0 - CUDA_VISIBLE_DEVICES: [0]\n",
      "\n",
      "  | Name      | Type           | Params\n",
      "---------------------------------------------\n",
      "0 | accuracy  | BinaryAccuracy | 0     \n",
      "1 | f1score   | BinaryF1Score  | 0     \n",
      "2 | model     | ResNet         | 23.5 M\n",
      "3 | fuzzyloss | FuzzyLoss      | 0     \n",
      "---------------------------------------------\n",
      "4.1 K     Trainable params\n",
      "23.5 M    Non-trainable params\n",
      "23.5 M    Total params\n",
      "94.049    Total estimated model params size (MB)\n",
      "C:\\Users\\laraquij\\Anaconda3\\envs\\tfg_dani\\lib\\site-packages\\pytorch_lightning\\trainer\\connectors\\data_connector.py:229: PossibleUserWarning: The dataloader, train_dataloader, does not have many workers which may be a bottleneck. Consider increasing the value of the `num_workers` argument` (try 8 which is the number of cpus on this machine) in the `DataLoader` init to improve performance.\n",
      "  category=PossibleUserWarning,\n"
     ]
    },
    {
     "name": "stdout",
     "output_type": "stream",
     "text": [
      "Epoch 9: 100%|██████████| 158/158 [00:55<00:00,  2.86it/s, loss=0.0496, v_num=189]"
     ]
    },
    {
     "name": "stderr",
     "output_type": "stream",
     "text": [
      "`Trainer.fit` stopped: `max_epochs=10` reached.\n"
     ]
    },
    {
     "name": "stdout",
     "output_type": "stream",
     "text": [
      "Epoch 9: 100%|██████████| 158/158 [00:55<00:00,  2.83it/s, loss=0.0496, v_num=189]\n"
     ]
    },
    {
     "name": "stderr",
     "output_type": "stream",
     "text": [
      "\n",
      "  0%|          | 0/40 [00:00<?, ?it/s]\u001b[A\n",
      "  2%|▎         | 1/40 [00:01<00:43,  1.11s/it]\u001b[A\n",
      "  5%|▌         | 2/40 [00:02<00:41,  1.09s/it]\u001b[A\n",
      "  8%|▊         | 3/40 [00:03<00:40,  1.09s/it]\u001b[A\n",
      " 10%|█         | 4/40 [00:04<00:39,  1.10s/it]\u001b[A\n",
      " 12%|█▎        | 5/40 [00:05<00:39,  1.12s/it]\u001b[A\n",
      " 15%|█▌        | 6/40 [00:06<00:37,  1.11s/it]\u001b[A\n",
      " 18%|█▊        | 7/40 [00:07<00:36,  1.12s/it]\u001b[A\n",
      " 20%|██        | 8/40 [00:08<00:35,  1.12s/it]\u001b[A\n",
      " 22%|██▎       | 9/40 [00:10<00:34,  1.12s/it]\u001b[A\n",
      " 25%|██▌       | 10/40 [00:11<00:33,  1.11s/it]\u001b[A\n",
      " 28%|██▊       | 11/40 [00:12<00:32,  1.12s/it]\u001b[A\n",
      " 30%|███       | 12/40 [00:13<00:32,  1.15s/it]\u001b[A\n",
      " 32%|███▎      | 13/40 [00:14<00:30,  1.14s/it]\u001b[A\n",
      " 35%|███▌      | 14/40 [00:15<00:29,  1.13s/it]\u001b[A\n",
      " 38%|███▊      | 15/40 [00:16<00:28,  1.14s/it]\u001b[A\n",
      " 40%|████      | 16/40 [00:17<00:26,  1.12s/it]\u001b[A\n",
      " 42%|████▎     | 17/40 [00:19<00:25,  1.12s/it]\u001b[A\n",
      " 45%|████▌     | 18/40 [00:20<00:24,  1.12s/it]\u001b[A\n",
      " 48%|████▊     | 19/40 [00:21<00:23,  1.12s/it]\u001b[A\n",
      " 50%|█████     | 20/40 [00:22<00:22,  1.11s/it]\u001b[A\n",
      " 52%|█████▎    | 21/40 [00:23<00:21,  1.12s/it]\u001b[A\n",
      " 55%|█████▌    | 22/40 [00:24<00:20,  1.12s/it]\u001b[A\n",
      " 57%|█████▊    | 23/40 [00:25<00:19,  1.13s/it]\u001b[A\n",
      " 60%|██████    | 24/40 [00:26<00:17,  1.12s/it]\u001b[A\n",
      " 62%|██████▎   | 25/40 [00:27<00:16,  1.11s/it]\u001b[A\n",
      " 65%|██████▌   | 26/40 [00:29<00:15,  1.11s/it]\u001b[A\n",
      " 68%|██████▊   | 27/40 [00:30<00:14,  1.12s/it]\u001b[A\n",
      " 70%|███████   | 28/40 [00:31<00:13,  1.12s/it]\u001b[A\n",
      " 72%|███████▎  | 29/40 [00:32<00:12,  1.12s/it]\u001b[A\n",
      " 75%|███████▌  | 30/40 [00:33<00:11,  1.11s/it]\u001b[A\n",
      " 78%|███████▊  | 31/40 [00:34<00:09,  1.11s/it]\u001b[A\n",
      " 80%|████████  | 32/40 [00:35<00:09,  1.14s/it]\u001b[A\n",
      " 82%|████████▎ | 33/40 [00:37<00:08,  1.14s/it]\u001b[A\n",
      " 85%|████████▌ | 34/40 [00:38<00:06,  1.13s/it]\u001b[A\n",
      " 88%|████████▊ | 35/40 [00:39<00:05,  1.12s/it]\u001b[A\n",
      " 90%|█████████ | 36/40 [00:40<00:04,  1.13s/it]\u001b[A\n",
      " 92%|█████████▎| 37/40 [00:41<00:03,  1.14s/it]\u001b[A\n",
      " 95%|█████████▌| 38/40 [00:42<00:02,  1.14s/it]\u001b[A\n",
      " 98%|█████████▊| 39/40 [00:43<00:01,  1.11s/it]\u001b[A\n",
      "100%|██████████| 40/40 [00:44<00:00,  1.10s/it]\u001b[A\n",
      "C:\\Users\\laraquij\\Anaconda3\\envs\\tfg_dani\\lib\\site-packages\\torchvision\\models\\_utils.py:209: UserWarning: The parameter 'pretrained' is deprecated since 0.13 and may be removed in the future, please use 'weights' instead.\n",
      "  f\"The parameter '{pretrained_param}' is deprecated since 0.13 and may be removed in the future, \"\n",
      "C:\\Users\\laraquij\\Anaconda3\\envs\\tfg_dani\\lib\\site-packages\\torchvision\\models\\_utils.py:223: UserWarning: Arguments other than a weight enum or `None` for 'weights' are deprecated since 0.13 and may be removed in the future. The current behavior is equivalent to passing `weights=ResNet50_Weights.IMAGENET1K_V1`. You can also use `weights=ResNet50_Weights.DEFAULT` to get the most up-to-date weights.\n",
      "  warnings.warn(msg)\n"
     ]
    },
    {
     "name": "stdout",
     "output_type": "stream",
     "text": [
      "------------fold nº 3----------------------\n"
     ]
    },
    {
     "name": "stderr",
     "output_type": "stream",
     "text": [
      "GPU available: True (cuda), used: True\n",
      "TPU available: False, using: 0 TPU cores\n",
      "IPU available: False, using: 0 IPUs\n",
      "HPU available: False, using: 0 HPUs\n",
      "LOCAL_RANK: 0 - CUDA_VISIBLE_DEVICES: [0]\n",
      "\n",
      "  | Name      | Type           | Params\n",
      "---------------------------------------------\n",
      "0 | accuracy  | BinaryAccuracy | 0     \n",
      "1 | f1score   | BinaryF1Score  | 0     \n",
      "2 | model     | ResNet         | 23.5 M\n",
      "3 | fuzzyloss | FuzzyLoss      | 0     \n",
      "---------------------------------------------\n",
      "4.1 K     Trainable params\n",
      "23.5 M    Non-trainable params\n",
      "23.5 M    Total params\n",
      "94.049    Total estimated model params size (MB)\n",
      "C:\\Users\\laraquij\\Anaconda3\\envs\\tfg_dani\\lib\\site-packages\\pytorch_lightning\\trainer\\connectors\\data_connector.py:229: PossibleUserWarning: The dataloader, train_dataloader, does not have many workers which may be a bottleneck. Consider increasing the value of the `num_workers` argument` (try 8 which is the number of cpus on this machine) in the `DataLoader` init to improve performance.\n",
      "  category=PossibleUserWarning,\n"
     ]
    },
    {
     "name": "stdout",
     "output_type": "stream",
     "text": [
      "Epoch 9: 100%|██████████| 158/158 [00:54<00:00,  2.87it/s, loss=0.0372, v_num=190]"
     ]
    },
    {
     "name": "stderr",
     "output_type": "stream",
     "text": [
      "`Trainer.fit` stopped: `max_epochs=10` reached.\n"
     ]
    },
    {
     "name": "stdout",
     "output_type": "stream",
     "text": [
      "Epoch 9: 100%|██████████| 158/158 [00:55<00:00,  2.85it/s, loss=0.0372, v_num=190]\n"
     ]
    },
    {
     "name": "stderr",
     "output_type": "stream",
     "text": [
      "\n",
      "  0%|          | 0/40 [00:00<?, ?it/s]\u001b[A\n",
      "  2%|▎         | 1/40 [00:01<00:39,  1.01s/it]\u001b[A\n",
      "  5%|▌         | 2/40 [00:02<00:39,  1.03s/it]\u001b[A\n",
      "  8%|▊         | 3/40 [00:03<00:39,  1.08s/it]\u001b[A\n",
      " 10%|█         | 4/40 [00:04<00:39,  1.09s/it]\u001b[A\n",
      " 12%|█▎        | 5/40 [00:05<00:38,  1.10s/it]\u001b[A\n",
      " 15%|█▌        | 6/40 [00:06<00:37,  1.09s/it]\u001b[A\n",
      " 18%|█▊        | 7/40 [00:07<00:35,  1.08s/it]\u001b[A\n",
      " 20%|██        | 8/40 [00:08<00:34,  1.08s/it]\u001b[A\n",
      " 22%|██▎       | 9/40 [00:09<00:33,  1.07s/it]\u001b[A\n",
      " 25%|██▌       | 10/40 [00:10<00:32,  1.08s/it]\u001b[A\n",
      " 28%|██▊       | 11/40 [00:11<00:31,  1.08s/it]\u001b[A\n",
      " 30%|███       | 12/40 [00:12<00:30,  1.10s/it]\u001b[A\n",
      " 32%|███▎      | 13/40 [00:14<00:29,  1.09s/it]\u001b[A\n",
      " 35%|███▌      | 14/40 [00:15<00:28,  1.11s/it]\u001b[A\n",
      " 38%|███▊      | 15/40 [00:16<00:27,  1.11s/it]\u001b[A\n",
      " 40%|████      | 16/40 [00:17<00:26,  1.10s/it]\u001b[A\n",
      " 42%|████▎     | 17/40 [00:18<00:25,  1.12s/it]\u001b[A\n",
      " 45%|████▌     | 18/40 [00:19<00:24,  1.12s/it]\u001b[A\n",
      " 48%|████▊     | 19/40 [00:20<00:23,  1.12s/it]\u001b[A\n",
      " 50%|█████     | 20/40 [00:21<00:22,  1.12s/it]\u001b[A\n",
      " 52%|█████▎    | 21/40 [00:23<00:21,  1.11s/it]\u001b[A\n",
      " 55%|█████▌    | 22/40 [00:24<00:19,  1.11s/it]\u001b[A\n",
      " 57%|█████▊    | 23/40 [00:25<00:19,  1.12s/it]\u001b[A\n",
      " 60%|██████    | 24/40 [00:26<00:17,  1.11s/it]\u001b[A\n",
      " 62%|██████▎   | 25/40 [00:27<00:16,  1.11s/it]\u001b[A\n",
      " 65%|██████▌   | 26/40 [00:28<00:15,  1.12s/it]\u001b[A\n",
      " 68%|██████▊   | 27/40 [00:29<00:14,  1.09s/it]\u001b[A\n",
      " 70%|███████   | 28/40 [00:30<00:13,  1.09s/it]\u001b[A\n",
      " 72%|███████▎  | 29/40 [00:31<00:11,  1.08s/it]\u001b[A\n",
      " 75%|███████▌  | 30/40 [00:32<00:10,  1.09s/it]\u001b[A\n",
      " 78%|███████▊  | 31/40 [00:34<00:09,  1.10s/it]\u001b[A\n",
      " 80%|████████  | 32/40 [00:35<00:08,  1.10s/it]\u001b[A\n",
      " 82%|████████▎ | 33/40 [00:36<00:07,  1.10s/it]\u001b[A\n",
      " 85%|████████▌ | 34/40 [00:37<00:06,  1.10s/it]\u001b[A\n",
      " 88%|████████▊ | 35/40 [00:38<00:05,  1.08s/it]\u001b[A\n",
      " 90%|█████████ | 36/40 [00:39<00:04,  1.08s/it]\u001b[A\n",
      " 92%|█████████▎| 37/40 [00:40<00:03,  1.07s/it]\u001b[A\n",
      " 95%|█████████▌| 38/40 [00:41<00:02,  1.08s/it]\u001b[A\n",
      " 98%|█████████▊| 39/40 [00:42<00:01,  1.09s/it]\u001b[A\n",
      "100%|██████████| 40/40 [00:43<00:00,  1.08s/it]\u001b[A\n",
      "C:\\Users\\laraquij\\Anaconda3\\envs\\tfg_dani\\lib\\site-packages\\torchvision\\models\\_utils.py:209: UserWarning: The parameter 'pretrained' is deprecated since 0.13 and may be removed in the future, please use 'weights' instead.\n",
      "  f\"The parameter '{pretrained_param}' is deprecated since 0.13 and may be removed in the future, \"\n",
      "C:\\Users\\laraquij\\Anaconda3\\envs\\tfg_dani\\lib\\site-packages\\torchvision\\models\\_utils.py:223: UserWarning: Arguments other than a weight enum or `None` for 'weights' are deprecated since 0.13 and may be removed in the future. The current behavior is equivalent to passing `weights=ResNet50_Weights.IMAGENET1K_V1`. You can also use `weights=ResNet50_Weights.DEFAULT` to get the most up-to-date weights.\n",
      "  warnings.warn(msg)\n"
     ]
    },
    {
     "name": "stdout",
     "output_type": "stream",
     "text": [
      "------------fold nº 4----------------------\n"
     ]
    },
    {
     "name": "stderr",
     "output_type": "stream",
     "text": [
      "GPU available: True (cuda), used: True\n",
      "TPU available: False, using: 0 TPU cores\n",
      "IPU available: False, using: 0 IPUs\n",
      "HPU available: False, using: 0 HPUs\n",
      "LOCAL_RANK: 0 - CUDA_VISIBLE_DEVICES: [0]\n",
      "\n",
      "  | Name      | Type           | Params\n",
      "---------------------------------------------\n",
      "0 | accuracy  | BinaryAccuracy | 0     \n",
      "1 | f1score   | BinaryF1Score  | 0     \n",
      "2 | model     | ResNet         | 23.5 M\n",
      "3 | fuzzyloss | FuzzyLoss      | 0     \n",
      "---------------------------------------------\n",
      "4.1 K     Trainable params\n",
      "23.5 M    Non-trainable params\n",
      "23.5 M    Total params\n",
      "94.049    Total estimated model params size (MB)\n",
      "C:\\Users\\laraquij\\Anaconda3\\envs\\tfg_dani\\lib\\site-packages\\pytorch_lightning\\trainer\\connectors\\data_connector.py:229: PossibleUserWarning: The dataloader, train_dataloader, does not have many workers which may be a bottleneck. Consider increasing the value of the `num_workers` argument` (try 8 which is the number of cpus on this machine) in the `DataLoader` init to improve performance.\n",
      "  category=PossibleUserWarning,\n"
     ]
    },
    {
     "name": "stdout",
     "output_type": "stream",
     "text": [
      "Epoch 9: 100%|██████████| 158/158 [00:55<00:00,  2.85it/s, loss=0.0835, v_num=191]"
     ]
    },
    {
     "name": "stderr",
     "output_type": "stream",
     "text": [
      "`Trainer.fit` stopped: `max_epochs=10` reached.\n"
     ]
    },
    {
     "name": "stdout",
     "output_type": "stream",
     "text": [
      "Epoch 9: 100%|██████████| 158/158 [00:55<00:00,  2.83it/s, loss=0.0835, v_num=191]\n"
     ]
    },
    {
     "name": "stderr",
     "output_type": "stream",
     "text": [
      "\n",
      "  0%|          | 0/40 [00:00<?, ?it/s]\u001b[A\n",
      "  2%|▎         | 1/40 [00:01<00:44,  1.14s/it]\u001b[A\n",
      "  5%|▌         | 2/40 [00:02<00:42,  1.13s/it]\u001b[A\n",
      "  8%|▊         | 3/40 [00:03<00:41,  1.11s/it]\u001b[A\n",
      " 10%|█         | 4/40 [00:04<00:39,  1.10s/it]\u001b[A\n",
      " 12%|█▎        | 5/40 [00:05<00:38,  1.11s/it]\u001b[A\n",
      " 15%|█▌        | 6/40 [00:06<00:37,  1.11s/it]\u001b[A\n",
      " 18%|█▊        | 7/40 [00:07<00:37,  1.12s/it]\u001b[A\n",
      " 20%|██        | 8/40 [00:08<00:36,  1.13s/it]\u001b[A\n",
      " 22%|██▎       | 9/40 [00:10<00:34,  1.12s/it]\u001b[A\n",
      " 25%|██▌       | 10/40 [00:11<00:34,  1.13s/it]\u001b[A\n",
      " 28%|██▊       | 11/40 [00:12<00:33,  1.14s/it]\u001b[A\n",
      " 30%|███       | 12/40 [00:13<00:32,  1.14s/it]\u001b[A\n",
      " 32%|███▎      | 13/40 [00:14<00:30,  1.13s/it]\u001b[A\n",
      " 35%|███▌      | 14/40 [00:15<00:29,  1.12s/it]\u001b[A\n",
      " 38%|███▊      | 15/40 [00:16<00:28,  1.12s/it]\u001b[A\n",
      " 40%|████      | 16/40 [00:18<00:27,  1.14s/it]\u001b[A\n",
      " 42%|████▎     | 17/40 [00:19<00:25,  1.13s/it]\u001b[A\n",
      " 45%|████▌     | 18/40 [00:20<00:24,  1.12s/it]\u001b[A\n",
      " 48%|████▊     | 19/40 [00:21<00:23,  1.11s/it]\u001b[A\n",
      " 50%|█████     | 20/40 [00:22<00:22,  1.11s/it]\u001b[A\n",
      " 52%|█████▎    | 21/40 [00:23<00:20,  1.08s/it]\u001b[A\n",
      " 55%|█████▌    | 22/40 [00:24<00:19,  1.09s/it]\u001b[A\n",
      " 57%|█████▊    | 23/40 [00:25<00:18,  1.10s/it]\u001b[A\n",
      " 60%|██████    | 24/40 [00:26<00:17,  1.10s/it]\u001b[A\n",
      " 62%|██████▎   | 25/40 [00:27<00:16,  1.12s/it]\u001b[A\n",
      " 65%|██████▌   | 26/40 [00:29<00:15,  1.11s/it]\u001b[A\n",
      " 68%|██████▊   | 27/40 [00:30<00:14,  1.12s/it]\u001b[A\n",
      " 70%|███████   | 28/40 [00:31<00:13,  1.10s/it]\u001b[A\n",
      " 72%|███████▎  | 29/40 [00:32<00:12,  1.10s/it]\u001b[A\n",
      " 75%|███████▌  | 30/40 [00:33<00:10,  1.09s/it]\u001b[A\n",
      " 78%|███████▊  | 31/40 [00:34<00:09,  1.10s/it]\u001b[A\n",
      " 80%|████████  | 32/40 [00:35<00:08,  1.10s/it]\u001b[A\n",
      " 82%|████████▎ | 33/40 [00:36<00:07,  1.08s/it]\u001b[A\n",
      " 85%|████████▌ | 34/40 [00:37<00:06,  1.10s/it]\u001b[A\n",
      " 88%|████████▊ | 35/40 [00:39<00:05,  1.13s/it]\u001b[A\n",
      " 90%|█████████ | 36/40 [00:40<00:04,  1.14s/it]\u001b[A\n",
      " 92%|█████████▎| 37/40 [00:41<00:03,  1.13s/it]\u001b[A\n",
      " 95%|█████████▌| 38/40 [00:42<00:02,  1.13s/it]\u001b[A\n",
      " 98%|█████████▊| 39/40 [00:43<00:01,  1.11s/it]\u001b[A\n",
      "100%|██████████| 40/40 [00:43<00:00,  1.09s/it]\u001b[A\n",
      "C:\\Users\\laraquij\\Anaconda3\\envs\\tfg_dani\\lib\\site-packages\\torchvision\\models\\_utils.py:209: UserWarning: The parameter 'pretrained' is deprecated since 0.13 and may be removed in the future, please use 'weights' instead.\n",
      "  f\"The parameter '{pretrained_param}' is deprecated since 0.13 and may be removed in the future, \"\n",
      "C:\\Users\\laraquij\\Anaconda3\\envs\\tfg_dani\\lib\\site-packages\\torchvision\\models\\_utils.py:223: UserWarning: Arguments other than a weight enum or `None` for 'weights' are deprecated since 0.13 and may be removed in the future. The current behavior is equivalent to passing `weights=ResNet50_Weights.IMAGENET1K_V1`. You can also use `weights=ResNet50_Weights.DEFAULT` to get the most up-to-date weights.\n",
      "  warnings.warn(msg)\n"
     ]
    },
    {
     "name": "stdout",
     "output_type": "stream",
     "text": [
      "------------fold nº 0----------------------\n"
     ]
    },
    {
     "name": "stderr",
     "output_type": "stream",
     "text": [
      "GPU available: True (cuda), used: True\n",
      "TPU available: False, using: 0 TPU cores\n",
      "IPU available: False, using: 0 IPUs\n",
      "HPU available: False, using: 0 HPUs\n",
      "LOCAL_RANK: 0 - CUDA_VISIBLE_DEVICES: [0]\n",
      "\n",
      "  | Name      | Type           | Params\n",
      "---------------------------------------------\n",
      "0 | accuracy  | BinaryAccuracy | 0     \n",
      "1 | f1score   | BinaryF1Score  | 0     \n",
      "2 | model     | ResNet         | 23.5 M\n",
      "3 | fuzzyloss | FuzzyLoss      | 0     \n",
      "---------------------------------------------\n",
      "4.1 K     Trainable params\n",
      "23.5 M    Non-trainable params\n",
      "23.5 M    Total params\n",
      "94.049    Total estimated model params size (MB)\n",
      "C:\\Users\\laraquij\\Anaconda3\\envs\\tfg_dani\\lib\\site-packages\\pytorch_lightning\\trainer\\connectors\\data_connector.py:229: PossibleUserWarning: The dataloader, train_dataloader, does not have many workers which may be a bottleneck. Consider increasing the value of the `num_workers` argument` (try 8 which is the number of cpus on this machine) in the `DataLoader` init to improve performance.\n",
      "  category=PossibleUserWarning,\n"
     ]
    },
    {
     "name": "stdout",
     "output_type": "stream",
     "text": [
      "Epoch 24: 100%|██████████| 158/158 [00:55<00:00,  2.87it/s, loss=0.012, v_num=192] "
     ]
    },
    {
     "name": "stderr",
     "output_type": "stream",
     "text": [
      "`Trainer.fit` stopped: `max_epochs=25` reached.\n"
     ]
    },
    {
     "name": "stdout",
     "output_type": "stream",
     "text": [
      "Epoch 24: 100%|██████████| 158/158 [00:55<00:00,  2.84it/s, loss=0.012, v_num=192]\n"
     ]
    },
    {
     "name": "stderr",
     "output_type": "stream",
     "text": [
      "\n",
      "  0%|          | 0/40 [00:00<?, ?it/s]\u001b[A\n",
      "  2%|▎         | 1/40 [00:01<00:43,  1.12s/it]\u001b[A\n",
      "  5%|▌         | 2/40 [00:02<00:43,  1.14s/it]\u001b[A\n",
      "  8%|▊         | 3/40 [00:03<00:41,  1.12s/it]\u001b[A\n",
      " 10%|█         | 4/40 [00:04<00:40,  1.12s/it]\u001b[A\n",
      " 12%|█▎        | 5/40 [00:05<00:39,  1.11s/it]\u001b[A\n",
      " 15%|█▌        | 6/40 [00:06<00:38,  1.12s/it]\u001b[A\n",
      " 18%|█▊        | 7/40 [00:07<00:36,  1.11s/it]\u001b[A\n",
      " 20%|██        | 8/40 [00:08<00:35,  1.11s/it]\u001b[A\n",
      " 22%|██▎       | 9/40 [00:09<00:33,  1.09s/it]\u001b[A\n",
      " 25%|██▌       | 10/40 [00:11<00:32,  1.10s/it]\u001b[A\n",
      " 28%|██▊       | 11/40 [00:12<00:31,  1.10s/it]\u001b[A\n",
      " 30%|███       | 12/40 [00:13<00:31,  1.12s/it]\u001b[A\n",
      " 32%|███▎      | 13/40 [00:14<00:29,  1.10s/it]\u001b[A\n",
      " 35%|███▌      | 14/40 [00:15<00:28,  1.10s/it]\u001b[A\n",
      " 38%|███▊      | 15/40 [00:16<00:27,  1.12s/it]\u001b[A\n",
      " 40%|████      | 16/40 [00:17<00:27,  1.15s/it]\u001b[A\n",
      " 42%|████▎     | 17/40 [00:19<00:27,  1.19s/it]\u001b[A\n",
      " 45%|████▌     | 18/40 [00:20<00:25,  1.16s/it]\u001b[A\n",
      " 48%|████▊     | 19/40 [00:21<00:24,  1.16s/it]\u001b[A\n",
      " 50%|█████     | 20/40 [00:22<00:22,  1.14s/it]\u001b[A\n",
      " 52%|█████▎    | 21/40 [00:23<00:21,  1.14s/it]\u001b[A\n",
      " 55%|█████▌    | 22/40 [00:24<00:20,  1.11s/it]\u001b[A\n",
      " 57%|█████▊    | 23/40 [00:25<00:18,  1.11s/it]\u001b[A\n",
      " 60%|██████    | 24/40 [00:26<00:18,  1.13s/it]\u001b[A\n",
      " 62%|██████▎   | 25/40 [00:28<00:17,  1.13s/it]\u001b[A\n",
      " 65%|██████▌   | 26/40 [00:29<00:15,  1.12s/it]\u001b[A\n",
      " 68%|██████▊   | 27/40 [00:30<00:14,  1.12s/it]\u001b[A\n",
      " 70%|███████   | 28/40 [00:31<00:13,  1.11s/it]\u001b[A\n",
      " 72%|███████▎  | 29/40 [00:32<00:12,  1.11s/it]\u001b[A\n",
      " 75%|███████▌  | 30/40 [00:33<00:11,  1.11s/it]\u001b[A\n",
      " 78%|███████▊  | 31/40 [00:34<00:09,  1.11s/it]\u001b[A\n",
      " 80%|████████  | 32/40 [00:35<00:08,  1.12s/it]\u001b[A\n",
      " 82%|████████▎ | 33/40 [00:36<00:07,  1.11s/it]\u001b[A\n",
      " 85%|████████▌ | 34/40 [00:38<00:06,  1.14s/it]\u001b[A\n",
      " 88%|████████▊ | 35/40 [00:39<00:05,  1.13s/it]\u001b[A\n",
      " 90%|█████████ | 36/40 [00:40<00:04,  1.13s/it]\u001b[A\n",
      " 92%|█████████▎| 37/40 [00:41<00:03,  1.14s/it]\u001b[A\n",
      " 95%|█████████▌| 38/40 [00:42<00:02,  1.12s/it]\u001b[A\n",
      " 98%|█████████▊| 39/40 [00:43<00:01,  1.12s/it]\u001b[A\n",
      "100%|██████████| 40/40 [00:44<00:00,  1.10s/it]\u001b[A\n",
      "C:\\Users\\laraquij\\Anaconda3\\envs\\tfg_dani\\lib\\site-packages\\torchvision\\models\\_utils.py:209: UserWarning: The parameter 'pretrained' is deprecated since 0.13 and may be removed in the future, please use 'weights' instead.\n",
      "  f\"The parameter '{pretrained_param}' is deprecated since 0.13 and may be removed in the future, \"\n",
      "C:\\Users\\laraquij\\Anaconda3\\envs\\tfg_dani\\lib\\site-packages\\torchvision\\models\\_utils.py:223: UserWarning: Arguments other than a weight enum or `None` for 'weights' are deprecated since 0.13 and may be removed in the future. The current behavior is equivalent to passing `weights=ResNet50_Weights.IMAGENET1K_V1`. You can also use `weights=ResNet50_Weights.DEFAULT` to get the most up-to-date weights.\n",
      "  warnings.warn(msg)\n"
     ]
    },
    {
     "name": "stdout",
     "output_type": "stream",
     "text": [
      "------------fold nº 1----------------------\n"
     ]
    },
    {
     "name": "stderr",
     "output_type": "stream",
     "text": [
      "GPU available: True (cuda), used: True\n",
      "TPU available: False, using: 0 TPU cores\n",
      "IPU available: False, using: 0 IPUs\n",
      "HPU available: False, using: 0 HPUs\n",
      "LOCAL_RANK: 0 - CUDA_VISIBLE_DEVICES: [0]\n",
      "\n",
      "  | Name      | Type           | Params\n",
      "---------------------------------------------\n",
      "0 | accuracy  | BinaryAccuracy | 0     \n",
      "1 | f1score   | BinaryF1Score  | 0     \n",
      "2 | model     | ResNet         | 23.5 M\n",
      "3 | fuzzyloss | FuzzyLoss      | 0     \n",
      "---------------------------------------------\n",
      "4.1 K     Trainable params\n",
      "23.5 M    Non-trainable params\n",
      "23.5 M    Total params\n",
      "94.049    Total estimated model params size (MB)\n",
      "C:\\Users\\laraquij\\Anaconda3\\envs\\tfg_dani\\lib\\site-packages\\pytorch_lightning\\trainer\\connectors\\data_connector.py:229: PossibleUserWarning: The dataloader, train_dataloader, does not have many workers which may be a bottleneck. Consider increasing the value of the `num_workers` argument` (try 8 which is the number of cpus on this machine) in the `DataLoader` init to improve performance.\n",
      "  category=PossibleUserWarning,\n"
     ]
    },
    {
     "name": "stdout",
     "output_type": "stream",
     "text": [
      "Epoch 24: 100%|██████████| 158/158 [00:55<00:00,  2.86it/s, loss=0.0126, v_num=193]"
     ]
    },
    {
     "name": "stderr",
     "output_type": "stream",
     "text": [
      "`Trainer.fit` stopped: `max_epochs=25` reached.\n"
     ]
    },
    {
     "name": "stdout",
     "output_type": "stream",
     "text": [
      "Epoch 24: 100%|██████████| 158/158 [00:55<00:00,  2.83it/s, loss=0.0126, v_num=193]\n"
     ]
    },
    {
     "name": "stderr",
     "output_type": "stream",
     "text": [
      "\n",
      "  0%|          | 0/40 [00:00<?, ?it/s]\u001b[A\n",
      "  2%|▎         | 1/40 [00:01<00:44,  1.15s/it]\u001b[A\n",
      "  5%|▌         | 2/40 [00:02<00:44,  1.17s/it]\u001b[A\n",
      "  8%|▊         | 3/40 [00:03<00:43,  1.17s/it]\u001b[A\n",
      " 10%|█         | 4/40 [00:04<00:41,  1.16s/it]\u001b[A\n",
      " 12%|█▎        | 5/40 [00:05<00:40,  1.15s/it]\u001b[A\n",
      " 15%|█▌        | 6/40 [00:06<00:39,  1.15s/it]\u001b[A\n",
      " 18%|█▊        | 7/40 [00:08<00:38,  1.16s/it]\u001b[A\n",
      " 20%|██        | 8/40 [00:09<00:37,  1.17s/it]\u001b[A\n",
      " 22%|██▎       | 9/40 [00:10<00:35,  1.15s/it]\u001b[A\n",
      " 25%|██▌       | 10/40 [00:11<00:34,  1.13s/it]\u001b[A\n",
      " 28%|██▊       | 11/40 [00:12<00:33,  1.14s/it]\u001b[A\n",
      " 30%|███       | 12/40 [00:13<00:32,  1.16s/it]\u001b[A\n",
      " 32%|███▎      | 13/40 [00:14<00:30,  1.15s/it]\u001b[A\n",
      " 35%|███▌      | 14/40 [00:16<00:30,  1.17s/it]\u001b[A\n",
      " 38%|███▊      | 15/40 [00:17<00:29,  1.17s/it]\u001b[A\n",
      " 40%|████      | 16/40 [00:18<00:27,  1.16s/it]\u001b[A\n",
      " 42%|████▎     | 17/40 [00:19<00:26,  1.13s/it]\u001b[A\n",
      " 45%|████▌     | 18/40 [00:20<00:24,  1.13s/it]\u001b[A\n",
      " 48%|████▊     | 19/40 [00:21<00:23,  1.14s/it]\u001b[A\n",
      " 50%|█████     | 20/40 [00:23<00:22,  1.14s/it]\u001b[A\n",
      " 52%|█████▎    | 21/40 [00:24<00:21,  1.11s/it]\u001b[A\n",
      " 55%|█████▌    | 22/40 [00:25<00:19,  1.10s/it]\u001b[A\n",
      " 57%|█████▊    | 23/40 [00:26<00:18,  1.11s/it]\u001b[A\n",
      " 60%|██████    | 24/40 [00:27<00:17,  1.11s/it]\u001b[A\n",
      " 62%|██████▎   | 25/40 [00:28<00:16,  1.10s/it]\u001b[A\n",
      " 65%|██████▌   | 26/40 [00:29<00:15,  1.09s/it]\u001b[A\n",
      " 68%|██████▊   | 27/40 [00:30<00:14,  1.11s/it]\u001b[A\n",
      " 70%|███████   | 28/40 [00:31<00:13,  1.12s/it]\u001b[A\n",
      " 72%|███████▎  | 29/40 [00:32<00:12,  1.13s/it]\u001b[A\n",
      " 75%|███████▌  | 30/40 [00:34<00:11,  1.13s/it]\u001b[A\n",
      " 78%|███████▊  | 31/40 [00:35<00:10,  1.12s/it]\u001b[A\n",
      " 80%|████████  | 32/40 [00:36<00:09,  1.13s/it]\u001b[A\n",
      " 82%|████████▎ | 33/40 [00:37<00:07,  1.11s/it]\u001b[A\n",
      " 85%|████████▌ | 34/40 [00:38<00:06,  1.11s/it]\u001b[A\n",
      " 88%|████████▊ | 35/40 [00:39<00:05,  1.12s/it]\u001b[A\n",
      " 90%|█████████ | 36/40 [00:40<00:04,  1.11s/it]\u001b[A\n",
      " 92%|█████████▎| 37/40 [00:41<00:03,  1.11s/it]\u001b[A\n",
      " 95%|█████████▌| 38/40 [00:43<00:02,  1.12s/it]\u001b[A\n",
      " 98%|█████████▊| 39/40 [00:44<00:01,  1.12s/it]\u001b[A\n",
      "100%|██████████| 40/40 [00:44<00:00,  1.11s/it]\u001b[A\n",
      "C:\\Users\\laraquij\\Anaconda3\\envs\\tfg_dani\\lib\\site-packages\\torchvision\\models\\_utils.py:209: UserWarning: The parameter 'pretrained' is deprecated since 0.13 and may be removed in the future, please use 'weights' instead.\n",
      "  f\"The parameter '{pretrained_param}' is deprecated since 0.13 and may be removed in the future, \"\n",
      "C:\\Users\\laraquij\\Anaconda3\\envs\\tfg_dani\\lib\\site-packages\\torchvision\\models\\_utils.py:223: UserWarning: Arguments other than a weight enum or `None` for 'weights' are deprecated since 0.13 and may be removed in the future. The current behavior is equivalent to passing `weights=ResNet50_Weights.IMAGENET1K_V1`. You can also use `weights=ResNet50_Weights.DEFAULT` to get the most up-to-date weights.\n",
      "  warnings.warn(msg)\n"
     ]
    },
    {
     "name": "stdout",
     "output_type": "stream",
     "text": [
      "------------fold nº 2----------------------\n"
     ]
    },
    {
     "name": "stderr",
     "output_type": "stream",
     "text": [
      "GPU available: True (cuda), used: True\n",
      "TPU available: False, using: 0 TPU cores\n",
      "IPU available: False, using: 0 IPUs\n",
      "HPU available: False, using: 0 HPUs\n",
      "LOCAL_RANK: 0 - CUDA_VISIBLE_DEVICES: [0]\n",
      "\n",
      "  | Name      | Type           | Params\n",
      "---------------------------------------------\n",
      "0 | accuracy  | BinaryAccuracy | 0     \n",
      "1 | f1score   | BinaryF1Score  | 0     \n",
      "2 | model     | ResNet         | 23.5 M\n",
      "3 | fuzzyloss | FuzzyLoss      | 0     \n",
      "---------------------------------------------\n",
      "4.1 K     Trainable params\n",
      "23.5 M    Non-trainable params\n",
      "23.5 M    Total params\n",
      "94.049    Total estimated model params size (MB)\n",
      "C:\\Users\\laraquij\\Anaconda3\\envs\\tfg_dani\\lib\\site-packages\\pytorch_lightning\\trainer\\connectors\\data_connector.py:229: PossibleUserWarning: The dataloader, train_dataloader, does not have many workers which may be a bottleneck. Consider increasing the value of the `num_workers` argument` (try 8 which is the number of cpus on this machine) in the `DataLoader` init to improve performance.\n",
      "  category=PossibleUserWarning,\n"
     ]
    },
    {
     "name": "stdout",
     "output_type": "stream",
     "text": [
      "Epoch 24: 100%|██████████| 158/158 [00:55<00:00,  2.85it/s, loss=0.0361, v_num=194] "
     ]
    },
    {
     "name": "stderr",
     "output_type": "stream",
     "text": [
      "`Trainer.fit` stopped: `max_epochs=25` reached.\n"
     ]
    },
    {
     "name": "stdout",
     "output_type": "stream",
     "text": [
      "Epoch 24: 100%|██████████| 158/158 [00:55<00:00,  2.82it/s, loss=0.0361, v_num=194]\n"
     ]
    },
    {
     "name": "stderr",
     "output_type": "stream",
     "text": [
      "\n",
      "  0%|          | 0/40 [00:00<?, ?it/s]\u001b[A\n",
      "  2%|▎         | 1/40 [00:01<00:43,  1.11s/it]\u001b[A\n",
      "  5%|▌         | 2/40 [00:02<00:41,  1.10s/it]\u001b[A\n",
      "  8%|▊         | 3/40 [00:03<00:40,  1.10s/it]\u001b[A\n",
      " 10%|█         | 4/40 [00:04<00:39,  1.11s/it]\u001b[A\n",
      " 12%|█▎        | 5/40 [00:05<00:38,  1.10s/it]\u001b[A\n",
      " 15%|█▌        | 6/40 [00:06<00:37,  1.10s/it]\u001b[A\n",
      " 18%|█▊        | 7/40 [00:07<00:36,  1.11s/it]\u001b[A\n",
      " 20%|██        | 8/40 [00:08<00:35,  1.12s/it]\u001b[A\n",
      " 22%|██▎       | 9/40 [00:09<00:34,  1.11s/it]\u001b[A\n",
      " 25%|██▌       | 10/40 [00:11<00:33,  1.12s/it]\u001b[A\n",
      " 28%|██▊       | 11/40 [00:12<00:32,  1.12s/it]\u001b[A\n",
      " 30%|███       | 12/40 [00:13<00:31,  1.12s/it]\u001b[A\n",
      " 32%|███▎      | 13/40 [00:14<00:30,  1.12s/it]\u001b[A\n",
      " 35%|███▌      | 14/40 [00:15<00:29,  1.13s/it]\u001b[A\n",
      " 38%|███▊      | 15/40 [00:16<00:28,  1.13s/it]\u001b[A\n",
      " 40%|████      | 16/40 [00:17<00:26,  1.12s/it]\u001b[A\n",
      " 42%|████▎     | 17/40 [00:18<00:25,  1.11s/it]\u001b[A\n",
      " 45%|████▌     | 18/40 [00:20<00:24,  1.13s/it]\u001b[A\n",
      " 48%|████▊     | 19/40 [00:21<00:23,  1.14s/it]\u001b[A\n",
      " 50%|█████     | 20/40 [00:22<00:22,  1.13s/it]\u001b[A\n",
      " 52%|█████▎    | 21/40 [00:23<00:21,  1.13s/it]\u001b[A\n",
      " 55%|█████▌    | 22/40 [00:24<00:20,  1.13s/it]\u001b[A\n",
      " 57%|█████▊    | 23/40 [00:25<00:19,  1.13s/it]\u001b[A\n",
      " 60%|██████    | 24/40 [00:26<00:18,  1.14s/it]\u001b[A\n",
      " 62%|██████▎   | 25/40 [00:28<00:17,  1.14s/it]\u001b[A\n",
      " 65%|██████▌   | 26/40 [00:29<00:15,  1.12s/it]\u001b[A\n",
      " 68%|██████▊   | 27/40 [00:30<00:14,  1.12s/it]\u001b[A\n",
      " 70%|███████   | 28/40 [00:31<00:13,  1.12s/it]\u001b[A\n",
      " 72%|███████▎  | 29/40 [00:32<00:12,  1.13s/it]\u001b[A\n",
      " 75%|███████▌  | 30/40 [00:33<00:11,  1.14s/it]\u001b[A\n",
      " 78%|███████▊  | 31/40 [00:34<00:10,  1.14s/it]\u001b[A\n",
      " 80%|████████  | 32/40 [00:35<00:09,  1.13s/it]\u001b[A\n",
      " 82%|████████▎ | 33/40 [00:37<00:07,  1.12s/it]\u001b[A\n",
      " 85%|████████▌ | 34/40 [00:38<00:06,  1.13s/it]\u001b[A\n",
      " 88%|████████▊ | 35/40 [00:39<00:05,  1.12s/it]\u001b[A\n",
      " 90%|█████████ | 36/40 [00:40<00:04,  1.10s/it]\u001b[A\n",
      " 92%|█████████▎| 37/40 [00:41<00:03,  1.11s/it]\u001b[A\n",
      " 95%|█████████▌| 38/40 [00:42<00:02,  1.11s/it]\u001b[A\n",
      " 98%|█████████▊| 39/40 [00:43<00:01,  1.13s/it]\u001b[A\n",
      "100%|██████████| 40/40 [00:44<00:00,  1.10s/it]\u001b[A\n",
      "C:\\Users\\laraquij\\Anaconda3\\envs\\tfg_dani\\lib\\site-packages\\torchvision\\models\\_utils.py:209: UserWarning: The parameter 'pretrained' is deprecated since 0.13 and may be removed in the future, please use 'weights' instead.\n",
      "  f\"The parameter '{pretrained_param}' is deprecated since 0.13 and may be removed in the future, \"\n",
      "C:\\Users\\laraquij\\Anaconda3\\envs\\tfg_dani\\lib\\site-packages\\torchvision\\models\\_utils.py:223: UserWarning: Arguments other than a weight enum or `None` for 'weights' are deprecated since 0.13 and may be removed in the future. The current behavior is equivalent to passing `weights=ResNet50_Weights.IMAGENET1K_V1`. You can also use `weights=ResNet50_Weights.DEFAULT` to get the most up-to-date weights.\n",
      "  warnings.warn(msg)\n"
     ]
    },
    {
     "name": "stdout",
     "output_type": "stream",
     "text": [
      "------------fold nº 3----------------------\n"
     ]
    },
    {
     "name": "stderr",
     "output_type": "stream",
     "text": [
      "GPU available: True (cuda), used: True\n",
      "TPU available: False, using: 0 TPU cores\n",
      "IPU available: False, using: 0 IPUs\n",
      "HPU available: False, using: 0 HPUs\n",
      "LOCAL_RANK: 0 - CUDA_VISIBLE_DEVICES: [0]\n",
      "\n",
      "  | Name      | Type           | Params\n",
      "---------------------------------------------\n",
      "0 | accuracy  | BinaryAccuracy | 0     \n",
      "1 | f1score   | BinaryF1Score  | 0     \n",
      "2 | model     | ResNet         | 23.5 M\n",
      "3 | fuzzyloss | FuzzyLoss      | 0     \n",
      "---------------------------------------------\n",
      "4.1 K     Trainable params\n",
      "23.5 M    Non-trainable params\n",
      "23.5 M    Total params\n",
      "94.049    Total estimated model params size (MB)\n",
      "C:\\Users\\laraquij\\Anaconda3\\envs\\tfg_dani\\lib\\site-packages\\pytorch_lightning\\trainer\\connectors\\data_connector.py:229: PossibleUserWarning: The dataloader, train_dataloader, does not have many workers which may be a bottleneck. Consider increasing the value of the `num_workers` argument` (try 8 which is the number of cpus on this machine) in the `DataLoader` init to improve performance.\n",
      "  category=PossibleUserWarning,\n"
     ]
    },
    {
     "name": "stdout",
     "output_type": "stream",
     "text": [
      "Epoch 24: 100%|██████████| 158/158 [00:55<00:00,  2.84it/s, loss=0.0262, v_num=195] "
     ]
    },
    {
     "name": "stderr",
     "output_type": "stream",
     "text": [
      "`Trainer.fit` stopped: `max_epochs=25` reached.\n"
     ]
    },
    {
     "name": "stdout",
     "output_type": "stream",
     "text": [
      "Epoch 24: 100%|██████████| 158/158 [00:56<00:00,  2.82it/s, loss=0.0262, v_num=195]\n"
     ]
    },
    {
     "name": "stderr",
     "output_type": "stream",
     "text": [
      "\n",
      "  0%|          | 0/40 [00:00<?, ?it/s]\u001b[A\n",
      "  2%|▎         | 1/40 [00:01<00:43,  1.13s/it]\u001b[A\n",
      "  5%|▌         | 2/40 [00:02<00:43,  1.15s/it]\u001b[A\n",
      "  8%|▊         | 3/40 [00:03<00:42,  1.16s/it]\u001b[A\n",
      " 10%|█         | 4/40 [00:04<00:40,  1.13s/it]\u001b[A\n",
      " 12%|█▎        | 5/40 [00:05<00:39,  1.14s/it]\u001b[A\n",
      " 15%|█▌        | 6/40 [00:06<00:38,  1.13s/it]\u001b[A\n",
      " 18%|█▊        | 7/40 [00:07<00:37,  1.13s/it]\u001b[A\n",
      " 20%|██        | 8/40 [00:09<00:36,  1.13s/it]\u001b[A\n",
      " 22%|██▎       | 9/40 [00:10<00:35,  1.14s/it]\u001b[A\n",
      " 25%|██▌       | 10/40 [00:11<00:33,  1.12s/it]\u001b[A\n",
      " 28%|██▊       | 11/40 [00:12<00:33,  1.14s/it]\u001b[A\n",
      " 30%|███       | 12/40 [00:13<00:31,  1.13s/it]\u001b[A\n",
      " 32%|███▎      | 13/40 [00:14<00:30,  1.13s/it]\u001b[A\n",
      " 35%|███▌      | 14/40 [00:15<00:29,  1.14s/it]\u001b[A\n",
      " 38%|███▊      | 15/40 [00:17<00:28,  1.13s/it]\u001b[A\n",
      " 40%|████      | 16/40 [00:18<00:27,  1.14s/it]\u001b[A\n",
      " 42%|████▎     | 17/40 [00:19<00:26,  1.14s/it]\u001b[A\n",
      " 45%|████▌     | 18/40 [00:20<00:24,  1.13s/it]\u001b[A\n",
      " 48%|████▊     | 19/40 [00:21<00:23,  1.13s/it]\u001b[A\n",
      " 50%|█████     | 20/40 [00:22<00:22,  1.13s/it]\u001b[A\n",
      " 52%|█████▎    | 21/40 [00:23<00:21,  1.14s/it]\u001b[A\n",
      " 55%|█████▌    | 22/40 [00:24<00:20,  1.13s/it]\u001b[A\n",
      " 57%|█████▊    | 23/40 [00:26<00:19,  1.13s/it]\u001b[A\n",
      " 60%|██████    | 24/40 [00:27<00:18,  1.13s/it]\u001b[A\n",
      " 62%|██████▎   | 25/40 [00:28<00:17,  1.14s/it]\u001b[A\n",
      " 65%|██████▌   | 26/40 [00:29<00:16,  1.15s/it]\u001b[A\n",
      " 68%|██████▊   | 27/40 [00:30<00:14,  1.13s/it]\u001b[A\n",
      " 70%|███████   | 28/40 [00:31<00:13,  1.14s/it]\u001b[A\n",
      " 72%|███████▎  | 29/40 [00:32<00:12,  1.14s/it]\u001b[A\n",
      " 75%|███████▌  | 30/40 [00:34<00:11,  1.14s/it]\u001b[A\n",
      " 78%|███████▊  | 31/40 [00:35<00:10,  1.14s/it]\u001b[A\n",
      " 80%|████████  | 32/40 [00:36<00:09,  1.15s/it]\u001b[A\n",
      " 82%|████████▎ | 33/40 [00:37<00:07,  1.14s/it]\u001b[A\n",
      " 85%|████████▌ | 34/40 [00:38<00:06,  1.14s/it]\u001b[A\n",
      " 88%|████████▊ | 35/40 [00:39<00:05,  1.13s/it]\u001b[A\n",
      " 90%|█████████ | 36/40 [00:40<00:04,  1.13s/it]\u001b[A\n",
      " 92%|█████████▎| 37/40 [00:41<00:03,  1.13s/it]\u001b[A\n",
      " 95%|█████████▌| 38/40 [00:43<00:02,  1.13s/it]\u001b[A\n",
      " 98%|█████████▊| 39/40 [00:44<00:01,  1.12s/it]\u001b[A\n",
      "100%|██████████| 40/40 [00:44<00:00,  1.11s/it]\u001b[A\n",
      "C:\\Users\\laraquij\\Anaconda3\\envs\\tfg_dani\\lib\\site-packages\\torchvision\\models\\_utils.py:209: UserWarning: The parameter 'pretrained' is deprecated since 0.13 and may be removed in the future, please use 'weights' instead.\n",
      "  f\"The parameter '{pretrained_param}' is deprecated since 0.13 and may be removed in the future, \"\n",
      "C:\\Users\\laraquij\\Anaconda3\\envs\\tfg_dani\\lib\\site-packages\\torchvision\\models\\_utils.py:223: UserWarning: Arguments other than a weight enum or `None` for 'weights' are deprecated since 0.13 and may be removed in the future. The current behavior is equivalent to passing `weights=ResNet50_Weights.IMAGENET1K_V1`. You can also use `weights=ResNet50_Weights.DEFAULT` to get the most up-to-date weights.\n",
      "  warnings.warn(msg)\n"
     ]
    },
    {
     "name": "stdout",
     "output_type": "stream",
     "text": [
      "------------fold nº 4----------------------\n"
     ]
    },
    {
     "name": "stderr",
     "output_type": "stream",
     "text": [
      "GPU available: True (cuda), used: True\n",
      "TPU available: False, using: 0 TPU cores\n",
      "IPU available: False, using: 0 IPUs\n",
      "HPU available: False, using: 0 HPUs\n",
      "LOCAL_RANK: 0 - CUDA_VISIBLE_DEVICES: [0]\n",
      "\n",
      "  | Name      | Type           | Params\n",
      "---------------------------------------------\n",
      "0 | accuracy  | BinaryAccuracy | 0     \n",
      "1 | f1score   | BinaryF1Score  | 0     \n",
      "2 | model     | ResNet         | 23.5 M\n",
      "3 | fuzzyloss | FuzzyLoss      | 0     \n",
      "---------------------------------------------\n",
      "4.1 K     Trainable params\n",
      "23.5 M    Non-trainable params\n",
      "23.5 M    Total params\n",
      "94.049    Total estimated model params size (MB)\n",
      "C:\\Users\\laraquij\\Anaconda3\\envs\\tfg_dani\\lib\\site-packages\\pytorch_lightning\\trainer\\connectors\\data_connector.py:229: PossibleUserWarning: The dataloader, train_dataloader, does not have many workers which may be a bottleneck. Consider increasing the value of the `num_workers` argument` (try 8 which is the number of cpus on this machine) in the `DataLoader` init to improve performance.\n",
      "  category=PossibleUserWarning,\n"
     ]
    },
    {
     "name": "stdout",
     "output_type": "stream",
     "text": [
      "Epoch 24: 100%|██████████| 158/158 [00:55<00:00,  2.84it/s, loss=0.0498, v_num=196]"
     ]
    },
    {
     "name": "stderr",
     "output_type": "stream",
     "text": [
      "`Trainer.fit` stopped: `max_epochs=25` reached.\n"
     ]
    },
    {
     "name": "stdout",
     "output_type": "stream",
     "text": [
      "Epoch 24: 100%|██████████| 158/158 [00:56<00:00,  2.82it/s, loss=0.0498, v_num=196]\n"
     ]
    },
    {
     "name": "stderr",
     "output_type": "stream",
     "text": [
      "\n",
      "  0%|          | 0/40 [00:00<?, ?it/s]\u001b[A\n",
      "  2%|▎         | 1/40 [00:01<00:43,  1.13s/it]\u001b[A\n",
      "  5%|▌         | 2/40 [00:02<00:42,  1.11s/it]\u001b[A\n",
      "  8%|▊         | 3/40 [00:03<00:40,  1.11s/it]\u001b[A\n",
      " 10%|█         | 4/40 [00:04<00:39,  1.10s/it]\u001b[A\n",
      " 12%|█▎        | 5/40 [00:05<00:38,  1.10s/it]\u001b[A\n",
      " 15%|█▌        | 6/40 [00:06<00:36,  1.07s/it]\u001b[A\n",
      " 18%|█▊        | 7/40 [00:07<00:35,  1.09s/it]\u001b[A\n",
      " 20%|██        | 8/40 [00:08<00:34,  1.08s/it]\u001b[A\n",
      " 22%|██▎       | 9/40 [00:09<00:33,  1.10s/it]\u001b[A\n",
      " 25%|██▌       | 10/40 [00:10<00:33,  1.11s/it]\u001b[A\n",
      " 28%|██▊       | 11/40 [00:12<00:32,  1.12s/it]\u001b[A\n",
      " 30%|███       | 12/40 [00:13<00:30,  1.10s/it]\u001b[A\n",
      " 32%|███▎      | 13/40 [00:14<00:29,  1.10s/it]\u001b[A\n",
      " 35%|███▌      | 14/40 [00:15<00:28,  1.10s/it]\u001b[A\n",
      " 38%|███▊      | 15/40 [00:16<00:27,  1.10s/it]\u001b[A\n",
      " 40%|████      | 16/40 [00:17<00:26,  1.10s/it]\u001b[A\n",
      " 42%|████▎     | 17/40 [00:18<00:25,  1.09s/it]\u001b[A\n",
      " 45%|████▌     | 18/40 [00:19<00:24,  1.09s/it]\u001b[A\n",
      " 48%|████▊     | 19/40 [00:20<00:22,  1.08s/it]\u001b[A\n",
      " 50%|█████     | 20/40 [00:21<00:22,  1.10s/it]\u001b[A\n",
      " 52%|█████▎    | 21/40 [00:23<00:20,  1.09s/it]\u001b[A\n",
      " 55%|█████▌    | 22/40 [00:24<00:19,  1.08s/it]\u001b[A\n",
      " 57%|█████▊    | 23/40 [00:25<00:18,  1.11s/it]\u001b[A\n",
      " 60%|██████    | 24/40 [00:26<00:17,  1.12s/it]\u001b[A\n",
      " 62%|██████▎   | 25/40 [00:27<00:16,  1.11s/it]\u001b[A\n",
      " 65%|██████▌   | 26/40 [00:28<00:15,  1.11s/it]\u001b[A\n",
      " 68%|██████▊   | 27/40 [00:29<00:14,  1.12s/it]\u001b[A\n",
      " 70%|███████   | 28/40 [00:30<00:13,  1.13s/it]\u001b[A\n",
      " 72%|███████▎  | 29/40 [00:32<00:12,  1.13s/it]\u001b[A\n",
      " 75%|███████▌  | 30/40 [00:33<00:11,  1.13s/it]\u001b[A\n",
      " 78%|███████▊  | 31/40 [00:34<00:10,  1.14s/it]\u001b[A\n",
      " 80%|████████  | 32/40 [00:35<00:08,  1.11s/it]\u001b[A\n",
      " 82%|████████▎ | 33/40 [00:36<00:07,  1.12s/it]\u001b[A\n",
      " 85%|████████▌ | 34/40 [00:37<00:06,  1.14s/it]\u001b[A\n",
      " 88%|████████▊ | 35/40 [00:38<00:05,  1.15s/it]\u001b[A\n",
      " 90%|█████████ | 36/40 [00:40<00:04,  1.17s/it]\u001b[A\n",
      " 92%|█████████▎| 37/40 [00:41<00:03,  1.14s/it]\u001b[A\n",
      " 95%|█████████▌| 38/40 [00:42<00:02,  1.14s/it]\u001b[A\n",
      " 98%|█████████▊| 39/40 [00:43<00:01,  1.14s/it]\u001b[A\n",
      "100%|██████████| 40/40 [00:43<00:00,  1.09s/it]\u001b[A\n",
      "C:\\Users\\laraquij\\Anaconda3\\envs\\tfg_dani\\lib\\site-packages\\torchvision\\models\\_utils.py:209: UserWarning: The parameter 'pretrained' is deprecated since 0.13 and may be removed in the future, please use 'weights' instead.\n",
      "  f\"The parameter '{pretrained_param}' is deprecated since 0.13 and may be removed in the future, \"\n",
      "C:\\Users\\laraquij\\Anaconda3\\envs\\tfg_dani\\lib\\site-packages\\torchvision\\models\\_utils.py:223: UserWarning: Arguments other than a weight enum or `None` for 'weights' are deprecated since 0.13 and may be removed in the future. The current behavior is equivalent to passing `weights=ResNet50_Weights.IMAGENET1K_V1`. You can also use `weights=ResNet50_Weights.DEFAULT` to get the most up-to-date weights.\n",
      "  warnings.warn(msg)\n"
     ]
    },
    {
     "name": "stdout",
     "output_type": "stream",
     "text": [
      "------------fold nº 0----------------------\n"
     ]
    },
    {
     "name": "stderr",
     "output_type": "stream",
     "text": [
      "GPU available: True (cuda), used: True\n",
      "TPU available: False, using: 0 TPU cores\n",
      "IPU available: False, using: 0 IPUs\n",
      "HPU available: False, using: 0 HPUs\n",
      "LOCAL_RANK: 0 - CUDA_VISIBLE_DEVICES: [0]\n",
      "\n",
      "  | Name      | Type           | Params\n",
      "---------------------------------------------\n",
      "0 | accuracy  | BinaryAccuracy | 0     \n",
      "1 | f1score   | BinaryF1Score  | 0     \n",
      "2 | model     | ResNet         | 23.5 M\n",
      "3 | fuzzyloss | FuzzyLoss      | 0     \n",
      "---------------------------------------------\n",
      "4.1 K     Trainable params\n",
      "23.5 M    Non-trainable params\n",
      "23.5 M    Total params\n",
      "94.049    Total estimated model params size (MB)\n",
      "C:\\Users\\laraquij\\Anaconda3\\envs\\tfg_dani\\lib\\site-packages\\pytorch_lightning\\trainer\\connectors\\data_connector.py:229: PossibleUserWarning: The dataloader, train_dataloader, does not have many workers which may be a bottleneck. Consider increasing the value of the `num_workers` argument` (try 8 which is the number of cpus on this machine) in the `DataLoader` init to improve performance.\n",
      "  category=PossibleUserWarning,\n"
     ]
    },
    {
     "name": "stdout",
     "output_type": "stream",
     "text": [
      "Epoch 24: 100%|██████████| 158/158 [00:55<00:00,  2.85it/s, loss=0.24, v_num=197]  "
     ]
    },
    {
     "name": "stderr",
     "output_type": "stream",
     "text": [
      "`Trainer.fit` stopped: `max_epochs=25` reached.\n"
     ]
    },
    {
     "name": "stdout",
     "output_type": "stream",
     "text": [
      "Epoch 24: 100%|██████████| 158/158 [00:55<00:00,  2.82it/s, loss=0.24, v_num=197]\n"
     ]
    },
    {
     "name": "stderr",
     "output_type": "stream",
     "text": [
      "\n",
      "  0%|          | 0/40 [00:00<?, ?it/s]\u001b[A\n",
      "  2%|▎         | 1/40 [00:01<00:43,  1.11s/it]\u001b[A\n",
      "  5%|▌         | 2/40 [00:02<00:42,  1.13s/it]\u001b[A\n",
      "  8%|▊         | 3/40 [00:03<00:41,  1.11s/it]\u001b[A\n",
      " 10%|█         | 4/40 [00:04<00:41,  1.15s/it]\u001b[A\n",
      " 12%|█▎        | 5/40 [00:05<00:39,  1.13s/it]\u001b[A\n",
      " 15%|█▌        | 6/40 [00:06<00:38,  1.15s/it]\u001b[A\n",
      " 18%|█▊        | 7/40 [00:07<00:37,  1.14s/it]\u001b[A\n",
      " 20%|██        | 8/40 [00:09<00:36,  1.15s/it]\u001b[A\n",
      " 22%|██▎       | 9/40 [00:10<00:35,  1.13s/it]\u001b[A\n",
      " 25%|██▌       | 10/40 [00:11<00:33,  1.13s/it]\u001b[A\n",
      " 28%|██▊       | 11/40 [00:12<00:32,  1.12s/it]\u001b[A\n",
      " 30%|███       | 12/40 [00:13<00:31,  1.13s/it]\u001b[A\n",
      " 32%|███▎      | 13/40 [00:14<00:30,  1.13s/it]\u001b[A\n",
      " 35%|███▌      | 14/40 [00:15<00:29,  1.13s/it]\u001b[A\n",
      " 38%|███▊      | 15/40 [00:16<00:27,  1.12s/it]\u001b[A\n",
      " 40%|████      | 16/40 [00:18<00:26,  1.10s/it]\u001b[A\n",
      " 42%|████▎     | 17/40 [00:19<00:25,  1.10s/it]\u001b[A\n",
      " 45%|████▌     | 18/40 [00:20<00:24,  1.10s/it]\u001b[A\n",
      " 48%|████▊     | 19/40 [00:21<00:23,  1.11s/it]\u001b[A\n",
      " 50%|█████     | 20/40 [00:22<00:22,  1.10s/it]\u001b[A\n",
      " 52%|█████▎    | 21/40 [00:23<00:20,  1.10s/it]\u001b[A\n",
      " 55%|█████▌    | 22/40 [00:24<00:19,  1.11s/it]\u001b[A\n",
      " 57%|█████▊    | 23/40 [00:25<00:19,  1.12s/it]\u001b[A\n",
      " 60%|██████    | 24/40 [00:26<00:17,  1.11s/it]\u001b[A\n",
      " 62%|██████▎   | 25/40 [00:28<00:16,  1.12s/it]\u001b[A\n",
      " 65%|██████▌   | 26/40 [00:29<00:15,  1.11s/it]\u001b[A\n",
      " 68%|██████▊   | 27/40 [00:30<00:14,  1.11s/it]\u001b[A\n",
      " 70%|███████   | 28/40 [00:31<00:13,  1.13s/it]\u001b[A\n",
      " 72%|███████▎  | 29/40 [00:32<00:12,  1.13s/it]\u001b[A\n",
      " 75%|███████▌  | 30/40 [00:33<00:11,  1.13s/it]\u001b[A\n",
      " 78%|███████▊  | 31/40 [00:34<00:10,  1.12s/it]\u001b[A\n",
      " 80%|████████  | 32/40 [00:35<00:08,  1.12s/it]\u001b[A\n",
      " 82%|████████▎ | 33/40 [00:37<00:07,  1.12s/it]\u001b[A\n",
      " 85%|████████▌ | 34/40 [00:38<00:06,  1.14s/it]\u001b[A\n",
      " 88%|████████▊ | 35/40 [00:39<00:05,  1.13s/it]\u001b[A\n",
      " 90%|█████████ | 36/40 [00:40<00:04,  1.14s/it]\u001b[A\n",
      " 92%|█████████▎| 37/40 [00:41<00:03,  1.11s/it]\u001b[A\n",
      " 95%|█████████▌| 38/40 [00:42<00:02,  1.10s/it]\u001b[A\n",
      " 98%|█████████▊| 39/40 [00:43<00:01,  1.09s/it]\u001b[A\n",
      "100%|██████████| 40/40 [00:44<00:00,  1.10s/it]\u001b[A\n",
      "C:\\Users\\laraquij\\Anaconda3\\envs\\tfg_dani\\lib\\site-packages\\torchvision\\models\\_utils.py:209: UserWarning: The parameter 'pretrained' is deprecated since 0.13 and may be removed in the future, please use 'weights' instead.\n",
      "  f\"The parameter '{pretrained_param}' is deprecated since 0.13 and may be removed in the future, \"\n",
      "C:\\Users\\laraquij\\Anaconda3\\envs\\tfg_dani\\lib\\site-packages\\torchvision\\models\\_utils.py:223: UserWarning: Arguments other than a weight enum or `None` for 'weights' are deprecated since 0.13 and may be removed in the future. The current behavior is equivalent to passing `weights=ResNet50_Weights.IMAGENET1K_V1`. You can also use `weights=ResNet50_Weights.DEFAULT` to get the most up-to-date weights.\n",
      "  warnings.warn(msg)\n"
     ]
    },
    {
     "name": "stdout",
     "output_type": "stream",
     "text": [
      "------------fold nº 1----------------------\n"
     ]
    },
    {
     "name": "stderr",
     "output_type": "stream",
     "text": [
      "GPU available: True (cuda), used: True\n",
      "TPU available: False, using: 0 TPU cores\n",
      "IPU available: False, using: 0 IPUs\n",
      "HPU available: False, using: 0 HPUs\n",
      "LOCAL_RANK: 0 - CUDA_VISIBLE_DEVICES: [0]\n",
      "\n",
      "  | Name      | Type           | Params\n",
      "---------------------------------------------\n",
      "0 | accuracy  | BinaryAccuracy | 0     \n",
      "1 | f1score   | BinaryF1Score  | 0     \n",
      "2 | model     | ResNet         | 23.5 M\n",
      "3 | fuzzyloss | FuzzyLoss      | 0     \n",
      "---------------------------------------------\n",
      "4.1 K     Trainable params\n",
      "23.5 M    Non-trainable params\n",
      "23.5 M    Total params\n",
      "94.049    Total estimated model params size (MB)\n",
      "C:\\Users\\laraquij\\Anaconda3\\envs\\tfg_dani\\lib\\site-packages\\pytorch_lightning\\trainer\\connectors\\data_connector.py:229: PossibleUserWarning: The dataloader, train_dataloader, does not have many workers which may be a bottleneck. Consider increasing the value of the `num_workers` argument` (try 8 which is the number of cpus on this machine) in the `DataLoader` init to improve performance.\n",
      "  category=PossibleUserWarning,\n"
     ]
    },
    {
     "name": "stdout",
     "output_type": "stream",
     "text": [
      "Epoch 24: 100%|██████████| 158/158 [00:55<00:00,  2.84it/s, loss=0.262, v_num=198] "
     ]
    },
    {
     "name": "stderr",
     "output_type": "stream",
     "text": [
      "`Trainer.fit` stopped: `max_epochs=25` reached.\n"
     ]
    },
    {
     "name": "stdout",
     "output_type": "stream",
     "text": [
      "Epoch 24: 100%|██████████| 158/158 [00:56<00:00,  2.82it/s, loss=0.262, v_num=198]\n"
     ]
    },
    {
     "name": "stderr",
     "output_type": "stream",
     "text": [
      "\n",
      "  0%|          | 0/40 [00:00<?, ?it/s]\u001b[A\n",
      "  2%|▎         | 1/40 [00:01<00:42,  1.10s/it]\u001b[A\n",
      "  5%|▌         | 2/40 [00:02<00:43,  1.14s/it]\u001b[A\n",
      "  8%|▊         | 3/40 [00:03<00:42,  1.14s/it]\u001b[A\n",
      " 10%|█         | 4/40 [00:04<00:40,  1.13s/it]\u001b[A\n",
      " 12%|█▎        | 5/40 [00:05<00:39,  1.12s/it]\u001b[A\n",
      " 15%|█▌        | 6/40 [00:06<00:38,  1.12s/it]\u001b[A\n",
      " 18%|█▊        | 7/40 [00:07<00:37,  1.14s/it]\u001b[A\n",
      " 20%|██        | 8/40 [00:08<00:35,  1.11s/it]\u001b[A\n",
      " 22%|██▎       | 9/40 [00:10<00:34,  1.12s/it]\u001b[A\n",
      " 25%|██▌       | 10/40 [00:11<00:34,  1.14s/it]\u001b[A\n",
      " 28%|██▊       | 11/40 [00:12<00:32,  1.13s/it]\u001b[A\n",
      " 30%|███       | 12/40 [00:13<00:31,  1.13s/it]\u001b[A\n",
      " 32%|███▎      | 13/40 [00:14<00:30,  1.13s/it]\u001b[A\n",
      " 35%|███▌      | 14/40 [00:15<00:29,  1.12s/it]\u001b[A\n",
      " 38%|███▊      | 15/40 [00:16<00:28,  1.12s/it]\u001b[A\n",
      " 40%|████      | 16/40 [00:18<00:27,  1.13s/it]\u001b[A\n",
      " 42%|████▎     | 17/40 [00:19<00:26,  1.15s/it]\u001b[A\n",
      " 45%|████▌     | 18/40 [00:20<00:25,  1.16s/it]\u001b[A\n",
      " 48%|████▊     | 19/40 [00:21<00:23,  1.13s/it]\u001b[A\n",
      " 50%|█████     | 20/40 [00:22<00:22,  1.12s/it]\u001b[A\n",
      " 52%|█████▎    | 21/40 [00:23<00:21,  1.13s/it]\u001b[A\n",
      " 55%|█████▌    | 22/40 [00:24<00:20,  1.14s/it]\u001b[A\n",
      " 57%|█████▊    | 23/40 [00:26<00:19,  1.13s/it]\u001b[A\n",
      " 60%|██████    | 24/40 [00:27<00:18,  1.13s/it]\u001b[A\n",
      " 62%|██████▎   | 25/40 [00:28<00:17,  1.14s/it]\u001b[A\n",
      " 65%|██████▌   | 26/40 [00:29<00:16,  1.15s/it]\u001b[A\n",
      " 68%|██████▊   | 27/40 [00:30<00:14,  1.13s/it]\u001b[A\n",
      " 70%|███████   | 28/40 [00:31<00:13,  1.13s/it]\u001b[A\n",
      " 72%|███████▎  | 29/40 [00:32<00:12,  1.12s/it]\u001b[A\n",
      " 75%|███████▌  | 30/40 [00:33<00:11,  1.13s/it]\u001b[A\n",
      " 78%|███████▊  | 31/40 [00:35<00:10,  1.12s/it]\u001b[A\n",
      " 80%|████████  | 32/40 [00:36<00:08,  1.12s/it]\u001b[A\n",
      " 82%|████████▎ | 33/40 [00:37<00:07,  1.11s/it]\u001b[A\n",
      " 85%|████████▌ | 34/40 [00:38<00:06,  1.11s/it]\u001b[A\n",
      " 88%|████████▊ | 35/40 [00:39<00:05,  1.11s/it]\u001b[A\n",
      " 90%|█████████ | 36/40 [00:40<00:04,  1.11s/it]\u001b[A\n",
      " 92%|█████████▎| 37/40 [00:41<00:03,  1.12s/it]\u001b[A\n",
      " 95%|█████████▌| 38/40 [00:42<00:02,  1.11s/it]\u001b[A\n",
      " 98%|█████████▊| 39/40 [00:43<00:01,  1.11s/it]\u001b[A\n",
      "100%|██████████| 40/40 [00:44<00:00,  1.11s/it]\u001b[A\n",
      "C:\\Users\\laraquij\\Anaconda3\\envs\\tfg_dani\\lib\\site-packages\\torchvision\\models\\_utils.py:209: UserWarning: The parameter 'pretrained' is deprecated since 0.13 and may be removed in the future, please use 'weights' instead.\n",
      "  f\"The parameter '{pretrained_param}' is deprecated since 0.13 and may be removed in the future, \"\n",
      "C:\\Users\\laraquij\\Anaconda3\\envs\\tfg_dani\\lib\\site-packages\\torchvision\\models\\_utils.py:223: UserWarning: Arguments other than a weight enum or `None` for 'weights' are deprecated since 0.13 and may be removed in the future. The current behavior is equivalent to passing `weights=ResNet50_Weights.IMAGENET1K_V1`. You can also use `weights=ResNet50_Weights.DEFAULT` to get the most up-to-date weights.\n",
      "  warnings.warn(msg)\n"
     ]
    },
    {
     "name": "stdout",
     "output_type": "stream",
     "text": [
      "------------fold nº 2----------------------\n"
     ]
    },
    {
     "name": "stderr",
     "output_type": "stream",
     "text": [
      "GPU available: True (cuda), used: True\n",
      "TPU available: False, using: 0 TPU cores\n",
      "IPU available: False, using: 0 IPUs\n",
      "HPU available: False, using: 0 HPUs\n",
      "LOCAL_RANK: 0 - CUDA_VISIBLE_DEVICES: [0]\n",
      "\n",
      "  | Name      | Type           | Params\n",
      "---------------------------------------------\n",
      "0 | accuracy  | BinaryAccuracy | 0     \n",
      "1 | f1score   | BinaryF1Score  | 0     \n",
      "2 | model     | ResNet         | 23.5 M\n",
      "3 | fuzzyloss | FuzzyLoss      | 0     \n",
      "---------------------------------------------\n",
      "4.1 K     Trainable params\n",
      "23.5 M    Non-trainable params\n",
      "23.5 M    Total params\n",
      "94.049    Total estimated model params size (MB)\n",
      "C:\\Users\\laraquij\\Anaconda3\\envs\\tfg_dani\\lib\\site-packages\\pytorch_lightning\\trainer\\connectors\\data_connector.py:229: PossibleUserWarning: The dataloader, train_dataloader, does not have many workers which may be a bottleneck. Consider increasing the value of the `num_workers` argument` (try 8 which is the number of cpus on this machine) in the `DataLoader` init to improve performance.\n",
      "  category=PossibleUserWarning,\n"
     ]
    },
    {
     "name": "stdout",
     "output_type": "stream",
     "text": [
      "Epoch 24: 100%|██████████| 158/158 [00:55<00:00,  2.84it/s, loss=0.0741, v_num=199]"
     ]
    },
    {
     "name": "stderr",
     "output_type": "stream",
     "text": [
      "`Trainer.fit` stopped: `max_epochs=25` reached.\n"
     ]
    },
    {
     "name": "stdout",
     "output_type": "stream",
     "text": [
      "Epoch 24: 100%|██████████| 158/158 [00:56<00:00,  2.82it/s, loss=0.0741, v_num=199]\n"
     ]
    },
    {
     "name": "stderr",
     "output_type": "stream",
     "text": [
      "\n",
      "  0%|          | 0/40 [00:00<?, ?it/s]\u001b[A\n",
      "  2%|▎         | 1/40 [00:01<00:43,  1.11s/it]\u001b[A\n",
      "  5%|▌         | 2/40 [00:02<00:42,  1.13s/it]\u001b[A\n",
      "  8%|▊         | 3/40 [00:03<00:42,  1.14s/it]\u001b[A\n",
      " 10%|█         | 4/40 [00:04<00:41,  1.15s/it]\u001b[A\n",
      " 12%|█▎        | 5/40 [00:05<00:39,  1.14s/it]\u001b[A\n",
      " 15%|█▌        | 6/40 [00:06<00:38,  1.14s/it]\u001b[A\n",
      " 18%|█▊        | 7/40 [00:07<00:37,  1.13s/it]\u001b[A\n",
      " 20%|██        | 8/40 [00:09<00:35,  1.12s/it]\u001b[A\n",
      " 22%|██▎       | 9/40 [00:10<00:34,  1.12s/it]\u001b[A\n",
      " 25%|██▌       | 10/40 [00:11<00:33,  1.13s/it]\u001b[A\n",
      " 28%|██▊       | 11/40 [00:12<00:33,  1.14s/it]\u001b[A\n",
      " 30%|███       | 12/40 [00:13<00:31,  1.11s/it]\u001b[A\n",
      " 32%|███▎      | 13/40 [00:14<00:29,  1.10s/it]\u001b[A\n",
      " 35%|███▌      | 14/40 [00:15<00:28,  1.08s/it]\u001b[A\n",
      " 38%|███▊      | 15/40 [00:16<00:27,  1.09s/it]\u001b[A\n",
      " 40%|████      | 16/40 [00:17<00:26,  1.09s/it]\u001b[A\n",
      " 42%|████▎     | 17/40 [00:18<00:25,  1.10s/it]\u001b[A\n",
      " 45%|████▌     | 18/40 [00:20<00:24,  1.10s/it]\u001b[A\n",
      " 48%|████▊     | 19/40 [00:21<00:23,  1.12s/it]\u001b[A\n",
      " 50%|█████     | 20/40 [00:22<00:22,  1.13s/it]\u001b[A\n",
      " 52%|█████▎    | 21/40 [00:23<00:21,  1.11s/it]\u001b[A\n",
      " 55%|█████▌    | 22/40 [00:24<00:19,  1.11s/it]\u001b[A\n",
      " 57%|█████▊    | 23/40 [00:25<00:18,  1.09s/it]\u001b[A\n",
      " 60%|██████    | 24/40 [00:26<00:17,  1.08s/it]\u001b[A\n",
      " 62%|██████▎   | 25/40 [00:27<00:16,  1.09s/it]\u001b[A\n",
      " 65%|██████▌   | 26/40 [00:28<00:15,  1.10s/it]\u001b[A\n",
      " 68%|██████▊   | 27/40 [00:30<00:14,  1.11s/it]\u001b[A\n",
      " 70%|███████   | 28/40 [00:31<00:13,  1.12s/it]\u001b[A\n",
      " 72%|███████▎  | 29/40 [00:32<00:12,  1.13s/it]\u001b[A\n",
      " 75%|███████▌  | 30/40 [00:33<00:11,  1.13s/it]\u001b[A\n",
      " 78%|███████▊  | 31/40 [00:34<00:10,  1.13s/it]\u001b[A\n",
      " 80%|████████  | 32/40 [00:35<00:09,  1.14s/it]\u001b[A\n",
      " 82%|████████▎ | 33/40 [00:36<00:07,  1.14s/it]\u001b[A\n",
      " 85%|████████▌ | 34/40 [00:37<00:06,  1.12s/it]\u001b[A\n",
      " 88%|████████▊ | 35/40 [00:39<00:05,  1.13s/it]\u001b[A\n",
      " 90%|█████████ | 36/40 [00:40<00:04,  1.14s/it]\u001b[A\n",
      " 92%|█████████▎| 37/40 [00:41<00:03,  1.12s/it]\u001b[A\n",
      " 95%|█████████▌| 38/40 [00:42<00:02,  1.13s/it]\u001b[A\n",
      " 98%|█████████▊| 39/40 [00:43<00:01,  1.13s/it]\u001b[A\n",
      "100%|██████████| 40/40 [00:43<00:00,  1.10s/it]\u001b[A\n",
      "C:\\Users\\laraquij\\Anaconda3\\envs\\tfg_dani\\lib\\site-packages\\torchvision\\models\\_utils.py:209: UserWarning: The parameter 'pretrained' is deprecated since 0.13 and may be removed in the future, please use 'weights' instead.\n",
      "  f\"The parameter '{pretrained_param}' is deprecated since 0.13 and may be removed in the future, \"\n",
      "C:\\Users\\laraquij\\Anaconda3\\envs\\tfg_dani\\lib\\site-packages\\torchvision\\models\\_utils.py:223: UserWarning: Arguments other than a weight enum or `None` for 'weights' are deprecated since 0.13 and may be removed in the future. The current behavior is equivalent to passing `weights=ResNet50_Weights.IMAGENET1K_V1`. You can also use `weights=ResNet50_Weights.DEFAULT` to get the most up-to-date weights.\n",
      "  warnings.warn(msg)\n"
     ]
    },
    {
     "name": "stdout",
     "output_type": "stream",
     "text": [
      "------------fold nº 3----------------------\n"
     ]
    },
    {
     "name": "stderr",
     "output_type": "stream",
     "text": [
      "GPU available: True (cuda), used: True\n",
      "TPU available: False, using: 0 TPU cores\n",
      "IPU available: False, using: 0 IPUs\n",
      "HPU available: False, using: 0 HPUs\n",
      "LOCAL_RANK: 0 - CUDA_VISIBLE_DEVICES: [0]\n",
      "\n",
      "  | Name      | Type           | Params\n",
      "---------------------------------------------\n",
      "0 | accuracy  | BinaryAccuracy | 0     \n",
      "1 | f1score   | BinaryF1Score  | 0     \n",
      "2 | model     | ResNet         | 23.5 M\n",
      "3 | fuzzyloss | FuzzyLoss      | 0     \n",
      "---------------------------------------------\n",
      "4.1 K     Trainable params\n",
      "23.5 M    Non-trainable params\n",
      "23.5 M    Total params\n",
      "94.049    Total estimated model params size (MB)\n",
      "C:\\Users\\laraquij\\Anaconda3\\envs\\tfg_dani\\lib\\site-packages\\pytorch_lightning\\trainer\\connectors\\data_connector.py:229: PossibleUserWarning: The dataloader, train_dataloader, does not have many workers which may be a bottleneck. Consider increasing the value of the `num_workers` argument` (try 8 which is the number of cpus on this machine) in the `DataLoader` init to improve performance.\n",
      "  category=PossibleUserWarning,\n"
     ]
    },
    {
     "name": "stdout",
     "output_type": "stream",
     "text": [
      "Epoch 24: 100%|██████████| 158/158 [00:55<00:00,  2.83it/s, loss=0.299, v_num=200] "
     ]
    },
    {
     "name": "stderr",
     "output_type": "stream",
     "text": [
      "`Trainer.fit` stopped: `max_epochs=25` reached.\n"
     ]
    },
    {
     "name": "stdout",
     "output_type": "stream",
     "text": [
      "Epoch 24: 100%|██████████| 158/158 [00:56<00:00,  2.81it/s, loss=0.299, v_num=200]\n"
     ]
    },
    {
     "name": "stderr",
     "output_type": "stream",
     "text": [
      "\n",
      "  0%|          | 0/40 [00:00<?, ?it/s]\u001b[A\n",
      "  2%|▎         | 1/40 [00:01<00:42,  1.09s/it]\u001b[A\n",
      "  5%|▌         | 2/40 [00:02<00:40,  1.08s/it]\u001b[A\n",
      "  8%|▊         | 3/40 [00:03<00:40,  1.10s/it]\u001b[A\n",
      " 10%|█         | 4/40 [00:04<00:40,  1.13s/it]\u001b[A\n",
      " 12%|█▎        | 5/40 [00:05<00:39,  1.13s/it]\u001b[A\n",
      " 15%|█▌        | 6/40 [00:06<00:39,  1.16s/it]\u001b[A\n",
      " 18%|█▊        | 7/40 [00:08<00:38,  1.17s/it]\u001b[A\n",
      " 20%|██        | 8/40 [00:09<00:36,  1.16s/it]\u001b[A\n",
      " 22%|██▎       | 9/40 [00:10<00:36,  1.16s/it]\u001b[A\n",
      " 25%|██▌       | 10/40 [00:11<00:34,  1.16s/it]\u001b[A\n",
      " 28%|██▊       | 11/40 [00:12<00:33,  1.17s/it]\u001b[A\n",
      " 30%|███       | 12/40 [00:13<00:32,  1.17s/it]\u001b[A\n",
      " 32%|███▎      | 13/40 [00:14<00:31,  1.15s/it]\u001b[A\n",
      " 35%|███▌      | 14/40 [00:16<00:30,  1.16s/it]\u001b[A\n",
      " 38%|███▊      | 15/40 [00:17<00:28,  1.14s/it]\u001b[A\n",
      " 40%|████      | 16/40 [00:18<00:27,  1.14s/it]\u001b[A\n",
      " 42%|████▎     | 17/40 [00:19<00:26,  1.14s/it]\u001b[A\n",
      " 45%|████▌     | 18/40 [00:20<00:25,  1.14s/it]\u001b[A\n",
      " 48%|████▊     | 19/40 [00:21<00:24,  1.15s/it]\u001b[A\n",
      " 50%|█████     | 20/40 [00:22<00:22,  1.13s/it]\u001b[A\n",
      " 52%|█████▎    | 21/40 [00:23<00:21,  1.12s/it]\u001b[A\n",
      " 55%|█████▌    | 22/40 [00:25<00:20,  1.15s/it]\u001b[A\n",
      " 57%|█████▊    | 23/40 [00:26<00:19,  1.13s/it]\u001b[A\n",
      " 60%|██████    | 24/40 [00:27<00:18,  1.14s/it]\u001b[A\n",
      " 62%|██████▎   | 25/40 [00:28<00:17,  1.15s/it]\u001b[A\n",
      " 65%|██████▌   | 26/40 [00:29<00:15,  1.14s/it]\u001b[A\n",
      " 68%|██████▊   | 27/40 [00:30<00:14,  1.13s/it]\u001b[A\n",
      " 70%|███████   | 28/40 [00:32<00:13,  1.14s/it]\u001b[A\n",
      " 72%|███████▎  | 29/40 [00:33<00:12,  1.13s/it]\u001b[A\n",
      " 75%|███████▌  | 30/40 [00:34<00:11,  1.12s/it]\u001b[A\n",
      " 78%|███████▊  | 31/40 [00:35<00:10,  1.12s/it]\u001b[A\n",
      " 80%|████████  | 32/40 [00:36<00:09,  1.13s/it]\u001b[A\n",
      " 82%|████████▎ | 33/40 [00:37<00:07,  1.13s/it]\u001b[A\n",
      " 85%|████████▌ | 34/40 [00:38<00:06,  1.14s/it]\u001b[A\n",
      " 88%|████████▊ | 35/40 [00:39<00:05,  1.13s/it]\u001b[A\n",
      " 90%|█████████ | 36/40 [00:40<00:04,  1.12s/it]\u001b[A\n",
      " 92%|█████████▎| 37/40 [00:42<00:03,  1.11s/it]\u001b[A\n",
      " 95%|█████████▌| 38/40 [00:43<00:02,  1.12s/it]\u001b[A\n",
      " 98%|█████████▊| 39/40 [00:44<00:01,  1.13s/it]\u001b[A\n",
      "100%|██████████| 40/40 [00:44<00:00,  1.12s/it]\u001b[A\n",
      "C:\\Users\\laraquij\\Anaconda3\\envs\\tfg_dani\\lib\\site-packages\\torchvision\\models\\_utils.py:209: UserWarning: The parameter 'pretrained' is deprecated since 0.13 and may be removed in the future, please use 'weights' instead.\n",
      "  f\"The parameter '{pretrained_param}' is deprecated since 0.13 and may be removed in the future, \"\n",
      "C:\\Users\\laraquij\\Anaconda3\\envs\\tfg_dani\\lib\\site-packages\\torchvision\\models\\_utils.py:223: UserWarning: Arguments other than a weight enum or `None` for 'weights' are deprecated since 0.13 and may be removed in the future. The current behavior is equivalent to passing `weights=ResNet50_Weights.IMAGENET1K_V1`. You can also use `weights=ResNet50_Weights.DEFAULT` to get the most up-to-date weights.\n",
      "  warnings.warn(msg)\n"
     ]
    },
    {
     "name": "stdout",
     "output_type": "stream",
     "text": [
      "------------fold nº 4----------------------\n"
     ]
    },
    {
     "name": "stderr",
     "output_type": "stream",
     "text": [
      "GPU available: True (cuda), used: True\n",
      "TPU available: False, using: 0 TPU cores\n",
      "IPU available: False, using: 0 IPUs\n",
      "HPU available: False, using: 0 HPUs\n",
      "LOCAL_RANK: 0 - CUDA_VISIBLE_DEVICES: [0]\n",
      "\n",
      "  | Name      | Type           | Params\n",
      "---------------------------------------------\n",
      "0 | accuracy  | BinaryAccuracy | 0     \n",
      "1 | f1score   | BinaryF1Score  | 0     \n",
      "2 | model     | ResNet         | 23.5 M\n",
      "3 | fuzzyloss | FuzzyLoss      | 0     \n",
      "---------------------------------------------\n",
      "4.1 K     Trainable params\n",
      "23.5 M    Non-trainable params\n",
      "23.5 M    Total params\n",
      "94.049    Total estimated model params size (MB)\n",
      "C:\\Users\\laraquij\\Anaconda3\\envs\\tfg_dani\\lib\\site-packages\\pytorch_lightning\\trainer\\connectors\\data_connector.py:229: PossibleUserWarning: The dataloader, train_dataloader, does not have many workers which may be a bottleneck. Consider increasing the value of the `num_workers` argument` (try 8 which is the number of cpus on this machine) in the `DataLoader` init to improve performance.\n",
      "  category=PossibleUserWarning,\n"
     ]
    },
    {
     "name": "stdout",
     "output_type": "stream",
     "text": [
      "Epoch 24: 100%|██████████| 158/158 [00:55<00:00,  2.83it/s, loss=0.0356, v_num=201]"
     ]
    },
    {
     "name": "stderr",
     "output_type": "stream",
     "text": [
      "`Trainer.fit` stopped: `max_epochs=25` reached.\n"
     ]
    },
    {
     "name": "stdout",
     "output_type": "stream",
     "text": [
      "Epoch 24: 100%|██████████| 158/158 [00:56<00:00,  2.80it/s, loss=0.0356, v_num=201]\n"
     ]
    },
    {
     "name": "stderr",
     "output_type": "stream",
     "text": [
      "\n",
      "  0%|          | 0/40 [00:00<?, ?it/s]\u001b[A\n",
      "  2%|▎         | 1/40 [00:01<00:43,  1.11s/it]\u001b[A\n",
      "  5%|▌         | 2/40 [00:02<00:41,  1.10s/it]\u001b[A\n",
      "  8%|▊         | 3/40 [00:03<00:40,  1.09s/it]\u001b[A\n",
      " 10%|█         | 4/40 [00:04<00:39,  1.11s/it]\u001b[A\n",
      " 12%|█▎        | 5/40 [00:05<00:38,  1.10s/it]\u001b[A\n",
      " 15%|█▌        | 6/40 [00:06<00:37,  1.09s/it]\u001b[A\n",
      " 18%|█▊        | 7/40 [00:07<00:35,  1.07s/it]\u001b[A\n",
      " 20%|██        | 8/40 [00:08<00:35,  1.10s/it]\u001b[A\n",
      " 22%|██▎       | 9/40 [00:09<00:33,  1.10s/it]\u001b[A\n",
      " 25%|██▌       | 10/40 [00:11<00:33,  1.12s/it]\u001b[A\n",
      " 28%|██▊       | 11/40 [00:12<00:32,  1.14s/it]\u001b[A\n",
      " 30%|███       | 12/40 [00:13<00:32,  1.16s/it]\u001b[A\n",
      " 32%|███▎      | 13/40 [00:14<00:30,  1.15s/it]\u001b[A\n",
      " 35%|███▌      | 14/40 [00:15<00:29,  1.13s/it]\u001b[A\n",
      " 38%|███▊      | 15/40 [00:16<00:28,  1.12s/it]\u001b[A\n",
      " 40%|████      | 16/40 [00:17<00:26,  1.12s/it]\u001b[A\n",
      " 42%|████▎     | 17/40 [00:18<00:25,  1.11s/it]\u001b[A\n",
      " 45%|████▌     | 18/40 [00:19<00:23,  1.08s/it]\u001b[A\n",
      " 48%|████▊     | 19/40 [00:21<00:23,  1.10s/it]\u001b[A\n",
      " 50%|█████     | 20/40 [00:22<00:22,  1.10s/it]\u001b[A\n",
      " 52%|█████▎    | 21/40 [00:23<00:20,  1.10s/it]\u001b[A\n",
      " 55%|█████▌    | 22/40 [00:24<00:19,  1.10s/it]\u001b[A\n",
      " 57%|█████▊    | 23/40 [00:25<00:18,  1.10s/it]\u001b[A\n",
      " 60%|██████    | 24/40 [00:26<00:17,  1.10s/it]\u001b[A\n",
      " 62%|██████▎   | 25/40 [00:27<00:16,  1.11s/it]\u001b[A\n",
      " 65%|██████▌   | 26/40 [00:28<00:15,  1.09s/it]\u001b[A\n",
      " 68%|██████▊   | 27/40 [00:29<00:14,  1.08s/it]\u001b[A\n",
      " 70%|███████   | 28/40 [00:30<00:12,  1.07s/it]\u001b[A\n",
      " 72%|███████▎  | 29/40 [00:32<00:11,  1.09s/it]\u001b[A\n",
      " 75%|███████▌  | 30/40 [00:33<00:10,  1.10s/it]\u001b[A\n",
      " 78%|███████▊  | 31/40 [00:34<00:10,  1.11s/it]\u001b[A\n",
      " 80%|████████  | 32/40 [00:35<00:08,  1.11s/it]\u001b[A\n",
      " 82%|████████▎ | 33/40 [00:36<00:07,  1.12s/it]\u001b[A\n",
      " 85%|████████▌ | 34/40 [00:37<00:06,  1.12s/it]\u001b[A\n",
      " 88%|████████▊ | 35/40 [00:38<00:05,  1.12s/it]\u001b[A\n",
      " 90%|█████████ | 36/40 [00:39<00:04,  1.12s/it]\u001b[A\n",
      " 92%|█████████▎| 37/40 [00:40<00:03,  1.11s/it]\u001b[A\n",
      " 95%|█████████▌| 38/40 [00:42<00:02,  1.11s/it]\u001b[A\n",
      " 98%|█████████▊| 39/40 [00:43<00:01,  1.12s/it]\u001b[A\n",
      "100%|██████████| 40/40 [00:43<00:00,  1.09s/it]\u001b[A\n",
      "C:\\Users\\laraquij\\Anaconda3\\envs\\tfg_dani\\lib\\site-packages\\torchvision\\models\\_utils.py:209: UserWarning: The parameter 'pretrained' is deprecated since 0.13 and may be removed in the future, please use 'weights' instead.\n",
      "  f\"The parameter '{pretrained_param}' is deprecated since 0.13 and may be removed in the future, \"\n",
      "C:\\Users\\laraquij\\Anaconda3\\envs\\tfg_dani\\lib\\site-packages\\torchvision\\models\\_utils.py:223: UserWarning: Arguments other than a weight enum or `None` for 'weights' are deprecated since 0.13 and may be removed in the future. The current behavior is equivalent to passing `weights=ResNet50_Weights.IMAGENET1K_V1`. You can also use `weights=ResNet50_Weights.DEFAULT` to get the most up-to-date weights.\n",
      "  warnings.warn(msg)\n"
     ]
    },
    {
     "name": "stdout",
     "output_type": "stream",
     "text": [
      "------------fold nº 0----------------------\n"
     ]
    },
    {
     "name": "stderr",
     "output_type": "stream",
     "text": [
      "GPU available: True (cuda), used: True\n",
      "TPU available: False, using: 0 TPU cores\n",
      "IPU available: False, using: 0 IPUs\n",
      "HPU available: False, using: 0 HPUs\n",
      "LOCAL_RANK: 0 - CUDA_VISIBLE_DEVICES: [0]\n",
      "\n",
      "  | Name      | Type           | Params\n",
      "---------------------------------------------\n",
      "0 | accuracy  | BinaryAccuracy | 0     \n",
      "1 | f1score   | BinaryF1Score  | 0     \n",
      "2 | model     | ResNet         | 23.5 M\n",
      "3 | fuzzyloss | FuzzyLoss      | 0     \n",
      "---------------------------------------------\n",
      "4.1 K     Trainable params\n",
      "23.5 M    Non-trainable params\n",
      "23.5 M    Total params\n",
      "94.049    Total estimated model params size (MB)\n",
      "C:\\Users\\laraquij\\Anaconda3\\envs\\tfg_dani\\lib\\site-packages\\pytorch_lightning\\trainer\\connectors\\data_connector.py:229: PossibleUserWarning: The dataloader, train_dataloader, does not have many workers which may be a bottleneck. Consider increasing the value of the `num_workers` argument` (try 8 which is the number of cpus on this machine) in the `DataLoader` init to improve performance.\n",
      "  category=PossibleUserWarning,\n"
     ]
    },
    {
     "name": "stdout",
     "output_type": "stream",
     "text": [
      "Epoch 24: 100%|██████████| 158/158 [00:55<00:00,  2.83it/s, loss=0.0222, v_num=202]"
     ]
    },
    {
     "name": "stderr",
     "output_type": "stream",
     "text": [
      "`Trainer.fit` stopped: `max_epochs=25` reached.\n"
     ]
    },
    {
     "name": "stdout",
     "output_type": "stream",
     "text": [
      "Epoch 24: 100%|██████████| 158/158 [00:56<00:00,  2.80it/s, loss=0.0222, v_num=202]\n"
     ]
    },
    {
     "name": "stderr",
     "output_type": "stream",
     "text": [
      "\n",
      "  0%|          | 0/40 [00:00<?, ?it/s]\u001b[A\n",
      "  2%|▎         | 1/40 [00:01<00:46,  1.19s/it]\u001b[A\n",
      "  5%|▌         | 2/40 [00:02<00:44,  1.17s/it]\u001b[A\n",
      "  8%|▊         | 3/40 [00:03<00:43,  1.17s/it]\u001b[A\n",
      " 10%|█         | 4/40 [00:04<00:41,  1.16s/it]\u001b[A\n",
      " 12%|█▎        | 5/40 [00:05<00:40,  1.15s/it]\u001b[A\n",
      " 15%|█▌        | 6/40 [00:07<00:39,  1.17s/it]\u001b[A\n",
      " 18%|█▊        | 7/40 [00:08<00:38,  1.16s/it]\u001b[A\n",
      " 20%|██        | 8/40 [00:09<00:36,  1.13s/it]\u001b[A\n",
      " 22%|██▎       | 9/40 [00:10<00:35,  1.15s/it]\u001b[A\n",
      " 25%|██▌       | 10/40 [00:11<00:34,  1.14s/it]\u001b[A\n",
      " 28%|██▊       | 11/40 [00:12<00:32,  1.13s/it]\u001b[A\n",
      " 30%|███       | 12/40 [00:13<00:32,  1.16s/it]\u001b[A\n",
      " 32%|███▎      | 13/40 [00:14<00:30,  1.15s/it]\u001b[A\n",
      " 35%|███▌      | 14/40 [00:16<00:29,  1.14s/it]\u001b[A\n",
      " 38%|███▊      | 15/40 [00:17<00:28,  1.15s/it]\u001b[A\n",
      " 40%|████      | 16/40 [00:18<00:27,  1.14s/it]\u001b[A\n",
      " 42%|████▎     | 17/40 [00:19<00:25,  1.13s/it]\u001b[A\n",
      " 45%|████▌     | 18/40 [00:20<00:24,  1.13s/it]\u001b[A\n",
      " 48%|████▊     | 19/40 [00:21<00:23,  1.12s/it]\u001b[A\n",
      " 50%|█████     | 20/40 [00:22<00:22,  1.14s/it]\u001b[A\n",
      " 52%|█████▎    | 21/40 [00:24<00:21,  1.14s/it]\u001b[A\n",
      " 55%|█████▌    | 22/40 [00:25<00:20,  1.12s/it]\u001b[A\n",
      " 57%|█████▊    | 23/40 [00:26<00:18,  1.12s/it]\u001b[A\n",
      " 60%|██████    | 24/40 [00:27<00:17,  1.10s/it]\u001b[A\n",
      " 62%|██████▎   | 25/40 [00:28<00:16,  1.10s/it]\u001b[A\n",
      " 65%|██████▌   | 26/40 [00:29<00:15,  1.12s/it]\u001b[A\n",
      " 68%|██████▊   | 27/40 [00:30<00:14,  1.10s/it]\u001b[A\n",
      " 70%|███████   | 28/40 [00:31<00:13,  1.14s/it]\u001b[A\n",
      " 72%|███████▎  | 29/40 [00:32<00:12,  1.12s/it]\u001b[A\n",
      " 75%|███████▌  | 30/40 [00:34<00:11,  1.13s/it]\u001b[A\n",
      " 78%|███████▊  | 31/40 [00:35<00:10,  1.13s/it]\u001b[A\n",
      " 80%|████████  | 32/40 [00:36<00:09,  1.13s/it]\u001b[A\n",
      " 82%|████████▎ | 33/40 [00:37<00:07,  1.13s/it]\u001b[A\n",
      " 85%|████████▌ | 34/40 [00:38<00:06,  1.13s/it]\u001b[A\n",
      " 88%|████████▊ | 35/40 [00:39<00:05,  1.12s/it]\u001b[A\n",
      " 90%|█████████ | 36/40 [00:40<00:04,  1.11s/it]\u001b[A\n",
      " 92%|█████████▎| 37/40 [00:41<00:03,  1.11s/it]\u001b[A\n",
      " 95%|█████████▌| 38/40 [00:43<00:02,  1.12s/it]\u001b[A\n",
      " 98%|█████████▊| 39/40 [00:44<00:01,  1.13s/it]\u001b[A\n",
      "100%|██████████| 40/40 [00:44<00:00,  1.11s/it]\u001b[A\n",
      "C:\\Users\\laraquij\\Anaconda3\\envs\\tfg_dani\\lib\\site-packages\\torchvision\\models\\_utils.py:209: UserWarning: The parameter 'pretrained' is deprecated since 0.13 and may be removed in the future, please use 'weights' instead.\n",
      "  f\"The parameter '{pretrained_param}' is deprecated since 0.13 and may be removed in the future, \"\n",
      "C:\\Users\\laraquij\\Anaconda3\\envs\\tfg_dani\\lib\\site-packages\\torchvision\\models\\_utils.py:223: UserWarning: Arguments other than a weight enum or `None` for 'weights' are deprecated since 0.13 and may be removed in the future. The current behavior is equivalent to passing `weights=ResNet50_Weights.IMAGENET1K_V1`. You can also use `weights=ResNet50_Weights.DEFAULT` to get the most up-to-date weights.\n",
      "  warnings.warn(msg)\n"
     ]
    },
    {
     "name": "stdout",
     "output_type": "stream",
     "text": [
      "------------fold nº 1----------------------\n"
     ]
    },
    {
     "name": "stderr",
     "output_type": "stream",
     "text": [
      "GPU available: True (cuda), used: True\n",
      "TPU available: False, using: 0 TPU cores\n",
      "IPU available: False, using: 0 IPUs\n",
      "HPU available: False, using: 0 HPUs\n",
      "LOCAL_RANK: 0 - CUDA_VISIBLE_DEVICES: [0]\n",
      "\n",
      "  | Name      | Type           | Params\n",
      "---------------------------------------------\n",
      "0 | accuracy  | BinaryAccuracy | 0     \n",
      "1 | f1score   | BinaryF1Score  | 0     \n",
      "2 | model     | ResNet         | 23.5 M\n",
      "3 | fuzzyloss | FuzzyLoss      | 0     \n",
      "---------------------------------------------\n",
      "4.1 K     Trainable params\n",
      "23.5 M    Non-trainable params\n",
      "23.5 M    Total params\n",
      "94.049    Total estimated model params size (MB)\n",
      "C:\\Users\\laraquij\\Anaconda3\\envs\\tfg_dani\\lib\\site-packages\\pytorch_lightning\\trainer\\connectors\\data_connector.py:229: PossibleUserWarning: The dataloader, train_dataloader, does not have many workers which may be a bottleneck. Consider increasing the value of the `num_workers` argument` (try 8 which is the number of cpus on this machine) in the `DataLoader` init to improve performance.\n",
      "  category=PossibleUserWarning,\n"
     ]
    },
    {
     "name": "stdout",
     "output_type": "stream",
     "text": [
      "Epoch 24: 100%|██████████| 158/158 [00:55<00:00,  2.82it/s, loss=0.258, v_num=203] "
     ]
    },
    {
     "name": "stderr",
     "output_type": "stream",
     "text": [
      "`Trainer.fit` stopped: `max_epochs=25` reached.\n"
     ]
    },
    {
     "name": "stdout",
     "output_type": "stream",
     "text": [
      "Epoch 24: 100%|██████████| 158/158 [00:56<00:00,  2.80it/s, loss=0.258, v_num=203]\n"
     ]
    },
    {
     "name": "stderr",
     "output_type": "stream",
     "text": [
      "\n",
      "  0%|          | 0/40 [00:00<?, ?it/s]\u001b[A\n",
      "  2%|▎         | 1/40 [00:01<00:44,  1.14s/it]\u001b[A\n",
      "  5%|▌         | 2/40 [00:02<00:42,  1.11s/it]\u001b[A\n",
      "  8%|▊         | 3/40 [00:03<00:41,  1.12s/it]\u001b[A\n",
      " 10%|█         | 4/40 [00:04<00:40,  1.11s/it]\u001b[A\n",
      " 12%|█▎        | 5/40 [00:05<00:39,  1.14s/it]\u001b[A\n",
      " 15%|█▌        | 6/40 [00:06<00:39,  1.15s/it]\u001b[A\n",
      " 18%|█▊        | 7/40 [00:07<00:38,  1.16s/it]\u001b[A\n",
      " 20%|██        | 8/40 [00:09<00:37,  1.16s/it]\u001b[A\n",
      " 22%|██▎       | 9/40 [00:10<00:35,  1.16s/it]\u001b[A\n",
      " 25%|██▌       | 10/40 [00:11<00:34,  1.15s/it]\u001b[A\n",
      " 28%|██▊       | 11/40 [00:12<00:33,  1.16s/it]\u001b[A\n",
      " 30%|███       | 12/40 [00:13<00:32,  1.18s/it]\u001b[A\n",
      " 32%|███▎      | 13/40 [00:14<00:31,  1.15s/it]\u001b[A\n",
      " 35%|███▌      | 14/40 [00:16<00:30,  1.16s/it]\u001b[A\n",
      " 38%|███▊      | 15/40 [00:17<00:28,  1.15s/it]\u001b[A\n",
      " 40%|████      | 16/40 [00:18<00:27,  1.16s/it]\u001b[A\n",
      " 42%|████▎     | 17/40 [00:19<00:26,  1.15s/it]\u001b[A\n",
      " 45%|████▌     | 18/40 [00:20<00:25,  1.17s/it]\u001b[A\n",
      " 48%|████▊     | 19/40 [00:21<00:24,  1.18s/it]\u001b[A\n",
      " 50%|█████     | 20/40 [00:23<00:23,  1.17s/it]\u001b[A\n",
      " 52%|█████▎    | 21/40 [00:24<00:22,  1.16s/it]\u001b[A\n",
      " 55%|█████▌    | 22/40 [00:25<00:21,  1.17s/it]\u001b[A\n",
      " 57%|█████▊    | 23/40 [00:26<00:19,  1.17s/it]\u001b[A\n",
      " 60%|██████    | 24/40 [00:27<00:18,  1.17s/it]\u001b[A\n",
      " 62%|██████▎   | 25/40 [00:28<00:17,  1.18s/it]\u001b[A\n",
      " 65%|██████▌   | 26/40 [00:30<00:16,  1.15s/it]\u001b[A\n",
      " 68%|██████▊   | 27/40 [00:31<00:14,  1.15s/it]\u001b[A\n",
      " 70%|███████   | 28/40 [00:32<00:13,  1.15s/it]\u001b[A\n",
      " 72%|███████▎  | 29/40 [00:33<00:12,  1.15s/it]\u001b[A\n",
      " 75%|███████▌  | 30/40 [00:34<00:11,  1.14s/it]\u001b[A\n",
      " 78%|███████▊  | 31/40 [00:35<00:10,  1.13s/it]\u001b[A\n",
      " 80%|████████  | 32/40 [00:36<00:09,  1.13s/it]\u001b[A\n",
      " 82%|████████▎ | 33/40 [00:37<00:07,  1.12s/it]\u001b[A\n",
      " 85%|████████▌ | 34/40 [00:39<00:06,  1.13s/it]\u001b[A\n",
      " 88%|████████▊ | 35/40 [00:40<00:05,  1.14s/it]\u001b[A\n",
      " 90%|█████████ | 36/40 [00:41<00:04,  1.14s/it]\u001b[A\n",
      " 92%|█████████▎| 37/40 [00:42<00:03,  1.14s/it]\u001b[A\n",
      " 95%|█████████▌| 38/40 [00:43<00:02,  1.14s/it]\u001b[A\n",
      " 98%|█████████▊| 39/40 [00:44<00:01,  1.14s/it]\u001b[A\n",
      "100%|██████████| 40/40 [00:45<00:00,  1.13s/it]\u001b[A\n",
      "C:\\Users\\laraquij\\Anaconda3\\envs\\tfg_dani\\lib\\site-packages\\torchvision\\models\\_utils.py:209: UserWarning: The parameter 'pretrained' is deprecated since 0.13 and may be removed in the future, please use 'weights' instead.\n",
      "  f\"The parameter '{pretrained_param}' is deprecated since 0.13 and may be removed in the future, \"\n",
      "C:\\Users\\laraquij\\Anaconda3\\envs\\tfg_dani\\lib\\site-packages\\torchvision\\models\\_utils.py:223: UserWarning: Arguments other than a weight enum or `None` for 'weights' are deprecated since 0.13 and may be removed in the future. The current behavior is equivalent to passing `weights=ResNet50_Weights.IMAGENET1K_V1`. You can also use `weights=ResNet50_Weights.DEFAULT` to get the most up-to-date weights.\n",
      "  warnings.warn(msg)\n"
     ]
    },
    {
     "name": "stdout",
     "output_type": "stream",
     "text": [
      "------------fold nº 2----------------------\n"
     ]
    },
    {
     "name": "stderr",
     "output_type": "stream",
     "text": [
      "GPU available: True (cuda), used: True\n",
      "TPU available: False, using: 0 TPU cores\n",
      "IPU available: False, using: 0 IPUs\n",
      "HPU available: False, using: 0 HPUs\n",
      "LOCAL_RANK: 0 - CUDA_VISIBLE_DEVICES: [0]\n",
      "\n",
      "  | Name      | Type           | Params\n",
      "---------------------------------------------\n",
      "0 | accuracy  | BinaryAccuracy | 0     \n",
      "1 | f1score   | BinaryF1Score  | 0     \n",
      "2 | model     | ResNet         | 23.5 M\n",
      "3 | fuzzyloss | FuzzyLoss      | 0     \n",
      "---------------------------------------------\n",
      "4.1 K     Trainable params\n",
      "23.5 M    Non-trainable params\n",
      "23.5 M    Total params\n",
      "94.049    Total estimated model params size (MB)\n",
      "C:\\Users\\laraquij\\Anaconda3\\envs\\tfg_dani\\lib\\site-packages\\pytorch_lightning\\trainer\\connectors\\data_connector.py:229: PossibleUserWarning: The dataloader, train_dataloader, does not have many workers which may be a bottleneck. Consider increasing the value of the `num_workers` argument` (try 8 which is the number of cpus on this machine) in the `DataLoader` init to improve performance.\n",
      "  category=PossibleUserWarning,\n"
     ]
    },
    {
     "name": "stdout",
     "output_type": "stream",
     "text": [
      "Epoch 24: 100%|██████████| 158/158 [00:56<00:00,  2.82it/s, loss=0.204, v_num=204]  "
     ]
    },
    {
     "name": "stderr",
     "output_type": "stream",
     "text": [
      "`Trainer.fit` stopped: `max_epochs=25` reached.\n"
     ]
    },
    {
     "name": "stdout",
     "output_type": "stream",
     "text": [
      "Epoch 24: 100%|██████████| 158/158 [00:56<00:00,  2.79it/s, loss=0.204, v_num=204]\n"
     ]
    },
    {
     "name": "stderr",
     "output_type": "stream",
     "text": [
      "\n",
      "  0%|          | 0/40 [00:00<?, ?it/s]\u001b[A\n",
      "  2%|▎         | 1/40 [00:01<00:45,  1.16s/it]\u001b[A\n",
      "  5%|▌         | 2/40 [00:02<00:42,  1.13s/it]\u001b[A\n",
      "  8%|▊         | 3/40 [00:03<00:41,  1.13s/it]\u001b[A\n",
      " 10%|█         | 4/40 [00:04<00:41,  1.15s/it]\u001b[A\n",
      " 12%|█▎        | 5/40 [00:05<00:40,  1.15s/it]\u001b[A\n",
      " 15%|█▌        | 6/40 [00:06<00:39,  1.15s/it]\u001b[A\n",
      " 18%|█▊        | 7/40 [00:07<00:37,  1.13s/it]\u001b[A\n",
      " 20%|██        | 8/40 [00:09<00:36,  1.15s/it]\u001b[A\n",
      " 22%|██▎       | 9/40 [00:10<00:35,  1.14s/it]\u001b[A\n",
      " 25%|██▌       | 10/40 [00:11<00:33,  1.13s/it]\u001b[A\n",
      " 28%|██▊       | 11/40 [00:12<00:32,  1.14s/it]\u001b[A\n",
      " 30%|███       | 12/40 [00:13<00:31,  1.13s/it]\u001b[A\n",
      " 32%|███▎      | 13/40 [00:14<00:30,  1.15s/it]\u001b[A\n",
      " 35%|███▌      | 14/40 [00:16<00:30,  1.16s/it]\u001b[A\n",
      " 38%|███▊      | 15/40 [00:17<00:28,  1.15s/it]\u001b[A\n",
      " 40%|████      | 16/40 [00:18<00:27,  1.16s/it]\u001b[A\n",
      " 42%|████▎     | 17/40 [00:19<00:26,  1.16s/it]\u001b[A\n",
      " 45%|████▌     | 18/40 [00:20<00:25,  1.15s/it]\u001b[A\n",
      " 48%|████▊     | 19/40 [00:21<00:24,  1.15s/it]\u001b[A\n",
      " 50%|█████     | 20/40 [00:22<00:23,  1.16s/it]\u001b[A\n",
      " 52%|█████▎    | 21/40 [00:24<00:22,  1.17s/it]\u001b[A\n",
      " 55%|█████▌    | 22/40 [00:25<00:20,  1.16s/it]\u001b[A\n",
      " 57%|█████▊    | 23/40 [00:26<00:19,  1.16s/it]\u001b[A\n",
      " 60%|██████    | 24/40 [00:27<00:18,  1.15s/it]\u001b[A\n",
      " 62%|██████▎   | 25/40 [00:28<00:17,  1.15s/it]\u001b[A\n",
      " 65%|██████▌   | 26/40 [00:29<00:16,  1.15s/it]\u001b[A\n",
      " 68%|██████▊   | 27/40 [00:31<00:15,  1.16s/it]\u001b[A\n",
      " 70%|███████   | 28/40 [00:32<00:13,  1.15s/it]\u001b[A\n",
      " 72%|███████▎  | 29/40 [00:33<00:12,  1.14s/it]\u001b[A\n",
      " 75%|███████▌  | 30/40 [00:34<00:11,  1.13s/it]\u001b[A\n",
      " 78%|███████▊  | 31/40 [00:35<00:10,  1.14s/it]\u001b[A\n",
      " 80%|████████  | 32/40 [00:36<00:09,  1.13s/it]\u001b[A\n",
      " 82%|████████▎ | 33/40 [00:37<00:07,  1.13s/it]\u001b[A\n",
      " 85%|████████▌ | 34/40 [00:38<00:06,  1.12s/it]\u001b[A\n",
      " 88%|████████▊ | 35/40 [00:40<00:05,  1.13s/it]\u001b[A\n",
      " 90%|█████████ | 36/40 [00:41<00:04,  1.15s/it]\u001b[A\n",
      " 92%|█████████▎| 37/40 [00:42<00:03,  1.13s/it]\u001b[A\n",
      " 95%|█████████▌| 38/40 [00:43<00:02,  1.13s/it]\u001b[A\n",
      " 98%|█████████▊| 39/40 [00:44<00:01,  1.13s/it]\u001b[A\n",
      "100%|██████████| 40/40 [00:44<00:00,  1.12s/it]\u001b[A\n",
      "C:\\Users\\laraquij\\Anaconda3\\envs\\tfg_dani\\lib\\site-packages\\torchvision\\models\\_utils.py:209: UserWarning: The parameter 'pretrained' is deprecated since 0.13 and may be removed in the future, please use 'weights' instead.\n",
      "  f\"The parameter '{pretrained_param}' is deprecated since 0.13 and may be removed in the future, \"\n",
      "C:\\Users\\laraquij\\Anaconda3\\envs\\tfg_dani\\lib\\site-packages\\torchvision\\models\\_utils.py:223: UserWarning: Arguments other than a weight enum or `None` for 'weights' are deprecated since 0.13 and may be removed in the future. The current behavior is equivalent to passing `weights=ResNet50_Weights.IMAGENET1K_V1`. You can also use `weights=ResNet50_Weights.DEFAULT` to get the most up-to-date weights.\n",
      "  warnings.warn(msg)\n"
     ]
    },
    {
     "name": "stdout",
     "output_type": "stream",
     "text": [
      "------------fold nº 3----------------------\n"
     ]
    },
    {
     "name": "stderr",
     "output_type": "stream",
     "text": [
      "GPU available: True (cuda), used: True\n",
      "TPU available: False, using: 0 TPU cores\n",
      "IPU available: False, using: 0 IPUs\n",
      "HPU available: False, using: 0 HPUs\n",
      "LOCAL_RANK: 0 - CUDA_VISIBLE_DEVICES: [0]\n",
      "\n",
      "  | Name      | Type           | Params\n",
      "---------------------------------------------\n",
      "0 | accuracy  | BinaryAccuracy | 0     \n",
      "1 | f1score   | BinaryF1Score  | 0     \n",
      "2 | model     | ResNet         | 23.5 M\n",
      "3 | fuzzyloss | FuzzyLoss      | 0     \n",
      "---------------------------------------------\n",
      "4.1 K     Trainable params\n",
      "23.5 M    Non-trainable params\n",
      "23.5 M    Total params\n",
      "94.049    Total estimated model params size (MB)\n",
      "C:\\Users\\laraquij\\Anaconda3\\envs\\tfg_dani\\lib\\site-packages\\pytorch_lightning\\trainer\\connectors\\data_connector.py:229: PossibleUserWarning: The dataloader, train_dataloader, does not have many workers which may be a bottleneck. Consider increasing the value of the `num_workers` argument` (try 8 which is the number of cpus on this machine) in the `DataLoader` init to improve performance.\n",
      "  category=PossibleUserWarning,\n"
     ]
    },
    {
     "name": "stdout",
     "output_type": "stream",
     "text": [
      "Epoch 24: 100%|██████████| 158/158 [00:56<00:00,  2.82it/s, loss=0.0329, v_num=205] "
     ]
    },
    {
     "name": "stderr",
     "output_type": "stream",
     "text": [
      "`Trainer.fit` stopped: `max_epochs=25` reached.\n"
     ]
    },
    {
     "name": "stdout",
     "output_type": "stream",
     "text": [
      "Epoch 24: 100%|██████████| 158/158 [00:56<00:00,  2.79it/s, loss=0.0329, v_num=205]\n"
     ]
    },
    {
     "name": "stderr",
     "output_type": "stream",
     "text": [
      "\n",
      "  0%|          | 0/40 [00:00<?, ?it/s]\u001b[A\n",
      "  2%|▎         | 1/40 [00:01<00:45,  1.17s/it]\u001b[A\n",
      "  5%|▌         | 2/40 [00:02<00:42,  1.11s/it]\u001b[A\n",
      "  8%|▊         | 3/40 [00:03<00:41,  1.13s/it]\u001b[A\n",
      " 10%|█         | 4/40 [00:04<00:41,  1.15s/it]\u001b[A\n",
      " 12%|█▎        | 5/40 [00:05<00:40,  1.15s/it]\u001b[A\n",
      " 15%|█▌        | 6/40 [00:06<00:38,  1.13s/it]\u001b[A\n",
      " 18%|█▊        | 7/40 [00:07<00:36,  1.11s/it]\u001b[A\n",
      " 20%|██        | 8/40 [00:09<00:36,  1.14s/it]\u001b[A\n",
      " 22%|██▎       | 9/40 [00:10<00:35,  1.15s/it]\u001b[A\n",
      " 25%|██▌       | 10/40 [00:11<00:34,  1.17s/it]\u001b[A\n",
      " 28%|██▊       | 11/40 [00:12<00:33,  1.16s/it]\u001b[A\n",
      " 30%|███       | 12/40 [00:13<00:31,  1.14s/it]\u001b[A\n",
      " 32%|███▎      | 13/40 [00:14<00:30,  1.14s/it]\u001b[A\n",
      " 35%|███▌      | 14/40 [00:15<00:29,  1.13s/it]\u001b[A\n",
      " 38%|███▊      | 15/40 [00:17<00:27,  1.11s/it]\u001b[A\n",
      " 40%|████      | 16/40 [00:18<00:26,  1.12s/it]\u001b[A\n",
      " 42%|████▎     | 17/40 [00:19<00:25,  1.12s/it]\u001b[A\n",
      " 45%|████▌     | 18/40 [00:20<00:24,  1.13s/it]\u001b[A\n",
      " 48%|████▊     | 19/40 [00:21<00:23,  1.13s/it]\u001b[A\n",
      " 50%|█████     | 20/40 [00:22<00:22,  1.13s/it]\u001b[A\n",
      " 52%|█████▎    | 21/40 [00:23<00:21,  1.11s/it]\u001b[A\n",
      " 55%|█████▌    | 22/40 [00:24<00:19,  1.11s/it]\u001b[A\n",
      " 57%|█████▊    | 23/40 [00:26<00:19,  1.13s/it]\u001b[A\n",
      " 60%|██████    | 24/40 [00:27<00:17,  1.11s/it]\u001b[A\n",
      " 62%|██████▎   | 25/40 [00:28<00:16,  1.12s/it]\u001b[A\n",
      " 65%|██████▌   | 26/40 [00:29<00:15,  1.13s/it]\u001b[A\n",
      " 68%|██████▊   | 27/40 [00:30<00:14,  1.13s/it]\u001b[A\n",
      " 70%|███████   | 28/40 [00:31<00:13,  1.12s/it]\u001b[A\n",
      " 72%|███████▎  | 29/40 [00:32<00:12,  1.10s/it]\u001b[A\n",
      " 75%|███████▌  | 30/40 [00:33<00:11,  1.10s/it]\u001b[A\n",
      " 78%|███████▊  | 31/40 [00:34<00:09,  1.10s/it]\u001b[A\n",
      " 80%|████████  | 32/40 [00:35<00:08,  1.09s/it]\u001b[A\n",
      " 82%|████████▎ | 33/40 [00:37<00:07,  1.10s/it]\u001b[A\n",
      " 85%|████████▌ | 34/40 [00:38<00:06,  1.12s/it]\u001b[A\n",
      " 88%|████████▊ | 35/40 [00:39<00:05,  1.12s/it]\u001b[A\n",
      " 90%|█████████ | 36/40 [00:40<00:04,  1.11s/it]\u001b[A\n",
      " 92%|█████████▎| 37/40 [00:41<00:03,  1.11s/it]\u001b[A\n",
      " 95%|█████████▌| 38/40 [00:42<00:02,  1.13s/it]\u001b[A\n",
      " 98%|█████████▊| 39/40 [00:43<00:01,  1.15s/it]\u001b[A\n",
      "100%|██████████| 40/40 [00:44<00:00,  1.11s/it]\u001b[A\n",
      "C:\\Users\\laraquij\\Anaconda3\\envs\\tfg_dani\\lib\\site-packages\\torchvision\\models\\_utils.py:209: UserWarning: The parameter 'pretrained' is deprecated since 0.13 and may be removed in the future, please use 'weights' instead.\n",
      "  f\"The parameter '{pretrained_param}' is deprecated since 0.13 and may be removed in the future, \"\n",
      "C:\\Users\\laraquij\\Anaconda3\\envs\\tfg_dani\\lib\\site-packages\\torchvision\\models\\_utils.py:223: UserWarning: Arguments other than a weight enum or `None` for 'weights' are deprecated since 0.13 and may be removed in the future. The current behavior is equivalent to passing `weights=ResNet50_Weights.IMAGENET1K_V1`. You can also use `weights=ResNet50_Weights.DEFAULT` to get the most up-to-date weights.\n",
      "  warnings.warn(msg)\n"
     ]
    },
    {
     "name": "stdout",
     "output_type": "stream",
     "text": [
      "------------fold nº 4----------------------\n"
     ]
    },
    {
     "name": "stderr",
     "output_type": "stream",
     "text": [
      "GPU available: True (cuda), used: True\n",
      "TPU available: False, using: 0 TPU cores\n",
      "IPU available: False, using: 0 IPUs\n",
      "HPU available: False, using: 0 HPUs\n",
      "LOCAL_RANK: 0 - CUDA_VISIBLE_DEVICES: [0]\n",
      "\n",
      "  | Name      | Type           | Params\n",
      "---------------------------------------------\n",
      "0 | accuracy  | BinaryAccuracy | 0     \n",
      "1 | f1score   | BinaryF1Score  | 0     \n",
      "2 | model     | ResNet         | 23.5 M\n",
      "3 | fuzzyloss | FuzzyLoss      | 0     \n",
      "---------------------------------------------\n",
      "4.1 K     Trainable params\n",
      "23.5 M    Non-trainable params\n",
      "23.5 M    Total params\n",
      "94.049    Total estimated model params size (MB)\n",
      "C:\\Users\\laraquij\\Anaconda3\\envs\\tfg_dani\\lib\\site-packages\\pytorch_lightning\\trainer\\connectors\\data_connector.py:229: PossibleUserWarning: The dataloader, train_dataloader, does not have many workers which may be a bottleneck. Consider increasing the value of the `num_workers` argument` (try 8 which is the number of cpus on this machine) in the `DataLoader` init to improve performance.\n",
      "  category=PossibleUserWarning,\n"
     ]
    },
    {
     "name": "stdout",
     "output_type": "stream",
     "text": [
      "Epoch 24: 100%|██████████| 158/158 [00:56<00:00,  2.81it/s, loss=0.0961, v_num=206] "
     ]
    },
    {
     "name": "stderr",
     "output_type": "stream",
     "text": [
      "`Trainer.fit` stopped: `max_epochs=25` reached.\n"
     ]
    },
    {
     "name": "stdout",
     "output_type": "stream",
     "text": [
      "Epoch 24: 100%|██████████| 158/158 [00:56<00:00,  2.78it/s, loss=0.0961, v_num=206]\n"
     ]
    },
    {
     "name": "stderr",
     "output_type": "stream",
     "text": [
      "\n",
      "  0%|          | 0/40 [00:00<?, ?it/s]\u001b[A\n",
      "  2%|▎         | 1/40 [00:01<00:42,  1.10s/it]\u001b[A\n",
      "  5%|▌         | 2/40 [00:02<00:43,  1.15s/it]\u001b[A\n",
      "  8%|▊         | 3/40 [00:03<00:42,  1.14s/it]\u001b[A\n",
      " 10%|█         | 4/40 [00:04<00:41,  1.15s/it]\u001b[A\n",
      " 12%|█▎        | 5/40 [00:05<00:40,  1.15s/it]\u001b[A\n",
      " 15%|█▌        | 6/40 [00:06<00:38,  1.14s/it]\u001b[A\n",
      " 18%|█▊        | 7/40 [00:08<00:37,  1.15s/it]\u001b[A\n",
      " 20%|██        | 8/40 [00:09<00:36,  1.14s/it]\u001b[A\n",
      " 22%|██▎       | 9/40 [00:10<00:34,  1.13s/it]\u001b[A\n",
      " 25%|██▌       | 10/40 [00:11<00:33,  1.13s/it]\u001b[A\n",
      " 28%|██▊       | 11/40 [00:12<00:32,  1.11s/it]\u001b[A\n",
      " 30%|███       | 12/40 [00:13<00:31,  1.13s/it]\u001b[A\n",
      " 32%|███▎      | 13/40 [00:14<00:30,  1.13s/it]\u001b[A\n",
      " 35%|███▌      | 14/40 [00:15<00:29,  1.13s/it]\u001b[A\n",
      " 38%|███▊      | 15/40 [00:17<00:28,  1.15s/it]\u001b[A\n",
      " 40%|████      | 16/40 [00:18<00:27,  1.14s/it]\u001b[A\n",
      " 42%|████▎     | 17/40 [00:19<00:26,  1.14s/it]\u001b[A\n",
      " 45%|████▌     | 18/40 [00:20<00:24,  1.13s/it]\u001b[A\n",
      " 48%|████▊     | 19/40 [00:21<00:23,  1.14s/it]\u001b[A\n",
      " 50%|█████     | 20/40 [00:22<00:22,  1.14s/it]\u001b[A\n",
      " 52%|█████▎    | 21/40 [00:23<00:21,  1.16s/it]\u001b[A\n",
      " 55%|█████▌    | 22/40 [00:25<00:20,  1.15s/it]\u001b[A\n",
      " 57%|█████▊    | 23/40 [00:26<00:19,  1.15s/it]\u001b[A\n",
      " 60%|██████    | 24/40 [00:27<00:18,  1.15s/it]\u001b[A\n",
      " 62%|██████▎   | 25/40 [00:28<00:17,  1.15s/it]\u001b[A\n",
      " 65%|██████▌   | 26/40 [00:29<00:15,  1.13s/it]\u001b[A\n",
      " 68%|██████▊   | 27/40 [00:30<00:14,  1.12s/it]\u001b[A\n",
      " 70%|███████   | 28/40 [00:31<00:13,  1.11s/it]\u001b[A\n",
      " 72%|███████▎  | 29/40 [00:32<00:12,  1.12s/it]\u001b[A\n",
      " 75%|███████▌  | 30/40 [00:33<00:10,  1.10s/it]\u001b[A\n",
      " 78%|███████▊  | 31/40 [00:35<00:09,  1.09s/it]\u001b[A\n",
      " 80%|████████  | 32/40 [00:36<00:08,  1.10s/it]\u001b[A\n",
      " 82%|████████▎ | 33/40 [00:37<00:07,  1.11s/it]\u001b[A\n",
      " 85%|████████▌ | 34/40 [00:38<00:06,  1.09s/it]\u001b[A\n",
      " 88%|████████▊ | 35/40 [00:39<00:05,  1.10s/it]\u001b[A\n",
      " 90%|█████████ | 36/40 [00:40<00:04,  1.11s/it]\u001b[A\n",
      " 92%|█████████▎| 37/40 [00:41<00:03,  1.10s/it]\u001b[A\n",
      " 95%|█████████▌| 38/40 [00:42<00:02,  1.12s/it]\u001b[A\n",
      " 98%|█████████▊| 39/40 [00:43<00:01,  1.11s/it]\u001b[A\n",
      "100%|██████████| 40/40 [00:44<00:00,  1.11s/it]\u001b[A\n",
      "C:\\Users\\laraquij\\Anaconda3\\envs\\tfg_dani\\lib\\site-packages\\torchvision\\models\\_utils.py:209: UserWarning: The parameter 'pretrained' is deprecated since 0.13 and may be removed in the future, please use 'weights' instead.\n",
      "  f\"The parameter '{pretrained_param}' is deprecated since 0.13 and may be removed in the future, \"\n",
      "C:\\Users\\laraquij\\Anaconda3\\envs\\tfg_dani\\lib\\site-packages\\torchvision\\models\\_utils.py:223: UserWarning: Arguments other than a weight enum or `None` for 'weights' are deprecated since 0.13 and may be removed in the future. The current behavior is equivalent to passing `weights=ResNet50_Weights.IMAGENET1K_V1`. You can also use `weights=ResNet50_Weights.DEFAULT` to get the most up-to-date weights.\n",
      "  warnings.warn(msg)\n"
     ]
    },
    {
     "name": "stdout",
     "output_type": "stream",
     "text": [
      "------------fold nº 0----------------------\n"
     ]
    },
    {
     "name": "stderr",
     "output_type": "stream",
     "text": [
      "GPU available: True (cuda), used: True\n",
      "TPU available: False, using: 0 TPU cores\n",
      "IPU available: False, using: 0 IPUs\n",
      "HPU available: False, using: 0 HPUs\n",
      "LOCAL_RANK: 0 - CUDA_VISIBLE_DEVICES: [0]\n",
      "\n",
      "  | Name      | Type           | Params\n",
      "---------------------------------------------\n",
      "0 | accuracy  | BinaryAccuracy | 0     \n",
      "1 | f1score   | BinaryF1Score  | 0     \n",
      "2 | model     | ResNet         | 23.5 M\n",
      "3 | fuzzyloss | FuzzyLoss      | 0     \n",
      "---------------------------------------------\n",
      "4.1 K     Trainable params\n",
      "23.5 M    Non-trainable params\n",
      "23.5 M    Total params\n",
      "94.049    Total estimated model params size (MB)\n",
      "C:\\Users\\laraquij\\Anaconda3\\envs\\tfg_dani\\lib\\site-packages\\pytorch_lightning\\trainer\\connectors\\data_connector.py:229: PossibleUserWarning: The dataloader, train_dataloader, does not have many workers which may be a bottleneck. Consider increasing the value of the `num_workers` argument` (try 8 which is the number of cpus on this machine) in the `DataLoader` init to improve performance.\n",
      "  category=PossibleUserWarning,\n"
     ]
    },
    {
     "name": "stdout",
     "output_type": "stream",
     "text": [
      "Epoch 24: 100%|██████████| 158/158 [00:56<00:00,  2.81it/s, loss=0.0581, v_num=207] "
     ]
    },
    {
     "name": "stderr",
     "output_type": "stream",
     "text": [
      "`Trainer.fit` stopped: `max_epochs=25` reached.\n"
     ]
    },
    {
     "name": "stdout",
     "output_type": "stream",
     "text": [
      "Epoch 24: 100%|██████████| 158/158 [00:56<00:00,  2.78it/s, loss=0.0581, v_num=207]\n"
     ]
    },
    {
     "name": "stderr",
     "output_type": "stream",
     "text": [
      "\n",
      "  0%|          | 0/40 [00:00<?, ?it/s]\u001b[A\n",
      "  2%|▎         | 1/40 [00:01<00:43,  1.12s/it]\u001b[A\n",
      "  5%|▌         | 2/40 [00:02<00:42,  1.13s/it]\u001b[A\n",
      "  8%|▊         | 3/40 [00:03<00:41,  1.13s/it]\u001b[A\n",
      " 10%|█         | 4/40 [00:04<00:40,  1.13s/it]\u001b[A\n",
      " 12%|█▎        | 5/40 [00:05<00:39,  1.12s/it]\u001b[A\n",
      " 15%|█▌        | 6/40 [00:06<00:38,  1.12s/it]\u001b[A\n",
      " 18%|█▊        | 7/40 [00:07<00:37,  1.14s/it]\u001b[A\n",
      " 20%|██        | 8/40 [00:09<00:36,  1.15s/it]\u001b[A\n",
      " 22%|██▎       | 9/40 [00:10<00:35,  1.15s/it]\u001b[A\n",
      " 25%|██▌       | 10/40 [00:11<00:34,  1.15s/it]\u001b[A\n",
      " 28%|██▊       | 11/40 [00:12<00:33,  1.15s/it]\u001b[A\n",
      " 30%|███       | 12/40 [00:13<00:32,  1.15s/it]\u001b[A\n",
      " 32%|███▎      | 13/40 [00:14<00:30,  1.14s/it]\u001b[A\n",
      " 35%|███▌      | 14/40 [00:15<00:29,  1.13s/it]\u001b[A\n",
      " 38%|███▊      | 15/40 [00:17<00:28,  1.15s/it]\u001b[A\n",
      " 40%|████      | 16/40 [00:18<00:27,  1.15s/it]\u001b[A\n",
      " 42%|████▎     | 17/40 [00:19<00:26,  1.14s/it]\u001b[A\n",
      " 45%|████▌     | 18/40 [00:20<00:25,  1.15s/it]\u001b[A\n",
      " 48%|████▊     | 19/40 [00:21<00:24,  1.16s/it]\u001b[A\n",
      " 50%|█████     | 20/40 [00:22<00:22,  1.15s/it]\u001b[A\n",
      " 52%|█████▎    | 21/40 [00:24<00:22,  1.16s/it]\u001b[A\n",
      " 55%|█████▌    | 22/40 [00:25<00:20,  1.14s/it]\u001b[A\n",
      " 57%|█████▊    | 23/40 [00:26<00:19,  1.15s/it]\u001b[A\n",
      " 60%|██████    | 24/40 [00:27<00:18,  1.13s/it]\u001b[A\n",
      " 62%|██████▎   | 25/40 [00:28<00:17,  1.14s/it]\u001b[A\n",
      " 65%|██████▌   | 26/40 [00:29<00:16,  1.18s/it]\u001b[A\n",
      " 68%|██████▊   | 27/40 [00:31<00:15,  1.22s/it]\u001b[A\n",
      " 70%|███████   | 28/40 [00:32<00:14,  1.24s/it]\u001b[A\n",
      " 72%|███████▎  | 29/40 [00:33<00:13,  1.25s/it]\u001b[A\n",
      " 75%|███████▌  | 30/40 [00:35<00:12,  1.27s/it]\u001b[A\n",
      " 78%|███████▊  | 31/40 [00:36<00:11,  1.27s/it]\u001b[A\n",
      " 80%|████████  | 32/40 [00:37<00:09,  1.24s/it]\u001b[A\n",
      " 82%|████████▎ | 33/40 [00:38<00:08,  1.23s/it]\u001b[A\n",
      " 85%|████████▌ | 34/40 [00:39<00:07,  1.21s/it]\u001b[A\n",
      " 88%|████████▊ | 35/40 [00:41<00:05,  1.20s/it]\u001b[A\n",
      " 90%|█████████ | 36/40 [00:42<00:04,  1.19s/it]\u001b[A\n",
      " 92%|█████████▎| 37/40 [00:43<00:03,  1.17s/it]\u001b[A\n",
      " 95%|█████████▌| 38/40 [00:44<00:02,  1.17s/it]\u001b[A\n",
      " 98%|█████████▊| 39/40 [00:45<00:01,  1.19s/it]\u001b[A\n",
      "100%|██████████| 40/40 [00:46<00:00,  1.15s/it]\u001b[A\n",
      "C:\\Users\\laraquij\\Anaconda3\\envs\\tfg_dani\\lib\\site-packages\\torchvision\\models\\_utils.py:209: UserWarning: The parameter 'pretrained' is deprecated since 0.13 and may be removed in the future, please use 'weights' instead.\n",
      "  f\"The parameter '{pretrained_param}' is deprecated since 0.13 and may be removed in the future, \"\n",
      "C:\\Users\\laraquij\\Anaconda3\\envs\\tfg_dani\\lib\\site-packages\\torchvision\\models\\_utils.py:223: UserWarning: Arguments other than a weight enum or `None` for 'weights' are deprecated since 0.13 and may be removed in the future. The current behavior is equivalent to passing `weights=ResNet50_Weights.IMAGENET1K_V1`. You can also use `weights=ResNet50_Weights.DEFAULT` to get the most up-to-date weights.\n",
      "  warnings.warn(msg)\n"
     ]
    },
    {
     "name": "stdout",
     "output_type": "stream",
     "text": [
      "------------fold nº 1----------------------\n"
     ]
    },
    {
     "name": "stderr",
     "output_type": "stream",
     "text": [
      "GPU available: True (cuda), used: True\n",
      "TPU available: False, using: 0 TPU cores\n",
      "IPU available: False, using: 0 IPUs\n",
      "HPU available: False, using: 0 HPUs\n",
      "LOCAL_RANK: 0 - CUDA_VISIBLE_DEVICES: [0]\n",
      "\n",
      "  | Name      | Type           | Params\n",
      "---------------------------------------------\n",
      "0 | accuracy  | BinaryAccuracy | 0     \n",
      "1 | f1score   | BinaryF1Score  | 0     \n",
      "2 | model     | ResNet         | 23.5 M\n",
      "3 | fuzzyloss | FuzzyLoss      | 0     \n",
      "---------------------------------------------\n",
      "4.1 K     Trainable params\n",
      "23.5 M    Non-trainable params\n",
      "23.5 M    Total params\n",
      "94.049    Total estimated model params size (MB)\n",
      "C:\\Users\\laraquij\\Anaconda3\\envs\\tfg_dani\\lib\\site-packages\\pytorch_lightning\\trainer\\connectors\\data_connector.py:229: PossibleUserWarning: The dataloader, train_dataloader, does not have many workers which may be a bottleneck. Consider increasing the value of the `num_workers` argument` (try 8 which is the number of cpus on this machine) in the `DataLoader` init to improve performance.\n",
      "  category=PossibleUserWarning,\n"
     ]
    },
    {
     "name": "stdout",
     "output_type": "stream",
     "text": [
      "Epoch 24: 100%|██████████| 158/158 [00:56<00:00,  2.80it/s, loss=0.0803, v_num=208]"
     ]
    },
    {
     "name": "stderr",
     "output_type": "stream",
     "text": [
      "`Trainer.fit` stopped: `max_epochs=25` reached.\n"
     ]
    },
    {
     "name": "stdout",
     "output_type": "stream",
     "text": [
      "Epoch 24: 100%|██████████| 158/158 [00:56<00:00,  2.78it/s, loss=0.0803, v_num=208]\n"
     ]
    },
    {
     "name": "stderr",
     "output_type": "stream",
     "text": [
      "\n",
      "  0%|          | 0/40 [00:00<?, ?it/s]\u001b[A\n",
      "  2%|▎         | 1/40 [00:01<00:45,  1.17s/it]\u001b[A\n",
      "  5%|▌         | 2/40 [00:02<00:43,  1.15s/it]\u001b[A\n",
      "  8%|▊         | 3/40 [00:03<00:43,  1.18s/it]\u001b[A\n",
      " 10%|█         | 4/40 [00:04<00:42,  1.17s/it]\u001b[A\n",
      " 12%|█▎        | 5/40 [00:05<00:40,  1.15s/it]\u001b[A\n",
      " 15%|█▌        | 6/40 [00:06<00:38,  1.13s/it]\u001b[A\n",
      " 18%|█▊        | 7/40 [00:08<00:37,  1.14s/it]\u001b[A\n",
      " 20%|██        | 8/40 [00:09<00:36,  1.14s/it]\u001b[A\n",
      " 22%|██▎       | 9/40 [00:10<00:35,  1.14s/it]\u001b[A\n",
      " 25%|██▌       | 10/40 [00:11<00:34,  1.14s/it]\u001b[A\n",
      " 28%|██▊       | 11/40 [00:12<00:33,  1.14s/it]\u001b[A\n",
      " 30%|███       | 12/40 [00:13<00:32,  1.16s/it]\u001b[A\n",
      " 32%|███▎      | 13/40 [00:14<00:31,  1.16s/it]\u001b[A\n",
      " 35%|███▌      | 14/40 [00:16<00:30,  1.16s/it]\u001b[A\n",
      " 38%|███▊      | 15/40 [00:17<00:29,  1.17s/it]\u001b[A\n",
      " 40%|████      | 16/40 [00:18<00:28,  1.17s/it]\u001b[A\n",
      " 42%|████▎     | 17/40 [00:19<00:26,  1.16s/it]\u001b[A\n",
      " 45%|████▌     | 18/40 [00:20<00:25,  1.16s/it]\u001b[A\n",
      " 48%|████▊     | 19/40 [00:21<00:24,  1.16s/it]\u001b[A\n",
      " 50%|█████     | 20/40 [00:23<00:22,  1.14s/it]\u001b[A\n",
      " 52%|█████▎    | 21/40 [00:24<00:21,  1.15s/it]\u001b[A\n",
      " 55%|█████▌    | 22/40 [00:25<00:20,  1.14s/it]\u001b[A\n",
      " 57%|█████▊    | 23/40 [00:26<00:19,  1.13s/it]\u001b[A\n",
      " 60%|██████    | 24/40 [00:27<00:17,  1.09s/it]\u001b[A\n",
      " 62%|██████▎   | 25/40 [00:28<00:16,  1.12s/it]\u001b[A\n",
      " 65%|██████▌   | 26/40 [00:29<00:15,  1.13s/it]\u001b[A\n",
      " 68%|██████▊   | 27/40 [00:30<00:14,  1.14s/it]\u001b[A\n",
      " 70%|███████   | 28/40 [00:31<00:13,  1.11s/it]\u001b[A\n",
      " 72%|███████▎  | 29/40 [00:33<00:12,  1.14s/it]\u001b[A\n",
      " 75%|███████▌  | 30/40 [00:34<00:11,  1.15s/it]\u001b[A\n",
      " 78%|███████▊  | 31/40 [00:35<00:10,  1.14s/it]\u001b[A\n",
      " 80%|████████  | 32/40 [00:36<00:09,  1.15s/it]\u001b[A\n",
      " 82%|████████▎ | 33/40 [00:37<00:08,  1.16s/it]\u001b[A\n",
      " 85%|████████▌ | 34/40 [00:38<00:06,  1.14s/it]\u001b[A\n",
      " 88%|████████▊ | 35/40 [00:40<00:05,  1.14s/it]\u001b[A\n",
      " 90%|█████████ | 36/40 [00:41<00:04,  1.15s/it]\u001b[A\n",
      " 92%|█████████▎| 37/40 [00:42<00:03,  1.15s/it]\u001b[A\n",
      " 95%|█████████▌| 38/40 [00:43<00:02,  1.16s/it]\u001b[A\n",
      " 98%|█████████▊| 39/40 [00:44<00:01,  1.17s/it]\u001b[A\n",
      "100%|██████████| 40/40 [00:45<00:00,  1.13s/it]\u001b[A\n",
      "C:\\Users\\laraquij\\Anaconda3\\envs\\tfg_dani\\lib\\site-packages\\torchvision\\models\\_utils.py:209: UserWarning: The parameter 'pretrained' is deprecated since 0.13 and may be removed in the future, please use 'weights' instead.\n",
      "  f\"The parameter '{pretrained_param}' is deprecated since 0.13 and may be removed in the future, \"\n",
      "C:\\Users\\laraquij\\Anaconda3\\envs\\tfg_dani\\lib\\site-packages\\torchvision\\models\\_utils.py:223: UserWarning: Arguments other than a weight enum or `None` for 'weights' are deprecated since 0.13 and may be removed in the future. The current behavior is equivalent to passing `weights=ResNet50_Weights.IMAGENET1K_V1`. You can also use `weights=ResNet50_Weights.DEFAULT` to get the most up-to-date weights.\n",
      "  warnings.warn(msg)\n"
     ]
    },
    {
     "name": "stdout",
     "output_type": "stream",
     "text": [
      "------------fold nº 2----------------------\n"
     ]
    },
    {
     "name": "stderr",
     "output_type": "stream",
     "text": [
      "GPU available: True (cuda), used: True\n",
      "TPU available: False, using: 0 TPU cores\n",
      "IPU available: False, using: 0 IPUs\n",
      "HPU available: False, using: 0 HPUs\n",
      "LOCAL_RANK: 0 - CUDA_VISIBLE_DEVICES: [0]\n",
      "\n",
      "  | Name      | Type           | Params\n",
      "---------------------------------------------\n",
      "0 | accuracy  | BinaryAccuracy | 0     \n",
      "1 | f1score   | BinaryF1Score  | 0     \n",
      "2 | model     | ResNet         | 23.5 M\n",
      "3 | fuzzyloss | FuzzyLoss      | 0     \n",
      "---------------------------------------------\n",
      "4.1 K     Trainable params\n",
      "23.5 M    Non-trainable params\n",
      "23.5 M    Total params\n",
      "94.049    Total estimated model params size (MB)\n",
      "C:\\Users\\laraquij\\Anaconda3\\envs\\tfg_dani\\lib\\site-packages\\pytorch_lightning\\trainer\\connectors\\data_connector.py:229: PossibleUserWarning: The dataloader, train_dataloader, does not have many workers which may be a bottleneck. Consider increasing the value of the `num_workers` argument` (try 8 which is the number of cpus on this machine) in the `DataLoader` init to improve performance.\n",
      "  category=PossibleUserWarning,\n"
     ]
    },
    {
     "name": "stdout",
     "output_type": "stream",
     "text": [
      "Epoch 24: 100%|██████████| 158/158 [00:56<00:00,  2.79it/s, loss=0.103, v_num=209] "
     ]
    },
    {
     "name": "stderr",
     "output_type": "stream",
     "text": [
      "`Trainer.fit` stopped: `max_epochs=25` reached.\n"
     ]
    },
    {
     "name": "stdout",
     "output_type": "stream",
     "text": [
      "Epoch 24: 100%|██████████| 158/158 [00:57<00:00,  2.76it/s, loss=0.103, v_num=209]\n"
     ]
    },
    {
     "name": "stderr",
     "output_type": "stream",
     "text": [
      "\n",
      "  0%|          | 0/40 [00:00<?, ?it/s]\u001b[A\n",
      "  2%|▎         | 1/40 [00:01<00:43,  1.12s/it]\u001b[A\n",
      "  5%|▌         | 2/40 [00:02<00:43,  1.14s/it]\u001b[A\n",
      "  8%|▊         | 3/40 [00:03<00:40,  1.10s/it]\u001b[A\n",
      " 10%|█         | 4/40 [00:04<00:39,  1.11s/it]\u001b[A\n",
      " 12%|█▎        | 5/40 [00:05<00:38,  1.11s/it]\u001b[A\n",
      " 15%|█▌        | 6/40 [00:06<00:38,  1.12s/it]\u001b[A\n",
      " 18%|█▊        | 7/40 [00:07<00:37,  1.13s/it]\u001b[A\n",
      " 20%|██        | 8/40 [00:09<00:36,  1.14s/it]\u001b[A\n",
      " 22%|██▎       | 9/40 [00:10<00:35,  1.13s/it]\u001b[A\n",
      " 25%|██▌       | 10/40 [00:11<00:33,  1.13s/it]\u001b[A\n",
      " 28%|██▊       | 11/40 [00:12<00:32,  1.14s/it]\u001b[A\n",
      " 30%|███       | 12/40 [00:13<00:31,  1.14s/it]\u001b[A\n",
      " 32%|███▎      | 13/40 [00:14<00:30,  1.12s/it]\u001b[A\n",
      " 35%|███▌      | 14/40 [00:15<00:29,  1.13s/it]\u001b[A\n",
      " 38%|███▊      | 15/40 [00:16<00:28,  1.14s/it]\u001b[A\n",
      " 40%|████      | 16/40 [00:18<00:27,  1.15s/it]\u001b[A\n",
      " 42%|████▎     | 17/40 [00:19<00:26,  1.15s/it]\u001b[A\n",
      " 45%|████▌     | 18/40 [00:20<00:25,  1.15s/it]\u001b[A\n",
      " 48%|████▊     | 19/40 [00:21<00:24,  1.15s/it]\u001b[A\n",
      " 50%|█████     | 20/40 [00:22<00:22,  1.14s/it]\u001b[A\n",
      " 52%|█████▎    | 21/40 [00:23<00:21,  1.13s/it]\u001b[A\n",
      " 55%|█████▌    | 22/40 [00:24<00:20,  1.14s/it]\u001b[A\n",
      " 57%|█████▊    | 23/40 [00:26<00:19,  1.14s/it]\u001b[A\n",
      " 60%|██████    | 24/40 [00:27<00:18,  1.16s/it]\u001b[A\n",
      " 62%|██████▎   | 25/40 [00:28<00:17,  1.15s/it]\u001b[A\n",
      " 65%|██████▌   | 26/40 [00:29<00:16,  1.17s/it]\u001b[A\n",
      " 68%|██████▊   | 27/40 [00:30<00:15,  1.17s/it]\u001b[A\n",
      " 70%|███████   | 28/40 [00:31<00:13,  1.15s/it]\u001b[A\n",
      " 72%|███████▎  | 29/40 [00:33<00:12,  1.14s/it]\u001b[A\n",
      " 75%|███████▌  | 30/40 [00:34<00:11,  1.13s/it]\u001b[A\n",
      " 78%|███████▊  | 31/40 [00:35<00:10,  1.14s/it]\u001b[A\n",
      " 80%|████████  | 32/40 [00:36<00:09,  1.18s/it]\u001b[A\n",
      " 82%|████████▎ | 33/40 [00:37<00:08,  1.18s/it]\u001b[A\n",
      " 85%|████████▌ | 34/40 [00:38<00:06,  1.17s/it]\u001b[A\n",
      " 88%|████████▊ | 35/40 [00:39<00:05,  1.15s/it]\u001b[A\n",
      " 90%|█████████ | 36/40 [00:41<00:04,  1.13s/it]\u001b[A\n",
      " 92%|█████████▎| 37/40 [00:42<00:03,  1.13s/it]\u001b[A\n",
      " 95%|█████████▌| 38/40 [00:43<00:02,  1.12s/it]\u001b[A\n",
      " 98%|█████████▊| 39/40 [00:44<00:01,  1.12s/it]\u001b[A\n",
      "100%|██████████| 40/40 [00:44<00:00,  1.12s/it]\u001b[A\n",
      "C:\\Users\\laraquij\\Anaconda3\\envs\\tfg_dani\\lib\\site-packages\\torchvision\\models\\_utils.py:209: UserWarning: The parameter 'pretrained' is deprecated since 0.13 and may be removed in the future, please use 'weights' instead.\n",
      "  f\"The parameter '{pretrained_param}' is deprecated since 0.13 and may be removed in the future, \"\n",
      "C:\\Users\\laraquij\\Anaconda3\\envs\\tfg_dani\\lib\\site-packages\\torchvision\\models\\_utils.py:223: UserWarning: Arguments other than a weight enum or `None` for 'weights' are deprecated since 0.13 and may be removed in the future. The current behavior is equivalent to passing `weights=ResNet50_Weights.IMAGENET1K_V1`. You can also use `weights=ResNet50_Weights.DEFAULT` to get the most up-to-date weights.\n",
      "  warnings.warn(msg)\n"
     ]
    },
    {
     "name": "stdout",
     "output_type": "stream",
     "text": [
      "------------fold nº 3----------------------\n"
     ]
    },
    {
     "name": "stderr",
     "output_type": "stream",
     "text": [
      "GPU available: True (cuda), used: True\n",
      "TPU available: False, using: 0 TPU cores\n",
      "IPU available: False, using: 0 IPUs\n",
      "HPU available: False, using: 0 HPUs\n",
      "LOCAL_RANK: 0 - CUDA_VISIBLE_DEVICES: [0]\n",
      "\n",
      "  | Name      | Type           | Params\n",
      "---------------------------------------------\n",
      "0 | accuracy  | BinaryAccuracy | 0     \n",
      "1 | f1score   | BinaryF1Score  | 0     \n",
      "2 | model     | ResNet         | 23.5 M\n",
      "3 | fuzzyloss | FuzzyLoss      | 0     \n",
      "---------------------------------------------\n",
      "4.1 K     Trainable params\n",
      "23.5 M    Non-trainable params\n",
      "23.5 M    Total params\n",
      "94.049    Total estimated model params size (MB)\n",
      "C:\\Users\\laraquij\\Anaconda3\\envs\\tfg_dani\\lib\\site-packages\\pytorch_lightning\\trainer\\connectors\\data_connector.py:229: PossibleUserWarning: The dataloader, train_dataloader, does not have many workers which may be a bottleneck. Consider increasing the value of the `num_workers` argument` (try 8 which is the number of cpus on this machine) in the `DataLoader` init to improve performance.\n",
      "  category=PossibleUserWarning,\n"
     ]
    },
    {
     "name": "stdout",
     "output_type": "stream",
     "text": [
      "Epoch 24: 100%|██████████| 158/158 [00:56<00:00,  2.79it/s, loss=0.0179, v_num=210] "
     ]
    },
    {
     "name": "stderr",
     "output_type": "stream",
     "text": [
      "`Trainer.fit` stopped: `max_epochs=25` reached.\n"
     ]
    },
    {
     "name": "stdout",
     "output_type": "stream",
     "text": [
      "Epoch 24: 100%|██████████| 158/158 [00:57<00:00,  2.77it/s, loss=0.0179, v_num=210]\n"
     ]
    },
    {
     "name": "stderr",
     "output_type": "stream",
     "text": [
      "\n",
      "  0%|          | 0/40 [00:00<?, ?it/s]\u001b[A\n",
      "  2%|▎         | 1/40 [00:01<00:44,  1.13s/it]\u001b[A\n",
      "  5%|▌         | 2/40 [00:02<00:43,  1.14s/it]\u001b[A\n",
      "  8%|▊         | 3/40 [00:03<00:41,  1.13s/it]\u001b[A\n",
      " 10%|█         | 4/40 [00:04<00:41,  1.14s/it]\u001b[A\n",
      " 12%|█▎        | 5/40 [00:05<00:39,  1.13s/it]\u001b[A\n",
      " 15%|█▌        | 6/40 [00:06<00:38,  1.14s/it]\u001b[A\n",
      " 18%|█▊        | 7/40 [00:07<00:37,  1.15s/it]\u001b[A\n",
      " 20%|██        | 8/40 [00:09<00:36,  1.14s/it]\u001b[A\n",
      " 22%|██▎       | 9/40 [00:10<00:34,  1.13s/it]\u001b[A\n",
      " 25%|██▌       | 10/40 [00:11<00:34,  1.14s/it]\u001b[A\n",
      " 28%|██▊       | 11/40 [00:12<00:33,  1.15s/it]\u001b[A\n",
      " 30%|███       | 12/40 [00:13<00:32,  1.16s/it]\u001b[A\n",
      " 32%|███▎      | 13/40 [00:14<00:30,  1.15s/it]\u001b[A\n",
      " 35%|███▌      | 14/40 [00:16<00:30,  1.16s/it]\u001b[A\n",
      " 38%|███▊      | 15/40 [00:17<00:28,  1.15s/it]\u001b[A\n",
      " 40%|████      | 16/40 [00:18<00:27,  1.15s/it]\u001b[A\n",
      " 42%|████▎     | 17/40 [00:19<00:25,  1.13s/it]\u001b[A\n",
      " 45%|████▌     | 18/40 [00:20<00:24,  1.12s/it]\u001b[A\n",
      " 48%|████▊     | 19/40 [00:21<00:23,  1.11s/it]\u001b[A\n",
      " 50%|█████     | 20/40 [00:22<00:22,  1.12s/it]\u001b[A\n",
      " 52%|█████▎    | 21/40 [00:23<00:21,  1.12s/it]\u001b[A\n",
      " 55%|█████▌    | 22/40 [00:25<00:20,  1.15s/it]\u001b[A\n",
      " 57%|█████▊    | 23/40 [00:26<00:20,  1.19s/it]\u001b[A\n",
      " 60%|██████    | 24/40 [00:27<00:19,  1.21s/it]\u001b[A\n",
      " 62%|██████▎   | 25/40 [00:28<00:17,  1.19s/it]\u001b[A\n",
      " 65%|██████▌   | 26/40 [00:29<00:16,  1.19s/it]\u001b[A\n",
      " 68%|██████▊   | 27/40 [00:31<00:15,  1.19s/it]\u001b[A\n",
      " 70%|███████   | 28/40 [00:32<00:14,  1.17s/it]\u001b[A\n",
      " 72%|███████▎  | 29/40 [00:33<00:12,  1.16s/it]\u001b[A\n",
      " 75%|███████▌  | 30/40 [00:34<00:11,  1.15s/it]\u001b[A\n",
      " 78%|███████▊  | 31/40 [00:35<00:10,  1.16s/it]\u001b[A\n",
      " 80%|████████  | 32/40 [00:36<00:09,  1.16s/it]\u001b[A\n",
      " 82%|████████▎ | 33/40 [00:37<00:08,  1.14s/it]\u001b[A\n",
      " 85%|████████▌ | 34/40 [00:39<00:06,  1.13s/it]\u001b[A\n",
      " 88%|████████▊ | 35/40 [00:40<00:05,  1.12s/it]\u001b[A\n",
      " 90%|█████████ | 36/40 [00:41<00:04,  1.13s/it]\u001b[A\n",
      " 92%|█████████▎| 37/40 [00:42<00:03,  1.14s/it]\u001b[A\n",
      " 95%|█████████▌| 38/40 [00:43<00:02,  1.14s/it]\u001b[A\n",
      " 98%|█████████▊| 39/40 [00:44<00:01,  1.14s/it]\u001b[A\n",
      "100%|██████████| 40/40 [00:45<00:00,  1.13s/it]\u001b[A\n",
      "C:\\Users\\laraquij\\Anaconda3\\envs\\tfg_dani\\lib\\site-packages\\torchvision\\models\\_utils.py:209: UserWarning: The parameter 'pretrained' is deprecated since 0.13 and may be removed in the future, please use 'weights' instead.\n",
      "  f\"The parameter '{pretrained_param}' is deprecated since 0.13 and may be removed in the future, \"\n",
      "C:\\Users\\laraquij\\Anaconda3\\envs\\tfg_dani\\lib\\site-packages\\torchvision\\models\\_utils.py:223: UserWarning: Arguments other than a weight enum or `None` for 'weights' are deprecated since 0.13 and may be removed in the future. The current behavior is equivalent to passing `weights=ResNet50_Weights.IMAGENET1K_V1`. You can also use `weights=ResNet50_Weights.DEFAULT` to get the most up-to-date weights.\n",
      "  warnings.warn(msg)\n"
     ]
    },
    {
     "name": "stdout",
     "output_type": "stream",
     "text": [
      "------------fold nº 4----------------------\n"
     ]
    },
    {
     "name": "stderr",
     "output_type": "stream",
     "text": [
      "GPU available: True (cuda), used: True\n",
      "TPU available: False, using: 0 TPU cores\n",
      "IPU available: False, using: 0 IPUs\n",
      "HPU available: False, using: 0 HPUs\n",
      "LOCAL_RANK: 0 - CUDA_VISIBLE_DEVICES: [0]\n",
      "\n",
      "  | Name      | Type           | Params\n",
      "---------------------------------------------\n",
      "0 | accuracy  | BinaryAccuracy | 0     \n",
      "1 | f1score   | BinaryF1Score  | 0     \n",
      "2 | model     | ResNet         | 23.5 M\n",
      "3 | fuzzyloss | FuzzyLoss      | 0     \n",
      "---------------------------------------------\n",
      "4.1 K     Trainable params\n",
      "23.5 M    Non-trainable params\n",
      "23.5 M    Total params\n",
      "94.049    Total estimated model params size (MB)\n",
      "C:\\Users\\laraquij\\Anaconda3\\envs\\tfg_dani\\lib\\site-packages\\pytorch_lightning\\trainer\\connectors\\data_connector.py:229: PossibleUserWarning: The dataloader, train_dataloader, does not have many workers which may be a bottleneck. Consider increasing the value of the `num_workers` argument` (try 8 which is the number of cpus on this machine) in the `DataLoader` init to improve performance.\n",
      "  category=PossibleUserWarning,\n"
     ]
    },
    {
     "name": "stdout",
     "output_type": "stream",
     "text": [
      "Epoch 24: 100%|██████████| 158/158 [00:56<00:00,  2.79it/s, loss=0.022, v_num=211] "
     ]
    },
    {
     "name": "stderr",
     "output_type": "stream",
     "text": [
      "`Trainer.fit` stopped: `max_epochs=25` reached.\n"
     ]
    },
    {
     "name": "stdout",
     "output_type": "stream",
     "text": [
      "Epoch 24: 100%|██████████| 158/158 [00:57<00:00,  2.76it/s, loss=0.022, v_num=211]\n"
     ]
    },
    {
     "name": "stderr",
     "output_type": "stream",
     "text": [
      "\n",
      "  0%|          | 0/40 [00:00<?, ?it/s]\u001b[A\n",
      "  2%|▎         | 1/40 [00:01<00:43,  1.12s/it]\u001b[A\n",
      "  5%|▌         | 2/40 [00:02<00:43,  1.15s/it]\u001b[A\n",
      "  8%|▊         | 3/40 [00:03<00:42,  1.15s/it]\u001b[A\n",
      " 10%|█         | 4/40 [00:04<00:40,  1.13s/it]\u001b[A\n",
      " 12%|█▎        | 5/40 [00:05<00:40,  1.15s/it]\u001b[A\n",
      " 15%|█▌        | 6/40 [00:06<00:38,  1.13s/it]\u001b[A\n",
      " 18%|█▊        | 7/40 [00:07<00:37,  1.13s/it]\u001b[A\n",
      " 20%|██        | 8/40 [00:09<00:36,  1.14s/it]\u001b[A\n",
      " 22%|██▎       | 9/40 [00:10<00:35,  1.14s/it]\u001b[A\n",
      " 25%|██▌       | 10/40 [00:11<00:34,  1.13s/it]\u001b[A\n",
      " 28%|██▊       | 11/40 [00:12<00:33,  1.15s/it]\u001b[A\n",
      " 30%|███       | 12/40 [00:13<00:31,  1.13s/it]\u001b[A\n",
      " 32%|███▎      | 13/40 [00:14<00:30,  1.12s/it]\u001b[A\n",
      " 35%|███▌      | 14/40 [00:15<00:29,  1.13s/it]\u001b[A\n",
      " 38%|███▊      | 15/40 [00:17<00:27,  1.12s/it]\u001b[A\n",
      " 40%|████      | 16/40 [00:18<00:27,  1.14s/it]\u001b[A\n",
      " 42%|████▎     | 17/40 [00:19<00:26,  1.14s/it]\u001b[A\n",
      " 45%|████▌     | 18/40 [00:20<00:25,  1.15s/it]\u001b[A\n",
      " 48%|████▊     | 19/40 [00:21<00:24,  1.16s/it]\u001b[A\n",
      " 50%|█████     | 20/40 [00:22<00:22,  1.14s/it]\u001b[A\n",
      " 52%|█████▎    | 21/40 [00:23<00:21,  1.12s/it]\u001b[A\n",
      " 55%|█████▌    | 22/40 [00:24<00:20,  1.12s/it]\u001b[A\n",
      " 57%|█████▊    | 23/40 [00:26<00:19,  1.14s/it]\u001b[A\n",
      " 60%|██████    | 24/40 [00:27<00:18,  1.15s/it]\u001b[A\n",
      " 62%|██████▎   | 25/40 [00:28<00:17,  1.15s/it]\u001b[A\n",
      " 65%|██████▌   | 26/40 [00:29<00:15,  1.14s/it]\u001b[A\n",
      " 68%|██████▊   | 27/40 [00:30<00:14,  1.15s/it]\u001b[A\n",
      " 70%|███████   | 28/40 [00:31<00:13,  1.14s/it]\u001b[A\n",
      " 72%|███████▎  | 29/40 [00:33<00:12,  1.14s/it]\u001b[A\n",
      " 75%|███████▌  | 30/40 [00:34<00:11,  1.14s/it]\u001b[A\n",
      " 78%|███████▊  | 31/40 [00:35<00:10,  1.14s/it]\u001b[A\n",
      " 80%|████████  | 32/40 [00:36<00:09,  1.14s/it]\u001b[A\n",
      " 82%|████████▎ | 33/40 [00:37<00:07,  1.14s/it]\u001b[A\n",
      " 85%|████████▌ | 34/40 [00:38<00:06,  1.15s/it]\u001b[A\n",
      " 88%|████████▊ | 35/40 [00:39<00:05,  1.16s/it]\u001b[A\n",
      " 90%|█████████ | 36/40 [00:41<00:04,  1.16s/it]\u001b[A\n",
      " 92%|█████████▎| 37/40 [00:42<00:03,  1.17s/it]\u001b[A\n",
      " 95%|█████████▌| 38/40 [00:43<00:02,  1.16s/it]\u001b[A\n",
      " 98%|█████████▊| 39/40 [00:44<00:01,  1.16s/it]\u001b[A\n",
      "100%|██████████| 40/40 [00:44<00:00,  1.12s/it]\u001b[A\n",
      "C:\\Users\\laraquij\\Anaconda3\\envs\\tfg_dani\\lib\\site-packages\\torchvision\\models\\_utils.py:209: UserWarning: The parameter 'pretrained' is deprecated since 0.13 and may be removed in the future, please use 'weights' instead.\n",
      "  f\"The parameter '{pretrained_param}' is deprecated since 0.13 and may be removed in the future, \"\n",
      "C:\\Users\\laraquij\\Anaconda3\\envs\\tfg_dani\\lib\\site-packages\\torchvision\\models\\_utils.py:223: UserWarning: Arguments other than a weight enum or `None` for 'weights' are deprecated since 0.13 and may be removed in the future. The current behavior is equivalent to passing `weights=ResNet50_Weights.IMAGENET1K_V1`. You can also use `weights=ResNet50_Weights.DEFAULT` to get the most up-to-date weights.\n",
      "  warnings.warn(msg)\n"
     ]
    },
    {
     "name": "stdout",
     "output_type": "stream",
     "text": [
      "------------fold nº 0----------------------\n"
     ]
    },
    {
     "name": "stderr",
     "output_type": "stream",
     "text": [
      "GPU available: True (cuda), used: True\n",
      "TPU available: False, using: 0 TPU cores\n",
      "IPU available: False, using: 0 IPUs\n",
      "HPU available: False, using: 0 HPUs\n",
      "LOCAL_RANK: 0 - CUDA_VISIBLE_DEVICES: [0]\n",
      "\n",
      "  | Name      | Type           | Params\n",
      "---------------------------------------------\n",
      "0 | accuracy  | BinaryAccuracy | 0     \n",
      "1 | f1score   | BinaryF1Score  | 0     \n",
      "2 | model     | ResNet         | 23.5 M\n",
      "3 | fuzzyloss | FuzzyLoss      | 0     \n",
      "---------------------------------------------\n",
      "4.1 K     Trainable params\n",
      "23.5 M    Non-trainable params\n",
      "23.5 M    Total params\n",
      "94.049    Total estimated model params size (MB)\n",
      "C:\\Users\\laraquij\\Anaconda3\\envs\\tfg_dani\\lib\\site-packages\\pytorch_lightning\\trainer\\connectors\\data_connector.py:229: PossibleUserWarning: The dataloader, train_dataloader, does not have many workers which may be a bottleneck. Consider increasing the value of the `num_workers` argument` (try 8 which is the number of cpus on this machine) in the `DataLoader` init to improve performance.\n",
      "  category=PossibleUserWarning,\n"
     ]
    },
    {
     "name": "stdout",
     "output_type": "stream",
     "text": [
      "Epoch 34: 100%|██████████| 158/158 [00:56<00:00,  2.77it/s, loss=0.0604, v_num=212]"
     ]
    },
    {
     "name": "stderr",
     "output_type": "stream",
     "text": [
      "`Trainer.fit` stopped: `max_epochs=35` reached.\n"
     ]
    },
    {
     "name": "stdout",
     "output_type": "stream",
     "text": [
      "Epoch 34: 100%|██████████| 158/158 [00:57<00:00,  2.75it/s, loss=0.0604, v_num=212]\n"
     ]
    },
    {
     "name": "stderr",
     "output_type": "stream",
     "text": [
      "\n",
      "  0%|          | 0/40 [00:00<?, ?it/s]\u001b[A\n",
      "  2%|▎         | 1/40 [00:01<00:44,  1.14s/it]\u001b[A\n",
      "  5%|▌         | 2/40 [00:02<00:42,  1.12s/it]\u001b[A\n",
      "  8%|▊         | 3/40 [00:03<00:41,  1.13s/it]\u001b[A\n",
      " 10%|█         | 4/40 [00:04<00:39,  1.11s/it]\u001b[A\n",
      " 12%|█▎        | 5/40 [00:05<00:39,  1.13s/it]\u001b[A\n",
      " 15%|█▌        | 6/40 [00:06<00:38,  1.14s/it]\u001b[A\n",
      " 18%|█▊        | 7/40 [00:07<00:37,  1.14s/it]\u001b[A\n",
      " 20%|██        | 8/40 [00:09<00:36,  1.13s/it]\u001b[A\n",
      " 22%|██▎       | 9/40 [00:10<00:35,  1.15s/it]\u001b[A\n",
      " 25%|██▌       | 10/40 [00:11<00:35,  1.17s/it]\u001b[A\n",
      " 28%|██▊       | 11/40 [00:12<00:33,  1.16s/it]\u001b[A\n",
      " 30%|███       | 12/40 [00:13<00:32,  1.15s/it]\u001b[A\n",
      " 32%|███▎      | 13/40 [00:14<00:30,  1.14s/it]\u001b[A\n",
      " 35%|███▌      | 14/40 [00:15<00:29,  1.13s/it]\u001b[A\n",
      " 38%|███▊      | 15/40 [00:17<00:28,  1.15s/it]\u001b[A\n",
      " 40%|████      | 16/40 [00:18<00:27,  1.16s/it]\u001b[A\n",
      " 42%|████▎     | 17/40 [00:19<00:26,  1.15s/it]\u001b[A\n",
      " 45%|████▌     | 18/40 [00:20<00:25,  1.15s/it]\u001b[A\n",
      " 48%|████▊     | 19/40 [00:21<00:24,  1.16s/it]\u001b[A\n",
      " 50%|█████     | 20/40 [00:22<00:22,  1.14s/it]\u001b[A\n",
      " 52%|█████▎    | 21/40 [00:24<00:21,  1.14s/it]\u001b[A\n",
      " 55%|█████▌    | 22/40 [00:25<00:20,  1.13s/it]\u001b[A\n",
      " 57%|█████▊    | 23/40 [00:26<00:19,  1.13s/it]\u001b[A\n",
      " 60%|██████    | 24/40 [00:27<00:18,  1.14s/it]\u001b[A\n",
      " 62%|██████▎   | 25/40 [00:28<00:17,  1.15s/it]\u001b[A\n",
      " 65%|██████▌   | 26/40 [00:29<00:16,  1.15s/it]\u001b[A\n",
      " 68%|██████▊   | 27/40 [00:30<00:15,  1.16s/it]\u001b[A\n",
      " 70%|███████   | 28/40 [00:32<00:13,  1.15s/it]\u001b[A\n",
      " 72%|███████▎  | 29/40 [00:33<00:12,  1.15s/it]\u001b[A\n",
      " 75%|███████▌  | 30/40 [00:34<00:11,  1.15s/it]\u001b[A\n",
      " 78%|███████▊  | 31/40 [00:35<00:10,  1.14s/it]\u001b[A\n",
      " 80%|████████  | 32/40 [00:36<00:09,  1.15s/it]\u001b[A\n",
      " 82%|████████▎ | 33/40 [00:37<00:08,  1.17s/it]\u001b[A\n",
      " 85%|████████▌ | 34/40 [00:39<00:06,  1.16s/it]\u001b[A\n",
      " 88%|████████▊ | 35/40 [00:40<00:05,  1.16s/it]\u001b[A\n",
      " 90%|█████████ | 36/40 [00:41<00:04,  1.18s/it]\u001b[A\n",
      " 92%|█████████▎| 37/40 [00:42<00:03,  1.17s/it]\u001b[A\n",
      " 95%|█████████▌| 38/40 [00:43<00:02,  1.17s/it]\u001b[A\n",
      " 98%|█████████▊| 39/40 [00:44<00:01,  1.17s/it]\u001b[A\n",
      "100%|██████████| 40/40 [00:45<00:00,  1.13s/it]\u001b[A\n",
      "C:\\Users\\laraquij\\Anaconda3\\envs\\tfg_dani\\lib\\site-packages\\torchvision\\models\\_utils.py:209: UserWarning: The parameter 'pretrained' is deprecated since 0.13 and may be removed in the future, please use 'weights' instead.\n",
      "  f\"The parameter '{pretrained_param}' is deprecated since 0.13 and may be removed in the future, \"\n",
      "C:\\Users\\laraquij\\Anaconda3\\envs\\tfg_dani\\lib\\site-packages\\torchvision\\models\\_utils.py:223: UserWarning: Arguments other than a weight enum or `None` for 'weights' are deprecated since 0.13 and may be removed in the future. The current behavior is equivalent to passing `weights=ResNet50_Weights.IMAGENET1K_V1`. You can also use `weights=ResNet50_Weights.DEFAULT` to get the most up-to-date weights.\n",
      "  warnings.warn(msg)\n"
     ]
    },
    {
     "name": "stdout",
     "output_type": "stream",
     "text": [
      "------------fold nº 1----------------------\n"
     ]
    },
    {
     "name": "stderr",
     "output_type": "stream",
     "text": [
      "GPU available: True (cuda), used: True\n",
      "TPU available: False, using: 0 TPU cores\n",
      "IPU available: False, using: 0 IPUs\n",
      "HPU available: False, using: 0 HPUs\n",
      "LOCAL_RANK: 0 - CUDA_VISIBLE_DEVICES: [0]\n",
      "\n",
      "  | Name      | Type           | Params\n",
      "---------------------------------------------\n",
      "0 | accuracy  | BinaryAccuracy | 0     \n",
      "1 | f1score   | BinaryF1Score  | 0     \n",
      "2 | model     | ResNet         | 23.5 M\n",
      "3 | fuzzyloss | FuzzyLoss      | 0     \n",
      "---------------------------------------------\n",
      "4.1 K     Trainable params\n",
      "23.5 M    Non-trainable params\n",
      "23.5 M    Total params\n",
      "94.049    Total estimated model params size (MB)\n",
      "C:\\Users\\laraquij\\Anaconda3\\envs\\tfg_dani\\lib\\site-packages\\pytorch_lightning\\trainer\\connectors\\data_connector.py:229: PossibleUserWarning: The dataloader, train_dataloader, does not have many workers which may be a bottleneck. Consider increasing the value of the `num_workers` argument` (try 8 which is the number of cpus on this machine) in the `DataLoader` init to improve performance.\n",
      "  category=PossibleUserWarning,\n"
     ]
    },
    {
     "name": "stdout",
     "output_type": "stream",
     "text": [
      "Epoch 34: 100%|██████████| 158/158 [00:57<00:00,  2.76it/s, loss=0.296, v_num=213] "
     ]
    },
    {
     "name": "stderr",
     "output_type": "stream",
     "text": [
      "`Trainer.fit` stopped: `max_epochs=35` reached.\n"
     ]
    },
    {
     "name": "stdout",
     "output_type": "stream",
     "text": [
      "Epoch 34: 100%|██████████| 158/158 [00:57<00:00,  2.74it/s, loss=0.296, v_num=213]\n"
     ]
    },
    {
     "name": "stderr",
     "output_type": "stream",
     "text": [
      "\n",
      "  0%|          | 0/40 [00:00<?, ?it/s]\u001b[A\n",
      "  2%|▎         | 1/40 [00:01<00:44,  1.13s/it]\u001b[A\n",
      "  5%|▌         | 2/40 [00:02<00:42,  1.12s/it]\u001b[A\n",
      "  8%|▊         | 3/40 [00:03<00:41,  1.13s/it]\u001b[A\n",
      " 10%|█         | 4/40 [00:04<00:41,  1.14s/it]\u001b[A\n",
      " 12%|█▎        | 5/40 [00:05<00:39,  1.14s/it]\u001b[A\n",
      " 15%|█▌        | 6/40 [00:06<00:39,  1.16s/it]\u001b[A\n",
      " 18%|█▊        | 7/40 [00:07<00:37,  1.13s/it]\u001b[A\n",
      " 20%|██        | 8/40 [00:09<00:36,  1.14s/it]\u001b[A\n",
      " 22%|██▎       | 9/40 [00:10<00:35,  1.15s/it]\u001b[A\n",
      " 25%|██▌       | 10/40 [00:11<00:34,  1.15s/it]\u001b[A\n",
      " 28%|██▊       | 11/40 [00:12<00:33,  1.15s/it]\u001b[A\n",
      " 30%|███       | 12/40 [00:13<00:32,  1.16s/it]\u001b[A\n",
      " 32%|███▎      | 13/40 [00:14<00:31,  1.17s/it]\u001b[A\n",
      " 35%|███▌      | 14/40 [00:16<00:30,  1.17s/it]\u001b[A\n",
      " 38%|███▊      | 15/40 [00:17<00:28,  1.16s/it]\u001b[A\n",
      " 40%|████      | 16/40 [00:18<00:27,  1.16s/it]\u001b[A\n",
      " 42%|████▎     | 17/40 [00:19<00:25,  1.13s/it]\u001b[A\n",
      " 45%|████▌     | 18/40 [00:20<00:24,  1.12s/it]\u001b[A\n",
      " 48%|████▊     | 19/40 [00:21<00:23,  1.11s/it]\u001b[A\n",
      " 50%|█████     | 20/40 [00:22<00:22,  1.13s/it]\u001b[A\n",
      " 52%|█████▎    | 21/40 [00:23<00:21,  1.13s/it]\u001b[A\n",
      " 55%|█████▌    | 22/40 [00:25<00:20,  1.14s/it]\u001b[A\n",
      " 57%|█████▊    | 23/40 [00:26<00:19,  1.12s/it]\u001b[A\n",
      " 60%|██████    | 24/40 [00:27<00:18,  1.13s/it]\u001b[A\n",
      " 62%|██████▎   | 25/40 [00:28<00:17,  1.15s/it]\u001b[A\n",
      " 65%|██████▌   | 26/40 [00:29<00:16,  1.15s/it]\u001b[A\n",
      " 68%|██████▊   | 27/40 [00:30<00:14,  1.15s/it]\u001b[A\n",
      " 70%|███████   | 28/40 [00:31<00:13,  1.14s/it]\u001b[A\n",
      " 72%|███████▎  | 29/40 [00:33<00:12,  1.12s/it]\u001b[A\n",
      " 75%|███████▌  | 30/40 [00:34<00:11,  1.13s/it]\u001b[A\n",
      " 78%|███████▊  | 31/40 [00:35<00:10,  1.15s/it]\u001b[A\n",
      " 80%|████████  | 32/40 [00:36<00:09,  1.15s/it]\u001b[A\n",
      " 82%|████████▎ | 33/40 [00:37<00:08,  1.14s/it]\u001b[A\n",
      " 85%|████████▌ | 34/40 [00:38<00:06,  1.15s/it]\u001b[A\n",
      " 88%|████████▊ | 35/40 [00:40<00:05,  1.17s/it]\u001b[A\n",
      " 90%|█████████ | 36/40 [00:41<00:04,  1.15s/it]\u001b[A\n",
      " 92%|█████████▎| 37/40 [00:42<00:03,  1.21s/it]\u001b[A\n",
      " 95%|█████████▌| 38/40 [00:43<00:02,  1.19s/it]\u001b[A\n",
      " 98%|█████████▊| 39/40 [00:44<00:01,  1.17s/it]\u001b[A\n",
      "100%|██████████| 40/40 [00:45<00:00,  1.13s/it]\u001b[A\n",
      "C:\\Users\\laraquij\\Anaconda3\\envs\\tfg_dani\\lib\\site-packages\\torchvision\\models\\_utils.py:209: UserWarning: The parameter 'pretrained' is deprecated since 0.13 and may be removed in the future, please use 'weights' instead.\n",
      "  f\"The parameter '{pretrained_param}' is deprecated since 0.13 and may be removed in the future, \"\n",
      "C:\\Users\\laraquij\\Anaconda3\\envs\\tfg_dani\\lib\\site-packages\\torchvision\\models\\_utils.py:223: UserWarning: Arguments other than a weight enum or `None` for 'weights' are deprecated since 0.13 and may be removed in the future. The current behavior is equivalent to passing `weights=ResNet50_Weights.IMAGENET1K_V1`. You can also use `weights=ResNet50_Weights.DEFAULT` to get the most up-to-date weights.\n",
      "  warnings.warn(msg)\n"
     ]
    },
    {
     "name": "stdout",
     "output_type": "stream",
     "text": [
      "------------fold nº 2----------------------\n"
     ]
    },
    {
     "name": "stderr",
     "output_type": "stream",
     "text": [
      "GPU available: True (cuda), used: True\n",
      "TPU available: False, using: 0 TPU cores\n",
      "IPU available: False, using: 0 IPUs\n",
      "HPU available: False, using: 0 HPUs\n",
      "LOCAL_RANK: 0 - CUDA_VISIBLE_DEVICES: [0]\n",
      "\n",
      "  | Name      | Type           | Params\n",
      "---------------------------------------------\n",
      "0 | accuracy  | BinaryAccuracy | 0     \n",
      "1 | f1score   | BinaryF1Score  | 0     \n",
      "2 | model     | ResNet         | 23.5 M\n",
      "3 | fuzzyloss | FuzzyLoss      | 0     \n",
      "---------------------------------------------\n",
      "4.1 K     Trainable params\n",
      "23.5 M    Non-trainable params\n",
      "23.5 M    Total params\n",
      "94.049    Total estimated model params size (MB)\n",
      "C:\\Users\\laraquij\\Anaconda3\\envs\\tfg_dani\\lib\\site-packages\\pytorch_lightning\\trainer\\connectors\\data_connector.py:229: PossibleUserWarning: The dataloader, train_dataloader, does not have many workers which may be a bottleneck. Consider increasing the value of the `num_workers` argument` (try 8 which is the number of cpus on this machine) in the `DataLoader` init to improve performance.\n",
      "  category=PossibleUserWarning,\n"
     ]
    },
    {
     "name": "stdout",
     "output_type": "stream",
     "text": [
      "Epoch 34: 100%|██████████| 158/158 [00:57<00:00,  2.75it/s, loss=0.0821, v_num=214] "
     ]
    },
    {
     "name": "stderr",
     "output_type": "stream",
     "text": [
      "`Trainer.fit` stopped: `max_epochs=35` reached.\n"
     ]
    },
    {
     "name": "stdout",
     "output_type": "stream",
     "text": [
      "Epoch 34: 100%|██████████| 158/158 [00:57<00:00,  2.73it/s, loss=0.0821, v_num=214]\n"
     ]
    },
    {
     "name": "stderr",
     "output_type": "stream",
     "text": [
      "\n",
      "  0%|          | 0/40 [00:00<?, ?it/s]\u001b[A\n",
      "  2%|▎         | 1/40 [00:01<00:43,  1.11s/it]\u001b[A\n",
      "  5%|▌         | 2/40 [00:02<00:44,  1.16s/it]\u001b[A\n",
      "  8%|▊         | 3/40 [00:03<00:43,  1.18s/it]\u001b[A\n",
      " 10%|█         | 4/40 [00:04<00:42,  1.18s/it]\u001b[A\n",
      " 12%|█▎        | 5/40 [00:05<00:41,  1.18s/it]\u001b[A\n",
      " 15%|█▌        | 6/40 [00:07<00:40,  1.18s/it]\u001b[A\n",
      " 18%|█▊        | 7/40 [00:08<00:38,  1.17s/it]\u001b[A\n",
      " 20%|██        | 8/40 [00:09<00:37,  1.16s/it]\u001b[A\n",
      " 22%|██▎       | 9/40 [00:10<00:35,  1.16s/it]\u001b[A\n",
      " 25%|██▌       | 10/40 [00:11<00:34,  1.16s/it]\u001b[A\n",
      " 28%|██▊       | 11/40 [00:12<00:33,  1.16s/it]\u001b[A\n",
      " 30%|███       | 12/40 [00:13<00:32,  1.15s/it]\u001b[A\n",
      " 32%|███▎      | 13/40 [00:15<00:31,  1.15s/it]\u001b[A\n",
      " 35%|███▌      | 14/40 [00:16<00:29,  1.15s/it]\u001b[A\n",
      " 38%|███▊      | 15/40 [00:17<00:29,  1.18s/it]\u001b[A\n",
      " 40%|████      | 16/40 [00:18<00:28,  1.19s/it]\u001b[A\n",
      " 42%|████▎     | 17/40 [00:19<00:27,  1.18s/it]\u001b[A\n",
      " 45%|████▌     | 18/40 [00:20<00:25,  1.16s/it]\u001b[A\n",
      " 48%|████▊     | 19/40 [00:22<00:24,  1.16s/it]\u001b[A\n",
      " 50%|█████     | 20/40 [00:23<00:23,  1.16s/it]\u001b[A\n",
      " 52%|█████▎    | 21/40 [00:24<00:22,  1.16s/it]\u001b[A\n",
      " 55%|█████▌    | 22/40 [00:25<00:20,  1.16s/it]\u001b[A\n",
      " 57%|█████▊    | 23/40 [00:26<00:19,  1.14s/it]\u001b[A\n",
      " 60%|██████    | 24/40 [00:27<00:18,  1.16s/it]\u001b[A\n",
      " 62%|██████▎   | 25/40 [00:29<00:17,  1.16s/it]\u001b[A\n",
      " 65%|██████▌   | 26/40 [00:30<00:16,  1.16s/it]\u001b[A\n",
      " 68%|██████▊   | 27/40 [00:31<00:14,  1.14s/it]\u001b[A\n",
      " 70%|███████   | 28/40 [00:32<00:13,  1.15s/it]\u001b[A\n",
      " 72%|███████▎  | 29/40 [00:33<00:12,  1.17s/it]\u001b[A\n",
      " 75%|███████▌  | 30/40 [00:34<00:11,  1.19s/it]\u001b[A\n",
      " 78%|███████▊  | 31/40 [00:36<00:10,  1.19s/it]\u001b[A\n",
      " 80%|████████  | 32/40 [00:37<00:09,  1.19s/it]\u001b[A\n",
      " 82%|████████▎ | 33/40 [00:38<00:08,  1.18s/it]\u001b[A\n",
      " 85%|████████▌ | 34/40 [00:39<00:07,  1.18s/it]\u001b[A\n",
      " 88%|████████▊ | 35/40 [00:40<00:05,  1.17s/it]\u001b[A\n",
      " 90%|█████████ | 36/40 [00:41<00:04,  1.16s/it]\u001b[A\n",
      " 92%|█████████▎| 37/40 [00:43<00:03,  1.14s/it]\u001b[A\n",
      " 95%|█████████▌| 38/40 [00:44<00:02,  1.15s/it]\u001b[A\n",
      " 98%|█████████▊| 39/40 [00:45<00:01,  1.16s/it]\u001b[A\n",
      "100%|██████████| 40/40 [00:45<00:00,  1.15s/it]\u001b[A\n",
      "C:\\Users\\laraquij\\Anaconda3\\envs\\tfg_dani\\lib\\site-packages\\torchvision\\models\\_utils.py:209: UserWarning: The parameter 'pretrained' is deprecated since 0.13 and may be removed in the future, please use 'weights' instead.\n",
      "  f\"The parameter '{pretrained_param}' is deprecated since 0.13 and may be removed in the future, \"\n",
      "C:\\Users\\laraquij\\Anaconda3\\envs\\tfg_dani\\lib\\site-packages\\torchvision\\models\\_utils.py:223: UserWarning: Arguments other than a weight enum or `None` for 'weights' are deprecated since 0.13 and may be removed in the future. The current behavior is equivalent to passing `weights=ResNet50_Weights.IMAGENET1K_V1`. You can also use `weights=ResNet50_Weights.DEFAULT` to get the most up-to-date weights.\n",
      "  warnings.warn(msg)\n"
     ]
    },
    {
     "name": "stdout",
     "output_type": "stream",
     "text": [
      "------------fold nº 3----------------------\n"
     ]
    },
    {
     "name": "stderr",
     "output_type": "stream",
     "text": [
      "GPU available: True (cuda), used: True\n",
      "TPU available: False, using: 0 TPU cores\n",
      "IPU available: False, using: 0 IPUs\n",
      "HPU available: False, using: 0 HPUs\n",
      "LOCAL_RANK: 0 - CUDA_VISIBLE_DEVICES: [0]\n",
      "\n",
      "  | Name      | Type           | Params\n",
      "---------------------------------------------\n",
      "0 | accuracy  | BinaryAccuracy | 0     \n",
      "1 | f1score   | BinaryF1Score  | 0     \n",
      "2 | model     | ResNet         | 23.5 M\n",
      "3 | fuzzyloss | FuzzyLoss      | 0     \n",
      "---------------------------------------------\n",
      "4.1 K     Trainable params\n",
      "23.5 M    Non-trainable params\n",
      "23.5 M    Total params\n",
      "94.049    Total estimated model params size (MB)\n",
      "C:\\Users\\laraquij\\Anaconda3\\envs\\tfg_dani\\lib\\site-packages\\pytorch_lightning\\trainer\\connectors\\data_connector.py:229: PossibleUserWarning: The dataloader, train_dataloader, does not have many workers which may be a bottleneck. Consider increasing the value of the `num_workers` argument` (try 8 which is the number of cpus on this machine) in the `DataLoader` init to improve performance.\n",
      "  category=PossibleUserWarning,\n"
     ]
    },
    {
     "name": "stdout",
     "output_type": "stream",
     "text": [
      "Epoch 34: 100%|██████████| 158/158 [00:57<00:00,  2.75it/s, loss=0.0488, v_num=215] "
     ]
    },
    {
     "name": "stderr",
     "output_type": "stream",
     "text": [
      "`Trainer.fit` stopped: `max_epochs=35` reached.\n"
     ]
    },
    {
     "name": "stdout",
     "output_type": "stream",
     "text": [
      "Epoch 34: 100%|██████████| 158/158 [00:58<00:00,  2.72it/s, loss=0.0488, v_num=215]\n"
     ]
    },
    {
     "name": "stderr",
     "output_type": "stream",
     "text": [
      "\n",
      "  0%|          | 0/40 [00:00<?, ?it/s]\u001b[A\n",
      "  2%|▎         | 1/40 [00:01<00:45,  1.17s/it]\u001b[A\n",
      "  5%|▌         | 2/40 [00:02<00:44,  1.18s/it]\u001b[A\n",
      "  8%|▊         | 3/40 [00:03<00:43,  1.16s/it]\u001b[A\n",
      " 10%|█         | 4/40 [00:04<00:41,  1.15s/it]\u001b[A\n",
      " 12%|█▎        | 5/40 [00:05<00:40,  1.16s/it]\u001b[A\n",
      " 15%|█▌        | 6/40 [00:06<00:39,  1.17s/it]\u001b[A\n",
      " 18%|█▊        | 7/40 [00:08<00:38,  1.17s/it]\u001b[A\n",
      " 20%|██        | 8/40 [00:09<00:37,  1.17s/it]\u001b[A\n",
      " 22%|██▎       | 9/40 [00:10<00:37,  1.22s/it]\u001b[A\n",
      " 25%|██▌       | 10/40 [00:11<00:36,  1.21s/it]\u001b[A\n",
      " 28%|██▊       | 11/40 [00:12<00:34,  1.19s/it]\u001b[A\n",
      " 30%|███       | 12/40 [00:14<00:32,  1.16s/it]\u001b[A\n",
      " 32%|███▎      | 13/40 [00:15<00:31,  1.18s/it]\u001b[A\n",
      " 35%|███▌      | 14/40 [00:16<00:30,  1.17s/it]\u001b[A\n",
      " 38%|███▊      | 15/40 [00:17<00:29,  1.16s/it]\u001b[A\n",
      " 40%|████      | 16/40 [00:18<00:27,  1.13s/it]\u001b[A\n",
      " 42%|████▎     | 17/40 [00:19<00:26,  1.14s/it]\u001b[A\n",
      " 45%|████▌     | 18/40 [00:20<00:25,  1.14s/it]\u001b[A\n",
      " 48%|████▊     | 19/40 [00:22<00:24,  1.16s/it]\u001b[A\n",
      " 50%|█████     | 20/40 [00:23<00:22,  1.15s/it]\u001b[A\n",
      " 52%|█████▎    | 21/40 [00:24<00:21,  1.14s/it]\u001b[A\n",
      " 55%|█████▌    | 22/40 [00:25<00:20,  1.15s/it]\u001b[A\n",
      " 57%|█████▊    | 23/40 [00:26<00:19,  1.15s/it]\u001b[A\n",
      " 60%|██████    | 24/40 [00:27<00:18,  1.14s/it]\u001b[A\n",
      " 62%|██████▎   | 25/40 [00:28<00:17,  1.14s/it]\u001b[A\n",
      " 65%|██████▌   | 26/40 [00:30<00:15,  1.14s/it]\u001b[A\n",
      " 68%|██████▊   | 27/40 [00:31<00:15,  1.15s/it]\u001b[A\n",
      " 70%|███████   | 28/40 [00:32<00:13,  1.15s/it]\u001b[A\n",
      " 72%|███████▎  | 29/40 [00:33<00:12,  1.18s/it]\u001b[A\n",
      " 75%|███████▌  | 30/40 [00:34<00:11,  1.15s/it]\u001b[A\n",
      " 78%|███████▊  | 31/40 [00:35<00:10,  1.16s/it]\u001b[A\n",
      " 80%|████████  | 32/40 [00:37<00:09,  1.16s/it]\u001b[A\n",
      " 82%|████████▎ | 33/40 [00:38<00:08,  1.16s/it]\u001b[A\n",
      " 85%|████████▌ | 34/40 [00:39<00:07,  1.17s/it]\u001b[A\n",
      " 88%|████████▊ | 35/40 [00:40<00:05,  1.18s/it]\u001b[A\n",
      " 90%|█████████ | 36/40 [00:41<00:04,  1.18s/it]\u001b[A\n",
      " 92%|█████████▎| 37/40 [00:42<00:03,  1.16s/it]\u001b[A\n",
      " 95%|█████████▌| 38/40 [00:44<00:02,  1.18s/it]\u001b[A\n",
      " 98%|█████████▊| 39/40 [00:45<00:01,  1.20s/it]\u001b[A\n",
      "100%|██████████| 40/40 [00:45<00:00,  1.15s/it]\u001b[A\n",
      "C:\\Users\\laraquij\\Anaconda3\\envs\\tfg_dani\\lib\\site-packages\\torchvision\\models\\_utils.py:209: UserWarning: The parameter 'pretrained' is deprecated since 0.13 and may be removed in the future, please use 'weights' instead.\n",
      "  f\"The parameter '{pretrained_param}' is deprecated since 0.13 and may be removed in the future, \"\n",
      "C:\\Users\\laraquij\\Anaconda3\\envs\\tfg_dani\\lib\\site-packages\\torchvision\\models\\_utils.py:223: UserWarning: Arguments other than a weight enum or `None` for 'weights' are deprecated since 0.13 and may be removed in the future. The current behavior is equivalent to passing `weights=ResNet50_Weights.IMAGENET1K_V1`. You can also use `weights=ResNet50_Weights.DEFAULT` to get the most up-to-date weights.\n",
      "  warnings.warn(msg)\n"
     ]
    },
    {
     "name": "stdout",
     "output_type": "stream",
     "text": [
      "------------fold nº 4----------------------\n"
     ]
    },
    {
     "name": "stderr",
     "output_type": "stream",
     "text": [
      "GPU available: True (cuda), used: True\n",
      "TPU available: False, using: 0 TPU cores\n",
      "IPU available: False, using: 0 IPUs\n",
      "HPU available: False, using: 0 HPUs\n",
      "LOCAL_RANK: 0 - CUDA_VISIBLE_DEVICES: [0]\n",
      "\n",
      "  | Name      | Type           | Params\n",
      "---------------------------------------------\n",
      "0 | accuracy  | BinaryAccuracy | 0     \n",
      "1 | f1score   | BinaryF1Score  | 0     \n",
      "2 | model     | ResNet         | 23.5 M\n",
      "3 | fuzzyloss | FuzzyLoss      | 0     \n",
      "---------------------------------------------\n",
      "4.1 K     Trainable params\n",
      "23.5 M    Non-trainable params\n",
      "23.5 M    Total params\n",
      "94.049    Total estimated model params size (MB)\n",
      "C:\\Users\\laraquij\\Anaconda3\\envs\\tfg_dani\\lib\\site-packages\\pytorch_lightning\\trainer\\connectors\\data_connector.py:229: PossibleUserWarning: The dataloader, train_dataloader, does not have many workers which may be a bottleneck. Consider increasing the value of the `num_workers` argument` (try 8 which is the number of cpus on this machine) in the `DataLoader` init to improve performance.\n",
      "  category=PossibleUserWarning,\n"
     ]
    },
    {
     "name": "stdout",
     "output_type": "stream",
     "text": [
      "Epoch 34: 100%|██████████| 158/158 [00:57<00:00,  2.73it/s, loss=0.0374, v_num=216] "
     ]
    },
    {
     "name": "stderr",
     "output_type": "stream",
     "text": [
      "`Trainer.fit` stopped: `max_epochs=35` reached.\n"
     ]
    },
    {
     "name": "stdout",
     "output_type": "stream",
     "text": [
      "Epoch 34: 100%|██████████| 158/158 [00:58<00:00,  2.71it/s, loss=0.0374, v_num=216]\n"
     ]
    },
    {
     "name": "stderr",
     "output_type": "stream",
     "text": [
      "\n",
      "  0%|          | 0/40 [00:00<?, ?it/s]\u001b[A\n",
      "  2%|▎         | 1/40 [00:01<00:45,  1.17s/it]\u001b[A\n",
      "  5%|▌         | 2/40 [00:02<00:43,  1.15s/it]\u001b[A\n",
      "  8%|▊         | 3/40 [00:03<00:42,  1.15s/it]\u001b[A\n",
      " 10%|█         | 4/40 [00:04<00:41,  1.16s/it]\u001b[A\n",
      " 12%|█▎        | 5/40 [00:05<00:40,  1.15s/it]\u001b[A\n",
      " 15%|█▌        | 6/40 [00:06<00:38,  1.14s/it]\u001b[A\n",
      " 18%|█▊        | 7/40 [00:07<00:37,  1.13s/it]\u001b[A\n",
      " 20%|██        | 8/40 [00:09<00:36,  1.13s/it]\u001b[A\n",
      " 22%|██▎       | 9/40 [00:10<00:35,  1.15s/it]\u001b[A\n",
      " 25%|██▌       | 10/40 [00:12<00:39,  1.32s/it]\u001b[A\n",
      " 28%|██▊       | 11/40 [00:13<00:36,  1.27s/it]\u001b[A\n",
      " 30%|███       | 12/40 [00:14<00:34,  1.24s/it]\u001b[A\n",
      " 32%|███▎      | 13/40 [00:15<00:33,  1.23s/it]\u001b[A\n",
      " 35%|███▌      | 14/40 [00:16<00:31,  1.20s/it]\u001b[A\n",
      " 38%|███▊      | 15/40 [00:17<00:29,  1.19s/it]\u001b[A\n",
      " 40%|████      | 16/40 [00:19<00:28,  1.20s/it]\u001b[A\n",
      " 42%|████▎     | 17/40 [00:20<00:27,  1.18s/it]\u001b[A\n",
      " 45%|████▌     | 18/40 [00:21<00:25,  1.15s/it]\u001b[A\n",
      " 48%|████▊     | 19/40 [00:22<00:23,  1.14s/it]\u001b[A\n",
      " 50%|█████     | 20/40 [00:23<00:22,  1.14s/it]\u001b[A\n",
      " 52%|█████▎    | 21/40 [00:24<00:21,  1.15s/it]\u001b[A\n",
      " 55%|█████▌    | 22/40 [00:25<00:20,  1.14s/it]\u001b[A\n",
      " 57%|█████▊    | 23/40 [00:27<00:19,  1.16s/it]\u001b[A\n",
      " 60%|██████    | 24/40 [00:28<00:18,  1.16s/it]\u001b[A\n",
      " 62%|██████▎   | 25/40 [00:29<00:17,  1.16s/it]\u001b[A\n",
      " 65%|██████▌   | 26/40 [00:30<00:15,  1.14s/it]\u001b[A\n",
      " 68%|██████▊   | 27/40 [00:31<00:14,  1.12s/it]\u001b[A\n",
      " 70%|███████   | 28/40 [00:32<00:13,  1.16s/it]\u001b[A\n",
      " 72%|███████▎  | 29/40 [00:33<00:12,  1.16s/it]\u001b[A\n",
      " 75%|███████▌  | 30/40 [00:35<00:11,  1.15s/it]\u001b[A\n",
      " 78%|███████▊  | 31/40 [00:36<00:10,  1.15s/it]\u001b[A\n",
      " 80%|████████  | 32/40 [00:37<00:09,  1.15s/it]\u001b[A\n",
      " 82%|████████▎ | 33/40 [00:38<00:08,  1.15s/it]\u001b[A\n",
      " 85%|████████▌ | 34/40 [00:39<00:06,  1.15s/it]\u001b[A\n",
      " 88%|████████▊ | 35/40 [00:40<00:05,  1.16s/it]\u001b[A\n",
      " 90%|█████████ | 36/40 [00:42<00:04,  1.17s/it]\u001b[A\n",
      " 92%|█████████▎| 37/40 [00:43<00:03,  1.18s/it]\u001b[A\n",
      " 95%|█████████▌| 38/40 [00:44<00:02,  1.18s/it]\u001b[A\n",
      " 98%|█████████▊| 39/40 [00:45<00:01,  1.17s/it]\u001b[A\n",
      "100%|██████████| 40/40 [00:45<00:00,  1.15s/it]\u001b[A\n",
      "C:\\Users\\laraquij\\Anaconda3\\envs\\tfg_dani\\lib\\site-packages\\torchvision\\models\\_utils.py:209: UserWarning: The parameter 'pretrained' is deprecated since 0.13 and may be removed in the future, please use 'weights' instead.\n",
      "  f\"The parameter '{pretrained_param}' is deprecated since 0.13 and may be removed in the future, \"\n",
      "C:\\Users\\laraquij\\Anaconda3\\envs\\tfg_dani\\lib\\site-packages\\torchvision\\models\\_utils.py:223: UserWarning: Arguments other than a weight enum or `None` for 'weights' are deprecated since 0.13 and may be removed in the future. The current behavior is equivalent to passing `weights=ResNet50_Weights.IMAGENET1K_V1`. You can also use `weights=ResNet50_Weights.DEFAULT` to get the most up-to-date weights.\n",
      "  warnings.warn(msg)\n"
     ]
    },
    {
     "name": "stdout",
     "output_type": "stream",
     "text": [
      "------------fold nº 0----------------------\n"
     ]
    },
    {
     "name": "stderr",
     "output_type": "stream",
     "text": [
      "GPU available: True (cuda), used: True\n",
      "TPU available: False, using: 0 TPU cores\n",
      "IPU available: False, using: 0 IPUs\n",
      "HPU available: False, using: 0 HPUs\n",
      "LOCAL_RANK: 0 - CUDA_VISIBLE_DEVICES: [0]\n",
      "\n",
      "  | Name      | Type           | Params\n",
      "---------------------------------------------\n",
      "0 | accuracy  | BinaryAccuracy | 0     \n",
      "1 | f1score   | BinaryF1Score  | 0     \n",
      "2 | model     | ResNet         | 23.5 M\n",
      "3 | fuzzyloss | FuzzyLoss      | 0     \n",
      "---------------------------------------------\n",
      "4.1 K     Trainable params\n",
      "23.5 M    Non-trainable params\n",
      "23.5 M    Total params\n",
      "94.049    Total estimated model params size (MB)\n",
      "C:\\Users\\laraquij\\Anaconda3\\envs\\tfg_dani\\lib\\site-packages\\pytorch_lightning\\trainer\\connectors\\data_connector.py:229: PossibleUserWarning: The dataloader, train_dataloader, does not have many workers which may be a bottleneck. Consider increasing the value of the `num_workers` argument` (try 8 which is the number of cpus on this machine) in the `DataLoader` init to improve performance.\n",
      "  category=PossibleUserWarning,\n"
     ]
    },
    {
     "name": "stdout",
     "output_type": "stream",
     "text": [
      "Epoch 34: 100%|██████████| 158/158 [00:58<00:00,  2.71it/s, loss=0.0226, v_num=217]"
     ]
    },
    {
     "name": "stderr",
     "output_type": "stream",
     "text": [
      "`Trainer.fit` stopped: `max_epochs=35` reached.\n"
     ]
    },
    {
     "name": "stdout",
     "output_type": "stream",
     "text": [
      "Epoch 34: 100%|██████████| 158/158 [00:58<00:00,  2.68it/s, loss=0.0226, v_num=217]\n"
     ]
    },
    {
     "name": "stderr",
     "output_type": "stream",
     "text": [
      "\n",
      "  0%|          | 0/40 [00:00<?, ?it/s]\u001b[A\n",
      "  2%|▎         | 1/40 [00:01<00:45,  1.18s/it]\u001b[A\n",
      "  5%|▌         | 2/40 [00:02<00:44,  1.17s/it]\u001b[A\n",
      "  8%|▊         | 3/40 [00:03<00:43,  1.18s/it]\u001b[A\n",
      " 10%|█         | 4/40 [00:04<00:41,  1.16s/it]\u001b[A\n",
      " 12%|█▎        | 5/40 [00:05<00:41,  1.19s/it]\u001b[A\n",
      " 15%|█▌        | 6/40 [00:07<00:40,  1.20s/it]\u001b[A\n",
      " 18%|█▊        | 7/40 [00:08<00:39,  1.19s/it]\u001b[A\n",
      " 20%|██        | 8/40 [00:09<00:37,  1.18s/it]\u001b[A\n",
      " 22%|██▎       | 9/40 [00:10<00:36,  1.17s/it]\u001b[A\n",
      " 25%|██▌       | 10/40 [00:11<00:35,  1.17s/it]\u001b[A\n",
      " 28%|██▊       | 11/40 [00:12<00:33,  1.17s/it]\u001b[A\n",
      " 30%|███       | 12/40 [00:14<00:33,  1.18s/it]\u001b[A\n",
      " 32%|███▎      | 13/40 [00:15<00:31,  1.17s/it]\u001b[A\n",
      " 35%|███▌      | 14/40 [00:16<00:29,  1.15s/it]\u001b[A\n",
      " 38%|███▊      | 15/40 [00:17<00:28,  1.15s/it]\u001b[A\n",
      " 40%|████      | 16/40 [00:18<00:27,  1.14s/it]\u001b[A\n",
      " 42%|████▎     | 17/40 [00:19<00:26,  1.16s/it]\u001b[A\n",
      " 45%|████▌     | 18/40 [00:21<00:25,  1.16s/it]\u001b[A\n",
      " 48%|████▊     | 19/40 [00:22<00:24,  1.17s/it]\u001b[A\n",
      " 50%|█████     | 20/40 [00:23<00:23,  1.17s/it]\u001b[A\n",
      " 52%|█████▎    | 21/40 [00:24<00:22,  1.18s/it]\u001b[A\n",
      " 55%|█████▌    | 22/40 [00:25<00:21,  1.18s/it]\u001b[A\n",
      " 57%|█████▊    | 23/40 [00:26<00:19,  1.17s/it]\u001b[A\n",
      " 60%|██████    | 24/40 [00:28<00:18,  1.17s/it]\u001b[A\n",
      " 62%|██████▎   | 25/40 [00:29<00:17,  1.17s/it]\u001b[A\n",
      " 65%|██████▌   | 26/40 [00:30<00:16,  1.18s/it]\u001b[A\n",
      " 68%|██████▊   | 27/40 [00:31<00:15,  1.18s/it]\u001b[A\n",
      " 70%|███████   | 28/40 [00:32<00:13,  1.16s/it]\u001b[A\n",
      " 72%|███████▎  | 29/40 [00:33<00:12,  1.15s/it]\u001b[A\n",
      " 75%|███████▌  | 30/40 [00:35<00:11,  1.15s/it]\u001b[A\n",
      " 78%|███████▊  | 31/40 [00:36<00:10,  1.16s/it]\u001b[A\n",
      " 80%|████████  | 32/40 [00:37<00:09,  1.16s/it]\u001b[A\n",
      " 82%|████████▎ | 33/40 [00:38<00:08,  1.16s/it]\u001b[A\n",
      " 85%|████████▌ | 34/40 [00:39<00:07,  1.18s/it]\u001b[A\n",
      " 88%|████████▊ | 35/40 [00:40<00:05,  1.17s/it]\u001b[A\n",
      " 90%|█████████ | 36/40 [00:42<00:04,  1.17s/it]\u001b[A\n",
      " 92%|█████████▎| 37/40 [00:43<00:03,  1.17s/it]\u001b[A\n",
      " 95%|█████████▌| 38/40 [00:44<00:02,  1.17s/it]\u001b[A\n",
      " 98%|█████████▊| 39/40 [00:45<00:01,  1.17s/it]\u001b[A\n",
      "100%|██████████| 40/40 [00:46<00:00,  1.15s/it]\u001b[A\n",
      "C:\\Users\\laraquij\\Anaconda3\\envs\\tfg_dani\\lib\\site-packages\\torchvision\\models\\_utils.py:209: UserWarning: The parameter 'pretrained' is deprecated since 0.13 and may be removed in the future, please use 'weights' instead.\n",
      "  f\"The parameter '{pretrained_param}' is deprecated since 0.13 and may be removed in the future, \"\n",
      "C:\\Users\\laraquij\\Anaconda3\\envs\\tfg_dani\\lib\\site-packages\\torchvision\\models\\_utils.py:223: UserWarning: Arguments other than a weight enum or `None` for 'weights' are deprecated since 0.13 and may be removed in the future. The current behavior is equivalent to passing `weights=ResNet50_Weights.IMAGENET1K_V1`. You can also use `weights=ResNet50_Weights.DEFAULT` to get the most up-to-date weights.\n",
      "  warnings.warn(msg)\n"
     ]
    },
    {
     "name": "stdout",
     "output_type": "stream",
     "text": [
      "------------fold nº 1----------------------\n"
     ]
    },
    {
     "name": "stderr",
     "output_type": "stream",
     "text": [
      "GPU available: True (cuda), used: True\n",
      "TPU available: False, using: 0 TPU cores\n",
      "IPU available: False, using: 0 IPUs\n",
      "HPU available: False, using: 0 HPUs\n",
      "LOCAL_RANK: 0 - CUDA_VISIBLE_DEVICES: [0]\n",
      "\n",
      "  | Name      | Type           | Params\n",
      "---------------------------------------------\n",
      "0 | accuracy  | BinaryAccuracy | 0     \n",
      "1 | f1score   | BinaryF1Score  | 0     \n",
      "2 | model     | ResNet         | 23.5 M\n",
      "3 | fuzzyloss | FuzzyLoss      | 0     \n",
      "---------------------------------------------\n",
      "4.1 K     Trainable params\n",
      "23.5 M    Non-trainable params\n",
      "23.5 M    Total params\n",
      "94.049    Total estimated model params size (MB)\n",
      "C:\\Users\\laraquij\\Anaconda3\\envs\\tfg_dani\\lib\\site-packages\\pytorch_lightning\\trainer\\connectors\\data_connector.py:229: PossibleUserWarning: The dataloader, train_dataloader, does not have many workers which may be a bottleneck. Consider increasing the value of the `num_workers` argument` (try 8 which is the number of cpus on this machine) in the `DataLoader` init to improve performance.\n",
      "  category=PossibleUserWarning,\n"
     ]
    },
    {
     "name": "stdout",
     "output_type": "stream",
     "text": [
      "Epoch 34: 100%|██████████| 158/158 [00:58<00:00,  2.70it/s, loss=0.279, v_num=218] "
     ]
    },
    {
     "name": "stderr",
     "output_type": "stream",
     "text": [
      "`Trainer.fit` stopped: `max_epochs=35` reached.\n"
     ]
    },
    {
     "name": "stdout",
     "output_type": "stream",
     "text": [
      "Epoch 34: 100%|██████████| 158/158 [00:59<00:00,  2.67it/s, loss=0.279, v_num=218]\n"
     ]
    },
    {
     "name": "stderr",
     "output_type": "stream",
     "text": [
      "\n",
      "  0%|          | 0/40 [00:00<?, ?it/s]\u001b[A\n",
      "  2%|▎         | 1/40 [00:01<00:44,  1.13s/it]\u001b[A\n",
      "  5%|▌         | 2/40 [00:02<00:43,  1.15s/it]\u001b[A\n",
      "  8%|▊         | 3/40 [00:03<00:43,  1.18s/it]\u001b[A\n",
      " 10%|█         | 4/40 [00:04<00:42,  1.17s/it]\u001b[A\n",
      " 12%|█▎        | 5/40 [00:05<00:40,  1.15s/it]\u001b[A\n",
      " 15%|█▌        | 6/40 [00:06<00:39,  1.15s/it]\u001b[A\n",
      " 18%|█▊        | 7/40 [00:08<00:38,  1.16s/it]\u001b[A\n",
      " 20%|██        | 8/40 [00:09<00:36,  1.15s/it]\u001b[A\n",
      " 22%|██▎       | 9/40 [00:10<00:36,  1.16s/it]\u001b[A\n",
      " 25%|██▌       | 10/40 [00:11<00:35,  1.17s/it]\u001b[A\n",
      " 28%|██▊       | 11/40 [00:12<00:33,  1.16s/it]\u001b[A\n",
      " 30%|███       | 12/40 [00:13<00:32,  1.18s/it]\u001b[A\n",
      " 32%|███▎      | 13/40 [00:15<00:31,  1.18s/it]\u001b[A\n",
      " 35%|███▌      | 14/40 [00:16<00:30,  1.17s/it]\u001b[A\n",
      " 38%|███▊      | 15/40 [00:17<00:29,  1.19s/it]\u001b[A\n",
      " 40%|████      | 16/40 [00:18<00:28,  1.18s/it]\u001b[A\n",
      " 42%|████▎     | 17/40 [00:19<00:26,  1.17s/it]\u001b[A\n",
      " 45%|████▌     | 18/40 [00:21<00:25,  1.17s/it]\u001b[A\n",
      " 48%|████▊     | 19/40 [00:22<00:24,  1.15s/it]\u001b[A\n",
      " 50%|█████     | 20/40 [00:23<00:22,  1.13s/it]\u001b[A\n",
      " 52%|█████▎    | 21/40 [00:24<00:21,  1.13s/it]\u001b[A\n",
      " 55%|█████▌    | 22/40 [00:25<00:20,  1.14s/it]\u001b[A\n",
      " 57%|█████▊    | 23/40 [00:26<00:19,  1.13s/it]\u001b[A\n",
      " 60%|██████    | 24/40 [00:27<00:18,  1.13s/it]\u001b[A\n",
      " 62%|██████▎   | 25/40 [00:28<00:17,  1.14s/it]\u001b[A\n",
      " 65%|██████▌   | 26/40 [00:30<00:15,  1.14s/it]\u001b[A\n",
      " 68%|██████▊   | 27/40 [00:31<00:14,  1.12s/it]\u001b[A\n",
      " 70%|███████   | 28/40 [00:32<00:13,  1.12s/it]\u001b[A\n",
      " 72%|███████▎  | 29/40 [00:33<00:12,  1.13s/it]\u001b[A\n",
      " 75%|███████▌  | 30/40 [00:34<00:11,  1.11s/it]\u001b[A\n",
      " 78%|███████▊  | 31/40 [00:35<00:10,  1.13s/it]\u001b[A\n",
      " 80%|████████  | 32/40 [00:36<00:09,  1.15s/it]\u001b[A\n",
      " 82%|████████▎ | 33/40 [00:37<00:08,  1.15s/it]\u001b[A\n",
      " 85%|████████▌ | 34/40 [00:39<00:06,  1.15s/it]\u001b[A\n",
      " 88%|████████▊ | 35/40 [00:40<00:05,  1.15s/it]\u001b[A\n",
      " 90%|█████████ | 36/40 [00:41<00:04,  1.13s/it]\u001b[A\n",
      " 92%|█████████▎| 37/40 [00:42<00:03,  1.15s/it]\u001b[A\n",
      " 95%|█████████▌| 38/40 [00:43<00:02,  1.17s/it]\u001b[A\n",
      " 98%|█████████▊| 39/40 [00:44<00:01,  1.16s/it]\u001b[A\n",
      "100%|██████████| 40/40 [00:45<00:00,  1.13s/it]\u001b[A\n",
      "C:\\Users\\laraquij\\Anaconda3\\envs\\tfg_dani\\lib\\site-packages\\torchvision\\models\\_utils.py:209: UserWarning: The parameter 'pretrained' is deprecated since 0.13 and may be removed in the future, please use 'weights' instead.\n",
      "  f\"The parameter '{pretrained_param}' is deprecated since 0.13 and may be removed in the future, \"\n",
      "C:\\Users\\laraquij\\Anaconda3\\envs\\tfg_dani\\lib\\site-packages\\torchvision\\models\\_utils.py:223: UserWarning: Arguments other than a weight enum or `None` for 'weights' are deprecated since 0.13 and may be removed in the future. The current behavior is equivalent to passing `weights=ResNet50_Weights.IMAGENET1K_V1`. You can also use `weights=ResNet50_Weights.DEFAULT` to get the most up-to-date weights.\n",
      "  warnings.warn(msg)\n"
     ]
    },
    {
     "name": "stdout",
     "output_type": "stream",
     "text": [
      "------------fold nº 2----------------------\n"
     ]
    },
    {
     "name": "stderr",
     "output_type": "stream",
     "text": [
      "GPU available: True (cuda), used: True\n",
      "TPU available: False, using: 0 TPU cores\n",
      "IPU available: False, using: 0 IPUs\n",
      "HPU available: False, using: 0 HPUs\n",
      "LOCAL_RANK: 0 - CUDA_VISIBLE_DEVICES: [0]\n",
      "\n",
      "  | Name      | Type           | Params\n",
      "---------------------------------------------\n",
      "0 | accuracy  | BinaryAccuracy | 0     \n",
      "1 | f1score   | BinaryF1Score  | 0     \n",
      "2 | model     | ResNet         | 23.5 M\n",
      "3 | fuzzyloss | FuzzyLoss      | 0     \n",
      "---------------------------------------------\n",
      "4.1 K     Trainable params\n",
      "23.5 M    Non-trainable params\n",
      "23.5 M    Total params\n",
      "94.049    Total estimated model params size (MB)\n",
      "C:\\Users\\laraquij\\Anaconda3\\envs\\tfg_dani\\lib\\site-packages\\pytorch_lightning\\trainer\\connectors\\data_connector.py:229: PossibleUserWarning: The dataloader, train_dataloader, does not have many workers which may be a bottleneck. Consider increasing the value of the `num_workers` argument` (try 8 which is the number of cpus on this machine) in the `DataLoader` init to improve performance.\n",
      "  category=PossibleUserWarning,\n"
     ]
    },
    {
     "name": "stdout",
     "output_type": "stream",
     "text": [
      "Epoch 34: 100%|██████████| 158/158 [00:59<00:00,  2.66it/s, loss=0.0324, v_num=219] "
     ]
    },
    {
     "name": "stderr",
     "output_type": "stream",
     "text": [
      "`Trainer.fit` stopped: `max_epochs=35` reached.\n"
     ]
    },
    {
     "name": "stdout",
     "output_type": "stream",
     "text": [
      "Epoch 34: 100%|██████████| 158/158 [00:59<00:00,  2.63it/s, loss=0.0324, v_num=219]\n"
     ]
    },
    {
     "name": "stderr",
     "output_type": "stream",
     "text": [
      "\n",
      "  0%|          | 0/40 [00:00<?, ?it/s]\u001b[A\n",
      "  2%|▎         | 1/40 [00:01<00:43,  1.12s/it]\u001b[A\n",
      "  5%|▌         | 2/40 [00:02<00:43,  1.15s/it]\u001b[A\n",
      "  8%|▊         | 3/40 [00:03<00:43,  1.18s/it]\u001b[A\n",
      " 10%|█         | 4/40 [00:04<00:42,  1.18s/it]\u001b[A\n",
      " 12%|█▎        | 5/40 [00:05<00:40,  1.17s/it]\u001b[A\n",
      " 15%|█▌        | 6/40 [00:06<00:39,  1.16s/it]\u001b[A\n",
      " 18%|█▊        | 7/40 [00:08<00:38,  1.18s/it]\u001b[A\n",
      " 20%|██        | 8/40 [00:09<00:37,  1.17s/it]\u001b[A\n",
      " 22%|██▎       | 9/40 [00:10<00:36,  1.18s/it]\u001b[A\n",
      " 25%|██▌       | 10/40 [00:11<00:35,  1.18s/it]\u001b[A\n",
      " 28%|██▊       | 11/40 [00:12<00:34,  1.20s/it]\u001b[A\n",
      " 30%|███       | 12/40 [00:14<00:33,  1.19s/it]\u001b[A\n",
      " 32%|███▎      | 13/40 [00:15<00:32,  1.19s/it]\u001b[A\n",
      " 35%|███▌      | 14/40 [00:16<00:30,  1.18s/it]\u001b[A\n",
      " 38%|███▊      | 15/40 [00:17<00:29,  1.20s/it]\u001b[A\n",
      " 40%|████      | 16/40 [00:18<00:28,  1.19s/it]\u001b[A\n",
      " 42%|████▎     | 17/40 [00:20<00:27,  1.18s/it]\u001b[A\n",
      " 45%|████▌     | 18/40 [00:21<00:26,  1.21s/it]\u001b[A\n",
      " 48%|████▊     | 19/40 [00:22<00:25,  1.21s/it]\u001b[A\n",
      " 50%|█████     | 20/40 [00:23<00:24,  1.22s/it]\u001b[A\n",
      " 52%|█████▎    | 21/40 [00:25<00:23,  1.22s/it]\u001b[A\n",
      " 55%|█████▌    | 22/40 [00:26<00:21,  1.22s/it]\u001b[A\n",
      " 57%|█████▊    | 23/40 [00:27<00:20,  1.20s/it]\u001b[A\n",
      " 60%|██████    | 24/40 [00:28<00:19,  1.19s/it]\u001b[A\n",
      " 62%|██████▎   | 25/40 [00:29<00:17,  1.19s/it]\u001b[A\n",
      " 65%|██████▌   | 26/40 [00:30<00:16,  1.18s/it]\u001b[A\n",
      " 68%|██████▊   | 27/40 [00:32<00:15,  1.17s/it]\u001b[A\n",
      " 70%|███████   | 28/40 [00:33<00:14,  1.19s/it]\u001b[A\n",
      " 72%|███████▎  | 29/40 [00:34<00:13,  1.19s/it]\u001b[A\n",
      " 75%|███████▌  | 30/40 [00:35<00:11,  1.20s/it]\u001b[A\n",
      " 78%|███████▊  | 31/40 [00:36<00:10,  1.20s/it]\u001b[A\n",
      " 80%|████████  | 32/40 [00:38<00:09,  1.19s/it]\u001b[A\n",
      " 82%|████████▎ | 33/40 [00:39<00:08,  1.19s/it]\u001b[A\n",
      " 85%|████████▌ | 34/40 [00:40<00:07,  1.18s/it]\u001b[A\n",
      " 88%|████████▊ | 35/40 [00:41<00:05,  1.18s/it]\u001b[A\n",
      " 90%|█████████ | 36/40 [00:42<00:04,  1.18s/it]\u001b[A\n",
      " 92%|█████████▎| 37/40 [00:43<00:03,  1.18s/it]\u001b[A\n",
      " 95%|█████████▌| 38/40 [00:45<00:02,  1.18s/it]\u001b[A\n",
      " 98%|█████████▊| 39/40 [00:46<00:01,  1.18s/it]\u001b[A\n",
      "100%|██████████| 40/40 [00:46<00:00,  1.17s/it]\u001b[A\n",
      "C:\\Users\\laraquij\\Anaconda3\\envs\\tfg_dani\\lib\\site-packages\\torchvision\\models\\_utils.py:209: UserWarning: The parameter 'pretrained' is deprecated since 0.13 and may be removed in the future, please use 'weights' instead.\n",
      "  f\"The parameter '{pretrained_param}' is deprecated since 0.13 and may be removed in the future, \"\n",
      "C:\\Users\\laraquij\\Anaconda3\\envs\\tfg_dani\\lib\\site-packages\\torchvision\\models\\_utils.py:223: UserWarning: Arguments other than a weight enum or `None` for 'weights' are deprecated since 0.13 and may be removed in the future. The current behavior is equivalent to passing `weights=ResNet50_Weights.IMAGENET1K_V1`. You can also use `weights=ResNet50_Weights.DEFAULT` to get the most up-to-date weights.\n",
      "  warnings.warn(msg)\n"
     ]
    },
    {
     "name": "stdout",
     "output_type": "stream",
     "text": [
      "------------fold nº 3----------------------\n"
     ]
    },
    {
     "name": "stderr",
     "output_type": "stream",
     "text": [
      "GPU available: True (cuda), used: True\n",
      "TPU available: False, using: 0 TPU cores\n",
      "IPU available: False, using: 0 IPUs\n",
      "HPU available: False, using: 0 HPUs\n",
      "LOCAL_RANK: 0 - CUDA_VISIBLE_DEVICES: [0]\n",
      "\n",
      "  | Name      | Type           | Params\n",
      "---------------------------------------------\n",
      "0 | accuracy  | BinaryAccuracy | 0     \n",
      "1 | f1score   | BinaryF1Score  | 0     \n",
      "2 | model     | ResNet         | 23.5 M\n",
      "3 | fuzzyloss | FuzzyLoss      | 0     \n",
      "---------------------------------------------\n",
      "4.1 K     Trainable params\n",
      "23.5 M    Non-trainable params\n",
      "23.5 M    Total params\n",
      "94.049    Total estimated model params size (MB)\n",
      "C:\\Users\\laraquij\\Anaconda3\\envs\\tfg_dani\\lib\\site-packages\\pytorch_lightning\\trainer\\connectors\\data_connector.py:229: PossibleUserWarning: The dataloader, train_dataloader, does not have many workers which may be a bottleneck. Consider increasing the value of the `num_workers` argument` (try 8 which is the number of cpus on this machine) in the `DataLoader` init to improve performance.\n",
      "  category=PossibleUserWarning,\n"
     ]
    },
    {
     "name": "stdout",
     "output_type": "stream",
     "text": [
      "Epoch 34: 100%|██████████| 158/158 [00:59<00:00,  2.66it/s, loss=0.0302, v_num=220] "
     ]
    },
    {
     "name": "stderr",
     "output_type": "stream",
     "text": [
      "`Trainer.fit` stopped: `max_epochs=35` reached.\n"
     ]
    },
    {
     "name": "stdout",
     "output_type": "stream",
     "text": [
      "Epoch 34: 100%|██████████| 158/158 [00:59<00:00,  2.64it/s, loss=0.0302, v_num=220]\n"
     ]
    },
    {
     "name": "stderr",
     "output_type": "stream",
     "text": [
      "\n",
      "  0%|          | 0/40 [00:00<?, ?it/s]\u001b[A\n",
      "  2%|▎         | 1/40 [00:01<00:44,  1.14s/it]\u001b[A\n",
      "  5%|▌         | 2/40 [00:02<00:44,  1.16s/it]\u001b[A\n",
      "  8%|▊         | 3/40 [00:03<00:42,  1.15s/it]\u001b[A\n",
      " 10%|█         | 4/40 [00:04<00:41,  1.16s/it]\u001b[A\n",
      " 12%|█▎        | 5/40 [00:05<00:40,  1.16s/it]\u001b[A\n",
      " 15%|█▌        | 6/40 [00:06<00:38,  1.14s/it]\u001b[A\n",
      " 18%|█▊        | 7/40 [00:08<00:37,  1.15s/it]\u001b[A\n",
      " 20%|██        | 8/40 [00:09<00:36,  1.14s/it]\u001b[A\n",
      " 22%|██▎       | 9/40 [00:10<00:35,  1.13s/it]\u001b[A\n",
      " 25%|██▌       | 10/40 [00:11<00:34,  1.15s/it]\u001b[A\n",
      " 28%|██▊       | 11/40 [00:12<00:32,  1.14s/it]\u001b[A\n",
      " 30%|███       | 12/40 [00:13<00:32,  1.16s/it]\u001b[A\n",
      " 32%|███▎      | 13/40 [00:14<00:31,  1.16s/it]\u001b[A\n",
      " 35%|███▌      | 14/40 [00:16<00:30,  1.17s/it]\u001b[A\n",
      " 38%|███▊      | 15/40 [00:17<00:29,  1.16s/it]\u001b[A\n",
      " 40%|████      | 16/40 [00:18<00:28,  1.18s/it]\u001b[A\n",
      " 42%|████▎     | 17/40 [00:19<00:27,  1.20s/it]\u001b[A\n",
      " 45%|████▌     | 18/40 [00:20<00:26,  1.19s/it]\u001b[A\n",
      " 48%|████▊     | 19/40 [00:22<00:24,  1.18s/it]\u001b[A\n",
      " 50%|█████     | 20/40 [00:23<00:23,  1.18s/it]\u001b[A\n",
      " 52%|█████▎    | 21/40 [00:24<00:22,  1.20s/it]\u001b[A\n",
      " 55%|█████▌    | 22/40 [00:25<00:21,  1.17s/it]\u001b[A\n",
      " 57%|█████▊    | 23/40 [00:26<00:19,  1.17s/it]\u001b[A\n",
      " 60%|██████    | 24/40 [00:27<00:18,  1.17s/it]\u001b[A\n",
      " 62%|██████▎   | 25/40 [00:29<00:17,  1.19s/it]\u001b[A\n",
      " 65%|██████▌   | 26/40 [00:30<00:16,  1.20s/it]\u001b[A\n",
      " 68%|██████▊   | 27/40 [00:31<00:15,  1.19s/it]\u001b[A\n",
      " 70%|███████   | 28/40 [00:32<00:14,  1.17s/it]\u001b[A\n",
      " 72%|███████▎  | 29/40 [00:33<00:13,  1.18s/it]\u001b[A\n",
      " 75%|███████▌  | 30/40 [00:35<00:11,  1.16s/it]\u001b[A\n",
      " 78%|███████▊  | 31/40 [00:36<00:10,  1.18s/it]\u001b[A\n",
      " 80%|████████  | 32/40 [00:37<00:09,  1.19s/it]\u001b[A\n",
      " 82%|████████▎ | 33/40 [00:38<00:08,  1.17s/it]\u001b[A\n",
      " 85%|████████▌ | 34/40 [00:39<00:07,  1.17s/it]\u001b[A\n",
      " 88%|████████▊ | 35/40 [00:40<00:05,  1.18s/it]\u001b[A\n",
      " 90%|█████████ | 36/40 [00:42<00:04,  1.19s/it]\u001b[A\n",
      " 92%|█████████▎| 37/40 [00:43<00:03,  1.17s/it]\u001b[A\n",
      " 95%|█████████▌| 38/40 [00:44<00:02,  1.19s/it]\u001b[A\n",
      " 98%|█████████▊| 39/40 [00:45<00:01,  1.17s/it]\u001b[A\n",
      "100%|██████████| 40/40 [00:46<00:00,  1.15s/it]\u001b[A\n",
      "C:\\Users\\laraquij\\Anaconda3\\envs\\tfg_dani\\lib\\site-packages\\torchvision\\models\\_utils.py:209: UserWarning: The parameter 'pretrained' is deprecated since 0.13 and may be removed in the future, please use 'weights' instead.\n",
      "  f\"The parameter '{pretrained_param}' is deprecated since 0.13 and may be removed in the future, \"\n",
      "C:\\Users\\laraquij\\Anaconda3\\envs\\tfg_dani\\lib\\site-packages\\torchvision\\models\\_utils.py:223: UserWarning: Arguments other than a weight enum or `None` for 'weights' are deprecated since 0.13 and may be removed in the future. The current behavior is equivalent to passing `weights=ResNet50_Weights.IMAGENET1K_V1`. You can also use `weights=ResNet50_Weights.DEFAULT` to get the most up-to-date weights.\n",
      "  warnings.warn(msg)\n"
     ]
    },
    {
     "name": "stdout",
     "output_type": "stream",
     "text": [
      "------------fold nº 4----------------------\n"
     ]
    },
    {
     "name": "stderr",
     "output_type": "stream",
     "text": [
      "GPU available: True (cuda), used: True\n",
      "TPU available: False, using: 0 TPU cores\n",
      "IPU available: False, using: 0 IPUs\n",
      "HPU available: False, using: 0 HPUs\n",
      "LOCAL_RANK: 0 - CUDA_VISIBLE_DEVICES: [0]\n",
      "\n",
      "  | Name      | Type           | Params\n",
      "---------------------------------------------\n",
      "0 | accuracy  | BinaryAccuracy | 0     \n",
      "1 | f1score   | BinaryF1Score  | 0     \n",
      "2 | model     | ResNet         | 23.5 M\n",
      "3 | fuzzyloss | FuzzyLoss      | 0     \n",
      "---------------------------------------------\n",
      "4.1 K     Trainable params\n",
      "23.5 M    Non-trainable params\n",
      "23.5 M    Total params\n",
      "94.049    Total estimated model params size (MB)\n",
      "C:\\Users\\laraquij\\Anaconda3\\envs\\tfg_dani\\lib\\site-packages\\pytorch_lightning\\trainer\\connectors\\data_connector.py:229: PossibleUserWarning: The dataloader, train_dataloader, does not have many workers which may be a bottleneck. Consider increasing the value of the `num_workers` argument` (try 8 which is the number of cpus on this machine) in the `DataLoader` init to improve performance.\n",
      "  category=PossibleUserWarning,\n"
     ]
    },
    {
     "name": "stdout",
     "output_type": "stream",
     "text": [
      "Epoch 34: 100%|██████████| 158/158 [01:00<00:00,  2.62it/s, loss=0.0459, v_num=221] "
     ]
    },
    {
     "name": "stderr",
     "output_type": "stream",
     "text": [
      "`Trainer.fit` stopped: `max_epochs=35` reached.\n"
     ]
    },
    {
     "name": "stdout",
     "output_type": "stream",
     "text": [
      "Epoch 34: 100%|██████████| 158/158 [01:00<00:00,  2.60it/s, loss=0.0459, v_num=221]\n"
     ]
    },
    {
     "name": "stderr",
     "output_type": "stream",
     "text": [
      "\n",
      "  0%|          | 0/40 [00:00<?, ?it/s]\u001b[A\n",
      "  2%|▎         | 1/40 [00:01<00:48,  1.25s/it]\u001b[A\n",
      "  5%|▌         | 2/40 [00:02<00:46,  1.23s/it]\u001b[A\n",
      "  8%|▊         | 3/40 [00:03<00:45,  1.22s/it]\u001b[A\n",
      " 10%|█         | 4/40 [00:04<00:44,  1.24s/it]\u001b[A\n",
      " 12%|█▎        | 5/40 [00:06<00:43,  1.25s/it]\u001b[A\n",
      " 15%|█▌        | 6/40 [00:07<00:41,  1.21s/it]\u001b[A\n",
      " 18%|█▊        | 7/40 [00:08<00:40,  1.22s/it]\u001b[A\n",
      " 20%|██        | 8/40 [00:09<00:38,  1.21s/it]\u001b[A\n",
      " 22%|██▎       | 9/40 [00:11<00:37,  1.22s/it]\u001b[A\n",
      " 25%|██▌       | 10/40 [00:12<00:36,  1.21s/it]\u001b[A\n",
      " 28%|██▊       | 11/40 [00:13<00:35,  1.21s/it]\u001b[A\n",
      " 30%|███       | 12/40 [00:14<00:33,  1.19s/it]\u001b[A\n",
      " 32%|███▎      | 13/40 [00:15<00:31,  1.18s/it]\u001b[A\n",
      " 35%|███▌      | 14/40 [00:16<00:30,  1.19s/it]\u001b[A\n",
      " 38%|███▊      | 15/40 [00:18<00:29,  1.19s/it]\u001b[A\n",
      " 40%|████      | 16/40 [00:19<00:28,  1.20s/it]\u001b[A\n",
      " 42%|████▎     | 17/40 [00:20<00:27,  1.19s/it]\u001b[A\n",
      " 45%|████▌     | 18/40 [00:21<00:26,  1.20s/it]\u001b[A\n",
      " 48%|████▊     | 19/40 [00:22<00:25,  1.21s/it]\u001b[A\n",
      " 50%|█████     | 20/40 [00:24<00:24,  1.22s/it]\u001b[A\n",
      " 52%|█████▎    | 21/40 [00:25<00:23,  1.23s/it]\u001b[A\n",
      " 55%|█████▌    | 22/40 [00:26<00:21,  1.22s/it]\u001b[A\n",
      " 57%|█████▊    | 23/40 [00:27<00:20,  1.23s/it]\u001b[A\n",
      " 60%|██████    | 24/40 [00:29<00:19,  1.24s/it]\u001b[A\n",
      " 62%|██████▎   | 25/40 [00:30<00:18,  1.23s/it]\u001b[A\n",
      " 65%|██████▌   | 26/40 [00:31<00:17,  1.23s/it]\u001b[A\n",
      " 68%|██████▊   | 27/40 [00:32<00:16,  1.23s/it]\u001b[A\n",
      " 70%|███████   | 28/40 [00:34<00:14,  1.23s/it]\u001b[A\n",
      " 72%|███████▎  | 29/40 [00:35<00:13,  1.23s/it]\u001b[A\n",
      " 75%|███████▌  | 30/40 [00:36<00:12,  1.22s/it]\u001b[A\n",
      " 78%|███████▊  | 31/40 [00:37<00:10,  1.21s/it]\u001b[A\n",
      " 80%|████████  | 32/40 [00:38<00:09,  1.20s/it]\u001b[A\n",
      " 82%|████████▎ | 33/40 [00:40<00:08,  1.19s/it]\u001b[A\n",
      " 85%|████████▌ | 34/40 [00:41<00:07,  1.20s/it]\u001b[A\n",
      " 88%|████████▊ | 35/40 [00:42<00:05,  1.20s/it]\u001b[A\n",
      " 90%|█████████ | 36/40 [00:43<00:04,  1.20s/it]\u001b[A\n",
      " 92%|█████████▎| 37/40 [00:44<00:03,  1.20s/it]\u001b[A\n",
      " 95%|█████████▌| 38/40 [00:46<00:02,  1.19s/it]\u001b[A\n",
      " 98%|█████████▊| 39/40 [00:47<00:01,  1.19s/it]\u001b[A\n",
      "100%|██████████| 40/40 [00:47<00:00,  1.19s/it]\u001b[A\n",
      "C:\\Users\\laraquij\\Anaconda3\\envs\\tfg_dani\\lib\\site-packages\\torchvision\\models\\_utils.py:209: UserWarning: The parameter 'pretrained' is deprecated since 0.13 and may be removed in the future, please use 'weights' instead.\n",
      "  f\"The parameter '{pretrained_param}' is deprecated since 0.13 and may be removed in the future, \"\n",
      "C:\\Users\\laraquij\\Anaconda3\\envs\\tfg_dani\\lib\\site-packages\\torchvision\\models\\_utils.py:223: UserWarning: Arguments other than a weight enum or `None` for 'weights' are deprecated since 0.13 and may be removed in the future. The current behavior is equivalent to passing `weights=ResNet50_Weights.IMAGENET1K_V1`. You can also use `weights=ResNet50_Weights.DEFAULT` to get the most up-to-date weights.\n",
      "  warnings.warn(msg)\n"
     ]
    },
    {
     "name": "stdout",
     "output_type": "stream",
     "text": [
      "------------fold nº 0----------------------\n"
     ]
    },
    {
     "name": "stderr",
     "output_type": "stream",
     "text": [
      "GPU available: True (cuda), used: True\n",
      "TPU available: False, using: 0 TPU cores\n",
      "IPU available: False, using: 0 IPUs\n",
      "HPU available: False, using: 0 HPUs\n",
      "LOCAL_RANK: 0 - CUDA_VISIBLE_DEVICES: [0]\n",
      "\n",
      "  | Name      | Type           | Params\n",
      "---------------------------------------------\n",
      "0 | accuracy  | BinaryAccuracy | 0     \n",
      "1 | f1score   | BinaryF1Score  | 0     \n",
      "2 | model     | ResNet         | 23.5 M\n",
      "3 | fuzzyloss | FuzzyLoss      | 0     \n",
      "---------------------------------------------\n",
      "4.1 K     Trainable params\n",
      "23.5 M    Non-trainable params\n",
      "23.5 M    Total params\n",
      "94.049    Total estimated model params size (MB)\n",
      "C:\\Users\\laraquij\\Anaconda3\\envs\\tfg_dani\\lib\\site-packages\\pytorch_lightning\\trainer\\connectors\\data_connector.py:229: PossibleUserWarning: The dataloader, train_dataloader, does not have many workers which may be a bottleneck. Consider increasing the value of the `num_workers` argument` (try 8 which is the number of cpus on this machine) in the `DataLoader` init to improve performance.\n",
      "  category=PossibleUserWarning,\n"
     ]
    },
    {
     "name": "stdout",
     "output_type": "stream",
     "text": [
      "Epoch 34: 100%|██████████| 158/158 [01:01<00:00,  2.57it/s, loss=0.188, v_num=222]  "
     ]
    },
    {
     "name": "stderr",
     "output_type": "stream",
     "text": [
      "`Trainer.fit` stopped: `max_epochs=35` reached.\n"
     ]
    },
    {
     "name": "stdout",
     "output_type": "stream",
     "text": [
      "Epoch 34: 100%|██████████| 158/158 [01:01<00:00,  2.55it/s, loss=0.188, v_num=222]\n"
     ]
    },
    {
     "name": "stderr",
     "output_type": "stream",
     "text": [
      "\n",
      "  0%|          | 0/40 [00:00<?, ?it/s]\u001b[A\n",
      "  2%|▎         | 1/40 [00:01<00:47,  1.23s/it]\u001b[A\n",
      "  5%|▌         | 2/40 [00:02<00:46,  1.24s/it]\u001b[A\n",
      "  8%|▊         | 3/40 [00:03<00:46,  1.25s/it]\u001b[A\n",
      " 10%|█         | 4/40 [00:05<00:45,  1.26s/it]\u001b[A\n",
      " 12%|█▎        | 5/40 [00:06<00:43,  1.24s/it]\u001b[A\n",
      " 15%|█▌        | 6/40 [00:07<00:41,  1.23s/it]\u001b[A\n",
      " 18%|█▊        | 7/40 [00:08<00:40,  1.23s/it]\u001b[A\n",
      " 20%|██        | 8/40 [00:09<00:39,  1.23s/it]\u001b[A\n",
      " 22%|██▎       | 9/40 [00:11<00:38,  1.23s/it]\u001b[A\n",
      " 25%|██▌       | 10/40 [00:12<00:36,  1.22s/it]\u001b[A\n",
      " 28%|██▊       | 11/40 [00:13<00:35,  1.22s/it]\u001b[A\n",
      " 30%|███       | 12/40 [00:14<00:33,  1.21s/it]\u001b[A\n",
      " 32%|███▎      | 13/40 [00:15<00:32,  1.21s/it]\u001b[A\n",
      " 35%|███▌      | 14/40 [00:17<00:31,  1.20s/it]\u001b[A\n",
      " 38%|███▊      | 15/40 [00:18<00:30,  1.20s/it]\u001b[A\n",
      " 40%|████      | 16/40 [00:19<00:28,  1.20s/it]\u001b[A\n",
      " 42%|████▎     | 17/40 [00:20<00:27,  1.20s/it]\u001b[A\n",
      " 45%|████▌     | 18/40 [00:21<00:26,  1.19s/it]\u001b[A\n",
      " 48%|████▊     | 19/40 [00:23<00:25,  1.20s/it]\u001b[A\n",
      " 50%|█████     | 20/40 [00:24<00:24,  1.21s/it]\u001b[A\n",
      " 52%|█████▎    | 21/40 [00:25<00:22,  1.19s/it]\u001b[A\n",
      " 55%|█████▌    | 22/40 [00:26<00:21,  1.20s/it]\u001b[A\n",
      " 57%|█████▊    | 23/40 [00:27<00:20,  1.19s/it]\u001b[A\n",
      " 60%|██████    | 24/40 [00:29<00:19,  1.20s/it]\u001b[A\n",
      " 62%|██████▎   | 25/40 [00:30<00:17,  1.19s/it]\u001b[A\n",
      " 65%|██████▌   | 26/40 [00:31<00:16,  1.20s/it]\u001b[A\n",
      " 68%|██████▊   | 27/40 [00:32<00:15,  1.21s/it]\u001b[A\n",
      " 70%|███████   | 28/40 [00:33<00:14,  1.19s/it]\u001b[A\n",
      " 72%|███████▎  | 29/40 [00:35<00:13,  1.20s/it]\u001b[A\n",
      " 75%|███████▌  | 30/40 [00:36<00:11,  1.19s/it]\u001b[A\n",
      " 78%|███████▊  | 31/40 [00:37<00:10,  1.19s/it]\u001b[A\n",
      " 80%|████████  | 32/40 [00:38<00:09,  1.19s/it]\u001b[A\n",
      " 82%|████████▎ | 33/40 [00:39<00:08,  1.19s/it]\u001b[A\n",
      " 85%|████████▌ | 34/40 [00:41<00:07,  1.19s/it]\u001b[A\n",
      " 88%|████████▊ | 35/40 [00:42<00:05,  1.20s/it]\u001b[A\n",
      " 90%|█████████ | 36/40 [00:43<00:04,  1.19s/it]\u001b[A\n",
      " 92%|█████████▎| 37/40 [00:44<00:03,  1.21s/it]\u001b[A\n",
      " 95%|█████████▌| 38/40 [00:45<00:02,  1.20s/it]\u001b[A\n",
      " 98%|█████████▊| 39/40 [00:47<00:01,  1.21s/it]\u001b[A\n",
      "100%|██████████| 40/40 [00:47<00:00,  1.19s/it]\u001b[A\n",
      "C:\\Users\\laraquij\\Anaconda3\\envs\\tfg_dani\\lib\\site-packages\\torchvision\\models\\_utils.py:209: UserWarning: The parameter 'pretrained' is deprecated since 0.13 and may be removed in the future, please use 'weights' instead.\n",
      "  f\"The parameter '{pretrained_param}' is deprecated since 0.13 and may be removed in the future, \"\n",
      "C:\\Users\\laraquij\\Anaconda3\\envs\\tfg_dani\\lib\\site-packages\\torchvision\\models\\_utils.py:223: UserWarning: Arguments other than a weight enum or `None` for 'weights' are deprecated since 0.13 and may be removed in the future. The current behavior is equivalent to passing `weights=ResNet50_Weights.IMAGENET1K_V1`. You can also use `weights=ResNet50_Weights.DEFAULT` to get the most up-to-date weights.\n",
      "  warnings.warn(msg)\n"
     ]
    },
    {
     "name": "stdout",
     "output_type": "stream",
     "text": [
      "------------fold nº 1----------------------\n"
     ]
    },
    {
     "name": "stderr",
     "output_type": "stream",
     "text": [
      "GPU available: True (cuda), used: True\n",
      "TPU available: False, using: 0 TPU cores\n",
      "IPU available: False, using: 0 IPUs\n",
      "HPU available: False, using: 0 HPUs\n",
      "LOCAL_RANK: 0 - CUDA_VISIBLE_DEVICES: [0]\n",
      "\n",
      "  | Name      | Type           | Params\n",
      "---------------------------------------------\n",
      "0 | accuracy  | BinaryAccuracy | 0     \n",
      "1 | f1score   | BinaryF1Score  | 0     \n",
      "2 | model     | ResNet         | 23.5 M\n",
      "3 | fuzzyloss | FuzzyLoss      | 0     \n",
      "---------------------------------------------\n",
      "4.1 K     Trainable params\n",
      "23.5 M    Non-trainable params\n",
      "23.5 M    Total params\n",
      "94.049    Total estimated model params size (MB)\n",
      "C:\\Users\\laraquij\\Anaconda3\\envs\\tfg_dani\\lib\\site-packages\\pytorch_lightning\\trainer\\connectors\\data_connector.py:229: PossibleUserWarning: The dataloader, train_dataloader, does not have many workers which may be a bottleneck. Consider increasing the value of the `num_workers` argument` (try 8 which is the number of cpus on this machine) in the `DataLoader` init to improve performance.\n",
      "  category=PossibleUserWarning,\n"
     ]
    },
    {
     "name": "stdout",
     "output_type": "stream",
     "text": [
      "Epoch 34: 100%|██████████| 158/158 [01:01<00:00,  2.56it/s, loss=0.0275, v_num=223]"
     ]
    },
    {
     "name": "stderr",
     "output_type": "stream",
     "text": [
      "`Trainer.fit` stopped: `max_epochs=35` reached.\n"
     ]
    },
    {
     "name": "stdout",
     "output_type": "stream",
     "text": [
      "Epoch 34: 100%|██████████| 158/158 [01:02<00:00,  2.54it/s, loss=0.0275, v_num=223]\n"
     ]
    },
    {
     "name": "stderr",
     "output_type": "stream",
     "text": [
      "\n",
      "  0%|          | 0/40 [00:00<?, ?it/s]\u001b[A\n",
      "  2%|▎         | 1/40 [00:01<00:46,  1.18s/it]\u001b[A\n",
      "  5%|▌         | 2/40 [00:02<00:44,  1.17s/it]\u001b[A\n",
      "  8%|▊         | 3/40 [00:03<00:44,  1.19s/it]\u001b[A\n",
      " 10%|█         | 4/40 [00:04<00:43,  1.20s/it]\u001b[A\n",
      " 12%|█▎        | 5/40 [00:05<00:41,  1.17s/it]\u001b[A\n",
      " 15%|█▌        | 6/40 [00:07<00:39,  1.16s/it]\u001b[A\n",
      " 18%|█▊        | 7/40 [00:08<00:38,  1.17s/it]\u001b[A\n",
      " 20%|██        | 8/40 [00:09<00:37,  1.17s/it]\u001b[A\n",
      " 22%|██▎       | 9/40 [00:10<00:36,  1.19s/it]\u001b[A\n",
      " 25%|██▌       | 10/40 [00:12<00:37,  1.25s/it]\u001b[A\n",
      " 28%|██▊       | 11/40 [00:13<00:37,  1.29s/it]\u001b[A\n",
      " 30%|███       | 12/40 [00:14<00:36,  1.31s/it]\u001b[A\n",
      " 32%|███▎      | 13/40 [00:16<00:35,  1.32s/it]\u001b[A\n",
      " 35%|███▌      | 14/40 [00:17<00:34,  1.32s/it]\u001b[A\n",
      " 38%|███▊      | 15/40 [00:18<00:32,  1.31s/it]\u001b[A\n",
      " 40%|████      | 16/40 [00:19<00:30,  1.28s/it]\u001b[A\n",
      " 42%|████▎     | 17/40 [00:21<00:28,  1.26s/it]\u001b[A\n",
      " 45%|████▌     | 18/40 [00:22<00:27,  1.27s/it]\u001b[A\n",
      " 48%|████▊     | 19/40 [00:23<00:27,  1.32s/it]\u001b[A\n",
      " 50%|█████     | 20/40 [00:25<00:26,  1.30s/it]\u001b[A\n",
      " 52%|█████▎    | 21/40 [00:26<00:24,  1.28s/it]\u001b[A\n",
      " 55%|█████▌    | 22/40 [00:27<00:22,  1.27s/it]\u001b[A\n",
      " 57%|█████▊    | 23/40 [00:28<00:21,  1.26s/it]\u001b[A\n",
      " 60%|██████    | 24/40 [00:30<00:19,  1.24s/it]\u001b[A\n",
      " 62%|██████▎   | 25/40 [00:31<00:18,  1.23s/it]\u001b[A\n",
      " 65%|██████▌   | 26/40 [00:32<00:17,  1.23s/it]\u001b[A\n",
      " 68%|██████▊   | 27/40 [00:33<00:15,  1.23s/it]\u001b[A\n",
      " 70%|███████   | 28/40 [00:34<00:14,  1.23s/it]\u001b[A\n",
      " 72%|███████▎  | 29/40 [00:36<00:13,  1.23s/it]\u001b[A\n",
      " 75%|███████▌  | 30/40 [00:37<00:12,  1.21s/it]\u001b[A\n",
      " 78%|███████▊  | 31/40 [00:38<00:10,  1.21s/it]\u001b[A\n",
      " 80%|████████  | 32/40 [00:39<00:09,  1.21s/it]\u001b[A\n",
      " 82%|████████▎ | 33/40 [00:41<00:08,  1.24s/it]\u001b[A\n",
      " 85%|████████▌ | 34/40 [00:42<00:07,  1.24s/it]\u001b[A\n",
      " 88%|████████▊ | 35/40 [00:43<00:06,  1.22s/it]\u001b[A\n",
      " 90%|█████████ | 36/40 [00:44<00:04,  1.23s/it]\u001b[A\n",
      " 92%|█████████▎| 37/40 [00:45<00:03,  1.23s/it]\u001b[A\n",
      " 95%|█████████▌| 38/40 [00:47<00:02,  1.23s/it]\u001b[A\n",
      " 98%|█████████▊| 39/40 [00:48<00:01,  1.23s/it]\u001b[A\n",
      "100%|██████████| 40/40 [00:48<00:00,  1.22s/it]\u001b[A\n",
      "C:\\Users\\laraquij\\Anaconda3\\envs\\tfg_dani\\lib\\site-packages\\torchvision\\models\\_utils.py:209: UserWarning: The parameter 'pretrained' is deprecated since 0.13 and may be removed in the future, please use 'weights' instead.\n",
      "  f\"The parameter '{pretrained_param}' is deprecated since 0.13 and may be removed in the future, \"\n",
      "C:\\Users\\laraquij\\Anaconda3\\envs\\tfg_dani\\lib\\site-packages\\torchvision\\models\\_utils.py:223: UserWarning: Arguments other than a weight enum or `None` for 'weights' are deprecated since 0.13 and may be removed in the future. The current behavior is equivalent to passing `weights=ResNet50_Weights.IMAGENET1K_V1`. You can also use `weights=ResNet50_Weights.DEFAULT` to get the most up-to-date weights.\n",
      "  warnings.warn(msg)\n"
     ]
    },
    {
     "name": "stdout",
     "output_type": "stream",
     "text": [
      "------------fold nº 2----------------------\n"
     ]
    },
    {
     "name": "stderr",
     "output_type": "stream",
     "text": [
      "GPU available: True (cuda), used: True\n",
      "TPU available: False, using: 0 TPU cores\n",
      "IPU available: False, using: 0 IPUs\n",
      "HPU available: False, using: 0 HPUs\n",
      "LOCAL_RANK: 0 - CUDA_VISIBLE_DEVICES: [0]\n",
      "\n",
      "  | Name      | Type           | Params\n",
      "---------------------------------------------\n",
      "0 | accuracy  | BinaryAccuracy | 0     \n",
      "1 | f1score   | BinaryF1Score  | 0     \n",
      "2 | model     | ResNet         | 23.5 M\n",
      "3 | fuzzyloss | FuzzyLoss      | 0     \n",
      "---------------------------------------------\n",
      "4.1 K     Trainable params\n",
      "23.5 M    Non-trainable params\n",
      "23.5 M    Total params\n",
      "94.049    Total estimated model params size (MB)\n",
      "C:\\Users\\laraquij\\Anaconda3\\envs\\tfg_dani\\lib\\site-packages\\pytorch_lightning\\trainer\\connectors\\data_connector.py:229: PossibleUserWarning: The dataloader, train_dataloader, does not have many workers which may be a bottleneck. Consider increasing the value of the `num_workers` argument` (try 8 which is the number of cpus on this machine) in the `DataLoader` init to improve performance.\n",
      "  category=PossibleUserWarning,\n"
     ]
    },
    {
     "name": "stdout",
     "output_type": "stream",
     "text": [
      "Epoch 34: 100%|██████████| 158/158 [01:01<00:00,  2.55it/s, loss=0.229, v_num=224]  "
     ]
    },
    {
     "name": "stderr",
     "output_type": "stream",
     "text": [
      "`Trainer.fit` stopped: `max_epochs=35` reached.\n"
     ]
    },
    {
     "name": "stdout",
     "output_type": "stream",
     "text": [
      "Epoch 34: 100%|██████████| 158/158 [01:02<00:00,  2.53it/s, loss=0.229, v_num=224]\n"
     ]
    },
    {
     "name": "stderr",
     "output_type": "stream",
     "text": [
      "\n",
      "  0%|          | 0/40 [00:00<?, ?it/s]\u001b[A\n",
      "  2%|▎         | 1/40 [00:01<00:46,  1.19s/it]\u001b[A\n",
      "  5%|▌         | 2/40 [00:02<00:45,  1.19s/it]\u001b[A\n",
      "  8%|▊         | 3/40 [00:03<00:44,  1.21s/it]\u001b[A\n",
      " 10%|█         | 4/40 [00:04<00:43,  1.21s/it]\u001b[A\n",
      " 12%|█▎        | 5/40 [00:06<00:42,  1.22s/it]\u001b[A\n",
      " 15%|█▌        | 6/40 [00:07<00:41,  1.21s/it]\u001b[A\n",
      " 18%|█▊        | 7/40 [00:08<00:40,  1.22s/it]\u001b[A\n",
      " 20%|██        | 8/40 [00:09<00:38,  1.20s/it]\u001b[A\n",
      " 22%|██▎       | 9/40 [00:10<00:37,  1.21s/it]\u001b[A\n",
      " 25%|██▌       | 10/40 [00:12<00:36,  1.21s/it]\u001b[A\n",
      " 28%|██▊       | 11/40 [00:13<00:35,  1.21s/it]\u001b[A\n",
      " 30%|███       | 12/40 [00:14<00:33,  1.20s/it]\u001b[A\n",
      " 32%|███▎      | 13/40 [00:15<00:32,  1.21s/it]\u001b[A\n",
      " 35%|███▌      | 14/40 [00:16<00:31,  1.20s/it]\u001b[A\n",
      " 38%|███▊      | 15/40 [00:18<00:30,  1.21s/it]\u001b[A\n",
      " 40%|████      | 16/40 [00:19<00:29,  1.21s/it]\u001b[A\n",
      " 42%|████▎     | 17/40 [00:20<00:27,  1.21s/it]\u001b[A\n",
      " 45%|████▌     | 18/40 [00:21<00:27,  1.24s/it]\u001b[A\n",
      " 48%|████▊     | 19/40 [00:23<00:26,  1.24s/it]\u001b[A\n",
      " 50%|█████     | 20/40 [00:24<00:25,  1.26s/it]\u001b[A\n",
      " 52%|█████▎    | 21/40 [00:25<00:23,  1.25s/it]\u001b[A\n",
      " 55%|█████▌    | 22/40 [00:26<00:22,  1.24s/it]\u001b[A\n",
      " 57%|█████▊    | 23/40 [00:28<00:20,  1.22s/it]\u001b[A\n",
      " 60%|██████    | 24/40 [00:29<00:19,  1.22s/it]\u001b[A\n",
      " 62%|██████▎   | 25/40 [00:30<00:18,  1.22s/it]\u001b[A\n",
      " 65%|██████▌   | 26/40 [00:31<00:16,  1.19s/it]\u001b[A\n",
      " 68%|██████▊   | 27/40 [00:32<00:15,  1.19s/it]\u001b[A\n",
      " 70%|███████   | 28/40 [00:33<00:14,  1.20s/it]\u001b[A\n",
      " 72%|███████▎  | 29/40 [00:35<00:13,  1.19s/it]\u001b[A\n",
      " 75%|███████▌  | 30/40 [00:36<00:11,  1.20s/it]\u001b[A\n",
      " 78%|███████▊  | 31/40 [00:37<00:10,  1.21s/it]\u001b[A\n",
      " 80%|████████  | 32/40 [00:38<00:09,  1.21s/it]\u001b[A\n",
      " 82%|████████▎ | 33/40 [00:40<00:08,  1.21s/it]\u001b[A\n",
      " 85%|████████▌ | 34/40 [00:41<00:07,  1.20s/it]\u001b[A\n",
      " 88%|████████▊ | 35/40 [00:42<00:06,  1.21s/it]\u001b[A\n",
      " 90%|█████████ | 36/40 [00:43<00:04,  1.20s/it]\u001b[A\n",
      " 92%|█████████▎| 37/40 [00:44<00:03,  1.20s/it]\u001b[A\n",
      " 95%|█████████▌| 38/40 [00:45<00:02,  1.19s/it]\u001b[A\n",
      " 98%|█████████▊| 39/40 [00:47<00:01,  1.20s/it]\u001b[A\n",
      "100%|██████████| 40/40 [00:47<00:00,  1.19s/it]\u001b[A\n",
      "C:\\Users\\laraquij\\Anaconda3\\envs\\tfg_dani\\lib\\site-packages\\torchvision\\models\\_utils.py:209: UserWarning: The parameter 'pretrained' is deprecated since 0.13 and may be removed in the future, please use 'weights' instead.\n",
      "  f\"The parameter '{pretrained_param}' is deprecated since 0.13 and may be removed in the future, \"\n",
      "C:\\Users\\laraquij\\Anaconda3\\envs\\tfg_dani\\lib\\site-packages\\torchvision\\models\\_utils.py:223: UserWarning: Arguments other than a weight enum or `None` for 'weights' are deprecated since 0.13 and may be removed in the future. The current behavior is equivalent to passing `weights=ResNet50_Weights.IMAGENET1K_V1`. You can also use `weights=ResNet50_Weights.DEFAULT` to get the most up-to-date weights.\n",
      "  warnings.warn(msg)\n"
     ]
    },
    {
     "name": "stdout",
     "output_type": "stream",
     "text": [
      "------------fold nº 3----------------------\n"
     ]
    },
    {
     "name": "stderr",
     "output_type": "stream",
     "text": [
      "GPU available: True (cuda), used: True\n",
      "TPU available: False, using: 0 TPU cores\n",
      "IPU available: False, using: 0 IPUs\n",
      "HPU available: False, using: 0 HPUs\n",
      "LOCAL_RANK: 0 - CUDA_VISIBLE_DEVICES: [0]\n",
      "\n",
      "  | Name      | Type           | Params\n",
      "---------------------------------------------\n",
      "0 | accuracy  | BinaryAccuracy | 0     \n",
      "1 | f1score   | BinaryF1Score  | 0     \n",
      "2 | model     | ResNet         | 23.5 M\n",
      "3 | fuzzyloss | FuzzyLoss      | 0     \n",
      "---------------------------------------------\n",
      "4.1 K     Trainable params\n",
      "23.5 M    Non-trainable params\n",
      "23.5 M    Total params\n",
      "94.049    Total estimated model params size (MB)\n",
      "C:\\Users\\laraquij\\Anaconda3\\envs\\tfg_dani\\lib\\site-packages\\pytorch_lightning\\trainer\\connectors\\data_connector.py:229: PossibleUserWarning: The dataloader, train_dataloader, does not have many workers which may be a bottleneck. Consider increasing the value of the `num_workers` argument` (try 8 which is the number of cpus on this machine) in the `DataLoader` init to improve performance.\n",
      "  category=PossibleUserWarning,\n"
     ]
    },
    {
     "name": "stdout",
     "output_type": "stream",
     "text": [
      "Epoch 34: 100%|██████████| 158/158 [01:03<00:00,  2.48it/s, loss=0.0155, v_num=225] "
     ]
    },
    {
     "name": "stderr",
     "output_type": "stream",
     "text": [
      "`Trainer.fit` stopped: `max_epochs=35` reached.\n"
     ]
    },
    {
     "name": "stdout",
     "output_type": "stream",
     "text": [
      "Epoch 34: 100%|██████████| 158/158 [01:04<00:00,  2.46it/s, loss=0.0155, v_num=225]\n"
     ]
    },
    {
     "name": "stderr",
     "output_type": "stream",
     "text": [
      "\n",
      "  0%|          | 0/40 [00:00<?, ?it/s]\u001b[A\n",
      "  2%|▎         | 1/40 [00:01<00:48,  1.24s/it]\u001b[A\n",
      "  5%|▌         | 2/40 [00:02<00:47,  1.26s/it]\u001b[A\n",
      "  8%|▊         | 3/40 [00:03<00:46,  1.25s/it]\u001b[A\n",
      " 10%|█         | 4/40 [00:04<00:44,  1.23s/it]\u001b[A\n",
      " 12%|█▎        | 5/40 [00:06<00:42,  1.22s/it]\u001b[A\n",
      " 15%|█▌        | 6/40 [00:07<00:41,  1.23s/it]\u001b[A\n",
      " 18%|█▊        | 7/40 [00:08<00:40,  1.23s/it]\u001b[A\n",
      " 20%|██        | 8/40 [00:09<00:39,  1.24s/it]\u001b[A\n",
      " 22%|██▎       | 9/40 [00:11<00:38,  1.24s/it]\u001b[A\n",
      " 25%|██▌       | 10/40 [00:12<00:36,  1.23s/it]\u001b[A\n",
      " 28%|██▊       | 11/40 [00:13<00:35,  1.21s/it]\u001b[A\n",
      " 30%|███       | 12/40 [00:14<00:34,  1.22s/it]\u001b[A\n",
      " 32%|███▎      | 13/40 [00:15<00:32,  1.21s/it]\u001b[A\n",
      " 35%|███▌      | 14/40 [00:17<00:31,  1.22s/it]\u001b[A\n",
      " 38%|███▊      | 15/40 [00:18<00:30,  1.21s/it]\u001b[A\n",
      " 40%|████      | 16/40 [00:19<00:29,  1.23s/it]\u001b[A\n",
      " 42%|████▎     | 17/40 [00:20<00:28,  1.23s/it]\u001b[A\n",
      " 45%|████▌     | 18/40 [00:22<00:27,  1.23s/it]\u001b[A\n",
      " 48%|████▊     | 19/40 [00:23<00:25,  1.22s/it]\u001b[A\n",
      " 50%|█████     | 20/40 [00:24<00:24,  1.22s/it]\u001b[A\n",
      " 52%|█████▎    | 21/40 [00:25<00:22,  1.20s/it]\u001b[A\n",
      " 55%|█████▌    | 22/40 [00:26<00:21,  1.20s/it]\u001b[A\n",
      " 57%|█████▊    | 23/40 [00:28<00:20,  1.18s/it]\u001b[A\n",
      " 60%|██████    | 24/40 [00:29<00:18,  1.19s/it]\u001b[A\n",
      " 62%|██████▎   | 25/40 [00:30<00:17,  1.20s/it]\u001b[A\n",
      " 65%|██████▌   | 26/40 [00:31<00:16,  1.21s/it]\u001b[A\n",
      " 68%|██████▊   | 27/40 [00:32<00:15,  1.19s/it]\u001b[A\n",
      " 70%|███████   | 28/40 [00:34<00:14,  1.21s/it]\u001b[A\n",
      " 72%|███████▎  | 29/40 [00:35<00:13,  1.23s/it]\u001b[A\n",
      " 75%|███████▌  | 30/40 [00:36<00:12,  1.23s/it]\u001b[A\n",
      " 78%|███████▊  | 31/40 [00:37<00:11,  1.22s/it]\u001b[A\n",
      " 80%|████████  | 32/40 [00:38<00:09,  1.21s/it]\u001b[A\n",
      " 82%|████████▎ | 33/40 [00:40<00:08,  1.21s/it]\u001b[A\n",
      " 85%|████████▌ | 34/40 [00:41<00:07,  1.23s/it]\u001b[A\n",
      " 88%|████████▊ | 35/40 [00:42<00:06,  1.24s/it]\u001b[A\n",
      " 90%|█████████ | 36/40 [00:44<00:04,  1.24s/it]\u001b[A\n",
      " 92%|█████████▎| 37/40 [00:45<00:03,  1.24s/it]\u001b[A\n",
      " 95%|█████████▌| 38/40 [00:46<00:02,  1.22s/it]\u001b[A\n",
      " 98%|█████████▊| 39/40 [00:47<00:01,  1.22s/it]\u001b[A\n",
      "100%|██████████| 40/40 [00:48<00:00,  1.20s/it]\u001b[A\n",
      "C:\\Users\\laraquij\\Anaconda3\\envs\\tfg_dani\\lib\\site-packages\\torchvision\\models\\_utils.py:209: UserWarning: The parameter 'pretrained' is deprecated since 0.13 and may be removed in the future, please use 'weights' instead.\n",
      "  f\"The parameter '{pretrained_param}' is deprecated since 0.13 and may be removed in the future, \"\n",
      "C:\\Users\\laraquij\\Anaconda3\\envs\\tfg_dani\\lib\\site-packages\\torchvision\\models\\_utils.py:223: UserWarning: Arguments other than a weight enum or `None` for 'weights' are deprecated since 0.13 and may be removed in the future. The current behavior is equivalent to passing `weights=ResNet50_Weights.IMAGENET1K_V1`. You can also use `weights=ResNet50_Weights.DEFAULT` to get the most up-to-date weights.\n",
      "  warnings.warn(msg)\n"
     ]
    },
    {
     "name": "stdout",
     "output_type": "stream",
     "text": [
      "------------fold nº 4----------------------\n"
     ]
    },
    {
     "name": "stderr",
     "output_type": "stream",
     "text": [
      "GPU available: True (cuda), used: True\n",
      "TPU available: False, using: 0 TPU cores\n",
      "IPU available: False, using: 0 IPUs\n",
      "HPU available: False, using: 0 HPUs\n",
      "LOCAL_RANK: 0 - CUDA_VISIBLE_DEVICES: [0]\n",
      "\n",
      "  | Name      | Type           | Params\n",
      "---------------------------------------------\n",
      "0 | accuracy  | BinaryAccuracy | 0     \n",
      "1 | f1score   | BinaryF1Score  | 0     \n",
      "2 | model     | ResNet         | 23.5 M\n",
      "3 | fuzzyloss | FuzzyLoss      | 0     \n",
      "---------------------------------------------\n",
      "4.1 K     Trainable params\n",
      "23.5 M    Non-trainable params\n",
      "23.5 M    Total params\n",
      "94.049    Total estimated model params size (MB)\n",
      "C:\\Users\\laraquij\\Anaconda3\\envs\\tfg_dani\\lib\\site-packages\\pytorch_lightning\\trainer\\connectors\\data_connector.py:229: PossibleUserWarning: The dataloader, train_dataloader, does not have many workers which may be a bottleneck. Consider increasing the value of the `num_workers` argument` (try 8 which is the number of cpus on this machine) in the `DataLoader` init to improve performance.\n",
      "  category=PossibleUserWarning,\n"
     ]
    },
    {
     "name": "stdout",
     "output_type": "stream",
     "text": [
      "Epoch 34: 100%|██████████| 158/158 [01:04<00:00,  2.45it/s, loss=0.0313, v_num=226] "
     ]
    },
    {
     "name": "stderr",
     "output_type": "stream",
     "text": [
      "`Trainer.fit` stopped: `max_epochs=35` reached.\n"
     ]
    },
    {
     "name": "stdout",
     "output_type": "stream",
     "text": [
      "Epoch 34: 100%|██████████| 158/158 [01:04<00:00,  2.43it/s, loss=0.0313, v_num=226]\n"
     ]
    },
    {
     "name": "stderr",
     "output_type": "stream",
     "text": [
      "\n",
      "  0%|          | 0/40 [00:00<?, ?it/s]\u001b[A\n",
      "  2%|▎         | 1/40 [00:01<00:47,  1.22s/it]\u001b[A\n",
      "  5%|▌         | 2/40 [00:02<00:46,  1.22s/it]\u001b[A\n",
      "  8%|▊         | 3/40 [00:03<00:45,  1.23s/it]\u001b[A\n",
      " 10%|█         | 4/40 [00:04<00:44,  1.25s/it]\u001b[A\n",
      " 12%|█▎        | 5/40 [00:06<00:43,  1.24s/it]\u001b[A\n",
      " 15%|█▌        | 6/40 [00:07<00:42,  1.24s/it]\u001b[A\n",
      " 18%|█▊        | 7/40 [00:08<00:40,  1.24s/it]\u001b[A\n",
      " 20%|██        | 8/40 [00:09<00:39,  1.24s/it]\u001b[A\n",
      " 22%|██▎       | 9/40 [00:11<00:38,  1.23s/it]\u001b[A\n",
      " 25%|██▌       | 10/40 [00:12<00:37,  1.24s/it]\u001b[A\n",
      " 28%|██▊       | 11/40 [00:13<00:35,  1.24s/it]\u001b[A\n",
      " 30%|███       | 12/40 [00:14<00:34,  1.24s/it]\u001b[A\n",
      " 32%|███▎      | 13/40 [00:16<00:33,  1.23s/it]\u001b[A\n",
      " 35%|███▌      | 14/40 [00:17<00:31,  1.22s/it]\u001b[A\n",
      " 38%|███▊      | 15/40 [00:18<00:30,  1.22s/it]\u001b[A\n",
      " 40%|████      | 16/40 [00:19<00:29,  1.23s/it]\u001b[A\n",
      " 42%|████▎     | 17/40 [00:20<00:28,  1.23s/it]\u001b[A\n",
      " 45%|████▌     | 18/40 [00:22<00:27,  1.24s/it]\u001b[A\n",
      " 48%|████▊     | 19/40 [00:23<00:26,  1.25s/it]\u001b[A\n",
      " 50%|█████     | 20/40 [00:24<00:24,  1.23s/it]\u001b[A\n",
      " 52%|█████▎    | 21/40 [00:25<00:23,  1.23s/it]\u001b[A\n",
      " 55%|█████▌    | 22/40 [00:27<00:22,  1.23s/it]\u001b[A\n",
      " 57%|█████▊    | 23/40 [00:28<00:21,  1.27s/it]\u001b[A\n",
      " 60%|██████    | 24/40 [00:29<00:20,  1.26s/it]\u001b[A\n",
      " 62%|██████▎   | 25/40 [00:31<00:18,  1.26s/it]\u001b[A\n",
      " 65%|██████▌   | 26/40 [00:32<00:17,  1.26s/it]\u001b[A\n",
      " 68%|██████▊   | 27/40 [00:33<00:16,  1.26s/it]\u001b[A\n",
      " 70%|███████   | 28/40 [00:34<00:15,  1.25s/it]\u001b[A\n",
      " 72%|███████▎  | 29/40 [00:36<00:13,  1.27s/it]\u001b[A\n",
      " 75%|███████▌  | 30/40 [00:37<00:12,  1.25s/it]\u001b[A\n",
      " 78%|███████▊  | 31/40 [00:38<00:11,  1.24s/it]\u001b[A\n",
      " 80%|████████  | 32/40 [00:39<00:10,  1.25s/it]\u001b[A\n",
      " 82%|████████▎ | 33/40 [00:40<00:08,  1.23s/it]\u001b[A\n",
      " 85%|████████▌ | 34/40 [00:42<00:07,  1.24s/it]\u001b[A\n",
      " 88%|████████▊ | 35/40 [00:43<00:06,  1.26s/it]\u001b[A\n",
      " 90%|█████████ | 36/40 [00:44<00:05,  1.27s/it]\u001b[A\n",
      " 92%|█████████▎| 37/40 [00:46<00:03,  1.27s/it]\u001b[A\n",
      " 95%|█████████▌| 38/40 [00:47<00:02,  1.24s/it]\u001b[A\n",
      " 98%|█████████▊| 39/40 [00:48<00:01,  1.26s/it]\u001b[A\n",
      "100%|██████████| 40/40 [00:48<00:00,  1.22s/it]\u001b[A\n",
      "C:\\Users\\laraquij\\Anaconda3\\envs\\tfg_dani\\lib\\site-packages\\torchvision\\models\\_utils.py:209: UserWarning: The parameter 'pretrained' is deprecated since 0.13 and may be removed in the future, please use 'weights' instead.\n",
      "  f\"The parameter '{pretrained_param}' is deprecated since 0.13 and may be removed in the future, \"\n",
      "C:\\Users\\laraquij\\Anaconda3\\envs\\tfg_dani\\lib\\site-packages\\torchvision\\models\\_utils.py:223: UserWarning: Arguments other than a weight enum or `None` for 'weights' are deprecated since 0.13 and may be removed in the future. The current behavior is equivalent to passing `weights=ResNet50_Weights.IMAGENET1K_V1`. You can also use `weights=ResNet50_Weights.DEFAULT` to get the most up-to-date weights.\n",
      "  warnings.warn(msg)\n"
     ]
    },
    {
     "name": "stdout",
     "output_type": "stream",
     "text": [
      "------------fold nº 0----------------------\n"
     ]
    },
    {
     "name": "stderr",
     "output_type": "stream",
     "text": [
      "GPU available: True (cuda), used: True\n",
      "TPU available: False, using: 0 TPU cores\n",
      "IPU available: False, using: 0 IPUs\n",
      "HPU available: False, using: 0 HPUs\n",
      "LOCAL_RANK: 0 - CUDA_VISIBLE_DEVICES: [0]\n",
      "\n",
      "  | Name      | Type           | Params\n",
      "---------------------------------------------\n",
      "0 | accuracy  | BinaryAccuracy | 0     \n",
      "1 | f1score   | BinaryF1Score  | 0     \n",
      "2 | model     | ResNet         | 23.5 M\n",
      "3 | fuzzyloss | FuzzyLoss      | 0     \n",
      "---------------------------------------------\n",
      "4.1 K     Trainable params\n",
      "23.5 M    Non-trainable params\n",
      "23.5 M    Total params\n",
      "94.049    Total estimated model params size (MB)\n",
      "C:\\Users\\laraquij\\Anaconda3\\envs\\tfg_dani\\lib\\site-packages\\pytorch_lightning\\trainer\\connectors\\data_connector.py:229: PossibleUserWarning: The dataloader, train_dataloader, does not have many workers which may be a bottleneck. Consider increasing the value of the `num_workers` argument` (try 8 which is the number of cpus on this machine) in the `DataLoader` init to improve performance.\n",
      "  category=PossibleUserWarning,\n"
     ]
    },
    {
     "name": "stdout",
     "output_type": "stream",
     "text": [
      "Epoch 34: 100%|██████████| 158/158 [01:05<00:00,  2.43it/s, loss=0.0372, v_num=227] "
     ]
    },
    {
     "name": "stderr",
     "output_type": "stream",
     "text": [
      "`Trainer.fit` stopped: `max_epochs=35` reached.\n"
     ]
    },
    {
     "name": "stdout",
     "output_type": "stream",
     "text": [
      "Epoch 34: 100%|██████████| 158/158 [01:05<00:00,  2.41it/s, loss=0.0372, v_num=227]\n"
     ]
    },
    {
     "name": "stderr",
     "output_type": "stream",
     "text": [
      "\n",
      "  0%|          | 0/40 [00:00<?, ?it/s]\u001b[A\n",
      "  2%|▎         | 1/40 [00:01<00:48,  1.24s/it]\u001b[A\n",
      "  5%|▌         | 2/40 [00:02<00:47,  1.25s/it]\u001b[A\n",
      "  8%|▊         | 3/40 [00:03<00:46,  1.26s/it]\u001b[A\n",
      " 10%|█         | 4/40 [00:05<00:45,  1.26s/it]\u001b[A\n",
      " 12%|█▎        | 5/40 [00:06<00:44,  1.26s/it]\u001b[A\n",
      " 15%|█▌        | 6/40 [00:07<00:43,  1.27s/it]\u001b[A\n",
      " 18%|█▊        | 7/40 [00:08<00:41,  1.26s/it]\u001b[A\n",
      " 20%|██        | 8/40 [00:10<00:40,  1.27s/it]\u001b[A\n",
      " 22%|██▎       | 9/40 [00:11<00:39,  1.28s/it]\u001b[A\n",
      " 25%|██▌       | 10/40 [00:12<00:38,  1.29s/it]\u001b[A\n",
      " 28%|██▊       | 11/40 [00:13<00:36,  1.27s/it]\u001b[A\n",
      " 30%|███       | 12/40 [00:15<00:34,  1.25s/it]\u001b[A\n",
      " 32%|███▎      | 13/40 [00:16<00:33,  1.24s/it]\u001b[A\n",
      " 35%|███▌      | 14/40 [00:17<00:32,  1.26s/it]\u001b[A\n",
      " 38%|███▊      | 15/40 [00:18<00:30,  1.23s/it]\u001b[A\n",
      " 40%|████      | 16/40 [00:20<00:30,  1.26s/it]\u001b[A\n",
      " 42%|████▎     | 17/40 [00:21<00:28,  1.26s/it]\u001b[A\n",
      " 45%|████▌     | 18/40 [00:22<00:27,  1.27s/it]\u001b[A\n",
      " 48%|████▊     | 19/40 [00:24<00:26,  1.28s/it]\u001b[A\n",
      " 50%|█████     | 20/40 [00:25<00:25,  1.25s/it]\u001b[A\n",
      " 52%|█████▎    | 21/40 [00:26<00:23,  1.26s/it]\u001b[A\n",
      " 55%|█████▌    | 22/40 [00:27<00:22,  1.26s/it]\u001b[A\n",
      " 57%|█████▊    | 23/40 [00:28<00:21,  1.25s/it]\u001b[A\n",
      " 60%|██████    | 24/40 [00:30<00:19,  1.24s/it]\u001b[A\n",
      " 62%|██████▎   | 25/40 [00:31<00:18,  1.25s/it]\u001b[A\n",
      " 65%|██████▌   | 26/40 [00:32<00:17,  1.26s/it]\u001b[A\n",
      " 68%|██████▊   | 27/40 [00:33<00:16,  1.24s/it]\u001b[A\n",
      " 70%|███████   | 28/40 [00:35<00:14,  1.24s/it]\u001b[A\n",
      " 72%|███████▎  | 29/40 [00:36<00:13,  1.26s/it]\u001b[A\n",
      " 75%|███████▌  | 30/40 [00:37<00:12,  1.25s/it]\u001b[A\n",
      " 78%|███████▊  | 31/40 [00:38<00:11,  1.24s/it]\u001b[A\n",
      " 80%|████████  | 32/40 [00:40<00:09,  1.24s/it]\u001b[A\n",
      " 82%|████████▎ | 33/40 [00:41<00:08,  1.23s/it]\u001b[A\n",
      " 85%|████████▌ | 34/40 [00:42<00:07,  1.26s/it]\u001b[A\n",
      " 88%|████████▊ | 35/40 [00:43<00:06,  1.23s/it]\u001b[A\n",
      " 90%|█████████ | 36/40 [00:45<00:04,  1.24s/it]\u001b[A\n",
      " 92%|█████████▎| 37/40 [00:46<00:03,  1.25s/it]\u001b[A\n",
      " 95%|█████████▌| 38/40 [00:47<00:02,  1.24s/it]\u001b[A\n",
      " 98%|█████████▊| 39/40 [00:48<00:01,  1.26s/it]\u001b[A\n",
      "100%|██████████| 40/40 [00:49<00:00,  1.24s/it]\u001b[A\n",
      "C:\\Users\\laraquij\\Anaconda3\\envs\\tfg_dani\\lib\\site-packages\\torchvision\\models\\_utils.py:209: UserWarning: The parameter 'pretrained' is deprecated since 0.13 and may be removed in the future, please use 'weights' instead.\n",
      "  f\"The parameter '{pretrained_param}' is deprecated since 0.13 and may be removed in the future, \"\n",
      "C:\\Users\\laraquij\\Anaconda3\\envs\\tfg_dani\\lib\\site-packages\\torchvision\\models\\_utils.py:223: UserWarning: Arguments other than a weight enum or `None` for 'weights' are deprecated since 0.13 and may be removed in the future. The current behavior is equivalent to passing `weights=ResNet50_Weights.IMAGENET1K_V1`. You can also use `weights=ResNet50_Weights.DEFAULT` to get the most up-to-date weights.\n",
      "  warnings.warn(msg)\n"
     ]
    },
    {
     "name": "stdout",
     "output_type": "stream",
     "text": [
      "------------fold nº 1----------------------\n"
     ]
    },
    {
     "name": "stderr",
     "output_type": "stream",
     "text": [
      "GPU available: True (cuda), used: True\n",
      "TPU available: False, using: 0 TPU cores\n",
      "IPU available: False, using: 0 IPUs\n",
      "HPU available: False, using: 0 HPUs\n",
      "LOCAL_RANK: 0 - CUDA_VISIBLE_DEVICES: [0]\n",
      "\n",
      "  | Name      | Type           | Params\n",
      "---------------------------------------------\n",
      "0 | accuracy  | BinaryAccuracy | 0     \n",
      "1 | f1score   | BinaryF1Score  | 0     \n",
      "2 | model     | ResNet         | 23.5 M\n",
      "3 | fuzzyloss | FuzzyLoss      | 0     \n",
      "---------------------------------------------\n",
      "4.1 K     Trainable params\n",
      "23.5 M    Non-trainable params\n",
      "23.5 M    Total params\n",
      "94.049    Total estimated model params size (MB)\n",
      "C:\\Users\\laraquij\\Anaconda3\\envs\\tfg_dani\\lib\\site-packages\\pytorch_lightning\\trainer\\connectors\\data_connector.py:229: PossibleUserWarning: The dataloader, train_dataloader, does not have many workers which may be a bottleneck. Consider increasing the value of the `num_workers` argument` (try 8 which is the number of cpus on this machine) in the `DataLoader` init to improve performance.\n",
      "  category=PossibleUserWarning,\n"
     ]
    },
    {
     "name": "stdout",
     "output_type": "stream",
     "text": [
      "Epoch 34: 100%|██████████| 158/158 [01:05<00:00,  2.42it/s, loss=0.0353, v_num=228] "
     ]
    },
    {
     "name": "stderr",
     "output_type": "stream",
     "text": [
      "`Trainer.fit` stopped: `max_epochs=35` reached.\n"
     ]
    },
    {
     "name": "stdout",
     "output_type": "stream",
     "text": [
      "Epoch 34: 100%|██████████| 158/158 [01:05<00:00,  2.40it/s, loss=0.0353, v_num=228]\n"
     ]
    },
    {
     "name": "stderr",
     "output_type": "stream",
     "text": [
      "\n",
      "  0%|          | 0/40 [00:00<?, ?it/s]\u001b[A\n",
      "  2%|▎         | 1/40 [00:01<00:48,  1.24s/it]\u001b[A\n",
      "  5%|▌         | 2/40 [00:02<00:45,  1.21s/it]\u001b[A\n",
      "  8%|▊         | 3/40 [00:03<00:45,  1.23s/it]\u001b[A\n",
      " 10%|█         | 4/40 [00:04<00:43,  1.21s/it]\u001b[A\n",
      " 12%|█▎        | 5/40 [00:06<00:43,  1.24s/it]\u001b[A\n",
      " 15%|█▌        | 6/40 [00:07<00:41,  1.22s/it]\u001b[A\n",
      " 18%|█▊        | 7/40 [00:08<00:40,  1.22s/it]\u001b[A\n",
      " 20%|██        | 8/40 [00:09<00:39,  1.24s/it]\u001b[A\n",
      " 22%|██▎       | 9/40 [00:11<00:38,  1.23s/it]\u001b[A\n",
      " 25%|██▌       | 10/40 [00:12<00:36,  1.22s/it]\u001b[A\n",
      " 28%|██▊       | 11/40 [00:13<00:35,  1.21s/it]\u001b[A\n",
      " 30%|███       | 12/40 [00:14<00:34,  1.22s/it]\u001b[A\n",
      " 32%|███▎      | 13/40 [00:15<00:33,  1.24s/it]\u001b[A\n",
      " 35%|███▌      | 14/40 [00:17<00:32,  1.25s/it]\u001b[A\n",
      " 38%|███▊      | 15/40 [00:18<00:31,  1.26s/it]\u001b[A\n",
      " 40%|████      | 16/40 [00:19<00:30,  1.26s/it]\u001b[A\n",
      " 42%|████▎     | 17/40 [00:21<00:28,  1.25s/it]\u001b[A\n",
      " 45%|████▌     | 18/40 [00:22<00:27,  1.26s/it]\u001b[A\n",
      " 48%|████▊     | 19/40 [00:23<00:25,  1.23s/it]\u001b[A\n",
      " 50%|█████     | 20/40 [00:24<00:24,  1.23s/it]\u001b[A\n",
      " 52%|█████▎    | 21/40 [00:25<00:23,  1.24s/it]\u001b[A\n",
      " 55%|█████▌    | 22/40 [00:27<00:22,  1.24s/it]\u001b[A\n",
      " 57%|█████▊    | 23/40 [00:28<00:21,  1.24s/it]\u001b[A\n",
      " 60%|██████    | 24/40 [00:29<00:19,  1.25s/it]\u001b[A\n",
      " 62%|██████▎   | 25/40 [00:30<00:18,  1.22s/it]\u001b[A\n",
      " 65%|██████▌   | 26/40 [00:32<00:17,  1.23s/it]\u001b[A\n",
      " 68%|██████▊   | 27/40 [00:33<00:15,  1.22s/it]\u001b[A\n",
      " 70%|███████   | 28/40 [00:34<00:14,  1.23s/it]\u001b[A\n",
      " 72%|███████▎  | 29/40 [00:35<00:13,  1.25s/it]\u001b[A\n",
      " 75%|███████▌  | 30/40 [00:37<00:12,  1.25s/it]\u001b[A\n",
      " 78%|███████▊  | 31/40 [00:38<00:11,  1.26s/it]\u001b[A\n",
      " 80%|████████  | 32/40 [00:39<00:09,  1.24s/it]\u001b[A\n",
      " 82%|████████▎ | 33/40 [00:40<00:08,  1.24s/it]\u001b[A\n",
      " 85%|████████▌ | 34/40 [00:42<00:07,  1.25s/it]\u001b[A\n",
      " 88%|████████▊ | 35/40 [00:43<00:06,  1.24s/it]\u001b[A\n",
      " 90%|█████████ | 36/40 [00:44<00:04,  1.22s/it]\u001b[A\n",
      " 92%|█████████▎| 37/40 [00:45<00:03,  1.23s/it]\u001b[A\n",
      " 95%|█████████▌| 38/40 [00:46<00:02,  1.24s/it]\u001b[A\n",
      " 98%|█████████▊| 39/40 [00:48<00:01,  1.23s/it]\u001b[A\n",
      "100%|██████████| 40/40 [00:48<00:00,  1.22s/it]\u001b[A\n",
      "C:\\Users\\laraquij\\Anaconda3\\envs\\tfg_dani\\lib\\site-packages\\torchvision\\models\\_utils.py:209: UserWarning: The parameter 'pretrained' is deprecated since 0.13 and may be removed in the future, please use 'weights' instead.\n",
      "  f\"The parameter '{pretrained_param}' is deprecated since 0.13 and may be removed in the future, \"\n",
      "C:\\Users\\laraquij\\Anaconda3\\envs\\tfg_dani\\lib\\site-packages\\torchvision\\models\\_utils.py:223: UserWarning: Arguments other than a weight enum or `None` for 'weights' are deprecated since 0.13 and may be removed in the future. The current behavior is equivalent to passing `weights=ResNet50_Weights.IMAGENET1K_V1`. You can also use `weights=ResNet50_Weights.DEFAULT` to get the most up-to-date weights.\n",
      "  warnings.warn(msg)\n"
     ]
    },
    {
     "name": "stdout",
     "output_type": "stream",
     "text": [
      "------------fold nº 2----------------------\n"
     ]
    },
    {
     "name": "stderr",
     "output_type": "stream",
     "text": [
      "GPU available: True (cuda), used: True\n",
      "TPU available: False, using: 0 TPU cores\n",
      "IPU available: False, using: 0 IPUs\n",
      "HPU available: False, using: 0 HPUs\n",
      "LOCAL_RANK: 0 - CUDA_VISIBLE_DEVICES: [0]\n",
      "\n",
      "  | Name      | Type           | Params\n",
      "---------------------------------------------\n",
      "0 | accuracy  | BinaryAccuracy | 0     \n",
      "1 | f1score   | BinaryF1Score  | 0     \n",
      "2 | model     | ResNet         | 23.5 M\n",
      "3 | fuzzyloss | FuzzyLoss      | 0     \n",
      "---------------------------------------------\n",
      "4.1 K     Trainable params\n",
      "23.5 M    Non-trainable params\n",
      "23.5 M    Total params\n",
      "94.049    Total estimated model params size (MB)\n",
      "C:\\Users\\laraquij\\Anaconda3\\envs\\tfg_dani\\lib\\site-packages\\pytorch_lightning\\trainer\\connectors\\data_connector.py:229: PossibleUserWarning: The dataloader, train_dataloader, does not have many workers which may be a bottleneck. Consider increasing the value of the `num_workers` argument` (try 8 which is the number of cpus on this machine) in the `DataLoader` init to improve performance.\n",
      "  category=PossibleUserWarning,\n"
     ]
    },
    {
     "name": "stdout",
     "output_type": "stream",
     "text": [
      "Epoch 34: 100%|██████████| 158/158 [01:06<00:00,  2.38it/s, loss=0.0612, v_num=229] "
     ]
    },
    {
     "name": "stderr",
     "output_type": "stream",
     "text": [
      "`Trainer.fit` stopped: `max_epochs=35` reached.\n"
     ]
    },
    {
     "name": "stdout",
     "output_type": "stream",
     "text": [
      "Epoch 34: 100%|██████████| 158/158 [01:07<00:00,  2.36it/s, loss=0.0612, v_num=229]\n"
     ]
    },
    {
     "name": "stderr",
     "output_type": "stream",
     "text": [
      "\n",
      "  0%|          | 0/40 [00:00<?, ?it/s]\u001b[A\n",
      "  2%|▎         | 1/40 [00:01<00:49,  1.27s/it]\u001b[A\n",
      "  5%|▌         | 2/40 [00:02<00:49,  1.30s/it]\u001b[A\n",
      "  8%|▊         | 3/40 [00:03<00:46,  1.27s/it]\u001b[A\n",
      " 10%|█         | 4/40 [00:05<00:45,  1.25s/it]\u001b[A\n",
      " 12%|█▎        | 5/40 [00:06<00:44,  1.26s/it]\u001b[A\n",
      " 15%|█▌        | 6/40 [00:07<00:43,  1.28s/it]\u001b[A\n",
      " 18%|█▊        | 7/40 [00:08<00:41,  1.27s/it]\u001b[A\n",
      " 20%|██        | 8/40 [00:10<00:40,  1.26s/it]\u001b[A\n",
      " 22%|██▎       | 9/40 [00:11<00:38,  1.24s/it]\u001b[A\n",
      " 25%|██▌       | 10/40 [00:12<00:37,  1.26s/it]\u001b[A\n",
      " 28%|██▊       | 11/40 [00:13<00:37,  1.28s/it]\u001b[A\n",
      " 30%|███       | 12/40 [00:15<00:36,  1.29s/it]\u001b[A\n",
      " 32%|███▎      | 13/40 [00:16<00:34,  1.27s/it]\u001b[A\n",
      " 35%|███▌      | 14/40 [00:17<00:32,  1.25s/it]\u001b[A\n",
      " 38%|███▊      | 15/40 [00:18<00:31,  1.24s/it]\u001b[A\n",
      " 40%|████      | 16/40 [00:20<00:30,  1.25s/it]\u001b[A\n",
      " 42%|████▎     | 17/40 [00:21<00:28,  1.25s/it]\u001b[A\n",
      " 45%|████▌     | 18/40 [00:22<00:27,  1.26s/it]\u001b[A\n",
      " 48%|████▊     | 19/40 [00:23<00:26,  1.26s/it]\u001b[A\n",
      " 50%|█████     | 20/40 [00:25<00:25,  1.25s/it]\u001b[A\n",
      " 52%|█████▎    | 21/40 [00:26<00:23,  1.25s/it]\u001b[A\n",
      " 55%|█████▌    | 22/40 [00:27<00:22,  1.25s/it]\u001b[A\n",
      " 57%|█████▊    | 23/40 [00:28<00:21,  1.25s/it]\u001b[A\n",
      " 60%|██████    | 24/40 [00:30<00:19,  1.25s/it]\u001b[A\n",
      " 62%|██████▎   | 25/40 [00:31<00:18,  1.25s/it]\u001b[A\n",
      " 65%|██████▌   | 26/40 [00:32<00:17,  1.23s/it]\u001b[A\n",
      " 68%|██████▊   | 27/40 [00:33<00:16,  1.24s/it]\u001b[A\n",
      " 70%|███████   | 28/40 [00:35<00:15,  1.26s/it]\u001b[A\n",
      " 72%|███████▎  | 29/40 [00:36<00:13,  1.26s/it]\u001b[A\n",
      " 75%|███████▌  | 30/40 [00:37<00:12,  1.26s/it]\u001b[A\n",
      " 78%|███████▊  | 31/40 [00:38<00:11,  1.26s/it]\u001b[A\n",
      " 80%|████████  | 32/40 [00:40<00:10,  1.25s/it]\u001b[A\n",
      " 82%|████████▎ | 33/40 [00:41<00:08,  1.27s/it]\u001b[A\n",
      " 85%|████████▌ | 34/40 [00:42<00:07,  1.27s/it]\u001b[A\n",
      " 88%|████████▊ | 35/40 [00:43<00:06,  1.25s/it]\u001b[A\n",
      " 90%|█████████ | 36/40 [00:45<00:04,  1.23s/it]\u001b[A\n",
      " 92%|█████████▎| 37/40 [00:46<00:03,  1.23s/it]\u001b[A\n",
      " 95%|█████████▌| 38/40 [00:47<00:02,  1.22s/it]\u001b[A\n",
      " 98%|█████████▊| 39/40 [00:48<00:01,  1.23s/it]\u001b[A\n",
      "100%|██████████| 40/40 [00:49<00:00,  1.23s/it]\u001b[A\n",
      "C:\\Users\\laraquij\\Anaconda3\\envs\\tfg_dani\\lib\\site-packages\\torchvision\\models\\_utils.py:209: UserWarning: The parameter 'pretrained' is deprecated since 0.13 and may be removed in the future, please use 'weights' instead.\n",
      "  f\"The parameter '{pretrained_param}' is deprecated since 0.13 and may be removed in the future, \"\n",
      "C:\\Users\\laraquij\\Anaconda3\\envs\\tfg_dani\\lib\\site-packages\\torchvision\\models\\_utils.py:223: UserWarning: Arguments other than a weight enum or `None` for 'weights' are deprecated since 0.13 and may be removed in the future. The current behavior is equivalent to passing `weights=ResNet50_Weights.IMAGENET1K_V1`. You can also use `weights=ResNet50_Weights.DEFAULT` to get the most up-to-date weights.\n",
      "  warnings.warn(msg)\n"
     ]
    },
    {
     "name": "stdout",
     "output_type": "stream",
     "text": [
      "------------fold nº 3----------------------\n"
     ]
    },
    {
     "name": "stderr",
     "output_type": "stream",
     "text": [
      "GPU available: True (cuda), used: True\n",
      "TPU available: False, using: 0 TPU cores\n",
      "IPU available: False, using: 0 IPUs\n",
      "HPU available: False, using: 0 HPUs\n",
      "LOCAL_RANK: 0 - CUDA_VISIBLE_DEVICES: [0]\n",
      "\n",
      "  | Name      | Type           | Params\n",
      "---------------------------------------------\n",
      "0 | accuracy  | BinaryAccuracy | 0     \n",
      "1 | f1score   | BinaryF1Score  | 0     \n",
      "2 | model     | ResNet         | 23.5 M\n",
      "3 | fuzzyloss | FuzzyLoss      | 0     \n",
      "---------------------------------------------\n",
      "4.1 K     Trainable params\n",
      "23.5 M    Non-trainable params\n",
      "23.5 M    Total params\n",
      "94.049    Total estimated model params size (MB)\n",
      "C:\\Users\\laraquij\\Anaconda3\\envs\\tfg_dani\\lib\\site-packages\\pytorch_lightning\\trainer\\connectors\\data_connector.py:229: PossibleUserWarning: The dataloader, train_dataloader, does not have many workers which may be a bottleneck. Consider increasing the value of the `num_workers` argument` (try 8 which is the number of cpus on this machine) in the `DataLoader` init to improve performance.\n",
      "  category=PossibleUserWarning,\n"
     ]
    },
    {
     "name": "stdout",
     "output_type": "stream",
     "text": [
      "Epoch 34: 100%|██████████| 158/158 [01:07<00:00,  2.35it/s, loss=0.0416, v_num=230]"
     ]
    },
    {
     "name": "stderr",
     "output_type": "stream",
     "text": [
      "`Trainer.fit` stopped: `max_epochs=35` reached.\n"
     ]
    },
    {
     "name": "stdout",
     "output_type": "stream",
     "text": [
      "Epoch 34: 100%|██████████| 158/158 [01:07<00:00,  2.33it/s, loss=0.0416, v_num=230]\n"
     ]
    },
    {
     "name": "stderr",
     "output_type": "stream",
     "text": [
      "\n",
      "  0%|          | 0/40 [00:00<?, ?it/s]\u001b[A\n",
      "  2%|▎         | 1/40 [00:01<00:51,  1.32s/it]\u001b[A\n",
      "  5%|▌         | 2/40 [00:02<00:48,  1.27s/it]\u001b[A\n",
      "  8%|▊         | 3/40 [00:03<00:46,  1.26s/it]\u001b[A\n",
      " 10%|█         | 4/40 [00:05<00:46,  1.28s/it]\u001b[A\n",
      " 12%|█▎        | 5/40 [00:06<00:45,  1.29s/it]\u001b[A\n",
      " 15%|█▌        | 6/40 [00:07<00:43,  1.29s/it]\u001b[A\n",
      " 18%|█▊        | 7/40 [00:08<00:42,  1.28s/it]\u001b[A\n",
      " 20%|██        | 8/40 [00:10<00:41,  1.28s/it]\u001b[A\n",
      " 22%|██▎       | 9/40 [00:11<00:39,  1.29s/it]\u001b[A\n",
      " 25%|██▌       | 10/40 [00:12<00:38,  1.30s/it]\u001b[A\n",
      " 28%|██▊       | 11/40 [00:14<00:37,  1.29s/it]\u001b[A\n",
      " 30%|███       | 12/40 [00:15<00:35,  1.27s/it]\u001b[A\n",
      " 32%|███▎      | 13/40 [00:16<00:34,  1.27s/it]\u001b[A\n",
      " 35%|███▌      | 14/40 [00:17<00:33,  1.27s/it]\u001b[A\n",
      " 38%|███▊      | 15/40 [00:19<00:32,  1.29s/it]\u001b[A\n",
      " 40%|████      | 16/40 [00:20<00:30,  1.27s/it]\u001b[A\n",
      " 42%|████▎     | 17/40 [00:21<00:29,  1.27s/it]\u001b[A\n",
      " 45%|████▌     | 18/40 [00:23<00:28,  1.27s/it]\u001b[A\n",
      " 48%|████▊     | 19/40 [00:24<00:27,  1.29s/it]\u001b[A\n",
      " 50%|█████     | 20/40 [00:25<00:25,  1.29s/it]\u001b[A\n",
      " 52%|█████▎    | 21/40 [00:26<00:23,  1.26s/it]\u001b[A\n",
      " 55%|█████▌    | 22/40 [00:28<00:22,  1.27s/it]\u001b[A\n",
      " 57%|█████▊    | 23/40 [00:29<00:21,  1.27s/it]\u001b[A\n",
      " 60%|██████    | 24/40 [00:30<00:20,  1.27s/it]\u001b[A\n",
      " 62%|██████▎   | 25/40 [00:31<00:19,  1.28s/it]\u001b[A\n",
      " 65%|██████▌   | 26/40 [00:33<00:17,  1.25s/it]\u001b[A\n",
      " 68%|██████▊   | 27/40 [00:34<00:16,  1.25s/it]\u001b[A\n",
      " 70%|███████   | 28/40 [00:35<00:15,  1.28s/it]\u001b[A\n",
      " 72%|███████▎  | 29/40 [00:37<00:14,  1.28s/it]\u001b[A\n",
      " 75%|███████▌  | 30/40 [00:38<00:12,  1.27s/it]\u001b[A\n",
      " 78%|███████▊  | 31/40 [00:39<00:11,  1.27s/it]\u001b[A\n",
      " 80%|████████  | 32/40 [00:40<00:10,  1.30s/it]\u001b[A\n",
      " 82%|████████▎ | 33/40 [00:42<00:08,  1.27s/it]\u001b[A\n",
      " 85%|████████▌ | 34/40 [00:43<00:07,  1.27s/it]\u001b[A\n",
      " 88%|████████▊ | 35/40 [00:44<00:06,  1.26s/it]\u001b[A\n",
      " 90%|█████████ | 36/40 [00:45<00:05,  1.26s/it]\u001b[A\n",
      " 92%|█████████▎| 37/40 [00:47<00:03,  1.26s/it]\u001b[A\n",
      " 95%|█████████▌| 38/40 [00:48<00:02,  1.26s/it]\u001b[A\n",
      " 98%|█████████▊| 39/40 [00:49<00:01,  1.27s/it]\u001b[A\n",
      "100%|██████████| 40/40 [00:50<00:00,  1.26s/it]\u001b[A\n",
      "C:\\Users\\laraquij\\Anaconda3\\envs\\tfg_dani\\lib\\site-packages\\torchvision\\models\\_utils.py:209: UserWarning: The parameter 'pretrained' is deprecated since 0.13 and may be removed in the future, please use 'weights' instead.\n",
      "  f\"The parameter '{pretrained_param}' is deprecated since 0.13 and may be removed in the future, \"\n",
      "C:\\Users\\laraquij\\Anaconda3\\envs\\tfg_dani\\lib\\site-packages\\torchvision\\models\\_utils.py:223: UserWarning: Arguments other than a weight enum or `None` for 'weights' are deprecated since 0.13 and may be removed in the future. The current behavior is equivalent to passing `weights=ResNet50_Weights.IMAGENET1K_V1`. You can also use `weights=ResNet50_Weights.DEFAULT` to get the most up-to-date weights.\n",
      "  warnings.warn(msg)\n"
     ]
    },
    {
     "name": "stdout",
     "output_type": "stream",
     "text": [
      "------------fold nº 4----------------------\n"
     ]
    },
    {
     "name": "stderr",
     "output_type": "stream",
     "text": [
      "GPU available: True (cuda), used: True\n",
      "TPU available: False, using: 0 TPU cores\n",
      "IPU available: False, using: 0 IPUs\n",
      "HPU available: False, using: 0 HPUs\n",
      "LOCAL_RANK: 0 - CUDA_VISIBLE_DEVICES: [0]\n",
      "\n",
      "  | Name      | Type           | Params\n",
      "---------------------------------------------\n",
      "0 | accuracy  | BinaryAccuracy | 0     \n",
      "1 | f1score   | BinaryF1Score  | 0     \n",
      "2 | model     | ResNet         | 23.5 M\n",
      "3 | fuzzyloss | FuzzyLoss      | 0     \n",
      "---------------------------------------------\n",
      "4.1 K     Trainable params\n",
      "23.5 M    Non-trainable params\n",
      "23.5 M    Total params\n",
      "94.049    Total estimated model params size (MB)\n",
      "C:\\Users\\laraquij\\Anaconda3\\envs\\tfg_dani\\lib\\site-packages\\pytorch_lightning\\trainer\\connectors\\data_connector.py:229: PossibleUserWarning: The dataloader, train_dataloader, does not have many workers which may be a bottleneck. Consider increasing the value of the `num_workers` argument` (try 8 which is the number of cpus on this machine) in the `DataLoader` init to improve performance.\n",
      "  category=PossibleUserWarning,\n"
     ]
    },
    {
     "name": "stdout",
     "output_type": "stream",
     "text": [
      "Epoch 34: 100%|██████████| 158/158 [01:08<00:00,  2.31it/s, loss=0.0642, v_num=231] "
     ]
    },
    {
     "name": "stderr",
     "output_type": "stream",
     "text": [
      "`Trainer.fit` stopped: `max_epochs=35` reached.\n"
     ]
    },
    {
     "name": "stdout",
     "output_type": "stream",
     "text": [
      "Epoch 34: 100%|██████████| 158/158 [01:08<00:00,  2.29it/s, loss=0.0642, v_num=231]\n"
     ]
    },
    {
     "name": "stderr",
     "output_type": "stream",
     "text": [
      "\n",
      "  0%|          | 0/40 [00:00<?, ?it/s]\u001b[A\n",
      "  2%|▎         | 1/40 [00:01<00:49,  1.27s/it]\u001b[A\n",
      "  5%|▌         | 2/40 [00:02<00:46,  1.23s/it]\u001b[A\n",
      "  8%|▊         | 3/40 [00:03<00:45,  1.23s/it]\u001b[A\n",
      " 10%|█         | 4/40 [00:04<00:44,  1.24s/it]\u001b[A\n",
      " 12%|█▎        | 5/40 [00:06<00:42,  1.21s/it]\u001b[A\n",
      " 15%|█▌        | 6/40 [00:07<00:41,  1.21s/it]\u001b[A\n",
      " 18%|█▊        | 7/40 [00:08<00:39,  1.21s/it]\u001b[A\n",
      " 20%|██        | 8/40 [00:09<00:39,  1.23s/it]\u001b[A\n",
      " 22%|██▎       | 9/40 [00:11<00:38,  1.24s/it]\u001b[A\n",
      " 25%|██▌       | 10/40 [00:12<00:37,  1.24s/it]\u001b[A\n",
      " 28%|██▊       | 11/40 [00:13<00:35,  1.23s/it]\u001b[A\n",
      " 30%|███       | 12/40 [00:14<00:35,  1.25s/it]\u001b[A\n",
      " 32%|███▎      | 13/40 [00:15<00:33,  1.23s/it]\u001b[A\n",
      " 35%|███▌      | 14/40 [00:17<00:32,  1.23s/it]\u001b[A\n",
      " 38%|███▊      | 15/40 [00:18<00:30,  1.23s/it]\u001b[A\n",
      " 40%|████      | 16/40 [00:19<00:29,  1.25s/it]\u001b[A\n",
      " 42%|████▎     | 17/40 [00:20<00:28,  1.24s/it]\u001b[A\n",
      " 45%|████▌     | 18/40 [00:22<00:27,  1.24s/it]\u001b[A\n",
      " 48%|████▊     | 19/40 [00:23<00:26,  1.26s/it]\u001b[A\n",
      " 50%|█████     | 20/40 [00:24<00:24,  1.24s/it]\u001b[A\n",
      " 52%|█████▎    | 21/40 [00:25<00:23,  1.23s/it]\u001b[A\n",
      " 55%|█████▌    | 22/40 [00:27<00:21,  1.22s/it]\u001b[A\n",
      " 57%|█████▊    | 23/40 [00:28<00:21,  1.24s/it]\u001b[A\n",
      " 60%|██████    | 24/40 [00:29<00:20,  1.26s/it]\u001b[A\n",
      " 62%|██████▎   | 25/40 [00:30<00:18,  1.26s/it]\u001b[A\n",
      " 65%|██████▌   | 26/40 [00:32<00:17,  1.25s/it]\u001b[A\n",
      " 68%|██████▊   | 27/40 [00:33<00:16,  1.27s/it]\u001b[A\n",
      " 70%|███████   | 28/40 [00:34<00:15,  1.27s/it]\u001b[A\n",
      " 72%|███████▎  | 29/40 [00:36<00:13,  1.27s/it]\u001b[A\n",
      " 75%|███████▌  | 30/40 [00:37<00:12,  1.28s/it]\u001b[A\n",
      " 78%|███████▊  | 31/40 [00:38<00:11,  1.29s/it]\u001b[A\n",
      " 80%|████████  | 32/40 [00:39<00:10,  1.26s/it]\u001b[A\n",
      " 82%|████████▎ | 33/40 [00:41<00:08,  1.25s/it]\u001b[A\n",
      " 85%|████████▌ | 34/40 [00:42<00:07,  1.26s/it]\u001b[A\n",
      " 88%|████████▊ | 35/40 [00:43<00:06,  1.26s/it]\u001b[A\n",
      " 90%|█████████ | 36/40 [00:44<00:05,  1.27s/it]\u001b[A\n",
      " 92%|█████████▎| 37/40 [00:46<00:03,  1.25s/it]\u001b[A\n",
      " 95%|█████████▌| 38/40 [00:47<00:02,  1.24s/it]\u001b[A\n",
      " 98%|█████████▊| 39/40 [00:48<00:01,  1.25s/it]\u001b[A\n",
      "100%|██████████| 40/40 [00:49<00:00,  1.23s/it]\u001b[A\n"
     ]
    },
    {
     "data": {
      "text/html": [
       "<div>\n",
       "<style scoped>\n",
       "    .dataframe tbody tr th:only-of-type {\n",
       "        vertical-align: middle;\n",
       "    }\n",
       "\n",
       "    .dataframe tbody tr th {\n",
       "        vertical-align: top;\n",
       "    }\n",
       "\n",
       "    .dataframe thead th {\n",
       "        text-align: right;\n",
       "    }\n",
       "</style>\n",
       "<table border=\"1\" class=\"dataframe\">\n",
       "  <thead>\n",
       "    <tr style=\"text-align: right;\">\n",
       "      <th></th>\n",
       "      <th>epochs</th>\n",
       "      <th>gamma</th>\n",
       "      <th>lr</th>\n",
       "      <th>f1-0</th>\n",
       "      <th>f1-1</th>\n",
       "      <th>acc</th>\n",
       "    </tr>\n",
       "  </thead>\n",
       "  <tbody>\n",
       "    <tr>\n",
       "      <th>0</th>\n",
       "      <td>10.0</td>\n",
       "      <td>0.0</td>\n",
       "      <td>0.0001</td>\n",
       "      <td>0.998473</td>\n",
       "      <td>0.992366</td>\n",
       "      <td>0.997455</td>\n",
       "    </tr>\n",
       "    <tr>\n",
       "      <th>1</th>\n",
       "      <td>10.0</td>\n",
       "      <td>0.5</td>\n",
       "      <td>0.0001</td>\n",
       "      <td>0.998410</td>\n",
       "      <td>0.993631</td>\n",
       "      <td>0.997455</td>\n",
       "    </tr>\n",
       "    <tr>\n",
       "      <th>2</th>\n",
       "      <td>10.0</td>\n",
       "      <td>2.0</td>\n",
       "      <td>0.0001</td>\n",
       "      <td>0.998483</td>\n",
       "      <td>0.992126</td>\n",
       "      <td>0.997455</td>\n",
       "    </tr>\n",
       "    <tr>\n",
       "      <th>3</th>\n",
       "      <td>10.0</td>\n",
       "      <td>3.0</td>\n",
       "      <td>0.0001</td>\n",
       "      <td>0.998445</td>\n",
       "      <td>0.993007</td>\n",
       "      <td>0.997455</td>\n",
       "    </tr>\n",
       "    <tr>\n",
       "      <th>4</th>\n",
       "      <td>25.0</td>\n",
       "      <td>0.0</td>\n",
       "      <td>0.0001</td>\n",
       "      <td>1.000000</td>\n",
       "      <td>1.000000</td>\n",
       "      <td>1.000000</td>\n",
       "    </tr>\n",
       "    <tr>\n",
       "      <th>5</th>\n",
       "      <td>25.0</td>\n",
       "      <td>0.5</td>\n",
       "      <td>0.0001</td>\n",
       "      <td>1.000000</td>\n",
       "      <td>1.000000</td>\n",
       "      <td>1.000000</td>\n",
       "    </tr>\n",
       "    <tr>\n",
       "      <th>6</th>\n",
       "      <td>25.0</td>\n",
       "      <td>2.0</td>\n",
       "      <td>0.0001</td>\n",
       "      <td>0.998415</td>\n",
       "      <td>0.993548</td>\n",
       "      <td>0.997455</td>\n",
       "    </tr>\n",
       "    <tr>\n",
       "      <th>7</th>\n",
       "      <td>25.0</td>\n",
       "      <td>3.0</td>\n",
       "      <td>0.0001</td>\n",
       "      <td>1.000000</td>\n",
       "      <td>1.000000</td>\n",
       "      <td>1.000000</td>\n",
       "    </tr>\n",
       "    <tr>\n",
       "      <th>8</th>\n",
       "      <td>35.0</td>\n",
       "      <td>0.0</td>\n",
       "      <td>0.0001</td>\n",
       "      <td>0.998420</td>\n",
       "      <td>0.993464</td>\n",
       "      <td>0.997455</td>\n",
       "    </tr>\n",
       "    <tr>\n",
       "      <th>9</th>\n",
       "      <td>35.0</td>\n",
       "      <td>0.5</td>\n",
       "      <td>0.0001</td>\n",
       "      <td>1.000000</td>\n",
       "      <td>1.000000</td>\n",
       "      <td>1.000000</td>\n",
       "    </tr>\n",
       "    <tr>\n",
       "      <th>10</th>\n",
       "      <td>35.0</td>\n",
       "      <td>2.0</td>\n",
       "      <td>0.0001</td>\n",
       "      <td>0.998430</td>\n",
       "      <td>0.993289</td>\n",
       "      <td>0.997455</td>\n",
       "    </tr>\n",
       "    <tr>\n",
       "      <th>11</th>\n",
       "      <td>35.0</td>\n",
       "      <td>3.0</td>\n",
       "      <td>0.0001</td>\n",
       "      <td>1.000000</td>\n",
       "      <td>1.000000</td>\n",
       "      <td>1.000000</td>\n",
       "    </tr>\n",
       "  </tbody>\n",
       "</table>\n",
       "</div>"
      ],
      "text/plain": [
       "    epochs  gamma      lr      f1-0      f1-1       acc\n",
       "0     10.0    0.0  0.0001  0.998473  0.992366  0.997455\n",
       "1     10.0    0.5  0.0001  0.998410  0.993631  0.997455\n",
       "2     10.0    2.0  0.0001  0.998483  0.992126  0.997455\n",
       "3     10.0    3.0  0.0001  0.998445  0.993007  0.997455\n",
       "4     25.0    0.0  0.0001  1.000000  1.000000  1.000000\n",
       "5     25.0    0.5  0.0001  1.000000  1.000000  1.000000\n",
       "6     25.0    2.0  0.0001  0.998415  0.993548  0.997455\n",
       "7     25.0    3.0  0.0001  1.000000  1.000000  1.000000\n",
       "8     35.0    0.0  0.0001  0.998420  0.993464  0.997455\n",
       "9     35.0    0.5  0.0001  1.000000  1.000000  1.000000\n",
       "10    35.0    2.0  0.0001  0.998430  0.993289  0.997455\n",
       "11    35.0    3.0  0.0001  1.000000  1.000000  1.000000"
      ]
     },
     "execution_count": 9,
     "metadata": {},
     "output_type": "execute_result"
    }
   ],
   "source": [
    "K=5\n",
    "BATCH_SIZE=10\n",
    "EPOCHS=1\n",
    "GAMMA_0=2\n",
    "\n",
    "def get_prediction(x, model: pl.LightningModule):\n",
    "    model.freeze() # prepares model for predicting\n",
    "    probabilities = torch.softmax(model(x), dim=1)\n",
    "    predicted_class = torch.argmax(probabilities, dim=1)\n",
    "    return predicted_class, probabilities\n",
    "\n",
    "def train_tune(config):\n",
    "    kfold = KFold(n_splits=K, shuffle=True)\n",
    "    reports = []\n",
    "    mean_f1s = []\n",
    "    for fold,(train_idx,val_idx) in enumerate(kfold.split(image_dataset)):\n",
    "        print(f'------------fold nº {fold}----------------------')\n",
    "\n",
    "        train_subsampler = torch.utils.data.SubsetRandomSampler(train_idx)\n",
    "        val_subsampler = torch.utils.data.SubsetRandomSampler(val_idx)\n",
    "        trainloader = torch.utils.data.DataLoader(\n",
    "                          image_dataset, \n",
    "                          batch_size=BATCH_SIZE, sampler=train_subsampler)\n",
    "        testloader = torch.utils.data.DataLoader(\n",
    "                          image_dataset,\n",
    "                          batch_size=BATCH_SIZE, sampler=val_subsampler)\n",
    "\n",
    "        # Train this fold\n",
    "#         model = ResNetCustom(gamma=GAMMA_0, class_sizes=[c0_s,c1_s])\n",
    "        model = ResNetCustom(config, class_sizes=[c0_s,c1_s])\n",
    "        model.SPE = len(trainloader)\n",
    "        model.EPOCHS = config['epochs']\n",
    "        trainer = pl.Trainer(max_epochs=config['epochs'], devices=1, accelerator=\"gpu\")\n",
    "        trainer.fit(model, trainloader)\n",
    "\n",
    "        # Test this fold\n",
    "        true_y, pred_y = [], []\n",
    "        for batch in tqdm(iter(testloader), total=len(testloader)):\n",
    "            x, y = batch\n",
    "            true_y.extend(y)\n",
    "            preds, probs = get_prediction(x, model)\n",
    "            pred_y.extend(preds.cpu())\n",
    "\n",
    "        report = classification_report(true_y, pred_y, output_dict=True)\n",
    "        reports.append(report)\n",
    "        mean_f1s.append((report['0']['f1-score']+report['1']['f1-score'])/2)\n",
    "#         print('=> CONFIG:', config)\n",
    "#         print(classification_report(true_y, pred_y))\n",
    "    max_f1_idx = mean_f1s.index(max(mean_f1s))\n",
    "    return reports[max_f1_idx]\n",
    "\n",
    "EPOCHS = [10, 25, 35]\n",
    "GAMMAS = [0, 0.5, 2, 3]\n",
    "LRS = [1e-4]\n",
    "\n",
    "grid_search = pd.DataFrame(columns=['epochs','gamma','lr','f1-0','f1-1','acc'])\n",
    "\n",
    "for epochs in EPOCHS:\n",
    "    for gamma in GAMMAS:\n",
    "        for lr in LRS:\n",
    "            config = {'epochs': epochs, 'gamma': gamma, 'lr': lr}\n",
    "            report = train_tune(config)\n",
    "            grid_search = grid_search.append(\n",
    "                            pd.Series(\n",
    "                                [epochs,gamma,lr,report['0']['f1-score'],report['1']['f1-score'],report['accuracy']],\n",
    "                                index=grid_search.columns), \n",
    "                            ignore_index=True)\n",
    "            grid_search.to_csv('./grid_search/plant_village_fuzzyfocalloss.csv')\n",
    "grid_search"
   ]
  },
  {
   "cell_type": "code",
   "execution_count": 10,
   "id": "7c6cd0e5",
   "metadata": {},
   "outputs": [
    {
     "name": "stdout",
     "output_type": "stream",
     "text": [
      "------------fold nº 0----------------------\n"
     ]
    },
    {
     "name": "stderr",
     "output_type": "stream",
     "text": [
      "C:\\Users\\laraquij\\Anaconda3\\envs\\tfg_dani\\lib\\site-packages\\torchvision\\models\\_utils.py:209: UserWarning: The parameter 'pretrained' is deprecated since 0.13 and may be removed in the future, please use 'weights' instead.\n",
      "  f\"The parameter '{pretrained_param}' is deprecated since 0.13 and may be removed in the future, \"\n",
      "C:\\Users\\laraquij\\Anaconda3\\envs\\tfg_dani\\lib\\site-packages\\torchvision\\models\\_utils.py:223: UserWarning: Arguments other than a weight enum or `None` for 'weights' are deprecated since 0.13 and may be removed in the future. The current behavior is equivalent to passing `weights=ResNet50_Weights.IMAGENET1K_V1`. You can also use `weights=ResNet50_Weights.DEFAULT` to get the most up-to-date weights.\n",
      "  warnings.warn(msg)\n",
      "GPU available: True (cuda), used: True\n",
      "TPU available: False, using: 0 TPU cores\n",
      "IPU available: False, using: 0 IPUs\n",
      "HPU available: False, using: 0 HPUs\n",
      "LOCAL_RANK: 0 - CUDA_VISIBLE_DEVICES: [0]\n",
      "\n",
      "  | Name      | Type           | Params\n",
      "---------------------------------------------\n",
      "0 | accuracy  | BinaryAccuracy | 0     \n",
      "1 | f1score   | BinaryF1Score  | 0     \n",
      "2 | model     | ResNet         | 23.5 M\n",
      "3 | fuzzyloss | FuzzyLoss      | 0     \n",
      "---------------------------------------------\n",
      "4.1 K     Trainable params\n",
      "23.5 M    Non-trainable params\n",
      "23.5 M    Total params\n",
      "94.049    Total estimated model params size (MB)\n",
      "C:\\Users\\laraquij\\Anaconda3\\envs\\tfg_dani\\lib\\site-packages\\pytorch_lightning\\trainer\\connectors\\data_connector.py:229: PossibleUserWarning: The dataloader, train_dataloader, does not have many workers which may be a bottleneck. Consider increasing the value of the `num_workers` argument` (try 8 which is the number of cpus on this machine) in the `DataLoader` init to improve performance.\n",
      "  category=PossibleUserWarning,\n"
     ]
    },
    {
     "name": "stdout",
     "output_type": "stream",
     "text": [
      "Epoch 24: 100%|██████████| 158/158 [00:55<00:00,  2.85it/s, loss=0.00995, v_num=232]"
     ]
    },
    {
     "name": "stderr",
     "output_type": "stream",
     "text": [
      "`Trainer.fit` stopped: `max_epochs=25` reached.\n"
     ]
    },
    {
     "name": "stdout",
     "output_type": "stream",
     "text": [
      "Epoch 24: 100%|██████████| 158/158 [00:56<00:00,  2.82it/s, loss=0.00995, v_num=232]\n"
     ]
    },
    {
     "name": "stderr",
     "output_type": "stream",
     "text": [
      "\n",
      "  0%|          | 0/40 [00:00<?, ?it/s]\u001b[A\n",
      "  2%|▎         | 1/40 [00:01<00:43,  1.12s/it]\u001b[A\n",
      "  5%|▌         | 2/40 [00:02<00:42,  1.11s/it]\u001b[A\n",
      "  8%|▊         | 3/40 [00:03<00:41,  1.11s/it]\u001b[A\n",
      " 10%|█         | 4/40 [00:04<00:40,  1.13s/it]\u001b[A\n",
      " 12%|█▎        | 5/40 [00:05<00:39,  1.13s/it]\u001b[A\n",
      " 15%|█▌        | 6/40 [00:06<00:38,  1.13s/it]\u001b[A\n",
      " 18%|█▊        | 7/40 [00:07<00:37,  1.14s/it]\u001b[A\n",
      " 20%|██        | 8/40 [00:09<00:35,  1.12s/it]\u001b[A\n",
      " 22%|██▎       | 9/40 [00:10<00:34,  1.11s/it]\u001b[A\n",
      " 25%|██▌       | 10/40 [00:11<00:33,  1.12s/it]\u001b[A\n",
      " 28%|██▊       | 11/40 [00:12<00:32,  1.13s/it]\u001b[A\n",
      " 30%|███       | 12/40 [00:13<00:31,  1.13s/it]\u001b[A\n",
      " 32%|███▎      | 13/40 [00:14<00:30,  1.13s/it]\u001b[A\n",
      " 35%|███▌      | 14/40 [00:15<00:29,  1.13s/it]\u001b[A\n",
      " 38%|███▊      | 15/40 [00:16<00:28,  1.14s/it]\u001b[A\n",
      " 40%|████      | 16/40 [00:18<00:26,  1.12s/it]\u001b[A\n",
      " 42%|████▎     | 17/40 [00:19<00:25,  1.12s/it]\u001b[A\n",
      " 45%|████▌     | 18/40 [00:20<00:24,  1.13s/it]\u001b[A\n",
      " 48%|████▊     | 19/40 [00:21<00:23,  1.12s/it]\u001b[A\n",
      " 50%|█████     | 20/40 [00:22<00:22,  1.11s/it]\u001b[A\n",
      " 52%|█████▎    | 21/40 [00:23<00:20,  1.10s/it]\u001b[A\n",
      " 55%|█████▌    | 22/40 [00:24<00:19,  1.10s/it]\u001b[A\n",
      " 57%|█████▊    | 23/40 [00:25<00:18,  1.10s/it]\u001b[A\n",
      " 60%|██████    | 24/40 [00:26<00:17,  1.12s/it]\u001b[A\n",
      " 62%|██████▎   | 25/40 [00:28<00:16,  1.12s/it]\u001b[A\n",
      " 65%|██████▌   | 26/40 [00:29<00:15,  1.13s/it]\u001b[A\n",
      " 68%|██████▊   | 27/40 [00:30<00:14,  1.14s/it]\u001b[A\n",
      " 70%|███████   | 28/40 [00:31<00:13,  1.13s/it]\u001b[A\n",
      " 72%|███████▎  | 29/40 [00:32<00:12,  1.11s/it]\u001b[A\n",
      " 75%|███████▌  | 30/40 [00:33<00:11,  1.11s/it]\u001b[A\n",
      " 78%|███████▊  | 31/40 [00:34<00:10,  1.12s/it]\u001b[A\n",
      " 80%|████████  | 32/40 [00:35<00:08,  1.12s/it]\u001b[A\n",
      " 82%|████████▎ | 33/40 [00:36<00:07,  1.11s/it]\u001b[A\n",
      " 85%|████████▌ | 34/40 [00:38<00:06,  1.12s/it]\u001b[A\n",
      " 88%|████████▊ | 35/40 [00:39<00:05,  1.14s/it]\u001b[A\n",
      " 90%|█████████ | 36/40 [00:40<00:04,  1.14s/it]\u001b[A\n",
      " 92%|█████████▎| 37/40 [00:41<00:03,  1.15s/it]\u001b[A\n",
      " 95%|█████████▌| 38/40 [00:42<00:02,  1.14s/it]\u001b[A\n",
      " 98%|█████████▊| 39/40 [00:43<00:01,  1.14s/it]\u001b[A\n",
      "100%|██████████| 40/40 [00:44<00:00,  1.11s/it]\u001b[A\n",
      "C:\\Users\\laraquij\\Anaconda3\\envs\\tfg_dani\\lib\\site-packages\\torchvision\\models\\_utils.py:209: UserWarning: The parameter 'pretrained' is deprecated since 0.13 and may be removed in the future, please use 'weights' instead.\n",
      "  f\"The parameter '{pretrained_param}' is deprecated since 0.13 and may be removed in the future, \"\n",
      "C:\\Users\\laraquij\\Anaconda3\\envs\\tfg_dani\\lib\\site-packages\\torchvision\\models\\_utils.py:223: UserWarning: Arguments other than a weight enum or `None` for 'weights' are deprecated since 0.13 and may be removed in the future. The current behavior is equivalent to passing `weights=ResNet50_Weights.IMAGENET1K_V1`. You can also use `weights=ResNet50_Weights.DEFAULT` to get the most up-to-date weights.\n",
      "  warnings.warn(msg)\n"
     ]
    },
    {
     "name": "stdout",
     "output_type": "stream",
     "text": [
      "------------fold nº 1----------------------\n"
     ]
    },
    {
     "name": "stderr",
     "output_type": "stream",
     "text": [
      "GPU available: True (cuda), used: True\n",
      "TPU available: False, using: 0 TPU cores\n",
      "IPU available: False, using: 0 IPUs\n",
      "HPU available: False, using: 0 HPUs\n",
      "LOCAL_RANK: 0 - CUDA_VISIBLE_DEVICES: [0]\n",
      "\n",
      "  | Name      | Type           | Params\n",
      "---------------------------------------------\n",
      "0 | accuracy  | BinaryAccuracy | 0     \n",
      "1 | f1score   | BinaryF1Score  | 0     \n",
      "2 | model     | ResNet         | 23.5 M\n",
      "3 | fuzzyloss | FuzzyLoss      | 0     \n",
      "---------------------------------------------\n",
      "4.1 K     Trainable params\n",
      "23.5 M    Non-trainable params\n",
      "23.5 M    Total params\n",
      "94.049    Total estimated model params size (MB)\n",
      "C:\\Users\\laraquij\\Anaconda3\\envs\\tfg_dani\\lib\\site-packages\\pytorch_lightning\\trainer\\connectors\\data_connector.py:229: PossibleUserWarning: The dataloader, train_dataloader, does not have many workers which may be a bottleneck. Consider increasing the value of the `num_workers` argument` (try 8 which is the number of cpus on this machine) in the `DataLoader` init to improve performance.\n",
      "  category=PossibleUserWarning,\n"
     ]
    },
    {
     "name": "stdout",
     "output_type": "stream",
     "text": [
      "Epoch 24: 100%|██████████| 158/158 [00:55<00:00,  2.86it/s, loss=0.0259, v_num=233] "
     ]
    },
    {
     "name": "stderr",
     "output_type": "stream",
     "text": [
      "`Trainer.fit` stopped: `max_epochs=25` reached.\n"
     ]
    },
    {
     "name": "stdout",
     "output_type": "stream",
     "text": [
      "Epoch 24: 100%|██████████| 158/158 [00:55<00:00,  2.83it/s, loss=0.0259, v_num=233]\n"
     ]
    },
    {
     "name": "stderr",
     "output_type": "stream",
     "text": [
      "\n",
      "  0%|          | 0/40 [00:00<?, ?it/s]\u001b[A\n",
      "  2%|▎         | 1/40 [00:01<00:46,  1.20s/it]\u001b[A\n",
      "  5%|▌         | 2/40 [00:02<00:42,  1.12s/it]\u001b[A\n",
      "  8%|▊         | 3/40 [00:03<00:41,  1.13s/it]\u001b[A\n",
      " 10%|█         | 4/40 [00:04<00:41,  1.15s/it]\u001b[A\n",
      " 12%|█▎        | 5/40 [00:05<00:40,  1.14s/it]\u001b[A\n",
      " 15%|█▌        | 6/40 [00:06<00:38,  1.13s/it]\u001b[A\n",
      " 18%|█▊        | 7/40 [00:07<00:36,  1.12s/it]\u001b[A\n",
      " 20%|██        | 8/40 [00:09<00:36,  1.13s/it]\u001b[A\n",
      " 22%|██▎       | 9/40 [00:10<00:34,  1.12s/it]\u001b[A\n",
      " 25%|██▌       | 10/40 [00:11<00:33,  1.11s/it]\u001b[A\n",
      " 28%|██▊       | 11/40 [00:12<00:31,  1.09s/it]\u001b[A\n",
      " 30%|███       | 12/40 [00:13<00:30,  1.10s/it]\u001b[A\n",
      " 32%|███▎      | 13/40 [00:14<00:30,  1.12s/it]\u001b[A\n",
      " 35%|███▌      | 14/40 [00:15<00:28,  1.10s/it]\u001b[A\n",
      " 38%|███▊      | 15/40 [00:16<00:27,  1.11s/it]\u001b[A\n",
      " 40%|████      | 16/40 [00:17<00:26,  1.09s/it]\u001b[A\n",
      " 42%|████▎     | 17/40 [00:18<00:25,  1.11s/it]\u001b[A\n",
      " 45%|████▌     | 18/40 [00:20<00:24,  1.12s/it]\u001b[A\n",
      " 48%|████▊     | 19/40 [00:21<00:23,  1.11s/it]\u001b[A\n",
      " 50%|█████     | 20/40 [00:22<00:21,  1.09s/it]\u001b[A\n",
      " 52%|█████▎    | 21/40 [00:23<00:21,  1.13s/it]\u001b[A\n",
      " 55%|█████▌    | 22/40 [00:24<00:20,  1.11s/it]\u001b[A\n",
      " 57%|█████▊    | 23/40 [00:25<00:18,  1.11s/it]\u001b[A\n",
      " 60%|██████    | 24/40 [00:26<00:17,  1.10s/it]\u001b[A\n",
      " 62%|██████▎   | 25/40 [00:27<00:16,  1.11s/it]\u001b[A\n",
      " 65%|██████▌   | 26/40 [00:29<00:15,  1.12s/it]\u001b[A\n",
      " 68%|██████▊   | 27/40 [00:30<00:14,  1.11s/it]\u001b[A\n",
      " 70%|███████   | 28/40 [00:31<00:13,  1.09s/it]\u001b[A\n",
      " 72%|███████▎  | 29/40 [00:32<00:12,  1.10s/it]\u001b[A\n",
      " 75%|███████▌  | 30/40 [00:33<00:11,  1.10s/it]\u001b[A\n",
      " 78%|███████▊  | 31/40 [00:34<00:10,  1.12s/it]\u001b[A\n",
      " 80%|████████  | 32/40 [00:35<00:08,  1.12s/it]\u001b[A\n",
      " 82%|████████▎ | 33/40 [00:36<00:07,  1.09s/it]\u001b[A\n",
      " 85%|████████▌ | 34/40 [00:37<00:06,  1.10s/it]\u001b[A\n",
      " 88%|████████▊ | 35/40 [00:38<00:05,  1.11s/it]\u001b[A\n",
      " 90%|█████████ | 36/40 [00:40<00:04,  1.12s/it]\u001b[A\n",
      " 92%|█████████▎| 37/40 [00:41<00:03,  1.12s/it]\u001b[A\n",
      " 95%|█████████▌| 38/40 [00:42<00:02,  1.15s/it]\u001b[A\n",
      " 98%|█████████▊| 39/40 [00:43<00:01,  1.13s/it]\u001b[A\n",
      "100%|██████████| 40/40 [00:43<00:00,  1.10s/it]\u001b[A\n",
      "C:\\Users\\laraquij\\Anaconda3\\envs\\tfg_dani\\lib\\site-packages\\torchvision\\models\\_utils.py:209: UserWarning: The parameter 'pretrained' is deprecated since 0.13 and may be removed in the future, please use 'weights' instead.\n",
      "  f\"The parameter '{pretrained_param}' is deprecated since 0.13 and may be removed in the future, \"\n",
      "C:\\Users\\laraquij\\Anaconda3\\envs\\tfg_dani\\lib\\site-packages\\torchvision\\models\\_utils.py:223: UserWarning: Arguments other than a weight enum or `None` for 'weights' are deprecated since 0.13 and may be removed in the future. The current behavior is equivalent to passing `weights=ResNet50_Weights.IMAGENET1K_V1`. You can also use `weights=ResNet50_Weights.DEFAULT` to get the most up-to-date weights.\n",
      "  warnings.warn(msg)\n"
     ]
    },
    {
     "name": "stdout",
     "output_type": "stream",
     "text": [
      "------------fold nº 2----------------------\n"
     ]
    },
    {
     "name": "stderr",
     "output_type": "stream",
     "text": [
      "GPU available: True (cuda), used: True\n",
      "TPU available: False, using: 0 TPU cores\n",
      "IPU available: False, using: 0 IPUs\n",
      "HPU available: False, using: 0 HPUs\n",
      "LOCAL_RANK: 0 - CUDA_VISIBLE_DEVICES: [0]\n",
      "\n",
      "  | Name      | Type           | Params\n",
      "---------------------------------------------\n",
      "0 | accuracy  | BinaryAccuracy | 0     \n",
      "1 | f1score   | BinaryF1Score  | 0     \n",
      "2 | model     | ResNet         | 23.5 M\n",
      "3 | fuzzyloss | FuzzyLoss      | 0     \n",
      "---------------------------------------------\n",
      "4.1 K     Trainable params\n",
      "23.5 M    Non-trainable params\n",
      "23.5 M    Total params\n",
      "94.049    Total estimated model params size (MB)\n",
      "C:\\Users\\laraquij\\Anaconda3\\envs\\tfg_dani\\lib\\site-packages\\pytorch_lightning\\trainer\\connectors\\data_connector.py:229: PossibleUserWarning: The dataloader, train_dataloader, does not have many workers which may be a bottleneck. Consider increasing the value of the `num_workers` argument` (try 8 which is the number of cpus on this machine) in the `DataLoader` init to improve performance.\n",
      "  category=PossibleUserWarning,\n"
     ]
    },
    {
     "name": "stdout",
     "output_type": "stream",
     "text": [
      "Epoch 24: 100%|██████████| 158/158 [00:55<00:00,  2.86it/s, loss=0.0155, v_num=234]"
     ]
    },
    {
     "name": "stderr",
     "output_type": "stream",
     "text": [
      "`Trainer.fit` stopped: `max_epochs=25` reached.\n"
     ]
    },
    {
     "name": "stdout",
     "output_type": "stream",
     "text": [
      "Epoch 24: 100%|██████████| 158/158 [00:55<00:00,  2.83it/s, loss=0.0155, v_num=234]\n"
     ]
    },
    {
     "name": "stderr",
     "output_type": "stream",
     "text": [
      "\n",
      "  0%|          | 0/40 [00:00<?, ?it/s]\u001b[A\n",
      "  2%|▎         | 1/40 [00:01<00:41,  1.07s/it]\u001b[A\n",
      "  5%|▌         | 2/40 [00:02<00:41,  1.09s/it]\u001b[A\n",
      "  8%|▊         | 3/40 [00:03<00:40,  1.09s/it]\u001b[A\n",
      " 10%|█         | 4/40 [00:04<00:40,  1.11s/it]\u001b[A\n",
      " 12%|█▎        | 5/40 [00:05<00:38,  1.11s/it]\u001b[A\n",
      " 15%|█▌        | 6/40 [00:06<00:36,  1.08s/it]\u001b[A\n",
      " 18%|█▊        | 7/40 [00:07<00:35,  1.08s/it]\u001b[A\n",
      " 20%|██        | 8/40 [00:08<00:34,  1.09s/it]\u001b[A\n",
      " 22%|██▎       | 9/40 [00:09<00:34,  1.10s/it]\u001b[A\n",
      " 25%|██▌       | 10/40 [00:11<00:33,  1.12s/it]\u001b[A\n",
      " 28%|██▊       | 11/40 [00:12<00:33,  1.14s/it]\u001b[A\n",
      " 30%|███       | 12/40 [00:13<00:32,  1.14s/it]\u001b[A\n",
      " 32%|███▎      | 13/40 [00:14<00:30,  1.12s/it]\u001b[A\n",
      " 35%|███▌      | 14/40 [00:15<00:29,  1.12s/it]\u001b[A\n",
      " 38%|███▊      | 15/40 [00:16<00:27,  1.12s/it]\u001b[A\n",
      " 40%|████      | 16/40 [00:17<00:26,  1.12s/it]\u001b[A\n",
      " 42%|████▎     | 17/40 [00:18<00:25,  1.13s/it]\u001b[A\n",
      " 45%|████▌     | 18/40 [00:20<00:24,  1.13s/it]\u001b[A\n",
      " 48%|████▊     | 19/40 [00:21<00:23,  1.11s/it]\u001b[A\n",
      " 50%|█████     | 20/40 [00:22<00:22,  1.12s/it]\u001b[A\n",
      " 52%|█████▎    | 21/40 [00:23<00:21,  1.11s/it]\u001b[A\n",
      " 55%|█████▌    | 22/40 [00:24<00:19,  1.11s/it]\u001b[A\n",
      " 57%|█████▊    | 23/40 [00:25<00:18,  1.10s/it]\u001b[A\n",
      " 60%|██████    | 24/40 [00:26<00:17,  1.11s/it]\u001b[A\n",
      " 62%|██████▎   | 25/40 [00:27<00:16,  1.12s/it]\u001b[A\n",
      " 65%|██████▌   | 26/40 [00:28<00:15,  1.10s/it]\u001b[A\n",
      " 68%|██████▊   | 27/40 [00:29<00:14,  1.10s/it]\u001b[A\n",
      " 70%|███████   | 28/40 [00:30<00:12,  1.08s/it]\u001b[A\n",
      " 72%|███████▎  | 29/40 [00:32<00:12,  1.10s/it]\u001b[A\n",
      " 75%|███████▌  | 30/40 [00:33<00:11,  1.10s/it]\u001b[A\n",
      " 78%|███████▊  | 31/40 [00:34<00:09,  1.10s/it]\u001b[A\n",
      " 80%|████████  | 32/40 [00:35<00:08,  1.09s/it]\u001b[A\n",
      " 82%|████████▎ | 33/40 [00:36<00:07,  1.10s/it]\u001b[A\n",
      " 85%|████████▌ | 34/40 [00:37<00:06,  1.11s/it]\u001b[A\n",
      " 88%|████████▊ | 35/40 [00:38<00:05,  1.10s/it]\u001b[A\n",
      " 90%|█████████ | 36/40 [00:39<00:04,  1.09s/it]\u001b[A\n",
      " 92%|█████████▎| 37/40 [00:40<00:03,  1.09s/it]\u001b[A\n",
      " 95%|█████████▌| 38/40 [00:42<00:02,  1.11s/it]\u001b[A\n",
      " 98%|█████████▊| 39/40 [00:43<00:01,  1.10s/it]\u001b[A\n",
      "100%|██████████| 40/40 [00:43<00:00,  1.09s/it]\u001b[A\n",
      "C:\\Users\\laraquij\\Anaconda3\\envs\\tfg_dani\\lib\\site-packages\\torchvision\\models\\_utils.py:209: UserWarning: The parameter 'pretrained' is deprecated since 0.13 and may be removed in the future, please use 'weights' instead.\n",
      "  f\"The parameter '{pretrained_param}' is deprecated since 0.13 and may be removed in the future, \"\n",
      "C:\\Users\\laraquij\\Anaconda3\\envs\\tfg_dani\\lib\\site-packages\\torchvision\\models\\_utils.py:223: UserWarning: Arguments other than a weight enum or `None` for 'weights' are deprecated since 0.13 and may be removed in the future. The current behavior is equivalent to passing `weights=ResNet50_Weights.IMAGENET1K_V1`. You can also use `weights=ResNet50_Weights.DEFAULT` to get the most up-to-date weights.\n",
      "  warnings.warn(msg)\n"
     ]
    },
    {
     "name": "stdout",
     "output_type": "stream",
     "text": [
      "------------fold nº 3----------------------\n"
     ]
    },
    {
     "name": "stderr",
     "output_type": "stream",
     "text": [
      "GPU available: True (cuda), used: True\n",
      "TPU available: False, using: 0 TPU cores\n",
      "IPU available: False, using: 0 IPUs\n",
      "HPU available: False, using: 0 HPUs\n",
      "LOCAL_RANK: 0 - CUDA_VISIBLE_DEVICES: [0]\n",
      "\n",
      "  | Name      | Type           | Params\n",
      "---------------------------------------------\n",
      "0 | accuracy  | BinaryAccuracy | 0     \n",
      "1 | f1score   | BinaryF1Score  | 0     \n",
      "2 | model     | ResNet         | 23.5 M\n",
      "3 | fuzzyloss | FuzzyLoss      | 0     \n",
      "---------------------------------------------\n",
      "4.1 K     Trainable params\n",
      "23.5 M    Non-trainable params\n",
      "23.5 M    Total params\n",
      "94.049    Total estimated model params size (MB)\n",
      "C:\\Users\\laraquij\\Anaconda3\\envs\\tfg_dani\\lib\\site-packages\\pytorch_lightning\\trainer\\connectors\\data_connector.py:229: PossibleUserWarning: The dataloader, train_dataloader, does not have many workers which may be a bottleneck. Consider increasing the value of the `num_workers` argument` (try 8 which is the number of cpus on this machine) in the `DataLoader` init to improve performance.\n",
      "  category=PossibleUserWarning,\n"
     ]
    },
    {
     "name": "stdout",
     "output_type": "stream",
     "text": [
      "Epoch 24: 100%|██████████| 158/158 [00:55<00:00,  2.86it/s, loss=0.027, v_num=235]  "
     ]
    },
    {
     "name": "stderr",
     "output_type": "stream",
     "text": [
      "`Trainer.fit` stopped: `max_epochs=25` reached.\n"
     ]
    },
    {
     "name": "stdout",
     "output_type": "stream",
     "text": [
      "Epoch 24: 100%|██████████| 158/158 [00:55<00:00,  2.83it/s, loss=0.027, v_num=235]\n"
     ]
    },
    {
     "name": "stderr",
     "output_type": "stream",
     "text": [
      "\n",
      "  0%|          | 0/40 [00:00<?, ?it/s]\u001b[A\n",
      "  2%|▎         | 1/40 [00:01<00:42,  1.09s/it]\u001b[A\n",
      "  5%|▌         | 2/40 [00:02<00:41,  1.10s/it]\u001b[A\n",
      "  8%|▊         | 3/40 [00:03<00:41,  1.11s/it]\u001b[A\n",
      " 10%|█         | 4/40 [00:04<00:39,  1.11s/it]\u001b[A\n",
      " 12%|█▎        | 5/40 [00:05<00:38,  1.10s/it]\u001b[A\n",
      " 15%|█▌        | 6/40 [00:06<00:37,  1.10s/it]\u001b[A\n",
      " 18%|█▊        | 7/40 [00:07<00:36,  1.12s/it]\u001b[A\n",
      " 20%|██        | 8/40 [00:08<00:36,  1.13s/it]\u001b[A\n",
      " 22%|██▎       | 9/40 [00:10<00:34,  1.11s/it]\u001b[A\n",
      " 25%|██▌       | 10/40 [00:11<00:33,  1.13s/it]\u001b[A\n",
      " 28%|██▊       | 11/40 [00:12<00:33,  1.14s/it]\u001b[A\n",
      " 30%|███       | 12/40 [00:13<00:31,  1.12s/it]\u001b[A\n",
      " 32%|███▎      | 13/40 [00:14<00:30,  1.11s/it]\u001b[A\n",
      " 35%|███▌      | 14/40 [00:15<00:29,  1.12s/it]\u001b[A\n",
      " 38%|███▊      | 15/40 [00:16<00:27,  1.11s/it]\u001b[A\n",
      " 40%|████      | 16/40 [00:17<00:26,  1.11s/it]\u001b[A\n",
      " 42%|████▎     | 17/40 [00:18<00:25,  1.11s/it]\u001b[A\n",
      " 45%|████▌     | 18/40 [00:20<00:24,  1.12s/it]\u001b[A\n",
      " 48%|████▊     | 19/40 [00:21<00:23,  1.13s/it]\u001b[A\n",
      " 50%|█████     | 20/40 [00:22<00:22,  1.12s/it]\u001b[A\n",
      " 52%|█████▎    | 21/40 [00:23<00:21,  1.11s/it]\u001b[A\n",
      " 55%|█████▌    | 22/40 [00:24<00:19,  1.10s/it]\u001b[A\n",
      " 57%|█████▊    | 23/40 [00:25<00:18,  1.11s/it]\u001b[A\n",
      " 60%|██████    | 24/40 [00:26<00:17,  1.11s/it]\u001b[A\n",
      " 62%|██████▎   | 25/40 [00:27<00:16,  1.11s/it]\u001b[A\n",
      " 65%|██████▌   | 26/40 [00:29<00:15,  1.13s/it]\u001b[A\n",
      " 68%|██████▊   | 27/40 [00:30<00:14,  1.12s/it]\u001b[A\n",
      " 70%|███████   | 28/40 [00:31<00:13,  1.12s/it]\u001b[A\n",
      " 72%|███████▎  | 29/40 [00:32<00:12,  1.11s/it]\u001b[A\n",
      " 75%|███████▌  | 30/40 [00:33<00:11,  1.11s/it]\u001b[A\n",
      " 78%|███████▊  | 31/40 [00:34<00:10,  1.11s/it]\u001b[A\n",
      " 80%|████████  | 32/40 [00:35<00:09,  1.13s/it]\u001b[A\n",
      " 82%|████████▎ | 33/40 [00:36<00:07,  1.13s/it]\u001b[A\n",
      " 85%|████████▌ | 34/40 [00:37<00:06,  1.13s/it]\u001b[A\n",
      " 88%|████████▊ | 35/40 [00:39<00:05,  1.14s/it]\u001b[A\n",
      " 90%|█████████ | 36/40 [00:40<00:04,  1.13s/it]\u001b[A\n",
      " 92%|█████████▎| 37/40 [00:41<00:03,  1.14s/it]\u001b[A\n",
      " 95%|█████████▌| 38/40 [00:42<00:02,  1.13s/it]\u001b[A\n",
      " 98%|█████████▊| 39/40 [00:43<00:01,  1.12s/it]\u001b[A\n",
      "100%|██████████| 40/40 [00:44<00:00,  1.10s/it]\u001b[A\n",
      "C:\\Users\\laraquij\\Anaconda3\\envs\\tfg_dani\\lib\\site-packages\\torchvision\\models\\_utils.py:209: UserWarning: The parameter 'pretrained' is deprecated since 0.13 and may be removed in the future, please use 'weights' instead.\n",
      "  f\"The parameter '{pretrained_param}' is deprecated since 0.13 and may be removed in the future, \"\n",
      "C:\\Users\\laraquij\\Anaconda3\\envs\\tfg_dani\\lib\\site-packages\\torchvision\\models\\_utils.py:223: UserWarning: Arguments other than a weight enum or `None` for 'weights' are deprecated since 0.13 and may be removed in the future. The current behavior is equivalent to passing `weights=ResNet50_Weights.IMAGENET1K_V1`. You can also use `weights=ResNet50_Weights.DEFAULT` to get the most up-to-date weights.\n",
      "  warnings.warn(msg)\n"
     ]
    },
    {
     "name": "stdout",
     "output_type": "stream",
     "text": [
      "------------fold nº 4----------------------\n"
     ]
    },
    {
     "name": "stderr",
     "output_type": "stream",
     "text": [
      "GPU available: True (cuda), used: True\n",
      "TPU available: False, using: 0 TPU cores\n",
      "IPU available: False, using: 0 IPUs\n",
      "HPU available: False, using: 0 HPUs\n",
      "LOCAL_RANK: 0 - CUDA_VISIBLE_DEVICES: [0]\n",
      "\n",
      "  | Name      | Type           | Params\n",
      "---------------------------------------------\n",
      "0 | accuracy  | BinaryAccuracy | 0     \n",
      "1 | f1score   | BinaryF1Score  | 0     \n",
      "2 | model     | ResNet         | 23.5 M\n",
      "3 | fuzzyloss | FuzzyLoss      | 0     \n",
      "---------------------------------------------\n",
      "4.1 K     Trainable params\n",
      "23.5 M    Non-trainable params\n",
      "23.5 M    Total params\n",
      "94.049    Total estimated model params size (MB)\n",
      "C:\\Users\\laraquij\\Anaconda3\\envs\\tfg_dani\\lib\\site-packages\\pytorch_lightning\\trainer\\connectors\\data_connector.py:229: PossibleUserWarning: The dataloader, train_dataloader, does not have many workers which may be a bottleneck. Consider increasing the value of the `num_workers` argument` (try 8 which is the number of cpus on this machine) in the `DataLoader` init to improve performance.\n",
      "  category=PossibleUserWarning,\n"
     ]
    },
    {
     "name": "stdout",
     "output_type": "stream",
     "text": [
      "Epoch 24: 100%|██████████| 158/158 [00:55<00:00,  2.86it/s, loss=0.0271, v_num=236] "
     ]
    },
    {
     "name": "stderr",
     "output_type": "stream",
     "text": [
      "`Trainer.fit` stopped: `max_epochs=25` reached.\n"
     ]
    },
    {
     "name": "stdout",
     "output_type": "stream",
     "text": [
      "Epoch 24: 100%|██████████| 158/158 [00:55<00:00,  2.83it/s, loss=0.0271, v_num=236]\n"
     ]
    },
    {
     "name": "stderr",
     "output_type": "stream",
     "text": [
      "\n",
      "  0%|          | 0/40 [00:00<?, ?it/s]\u001b[A\n",
      "  2%|▎         | 1/40 [00:01<00:43,  1.12s/it]\u001b[A\n",
      "  5%|▌         | 2/40 [00:02<00:43,  1.13s/it]\u001b[A\n",
      "  8%|▊         | 3/40 [00:03<00:40,  1.09s/it]\u001b[A\n",
      " 10%|█         | 4/40 [00:04<00:40,  1.12s/it]\u001b[A\n",
      " 12%|█▎        | 5/40 [00:05<00:38,  1.10s/it]\u001b[A\n",
      " 15%|█▌        | 6/40 [00:06<00:37,  1.11s/it]\u001b[A\n",
      " 18%|█▊        | 7/40 [00:07<00:36,  1.11s/it]\u001b[A\n",
      " 20%|██        | 8/40 [00:08<00:36,  1.13s/it]\u001b[A\n",
      " 22%|██▎       | 9/40 [00:10<00:34,  1.12s/it]\u001b[A\n",
      " 25%|██▌       | 10/40 [00:11<00:33,  1.12s/it]\u001b[A\n",
      " 28%|██▊       | 11/40 [00:12<00:32,  1.12s/it]\u001b[A\n",
      " 30%|███       | 12/40 [00:13<00:31,  1.14s/it]\u001b[A\n",
      " 32%|███▎      | 13/40 [00:14<00:30,  1.12s/it]\u001b[A\n",
      " 35%|███▌      | 14/40 [00:15<00:28,  1.11s/it]\u001b[A\n",
      " 38%|███▊      | 15/40 [00:16<00:27,  1.12s/it]\u001b[A\n",
      " 40%|████      | 16/40 [00:17<00:26,  1.10s/it]\u001b[A\n",
      " 42%|████▎     | 17/40 [00:18<00:25,  1.11s/it]\u001b[A\n",
      " 45%|████▌     | 18/40 [00:20<00:24,  1.12s/it]\u001b[A\n",
      " 48%|████▊     | 19/40 [00:21<00:23,  1.11s/it]\u001b[A\n",
      " 50%|█████     | 20/40 [00:22<00:22,  1.12s/it]\u001b[A\n",
      " 52%|█████▎    | 21/40 [00:23<00:21,  1.13s/it]\u001b[A\n",
      " 55%|█████▌    | 22/40 [00:24<00:20,  1.15s/it]\u001b[A\n",
      " 57%|█████▊    | 23/40 [00:25<00:19,  1.14s/it]\u001b[A\n",
      " 60%|██████    | 24/40 [00:26<00:17,  1.11s/it]\u001b[A\n",
      " 62%|██████▎   | 25/40 [00:27<00:16,  1.11s/it]\u001b[A\n",
      " 65%|██████▌   | 26/40 [00:29<00:15,  1.12s/it]\u001b[A\n",
      " 68%|██████▊   | 27/40 [00:30<00:14,  1.12s/it]\u001b[A\n",
      " 70%|███████   | 28/40 [00:31<00:13,  1.11s/it]\u001b[A\n",
      " 72%|███████▎  | 29/40 [00:32<00:12,  1.10s/it]\u001b[A\n",
      " 75%|███████▌  | 30/40 [00:33<00:11,  1.11s/it]\u001b[A\n",
      " 78%|███████▊  | 31/40 [00:34<00:10,  1.11s/it]\u001b[A\n",
      " 80%|████████  | 32/40 [00:35<00:08,  1.11s/it]\u001b[A\n",
      " 82%|████████▎ | 33/40 [00:36<00:07,  1.12s/it]\u001b[A\n",
      " 85%|████████▌ | 34/40 [00:37<00:06,  1.10s/it]\u001b[A\n",
      " 88%|████████▊ | 35/40 [00:39<00:05,  1.12s/it]\u001b[A\n",
      " 90%|█████████ | 36/40 [00:40<00:04,  1.13s/it]\u001b[A\n",
      " 92%|█████████▎| 37/40 [00:41<00:03,  1.13s/it]\u001b[A\n",
      " 95%|█████████▌| 38/40 [00:42<00:02,  1.14s/it]\u001b[A\n",
      " 98%|█████████▊| 39/40 [00:43<00:01,  1.14s/it]\u001b[A\n",
      "100%|██████████| 40/40 [00:43<00:00,  1.10s/it]\u001b[A"
     ]
    },
    {
     "name": "stdout",
     "output_type": "stream",
     "text": [
      "{'0': {'precision': 1.0, 'recall': 1.0, 'f1-score': 1.0, 'support': 311}, '1': {'precision': 1.0, 'recall': 1.0, 'f1-score': 1.0, 'support': 82}, 'accuracy': 1.0, 'macro avg': {'precision': 1.0, 'recall': 1.0, 'f1-score': 1.0, 'support': 393}, 'weighted avg': {'precision': 1.0, 'recall': 1.0, 'f1-score': 1.0, 'support': 393}}\n"
     ]
    },
    {
     "name": "stderr",
     "output_type": "stream",
     "text": [
      "\n"
     ]
    }
   ],
   "source": [
    "mean_losses = []\n",
    "mean_acc = []\n",
    "mean_f1s = []\n",
    "\n",
    "config = {'epochs': 25, 'gamma': 2, 'lr': 1e-3}\n",
    "report = train_tune(config)\n",
    "print(report)"
   ]
  },
  {
   "cell_type": "code",
   "execution_count": 15,
   "id": "e08f8fd8",
   "metadata": {},
   "outputs": [
    {
     "data": {
      "image/png": "[encoded data removed]",
      "text/plain": [
       "<Figure size 640x480 with 1 Axes>"
      ]
     },
     "metadata": {},
     "output_type": "display_data"
    }
   ],
   "source": [
    "# Plot mean loss\n",
    "splits = 49\n",
    "ml = [sum(mean_losses[i:i + splits])/splits for i in range(0, len(mean_losses), splits)]\n",
    "ma = [sum(mean_acc[i:i + splits])/splits for i in range(0, len(mean_acc), splits)]\n",
    "mf = [sum(mean_f1s[i:i + splits])/splits for i in range(0, len(mean_f1s), splits)]\n",
    "x_axis = [i for i in range(404)]\n",
    "\n",
    "for i, l in enumerate(mean_losses):\n",
    "    mean_losses[i] = l.cpu().detach()\n",
    "plt.plot(x_axis, ml, 'g', label='Loss')\n",
    "plt.plot(x_axis, ma, 'b', label='Accuracy')\n",
    "plt.plot(x_axis, mf, 'r', label='F1-score')\n",
    "plt.title('Training metrics')\n",
    "plt.xlabel('Épocas')\n",
    "# plt.ylabel('Loss media')\n",
    "plt.legend()\n",
    "plt.show()"
   ]
  },
  {
   "cell_type": "markdown",
   "id": "1c70e71d",
   "metadata": {},
   "source": [
    "## <span style=\"color:blue\">UTKFace</span>"
   ]
  },
  {
   "cell_type": "code",
   "execution_count": 50,
   "id": "00b44a1b",
   "metadata": {},
   "outputs": [
    {
     "name": "stdout",
     "output_type": "stream",
     "text": [
      "Class 0: 11317 / Class 1: 2589 / BDeg:  4.371185786017768\n"
     ]
    }
   ],
   "source": [
    "data_transforms = transforms.Compose([\n",
    "    transforms.RandomResizedCrop(224),\n",
    "    transforms.RandomHorizontalFlip(),\n",
    "    transforms.ToTensor(),\n",
    "    transforms.Normalize(mean=[0.485, 0.456, 0.406], std=[0.229, 0.224, 0.225]),\n",
    "])\n",
    "\n",
    "image_dataset = datasets.ImageFolder('../data/UTKFace/train',data_transforms)\n",
    "\n",
    "# Provocar bias cogiendo un porcentaje de la clase 1 solamente (modificando el porcentaje hasta obtener b_deg deseado)\n",
    "class_0_idxs = torch.nonzero(torch.Tensor(image_dataset.targets)==0).flatten()\n",
    "class_1_idxs = torch.nonzero(torch.Tensor(image_dataset.targets)==1).flatten()\n",
    "class_1_idxs = class_1_idxs[torch.randperm(len(class_1_idxs))[:int(len(class_1_idxs)*.209)]]\n",
    "\n",
    "c0_s, c1_s = len(class_0_idxs), len(class_1_idxs)\n",
    "b_deg = c0_s / c1_s\n",
    "print('Class 0:', len(class_0_idxs), '/ Class 1:', len(class_1_idxs), '/ BDeg: ', b_deg)\n",
    "\n",
    "class_1_subset = Subset(image_dataset, class_1_idxs)\n",
    "class_0_subset = Subset(image_dataset, class_0_idxs)\n",
    "image_dataset = ConcatDataset([class_0_subset, class_1_subset])"
   ]
  },
  {
   "cell_type": "code",
   "execution_count": 53,
   "id": "394906f8",
   "metadata": {
    "scrolled": true
   },
   "outputs": [],
   "source": [
    "from torchvision.models import resnet50\n",
    "\n",
    "mean_losses = []\n",
    "mean_acc = []\n",
    "mean_f1s = []\n",
    "\n",
    "class ResNetCustom(pl.LightningModule):\n",
    "    def __init__(self,\n",
    "                 gamma=0.,\n",
    "                 class_sizes=[1,1],\n",
    "        ):\n",
    "        super().__init__()\n",
    "        self.gamma = config['gamma']\n",
    "        self.class_sizes = class_sizes\n",
    "        self.lr = config['lr']\n",
    "        self.n_classes = len(self.class_sizes)\n",
    "        \n",
    "        # metrics\n",
    "        task = \"multiclass\" if self.n_classes > 2 else \"binary\"\n",
    "        self.accuracy = torchmetrics.Accuracy(task=task, num_classes=self.n_classes)\n",
    "        self.f1score = torchmetrics.F1Score(task=task, num_classes=self.n_classes)\n",
    "        \n",
    "        self.model = resnet50(pretrained=True)\n",
    "        for param in self.model.parameters():\n",
    "            param.requires_grad = False\n",
    "        self.model.fc = nn.Linear(self.model.fc.in_features, self.n_classes, bias=True)\n",
    "            \n",
    "        self.fuzzyloss = FuzzyLoss(gamma=gamma, class_sizes=self.class_sizes).cuda()\n",
    "#         self.fuzzyloss = nn.CrossEntropyLoss().cuda()\n",
    "        \n",
    "    def forward(self, x):\n",
    "        return self.model(x)\n",
    "    \n",
    "    def training_step(self, batch, batch_no):\n",
    "        x, y = batch\n",
    "        logits = self(x)\n",
    "        \n",
    "        y_onehot = F.one_hot(y, num_classes=self.n_classes).long()\n",
    "        acc = self.accuracy(logits, y_onehot)\n",
    "        f1s = self.f1score(logits, y_onehot)\n",
    "        mean_acc.append(acc.item())\n",
    "        mean_f1s.append(f1s.item())\n",
    "        \n",
    "        mean_loss, losses = self.fuzzyloss(logits, y)\n",
    "#         mean_loss = self.fuzzyloss(logits, y)\n",
    "        mean_losses.append(mean_loss)\n",
    "        \n",
    "        # Update focal loss with Fuzzy Control System\n",
    "        self.fuzzyloss.update_hyperparams(losses, y)\n",
    "        return mean_loss\n",
    "    \n",
    "    def configure_optimizers(self):\n",
    "        optimizer = torch.optim.Adam(self.model.fc.parameters(), lr=1e-4)\n",
    "        return {\n",
    "            \"optimizer\": optimizer,\n",
    "            \"lr_scheduler\": torch.optim.lr_scheduler.OneCycleLR(\n",
    "                                optimizer ,max_lr=0.01,\n",
    "                                steps_per_epoch=self.SPE,\n",
    "                                epochs=self.EPOCHS)\n",
    "        }"
   ]
  },
  {
   "cell_type": "code",
   "execution_count": 54,
   "id": "53e7d9bc",
   "metadata": {
    "scrolled": true
   },
   "outputs": [
    {
     "name": "stdout",
     "output_type": "stream",
     "text": [
      "------------fold nº 0----------------------\n"
     ]
    },
    {
     "name": "stderr",
     "output_type": "stream",
     "text": [
      "GPU available: True (cuda), used: True\n",
      "TPU available: False, using: 0 TPU cores\n",
      "IPU available: False, using: 0 IPUs\n",
      "HPU available: False, using: 0 HPUs\n",
      "LOCAL_RANK: 0 - CUDA_VISIBLE_DEVICES: [0]\n",
      "\n",
      "  | Name      | Type             | Params\n",
      "-----------------------------------------------\n",
      "0 | accuracy  | BinaryAccuracy   | 0     \n",
      "1 | f1score   | BinaryF1Score    | 0     \n",
      "2 | model     | ResNet           | 23.5 M\n",
      "3 | fuzzyloss | CrossEntropyLoss | 0     \n",
      "-----------------------------------------------\n",
      "4.1 K     Trainable params\n",
      "23.5 M    Non-trainable params\n",
      "23.5 M    Total params\n",
      "94.049    Total estimated model params size (MB)\n",
      "C:\\Users\\laraquij\\Anaconda3\\envs\\tfg_dani\\lib\\site-packages\\pytorch_lightning\\trainer\\connectors\\data_connector.py:229: PossibleUserWarning: The dataloader, train_dataloader, does not have many workers which may be a bottleneck. Consider increasing the value of the `num_workers` argument` (try 8 which is the number of cpus on this machine) in the `DataLoader` init to improve performance.\n",
      "  category=PossibleUserWarning,\n"
     ]
    },
    {
     "name": "stdout",
     "output_type": "stream",
     "text": [
      "Epoch 9: 100%|██████████| 1113/1113 [06:42<00:00,  2.76it/s, loss=0.373, v_num=151]"
     ]
    },
    {
     "name": "stderr",
     "output_type": "stream",
     "text": [
      "`Trainer.fit` stopped: `max_epochs=10` reached.\n"
     ]
    },
    {
     "name": "stdout",
     "output_type": "stream",
     "text": [
      "Epoch 9: 100%|██████████| 1113/1113 [06:43<00:00,  2.76it/s, loss=0.373, v_num=151]\n"
     ]
    },
    {
     "name": "stderr",
     "output_type": "stream",
     "text": [
      "100%|██████████| 279/279 [05:19<00:00,  1.15s/it]\n",
      "C:\\Users\\laraquij\\Anaconda3\\envs\\tfg_dani\\lib\\site-packages\\torchvision\\models\\_utils.py:209: UserWarning: The parameter 'pretrained' is deprecated since 0.13 and may be removed in the future, please use 'weights' instead.\n",
      "  f\"The parameter '{pretrained_param}' is deprecated since 0.13 and may be removed in the future, \"\n",
      "C:\\Users\\laraquij\\Anaconda3\\envs\\tfg_dani\\lib\\site-packages\\torchvision\\models\\_utils.py:223: UserWarning: Arguments other than a weight enum or `None` for 'weights' are deprecated since 0.13 and may be removed in the future. The current behavior is equivalent to passing `weights=ResNet50_Weights.IMAGENET1K_V1`. You can also use `weights=ResNet50_Weights.DEFAULT` to get the most up-to-date weights.\n",
      "  warnings.warn(msg)\n"
     ]
    },
    {
     "name": "stdout",
     "output_type": "stream",
     "text": [
      "------------fold nº 1----------------------\n"
     ]
    },
    {
     "name": "stderr",
     "output_type": "stream",
     "text": [
      "GPU available: True (cuda), used: True\n",
      "TPU available: False, using: 0 TPU cores\n",
      "IPU available: False, using: 0 IPUs\n",
      "HPU available: False, using: 0 HPUs\n",
      "LOCAL_RANK: 0 - CUDA_VISIBLE_DEVICES: [0]\n",
      "\n",
      "  | Name      | Type             | Params\n",
      "-----------------------------------------------\n",
      "0 | accuracy  | BinaryAccuracy   | 0     \n",
      "1 | f1score   | BinaryF1Score    | 0     \n",
      "2 | model     | ResNet           | 23.5 M\n",
      "3 | fuzzyloss | CrossEntropyLoss | 0     \n",
      "-----------------------------------------------\n",
      "4.1 K     Trainable params\n",
      "23.5 M    Non-trainable params\n",
      "23.5 M    Total params\n",
      "94.049    Total estimated model params size (MB)\n",
      "C:\\Users\\laraquij\\Anaconda3\\envs\\tfg_dani\\lib\\site-packages\\pytorch_lightning\\trainer\\connectors\\data_connector.py:229: PossibleUserWarning: The dataloader, train_dataloader, does not have many workers which may be a bottleneck. Consider increasing the value of the `num_workers` argument` (try 8 which is the number of cpus on this machine) in the `DataLoader` init to improve performance.\n",
      "  category=PossibleUserWarning,\n"
     ]
    },
    {
     "name": "stdout",
     "output_type": "stream",
     "text": [
      "Epoch 9: 100%|██████████| 1113/1113 [06:41<00:00,  2.77it/s, loss=0.366, v_num=152]"
     ]
    },
    {
     "name": "stderr",
     "output_type": "stream",
     "text": [
      "`Trainer.fit` stopped: `max_epochs=10` reached.\n"
     ]
    },
    {
     "name": "stdout",
     "output_type": "stream",
     "text": [
      "Epoch 9: 100%|██████████| 1113/1113 [06:41<00:00,  2.77it/s, loss=0.366, v_num=152]\n"
     ]
    },
    {
     "name": "stderr",
     "output_type": "stream",
     "text": [
      "100%|██████████| 279/279 [05:21<00:00,  1.15s/it]\n",
      "C:\\Users\\laraquij\\Anaconda3\\envs\\tfg_dani\\lib\\site-packages\\torchvision\\models\\_utils.py:209: UserWarning: The parameter 'pretrained' is deprecated since 0.13 and may be removed in the future, please use 'weights' instead.\n",
      "  f\"The parameter '{pretrained_param}' is deprecated since 0.13 and may be removed in the future, \"\n",
      "C:\\Users\\laraquij\\Anaconda3\\envs\\tfg_dani\\lib\\site-packages\\torchvision\\models\\_utils.py:223: UserWarning: Arguments other than a weight enum or `None` for 'weights' are deprecated since 0.13 and may be removed in the future. The current behavior is equivalent to passing `weights=ResNet50_Weights.IMAGENET1K_V1`. You can also use `weights=ResNet50_Weights.DEFAULT` to get the most up-to-date weights.\n",
      "  warnings.warn(msg)\n"
     ]
    },
    {
     "name": "stdout",
     "output_type": "stream",
     "text": [
      "------------fold nº 2----------------------\n"
     ]
    },
    {
     "name": "stderr",
     "output_type": "stream",
     "text": [
      "GPU available: True (cuda), used: True\n",
      "TPU available: False, using: 0 TPU cores\n",
      "IPU available: False, using: 0 IPUs\n",
      "HPU available: False, using: 0 HPUs\n",
      "LOCAL_RANK: 0 - CUDA_VISIBLE_DEVICES: [0]\n",
      "\n",
      "  | Name      | Type             | Params\n",
      "-----------------------------------------------\n",
      "0 | accuracy  | BinaryAccuracy   | 0     \n",
      "1 | f1score   | BinaryF1Score    | 0     \n",
      "2 | model     | ResNet           | 23.5 M\n",
      "3 | fuzzyloss | CrossEntropyLoss | 0     \n",
      "-----------------------------------------------\n",
      "4.1 K     Trainable params\n",
      "23.5 M    Non-trainable params\n",
      "23.5 M    Total params\n",
      "94.049    Total estimated model params size (MB)\n",
      "C:\\Users\\laraquij\\Anaconda3\\envs\\tfg_dani\\lib\\site-packages\\pytorch_lightning\\trainer\\connectors\\data_connector.py:229: PossibleUserWarning: The dataloader, train_dataloader, does not have many workers which may be a bottleneck. Consider increasing the value of the `num_workers` argument` (try 8 which is the number of cpus on this machine) in the `DataLoader` init to improve performance.\n",
      "  category=PossibleUserWarning,\n"
     ]
    },
    {
     "name": "stdout",
     "output_type": "stream",
     "text": [
      "Epoch 9: 100%|██████████| 1113/1113 [06:40<00:00,  2.78it/s, loss=0.396, v_num=153]"
     ]
    },
    {
     "name": "stderr",
     "output_type": "stream",
     "text": [
      "`Trainer.fit` stopped: `max_epochs=10` reached.\n"
     ]
    },
    {
     "name": "stdout",
     "output_type": "stream",
     "text": [
      "Epoch 9: 100%|██████████| 1113/1113 [06:40<00:00,  2.78it/s, loss=0.396, v_num=153]\n"
     ]
    },
    {
     "name": "stderr",
     "output_type": "stream",
     "text": [
      "100%|██████████| 279/279 [05:17<00:00,  1.14s/it]\n",
      "C:\\Users\\laraquij\\Anaconda3\\envs\\tfg_dani\\lib\\site-packages\\torchvision\\models\\_utils.py:209: UserWarning: The parameter 'pretrained' is deprecated since 0.13 and may be removed in the future, please use 'weights' instead.\n",
      "  f\"The parameter '{pretrained_param}' is deprecated since 0.13 and may be removed in the future, \"\n",
      "C:\\Users\\laraquij\\Anaconda3\\envs\\tfg_dani\\lib\\site-packages\\torchvision\\models\\_utils.py:223: UserWarning: Arguments other than a weight enum or `None` for 'weights' are deprecated since 0.13 and may be removed in the future. The current behavior is equivalent to passing `weights=ResNet50_Weights.IMAGENET1K_V1`. You can also use `weights=ResNet50_Weights.DEFAULT` to get the most up-to-date weights.\n",
      "  warnings.warn(msg)\n"
     ]
    },
    {
     "name": "stdout",
     "output_type": "stream",
     "text": [
      "------------fold nº 3----------------------\n"
     ]
    },
    {
     "name": "stderr",
     "output_type": "stream",
     "text": [
      "GPU available: True (cuda), used: True\n",
      "TPU available: False, using: 0 TPU cores\n",
      "IPU available: False, using: 0 IPUs\n",
      "HPU available: False, using: 0 HPUs\n",
      "LOCAL_RANK: 0 - CUDA_VISIBLE_DEVICES: [0]\n",
      "\n",
      "  | Name      | Type             | Params\n",
      "-----------------------------------------------\n",
      "0 | accuracy  | BinaryAccuracy   | 0     \n",
      "1 | f1score   | BinaryF1Score    | 0     \n",
      "2 | model     | ResNet           | 23.5 M\n",
      "3 | fuzzyloss | CrossEntropyLoss | 0     \n",
      "-----------------------------------------------\n",
      "4.1 K     Trainable params\n",
      "23.5 M    Non-trainable params\n",
      "23.5 M    Total params\n",
      "94.049    Total estimated model params size (MB)\n",
      "C:\\Users\\laraquij\\Anaconda3\\envs\\tfg_dani\\lib\\site-packages\\pytorch_lightning\\trainer\\connectors\\data_connector.py:229: PossibleUserWarning: The dataloader, train_dataloader, does not have many workers which may be a bottleneck. Consider increasing the value of the `num_workers` argument` (try 8 which is the number of cpus on this machine) in the `DataLoader` init to improve performance.\n",
      "  category=PossibleUserWarning,\n"
     ]
    },
    {
     "name": "stdout",
     "output_type": "stream",
     "text": [
      "Epoch 9: 100%|██████████| 1113/1113 [06:39<00:00,  2.78it/s, loss=0.453, v_num=154]"
     ]
    },
    {
     "name": "stderr",
     "output_type": "stream",
     "text": [
      "`Trainer.fit` stopped: `max_epochs=10` reached.\n"
     ]
    },
    {
     "name": "stdout",
     "output_type": "stream",
     "text": [
      "Epoch 9: 100%|██████████| 1113/1113 [06:40<00:00,  2.78it/s, loss=0.453, v_num=154]\n"
     ]
    },
    {
     "name": "stderr",
     "output_type": "stream",
     "text": [
      "100%|██████████| 279/279 [05:18<00:00,  1.14s/it]\n"
     ]
    },
    {
     "name": "stdout",
     "output_type": "stream",
     "text": [
      "------------fold nº 4----------------------\n"
     ]
    },
    {
     "name": "stderr",
     "output_type": "stream",
     "text": [
      "C:\\Users\\laraquij\\Anaconda3\\envs\\tfg_dani\\lib\\site-packages\\torchvision\\models\\_utils.py:209: UserWarning: The parameter 'pretrained' is deprecated since 0.13 and may be removed in the future, please use 'weights' instead.\n",
      "  f\"The parameter '{pretrained_param}' is deprecated since 0.13 and may be removed in the future, \"\n",
      "C:\\Users\\laraquij\\Anaconda3\\envs\\tfg_dani\\lib\\site-packages\\torchvision\\models\\_utils.py:223: UserWarning: Arguments other than a weight enum or `None` for 'weights' are deprecated since 0.13 and may be removed in the future. The current behavior is equivalent to passing `weights=ResNet50_Weights.IMAGENET1K_V1`. You can also use `weights=ResNet50_Weights.DEFAULT` to get the most up-to-date weights.\n",
      "  warnings.warn(msg)\n",
      "GPU available: True (cuda), used: True\n",
      "TPU available: False, using: 0 TPU cores\n",
      "IPU available: False, using: 0 IPUs\n",
      "HPU available: False, using: 0 HPUs\n",
      "LOCAL_RANK: 0 - CUDA_VISIBLE_DEVICES: [0]\n",
      "\n",
      "  | Name      | Type             | Params\n",
      "-----------------------------------------------\n",
      "0 | accuracy  | BinaryAccuracy   | 0     \n",
      "1 | f1score   | BinaryF1Score    | 0     \n",
      "2 | model     | ResNet           | 23.5 M\n",
      "3 | fuzzyloss | CrossEntropyLoss | 0     \n",
      "-----------------------------------------------\n",
      "4.1 K     Trainable params\n",
      "23.5 M    Non-trainable params\n",
      "23.5 M    Total params\n",
      "94.049    Total estimated model params size (MB)\n",
      "C:\\Users\\laraquij\\Anaconda3\\envs\\tfg_dani\\lib\\site-packages\\pytorch_lightning\\trainer\\connectors\\data_connector.py:229: PossibleUserWarning: The dataloader, train_dataloader, does not have many workers which may be a bottleneck. Consider increasing the value of the `num_workers` argument` (try 8 which is the number of cpus on this machine) in the `DataLoader` init to improve performance.\n",
      "  category=PossibleUserWarning,\n"
     ]
    },
    {
     "name": "stdout",
     "output_type": "stream",
     "text": [
      "Epoch 9: 100%|██████████| 1113/1113 [06:40<00:00,  2.78it/s, loss=0.316, v_num=155]"
     ]
    },
    {
     "name": "stderr",
     "output_type": "stream",
     "text": [
      "`Trainer.fit` stopped: `max_epochs=10` reached.\n"
     ]
    },
    {
     "name": "stdout",
     "output_type": "stream",
     "text": [
      "Epoch 9: 100%|██████████| 1113/1113 [06:40<00:00,  2.78it/s, loss=0.316, v_num=155]\n"
     ]
    },
    {
     "name": "stderr",
     "output_type": "stream",
     "text": [
      "100%|██████████| 279/279 [05:08<00:00,  1.11s/it]\n",
      "C:\\Users\\laraquij\\Anaconda3\\envs\\tfg_dani\\lib\\site-packages\\torchvision\\models\\_utils.py:209: UserWarning: The parameter 'pretrained' is deprecated since 0.13 and may be removed in the future, please use 'weights' instead.\n",
      "  f\"The parameter '{pretrained_param}' is deprecated since 0.13 and may be removed in the future, \"\n",
      "C:\\Users\\laraquij\\Anaconda3\\envs\\tfg_dani\\lib\\site-packages\\torchvision\\models\\_utils.py:223: UserWarning: Arguments other than a weight enum or `None` for 'weights' are deprecated since 0.13 and may be removed in the future. The current behavior is equivalent to passing `weights=ResNet50_Weights.IMAGENET1K_V1`. You can also use `weights=ResNet50_Weights.DEFAULT` to get the most up-to-date weights.\n",
      "  warnings.warn(msg)\n"
     ]
    },
    {
     "name": "stdout",
     "output_type": "stream",
     "text": [
      "------------fold nº 0----------------------\n"
     ]
    },
    {
     "name": "stderr",
     "output_type": "stream",
     "text": [
      "GPU available: True (cuda), used: True\n",
      "TPU available: False, using: 0 TPU cores\n",
      "IPU available: False, using: 0 IPUs\n",
      "HPU available: False, using: 0 HPUs\n",
      "LOCAL_RANK: 0 - CUDA_VISIBLE_DEVICES: [0]\n",
      "\n",
      "  | Name      | Type             | Params\n",
      "-----------------------------------------------\n",
      "0 | accuracy  | BinaryAccuracy   | 0     \n",
      "1 | f1score   | BinaryF1Score    | 0     \n",
      "2 | model     | ResNet           | 23.5 M\n",
      "3 | fuzzyloss | CrossEntropyLoss | 0     \n",
      "-----------------------------------------------\n",
      "4.1 K     Trainable params\n",
      "23.5 M    Non-trainable params\n",
      "23.5 M    Total params\n",
      "94.049    Total estimated model params size (MB)\n",
      "C:\\Users\\laraquij\\Anaconda3\\envs\\tfg_dani\\lib\\site-packages\\pytorch_lightning\\trainer\\connectors\\data_connector.py:229: PossibleUserWarning: The dataloader, train_dataloader, does not have many workers which may be a bottleneck. Consider increasing the value of the `num_workers` argument` (try 8 which is the number of cpus on this machine) in the `DataLoader` init to improve performance.\n",
      "  category=PossibleUserWarning,\n"
     ]
    },
    {
     "name": "stdout",
     "output_type": "stream",
     "text": [
      "Epoch 24: 100%|██████████| 1113/1113 [06:41<00:00,  2.77it/s, loss=0.405, v_num=156]"
     ]
    },
    {
     "name": "stderr",
     "output_type": "stream",
     "text": [
      "`Trainer.fit` stopped: `max_epochs=25` reached.\n"
     ]
    },
    {
     "name": "stdout",
     "output_type": "stream",
     "text": [
      "Epoch 24: 100%|██████████| 1113/1113 [06:41<00:00,  2.77it/s, loss=0.405, v_num=156]\n"
     ]
    },
    {
     "name": "stderr",
     "output_type": "stream",
     "text": [
      "100%|██████████| 279/279 [05:16<00:00,  1.14s/it]\n",
      "C:\\Users\\laraquij\\Anaconda3\\envs\\tfg_dani\\lib\\site-packages\\torchvision\\models\\_utils.py:209: UserWarning: The parameter 'pretrained' is deprecated since 0.13 and may be removed in the future, please use 'weights' instead.\n",
      "  f\"The parameter '{pretrained_param}' is deprecated since 0.13 and may be removed in the future, \"\n",
      "C:\\Users\\laraquij\\Anaconda3\\envs\\tfg_dani\\lib\\site-packages\\torchvision\\models\\_utils.py:223: UserWarning: Arguments other than a weight enum or `None` for 'weights' are deprecated since 0.13 and may be removed in the future. The current behavior is equivalent to passing `weights=ResNet50_Weights.IMAGENET1K_V1`. You can also use `weights=ResNet50_Weights.DEFAULT` to get the most up-to-date weights.\n",
      "  warnings.warn(msg)\n"
     ]
    },
    {
     "name": "stdout",
     "output_type": "stream",
     "text": [
      "------------fold nº 1----------------------\n"
     ]
    },
    {
     "name": "stderr",
     "output_type": "stream",
     "text": [
      "GPU available: True (cuda), used: True\n",
      "TPU available: False, using: 0 TPU cores\n",
      "IPU available: False, using: 0 IPUs\n",
      "HPU available: False, using: 0 HPUs\n",
      "LOCAL_RANK: 0 - CUDA_VISIBLE_DEVICES: [0]\n",
      "\n",
      "  | Name      | Type             | Params\n",
      "-----------------------------------------------\n",
      "0 | accuracy  | BinaryAccuracy   | 0     \n",
      "1 | f1score   | BinaryF1Score    | 0     \n",
      "2 | model     | ResNet           | 23.5 M\n",
      "3 | fuzzyloss | CrossEntropyLoss | 0     \n",
      "-----------------------------------------------\n",
      "4.1 K     Trainable params\n",
      "23.5 M    Non-trainable params\n",
      "23.5 M    Total params\n",
      "94.049    Total estimated model params size (MB)\n",
      "C:\\Users\\laraquij\\Anaconda3\\envs\\tfg_dani\\lib\\site-packages\\pytorch_lightning\\trainer\\connectors\\data_connector.py:229: PossibleUserWarning: The dataloader, train_dataloader, does not have many workers which may be a bottleneck. Consider increasing the value of the `num_workers` argument` (try 8 which is the number of cpus on this machine) in the `DataLoader` init to improve performance.\n",
      "  category=PossibleUserWarning,\n"
     ]
    },
    {
     "name": "stdout",
     "output_type": "stream",
     "text": [
      "Epoch 24: 100%|██████████| 1113/1113 [06:44<00:00,  2.75it/s, loss=0.409, v_num=157]"
     ]
    },
    {
     "name": "stderr",
     "output_type": "stream",
     "text": [
      "`Trainer.fit` stopped: `max_epochs=25` reached.\n"
     ]
    },
    {
     "name": "stdout",
     "output_type": "stream",
     "text": [
      "Epoch 24: 100%|██████████| 1113/1113 [06:44<00:00,  2.75it/s, loss=0.409, v_num=157]\n"
     ]
    },
    {
     "name": "stderr",
     "output_type": "stream",
     "text": [
      "100%|██████████| 279/279 [05:20<00:00,  1.15s/it]\n",
      "C:\\Users\\laraquij\\Anaconda3\\envs\\tfg_dani\\lib\\site-packages\\torchvision\\models\\_utils.py:209: UserWarning: The parameter 'pretrained' is deprecated since 0.13 and may be removed in the future, please use 'weights' instead.\n",
      "  f\"The parameter '{pretrained_param}' is deprecated since 0.13 and may be removed in the future, \"\n",
      "C:\\Users\\laraquij\\Anaconda3\\envs\\tfg_dani\\lib\\site-packages\\torchvision\\models\\_utils.py:223: UserWarning: Arguments other than a weight enum or `None` for 'weights' are deprecated since 0.13 and may be removed in the future. The current behavior is equivalent to passing `weights=ResNet50_Weights.IMAGENET1K_V1`. You can also use `weights=ResNet50_Weights.DEFAULT` to get the most up-to-date weights.\n",
      "  warnings.warn(msg)\n"
     ]
    },
    {
     "name": "stdout",
     "output_type": "stream",
     "text": [
      "------------fold nº 2----------------------\n"
     ]
    },
    {
     "name": "stderr",
     "output_type": "stream",
     "text": [
      "GPU available: True (cuda), used: True\n",
      "TPU available: False, using: 0 TPU cores\n",
      "IPU available: False, using: 0 IPUs\n",
      "HPU available: False, using: 0 HPUs\n",
      "LOCAL_RANK: 0 - CUDA_VISIBLE_DEVICES: [0]\n",
      "\n",
      "  | Name      | Type             | Params\n",
      "-----------------------------------------------\n",
      "0 | accuracy  | BinaryAccuracy   | 0     \n",
      "1 | f1score   | BinaryF1Score    | 0     \n",
      "2 | model     | ResNet           | 23.5 M\n",
      "3 | fuzzyloss | CrossEntropyLoss | 0     \n",
      "-----------------------------------------------\n",
      "4.1 K     Trainable params\n",
      "23.5 M    Non-trainable params\n",
      "23.5 M    Total params\n",
      "94.049    Total estimated model params size (MB)\n",
      "C:\\Users\\laraquij\\Anaconda3\\envs\\tfg_dani\\lib\\site-packages\\pytorch_lightning\\trainer\\connectors\\data_connector.py:229: PossibleUserWarning: The dataloader, train_dataloader, does not have many workers which may be a bottleneck. Consider increasing the value of the `num_workers` argument` (try 8 which is the number of cpus on this machine) in the `DataLoader` init to improve performance.\n",
      "  category=PossibleUserWarning,\n"
     ]
    },
    {
     "name": "stdout",
     "output_type": "stream",
     "text": [
      "Epoch 24: 100%|██████████| 1113/1113 [06:45<00:00,  2.75it/s, loss=0.395, v_num=158]"
     ]
    },
    {
     "name": "stderr",
     "output_type": "stream",
     "text": [
      "`Trainer.fit` stopped: `max_epochs=25` reached.\n"
     ]
    },
    {
     "name": "stdout",
     "output_type": "stream",
     "text": [
      "Epoch 24: 100%|██████████| 1113/1113 [06:45<00:00,  2.74it/s, loss=0.395, v_num=158]\n"
     ]
    },
    {
     "name": "stderr",
     "output_type": "stream",
     "text": [
      "100%|██████████| 279/279 [05:23<00:00,  1.16s/it]\n",
      "C:\\Users\\laraquij\\Anaconda3\\envs\\tfg_dani\\lib\\site-packages\\torchvision\\models\\_utils.py:209: UserWarning: The parameter 'pretrained' is deprecated since 0.13 and may be removed in the future, please use 'weights' instead.\n",
      "  f\"The parameter '{pretrained_param}' is deprecated since 0.13 and may be removed in the future, \"\n",
      "C:\\Users\\laraquij\\Anaconda3\\envs\\tfg_dani\\lib\\site-packages\\torchvision\\models\\_utils.py:223: UserWarning: Arguments other than a weight enum or `None` for 'weights' are deprecated since 0.13 and may be removed in the future. The current behavior is equivalent to passing `weights=ResNet50_Weights.IMAGENET1K_V1`. You can also use `weights=ResNet50_Weights.DEFAULT` to get the most up-to-date weights.\n",
      "  warnings.warn(msg)\n"
     ]
    },
    {
     "name": "stdout",
     "output_type": "stream",
     "text": [
      "------------fold nº 3----------------------\n"
     ]
    },
    {
     "name": "stderr",
     "output_type": "stream",
     "text": [
      "GPU available: True (cuda), used: True\n",
      "TPU available: False, using: 0 TPU cores\n",
      "IPU available: False, using: 0 IPUs\n",
      "HPU available: False, using: 0 HPUs\n",
      "LOCAL_RANK: 0 - CUDA_VISIBLE_DEVICES: [0]\n",
      "\n",
      "  | Name      | Type             | Params\n",
      "-----------------------------------------------\n",
      "0 | accuracy  | BinaryAccuracy   | 0     \n",
      "1 | f1score   | BinaryF1Score    | 0     \n",
      "2 | model     | ResNet           | 23.5 M\n",
      "3 | fuzzyloss | CrossEntropyLoss | 0     \n",
      "-----------------------------------------------\n",
      "4.1 K     Trainable params\n",
      "23.5 M    Non-trainable params\n",
      "23.5 M    Total params\n",
      "94.049    Total estimated model params size (MB)\n",
      "C:\\Users\\laraquij\\Anaconda3\\envs\\tfg_dani\\lib\\site-packages\\pytorch_lightning\\trainer\\connectors\\data_connector.py:229: PossibleUserWarning: The dataloader, train_dataloader, does not have many workers which may be a bottleneck. Consider increasing the value of the `num_workers` argument` (try 8 which is the number of cpus on this machine) in the `DataLoader` init to improve performance.\n",
      "  category=PossibleUserWarning,\n"
     ]
    },
    {
     "name": "stdout",
     "output_type": "stream",
     "text": [
      "Epoch 24: 100%|██████████| 1113/1113 [06:49<00:00,  2.72it/s, loss=0.481, v_num=159]"
     ]
    },
    {
     "name": "stderr",
     "output_type": "stream",
     "text": [
      "`Trainer.fit` stopped: `max_epochs=25` reached.\n"
     ]
    },
    {
     "name": "stdout",
     "output_type": "stream",
     "text": [
      "Epoch 24: 100%|██████████| 1113/1113 [06:49<00:00,  2.72it/s, loss=0.481, v_num=159]\n"
     ]
    },
    {
     "name": "stderr",
     "output_type": "stream",
     "text": [
      "100%|██████████| 279/279 [05:26<00:00,  1.17s/it]\n",
      "C:\\Users\\laraquij\\Anaconda3\\envs\\tfg_dani\\lib\\site-packages\\torchvision\\models\\_utils.py:209: UserWarning: The parameter 'pretrained' is deprecated since 0.13 and may be removed in the future, please use 'weights' instead.\n",
      "  f\"The parameter '{pretrained_param}' is deprecated since 0.13 and may be removed in the future, \"\n",
      "C:\\Users\\laraquij\\Anaconda3\\envs\\tfg_dani\\lib\\site-packages\\torchvision\\models\\_utils.py:223: UserWarning: Arguments other than a weight enum or `None` for 'weights' are deprecated since 0.13 and may be removed in the future. The current behavior is equivalent to passing `weights=ResNet50_Weights.IMAGENET1K_V1`. You can also use `weights=ResNet50_Weights.DEFAULT` to get the most up-to-date weights.\n",
      "  warnings.warn(msg)\n"
     ]
    },
    {
     "name": "stdout",
     "output_type": "stream",
     "text": [
      "------------fold nº 4----------------------\n"
     ]
    },
    {
     "name": "stderr",
     "output_type": "stream",
     "text": [
      "GPU available: True (cuda), used: True\n",
      "TPU available: False, using: 0 TPU cores\n",
      "IPU available: False, using: 0 IPUs\n",
      "HPU available: False, using: 0 HPUs\n",
      "LOCAL_RANK: 0 - CUDA_VISIBLE_DEVICES: [0]\n",
      "\n",
      "  | Name      | Type             | Params\n",
      "-----------------------------------------------\n",
      "0 | accuracy  | BinaryAccuracy   | 0     \n",
      "1 | f1score   | BinaryF1Score    | 0     \n",
      "2 | model     | ResNet           | 23.5 M\n",
      "3 | fuzzyloss | CrossEntropyLoss | 0     \n",
      "-----------------------------------------------\n",
      "4.1 K     Trainable params\n",
      "23.5 M    Non-trainable params\n",
      "23.5 M    Total params\n",
      "94.049    Total estimated model params size (MB)\n",
      "C:\\Users\\laraquij\\Anaconda3\\envs\\tfg_dani\\lib\\site-packages\\pytorch_lightning\\trainer\\connectors\\data_connector.py:229: PossibleUserWarning: The dataloader, train_dataloader, does not have many workers which may be a bottleneck. Consider increasing the value of the `num_workers` argument` (try 8 which is the number of cpus on this machine) in the `DataLoader` init to improve performance.\n",
      "  category=PossibleUserWarning,\n"
     ]
    },
    {
     "name": "stdout",
     "output_type": "stream",
     "text": [
      "Epoch 24: 100%|██████████| 1113/1113 [06:51<00:00,  2.71it/s, loss=0.365, v_num=160]"
     ]
    },
    {
     "name": "stderr",
     "output_type": "stream",
     "text": [
      "`Trainer.fit` stopped: `max_epochs=25` reached.\n"
     ]
    },
    {
     "name": "stdout",
     "output_type": "stream",
     "text": [
      "Epoch 24: 100%|██████████| 1113/1113 [06:51<00:00,  2.70it/s, loss=0.365, v_num=160]\n"
     ]
    },
    {
     "name": "stderr",
     "output_type": "stream",
     "text": [
      "100%|██████████| 279/279 [05:25<00:00,  1.17s/it]\n",
      "C:\\Users\\laraquij\\Anaconda3\\envs\\tfg_dani\\lib\\site-packages\\torchvision\\models\\_utils.py:209: UserWarning: The parameter 'pretrained' is deprecated since 0.13 and may be removed in the future, please use 'weights' instead.\n",
      "  f\"The parameter '{pretrained_param}' is deprecated since 0.13 and may be removed in the future, \"\n",
      "C:\\Users\\laraquij\\Anaconda3\\envs\\tfg_dani\\lib\\site-packages\\torchvision\\models\\_utils.py:223: UserWarning: Arguments other than a weight enum or `None` for 'weights' are deprecated since 0.13 and may be removed in the future. The current behavior is equivalent to passing `weights=ResNet50_Weights.IMAGENET1K_V1`. You can also use `weights=ResNet50_Weights.DEFAULT` to get the most up-to-date weights.\n",
      "  warnings.warn(msg)\n"
     ]
    },
    {
     "name": "stdout",
     "output_type": "stream",
     "text": [
      "------------fold nº 0----------------------\n"
     ]
    },
    {
     "name": "stderr",
     "output_type": "stream",
     "text": [
      "GPU available: True (cuda), used: True\n",
      "TPU available: False, using: 0 TPU cores\n",
      "IPU available: False, using: 0 IPUs\n",
      "HPU available: False, using: 0 HPUs\n",
      "LOCAL_RANK: 0 - CUDA_VISIBLE_DEVICES: [0]\n",
      "\n",
      "  | Name      | Type             | Params\n",
      "-----------------------------------------------\n",
      "0 | accuracy  | BinaryAccuracy   | 0     \n",
      "1 | f1score   | BinaryF1Score    | 0     \n",
      "2 | model     | ResNet           | 23.5 M\n",
      "3 | fuzzyloss | CrossEntropyLoss | 0     \n",
      "-----------------------------------------------\n",
      "4.1 K     Trainable params\n",
      "23.5 M    Non-trainable params\n",
      "23.5 M    Total params\n",
      "94.049    Total estimated model params size (MB)\n",
      "C:\\Users\\laraquij\\Anaconda3\\envs\\tfg_dani\\lib\\site-packages\\pytorch_lightning\\trainer\\connectors\\data_connector.py:229: PossibleUserWarning: The dataloader, train_dataloader, does not have many workers which may be a bottleneck. Consider increasing the value of the `num_workers` argument` (try 8 which is the number of cpus on this machine) in the `DataLoader` init to improve performance.\n",
      "  category=PossibleUserWarning,\n"
     ]
    },
    {
     "name": "stdout",
     "output_type": "stream",
     "text": [
      "Epoch 34: 100%|██████████| 1113/1113 [06:56<00:00,  2.67it/s, loss=0.352, v_num=161]"
     ]
    },
    {
     "name": "stderr",
     "output_type": "stream",
     "text": [
      "`Trainer.fit` stopped: `max_epochs=35` reached.\n"
     ]
    },
    {
     "name": "stdout",
     "output_type": "stream",
     "text": [
      "Epoch 34: 100%|██████████| 1113/1113 [06:57<00:00,  2.67it/s, loss=0.352, v_num=161]\n"
     ]
    },
    {
     "name": "stderr",
     "output_type": "stream",
     "text": [
      "100%|██████████| 279/279 [05:30<00:00,  1.19s/it]\n"
     ]
    },
    {
     "name": "stdout",
     "output_type": "stream",
     "text": [
      "------------fold nº 1----------------------\n"
     ]
    },
    {
     "name": "stderr",
     "output_type": "stream",
     "text": [
      "C:\\Users\\laraquij\\Anaconda3\\envs\\tfg_dani\\lib\\site-packages\\torchvision\\models\\_utils.py:209: UserWarning: The parameter 'pretrained' is deprecated since 0.13 and may be removed in the future, please use 'weights' instead.\n",
      "  f\"The parameter '{pretrained_param}' is deprecated since 0.13 and may be removed in the future, \"\n",
      "C:\\Users\\laraquij\\Anaconda3\\envs\\tfg_dani\\lib\\site-packages\\torchvision\\models\\_utils.py:223: UserWarning: Arguments other than a weight enum or `None` for 'weights' are deprecated since 0.13 and may be removed in the future. The current behavior is equivalent to passing `weights=ResNet50_Weights.IMAGENET1K_V1`. You can also use `weights=ResNet50_Weights.DEFAULT` to get the most up-to-date weights.\n",
      "  warnings.warn(msg)\n",
      "GPU available: True (cuda), used: True\n",
      "TPU available: False, using: 0 TPU cores\n",
      "IPU available: False, using: 0 IPUs\n",
      "HPU available: False, using: 0 HPUs\n",
      "LOCAL_RANK: 0 - CUDA_VISIBLE_DEVICES: [0]\n",
      "\n",
      "  | Name      | Type             | Params\n",
      "-----------------------------------------------\n",
      "0 | accuracy  | BinaryAccuracy   | 0     \n",
      "1 | f1score   | BinaryF1Score    | 0     \n",
      "2 | model     | ResNet           | 23.5 M\n",
      "3 | fuzzyloss | CrossEntropyLoss | 0     \n",
      "-----------------------------------------------\n",
      "4.1 K     Trainable params\n",
      "23.5 M    Non-trainable params\n",
      "23.5 M    Total params\n",
      "94.049    Total estimated model params size (MB)\n",
      "C:\\Users\\laraquij\\Anaconda3\\envs\\tfg_dani\\lib\\site-packages\\pytorch_lightning\\trainer\\connectors\\data_connector.py:229: PossibleUserWarning: The dataloader, train_dataloader, does not have many workers which may be a bottleneck. Consider increasing the value of the `num_workers` argument` (try 8 which is the number of cpus on this machine) in the `DataLoader` init to improve performance.\n",
      "  category=PossibleUserWarning,\n"
     ]
    },
    {
     "name": "stdout",
     "output_type": "stream",
     "text": [
      "Epoch 34: 100%|██████████| 1113/1113 [07:06<00:00,  2.61it/s, loss=0.471, v_num=162]"
     ]
    },
    {
     "name": "stderr",
     "output_type": "stream",
     "text": [
      "`Trainer.fit` stopped: `max_epochs=35` reached.\n"
     ]
    },
    {
     "name": "stdout",
     "output_type": "stream",
     "text": [
      "Epoch 34: 100%|██████████| 1113/1113 [07:06<00:00,  2.61it/s, loss=0.471, v_num=162]\n"
     ]
    },
    {
     "name": "stderr",
     "output_type": "stream",
     "text": [
      "100%|██████████| 279/279 [05:35<00:00,  1.20s/it]\n",
      "C:\\Users\\laraquij\\Anaconda3\\envs\\tfg_dani\\lib\\site-packages\\torchvision\\models\\_utils.py:209: UserWarning: The parameter 'pretrained' is deprecated since 0.13 and may be removed in the future, please use 'weights' instead.\n",
      "  f\"The parameter '{pretrained_param}' is deprecated since 0.13 and may be removed in the future, \"\n",
      "C:\\Users\\laraquij\\Anaconda3\\envs\\tfg_dani\\lib\\site-packages\\torchvision\\models\\_utils.py:223: UserWarning: Arguments other than a weight enum or `None` for 'weights' are deprecated since 0.13 and may be removed in the future. The current behavior is equivalent to passing `weights=ResNet50_Weights.IMAGENET1K_V1`. You can also use `weights=ResNet50_Weights.DEFAULT` to get the most up-to-date weights.\n",
      "  warnings.warn(msg)\n"
     ]
    },
    {
     "name": "stdout",
     "output_type": "stream",
     "text": [
      "------------fold nº 2----------------------\n"
     ]
    },
    {
     "name": "stderr",
     "output_type": "stream",
     "text": [
      "GPU available: True (cuda), used: True\n",
      "TPU available: False, using: 0 TPU cores\n",
      "IPU available: False, using: 0 IPUs\n",
      "HPU available: False, using: 0 HPUs\n",
      "LOCAL_RANK: 0 - CUDA_VISIBLE_DEVICES: [0]\n",
      "\n",
      "  | Name      | Type             | Params\n",
      "-----------------------------------------------\n",
      "0 | accuracy  | BinaryAccuracy   | 0     \n",
      "1 | f1score   | BinaryF1Score    | 0     \n",
      "2 | model     | ResNet           | 23.5 M\n",
      "3 | fuzzyloss | CrossEntropyLoss | 0     \n",
      "-----------------------------------------------\n",
      "4.1 K     Trainable params\n",
      "23.5 M    Non-trainable params\n",
      "23.5 M    Total params\n",
      "94.049    Total estimated model params size (MB)\n",
      "C:\\Users\\laraquij\\Anaconda3\\envs\\tfg_dani\\lib\\site-packages\\pytorch_lightning\\trainer\\connectors\\data_connector.py:229: PossibleUserWarning: The dataloader, train_dataloader, does not have many workers which may be a bottleneck. Consider increasing the value of the `num_workers` argument` (try 8 which is the number of cpus on this machine) in the `DataLoader` init to improve performance.\n",
      "  category=PossibleUserWarning,\n"
     ]
    },
    {
     "name": "stdout",
     "output_type": "stream",
     "text": [
      "Epoch 34: 100%|██████████| 1113/1113 [07:19<00:00,  2.53it/s, loss=0.403, v_num=163]"
     ]
    },
    {
     "name": "stderr",
     "output_type": "stream",
     "text": [
      "`Trainer.fit` stopped: `max_epochs=35` reached.\n"
     ]
    },
    {
     "name": "stdout",
     "output_type": "stream",
     "text": [
      "Epoch 34: 100%|██████████| 1113/1113 [07:20<00:00,  2.53it/s, loss=0.403, v_num=163]\n"
     ]
    },
    {
     "name": "stderr",
     "output_type": "stream",
     "text": [
      "100%|██████████| 279/279 [05:38<00:00,  1.21s/it]\n",
      "C:\\Users\\laraquij\\Anaconda3\\envs\\tfg_dani\\lib\\site-packages\\torchvision\\models\\_utils.py:209: UserWarning: The parameter 'pretrained' is deprecated since 0.13 and may be removed in the future, please use 'weights' instead.\n",
      "  f\"The parameter '{pretrained_param}' is deprecated since 0.13 and may be removed in the future, \"\n",
      "C:\\Users\\laraquij\\Anaconda3\\envs\\tfg_dani\\lib\\site-packages\\torchvision\\models\\_utils.py:223: UserWarning: Arguments other than a weight enum or `None` for 'weights' are deprecated since 0.13 and may be removed in the future. The current behavior is equivalent to passing `weights=ResNet50_Weights.IMAGENET1K_V1`. You can also use `weights=ResNet50_Weights.DEFAULT` to get the most up-to-date weights.\n",
      "  warnings.warn(msg)\n"
     ]
    },
    {
     "name": "stdout",
     "output_type": "stream",
     "text": [
      "------------fold nº 3----------------------\n"
     ]
    },
    {
     "name": "stderr",
     "output_type": "stream",
     "text": [
      "GPU available: True (cuda), used: True\n",
      "TPU available: False, using: 0 TPU cores\n",
      "IPU available: False, using: 0 IPUs\n",
      "HPU available: False, using: 0 HPUs\n",
      "LOCAL_RANK: 0 - CUDA_VISIBLE_DEVICES: [0]\n",
      "\n",
      "  | Name      | Type             | Params\n",
      "-----------------------------------------------\n",
      "0 | accuracy  | BinaryAccuracy   | 0     \n",
      "1 | f1score   | BinaryF1Score    | 0     \n",
      "2 | model     | ResNet           | 23.5 M\n",
      "3 | fuzzyloss | CrossEntropyLoss | 0     \n",
      "-----------------------------------------------\n",
      "4.1 K     Trainable params\n",
      "23.5 M    Non-trainable params\n",
      "23.5 M    Total params\n",
      "94.049    Total estimated model params size (MB)\n",
      "C:\\Users\\laraquij\\Anaconda3\\envs\\tfg_dani\\lib\\site-packages\\pytorch_lightning\\trainer\\connectors\\data_connector.py:229: PossibleUserWarning: The dataloader, train_dataloader, does not have many workers which may be a bottleneck. Consider increasing the value of the `num_workers` argument` (try 8 which is the number of cpus on this machine) in the `DataLoader` init to improve performance.\n",
      "  category=PossibleUserWarning,\n"
     ]
    },
    {
     "name": "stdout",
     "output_type": "stream",
     "text": [
      "Epoch 34: 100%|██████████| 1113/1113 [07:33<00:00,  2.45it/s, loss=0.326, v_num=164]"
     ]
    },
    {
     "name": "stderr",
     "output_type": "stream",
     "text": [
      "`Trainer.fit` stopped: `max_epochs=35` reached.\n"
     ]
    },
    {
     "name": "stdout",
     "output_type": "stream",
     "text": [
      "Epoch 34: 100%|██████████| 1113/1113 [07:34<00:00,  2.45it/s, loss=0.326, v_num=164]\n"
     ]
    },
    {
     "name": "stderr",
     "output_type": "stream",
     "text": [
      "100%|██████████| 279/279 [05:38<00:00,  1.21s/it]\n",
      "C:\\Users\\laraquij\\Anaconda3\\envs\\tfg_dani\\lib\\site-packages\\torchvision\\models\\_utils.py:209: UserWarning: The parameter 'pretrained' is deprecated since 0.13 and may be removed in the future, please use 'weights' instead.\n",
      "  f\"The parameter '{pretrained_param}' is deprecated since 0.13 and may be removed in the future, \"\n",
      "C:\\Users\\laraquij\\Anaconda3\\envs\\tfg_dani\\lib\\site-packages\\torchvision\\models\\_utils.py:223: UserWarning: Arguments other than a weight enum or `None` for 'weights' are deprecated since 0.13 and may be removed in the future. The current behavior is equivalent to passing `weights=ResNet50_Weights.IMAGENET1K_V1`. You can also use `weights=ResNet50_Weights.DEFAULT` to get the most up-to-date weights.\n",
      "  warnings.warn(msg)\n"
     ]
    },
    {
     "name": "stdout",
     "output_type": "stream",
     "text": [
      "------------fold nº 4----------------------\n"
     ]
    },
    {
     "name": "stderr",
     "output_type": "stream",
     "text": [
      "GPU available: True (cuda), used: True\n",
      "TPU available: False, using: 0 TPU cores\n",
      "IPU available: False, using: 0 IPUs\n",
      "HPU available: False, using: 0 HPUs\n",
      "LOCAL_RANK: 0 - CUDA_VISIBLE_DEVICES: [0]\n",
      "\n",
      "  | Name      | Type             | Params\n",
      "-----------------------------------------------\n",
      "0 | accuracy  | BinaryAccuracy   | 0     \n",
      "1 | f1score   | BinaryF1Score    | 0     \n",
      "2 | model     | ResNet           | 23.5 M\n",
      "3 | fuzzyloss | CrossEntropyLoss | 0     \n",
      "-----------------------------------------------\n",
      "4.1 K     Trainable params\n",
      "23.5 M    Non-trainable params\n",
      "23.5 M    Total params\n",
      "94.049    Total estimated model params size (MB)\n",
      "C:\\Users\\laraquij\\Anaconda3\\envs\\tfg_dani\\lib\\site-packages\\pytorch_lightning\\trainer\\connectors\\data_connector.py:229: PossibleUserWarning: The dataloader, train_dataloader, does not have many workers which may be a bottleneck. Consider increasing the value of the `num_workers` argument` (try 8 which is the number of cpus on this machine) in the `DataLoader` init to improve performance.\n",
      "  category=PossibleUserWarning,\n"
     ]
    },
    {
     "name": "stdout",
     "output_type": "stream",
     "text": [
      "Epoch 34: 100%|██████████| 1113/1113 [07:34<00:00,  2.45it/s, loss=0.392, v_num=165]"
     ]
    },
    {
     "name": "stderr",
     "output_type": "stream",
     "text": [
      "`Trainer.fit` stopped: `max_epochs=35` reached.\n"
     ]
    },
    {
     "name": "stdout",
     "output_type": "stream",
     "text": [
      "Epoch 34: 100%|██████████| 1113/1113 [07:35<00:00,  2.44it/s, loss=0.392, v_num=165]\n"
     ]
    },
    {
     "name": "stderr",
     "output_type": "stream",
     "text": [
      "100%|██████████| 279/279 [05:45<00:00,  1.24s/it]\n"
     ]
    },
    {
     "data": {
      "text/html": [
       "<div>\n",
       "<style scoped>\n",
       "    .dataframe tbody tr th:only-of-type {\n",
       "        vertical-align: middle;\n",
       "    }\n",
       "\n",
       "    .dataframe tbody tr th {\n",
       "        vertical-align: top;\n",
       "    }\n",
       "\n",
       "    .dataframe thead th {\n",
       "        text-align: right;\n",
       "    }\n",
       "</style>\n",
       "<table border=\"1\" class=\"dataframe\">\n",
       "  <thead>\n",
       "    <tr style=\"text-align: right;\">\n",
       "      <th></th>\n",
       "      <th>epochs</th>\n",
       "      <th>gamma</th>\n",
       "      <th>lr</th>\n",
       "      <th>f1-0</th>\n",
       "      <th>f1-1</th>\n",
       "      <th>acc</th>\n",
       "    </tr>\n",
       "  </thead>\n",
       "  <tbody>\n",
       "    <tr>\n",
       "      <th>0</th>\n",
       "      <td>10.0</td>\n",
       "      <td>0.0</td>\n",
       "      <td>0.001</td>\n",
       "      <td>0.905232</td>\n",
       "      <td>0.438356</td>\n",
       "      <td>0.837828</td>\n",
       "    </tr>\n",
       "    <tr>\n",
       "      <th>1</th>\n",
       "      <td>25.0</td>\n",
       "      <td>0.0</td>\n",
       "      <td>0.001</td>\n",
       "      <td>0.884323</td>\n",
       "      <td>0.522140</td>\n",
       "      <td>0.813736</td>\n",
       "    </tr>\n",
       "    <tr>\n",
       "      <th>2</th>\n",
       "      <td>35.0</td>\n",
       "      <td>0.0</td>\n",
       "      <td>0.001</td>\n",
       "      <td>0.894760</td>\n",
       "      <td>0.509165</td>\n",
       "      <td>0.826681</td>\n",
       "    </tr>\n",
       "  </tbody>\n",
       "</table>\n",
       "</div>"
      ],
      "text/plain": [
       "   epochs  gamma     lr      f1-0      f1-1       acc\n",
       "0    10.0    0.0  0.001  0.905232  0.438356  0.837828\n",
       "1    25.0    0.0  0.001  0.884323  0.522140  0.813736\n",
       "2    35.0    0.0  0.001  0.894760  0.509165  0.826681"
      ]
     },
     "execution_count": 54,
     "metadata": {},
     "output_type": "execute_result"
    }
   ],
   "source": [
    "K=5\n",
    "BATCH_SIZE=10\n",
    "EPOCHS=1\n",
    "GAMMA_0=2\n",
    "\n",
    "def get_prediction(x, model: pl.LightningModule):\n",
    "    model.freeze() # prepares model for predicting\n",
    "    probabilities = torch.softmax(model(x), dim=1)\n",
    "    predicted_class = torch.argmax(probabilities, dim=1)\n",
    "    return predicted_class, probabilities\n",
    "\n",
    "def train_tune(config):\n",
    "    kfold = KFold(n_splits=K, shuffle=True)\n",
    "    reports = []\n",
    "    mean_f1s = []\n",
    "    for fold,(train_idx,val_idx) in enumerate(kfold.split(image_dataset)):\n",
    "        print(f'------------fold nº {fold}----------------------')\n",
    "\n",
    "        train_subsampler = torch.utils.data.SubsetRandomSampler(train_idx)\n",
    "        val_subsampler = torch.utils.data.SubsetRandomSampler(val_idx)\n",
    "        trainloader = torch.utils.data.DataLoader(\n",
    "                          image_dataset, \n",
    "                          batch_size=BATCH_SIZE, sampler=train_subsampler)\n",
    "        testloader = torch.utils.data.DataLoader(\n",
    "                          image_dataset,\n",
    "                          batch_size=BATCH_SIZE, sampler=val_subsampler)\n",
    "\n",
    "        # Train this fold\n",
    "#         model = ResNetCustom(gamma=GAMMA_0, class_sizes=[c0_s,c1_s])\n",
    "        model = ResNetCustom(config, class_sizes=[c0_s,c1_s])\n",
    "        model.SPE = len(trainloader)\n",
    "        model.EPOCHS = config['epochs']\n",
    "        trainer = pl.Trainer(max_epochs=config['epochs'], devices=1, accelerator=\"gpu\")\n",
    "        trainer.fit(model, trainloader)\n",
    "\n",
    "        # Test this fold\n",
    "        true_y, pred_y = [], []\n",
    "        for batch in tqdm(iter(testloader), total=len(testloader)):\n",
    "            x, y = batch\n",
    "            true_y.extend(y)\n",
    "            preds, probs = get_prediction(x, model)\n",
    "            pred_y.extend(preds.cpu())\n",
    "\n",
    "        report = classification_report(true_y, pred_y, output_dict=True)\n",
    "        reports.append(report)\n",
    "        mean_f1s.append((report['0']['f1-score']+report['1']['f1-score'])/2)\n",
    "#         print('=> CONFIG:', config)\n",
    "#         print(classification_report(true_y, pred_y))\n",
    "    max_f1_idx = mean_f1s.index(max(mean_f1s))\n",
    "    return reports[max_f1_idx]\n",
    "\n",
    "EPOCHS = [10, 25, 35]\n",
    "GAMMAS = [0]\n",
    "LRS = [1e-3]\n",
    "\n",
    "grid_search = pd.DataFrame(columns=['epochs','gamma','lr','f1-0','f1-1','acc'])\n",
    "\n",
    "for epochs in EPOCHS:\n",
    "    for gamma in GAMMAS:\n",
    "        for lr in LRS:\n",
    "            config = {'epochs': epochs, 'gamma': gamma, 'lr': lr}\n",
    "            report = train_tune(config)\n",
    "            grid_search = grid_search.append(\n",
    "                            pd.Series(\n",
    "                                [epochs,gamma,lr,report['0']['f1-score'],report['1']['f1-score'],report['accuracy']],\n",
    "                                index=grid_search.columns), \n",
    "                            ignore_index=True)\n",
    "            grid_search.to_csv('./grid_search/UTKFace_baseline.csv')\n",
    "grid_search"
   ]
  },
  {
   "cell_type": "code",
   "execution_count": 55,
   "id": "cdb50649",
   "metadata": {
    "scrolled": true
   },
   "outputs": [
    {
     "name": "stdout",
     "output_type": "stream",
     "text": [
      "------------fold nº 0----------------------\n"
     ]
    },
    {
     "name": "stderr",
     "output_type": "stream",
     "text": [
      "C:\\Users\\laraquij\\Anaconda3\\envs\\tfg_dani\\lib\\site-packages\\torchvision\\models\\_utils.py:209: UserWarning: The parameter 'pretrained' is deprecated since 0.13 and may be removed in the future, please use 'weights' instead.\n",
      "  f\"The parameter '{pretrained_param}' is deprecated since 0.13 and may be removed in the future, \"\n",
      "C:\\Users\\laraquij\\Anaconda3\\envs\\tfg_dani\\lib\\site-packages\\torchvision\\models\\_utils.py:223: UserWarning: Arguments other than a weight enum or `None` for 'weights' are deprecated since 0.13 and may be removed in the future. The current behavior is equivalent to passing `weights=ResNet50_Weights.IMAGENET1K_V1`. You can also use `weights=ResNet50_Weights.DEFAULT` to get the most up-to-date weights.\n",
      "  warnings.warn(msg)\n",
      "GPU available: True (cuda), used: True\n",
      "TPU available: False, using: 0 TPU cores\n",
      "IPU available: False, using: 0 IPUs\n",
      "HPU available: False, using: 0 HPUs\n",
      "LOCAL_RANK: 0 - CUDA_VISIBLE_DEVICES: [0]\n",
      "\n",
      "  | Name      | Type             | Params\n",
      "-----------------------------------------------\n",
      "0 | accuracy  | BinaryAccuracy   | 0     \n",
      "1 | f1score   | BinaryF1Score    | 0     \n",
      "2 | model     | ResNet           | 23.5 M\n",
      "3 | fuzzyloss | CrossEntropyLoss | 0     \n",
      "-----------------------------------------------\n",
      "4.1 K     Trainable params\n",
      "23.5 M    Non-trainable params\n",
      "23.5 M    Total params\n",
      "94.049    Total estimated model params size (MB)\n",
      "C:\\Users\\laraquij\\Anaconda3\\envs\\tfg_dani\\lib\\site-packages\\pytorch_lightning\\trainer\\connectors\\data_connector.py:229: PossibleUserWarning: The dataloader, train_dataloader, does not have many workers which may be a bottleneck. Consider increasing the value of the `num_workers` argument` (try 8 which is the number of cpus on this machine) in the `DataLoader` init to improve performance.\n",
      "  category=PossibleUserWarning,\n"
     ]
    },
    {
     "name": "stdout",
     "output_type": "stream",
     "text": [
      "Epoch 24: 100%|██████████| 1113/1113 [06:40<00:00,  2.78it/s, loss=0.365, v_num=166]"
     ]
    },
    {
     "name": "stderr",
     "output_type": "stream",
     "text": [
      "`Trainer.fit` stopped: `max_epochs=25` reached.\n"
     ]
    },
    {
     "name": "stdout",
     "output_type": "stream",
     "text": [
      "Epoch 24: 100%|██████████| 1113/1113 [06:40<00:00,  2.78it/s, loss=0.365, v_num=166]\n"
     ]
    },
    {
     "name": "stderr",
     "output_type": "stream",
     "text": [
      "100%|██████████| 279/279 [05:12<00:00,  1.12s/it]\n",
      "C:\\Users\\laraquij\\Anaconda3\\envs\\tfg_dani\\lib\\site-packages\\torchvision\\models\\_utils.py:209: UserWarning: The parameter 'pretrained' is deprecated since 0.13 and may be removed in the future, please use 'weights' instead.\n",
      "  f\"The parameter '{pretrained_param}' is deprecated since 0.13 and may be removed in the future, \"\n",
      "C:\\Users\\laraquij\\Anaconda3\\envs\\tfg_dani\\lib\\site-packages\\torchvision\\models\\_utils.py:223: UserWarning: Arguments other than a weight enum or `None` for 'weights' are deprecated since 0.13 and may be removed in the future. The current behavior is equivalent to passing `weights=ResNet50_Weights.IMAGENET1K_V1`. You can also use `weights=ResNet50_Weights.DEFAULT` to get the most up-to-date weights.\n",
      "  warnings.warn(msg)\n"
     ]
    },
    {
     "name": "stdout",
     "output_type": "stream",
     "text": [
      "------------fold nº 1----------------------\n"
     ]
    },
    {
     "name": "stderr",
     "output_type": "stream",
     "text": [
      "GPU available: True (cuda), used: True\n",
      "TPU available: False, using: 0 TPU cores\n",
      "IPU available: False, using: 0 IPUs\n",
      "HPU available: False, using: 0 HPUs\n",
      "LOCAL_RANK: 0 - CUDA_VISIBLE_DEVICES: [0]\n",
      "\n",
      "  | Name      | Type             | Params\n",
      "-----------------------------------------------\n",
      "0 | accuracy  | BinaryAccuracy   | 0     \n",
      "1 | f1score   | BinaryF1Score    | 0     \n",
      "2 | model     | ResNet           | 23.5 M\n",
      "3 | fuzzyloss | CrossEntropyLoss | 0     \n",
      "-----------------------------------------------\n",
      "4.1 K     Trainable params\n",
      "23.5 M    Non-trainable params\n",
      "23.5 M    Total params\n",
      "94.049    Total estimated model params size (MB)\n",
      "C:\\Users\\laraquij\\Anaconda3\\envs\\tfg_dani\\lib\\site-packages\\pytorch_lightning\\trainer\\connectors\\data_connector.py:229: PossibleUserWarning: The dataloader, train_dataloader, does not have many workers which may be a bottleneck. Consider increasing the value of the `num_workers` argument` (try 8 which is the number of cpus on this machine) in the `DataLoader` init to improve performance.\n",
      "  category=PossibleUserWarning,\n"
     ]
    },
    {
     "name": "stdout",
     "output_type": "stream",
     "text": [
      "Epoch 24: 100%|██████████| 1113/1113 [06:40<00:00,  2.78it/s, loss=0.362, v_num=167]"
     ]
    },
    {
     "name": "stderr",
     "output_type": "stream",
     "text": [
      "`Trainer.fit` stopped: `max_epochs=25` reached.\n"
     ]
    },
    {
     "name": "stdout",
     "output_type": "stream",
     "text": [
      "Epoch 24: 100%|██████████| 1113/1113 [06:40<00:00,  2.78it/s, loss=0.362, v_num=167]\n"
     ]
    },
    {
     "name": "stderr",
     "output_type": "stream",
     "text": [
      "100%|██████████| 279/279 [05:11<00:00,  1.12s/it]\n",
      "C:\\Users\\laraquij\\Anaconda3\\envs\\tfg_dani\\lib\\site-packages\\torchvision\\models\\_utils.py:209: UserWarning: The parameter 'pretrained' is deprecated since 0.13 and may be removed in the future, please use 'weights' instead.\n",
      "  f\"The parameter '{pretrained_param}' is deprecated since 0.13 and may be removed in the future, \"\n",
      "C:\\Users\\laraquij\\Anaconda3\\envs\\tfg_dani\\lib\\site-packages\\torchvision\\models\\_utils.py:223: UserWarning: Arguments other than a weight enum or `None` for 'weights' are deprecated since 0.13 and may be removed in the future. The current behavior is equivalent to passing `weights=ResNet50_Weights.IMAGENET1K_V1`. You can also use `weights=ResNet50_Weights.DEFAULT` to get the most up-to-date weights.\n",
      "  warnings.warn(msg)\n"
     ]
    },
    {
     "name": "stdout",
     "output_type": "stream",
     "text": [
      "------------fold nº 2----------------------\n"
     ]
    },
    {
     "name": "stderr",
     "output_type": "stream",
     "text": [
      "GPU available: True (cuda), used: True\n",
      "TPU available: False, using: 0 TPU cores\n",
      "IPU available: False, using: 0 IPUs\n",
      "HPU available: False, using: 0 HPUs\n",
      "LOCAL_RANK: 0 - CUDA_VISIBLE_DEVICES: [0]\n",
      "\n",
      "  | Name      | Type             | Params\n",
      "-----------------------------------------------\n",
      "0 | accuracy  | BinaryAccuracy   | 0     \n",
      "1 | f1score   | BinaryF1Score    | 0     \n",
      "2 | model     | ResNet           | 23.5 M\n",
      "3 | fuzzyloss | CrossEntropyLoss | 0     \n",
      "-----------------------------------------------\n",
      "4.1 K     Trainable params\n",
      "23.5 M    Non-trainable params\n",
      "23.5 M    Total params\n",
      "94.049    Total estimated model params size (MB)\n",
      "C:\\Users\\laraquij\\Anaconda3\\envs\\tfg_dani\\lib\\site-packages\\pytorch_lightning\\trainer\\connectors\\data_connector.py:229: PossibleUserWarning: The dataloader, train_dataloader, does not have many workers which may be a bottleneck. Consider increasing the value of the `num_workers` argument` (try 8 which is the number of cpus on this machine) in the `DataLoader` init to improve performance.\n",
      "  category=PossibleUserWarning,\n"
     ]
    },
    {
     "name": "stdout",
     "output_type": "stream",
     "text": [
      "Epoch 24: 100%|██████████| 1113/1113 [06:41<00:00,  2.77it/s, loss=0.305, v_num=168]"
     ]
    },
    {
     "name": "stderr",
     "output_type": "stream",
     "text": [
      "`Trainer.fit` stopped: `max_epochs=25` reached.\n"
     ]
    },
    {
     "name": "stdout",
     "output_type": "stream",
     "text": [
      "Epoch 24: 100%|██████████| 1113/1113 [06:42<00:00,  2.77it/s, loss=0.305, v_num=168]\n"
     ]
    },
    {
     "name": "stderr",
     "output_type": "stream",
     "text": [
      "100%|██████████| 279/279 [05:12<00:00,  1.12s/it]\n",
      "C:\\Users\\laraquij\\Anaconda3\\envs\\tfg_dani\\lib\\site-packages\\torchvision\\models\\_utils.py:209: UserWarning: The parameter 'pretrained' is deprecated since 0.13 and may be removed in the future, please use 'weights' instead.\n",
      "  f\"The parameter '{pretrained_param}' is deprecated since 0.13 and may be removed in the future, \"\n",
      "C:\\Users\\laraquij\\Anaconda3\\envs\\tfg_dani\\lib\\site-packages\\torchvision\\models\\_utils.py:223: UserWarning: Arguments other than a weight enum or `None` for 'weights' are deprecated since 0.13 and may be removed in the future. The current behavior is equivalent to passing `weights=ResNet50_Weights.IMAGENET1K_V1`. You can also use `weights=ResNet50_Weights.DEFAULT` to get the most up-to-date weights.\n",
      "  warnings.warn(msg)\n"
     ]
    },
    {
     "name": "stdout",
     "output_type": "stream",
     "text": [
      "------------fold nº 3----------------------\n"
     ]
    },
    {
     "name": "stderr",
     "output_type": "stream",
     "text": [
      "GPU available: True (cuda), used: True\n",
      "TPU available: False, using: 0 TPU cores\n",
      "IPU available: False, using: 0 IPUs\n",
      "HPU available: False, using: 0 HPUs\n",
      "LOCAL_RANK: 0 - CUDA_VISIBLE_DEVICES: [0]\n",
      "\n",
      "  | Name      | Type             | Params\n",
      "-----------------------------------------------\n",
      "0 | accuracy  | BinaryAccuracy   | 0     \n",
      "1 | f1score   | BinaryF1Score    | 0     \n",
      "2 | model     | ResNet           | 23.5 M\n",
      "3 | fuzzyloss | CrossEntropyLoss | 0     \n",
      "-----------------------------------------------\n",
      "4.1 K     Trainable params\n",
      "23.5 M    Non-trainable params\n",
      "23.5 M    Total params\n",
      "94.049    Total estimated model params size (MB)\n",
      "C:\\Users\\laraquij\\Anaconda3\\envs\\tfg_dani\\lib\\site-packages\\pytorch_lightning\\trainer\\connectors\\data_connector.py:229: PossibleUserWarning: The dataloader, train_dataloader, does not have many workers which may be a bottleneck. Consider increasing the value of the `num_workers` argument` (try 8 which is the number of cpus on this machine) in the `DataLoader` init to improve performance.\n",
      "  category=PossibleUserWarning,\n"
     ]
    },
    {
     "name": "stdout",
     "output_type": "stream",
     "text": [
      "Epoch 24: 100%|██████████| 1113/1113 [06:42<00:00,  2.76it/s, loss=0.342, v_num=169]"
     ]
    },
    {
     "name": "stderr",
     "output_type": "stream",
     "text": [
      "`Trainer.fit` stopped: `max_epochs=25` reached.\n"
     ]
    },
    {
     "name": "stdout",
     "output_type": "stream",
     "text": [
      "Epoch 24: 100%|██████████| 1113/1113 [06:43<00:00,  2.76it/s, loss=0.342, v_num=169]\n"
     ]
    },
    {
     "name": "stderr",
     "output_type": "stream",
     "text": [
      "100%|██████████| 279/279 [05:10<00:00,  1.11s/it]\n",
      "C:\\Users\\laraquij\\Anaconda3\\envs\\tfg_dani\\lib\\site-packages\\torchvision\\models\\_utils.py:209: UserWarning: The parameter 'pretrained' is deprecated since 0.13 and may be removed in the future, please use 'weights' instead.\n",
      "  f\"The parameter '{pretrained_param}' is deprecated since 0.13 and may be removed in the future, \"\n",
      "C:\\Users\\laraquij\\Anaconda3\\envs\\tfg_dani\\lib\\site-packages\\torchvision\\models\\_utils.py:223: UserWarning: Arguments other than a weight enum or `None` for 'weights' are deprecated since 0.13 and may be removed in the future. The current behavior is equivalent to passing `weights=ResNet50_Weights.IMAGENET1K_V1`. You can also use `weights=ResNet50_Weights.DEFAULT` to get the most up-to-date weights.\n",
      "  warnings.warn(msg)\n"
     ]
    },
    {
     "name": "stdout",
     "output_type": "stream",
     "text": [
      "------------fold nº 4----------------------\n"
     ]
    },
    {
     "name": "stderr",
     "output_type": "stream",
     "text": [
      "GPU available: True (cuda), used: True\n",
      "TPU available: False, using: 0 TPU cores\n",
      "IPU available: False, using: 0 IPUs\n",
      "HPU available: False, using: 0 HPUs\n",
      "LOCAL_RANK: 0 - CUDA_VISIBLE_DEVICES: [0]\n",
      "\n",
      "  | Name      | Type             | Params\n",
      "-----------------------------------------------\n",
      "0 | accuracy  | BinaryAccuracy   | 0     \n",
      "1 | f1score   | BinaryF1Score    | 0     \n",
      "2 | model     | ResNet           | 23.5 M\n",
      "3 | fuzzyloss | CrossEntropyLoss | 0     \n",
      "-----------------------------------------------\n",
      "4.1 K     Trainable params\n",
      "23.5 M    Non-trainable params\n",
      "23.5 M    Total params\n",
      "94.049    Total estimated model params size (MB)\n",
      "C:\\Users\\laraquij\\Anaconda3\\envs\\tfg_dani\\lib\\site-packages\\pytorch_lightning\\trainer\\connectors\\data_connector.py:229: PossibleUserWarning: The dataloader, train_dataloader, does not have many workers which may be a bottleneck. Consider increasing the value of the `num_workers` argument` (try 8 which is the number of cpus on this machine) in the `DataLoader` init to improve performance.\n",
      "  category=PossibleUserWarning,\n"
     ]
    },
    {
     "name": "stdout",
     "output_type": "stream",
     "text": [
      "Epoch 24: 100%|██████████| 1113/1113 [06:45<00:00,  2.75it/s, loss=0.419, v_num=170]"
     ]
    },
    {
     "name": "stderr",
     "output_type": "stream",
     "text": [
      "`Trainer.fit` stopped: `max_epochs=25` reached.\n"
     ]
    },
    {
     "name": "stdout",
     "output_type": "stream",
     "text": [
      "Epoch 24: 100%|██████████| 1113/1113 [06:45<00:00,  2.74it/s, loss=0.419, v_num=170]\n"
     ]
    },
    {
     "name": "stderr",
     "output_type": "stream",
     "text": [
      "100%|██████████| 279/279 [05:15<00:00,  1.13s/it]\n"
     ]
    },
    {
     "name": "stdout",
     "output_type": "stream",
     "text": [
      "{'0': {'precision': 0.8777643747486932, 'recall': 0.9566170026292725, 'f1-score': 0.9154959110924721, 'support': 2282}, '1': {'precision': 0.6632653061224489, 'recall': 0.3907815631262525, 'f1-score': 0.4918032786885246, 'support': 499}, 'accuracy': 0.8550880978065444, 'macro avg': {'precision': 0.7705148404355711, 'recall': 0.6736992828777625, 'f1-score': 0.7036495948904984, 'support': 2781}, 'weighted avg': {'precision': 0.8392764081019849, 'recall': 0.8550880978065444, 'f1-score': 0.8394719543971935, 'support': 2781}}\n"
     ]
    }
   ],
   "source": [
    "mean_losses = []\n",
    "mean_acc = []\n",
    "mean_f1s = []\n",
    "\n",
    "config = {'epochs': 25, 'gamma': 0, 'lr': 1e-3}\n",
    "report = train_tune(config)\n",
    "print(report)"
   ]
  },
  {
   "cell_type": "code",
   "execution_count": 58,
   "id": "10627f88",
   "metadata": {},
   "outputs": [
    {
     "data": {
      "image/png": "[encoded data removed]",
      "text/plain": [
       "<Figure size 640x480 with 1 Axes>"
      ]
     },
     "metadata": {},
     "output_type": "display_data"
    }
   ],
   "source": [
    "# Plot mean loss\n",
    "ml = [sum(mean_losses[i:i + splits])/splits for i in range(0, len(mean_losses), splits)]\n",
    "ma = [sum(mean_acc[i:i + splits])/splits for i in range(0, len(mean_acc), splits)]\n",
    "mf = [sum(mean_f1s[i:i + splits])/splits for i in range(0, len(mean_f1s), splits)]\n",
    "x_axis = [i for i in range(2840)]\n",
    "\n",
    "splits=49\n",
    "for i, l in enumerate(mean_losses):\n",
    "    mean_losses[i] = l.cpu().detach()\n",
    "plt.plot(x_axis, ml, 'g', label='Loss')\n",
    "plt.plot(x_axis, ma, 'b', label='Accuracy')\n",
    "plt.plot(x_axis, mf, 'r', label='F1-score')\n",
    "plt.title('Training metrics')\n",
    "plt.xlabel('Épocas')\n",
    "# plt.ylabel('Loss media')\n",
    "plt.legend()\n",
    "plt.show()"
   ]
  },
  {
   "cell_type": "markdown",
   "id": "cfa5df61",
   "metadata": {},
   "source": [
    "## <span style=\"color:blue\">gender_clf</span>"
   ]
  },
  {
   "cell_type": "code",
   "execution_count": 3,
   "id": "27391d1f",
   "metadata": {},
   "outputs": [
    {
     "name": "stdout",
     "output_type": "stream",
     "text": [
      "Class 0: 23243 / Class 1: 4967 / BDeg:  4.679484598349104\n"
     ]
    }
   ],
   "source": [
    "data_transforms = transforms.Compose([\n",
    "    transforms.RandomResizedCrop(224),\n",
    "    transforms.RandomHorizontalFlip(),\n",
    "    transforms.ToTensor(),\n",
    "    transforms.Normalize(mean=[0.485, 0.456, 0.406], std=[0.229, 0.224, 0.225]),\n",
    "])\n",
    "\n",
    "image_dataset = datasets.ImageFolder('../data/gender_clf/train',data_transforms)\n",
    "\n",
    "# Provocar bias cogiendo un porcentaje de la clase 1 solamente (modificando el porcentaje hasta obtener b_deg deseado)\n",
    "class_0_idxs = torch.nonzero(torch.Tensor(image_dataset.targets)==0).flatten()\n",
    "class_1_idxs = torch.nonzero(torch.Tensor(image_dataset.targets)==1).flatten()\n",
    "class_1_idxs = class_1_idxs[torch.randperm(len(class_1_idxs))[:int(len(class_1_idxs)*.209)]]\n",
    "\n",
    "c0_s, c1_s = len(class_0_idxs), len(class_1_idxs)\n",
    "b_deg = c0_s / c1_s\n",
    "print('Class 0:', len(class_0_idxs), '/ Class 1:', len(class_1_idxs), '/ BDeg: ', b_deg)\n",
    "\n",
    "class_1_subset = Subset(image_dataset, class_1_idxs)\n",
    "class_0_subset = Subset(image_dataset, class_0_idxs)\n",
    "image_dataset = ConcatDataset([class_0_subset, class_1_subset])"
   ]
  },
  {
   "cell_type": "code",
   "execution_count": 4,
   "id": "3e588a0f",
   "metadata": {},
   "outputs": [],
   "source": [
    "from torchvision.models import resnet50\n",
    "\n",
    "mean_losses = []\n",
    "mean_acc = []\n",
    "mean_f1s = []\n",
    "\n",
    "class ResNetCustom(pl.LightningModule):\n",
    "    def __init__(self,\n",
    "                 gamma=0.,\n",
    "                 class_sizes=[1,1],\n",
    "        ):\n",
    "        super().__init__()\n",
    "        self.n_classes = len(class_sizes)\n",
    "        \n",
    "        # metrics\n",
    "        task = \"multiclass\" if self.n_classes > 2 else \"binary\"\n",
    "        self.accuracy = torchmetrics.Accuracy(task=task, num_classes=self.n_classes)\n",
    "        self.f1score = torchmetrics.F1Score(task=task, num_classes=self.n_classes)\n",
    "        \n",
    "        self.model = resnet50(pretrained=True)\n",
    "        for param in self.model.parameters():\n",
    "            param.requires_grad = False\n",
    "        self.model.fc = nn.Linear(self.model.fc.in_features, self.n_classes, bias=True)\n",
    "            \n",
    "#         self.fuzzyloss = FuzzyLoss(gamma=gamma, class_sizes=class_sizes).cuda()\n",
    "        self.fuzzyloss = nn.CrossEntropyLoss().cuda()\n",
    "        \n",
    "    def forward(self, x):\n",
    "        return self.model(x)\n",
    "    \n",
    "    def training_step(self, batch, batch_no):\n",
    "        x, y = batch\n",
    "        logits = self(x)\n",
    "        \n",
    "        y_onehot = F.one_hot(y, num_classes=self.n_classes).long()\n",
    "        acc = self.accuracy(logits, y_onehot)\n",
    "        f1s = self.f1score(logits, y_onehot)\n",
    "        mean_acc.append(acc.item())\n",
    "        mean_f1s.append(f1s.item())\n",
    "        \n",
    "#         mean_loss, losses = self.fuzzyloss(logits, y)\n",
    "        mean_loss = self.fuzzyloss(logits, y)\n",
    "        mean_losses.append(mean_loss)\n",
    "        \n",
    "        # Update focal loss with Fuzzy Control System\n",
    "#         self.fuzzyloss.update_hyperparams(losses, y)\n",
    "        return mean_loss\n",
    "    \n",
    "    def configure_optimizers(self):\n",
    "        optimizer = torch.optim.Adam(self.model.fc.parameters(), lr=1e-4)\n",
    "        return {\n",
    "            \"optimizer\": optimizer,\n",
    "            \"lr_scheduler\": torch.optim.lr_scheduler.OneCycleLR(\n",
    "                                optimizer ,max_lr=0.01,\n",
    "                                steps_per_epoch=len(trainloader),\n",
    "                                epochs=EPOCHS)\n",
    "        }"
   ]
  },
  {
   "cell_type": "code",
   "execution_count": 5,
   "id": "bc70ab0e",
   "metadata": {},
   "outputs": [
    {
     "name": "stdout",
     "output_type": "stream",
     "text": [
      "------------fold nº 0----------------------\n"
     ]
    },
    {
     "name": "stderr",
     "output_type": "stream",
     "text": [
      "/home/d/miniconda3/envs/tfg/lib/python3.7/site-packages/pytorch_lightning/trainer/connectors/accelerator_connector.py:447: LightningDeprecationWarning: Setting `Trainer(gpus=1)` is deprecated in v1.7 and will be removed in v2.0. Please use `Trainer(accelerator='gpu', devices=1)` instead.\n",
      "  f\"Setting `Trainer(gpus={gpus!r})` is deprecated in v1.7 and will be removed\"\n",
      "/home/d/miniconda3/envs/tfg/lib/python3.7/site-packages/pytorch_lightning/trainer/connectors/accelerator_connector.py:467: UserWarning: The flag `devices=1` will be ignored, instead the device specific number 1 will be used\n",
      "  f\"The flag `devices={devices}` will be ignored, \"\n",
      "GPU available: True (cuda), used: True\n",
      "TPU available: False, using: 0 TPU cores\n",
      "IPU available: False, using: 0 IPUs\n",
      "HPU available: False, using: 0 HPUs\n",
      "LOCAL_RANK: 0 - CUDA_VISIBLE_DEVICES: [0]\n",
      "\n",
      "  | Name      | Type             | Params\n",
      "-----------------------------------------------\n",
      "0 | accuracy  | BinaryAccuracy   | 0     \n",
      "1 | f1score   | BinaryF1Score    | 0     \n",
      "2 | model     | ResNet           | 23.5 M\n",
      "3 | fuzzyloss | CrossEntropyLoss | 0     \n",
      "-----------------------------------------------\n",
      "4.1 K     Trainable params\n",
      "23.5 M    Non-trainable params\n",
      "23.5 M    Total params\n",
      "94.049    Total estimated model params size (MB)\n",
      "/home/d/miniconda3/envs/tfg/lib/python3.7/site-packages/pytorch_lightning/trainer/connectors/data_connector.py:229: PossibleUserWarning: The dataloader, train_dataloader, does not have many workers which may be a bottleneck. Consider increasing the value of the `num_workers` argument` (try 12 which is the number of cpus on this machine) in the `DataLoader` init to improve performance.\n",
      "  category=PossibleUserWarning,\n"
     ]
    },
    {
     "data": {
      "application/vnd.jupyter.widget-view+json": {
       "model_id": "cc1bd18bc4cf4168a1b83bbec94e782d",
       "version_major": 2,
       "version_minor": 0
      },
      "text/plain": [
       "Training: 0it [00:00, ?it/s]"
      ]
     },
     "metadata": {},
     "output_type": "display_data"
    },
    {
     "name": "stderr",
     "output_type": "stream",
     "text": [
      "`Trainer.fit` stopped: `max_epochs=25` reached.\n"
     ]
    },
    {
     "data": {
      "application/vnd.jupyter.widget-view+json": {
       "model_id": "8a96164ba2a547138cc2269c2b722d23",
       "version_major": 2,
       "version_minor": 0
      },
      "text/plain": [
       "  0%|          | 0/565 [00:00<?, ?it/s]"
      ]
     },
     "metadata": {},
     "output_type": "display_data"
    },
    {
     "name": "stdout",
     "output_type": "stream",
     "text": [
      "              precision    recall  f1-score   support\n",
      "\n",
      "           0      0.875     0.987     0.927      4615\n",
      "           1      0.860     0.365     0.513      1027\n",
      "\n",
      "    accuracy                          0.874      5642\n",
      "   macro avg      0.867     0.676     0.720      5642\n",
      "weighted avg      0.872     0.874     0.852      5642\n",
      "\n",
      "------------fold nº 1----------------------\n"
     ]
    },
    {
     "name": "stderr",
     "output_type": "stream",
     "text": [
      "/home/d/miniconda3/envs/tfg/lib/python3.7/site-packages/pytorch_lightning/trainer/connectors/accelerator_connector.py:447: LightningDeprecationWarning: Setting `Trainer(gpus=1)` is deprecated in v1.7 and will be removed in v2.0. Please use `Trainer(accelerator='gpu', devices=1)` instead.\n",
      "  f\"Setting `Trainer(gpus={gpus!r})` is deprecated in v1.7 and will be removed\"\n",
      "/home/d/miniconda3/envs/tfg/lib/python3.7/site-packages/pytorch_lightning/trainer/connectors/accelerator_connector.py:467: UserWarning: The flag `devices=1` will be ignored, instead the device specific number 1 will be used\n",
      "  f\"The flag `devices={devices}` will be ignored, \"\n",
      "GPU available: True (cuda), used: True\n",
      "TPU available: False, using: 0 TPU cores\n",
      "IPU available: False, using: 0 IPUs\n",
      "HPU available: False, using: 0 HPUs\n",
      "LOCAL_RANK: 0 - CUDA_VISIBLE_DEVICES: [0]\n",
      "\n",
      "  | Name      | Type             | Params\n",
      "-----------------------------------------------\n",
      "0 | accuracy  | BinaryAccuracy   | 0     \n",
      "1 | f1score   | BinaryF1Score    | 0     \n",
      "2 | model     | ResNet           | 23.5 M\n",
      "3 | fuzzyloss | CrossEntropyLoss | 0     \n",
      "-----------------------------------------------\n",
      "4.1 K     Trainable params\n",
      "23.5 M    Non-trainable params\n",
      "23.5 M    Total params\n",
      "94.049    Total estimated model params size (MB)\n",
      "/home/d/miniconda3/envs/tfg/lib/python3.7/site-packages/pytorch_lightning/trainer/connectors/data_connector.py:229: PossibleUserWarning: The dataloader, train_dataloader, does not have many workers which may be a bottleneck. Consider increasing the value of the `num_workers` argument` (try 12 which is the number of cpus on this machine) in the `DataLoader` init to improve performance.\n",
      "  category=PossibleUserWarning,\n"
     ]
    },
    {
     "data": {
      "application/vnd.jupyter.widget-view+json": {
       "model_id": "b731326106cc46208c12fd9bd4f41f02",
       "version_major": 2,
       "version_minor": 0
      },
      "text/plain": [
       "Training: 0it [00:00, ?it/s]"
      ]
     },
     "metadata": {},
     "output_type": "display_data"
    },
    {
     "name": "stderr",
     "output_type": "stream",
     "text": [
      "`Trainer.fit` stopped: `max_epochs=25` reached.\n"
     ]
    },
    {
     "data": {
      "application/vnd.jupyter.widget-view+json": {
       "model_id": "bc728b304ac7458d9b930a351995db15",
       "version_major": 2,
       "version_minor": 0
      },
      "text/plain": [
       "  0%|          | 0/565 [00:00<?, ?it/s]"
      ]
     },
     "metadata": {},
     "output_type": "display_data"
    },
    {
     "name": "stdout",
     "output_type": "stream",
     "text": [
      "              precision    recall  f1-score   support\n",
      "\n",
      "           0      0.902     0.971     0.935      4637\n",
      "           1      0.794     0.513     0.624      1005\n",
      "\n",
      "    accuracy                          0.890      5642\n",
      "   macro avg      0.848     0.742     0.779      5642\n",
      "weighted avg      0.883     0.890     0.880      5642\n",
      "\n",
      "------------fold nº 2----------------------\n"
     ]
    },
    {
     "name": "stderr",
     "output_type": "stream",
     "text": [
      "/home/d/miniconda3/envs/tfg/lib/python3.7/site-packages/pytorch_lightning/trainer/connectors/accelerator_connector.py:447: LightningDeprecationWarning: Setting `Trainer(gpus=1)` is deprecated in v1.7 and will be removed in v2.0. Please use `Trainer(accelerator='gpu', devices=1)` instead.\n",
      "  f\"Setting `Trainer(gpus={gpus!r})` is deprecated in v1.7 and will be removed\"\n",
      "/home/d/miniconda3/envs/tfg/lib/python3.7/site-packages/pytorch_lightning/trainer/connectors/accelerator_connector.py:467: UserWarning: The flag `devices=1` will be ignored, instead the device specific number 1 will be used\n",
      "  f\"The flag `devices={devices}` will be ignored, \"\n",
      "GPU available: True (cuda), used: True\n",
      "TPU available: False, using: 0 TPU cores\n",
      "IPU available: False, using: 0 IPUs\n",
      "HPU available: False, using: 0 HPUs\n",
      "LOCAL_RANK: 0 - CUDA_VISIBLE_DEVICES: [0]\n",
      "\n",
      "  | Name      | Type             | Params\n",
      "-----------------------------------------------\n",
      "0 | accuracy  | BinaryAccuracy   | 0     \n",
      "1 | f1score   | BinaryF1Score    | 0     \n",
      "2 | model     | ResNet           | 23.5 M\n",
      "3 | fuzzyloss | CrossEntropyLoss | 0     \n",
      "-----------------------------------------------\n",
      "4.1 K     Trainable params\n",
      "23.5 M    Non-trainable params\n",
      "23.5 M    Total params\n",
      "94.049    Total estimated model params size (MB)\n",
      "/home/d/miniconda3/envs/tfg/lib/python3.7/site-packages/pytorch_lightning/trainer/connectors/data_connector.py:229: PossibleUserWarning: The dataloader, train_dataloader, does not have many workers which may be a bottleneck. Consider increasing the value of the `num_workers` argument` (try 12 which is the number of cpus on this machine) in the `DataLoader` init to improve performance.\n",
      "  category=PossibleUserWarning,\n"
     ]
    },
    {
     "data": {
      "application/vnd.jupyter.widget-view+json": {
       "model_id": "5558b886ddbf4547a0c0f09995fb593d",
       "version_major": 2,
       "version_minor": 0
      },
      "text/plain": [
       "Training: 0it [00:00, ?it/s]"
      ]
     },
     "metadata": {},
     "output_type": "display_data"
    },
    {
     "name": "stderr",
     "output_type": "stream",
     "text": [
      "`Trainer.fit` stopped: `max_epochs=25` reached.\n"
     ]
    },
    {
     "data": {
      "application/vnd.jupyter.widget-view+json": {
       "model_id": "ead446aa1f76452f901128564bf111c8",
       "version_major": 2,
       "version_minor": 0
      },
      "text/plain": [
       "  0%|          | 0/565 [00:00<?, ?it/s]"
      ]
     },
     "metadata": {},
     "output_type": "display_data"
    },
    {
     "name": "stdout",
     "output_type": "stream",
     "text": [
      "              precision    recall  f1-score   support\n",
      "\n",
      "           0      0.938     0.906     0.922      4650\n",
      "           1      0.620     0.718     0.665       992\n",
      "\n",
      "    accuracy                          0.873      5642\n",
      "   macro avg      0.779     0.812     0.793      5642\n",
      "weighted avg      0.882     0.873     0.876      5642\n",
      "\n",
      "------------fold nº 3----------------------\n"
     ]
    },
    {
     "name": "stderr",
     "output_type": "stream",
     "text": [
      "/home/d/miniconda3/envs/tfg/lib/python3.7/site-packages/pytorch_lightning/trainer/connectors/accelerator_connector.py:447: LightningDeprecationWarning: Setting `Trainer(gpus=1)` is deprecated in v1.7 and will be removed in v2.0. Please use `Trainer(accelerator='gpu', devices=1)` instead.\n",
      "  f\"Setting `Trainer(gpus={gpus!r})` is deprecated in v1.7 and will be removed\"\n",
      "/home/d/miniconda3/envs/tfg/lib/python3.7/site-packages/pytorch_lightning/trainer/connectors/accelerator_connector.py:467: UserWarning: The flag `devices=1` will be ignored, instead the device specific number 1 will be used\n",
      "  f\"The flag `devices={devices}` will be ignored, \"\n",
      "GPU available: True (cuda), used: True\n",
      "TPU available: False, using: 0 TPU cores\n",
      "IPU available: False, using: 0 IPUs\n",
      "HPU available: False, using: 0 HPUs\n",
      "LOCAL_RANK: 0 - CUDA_VISIBLE_DEVICES: [0]\n",
      "\n",
      "  | Name      | Type             | Params\n",
      "-----------------------------------------------\n",
      "0 | accuracy  | BinaryAccuracy   | 0     \n",
      "1 | f1score   | BinaryF1Score    | 0     \n",
      "2 | model     | ResNet           | 23.5 M\n",
      "3 | fuzzyloss | CrossEntropyLoss | 0     \n",
      "-----------------------------------------------\n",
      "4.1 K     Trainable params\n",
      "23.5 M    Non-trainable params\n",
      "23.5 M    Total params\n",
      "94.049    Total estimated model params size (MB)\n",
      "/home/d/miniconda3/envs/tfg/lib/python3.7/site-packages/pytorch_lightning/trainer/connectors/data_connector.py:229: PossibleUserWarning: The dataloader, train_dataloader, does not have many workers which may be a bottleneck. Consider increasing the value of the `num_workers` argument` (try 12 which is the number of cpus on this machine) in the `DataLoader` init to improve performance.\n",
      "  category=PossibleUserWarning,\n"
     ]
    },
    {
     "data": {
      "application/vnd.jupyter.widget-view+json": {
       "model_id": "ed554f990e224146a9d1c67118a4a0e4",
       "version_major": 2,
       "version_minor": 0
      },
      "text/plain": [
       "Training: 0it [00:00, ?it/s]"
      ]
     },
     "metadata": {},
     "output_type": "display_data"
    },
    {
     "name": "stderr",
     "output_type": "stream",
     "text": [
      "`Trainer.fit` stopped: `max_epochs=25` reached.\n"
     ]
    },
    {
     "data": {
      "application/vnd.jupyter.widget-view+json": {
       "model_id": "ef0c7f01057e4e2f96a39afe44139f03",
       "version_major": 2,
       "version_minor": 0
      },
      "text/plain": [
       "  0%|          | 0/565 [00:00<?, ?it/s]"
      ]
     },
     "metadata": {},
     "output_type": "display_data"
    },
    {
     "name": "stdout",
     "output_type": "stream",
     "text": [
      "              precision    recall  f1-score   support\n",
      "\n",
      "           0      0.954     0.834     0.890      4678\n",
      "           1      0.500     0.805     0.617       964\n",
      "\n",
      "    accuracy                          0.829      5642\n",
      "   macro avg      0.727     0.820     0.753      5642\n",
      "weighted avg      0.876     0.829     0.843      5642\n",
      "\n",
      "------------fold nº 4----------------------\n"
     ]
    },
    {
     "name": "stderr",
     "output_type": "stream",
     "text": [
      "/home/d/miniconda3/envs/tfg/lib/python3.7/site-packages/pytorch_lightning/trainer/connectors/accelerator_connector.py:447: LightningDeprecationWarning: Setting `Trainer(gpus=1)` is deprecated in v1.7 and will be removed in v2.0. Please use `Trainer(accelerator='gpu', devices=1)` instead.\n",
      "  f\"Setting `Trainer(gpus={gpus!r})` is deprecated in v1.7 and will be removed\"\n",
      "/home/d/miniconda3/envs/tfg/lib/python3.7/site-packages/pytorch_lightning/trainer/connectors/accelerator_connector.py:467: UserWarning: The flag `devices=1` will be ignored, instead the device specific number 1 will be used\n",
      "  f\"The flag `devices={devices}` will be ignored, \"\n",
      "GPU available: True (cuda), used: True\n",
      "TPU available: False, using: 0 TPU cores\n",
      "IPU available: False, using: 0 IPUs\n",
      "HPU available: False, using: 0 HPUs\n",
      "LOCAL_RANK: 0 - CUDA_VISIBLE_DEVICES: [0]\n",
      "\n",
      "  | Name      | Type             | Params\n",
      "-----------------------------------------------\n",
      "0 | accuracy  | BinaryAccuracy   | 0     \n",
      "1 | f1score   | BinaryF1Score    | 0     \n",
      "2 | model     | ResNet           | 23.5 M\n",
      "3 | fuzzyloss | CrossEntropyLoss | 0     \n",
      "-----------------------------------------------\n",
      "4.1 K     Trainable params\n",
      "23.5 M    Non-trainable params\n",
      "23.5 M    Total params\n",
      "94.049    Total estimated model params size (MB)\n",
      "/home/d/miniconda3/envs/tfg/lib/python3.7/site-packages/pytorch_lightning/trainer/connectors/data_connector.py:229: PossibleUserWarning: The dataloader, train_dataloader, does not have many workers which may be a bottleneck. Consider increasing the value of the `num_workers` argument` (try 12 which is the number of cpus on this machine) in the `DataLoader` init to improve performance.\n",
      "  category=PossibleUserWarning,\n"
     ]
    },
    {
     "data": {
      "application/vnd.jupyter.widget-view+json": {
       "model_id": "9427ef1042cb48b0a28eb3caa0101441",
       "version_major": 2,
       "version_minor": 0
      },
      "text/plain": [
       "Training: 0it [00:00, ?it/s]"
      ]
     },
     "metadata": {},
     "output_type": "display_data"
    },
    {
     "name": "stderr",
     "output_type": "stream",
     "text": [
      "`Trainer.fit` stopped: `max_epochs=25` reached.\n"
     ]
    },
    {
     "data": {
      "application/vnd.jupyter.widget-view+json": {
       "model_id": "2f36a58881864ba8b7bc84b9de9397b8",
       "version_major": 2,
       "version_minor": 0
      },
      "text/plain": [
       "  0%|          | 0/565 [00:00<?, ?it/s]"
      ]
     },
     "metadata": {},
     "output_type": "display_data"
    },
    {
     "name": "stdout",
     "output_type": "stream",
     "text": [
      "              precision    recall  f1-score   support\n",
      "\n",
      "           0      0.869     0.991     0.926      4663\n",
      "           1      0.868     0.289     0.434       979\n",
      "\n",
      "    accuracy                          0.869      5642\n",
      "   macro avg      0.869     0.640     0.680      5642\n",
      "weighted avg      0.869     0.869     0.841      5642\n",
      "\n"
     ]
    }
   ],
   "source": [
    "EPOCHS=25\n",
    "K=5\n",
    "GAMMA_0=2\n",
    "BATCH_SIZE=10\n",
    "\n",
    "def get_prediction(x, model: pl.LightningModule):\n",
    "    model.freeze() # prepares model for predicting\n",
    "    probabilities = torch.softmax(model(x), dim=1)\n",
    "    predicted_class = torch.argmax(probabilities, dim=1)\n",
    "    return predicted_class, probabilities\n",
    "\n",
    "kfold = KFold(n_splits=K, shuffle=True)\n",
    "for fold,(train_idx,val_idx) in enumerate(kfold.split(image_dataset)):\n",
    "    print(f'------------fold nº {fold}----------------------')\n",
    "    \n",
    "    train_subsampler = torch.utils.data.SubsetRandomSampler(train_idx)\n",
    "    val_subsampler = torch.utils.data.SubsetRandomSampler(val_idx)\n",
    "    trainloader = torch.utils.data.DataLoader(\n",
    "                      image_dataset, \n",
    "                      batch_size=BATCH_SIZE, sampler=train_subsampler)\n",
    "    testloader = torch.utils.data.DataLoader(\n",
    "                      image_dataset,\n",
    "                      batch_size=BATCH_SIZE, sampler=val_subsampler)\n",
    "    \n",
    "    # Train this fold\n",
    "    model = ResNetCustom(gamma=GAMMA_0, class_sizes=[c0_s,c1_s])\n",
    "    trainer = pl.Trainer(gpus=1, max_epochs=EPOCHS, devices=1, accelerator=\"gpu\")\n",
    "    trainer.fit(model, trainloader)\n",
    "    \n",
    "    # Test this fold\n",
    "    true_y, pred_y = [], []\n",
    "    for batch in tqdm(iter(testloader), total=len(testloader)):\n",
    "        x, y = batch\n",
    "        true_y.extend(y)\n",
    "        preds, probs = get_prediction(x, model)\n",
    "        pred_y.extend(preds.cpu())\n",
    "    \n",
    "    print(classification_report(true_y, pred_y, digits=3))"
   ]
  },
  {
   "cell_type": "code",
   "execution_count": 9,
   "id": "9b9b70e9",
   "metadata": {},
   "outputs": [
    {
     "data": {
      "image/png": "[encoded data removed]",
      "text/plain": [
       "<Figure size 640x480 with 1 Axes>"
      ]
     },
     "metadata": {},
     "output_type": "display_data"
    }
   ],
   "source": [
    "# Plot mean loss\n",
    "x_axis = [i for i in range(5643)]\n",
    "\n",
    "splits=50\n",
    "plt.plot(x_axis, [sum(mean_losses[i:i + splits])/splits for i in range(0, len(mean_losses), splits)], 'g', label='Loss')\n",
    "plt.plot(x_axis, [sum(mean_acc[i:i + splits])/splits for i in range(0, len(mean_acc), splits)], 'b', label='Accuracy')\n",
    "# plt.plot(x_axis, [sum(mean_f1s[i:i + splits])/splits for i in range(0, len(mean_f1s), splits)], 'r', label='F1-score')\n",
    "plt.title('Training metrics')\n",
    "plt.xlabel('Épocas')\n",
    "# plt.ylabel('Loss media')\n",
    "plt.legend()\n",
    "plt.show()"
   ]
  }
 ],
 "metadata": {
  "kernelspec": {
   "display_name": "Python 3 (ipykernel)",
   "language": "python",
   "name": "python3"
  },
  "language_info": {
   "codemirror_mode": {
    "name": "ipython",
    "version": 3
   },
   "file_extension": ".py",
   "mimetype": "text/x-python",
   "name": "python",
   "nbconvert_exporter": "python",
   "pygments_lexer": "ipython3",
   "version": "3.7.13"
  }
 },
 "nbformat": 4,
 "nbformat_minor": 5
}

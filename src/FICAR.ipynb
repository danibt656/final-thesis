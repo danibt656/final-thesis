{
 "cells": [
  {
   "cell_type": "code",
   "execution_count": 13,
   "id": "4ddd4569",
   "metadata": {},
   "outputs": [],
   "source": [
    "import numpy as np\n",
    "import matplotlib.pyplot as plt\n",
    "import tensorflow as tf\n",
    "from tensorflow.keras.losses import CategoricalCrossentropy\n",
    "from System import FICAR"
   ]
  },
  {
   "cell_type": "markdown",
   "id": "a803511e",
   "metadata": {},
   "source": [
    "# System"
   ]
  },
  {
   "cell_type": "code",
   "execution_count": 6,
   "id": "2ad05420",
   "metadata": {},
   "outputs": [
    {
     "name": "stdout",
     "output_type": "stream",
     "text": [
      "P(0,1)-> Fit with pair ('male_w', 'female_w')\n",
      "P(0,2)-> Fit with pair ('male_w', 'male_b')\n",
      "P(0,3)-> Fit with pair ('male_w', 'female_b')\n",
      "P(1,2)-> Fit with pair ('female_w', 'male_b')\n",
      "P(1,3)-> Fit with pair ('female_w', 'female_b')\n",
      "P(2,3)-> Fit with pair ('male_b', 'female_b')\n"
     ]
    }
   ],
   "source": [
    "system = FICAR(n_classes=4, class_names=['male_w', 'female_w', 'male_b', 'female_b'])\n",
    "system.train(\"dummyDL\")"
   ]
  },
  {
   "cell_type": "code",
   "execution_count": 7,
   "id": "aea66b22",
   "metadata": {},
   "outputs": [
    {
     "name": "stdout",
     "output_type": "stream",
     "text": [
      "[[0.         0.3120504  0.95452845 0.81355755]\n",
      " [0.6879496  0.         0.24934205 0.20867684]\n",
      " [0.04547155 0.75065795 0.         0.10901914]\n",
      " [0.18644245 0.79132316 0.89098086 0.        ]]\n",
      "male_b\n"
     ]
    }
   ],
   "source": [
    "y_pred = system.predict('dummyIns')\n",
    "print(system.decisions)\n",
    "print(y_pred)"
   ]
  },
  {
   "cell_type": "code",
   "execution_count": null,
   "id": "6ce7edfd",
   "metadata": {},
   "outputs": [],
   "source": []
  },
  {
   "cell_type": "code",
   "execution_count": null,
   "id": "431964cf",
   "metadata": {},
   "outputs": [],
   "source": []
  },
  {
   "cell_type": "code",
   "execution_count": null,
   "id": "5b3727e8",
   "metadata": {},
   "outputs": [],
   "source": []
  },
  {
   "cell_type": "markdown",
   "id": "4eabf350",
   "metadata": {},
   "source": [
    "# Fuzzy Loss Function"
   ]
  },
  {
   "cell_type": "code",
   "execution_count": 28,
   "id": "3f60cf8f",
   "metadata": {},
   "outputs": [],
   "source": [
    "from FuzzyLoss import FuzzyLoss\n",
    "\n",
    "y_true = tf.constant(tf.keras.utils.to_categorical([4, 1]))\n",
    "y_pred = tf.constant([[0 , .7 , 0 ,0 ,  .3], [0 , .6 , .3 ,0 ,  .1]])"
   ]
  },
  {
   "cell_type": "code",
   "execution_count": 29,
   "id": "cd054b11",
   "metadata": {},
   "outputs": [
    {
     "name": "stdout",
     "output_type": "stream",
     "text": [
      "TF-CELoss :  0.8573992\n",
      "FuzzyLoss :  0.66519517\n"
     ]
    }
   ],
   "source": [
    "print('TF-CELoss : ', CategoricalCrossentropy()(y_true, y_pred).numpy())\n",
    "print('FuzzyLoss : ', FuzzyLoss(gamma=0.5)(y_true, y_pred).numpy())"
   ]
  },
  {
   "cell_type": "code",
   "execution_count": null,
   "id": "f23bca2e",
   "metadata": {},
   "outputs": [],
   "source": []
  },
  {
   "cell_type": "code",
   "execution_count": null,
   "id": "d24e3da5",
   "metadata": {},
   "outputs": [],
   "source": []
  },
  {
   "cell_type": "code",
   "execution_count": null,
   "id": "036286fd",
   "metadata": {},
   "outputs": [],
   "source": []
  },
  {
   "cell_type": "code",
   "execution_count": null,
   "id": "bb20910e",
   "metadata": {},
   "outputs": [],
   "source": []
  }
 ],
 "metadata": {
  "kernelspec": {
   "display_name": "Python 3 (ipykernel)",
   "language": "python",
   "name": "python3"
  },
  "language_info": {
   "codemirror_mode": {
    "name": "ipython",
    "version": 3
   },
   "file_extension": ".py",
   "mimetype": "text/x-python",
   "name": "python",
   "nbconvert_exporter": "python",
   "pygments_lexer": "ipython3",
   "version": "3.9.15"
  }
 },
 "nbformat": 4,
 "nbformat_minor": 5
}

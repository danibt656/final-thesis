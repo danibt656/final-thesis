{
 "cells": [
  {
   "cell_type": "code",
   "execution_count": 1,
   "id": "4ddd4569",
   "metadata": {},
   "outputs": [],
   "source": [
    "import numpy as np\n",
    "\n",
    "from ficar import FICAR"
   ]
  },
  {
   "cell_type": "code",
   "execution_count": 2,
   "id": "2ad05420",
   "metadata": {},
   "outputs": [
    {
     "name": "stdout",
     "output_type": "stream",
     "text": [
      "P(0,1)-> Fit with pair ('male_w', 'female_w')\n",
      "P(0,2)-> Fit with pair ('male_w', 'male_b')\n",
      "P(0,3)-> Fit with pair ('male_w', 'female_b')\n",
      "P(1,2)-> Fit with pair ('female_w', 'male_b')\n",
      "P(1,3)-> Fit with pair ('female_w', 'female_b')\n",
      "P(2,3)-> Fit with pair ('male_b', 'female_b')\n"
     ]
    }
   ],
   "source": [
    "system = FICAR(n_classes=4, class_names=['male_w', 'female_w', 'male_b', 'female_b'])\n",
    "system.train(\"dummyDL\")"
   ]
  },
  {
   "cell_type": "code",
   "execution_count": 3,
   "id": "aea66b22",
   "metadata": {},
   "outputs": [
    {
     "name": "stdout",
     "output_type": "stream",
     "text": [
      "ARGMAX IN (0,3)\n",
      "[[0.         0.51111708 0.13390356 0.90626084]\n",
      " [0.48888292 0.         0.59429718 0.45532822]\n",
      " [0.86609644 0.40570282 0.         0.84104569]\n",
      " [0.09373916 0.54467178 0.15895431 0.        ]]\n",
      "female_b\n"
     ]
    }
   ],
   "source": [
    "y_pred = system.predict('dummyIns')\n",
    "print(system.decisions)\n",
    "print(y_pred)"
   ]
  },
  {
   "cell_type": "code",
   "execution_count": null,
   "id": "6ce7edfd",
   "metadata": {},
   "outputs": [],
   "source": []
  },
  {
   "cell_type": "code",
   "execution_count": null,
   "id": "431964cf",
   "metadata": {},
   "outputs": [],
   "source": []
  },
  {
   "cell_type": "code",
   "execution_count": null,
   "id": "5b3727e8",
   "metadata": {},
   "outputs": [],
   "source": []
  },
  {
   "cell_type": "code",
   "execution_count": null,
   "id": "fa8d542b",
   "metadata": {},
   "outputs": [],
   "source": []
  },
  {
   "cell_type": "code",
   "execution_count": null,
   "id": "3f60cf8f",
   "metadata": {},
   "outputs": [],
   "source": []
  },
  {
   "cell_type": "code",
   "execution_count": null,
   "id": "cd054b11",
   "metadata": {},
   "outputs": [],
   "source": []
  },
  {
   "cell_type": "code",
   "execution_count": null,
   "id": "e6d21d43",
   "metadata": {},
   "outputs": [],
   "source": []
  }
 ],
 "metadata": {
  "kernelspec": {
   "display_name": "Python [conda env:tfg] *",
   "language": "python",
   "name": "conda-env-tfg-py"
  },
  "language_info": {
   "codemirror_mode": {
    "name": "ipython",
    "version": 3
   },
   "file_extension": ".py",
   "mimetype": "text/x-python",
   "name": "python",
   "nbconvert_exporter": "python",
   "pygments_lexer": "ipython3",
   "version": "3.7.13"
  }
 },
 "nbformat": 4,
 "nbformat_minor": 5
}

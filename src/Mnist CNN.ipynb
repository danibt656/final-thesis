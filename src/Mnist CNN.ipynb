{
 "cells": [
  {
   "cell_type": "markdown",
   "id": "c4db2ab1",
   "metadata": {},
   "source": [
    "## Test of a CNN with the Mnist handwritten number dataset\n",
    "\n",
    "Based on [this tutorial](https://victorzhou.com/blog/keras-cnn-tutorial/)."
   ]
  },
  {
   "cell_type": "markdown",
   "id": "5dbd4f5b",
   "metadata": {},
   "source": [
    "1. Setup & prepare data"
   ]
  },
  {
   "cell_type": "code",
   "execution_count": 35,
   "id": "3a86dd0a",
   "metadata": {},
   "outputs": [
    {
     "name": "stdout",
     "output_type": "stream",
     "text": [
      "(60000, 28, 28, 1)\n",
      "(10000, 28, 28, 1)\n"
     ]
    }
   ],
   "source": [
    "import numpy as np\n",
    "import mnist\n",
    "from tensorflow import keras\n",
    "\n",
    "train_images = mnist.train_images()\n",
    "train_labels = mnist.train_labels()\n",
    "test_images = mnist.test_images()\n",
    "test_labels = mnist.test_labels()\n",
    "\n",
    "# Normalize\n",
    "train_images = (train_images / 255) - 0.5\n",
    "test_images = (test_images / 255) - 0.5\n",
    "\n",
    "# Reshape\n",
    "train_images = np.expand_dims(train_images, axis=3)\n",
    "test_images = np.expand_dims(test_images, axis=3)\n",
    "\n",
    "print(train_images.shape)\n",
    "print(test_images.shape)"
   ]
  },
  {
   "cell_type": "markdown",
   "id": "c204be55",
   "metadata": {},
   "source": [
    "2. Building the Model"
   ]
  },
  {
   "cell_type": "code",
   "execution_count": 48,
   "id": "87a67b40",
   "metadata": {},
   "outputs": [],
   "source": [
    "from tensorflow.keras.models import Sequential\n",
    "from tensorflow.keras.layers import Conv2D, MaxPooling2D, Dense, Flatten\n",
    "from tensorflow.keras.layers import Dropout\n",
    "\n",
    "num_filters = 8\n",
    "filter_size = 3\n",
    "pool_size = 2\n",
    "\n",
    "model = Sequential([\n",
    "    # 1st layer MUST include shape of input\n",
    "    Conv2D(num_filters, filter_size, activation='relu', input_shape=(28,28,1)),\n",
    "    Conv2D(num_filters, filter_size, activation='relu',),\n",
    "    MaxPooling2D(pool_size=pool_size),\n",
    "    Dropout(0.5),\n",
    "    Flatten(),\n",
    "    Dense(64, activation='relu'), # Fully Connected layer\n",
    "    Dense(10, activation='softmax'), # Output softmax layer of 10 nodes (numbers 0..9)\n",
    "])"
   ]
  },
  {
   "cell_type": "markdown",
   "id": "eff230cb",
   "metadata": {},
   "source": [
    "3. Compiling the model"
   ]
  },
  {
   "cell_type": "code",
   "execution_count": 49,
   "id": "25bfa9d7",
   "metadata": {},
   "outputs": [],
   "source": [
    "model.compile(\n",
    "    'adam', # optimizer\n",
    "    loss='categorical_crossentropy', # loss function\n",
    "    metrics=['accuracy'],\n",
    ")"
   ]
  },
  {
   "cell_type": "markdown",
   "id": "14719e5c",
   "metadata": {},
   "source": [
    "4. Training the model"
   ]
  },
  {
   "cell_type": "code",
   "execution_count": 50,
   "id": "d3fd717a",
   "metadata": {},
   "outputs": [
    {
     "name": "stdout",
     "output_type": "stream",
     "text": [
      "Epoch 1/4\n",
      "1875/1875 [==============================] - 12s 6ms/step - loss: 0.5668 - accuracy: 0.8241 - val_loss: 0.0683 - val_accuracy: 0.9782\n",
      "Epoch 2/4\n",
      "1875/1875 [==============================] - 12s 6ms/step - loss: 0.1179 - accuracy: 0.9629 - val_loss: 0.0456 - val_accuracy: 0.9846\n",
      "Epoch 3/4\n",
      "1875/1875 [==============================] - 13s 7ms/step - loss: 0.0839 - accuracy: 0.9737 - val_loss: 0.0400 - val_accuracy: 0.9884\n",
      "Epoch 4/4\n",
      "1875/1875 [==============================] - 12s 7ms/step - loss: 0.0723 - accuracy: 0.9767 - val_loss: 0.0334 - val_accuracy: 0.9890\n"
     ]
    },
    {
     "data": {
      "text/plain": [
       "<tensorflow.python.keras.callbacks.History at 0x7f345058a370>"
      ]
     },
     "execution_count": 50,
     "metadata": {},
     "output_type": "execute_result"
    }
   ],
   "source": [
    "from tensorflow.keras.utils import to_categorical\n",
    "\n",
    "model.fit(\n",
    "    train_images,\n",
    "    to_categorical(train_labels), # Convert labels (2) into 10-dim arrays ([0,0,1,0,0,0,0,0,0,0])\n",
    "    epochs=4,\n",
    "    validation_data=(test_images, to_categorical(test_labels))\n",
    ")"
   ]
  },
  {
   "cell_type": "markdown",
   "id": "b080c4dc",
   "metadata": {},
   "source": [
    "5. Exporting the model"
   ]
  },
  {
   "cell_type": "code",
   "execution_count": 51,
   "id": "072545aa",
   "metadata": {},
   "outputs": [],
   "source": [
    "model.save_weights('./models/mnist.h5')"
   ]
  },
  {
   "cell_type": "markdown",
   "id": "ac227774",
   "metadata": {},
   "source": [
    "6. Loading the saved model"
   ]
  },
  {
   "cell_type": "code",
   "execution_count": 55,
   "id": "52e9b82c",
   "metadata": {},
   "outputs": [
    {
     "name": "stdout",
     "output_type": "stream",
     "text": [
      "WARNING:tensorflow:6 out of the last 6 calls to <function Model.make_predict_function.<locals>.predict_function at 0x7f34500ff310> triggered tf.function retracing. Tracing is expensive and the excessive number of tracings could be due to (1) creating @tf.function repeatedly in a loop, (2) passing tensors with different shapes, (3) passing Python objects instead of tensors. For (1), please define your @tf.function outside of the loop. For (2), @tf.function has experimental_relax_shapes=True option that relaxes argument shapes that can avoid unnecessary retracing. For (3), please refer to https://www.tensorflow.org/guide/function#controlling_retracing and https://www.tensorflow.org/api_docs/python/tf/function for  more details.\n",
      "[7 2 1 0 4]\n",
      "[7 2 1 0 4]\n"
     ]
    }
   ],
   "source": [
    "from tensorflow.keras.models import Sequential\n",
    "from tensorflow.keras.layers import Conv2D, MaxPooling2D, Dense, Flatten\n",
    "\n",
    "num_filters = 8\n",
    "filter_size = 3\n",
    "pool_size = 2\n",
    "\n",
    "# Build the model.\n",
    "model = Sequential([\n",
    "    Conv2D(num_filters, filter_size, activation='relu', input_shape=(28,28,1)),\n",
    "    Conv2D(num_filters, filter_size, activation='relu',),\n",
    "    MaxPooling2D(pool_size=pool_size),\n",
    "    Dropout(0.5),\n",
    "    Flatten(),\n",
    "    Dense(64, activation='relu'), # Fully Connected layer\n",
    "    Dense(10, activation='softmax'), # Output softmax layer of 10 nodes (numbers 0..9)\n",
    "])\n",
    "\n",
    "# Load the model's saved weights.\n",
    "model.load_weights('./models/mnist.h5')\n",
    "\n",
    "# Predict on the first 5 test images.\n",
    "predictions = model.predict(test_images[:5])\n",
    "\n",
    "# Print our model's predictions.\n",
    "print(np.argmax(predictions, axis=1)) # [7, 2, 1, 0, 4]\n",
    "\n",
    "# Check our predictions against the ground truths.\n",
    "print(test_labels[:5]) # [7, 2, 1, 0, 4]"
   ]
  },
  {
   "cell_type": "code",
   "execution_count": null,
   "id": "5c1026d3",
   "metadata": {},
   "outputs": [],
   "source": []
  }
 ],
 "metadata": {
  "kernelspec": {
   "display_name": "Python [conda env:tensorflow] *",
   "language": "python",
   "name": "conda-env-tensorflow-py"
  },
  "language_info": {
   "codemirror_mode": {
    "name": "ipython",
    "version": 3
   },
   "file_extension": ".py",
   "mimetype": "text/x-python",
   "name": "python",
   "nbconvert_exporter": "python",
   "pygments_lexer": "ipython3",
   "version": "3.8.13"
  }
 },
 "nbformat": 4,
 "nbformat_minor": 5
}

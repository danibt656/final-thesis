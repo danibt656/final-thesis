{
 "cells": [
  {
   "cell_type": "markdown",
   "id": "c4db2ab1",
   "metadata": {},
   "source": [
    "## Test of a CNN with the Mnist handwritten number dataset\n",
    "\n",
    "Based on [this tutorial](https://victorzhou.com/blog/keras-cnn-tutorial/)."
   ]
  },
  {
   "cell_type": "markdown",
   "id": "5dbd4f5b",
   "metadata": {},
   "source": [
    "1. Setup & prepare data"
   ]
  },
  {
   "cell_type": "code",
   "execution_count": 1,
   "id": "3a86dd0a",
   "metadata": {},
   "outputs": [
    {
     "name": "stderr",
     "output_type": "stream",
     "text": [
      "2022-08-16 01:49:27.888581: I tensorflow/stream_executor/platform/default/dso_loader.cc:49] Successfully opened dynamic library libcudart.so.10.1\n"
     ]
    },
    {
     "name": "stdout",
     "output_type": "stream",
     "text": [
      "(60000, 28, 28, 1)\n",
      "(10000, 28, 28, 1)\n"
     ]
    }
   ],
   "source": [
    "import numpy as np\n",
    "import mnist\n",
    "from tensorflow import keras\n",
    "\n",
    "train_images = mnist.train_images()\n",
    "train_labels = mnist.train_labels()\n",
    "test_images = mnist.test_images()\n",
    "test_labels = mnist.test_labels()\n",
    "\n",
    "# Normalize\n",
    "train_images = (train_images / 255) - 0.5\n",
    "test_images = (test_images / 255) - 0.5\n",
    "\n",
    "# Reshape\n",
    "train_images = np.expand_dims(train_images, axis=3)\n",
    "test_images = np.expand_dims(test_images, axis=3)\n",
    "\n",
    "print(train_images.shape)\n",
    "print(test_images.shape)"
   ]
  },
  {
   "cell_type": "markdown",
   "id": "c204be55",
   "metadata": {},
   "source": [
    "2. Building the Model"
   ]
  },
  {
   "cell_type": "code",
   "execution_count": 3,
   "id": "87a67b40",
   "metadata": {},
   "outputs": [],
   "source": [
    "from tensorflow.keras.models import Sequential\n",
    "from tensorflow.keras.layers import Conv2D, MaxPooling2D, Dense, Flatten\n",
    "from tensorflow.keras.layers import Dropout\n",
    "\n",
    "num_filters = 8\n",
    "filter_size = 3\n",
    "pool_size = 2\n",
    "\n",
    "model = Sequential([\n",
    "    # 1st layer MUST include shape of input\n",
    "    Conv2D(num_filters, filter_size, activation='relu', input_shape=(28,28,1)),\n",
    "    Conv2D(num_filters, filter_size, activation='relu',),\n",
    "    MaxPooling2D(pool_size=pool_size),\n",
    "    Dropout(0.5),\n",
    "    Flatten(),\n",
    "    Dense(64, activation='relu'), # Fully Connected layer\n",
    "    Dense(10, activation='softmax'), # Output softmax layer of 10 nodes (numbers 0..9)\n",
    "])"
   ]
  },
  {
   "cell_type": "markdown",
   "id": "72959035",
   "metadata": {},
   "source": [
    "3. Compiling the model"
   ]
  },
  {
   "cell_type": "code",
   "execution_count": 5,
   "id": "25bfa9d7",
   "metadata": {},
   "outputs": [],
   "source": [
    "model.compile(\n",
    "    'adam', # optimizer\n",
    "    loss='categorical_crossentropy', # loss function\n",
    "    metrics=['accuracy'],\n",
    ")"
   ]
  },
  {
   "cell_type": "markdown",
   "id": "899cf341",
   "metadata": {},
   "source": [
    "4. Training the model"
   ]
  },
  {
   "cell_type": "code",
   "execution_count": 8,
   "id": "d3fd717a",
   "metadata": {},
   "outputs": [
    {
     "name": "stdout",
     "output_type": "stream",
     "text": [
      "Epoch 1/3\n",
      "1875/1875 [==============================] - 14s 7ms/step - loss: 0.0518 - accuracy: 0.9825 - val_loss: 0.0291 - val_accuracy: 0.9910\n",
      "Epoch 2/3\n",
      "1875/1875 [==============================] - 14s 7ms/step - loss: 0.0479 - accuracy: 0.9839 - val_loss: 0.0280 - val_accuracy: 0.9903\n",
      "Epoch 3/3\n",
      "1875/1875 [==============================] - 13s 7ms/step - loss: 0.0467 - accuracy: 0.9844 - val_loss: 0.0323 - val_accuracy: 0.9899\n"
     ]
    },
    {
     "data": {
      "text/plain": [
       "<tensorflow.python.keras.callbacks.History at 0x7f33606bb2e0>"
      ]
     },
     "execution_count": 8,
     "metadata": {},
     "output_type": "execute_result"
    }
   ],
   "source": [
    "from tensorflow.keras.utils import to_categorical\n",
    "\n",
    "model.fit(\n",
    "    train_images,\n",
    "    to_categorical(train_labels), # Convert labels (2) into 10-dim arrays ([0,0,1,0,0,0,0,0,0,0])\n",
    "    epochs=3,\n",
    "    validation_data=(test_images, to_categorical(test_labels))\n",
    ")"
   ]
  },
  {
   "cell_type": "markdown",
   "id": "65e65b09",
   "metadata": {},
   "source": [
    "5. Exporting the model"
   ]
  },
  {
   "cell_type": "code",
   "execution_count": 9,
   "id": "83071935",
   "metadata": {},
   "outputs": [],
   "source": [
    "model.save_weights('./models/mnist.h5')"
   ]
  },
  {
   "cell_type": "markdown",
   "id": "64456918",
   "metadata": {},
   "source": [
    "6. Loading the saved model"
   ]
  },
  {
   "cell_type": "code",
   "execution_count": 10,
   "id": "2119ab1c",
   "metadata": {},
   "outputs": [
    {
     "name": "stdout",
     "output_type": "stream",
     "text": [
      "[7 2 1 0 4]\n",
      "[7 2 1 0 4]\n"
     ]
    }
   ],
   "source": [
    "from tensorflow.keras.models import Sequential\n",
    "from tensorflow.keras.layers import Conv2D, MaxPooling2D, Dense, Flatten\n",
    "\n",
    "num_filters = 8\n",
    "filter_size = 3\n",
    "pool_size = 2\n",
    "\n",
    "# Build the model.\n",
    "model = Sequential([\n",
    "    Conv2D(num_filters, filter_size, activation='relu', input_shape=(28,28,1)),\n",
    "    Conv2D(num_filters, filter_size, activation='relu',),\n",
    "    MaxPooling2D(pool_size=pool_size),\n",
    "    Dropout(0.5),\n",
    "    Flatten(),\n",
    "    Dense(64, activation='relu'), # Fully Connected layer\n",
    "    Dense(10, activation='softmax'), # Output softmax layer of 10 nodes (numbers 0..9)\n",
    "])\n",
    "\n",
    "# Load the model's saved weights.\n",
    "model.load_weights('./models/mnist.h5')\n",
    "\n",
    "# Predict on the first 5 test images.\n",
    "predictions = model.predict(test_images[:5])\n",
    "\n",
    "# Print our model's predictions.\n",
    "print(np.argmax(predictions, axis=1)) # [7, 2, 1, 0, 4]\n",
    "\n",
    "# Check our predictions against the ground truths.\n",
    "print(test_labels[:5]) # [7, 2, 1, 0, 4]"
   ]
  },
  {
   "cell_type": "code",
   "execution_count": null,
   "id": "c6b9bfb4",
   "metadata": {},
   "outputs": [],
   "source": []
  }
 ],
 "metadata": {
  "kernelspec": {
   "display_name": "Python [conda env:tensorflow] *",
   "language": "python",
   "name": "conda-env-tensorflow-py"
  },
  "language_info": {
   "codemirror_mode": {
    "name": "ipython",
    "version": 3
   },
   "file_extension": ".py",
   "mimetype": "text/x-python",
   "name": "python",
   "nbconvert_exporter": "python",
   "pygments_lexer": "ipython3",
   "version": "3.8.13"
  }
 },
 "nbformat": 4,
 "nbformat_minor": 5
}

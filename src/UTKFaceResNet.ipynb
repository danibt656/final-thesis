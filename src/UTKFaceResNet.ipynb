{
 "cells": [
  {
   "cell_type": "code",
   "execution_count": 1,
   "id": "ae52c049",
   "metadata": {},
   "outputs": [
    {
     "name": "stderr",
     "output_type": "stream",
     "text": [
      "/home/d/miniconda3/envs/tfg/lib/python3.7/site-packages/skimage/io/manage_plugins.py:23: UserWarning: Your installed pillow version is < 8.1.2. Several security issues (CVE-2021-27921, CVE-2021-25290, CVE-2021-25291, CVE-2021-25293, and more) have been fixed in pillow 8.1.2 or higher. We recommend to upgrade this library.\n",
      "  from .collection import imread_collection_wrapper\n"
     ]
    }
   ],
   "source": [
    "import numpy as np\n",
    "import pandas as pd\n",
    "import matplotlib.pyplot as plt\n",
    "\n",
    "from torchvision.transforms import ToPILImage\n",
    "\n",
    "from dataloader import UTKFaceDS, MNISTDS, parse_utkface, parse_mnist\n",
    "from model import ResNetModel"
   ]
  },
  {
   "cell_type": "markdown",
   "id": "28e4aaa7",
   "metadata": {},
   "source": [
    "## Dataset"
   ]
  },
  {
   "cell_type": "markdown",
   "id": "cbbc5c96",
   "metadata": {},
   "source": [
    "### UTKFace"
   ]
  },
  {
   "cell_type": "code",
   "execution_count": 2,
   "id": "e0c1b970",
   "metadata": {},
   "outputs": [],
   "source": [
    "data = UTKFaceDS(dataset_folder_name=\"../data/UTKFace/Images\",\n",
    "                 parse_method=parse_utkface,\n",
    "                 model_res=(224, 224),\n",
    "                 batch_size=64,\n",
    "                 test_size=0.3\n",
    "                )\n",
    "face_dataset = data.dataset"
   ]
  },
  {
   "cell_type": "code",
   "execution_count": null,
   "id": "9697277a",
   "metadata": {},
   "outputs": [],
   "source": [
    "to_pil_img = ToPILImage()\n",
    "start = 18\n",
    "for i in range(start,len(face_dataset)):\n",
    "    sample = face_dataset[i]\n",
    "    label = sample['label']\n",
    "\n",
    "    print(i, np.array(sample['image']).shape, label)\n",
    "    display(to_pil_img(sample['image']))\n",
    "\n",
    "    if i == start+2:\n",
    "        break"
   ]
  },
  {
   "cell_type": "markdown",
   "id": "2415e1eb",
   "metadata": {},
   "source": [
    "### MNIST"
   ]
  },
  {
   "cell_type": "code",
   "execution_count": 3,
   "id": "de28dcb1",
   "metadata": {},
   "outputs": [
    {
     "data": {
      "text/html": [
       "<div>\n",
       "<style scoped>\n",
       "    .dataframe tbody tr th:only-of-type {\n",
       "        vertical-align: middle;\n",
       "    }\n",
       "\n",
       "    .dataframe tbody tr th {\n",
       "        vertical-align: top;\n",
       "    }\n",
       "\n",
       "    .dataframe thead th {\n",
       "        text-align: right;\n",
       "    }\n",
       "</style>\n",
       "<table border=\"1\" class=\"dataframe\">\n",
       "  <thead>\n",
       "    <tr style=\"text-align: right;\">\n",
       "      <th></th>\n",
       "      <th>num</th>\n",
       "      <th>file</th>\n",
       "    </tr>\n",
       "  </thead>\n",
       "  <tbody>\n",
       "    <tr>\n",
       "      <th>0</th>\n",
       "      <td>0</td>\n",
       "      <td>../data/MNIST/Images/0_0.jpg</td>\n",
       "    </tr>\n",
       "    <tr>\n",
       "      <th>1</th>\n",
       "      <td>0</td>\n",
       "      <td>../data/MNIST/Images/0_1.jpg</td>\n",
       "    </tr>\n",
       "    <tr>\n",
       "      <th>2</th>\n",
       "      <td>0</td>\n",
       "      <td>../data/MNIST/Images/0_10.jpg</td>\n",
       "    </tr>\n",
       "    <tr>\n",
       "      <th>3</th>\n",
       "      <td>0</td>\n",
       "      <td>../data/MNIST/Images/0_100.jpg</td>\n",
       "    </tr>\n",
       "    <tr>\n",
       "      <th>4</th>\n",
       "      <td>0</td>\n",
       "      <td>../data/MNIST/Images/0_1000.jpg</td>\n",
       "    </tr>\n",
       "    <tr>\n",
       "      <th>...</th>\n",
       "      <td>...</td>\n",
       "      <td>...</td>\n",
       "    </tr>\n",
       "    <tr>\n",
       "      <th>64117</th>\n",
       "      <td>9</td>\n",
       "      <td>../data/MNIST/Images/9_995.jpg</td>\n",
       "    </tr>\n",
       "    <tr>\n",
       "      <th>64118</th>\n",
       "      <td>9</td>\n",
       "      <td>../data/MNIST/Images/9_996.jpg</td>\n",
       "    </tr>\n",
       "    <tr>\n",
       "      <th>64119</th>\n",
       "      <td>9</td>\n",
       "      <td>../data/MNIST/Images/9_997.jpg</td>\n",
       "    </tr>\n",
       "    <tr>\n",
       "      <th>64120</th>\n",
       "      <td>9</td>\n",
       "      <td>../data/MNIST/Images/9_998.jpg</td>\n",
       "    </tr>\n",
       "    <tr>\n",
       "      <th>64121</th>\n",
       "      <td>9</td>\n",
       "      <td>../data/MNIST/Images/9_999.jpg</td>\n",
       "    </tr>\n",
       "  </tbody>\n",
       "</table>\n",
       "<p>64122 rows × 2 columns</p>\n",
       "</div>"
      ],
      "text/plain": [
       "       num                             file\n",
       "0        0     ../data/MNIST/Images/0_0.jpg\n",
       "1        0     ../data/MNIST/Images/0_1.jpg\n",
       "2        0    ../data/MNIST/Images/0_10.jpg\n",
       "3        0   ../data/MNIST/Images/0_100.jpg\n",
       "4        0  ../data/MNIST/Images/0_1000.jpg\n",
       "...    ...                              ...\n",
       "64117    9   ../data/MNIST/Images/9_995.jpg\n",
       "64118    9   ../data/MNIST/Images/9_996.jpg\n",
       "64119    9   ../data/MNIST/Images/9_997.jpg\n",
       "64120    9   ../data/MNIST/Images/9_998.jpg\n",
       "64121    9   ../data/MNIST/Images/9_999.jpg\n",
       "\n",
       "[64122 rows x 2 columns]"
      ]
     },
     "execution_count": 3,
     "metadata": {},
     "output_type": "execute_result"
    }
   ],
   "source": [
    "data = MNISTDS(dataset_folder_name=\"../data/MNIST/Images\",\n",
    "             parse_method=parse_mnist,\n",
    "             model_res=(224, 224),\n",
    "             batch_size=64,\n",
    "             test_size=0.3\n",
    "            )\n",
    "mnist_dataset = data.dataset\n",
    "mnist_dataset.df"
   ]
  },
  {
   "cell_type": "code",
   "execution_count": null,
   "id": "15758d57",
   "metadata": {},
   "outputs": [],
   "source": [
    "to_pil_img = ToPILImage()\n",
    "start = 30000\n",
    "for i in range(start,len(mnist_dataset)):\n",
    "    sample = mnist_dataset[i]\n",
    "    label = sample['label']\n",
    "\n",
    "    print(i, np.array(sample['image']).shape, label)\n",
    "    display(to_pil_img(sample['image']))\n",
    "\n",
    "    if i == start+2:\n",
    "        break"
   ]
  },
  {
   "cell_type": "markdown",
   "id": "e505fbf9",
   "metadata": {},
   "source": [
    "## Model"
   ]
  },
  {
   "cell_type": "code",
   "execution_count": 3,
   "id": "1f3b739e",
   "metadata": {},
   "outputs": [],
   "source": [
    "resnet = ResNetModel(in_ch=1, out_f=10, n_epochs=3, use_gpu=True)"
   ]
  },
  {
   "cell_type": "code",
   "execution_count": null,
   "id": "71102bd6",
   "metadata": {},
   "outputs": [],
   "source": [
    "resnet.fit(data.dataloaders)"
   ]
  },
  {
   "cell_type": "code",
   "execution_count": null,
   "id": "00bc92bc",
   "metadata": {},
   "outputs": [],
   "source": []
  },
  {
   "cell_type": "code",
   "execution_count": null,
   "id": "9c2a16c5",
   "metadata": {},
   "outputs": [
    {
     "name": "stdout",
     "output_type": "stream",
     "text": [
      "Batch[0]\n"
     ]
    }
   ],
   "source": [
    "resnet.predict(data.dataloaders # And so it dies here too :("
   ]
  },
  {
   "cell_type": "code",
   "execution_count": null,
   "id": "8903077d",
   "metadata": {},
   "outputs": [],
   "source": []
  },
  {
   "cell_type": "code",
   "execution_count": null,
   "id": "365b3541",
   "metadata": {},
   "outputs": [],
   "source": []
  }
 ],
 "metadata": {
  "kernelspec": {
   "display_name": "Python [conda env:tfg] *",
   "language": "python",
   "name": "conda-env-tfg-py"
  },
  "language_info": {
   "codemirror_mode": {
    "name": "ipython",
    "version": 3
   },
   "file_extension": ".py",
   "mimetype": "text/x-python",
   "name": "python",
   "nbconvert_exporter": "python",
   "pygments_lexer": "ipython3",
   "version": "3.7.13"
  }
 },
 "nbformat": 4,
 "nbformat_minor": 5
}

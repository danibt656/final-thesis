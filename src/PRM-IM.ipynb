{
 "cells": [
  {
   "cell_type": "markdown",
   "id": "c6fb2c64",
   "metadata": {},
   "source": [
    "# Probabilistic Relational Model - IMbalanced Learning"
   ]
  },
  {
   "cell_type": "code",
   "execution_count": 1,
   "id": "37e9408b",
   "metadata": {},
   "outputs": [],
   "source": [
    "import numpy as np\n",
    "import pandas as pd\n",
    "import matplotlib.pyplot as plt\n",
    "\n",
    "import os\n",
    "os.environ['TF_CPP_MIN_LOG_LEVEL'] = '3'\n",
    "import torch\n",
    "import torch.nn.functional as F\n",
    "import pytorch_lightning as pl\n",
    "from torch import nn\n",
    "from torch.utils.data import Subset, ConcatDataset\n",
    "import torchmetrics\n",
    "\n",
    "from sklearn.model_selection import KFold\n",
    "from sklearn.metrics import classification_report\n",
    "from torchvision import datasets, transforms\n",
    "from tqdm.autonotebook import tqdm"
   ]
  },
  {
   "cell_type": "code",
   "execution_count": 2,
   "id": "7a865a93",
   "metadata": {},
   "outputs": [],
   "source": [
    "import ssl # for ssl certificate for downloading ptm's\n",
    "ssl._create_default_https_context = ssl._create_unverified_context"
   ]
  },
  {
   "cell_type": "code",
   "execution_count": 3,
   "id": "d97564c4",
   "metadata": {},
   "outputs": [],
   "source": [
    "import pretrainedmodels as ptm\n",
    "xception_m = ptm.__dict__['xception'](num_classes=1000, pretrained='imagenet')"
   ]
  },
  {
   "cell_type": "markdown",
   "id": "d76575b1",
   "metadata": {},
   "source": [
    "Modelo"
   ]
  },
  {
   "cell_type": "code",
   "execution_count": 4,
   "id": "30961381",
   "metadata": {},
   "outputs": [],
   "source": [
    "from torchvision.models import resnet50, resnext50_32x4d\n",
    "\n",
    "mean_losses = []\n",
    "mean_acc = []\n",
    "mean_f1s = []\n",
    "\n",
    "class ConvEnsemble(pl.LightningModule):\n",
    "    def __init__(self,config):\n",
    "        super().__init__()\n",
    "        self.LR = config['lr']\n",
    "        self.EPOCHS = config['epochs']\n",
    "        self.n_classes = 2\n",
    "        # metrics\n",
    "        task = \"multiclass\" if self.n_classes > 2 else \"binary\"\n",
    "        self.accuracy = torchmetrics.Accuracy(task=task, num_classes=self.n_classes)\n",
    "        self.f1score = torchmetrics.F1Score(task=task, num_classes=self.n_classes)\n",
    "        # model\n",
    "        self.resnet = torch.nn.Sequential(*(list(resnet50(pretrained=True).children())[:-1]))\n",
    "        for param in self.resnet.parameters():\n",
    "            param.requires_grad = False\n",
    "        xception_m = ptm.__dict__['xception'](num_classes=1000, pretrained='imagenet')\n",
    "        self.xception = torch.nn.Sequential(*(list(xception_m.children())[:-1]))\n",
    "        for param in self.xception.parameters():\n",
    "            param.requires_grad = False\n",
    "        self.xception_conv = nn.Conv2d(2048, 2048, kernel_size=(7, 7))\n",
    "        self.conv = nn.Conv2d(4096, 1024, kernel_size=(1, 1), padding='same')\n",
    "        self.flatten = nn.Flatten()\n",
    "        self.dropout = nn.Dropout(p=0.5)\n",
    "        self.fc = nn.Linear(1024, self.n_classes)\n",
    "        # loss\n",
    "        self.loss = nn.CrossEntropyLoss().cuda()\n",
    "        \n",
    "    def forward(self, x):\n",
    "        B, F, H, W = x.shape\n",
    "        x_resnet = self.resnet(x)\n",
    "        x_xception = self.xception(x)\n",
    "        x_xception = self.xception_conv(x_xception)#convert to (10,2048,1,1)\n",
    "        x = torch.cat((x_resnet, x_xception), 1)\n",
    "        x = self.conv(x)\n",
    "        x = self.flatten(x)\n",
    "        x = self.dropout(x)\n",
    "        x = self.fc(x)\n",
    "        return x\n",
    "    \n",
    "    def training_step(self, batch, batch_no):\n",
    "        x, y = batch\n",
    "        logits = self(x)\n",
    "        \n",
    "        y_onehot = F.one_hot(y, num_classes=self.n_classes).long()\n",
    "        acc = self.accuracy(logits, y_onehot)\n",
    "        f1s = self.f1score(logits, y_onehot)\n",
    "        mean_acc.append(acc.item())\n",
    "        mean_f1s.append(f1s.item())\n",
    "        \n",
    "        mean_loss = self.loss(logits, y)\n",
    "        mean_losses.append(mean_loss)\n",
    "        \n",
    "        return mean_loss\n",
    "\n",
    "    def configure_optimizers(self):\n",
    "        optimizer = torch.optim.Adam(self.parameters(), lr=self.LR)\n",
    "        return {\n",
    "            \"optimizer\": optimizer,\n",
    "            \"lr_scheduler\": torch.optim.lr_scheduler.OneCycleLR(\n",
    "                                optimizer ,max_lr=0.01,\n",
    "                                steps_per_epoch=self.SPE,\n",
    "                                epochs=self.EPOCHS)\n",
    "        }"
   ]
  },
  {
   "cell_type": "markdown",
   "id": "02926a9c",
   "metadata": {},
   "source": [
    "Construir subsets a partir de los indices de clase"
   ]
  },
  {
   "cell_type": "markdown",
   "id": "1281255e",
   "metadata": {},
   "source": [
    "## <span style=\"color:blue\">Plant Village</span>"
   ]
  },
  {
   "cell_type": "code",
   "execution_count": 5,
   "id": "a178d666",
   "metadata": {},
   "outputs": [
    {
     "name": "stdout",
     "output_type": "stream",
     "text": [
      "1583 {'tomato_healthy': 0, 'tomato_infected': 1}\n",
      "381 {'tomato_healthy': 0, 'tomato_infected': 1}\n"
     ]
    },
    {
     "name": "stderr",
     "output_type": "stream",
     "text": [
      "/home/d/miniconda3/envs/tfg/lib/python3.7/site-packages/torchvision/transforms/transforms.py:703: UserWarning: The use of the transforms.RandomSizedCrop transform is deprecated, please use transforms.RandomResizedCrop instead.\n",
      "  warnings.warn(\"The use of the transforms.RandomSizedCrop transform is deprecated, \" +\n"
     ]
    }
   ],
   "source": [
    "data_transforms = transforms.Compose([\n",
    "    transforms.RandomSizedCrop(224),\n",
    "    transforms.RandomHorizontalFlip(),\n",
    "    transforms.ToTensor(),\n",
    "    transforms.Normalize(mean=[0.485, 0.456, 0.406], std=[0.229, 0.224, 0.225]),\n",
    "])\n",
    "\n",
    "train_dataset = datasets.ImageFolder('../data/PlantVillage/train', data_transforms)\n",
    "print(len(train_dataset), train_dataset.class_to_idx)\n",
    "val_dataset = datasets.ImageFolder('../data/PlantVillage/val', data_transforms)\n",
    "print(len(val_dataset), val_dataset.class_to_idx)"
   ]
  },
  {
   "cell_type": "code",
   "execution_count": 6,
   "id": "f67d3b37",
   "metadata": {},
   "outputs": [
    {
     "name": "stdout",
     "output_type": "stream",
     "text": [
      "Class 0: 1296 / Class 1: 287 / BDeg:  4.515679442508711\n",
      "574 287\n",
      "574 287\n",
      "574 287\n",
      "574 287\n",
      "435 148\n"
     ]
    }
   ],
   "source": [
    "class_0_idxs = torch.nonzero(torch.Tensor(train_dataset.targets)==0).flatten()\n",
    "class_1_idxs = torch.nonzero(torch.Tensor(train_dataset.targets)==1).flatten()\n",
    "# Provocar bias cogiendo un porcentaje de la clase 1 solamente (modificando el porcentaje hasta obtener b_deg deseado)\n",
    "# class_1_idxs = class_1_idxs[torch.randperm(len(class_1_idxs))[:int(len(class_1_idxs)*.409)]]\n",
    "\n",
    "c0_s, c1_s = len(class_0_idxs), len(class_1_idxs)\n",
    "b_deg = c0_s / c1_s\n",
    "print('Class 0:', len(class_0_idxs), '/ Class 1:', len(class_1_idxs), '/ BDeg: ', b_deg)\n",
    "\n",
    "class_1_subset = Subset(train_dataset, class_1_idxs)\n",
    "\n",
    "# Lista de DataSets que luego se envolveran en DataLoaders\n",
    "train_subsets = []\n",
    "for i in range(int(np.ceil(b_deg))):\n",
    "    class_0_subset = Subset(train_dataset, class_0_idxs[i*c1_s : i*c1_s+c1_s])\n",
    "    train_subsets.append(ConcatDataset([class_0_subset, class_1_subset]))\n",
    "\n",
    "for p in train_subsets:\n",
    "    print(len(p), len(p)-c1_s)"
   ]
  },
  {
   "cell_type": "code",
   "execution_count": null,
   "id": "cbaa7d8f",
   "metadata": {},
   "outputs": [
    {
     "name": "stderr",
     "output_type": "stream",
     "text": [
      "/home/d/miniconda3/envs/tfg/lib/python3.7/site-packages/pytorch_lightning/trainer/connectors/accelerator_connector.py:447: LightningDeprecationWarning: Setting `Trainer(gpus=1)` is deprecated in v1.7 and will be removed in v2.0. Please use `Trainer(accelerator='gpu', devices=1)` instead.\n",
      "  f\"Setting `Trainer(gpus={gpus!r})` is deprecated in v1.7 and will be removed\"\n",
      "/home/d/miniconda3/envs/tfg/lib/python3.7/site-packages/pytorch_lightning/trainer/connectors/accelerator_connector.py:467: UserWarning: The flag `devices=1` will be ignored, instead the device specific number 1 will be used\n",
      "  f\"The flag `devices={devices}` will be ignored, \"\n",
      "GPU available: True (cuda), used: True\n",
      "TPU available: False, using: 0 TPU cores\n",
      "IPU available: False, using: 0 IPUs\n",
      "HPU available: False, using: 0 HPUs\n"
     ]
    },
    {
     "name": "stdout",
     "output_type": "stream",
     "text": [
      "------------stage nº 0----------------------\n"
     ]
    },
    {
     "name": "stderr",
     "output_type": "stream",
     "text": [
      "LOCAL_RANK: 0 - CUDA_VISIBLE_DEVICES: [0]\n",
      "\n",
      "  | Name          | Type             | Params\n",
      "---------------------------------------------------\n",
      "0 | accuracy      | BinaryAccuracy   | 0     \n",
      "1 | f1score       | BinaryF1Score    | 0     \n",
      "2 | resnet        | Sequential       | 23.5 M\n",
      "3 | xception      | Sequential       | 20.8 M\n",
      "4 | xception_conv | Conv2d           | 205 M \n",
      "5 | conv          | Conv2d           | 4.2 M \n",
      "6 | flatten       | Flatten          | 0     \n",
      "7 | dropout       | Dropout          | 0     \n",
      "8 | fc            | Linear           | 2.0 K \n",
      "9 | loss          | CrossEntropyLoss | 0     \n",
      "---------------------------------------------------\n",
      "209 M     Trainable params\n",
      "44.3 M    Non-trainable params\n",
      "254 M     Total params\n",
      "1,016.141 Total estimated model params size (MB)\n"
     ]
    },
    {
     "data": {
      "application/vnd.jupyter.widget-view+json": {
       "model_id": "ac90570657174b0a82b364cd004ed0a4",
       "version_major": 2,
       "version_minor": 0
      },
      "text/plain": [
       "Training: 0it [00:00, ?it/s]"
      ]
     },
     "metadata": {},
     "output_type": "display_data"
    }
   ],
   "source": [
    "BATCH_SIZE=10\n",
    "\n",
    "def get_prediction(x, model: pl.LightningModule):\n",
    "    model.freeze() # prepares model for predicting\n",
    "    probabilities = torch.softmax(model(x), dim=1)\n",
    "    predicted_class = torch.argmax(probabilities, dim=1)\n",
    "    model.unfreeze()\n",
    "    return predicted_class, probabilities\n",
    "\n",
    "def train_tune(config):\n",
    "    testloader = torch.utils.data.DataLoader(val_dataset, batch_size=BATCH_SIZE, shuffle=True, num_workers=4)\n",
    "\n",
    "    try: model = ConvEnsemble.load_from_checkpoint(\"saves/checkpoint.ckpt\")\n",
    "    except: model = ConvEnsemble(config)\n",
    "\n",
    "    for stage, train_subset in enumerate(train_subsets):\n",
    "        print(f'------------stage nº {stage}----------------------')\n",
    "\n",
    "        trainloader = torch.utils.data.DataLoader(train_subset, batch_size=BATCH_SIZE, shuffle=True, num_workers=4)\n",
    "        model.SPE = len(trainloader)\n",
    "        \n",
    "        # Training\n",
    "        trainer = pl.Trainer(max_epochs=config['epochs'], devices=1, accelerator=\"gpu\", default_root_dir=\"saves/\")\n",
    "\n",
    "        trainer.fit(model, trainloader)\n",
    "\n",
    "        # Testing\n",
    "        true_y, pred_y = [], []\n",
    "        for batch in tqdm(iter(testloader), total=len(testloader)):\n",
    "            x, y = batch\n",
    "            true_y.extend(y)\n",
    "            preds, probs = get_prediction(x, model)\n",
    "            pred_y.extend(preds.cpu())\n",
    "    \n",
    "    report = classification_report(true_y, pred_y, output_dict=True)\n",
    "    return report\n",
    "\n",
    "EPOCHS = [10, 25, 30]\n",
    "LRS = [1e-3, 1e-4]\n",
    "\n",
    "grid_search = pd.DataFrame(columns=['epochs','lr','f1-0','f1-1','acc'])\n",
    "\n",
    "for epochs in EPOCHS:\n",
    "    for lr in LRS:\n",
    "        config = {'epochs': epochs, 'lr': lr, 'class_sizes': [1,1]}\n",
    "        report = train_tune(config)\n",
    "        grid_search = grid_search.append(\n",
    "                        pd.Series(\n",
    "                            [epochs,lr,report['0']['f1-score'],report['1']['f1-score'],report['accuracy']],\n",
    "                            index=grid_search.columns), \n",
    "                        ignore_index=True)\n",
    "        grid_search.to_csv('./grid_search/PlantVillage_PRM-IM.csv')\n",
    "grid_search"
   ]
  },
  {
   "cell_type": "code",
   "execution_count": null,
   "id": "b80d0f1f",
   "metadata": {
    "scrolled": true
   },
   "outputs": [
    {
     "name": "stdout",
     "output_type": "stream",
     "text": [
      "------------stage nº 0----------------------\n"
     ]
    },
    {
     "name": "stderr",
     "output_type": "stream",
     "text": [
      "/home/d/miniconda3/envs/tfg/lib/python3.7/site-packages/pytorch_lightning/trainer/connectors/accelerator_connector.py:447: LightningDeprecationWarning: Setting `Trainer(gpus=1)` is deprecated in v1.7 and will be removed in v2.0. Please use `Trainer(accelerator='gpu', devices=1)` instead.\n",
      "  f\"Setting `Trainer(gpus={gpus!r})` is deprecated in v1.7 and will be removed\"\n",
      "/home/d/miniconda3/envs/tfg/lib/python3.7/site-packages/pytorch_lightning/trainer/connectors/accelerator_connector.py:467: UserWarning: The flag `devices=1` will be ignored, instead the device specific number 1 will be used\n",
      "  f\"The flag `devices={devices}` will be ignored, \"\n",
      "GPU available: True (cuda), used: True\n",
      "TPU available: False, using: 0 TPU cores\n",
      "IPU available: False, using: 0 IPUs\n",
      "HPU available: False, using: 0 HPUs\n",
      "Missing logger folder: saves/lightning_logs\n",
      "LOCAL_RANK: 0 - CUDA_VISIBLE_DEVICES: [0]\n",
      "\n",
      "  | Name     | Type             | Params\n",
      "----------------------------------------------\n",
      "0 | accuracy | BinaryAccuracy   | 0     \n",
      "1 | f1score  | BinaryF1Score    | 0     \n",
      "2 | resnet   | Sequential       | 23.5 M\n",
      "3 | resnext  | Sequential       | 23.0 M\n",
      "4 | conv     | Conv2d           | 4.2 M \n",
      "5 | flatten  | Flatten          | 0     \n",
      "6 | dropout  | Dropout          | 0     \n",
      "7 | fc       | Linear           | 2.0 K \n",
      "8 | loss     | CrossEntropyLoss | 0     \n",
      "----------------------------------------------\n",
      "4.2 M     Trainable params\n",
      "46.5 M    Non-trainable params\n",
      "50.7 M    Total params\n",
      "202.741   Total estimated model params size (MB)\n"
     ]
    },
    {
     "data": {
      "application/vnd.jupyter.widget-view+json": {
       "model_id": "785080cb6cab4caab6f2be490c556b65",
       "version_major": 2,
       "version_minor": 0
      },
      "text/plain": [
       "Training: 0it [00:00, ?it/s]"
      ]
     },
     "metadata": {},
     "output_type": "display_data"
    },
    {
     "name": "stderr",
     "output_type": "stream",
     "text": [
      "`Trainer.fit` stopped: `max_epochs=15` reached.\n"
     ]
    },
    {
     "data": {
      "application/vnd.jupyter.widget-view+json": {
       "model_id": "e400b823852a47d49f23230f9bff64df",
       "version_major": 2,
       "version_minor": 0
      },
      "text/plain": [
       "  0%|          | 0/1165 [00:00<?, ?it/s]"
      ]
     },
     "metadata": {},
     "output_type": "display_data"
    },
    {
     "name": "stderr",
     "output_type": "stream",
     "text": [
      "/home/d/miniconda3/envs/tfg/lib/python3.7/site-packages/pytorch_lightning/trainer/connectors/accelerator_connector.py:447: LightningDeprecationWarning: Setting `Trainer(gpus=1)` is deprecated in v1.7 and will be removed in v2.0. Please use `Trainer(accelerator='gpu', devices=1)` instead.\n",
      "  f\"Setting `Trainer(gpus={gpus!r})` is deprecated in v1.7 and will be removed\"\n",
      "/home/d/miniconda3/envs/tfg/lib/python3.7/site-packages/pytorch_lightning/trainer/connectors/accelerator_connector.py:467: UserWarning: The flag `devices=1` will be ignored, instead the device specific number 1 will be used\n",
      "  f\"The flag `devices={devices}` will be ignored, \"\n",
      "GPU available: True (cuda), used: True\n",
      "TPU available: False, using: 0 TPU cores\n",
      "IPU available: False, using: 0 IPUs\n",
      "HPU available: False, using: 0 HPUs\n"
     ]
    },
    {
     "name": "stdout",
     "output_type": "stream",
     "text": [
      "------------stage nº 1----------------------\n"
     ]
    },
    {
     "name": "stderr",
     "output_type": "stream",
     "text": [
      "LOCAL_RANK: 0 - CUDA_VISIBLE_DEVICES: [0]\n",
      "\n",
      "  | Name     | Type             | Params\n",
      "----------------------------------------------\n",
      "0 | accuracy | BinaryAccuracy   | 0     \n",
      "1 | f1score  | BinaryF1Score    | 0     \n",
      "2 | resnet   | Sequential       | 23.5 M\n",
      "3 | resnext  | Sequential       | 23.0 M\n",
      "4 | conv     | Conv2d           | 4.2 M \n",
      "5 | flatten  | Flatten          | 0     \n",
      "6 | dropout  | Dropout          | 0     \n",
      "7 | fc       | Linear           | 2.0 K \n",
      "8 | loss     | CrossEntropyLoss | 0     \n",
      "----------------------------------------------\n",
      "50.7 M    Trainable params\n",
      "0         Non-trainable params\n",
      "50.7 M    Total params\n",
      "202.741   Total estimated model params size (MB)\n"
     ]
    },
    {
     "data": {
      "application/vnd.jupyter.widget-view+json": {
       "model_id": "f100aba0296b456e9c53e3cc77892e99",
       "version_major": 2,
       "version_minor": 0
      },
      "text/plain": [
       "Training: 0it [00:00, ?it/s]"
      ]
     },
     "metadata": {},
     "output_type": "display_data"
    }
   ],
   "source": [
    "mean_losses = []\n",
    "mean_acc = []\n",
    "mean_f1s = []\n",
    "\n",
    "config = {'epochs': 25, 'lr': 1e-3}\n",
    "report = train_tune(config)\n",
    "print(report)"
   ]
  },
  {
   "cell_type": "code",
   "execution_count": 7,
   "id": "fe006846",
   "metadata": {},
   "outputs": [
    {
     "data": {
      "image/png": "[encoded data removed]",
      "text/plain": [
       "<Figure size 640x480 with 1 Axes>"
      ]
     },
     "metadata": {},
     "output_type": "display_data"
    }
   ],
   "source": [
    "# Plot mean loss\n",
    "splits = 49\n",
    "ml = [sum(mean_losses[i:i + splits])/splits for i in range(0, len(mean_losses), splits)]\n",
    "ma = [sum(mean_acc[i:i + splits])/splits for i in range(0, len(mean_acc), splits)]\n",
    "mf = [sum(mean_f1s[i:i + splits])/splits for i in range(0, len(mean_f1s), splits)]\n",
    "x_axis = [i for i in range(404)]\n",
    "\n",
    "for i, l in enumerate(mean_losses):\n",
    "    mean_losses[i] = l.cpu().detach()\n",
    "plt.plot(x_axis, ml, 'g', label='Loss')\n",
    "plt.plot(x_axis, ma, 'b', label='Accuracy')\n",
    "plt.plot(x_axis, mf, 'r', label='F1-score')\n",
    "plt.title('Training metrics')\n",
    "plt.xlabel('Épocas')\n",
    "# plt.ylabel('Loss media')\n",
    "plt.legend()\n",
    "plt.show()"
   ]
  },
  {
   "cell_type": "code",
   "execution_count": null,
   "id": "b84a88ff",
   "metadata": {
    "scrolled": true
   },
   "outputs": [],
   "source": [
    "def get_prediction(x, model: pl.LightningModule):\n",
    "    model.freeze() # prepares model for predicting\n",
    "    probabilities = torch.softmax(model(x), dim=1)\n",
    "    predicted_class = torch.argmax(probabilities, dim=1)\n",
    "    model.unfreeze()\n",
    "    return predicted_class, probabilities\n",
    "\n",
    "EPOCHS=15\n",
    "BATCH_SIZE=10\n",
    "\n",
    "testloader = torch.utils.data.DataLoader(val_dataset, batch_size=BATCH_SIZE, shuffle=True, num_workers=4)\n",
    "\n",
    "try: model = ConvEnsemble.load_from_checkpoint(\"saves/checkpoint.ckpt\")\n",
    "except: model = ConvEnsemble()\n",
    "\n",
    "# for stage, train_subset in enumerate(train_subsets):\n",
    "stage = 0\n",
    "print(f'------------stage nº {stage}----------------------')\n",
    "train_subset = train_subsets[stage]\n",
    "trainloader = torch.utils.data.DataLoader(train_subset, batch_size=BATCH_SIZE, shuffle=True, num_workers=4)\n",
    "\n",
    "# Training\n",
    "trainer = pl.Trainer(gpus=1, max_epochs=EPOCHS, devices=1, accelerator=\"gpu\", default_root_dir=\"saves/\")\n",
    "\n",
    "trainer.fit(model, trainloader)\n",
    "\n",
    "# Testing\n",
    "true_y, pred_y = [], []\n",
    "for batch in tqdm(iter(testloader), total=len(testloader)):\n",
    "    x, y = batch\n",
    "    true_y.extend(y)\n",
    "    preds, probs = get_prediction(x, model)\n",
    "    pred_y.extend(preds.cpu())\n",
    "\n",
    "print(classification_report(true_y, pred_y, digits=3))"
   ]
  },
  {
   "cell_type": "markdown",
   "id": "47116720",
   "metadata": {},
   "source": [
    "## <span style=\"color:blue\">UTKFace</span>"
   ]
  },
  {
   "cell_type": "code",
   "execution_count": null,
   "id": "6b5d1c4f",
   "metadata": {},
   "outputs": [],
   "source": [
    "data_transforms = transforms.Compose([\n",
    "    transforms.RandomSizedCrop(224),\n",
    "    transforms.RandomHorizontalFlip(),\n",
    "    transforms.ToTensor(),\n",
    "    transforms.Normalize(mean=[0.485, 0.456, 0.406], std=[0.229, 0.224, 0.225]),\n",
    "])\n",
    "\n",
    "train_dataset = datasets.ImageFolder('../data/UTKFace/train', data_transforms)\n",
    "print(len(train_dataset), train_dataset.class_to_idx)\n",
    "val_dataset = datasets.ImageFolder('../data/UTKFace/val', data_transforms)\n",
    "print(len(val_dataset), val_dataset.class_to_idx)"
   ]
  },
  {
   "cell_type": "code",
   "execution_count": null,
   "id": "5bec86eb",
   "metadata": {},
   "outputs": [],
   "source": [
    "class_0_idxs = torch.nonzero(torch.Tensor(train_dataset.targets)==0).flatten()\n",
    "class_1_idxs = torch.nonzero(torch.Tensor(train_dataset.targets)==1).flatten()\n",
    "# Provocar bias cogiendo un porcentaje de la clase 1 solamente (modificando el porcentaje hasta obtener b_deg deseado)\n",
    "class_1_idxs = class_1_idxs[torch.randperm(len(class_1_idxs))[:int(len(class_1_idxs)*.209)]]\n",
    "\n",
    "c0_s, c1_s = len(class_0_idxs), len(class_1_idxs)\n",
    "b_deg = c0_s / c1_s\n",
    "print('Class 0:', len(class_0_idxs), '/ Class 1:', len(class_1_idxs), '/ BDeg: ', b_deg)\n",
    "\n",
    "class_1_subset = Subset(train_dataset, class_1_idxs)\n",
    "\n",
    "# Lista de DataSets que luego se envolveran en DataLoaders\n",
    "train_subsets = []\n",
    "for i in range(int(np.ceil(b_deg))):\n",
    "    class_0_subset = Subset(train_dataset, class_0_idxs[i*c1_s : i*c1_s+c1_s])\n",
    "    train_subsets.append(ConcatDataset([class_0_subset, class_1_subset]))\n",
    "\n",
    "for p in train_subsets:\n",
    "    print(len(p), len(p)-c1_s)"
   ]
  },
  {
   "cell_type": "code",
   "execution_count": null,
   "id": "d0f50ce6",
   "metadata": {},
   "outputs": [],
   "source": [
    "BATCH_SIZE=10\n",
    "\n",
    "def get_prediction(x, model: pl.LightningModule):\n",
    "    model.freeze() # prepares model for predicting\n",
    "    probabilities = torch.softmax(model(x), dim=1)\n",
    "    predicted_class = torch.argmax(probabilities, dim=1)\n",
    "    model.unfreeze()\n",
    "    return predicted_class, probabilities\n",
    "\n",
    "def train_tune(config):\n",
    "    testloader = torch.utils.data.DataLoader(val_dataset, batch_size=BATCH_SIZE, shuffle=True, num_workers=4)\n",
    "\n",
    "    try: model = ConvEnsemble.load_from_checkpoint(\"saves/checkpoint.ckpt\")\n",
    "    except: model = ConvEnsemble(config)\n",
    "\n",
    "    for stage, train_subset in enumerate(train_subsets):\n",
    "        print(f'------------stage nº {stage}----------------------')\n",
    "\n",
    "        trainloader = torch.utils.data.DataLoader(train_subset, batch_size=BATCH_SIZE, shuffle=True, num_workers=4)\n",
    "        model.SPE = len(trainloader)\n",
    "        \n",
    "        # Training\n",
    "        trainer = pl.Trainer(max_epochs=config['epochs'], devices=1, accelerator=\"gpu\", default_root_dir=\"saves/\")\n",
    "\n",
    "        trainer.fit(model, trainloader)\n",
    "\n",
    "        # Testing\n",
    "        true_y, pred_y = [], []\n",
    "        for batch in tqdm(iter(testloader), total=len(testloader)):\n",
    "            x, y = batch\n",
    "            true_y.extend(y)\n",
    "            preds, probs = get_prediction(x, model)\n",
    "            pred_y.extend(preds.cpu())\n",
    "    \n",
    "    report = classification_report(true_y, pred_y, output_dict=True)\n",
    "    return report\n",
    "\n",
    "EPOCHS = [10, 25, 30]\n",
    "LRS = [1e-3, 1e-4]\n",
    "\n",
    "grid_search = pd.DataFrame(columns=['epochs','lr','f1-0','f1-1','acc'])\n",
    "\n",
    "for epochs in EPOCHS:\n",
    "    for lr in LRS:\n",
    "        config = {'epochs': epochs, 'lr': lr, 'class_sizes': [1,1]}\n",
    "        report = train_tune(config)\n",
    "        grid_search = grid_search.append(\n",
    "                        pd.Series(\n",
    "                            [epochs,lr,report['0']['f1-score'],report['1']['f1-score'],report['accuracy']],\n",
    "                            index=grid_search.columns), \n",
    "                        ignore_index=True)\n",
    "        grid_search.to_csv('./grid_search/PlantVillage_PRM-IM.csv')\n",
    "grid_search"
   ]
  },
  {
   "cell_type": "code",
   "execution_count": null,
   "id": "25f5a3ef",
   "metadata": {},
   "outputs": [],
   "source": [
    "mean_losses = []\n",
    "mean_acc = []\n",
    "mean_f1s = []\n",
    "\n",
    "config = {'epochs': 25, 'lr': 1e-3}\n",
    "report = train_tune(config)\n",
    "print(report)"
   ]
  },
  {
   "cell_type": "code",
   "execution_count": null,
   "id": "7b5a1b59",
   "metadata": {},
   "outputs": [],
   "source": [
    "# Plot mean loss\n",
    "splits = 49\n",
    "ml = [sum(mean_losses[i:i + splits])/splits for i in range(0, len(mean_losses), splits)]\n",
    "ma = [sum(mean_acc[i:i + splits])/splits for i in range(0, len(mean_acc), splits)]\n",
    "mf = [sum(mean_f1s[i:i + splits])/splits for i in range(0, len(mean_f1s), splits)]\n",
    "x_axis = [i for i in range(404)]\n",
    "\n",
    "for i, l in enumerate(mean_losses):\n",
    "    mean_losses[i] = l.cpu().detach()\n",
    "plt.plot(x_axis, ml, 'g', label='Loss')\n",
    "plt.plot(x_axis, ma, 'b', label='Accuracy')\n",
    "plt.plot(x_axis, mf, 'r', label='F1-score')\n",
    "plt.title('Training metrics')\n",
    "plt.xlabel('Épocas')\n",
    "# plt.ylabel('Loss media')\n",
    "plt.legend()\n",
    "plt.show()"
   ]
  },
  {
   "cell_type": "code",
   "execution_count": null,
   "id": "01f57c9a",
   "metadata": {},
   "outputs": [],
   "source": []
  },
  {
   "cell_type": "code",
   "execution_count": null,
   "id": "38243e80",
   "metadata": {},
   "outputs": [],
   "source": []
  },
  {
   "cell_type": "code",
   "execution_count": null,
   "id": "9c629a6a",
   "metadata": {},
   "outputs": [],
   "source": []
  },
  {
   "cell_type": "code",
   "execution_count": null,
   "id": "d6461214",
   "metadata": {},
   "outputs": [],
   "source": []
  },
  {
   "cell_type": "code",
   "execution_count": null,
   "id": "ff138d9f",
   "metadata": {},
   "outputs": [],
   "source": []
  }
 ],
 "metadata": {
  "kernelspec": {
   "display_name": "Python [conda env:tfg] *",
   "language": "python",
   "name": "conda-env-tfg-py"
  },
  "language_info": {
   "codemirror_mode": {
    "name": "ipython",
    "version": 3
   },
   "file_extension": ".py",
   "mimetype": "text/x-python",
   "name": "python",
   "nbconvert_exporter": "python",
   "pygments_lexer": "ipython3",
   "version": "3.7.13"
  }
 },
 "nbformat": 4,
 "nbformat_minor": 5
}

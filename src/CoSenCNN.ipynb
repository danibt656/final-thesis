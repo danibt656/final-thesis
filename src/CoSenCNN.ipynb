{
 "cells": [
  {
   "cell_type": "markdown",
   "id": "b28ab995",
   "metadata": {},
   "source": [
    "# CoSen: Cost Sensitive CNN loss"
   ]
  },
  {
   "cell_type": "code",
   "execution_count": 1,
   "id": "42c32268",
   "metadata": {},
   "outputs": [],
   "source": [
    "import numpy as np\n",
    "import torch\n",
    "import torch.nn as nn\n",
    "import matplotlib.pyplot as plt\n",
    "\n",
    "from costsensitive.losses import CostSensitiveLoss, CostSensitiveRegularizedLoss"
   ]
  },
  {
   "cell_type": "markdown",
   "id": "ddaa9875",
   "metadata": {},
   "source": [
    "Basic usage:"
   ]
  },
  {
   "cell_type": "code",
   "execution_count": 2,
   "id": "ee6cae54",
   "metadata": {},
   "outputs": [
    {
     "name": "stdout",
     "output_type": "stream",
     "text": [
      "Bad logits: tensor(0.9999, dtype=torch.float64)\n",
      "Good logits: tensor(4.5396e-05, dtype=torch.float64)\n"
     ]
    }
   ],
   "source": [
    "n_classes = 3\n",
    "criterion = CostSensitiveLoss(n_classes)\n",
    "\n",
    "M = np.array([[0,0,0], [0,0,0], [10, 0, 0]], dtype=float)\n",
    "M /= M.max()\n",
    "criterion.M = torch.from_numpy(M)\n",
    "\n",
    "label = torch.tensor([2]).unsqueeze(0)\n",
    "logits_bad = torch.tensor([10., 0., 0.]).unsqueeze(0)\n",
    "print('Bad logits:', criterion(logits_bad, label))\n",
    "logits_ok = torch.Tensor([0., 0., 10.]).unsqueeze(0)\n",
    "print('Good logits:', criterion(logits_ok, label))"
   ]
  },
  {
   "cell_type": "markdown",
   "id": "3bf72e28",
   "metadata": {},
   "source": [
    "Mixed as a regularizer Cross Entropy Loss Function:"
   ]
  },
  {
   "cell_type": "code",
   "execution_count": 24,
   "id": "14624fdb",
   "metadata": {},
   "outputs": [
    {
     "name": "stdout",
     "output_type": "stream",
     "text": [
      "Cost Sensitive-Regularized CE loss:\n",
      "Worst prediction loss = 19.9993\n",
      "Better prediction loss = 12.5003\n",
      "Perfect prediction loss = 0.0007\n"
     ]
    }
   ],
   "source": [
    "n_classes = 3 \n",
    "base_loss = 'ce'\n",
    "lambd = 10\n",
    "cs_regularized_criterion = CostSensitiveRegularizedLoss(n_classes=n_classes, base_loss=base_loss, lambd=lambd)\n",
    "labels = torch.tensor([2])\n",
    "worse_logits = torch.tensor([10.0, 0.0, 0.0]).unsqueeze(0)\n",
    "better_logits = torch.tensor([0.0, 10.0, 0.0]).unsqueeze(0)\n",
    "perfect_logits = torch.tensor([0.0, 0.0, 10.0]).unsqueeze(0)\n",
    "print('Cost Sensitive-Regularized CE loss:')\n",
    "print('Worst prediction loss = {:.4f}'.format(cs_regularized_criterion(worse_logits, labels)))\n",
    "print('Better prediction loss = {:.4f}'.format(cs_regularized_criterion(better_logits, labels)))\n",
    "print('Perfect prediction loss = {:.4f}'.format(cs_regularized_criterion(perfect_logits, labels)))"
   ]
  },
  {
   "cell_type": "markdown",
   "id": "985d59fc",
   "metadata": {},
   "source": [
    "And CE with Label-Smoothing (LS):"
   ]
  },
  {
   "cell_type": "code",
   "execution_count": 25,
   "id": "ca396c9a",
   "metadata": {},
   "outputs": [
    {
     "name": "stdout",
     "output_type": "stream",
     "text": [
      "Cost Sensitive-Regularized CE loss with Label Smoothing:\n",
      "Worst prediction loss = 19.6660\n",
      "Better prediction loss = 12.1670\n",
      "Perfect prediction loss = 0.6673\n"
     ]
    }
   ],
   "source": [
    "base_loss = 'ls'\n",
    "cs_regularized_criterion = CostSensitiveRegularizedLoss(n_classes=n_classes, base_loss=base_loss, lambd=lambd)\n",
    "print('Cost Sensitive-Regularized CE loss with Label Smoothing:')\n",
    "print('Worst prediction loss = {:.4f}'.format(cs_regularized_criterion(worse_logits, labels)))\n",
    "print('Better prediction loss = {:.4f}'.format(cs_regularized_criterion(better_logits, labels)))\n",
    "print('Perfect prediction loss = {:.4f}'.format(cs_regularized_criterion(perfect_logits, labels)))"
   ]
  },
  {
   "cell_type": "markdown",
   "id": "29b5f950",
   "metadata": {},
   "source": [
    "Finally, CE + Gaussian LS:"
   ]
  },
  {
   "cell_type": "code",
   "execution_count": 26,
   "id": "0d864d6d",
   "metadata": {},
   "outputs": [
    {
     "name": "stdout",
     "output_type": "stream",
     "text": [
      "Cost Sensitive-Regularized CE loss with Label Smoothing:\n",
      "Worst prediction loss = 11.0818\n",
      "Better prediction loss = 10.4818\n",
      "Perfect prediction loss = 9.0593\n"
     ]
    }
   ],
   "source": [
    "base_loss = 'gls'\n",
    "cs_regularized_criterion = CostSensitiveRegularizedLoss(n_classes=n_classes, base_loss=base_loss, lambd=lambd)\n",
    "print('Cost Sensitive-Regularized CE loss with Label Smoothing:')\n",
    "print('Worst prediction loss = {:.4f}'.format(cs_regularized_criterion(worse_logits, labels)))\n",
    "print('Better prediction loss = {:.4f}'.format(cs_regularized_criterion(better_logits, labels)))\n",
    "print('Perfect prediction loss = {:.4f}'.format(cs_regularized_criterion(perfect_logits, labels)))"
   ]
  },
  {
   "cell_type": "code",
   "execution_count": null,
   "id": "99e360a5",
   "metadata": {},
   "outputs": [],
   "source": []
  },
  {
   "cell_type": "code",
   "execution_count": null,
   "id": "856237cc",
   "metadata": {},
   "outputs": [],
   "source": []
  },
  {
   "cell_type": "code",
   "execution_count": null,
   "id": "c3af38ee",
   "metadata": {},
   "outputs": [],
   "source": []
  },
  {
   "cell_type": "code",
   "execution_count": null,
   "id": "517a05c2",
   "metadata": {},
   "outputs": [],
   "source": []
  },
  {
   "cell_type": "code",
   "execution_count": null,
   "id": "62e1d6f7",
   "metadata": {},
   "outputs": [],
   "source": []
  },
  {
   "cell_type": "code",
   "execution_count": null,
   "id": "950cf6a1",
   "metadata": {},
   "outputs": [],
   "source": []
  },
  {
   "cell_type": "code",
   "execution_count": null,
   "id": "9d75a943",
   "metadata": {},
   "outputs": [],
   "source": []
  },
  {
   "cell_type": "code",
   "execution_count": null,
   "id": "3fb8fbe5",
   "metadata": {},
   "outputs": [],
   "source": []
  }
 ],
 "metadata": {
  "kernelspec": {
   "display_name": "Python [conda env:tfg] *",
   "language": "python",
   "name": "conda-env-tfg-py"
  },
  "language_info": {
   "codemirror_mode": {
    "name": "ipython",
    "version": 3
   },
   "file_extension": ".py",
   "mimetype": "text/x-python",
   "name": "python",
   "nbconvert_exporter": "python",
   "pygments_lexer": "ipython3",
   "version": "3.7.13"
  }
 },
 "nbformat": 4,
 "nbformat_minor": 5
}

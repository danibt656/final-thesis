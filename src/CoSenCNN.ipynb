{
 "cells": [
  {
   "cell_type": "markdown",
   "id": "b28ab995",
   "metadata": {},
   "source": [
    "# CoSen: Cost Sensitive CNN loss"
   ]
  },
  {
   "cell_type": "code",
   "execution_count": 1,
   "id": "42c32268",
   "metadata": {},
   "outputs": [],
   "source": [
    "import numpy as np\n",
    "import pandas as pd\n",
    "import torch\n",
    "import torch.nn as nn\n",
    "import matplotlib.pyplot as plt\n",
    "\n",
    "import os\n",
    "os.environ['TF_CPP_MIN_LOG_LEVEL'] = '3'\n",
    "import pytorch_lightning as pl\n",
    "from torch import nn\n",
    "import torch.nn.functional as F\n",
    "from torch.utils.data import Subset, ConcatDataset\n",
    "import torchmetrics\n",
    "\n",
    "from sklearn.model_selection import KFold\n",
    "from sklearn.metrics import classification_report\n",
    "from torchvision import datasets, transforms\n",
    "from tqdm.autonotebook import tqdm\n",
    "\n",
    "from costsensitive.losses import CostSensitiveLoss, CostSensitiveRegularizedLoss"
   ]
  },
  {
   "cell_type": "markdown",
   "id": "ddaa9875",
   "metadata": {},
   "source": [
    "Basic usage:\n",
    "\n",
    "```\n",
    "                Predicted\n",
    "              \n",
    "Ground truth        M\n",
    "```"
   ]
  },
  {
   "cell_type": "code",
   "execution_count": 2,
   "id": "ee6cae54",
   "metadata": {},
   "outputs": [
    {
     "name": "stdout",
     "output_type": "stream",
     "text": [
      "Bad logits: tensor(0.9999, dtype=torch.float64)\n",
      "Good logits: tensor(4.5396e-05, dtype=torch.float64)\n"
     ]
    }
   ],
   "source": [
    "n_classes = 3\n",
    "criterion = CostSensitiveLoss(n_classes)\n",
    "\n",
    "M = np.array([[0,0,0], [0,0,0], [10, 0, 0]], dtype=float)\n",
    "M /= M.max()\n",
    "criterion.M = torch.from_numpy(M)\n",
    "\n",
    "label = torch.tensor([2]).unsqueeze(0)\n",
    "logits_bad = torch.tensor([10., 0., 0.]).unsqueeze(0)\n",
    "print('Bad logits:', criterion(logits_bad, label))\n",
    "logits_ok = torch.Tensor([0., 0., 10.]).unsqueeze(0)\n",
    "print('Good logits:', criterion(logits_ok, label))"
   ]
  },
  {
   "cell_type": "markdown",
   "id": "3bf72e28",
   "metadata": {},
   "source": [
    "Mixed as a regularizer Cross Entropy Loss Function:"
   ]
  },
  {
   "cell_type": "code",
   "execution_count": 3,
   "id": "14624fdb",
   "metadata": {},
   "outputs": [
    {
     "name": "stdout",
     "output_type": "stream",
     "text": [
      "Cost Sensitive-Regularized CE loss:\n",
      "Worst prediction loss = 19.9993\n",
      "Better prediction loss = 12.5003\n",
      "Perfect prediction loss = 0.0007\n"
     ]
    }
   ],
   "source": [
    "n_classes = 3 \n",
    "base_loss = 'ce' #can be ce (x-entropy), ls (label smoothing), gls (gaussian label smoothing)\n",
    "lambd = 10\n",
    "cs_regularized_criterion = CostSensitiveRegularizedLoss(n_classes=n_classes, base_loss=base_loss, lambd=lambd)\n",
    "labels = torch.tensor([2])\n",
    "worse_logits = torch.tensor([10.0, 0.0, 0.0]).unsqueeze(0)\n",
    "better_logits = torch.tensor([0.0, 10.0, 0.0]).unsqueeze(0)\n",
    "perfect_logits = torch.tensor([0.0, 0.0, 10.0]).unsqueeze(0)\n",
    "print('Cost Sensitive-Regularized CE loss:')\n",
    "print('Worst prediction loss = {:.4f}'.format(cs_regularized_criterion(worse_logits, labels)))\n",
    "print('Better prediction loss = {:.4f}'.format(cs_regularized_criterion(better_logits, labels)))\n",
    "print('Perfect prediction loss = {:.4f}'.format(cs_regularized_criterion(perfect_logits, labels)))"
   ]
  },
  {
   "cell_type": "markdown",
   "id": "b3ff2e14",
   "metadata": {},
   "source": [
    "Comparison CE-Cost-sensitive vs. standard Cross Entropy Loss:"
   ]
  },
  {
   "cell_type": "code",
   "execution_count": 4,
   "id": "eec11c9e",
   "metadata": {},
   "outputs": [
    {
     "name": "stdout",
     "output_type": "stream",
     "text": [
      "Cost Sensitive-Regularized CE loss with Gaussian Label Smoothing:\n",
      "Worst prediction loss     Cost: 19.9993      CE: 10.0001\n",
      "Better prediction loss    Cost: 12.5003      CE: 10.0001\n",
      "Perfect prediction loss   Cost: 0.0007       CE: 0.0001\n"
     ]
    }
   ],
   "source": [
    "ce = nn.CrossEntropyLoss()\n",
    "cost = CostSensitiveRegularizedLoss(n_classes=n_classes, base_loss='ce', lambd=lambd)\n",
    "print('Cost Sensitive-Regularized CE loss with Gaussian Label Smoothing:')\n",
    "print(f'Worst prediction loss     Cost: {cost(worse_logits, labels):.4f}      CE: {ce(worse_logits, labels):.4f}')\n",
    "print(f'Better prediction loss    Cost: {cost(better_logits, labels):.4f}      CE: {ce(better_logits, labels):.4f}')\n",
    "print(f'Perfect prediction loss   Cost: {cost(perfect_logits, labels):.4f}       CE: {ce(perfect_logits, labels):.4f}')"
   ]
  },
  {
   "cell_type": "markdown",
   "id": "1478ad54",
   "metadata": {},
   "source": [
    "## <span style=\"color:blue\">Plant Village</span>"
   ]
  },
  {
   "cell_type": "code",
   "execution_count": 2,
   "id": "99e360a5",
   "metadata": {},
   "outputs": [
    {
     "name": "stdout",
     "output_type": "stream",
     "text": [
      "Class 0: 1591 / Class 1: 373 / BDeg:  4.265415549597855\n",
      "Total: 1964\n"
     ]
    }
   ],
   "source": [
    "data_transforms = transforms.Compose([\n",
    "    transforms.RandomResizedCrop(224),\n",
    "    transforms.RandomHorizontalFlip(p=0.5),\n",
    "    transforms.RandomVerticalFlip(p=0.5),\n",
    "    transforms.RandomRotation(degrees=[-10,10]),\n",
    "    transforms.ToTensor(),\n",
    "    transforms.Normalize(mean=[0.485, 0.456, 0.406], std=[0.229, 0.224, 0.225]),\n",
    "])\n",
    "\n",
    "image_dataset = datasets.ImageFolder('../data/PlantVillage/train',data_transforms)\n",
    "\n",
    "# Provocar bias cogiendo un porcentaje de la clase 1 solamente (modificando el porcentaje hasta obtener b_deg deseado)\n",
    "class_0_idxs = torch.nonzero(torch.Tensor(image_dataset.targets)==0).flatten()\n",
    "class_1_idxs = torch.nonzero(torch.Tensor(image_dataset.targets)==1).flatten()\n",
    "# class_1_idxs = class_1_idxs[torch.randperm(len(class_1_idxs))[:int(len(class_1_idxs)*.209)]]\n",
    "\n",
    "c0_s, c1_s = len(class_0_idxs), len(class_1_idxs)\n",
    "b_deg = c0_s / c1_s\n",
    "print('Class 0:', len(class_0_idxs), '/ Class 1:', len(class_1_idxs), '/ BDeg: ', b_deg)\n",
    "\n",
    "class_1_subset = Subset(image_dataset, class_1_idxs)\n",
    "class_0_subset = Subset(image_dataset, class_0_idxs)\n",
    "image_dataset = ConcatDataset([class_0_subset, class_1_subset])\n",
    "print('Total:', len(image_dataset))"
   ]
  },
  {
   "cell_type": "code",
   "execution_count": 3,
   "id": "87dc2cbd",
   "metadata": {
    "scrolled": true
   },
   "outputs": [
    {
     "name": "stdout",
     "output_type": "stream",
     "text": [
      "tensor([[0.0000, 0.0550],\n",
      "        [1.0000, 0.0000]], dtype=torch.float64)\n",
      "predict 0 (big) when 1 (small) = 19.9996\n",
      "predict 1 (small) when 0 (big) = 10.5497\n",
      "predict 1 when 1 = 0.0005\n",
      "predict 0 when 0 = 0.0001\n"
     ]
    }
   ],
   "source": [
    "cm = CostSensitiveRegularizedLoss(n_classes=2, base_loss='ce', lambd=10)\n",
    "# ASSUME that class 1 is the small here\n",
    "M = np.array([[0,1/b_deg],\n",
    "              [b_deg ,0]], dtype=float)\n",
    "cm.M = torch.from_numpy(M / M.max())\n",
    "print(cm.M)\n",
    "\n",
    "zero_logits = torch.tensor([10.0, 0.0]).unsqueeze(0)\n",
    "one_logits = torch.tensor([0.0, 10.0]).unsqueeze(0)\n",
    "# So if it's class 1 but we predict 0 -> BIG COST (dependent on balance degree!!)\n",
    "print(f'predict 0 (big) when 1 (small) = {cm(zero_logits, torch.tensor([1])):.4f}')\n",
    "# and if it's 0 but we predict 1 -> smaller cost\n",
    "print(f'predict 1 (small) when 0 (big) = {cm(one_logits, torch.tensor([0])):.4f}')\n",
    "# (and 0 cost if predicted well)\n",
    "print(f'predict 1 when 1 = {cm(one_logits, torch.tensor([1])):.4f}')\n",
    "print(f'predict 0 when 0 = {cm(zero_logits, torch.tensor([0])):.4f}')"
   ]
  },
  {
   "cell_type": "code",
   "execution_count": 4,
   "id": "856237cc",
   "metadata": {},
   "outputs": [],
   "source": [
    "from torchvision.models import resnet50\n",
    "\n",
    "mean_losses = []\n",
    "mean_acc = []\n",
    "mean_f1s = []\n",
    "\n",
    "class ResNetCustom(pl.LightningModule):\n",
    "    def __init__(self, config, class_sizes=[1,1]):\n",
    "        super().__init__()\n",
    "        self.n_classes = len(class_sizes)\n",
    "        c0_s, c1_s = class_sizes\n",
    "        b_deg = c0_s / c1_s # ASSUME that class 1 is the small one here!!!\n",
    "        \n",
    "        self.lr = config['lr']\n",
    "        self.EPOCHS = config['epochs']\n",
    "        \n",
    "        # metrics\n",
    "        task = \"multiclass\" if self.n_classes > 2 else \"binary\"\n",
    "        self.accuracy = torchmetrics.Accuracy(task=task, num_classes=self.n_classes)\n",
    "        self.f1score = torchmetrics.F1Score(task=task, num_classes=self.n_classes)\n",
    "        \n",
    "        self.model = resnet50(pretrained=True)\n",
    "        for param in self.model.parameters():\n",
    "            param.requires_grad = False\n",
    "        self.model.fc = nn.Linear(self.model.fc.in_features, self.n_classes, bias=True)\n",
    "            \n",
    "        # Cost-Sensitive loss\n",
    "        self.loss = CostSensitiveRegularizedLoss(n_classes=2, base_loss='ce', lambd=10)\n",
    "        M = np.array([[0,1/b_deg],\n",
    "                      [b_deg ,0]], dtype=float)\n",
    "        cm.M = torch.from_numpy(M / M.max())\n",
    "        self.loss = self.loss.cuda()\n",
    "        \n",
    "    def forward(self, x):\n",
    "        return self.model(x)\n",
    "    \n",
    "    def training_step(self, batch, batch_no):\n",
    "        x, y = batch\n",
    "        logits = self(x)\n",
    "        \n",
    "        y_onehot = F.one_hot(y, num_classes=self.n_classes).long()\n",
    "        acc = self.accuracy(logits, y_onehot)\n",
    "        f1s = self.f1score(logits, y_onehot)\n",
    "        mean_acc.append(acc.item())\n",
    "        mean_f1s.append(f1s.item())\n",
    "        \n",
    "        mean_loss = self.loss(logits, y)\n",
    "        mean_losses.append(mean_loss)\n",
    "\n",
    "        return mean_loss\n",
    "    \n",
    "    def configure_optimizers(self):\n",
    "        optimizer = torch.optim.Adam(self.model.fc.parameters(), lr=self.lr)\n",
    "        return {\n",
    "            \"optimizer\": optimizer,\n",
    "            \"lr_scheduler\": torch.optim.lr_scheduler.OneCycleLR(\n",
    "                                optimizer ,max_lr=0.01,\n",
    "                                steps_per_epoch=self.SPE,\n",
    "                                epochs=self.EPOCHS)\n",
    "        }"
   ]
  },
  {
   "cell_type": "code",
   "execution_count": 6,
   "id": "517a05c2",
   "metadata": {},
   "outputs": [],
   "source": [
    "K=5\n",
    "BATCH_SIZE=10\n",
    "EPOCHS=1\n",
    "GAMMA_0=2\n",
    "\n",
    "def get_prediction(x, model: pl.LightningModule):\n",
    "    model.freeze() # prepares model for predicting\n",
    "    probabilities = torch.softmax(model(x), dim=1)\n",
    "    predicted_class = torch.argmax(probabilities, dim=1)\n",
    "    return predicted_class, probabilities\n",
    "\n",
    "def train_tune(config):\n",
    "    kfold = KFold(n_splits=K, shuffle=True)\n",
    "    reports = []\n",
    "    mean_f1s = []\n",
    "    for fold,(train_idx,val_idx) in enumerate(kfold.split(image_dataset)):\n",
    "        print(f'------------fold nº {fold}----------------------')\n",
    "\n",
    "        train_subsampler = torch.utils.data.SubsetRandomSampler(train_idx)\n",
    "        val_subsampler = torch.utils.data.SubsetRandomSampler(val_idx)\n",
    "        trainloader = torch.utils.data.DataLoader(\n",
    "                          image_dataset, \n",
    "                          batch_size=BATCH_SIZE, sampler=train_subsampler)\n",
    "        testloader = torch.utils.data.DataLoader(\n",
    "                          image_dataset,\n",
    "                          batch_size=BATCH_SIZE, sampler=val_subsampler)\n",
    "\n",
    "        # Train this fold\n",
    "        model = ResNetCustom(config, class_sizes=[c0_s,c1_s])\n",
    "        model.SPE = len(trainloader)\n",
    "        trainer = pl.Trainer(max_epochs=config['epochs'], devices=1, accelerator=\"gpu\")\n",
    "        trainer.fit(model, trainloader)\n",
    "\n",
    "        # Test this fold\n",
    "        true_y, pred_y = [], []\n",
    "        for batch in tqdm(iter(testloader), total=len(testloader)):\n",
    "            x, y = batch\n",
    "            true_y.extend(y)\n",
    "            preds, probs = get_prediction(x, model)\n",
    "            pred_y.extend(preds.cpu())\n",
    "\n",
    "        report = classification_report(true_y, pred_y, output_dict=True)\n",
    "        reports.append(report)\n",
    "        mean_f1s.append((report['0']['f1-score']+report['1']['f1-score'])/2)\n",
    "#         print('=> CONFIG:', config)\n",
    "#         print(classification_report(true_y, pred_y))\n",
    "    max_f1_idx = mean_f1s.index(max(mean_f1s))\n",
    "    return reports[max_f1_idx]\n",
    "\n",
    "# EPOCHS = [10,20]\n",
    "# LRS = [1e-3,1e-4]\n",
    "\n",
    "# grid_search = pd.DataFrame(columns=['epochs','lr','f1-0','f1-1','acc'])\n",
    "\n",
    "# for epochs in EPOCHS:\n",
    "#     for lr in LRS:\n",
    "#         config = {'epochs': epochs, 'lr': lr}\n",
    "#         report = train_tune(config)\n",
    "#         grid_search = grid_search.append(\n",
    "#                         pd.Series(\n",
    "#                             [epochs,lr,report['0']['f1-score'],report['1']['f1-score'],report['accuracy']],\n",
    "#                             index=grid_search.columns), \n",
    "#                         ignore_index=True)\n",
    "#         grid_search.to_csv('./grid_search/PlantVillage_cosen.csv')\n",
    "# grid_search"
   ]
  },
  {
   "cell_type": "code",
   "execution_count": 10,
   "id": "2a86caa2",
   "metadata": {},
   "outputs": [
    {
     "name": "stdout",
     "output_type": "stream",
     "text": [
      "------------fold nº 0----------------------\n"
     ]
    },
    {
     "name": "stderr",
     "output_type": "stream",
     "text": [
      "GPU available: True (cuda), used: True\n",
      "TPU available: False, using: 0 TPU cores\n",
      "IPU available: False, using: 0 IPUs\n",
      "HPU available: False, using: 0 HPUs\n",
      "LOCAL_RANK: 0 - CUDA_VISIBLE_DEVICES: [0]\n",
      "\n",
      "  | Name     | Type                         | Params\n",
      "----------------------------------------------------------\n",
      "0 | accuracy | BinaryAccuracy               | 0     \n",
      "1 | f1score  | BinaryF1Score                | 0     \n",
      "2 | model    | ResNet                       | 23.5 M\n",
      "3 | loss     | CostSensitiveRegularizedLoss | 0     \n",
      "----------------------------------------------------------\n",
      "4.1 K     Trainable params\n",
      "23.5 M    Non-trainable params\n",
      "23.5 M    Total params\n",
      "94.049    Total estimated model params size (MB)\n",
      "/home/d/miniconda3/envs/tfg/lib/python3.7/site-packages/pytorch_lightning/trainer/connectors/data_connector.py:229: PossibleUserWarning: The dataloader, train_dataloader, does not have many workers which may be a bottleneck. Consider increasing the value of the `num_workers` argument` (try 12 which is the number of cpus on this machine) in the `DataLoader` init to improve performance.\n",
      "  category=PossibleUserWarning,\n"
     ]
    },
    {
     "data": {
      "application/vnd.jupyter.widget-view+json": {
       "model_id": "20e0a7ebb8f34d2dbad8a7b6e747f9cc",
       "version_major": 2,
       "version_minor": 0
      },
      "text/plain": [
       "Training: 0it [00:00, ?it/s]"
      ]
     },
     "metadata": {},
     "output_type": "display_data"
    },
    {
     "name": "stderr",
     "output_type": "stream",
     "text": [
      "`Trainer.fit` stopped: `max_epochs=25` reached.\n"
     ]
    },
    {
     "data": {
      "application/vnd.jupyter.widget-view+json": {
       "model_id": "2553e044729c4557b8e06e876f3c2778",
       "version_major": 2,
       "version_minor": 0
      },
      "text/plain": [
       "  0%|          | 0/40 [00:00<?, ?it/s]"
      ]
     },
     "metadata": {},
     "output_type": "display_data"
    },
    {
     "name": "stdout",
     "output_type": "stream",
     "text": [
      "------------fold nº 1----------------------\n"
     ]
    },
    {
     "name": "stderr",
     "output_type": "stream",
     "text": [
      "GPU available: True (cuda), used: True\n",
      "TPU available: False, using: 0 TPU cores\n",
      "IPU available: False, using: 0 IPUs\n",
      "HPU available: False, using: 0 HPUs\n",
      "LOCAL_RANK: 0 - CUDA_VISIBLE_DEVICES: [0]\n",
      "\n",
      "  | Name     | Type                         | Params\n",
      "----------------------------------------------------------\n",
      "0 | accuracy | BinaryAccuracy               | 0     \n",
      "1 | f1score  | BinaryF1Score                | 0     \n",
      "2 | model    | ResNet                       | 23.5 M\n",
      "3 | loss     | CostSensitiveRegularizedLoss | 0     \n",
      "----------------------------------------------------------\n",
      "4.1 K     Trainable params\n",
      "23.5 M    Non-trainable params\n",
      "23.5 M    Total params\n",
      "94.049    Total estimated model params size (MB)\n",
      "/home/d/miniconda3/envs/tfg/lib/python3.7/site-packages/pytorch_lightning/trainer/connectors/data_connector.py:229: PossibleUserWarning: The dataloader, train_dataloader, does not have many workers which may be a bottleneck. Consider increasing the value of the `num_workers` argument` (try 12 which is the number of cpus on this machine) in the `DataLoader` init to improve performance.\n",
      "  category=PossibleUserWarning,\n"
     ]
    },
    {
     "data": {
      "application/vnd.jupyter.widget-view+json": {
       "model_id": "6119471db0364c198da907be7e449b21",
       "version_major": 2,
       "version_minor": 0
      },
      "text/plain": [
       "Training: 0it [00:00, ?it/s]"
      ]
     },
     "metadata": {},
     "output_type": "display_data"
    },
    {
     "name": "stderr",
     "output_type": "stream",
     "text": [
      "`Trainer.fit` stopped: `max_epochs=25` reached.\n"
     ]
    },
    {
     "data": {
      "application/vnd.jupyter.widget-view+json": {
       "model_id": "4185aa9873064e34aa0993fb16ffd5f8",
       "version_major": 2,
       "version_minor": 0
      },
      "text/plain": [
       "  0%|          | 0/40 [00:00<?, ?it/s]"
      ]
     },
     "metadata": {},
     "output_type": "display_data"
    },
    {
     "name": "stdout",
     "output_type": "stream",
     "text": [
      "------------fold nº 2----------------------\n"
     ]
    },
    {
     "name": "stderr",
     "output_type": "stream",
     "text": [
      "GPU available: True (cuda), used: True\n",
      "TPU available: False, using: 0 TPU cores\n",
      "IPU available: False, using: 0 IPUs\n",
      "HPU available: False, using: 0 HPUs\n",
      "LOCAL_RANK: 0 - CUDA_VISIBLE_DEVICES: [0]\n",
      "\n",
      "  | Name     | Type                         | Params\n",
      "----------------------------------------------------------\n",
      "0 | accuracy | BinaryAccuracy               | 0     \n",
      "1 | f1score  | BinaryF1Score                | 0     \n",
      "2 | model    | ResNet                       | 23.5 M\n",
      "3 | loss     | CostSensitiveRegularizedLoss | 0     \n",
      "----------------------------------------------------------\n",
      "4.1 K     Trainable params\n",
      "23.5 M    Non-trainable params\n",
      "23.5 M    Total params\n",
      "94.049    Total estimated model params size (MB)\n",
      "/home/d/miniconda3/envs/tfg/lib/python3.7/site-packages/pytorch_lightning/trainer/connectors/data_connector.py:229: PossibleUserWarning: The dataloader, train_dataloader, does not have many workers which may be a bottleneck. Consider increasing the value of the `num_workers` argument` (try 12 which is the number of cpus on this machine) in the `DataLoader` init to improve performance.\n",
      "  category=PossibleUserWarning,\n"
     ]
    },
    {
     "data": {
      "application/vnd.jupyter.widget-view+json": {
       "model_id": "1542b34cce9248c0a13181893084572a",
       "version_major": 2,
       "version_minor": 0
      },
      "text/plain": [
       "Training: 0it [00:00, ?it/s]"
      ]
     },
     "metadata": {},
     "output_type": "display_data"
    },
    {
     "name": "stderr",
     "output_type": "stream",
     "text": [
      "`Trainer.fit` stopped: `max_epochs=25` reached.\n"
     ]
    },
    {
     "data": {
      "application/vnd.jupyter.widget-view+json": {
       "model_id": "73a73e2d8aa94491a7c395f12d38bc20",
       "version_major": 2,
       "version_minor": 0
      },
      "text/plain": [
       "  0%|          | 0/40 [00:00<?, ?it/s]"
      ]
     },
     "metadata": {},
     "output_type": "display_data"
    },
    {
     "name": "stdout",
     "output_type": "stream",
     "text": [
      "------------fold nº 3----------------------\n"
     ]
    },
    {
     "name": "stderr",
     "output_type": "stream",
     "text": [
      "GPU available: True (cuda), used: True\n",
      "TPU available: False, using: 0 TPU cores\n",
      "IPU available: False, using: 0 IPUs\n",
      "HPU available: False, using: 0 HPUs\n",
      "LOCAL_RANK: 0 - CUDA_VISIBLE_DEVICES: [0]\n",
      "\n",
      "  | Name     | Type                         | Params\n",
      "----------------------------------------------------------\n",
      "0 | accuracy | BinaryAccuracy               | 0     \n",
      "1 | f1score  | BinaryF1Score                | 0     \n",
      "2 | model    | ResNet                       | 23.5 M\n",
      "3 | loss     | CostSensitiveRegularizedLoss | 0     \n",
      "----------------------------------------------------------\n",
      "4.1 K     Trainable params\n",
      "23.5 M    Non-trainable params\n",
      "23.5 M    Total params\n",
      "94.049    Total estimated model params size (MB)\n",
      "/home/d/miniconda3/envs/tfg/lib/python3.7/site-packages/pytorch_lightning/trainer/connectors/data_connector.py:229: PossibleUserWarning: The dataloader, train_dataloader, does not have many workers which may be a bottleneck. Consider increasing the value of the `num_workers` argument` (try 12 which is the number of cpus on this machine) in the `DataLoader` init to improve performance.\n",
      "  category=PossibleUserWarning,\n"
     ]
    },
    {
     "data": {
      "application/vnd.jupyter.widget-view+json": {
       "model_id": "4b9385cb0a1941ffbd25f56c0496bc37",
       "version_major": 2,
       "version_minor": 0
      },
      "text/plain": [
       "Training: 0it [00:00, ?it/s]"
      ]
     },
     "metadata": {},
     "output_type": "display_data"
    },
    {
     "name": "stderr",
     "output_type": "stream",
     "text": [
      "`Trainer.fit` stopped: `max_epochs=25` reached.\n"
     ]
    },
    {
     "data": {
      "application/vnd.jupyter.widget-view+json": {
       "model_id": "27816e43b3f44892b231e6ce32a77558",
       "version_major": 2,
       "version_minor": 0
      },
      "text/plain": [
       "  0%|          | 0/40 [00:00<?, ?it/s]"
      ]
     },
     "metadata": {},
     "output_type": "display_data"
    },
    {
     "name": "stdout",
     "output_type": "stream",
     "text": [
      "------------fold nº 4----------------------\n"
     ]
    },
    {
     "name": "stderr",
     "output_type": "stream",
     "text": [
      "GPU available: True (cuda), used: True\n",
      "TPU available: False, using: 0 TPU cores\n",
      "IPU available: False, using: 0 IPUs\n",
      "HPU available: False, using: 0 HPUs\n",
      "LOCAL_RANK: 0 - CUDA_VISIBLE_DEVICES: [0]\n",
      "\n",
      "  | Name     | Type                         | Params\n",
      "----------------------------------------------------------\n",
      "0 | accuracy | BinaryAccuracy               | 0     \n",
      "1 | f1score  | BinaryF1Score                | 0     \n",
      "2 | model    | ResNet                       | 23.5 M\n",
      "3 | loss     | CostSensitiveRegularizedLoss | 0     \n",
      "----------------------------------------------------------\n",
      "4.1 K     Trainable params\n",
      "23.5 M    Non-trainable params\n",
      "23.5 M    Total params\n",
      "94.049    Total estimated model params size (MB)\n",
      "/home/d/miniconda3/envs/tfg/lib/python3.7/site-packages/pytorch_lightning/trainer/connectors/data_connector.py:229: PossibleUserWarning: The dataloader, train_dataloader, does not have many workers which may be a bottleneck. Consider increasing the value of the `num_workers` argument` (try 12 which is the number of cpus on this machine) in the `DataLoader` init to improve performance.\n",
      "  category=PossibleUserWarning,\n"
     ]
    },
    {
     "data": {
      "application/vnd.jupyter.widget-view+json": {
       "model_id": "2fc7f16ce73745f498cacc8374bb40f1",
       "version_major": 2,
       "version_minor": 0
      },
      "text/plain": [
       "Training: 0it [00:00, ?it/s]"
      ]
     },
     "metadata": {},
     "output_type": "display_data"
    },
    {
     "name": "stderr",
     "output_type": "stream",
     "text": [
      "`Trainer.fit` stopped: `max_epochs=25` reached.\n"
     ]
    },
    {
     "data": {
      "application/vnd.jupyter.widget-view+json": {
       "model_id": "0a0337b23a98486d8aab89604455cd5e",
       "version_major": 2,
       "version_minor": 0
      },
      "text/plain": [
       "  0%|          | 0/40 [00:00<?, ?it/s]"
      ]
     },
     "metadata": {},
     "output_type": "display_data"
    },
    {
     "name": "stdout",
     "output_type": "stream",
     "text": [
      "{'0': {'precision': 1.0, 'recall': 1.0, 'f1-score': 1.0, 'support': 318}, '1': {'precision': 1.0, 'recall': 1.0, 'f1-score': 1.0, 'support': 75}, 'accuracy': 1.0, 'macro avg': {'precision': 1.0, 'recall': 1.0, 'f1-score': 1.0, 'support': 393}, 'weighted avg': {'precision': 1.0, 'recall': 1.0, 'f1-score': 1.0, 'support': 393}}\n"
     ]
    }
   ],
   "source": [
    "mean_losses = []\n",
    "mean_acc = []\n",
    "mean_f1s = []\n",
    "\n",
    "config = {'epochs': 25, 'lr': 1e-4}\n",
    "report = train_tune(config)\n",
    "print(report)"
   ]
  },
  {
   "cell_type": "code",
   "execution_count": 11,
   "id": "c3af38ee",
   "metadata": {},
   "outputs": [
    {
     "data": {
      "image/png": "[encoded data removed]",
      "text/plain": [
       "<Figure size 640x480 with 1 Axes>"
      ]
     },
     "metadata": {},
     "output_type": "display_data"
    }
   ],
   "source": [
    "# Plot mean loss\n",
    "x_axis = [i for i in range(404)]\n",
    "\n",
    "splits=49\n",
    "plt.plot(x_axis, [sum(mean_losses[i:i + splits])/splits for i in range(0, len(mean_losses), splits)], 'g', label='Loss')\n",
    "# plt.plot(x_axis, [sum(mean_acc[i:i + splits])/splits for i in range(0, len(mean_acc), splits)], 'b', label='Accuracy')\n",
    "plt.plot(x_axis, [sum(mean_f1s[i:i + splits])/splits for i in range(0, len(mean_f1s), splits)], 'r', label='F1-score')\n",
    "plt.title('Training metrics')\n",
    "plt.xlabel('Épocas')\n",
    "# plt.ylabel('Loss media')\n",
    "plt.legend()\n",
    "plt.show()"
   ]
  },
  {
   "cell_type": "markdown",
   "id": "a1f53570",
   "metadata": {},
   "source": [
    "## <span style=\"color:blue\">UTKFace</span>"
   ]
  },
  {
   "cell_type": "code",
   "execution_count": 2,
   "id": "bf5692f5",
   "metadata": {},
   "outputs": [
    {
     "name": "stdout",
     "output_type": "stream",
     "text": [
      "Class 0: 11317 / Class 1: 1239 / BDeg:  9.133979015334948\n",
      "Total: 12556\n"
     ]
    }
   ],
   "source": [
    "data_transforms = transforms.Compose([\n",
    "    transforms.RandomResizedCrop(224),\n",
    "    transforms.RandomHorizontalFlip(p=0.5),\n",
    "    transforms.RandomVerticalFlip(p=0.5),\n",
    "    transforms.RandomRotation(degrees=[-10,10]),\n",
    "    transforms.ToTensor(),\n",
    "    transforms.Normalize(mean=[0.485, 0.456, 0.406], std=[0.229, 0.224, 0.225]),\n",
    "])\n",
    "\n",
    "image_dataset = datasets.ImageFolder('../data/UTKFace/train',data_transforms)\n",
    "\n",
    "# Provocar bias cogiendo un porcentaje de la clase 1 solamente (modificando el porcentaje hasta obtener b_deg deseado)\n",
    "class_0_idxs = torch.nonzero(torch.Tensor(image_dataset.targets)==0).flatten()\n",
    "class_1_idxs = torch.nonzero(torch.Tensor(image_dataset.targets)==1).flatten()\n",
    "class_1_idxs = class_1_idxs[torch.randperm(len(class_1_idxs))[:int(len(class_1_idxs)*.1)]]\n",
    "\n",
    "c0_s, c1_s = len(class_0_idxs), len(class_1_idxs)\n",
    "b_deg = c0_s / c1_s\n",
    "print('Class 0:', len(class_0_idxs), '/ Class 1:', len(class_1_idxs), '/ BDeg: ', b_deg)\n",
    "\n",
    "class_1_subset = Subset(image_dataset, class_1_idxs)\n",
    "class_0_subset = Subset(image_dataset, class_0_idxs)\n",
    "image_dataset = ConcatDataset([class_0_subset, class_1_subset])\n",
    "print('Total:', len(image_dataset))"
   ]
  },
  {
   "cell_type": "code",
   "execution_count": 3,
   "id": "4e4c1084",
   "metadata": {},
   "outputs": [
    {
     "name": "stdout",
     "output_type": "stream",
     "text": [
      "tensor([[0.0000, 0.0120],\n",
      "        [1.0000, 0.0000]], dtype=torch.float64)\n",
      "predict 0 (big) when 1 (small) = 19.9996\n",
      "predict 1 (small) when 0 (big) = 10.1199\n",
      "predict 1 when 1 = 0.0005\n",
      "predict 0 when 0 = 0.0001\n"
     ]
    }
   ],
   "source": [
    "cm = CostSensitiveRegularizedLoss(n_classes=2, base_loss='ce', lambd=10)\n",
    "# ASSUME that class 1 is the small here\n",
    "M = np.array([[0,1/b_deg],\n",
    "              [b_deg ,0]], dtype=float)\n",
    "cm.M = torch.from_numpy(M / M.max())\n",
    "print(cm.M)\n",
    "\n",
    "zero_logits = torch.tensor([10.0, 0.0]).unsqueeze(0)\n",
    "one_logits = torch.tensor([0.0, 10.0]).unsqueeze(0)\n",
    "# So if it's class 1 but we predict 0 -> BIG COST (dependent on balance degree!!)\n",
    "print(f'predict 0 (big) when 1 (small) = {cm(zero_logits, torch.tensor([1])):.4f}')\n",
    "# and if it's 0 but we predict 1 -> smaller cost\n",
    "print(f'predict 1 (small) when 0 (big) = {cm(one_logits, torch.tensor([0])):.4f}')\n",
    "# (and 0 cost if predicted well)\n",
    "print(f'predict 1 when 1 = {cm(one_logits, torch.tensor([1])):.4f}')\n",
    "print(f'predict 0 when 0 = {cm(zero_logits, torch.tensor([0])):.4f}')"
   ]
  },
  {
   "cell_type": "code",
   "execution_count": 4,
   "id": "6df64624",
   "metadata": {},
   "outputs": [],
   "source": [
    "from torchvision.models import resnet50\n",
    "\n",
    "mean_losses = []\n",
    "mean_acc = []\n",
    "mean_f1s = []\n",
    "\n",
    "class ResNetCustom(pl.LightningModule):\n",
    "    def __init__(self, config, class_sizes=[1,1]):\n",
    "        super().__init__()\n",
    "        self.n_classes = len(class_sizes)\n",
    "        c0_s, c1_s = class_sizes\n",
    "        b_deg = c0_s / c1_s # ASSUME that class 1 is the small one here!!!\n",
    "        \n",
    "        self.lr = config['lr']\n",
    "        self.EPOCHS = config['epochs']\n",
    "        \n",
    "        # metrics\n",
    "        task = \"multiclass\" if self.n_classes > 2 else \"binary\"\n",
    "        self.accuracy = torchmetrics.Accuracy(task=task, num_classes=self.n_classes)\n",
    "        self.f1score = torchmetrics.F1Score(task=task, num_classes=self.n_classes)\n",
    "        \n",
    "        self.model = resnet50(pretrained=True)\n",
    "        for param in self.model.parameters():\n",
    "            param.requires_grad = False\n",
    "        self.model.fc = nn.Linear(self.model.fc.in_features, self.n_classes, bias=True)\n",
    "            \n",
    "        # Cost-Sensitive loss\n",
    "        self.loss = CostSensitiveRegularizedLoss(n_classes=2, base_loss='ce', lambd=10)\n",
    "        M = np.array([[0,1/b_deg],\n",
    "                      [b_deg ,0]], dtype=float)\n",
    "        cm.M = torch.from_numpy(M / M.max())\n",
    "        self.loss = self.loss.cuda()\n",
    "        \n",
    "    def forward(self, x):\n",
    "        return self.model(x)\n",
    "    \n",
    "    def training_step(self, batch, batch_no):\n",
    "        x, y = batch\n",
    "        logits = self(x)\n",
    "        \n",
    "        y_onehot = F.one_hot(y, num_classes=self.n_classes).long()\n",
    "        acc = self.accuracy(logits, y_onehot)\n",
    "        f1s = self.f1score(logits, y_onehot)\n",
    "        mean_acc.append(acc.item())\n",
    "        mean_f1s.append(f1s.item())\n",
    "        \n",
    "        mean_loss = self.loss(logits, y)\n",
    "        mean_losses.append(mean_loss)\n",
    "\n",
    "        return mean_loss\n",
    "    \n",
    "    def configure_optimizers(self):\n",
    "        optimizer = torch.optim.Adam(self.model.fc.parameters(), lr=self.lr)\n",
    "        return {\n",
    "            \"optimizer\": optimizer,\n",
    "            \"lr_scheduler\": torch.optim.lr_scheduler.OneCycleLR(\n",
    "                                optimizer ,max_lr=0.01,\n",
    "                                steps_per_epoch=self.SPE,\n",
    "                                epochs=self.EPOCHS)\n",
    "        }"
   ]
  },
  {
   "cell_type": "code",
   "execution_count": 5,
   "id": "950cf6a1",
   "metadata": {},
   "outputs": [],
   "source": [
    "K=5\n",
    "BATCH_SIZE=10\n",
    "EPOCHS=1\n",
    "GAMMA_0=2\n",
    "\n",
    "def get_prediction(x, model: pl.LightningModule):\n",
    "    model.freeze() # prepares model for predicting\n",
    "    probabilities = torch.softmax(model(x), dim=1)\n",
    "    predicted_class = torch.argmax(probabilities, dim=1)\n",
    "    return predicted_class, probabilities\n",
    "\n",
    "def train_tune(config):\n",
    "    kfold = KFold(n_splits=K, shuffle=True)\n",
    "    reports = []\n",
    "    mean_f1s = []\n",
    "    for fold,(train_idx,val_idx) in enumerate(kfold.split(image_dataset)):\n",
    "        print(f'------------fold nº {fold}----------------------')\n",
    "\n",
    "        train_subsampler = torch.utils.data.SubsetRandomSampler(train_idx)\n",
    "        val_subsampler = torch.utils.data.SubsetRandomSampler(val_idx)\n",
    "        trainloader = torch.utils.data.DataLoader(\n",
    "                          image_dataset, \n",
    "                          batch_size=BATCH_SIZE, sampler=train_subsampler)\n",
    "        testloader = torch.utils.data.DataLoader(\n",
    "                          image_dataset,\n",
    "                          batch_size=BATCH_SIZE, sampler=val_subsampler)\n",
    "\n",
    "        # Train this fold\n",
    "        model = ResNetCustom(config, class_sizes=[c0_s,c1_s])\n",
    "        model.SPE = len(trainloader)\n",
    "        trainer = pl.Trainer(max_epochs=config['epochs'], devices=1, accelerator=\"gpu\")\n",
    "        trainer.fit(model, trainloader)\n",
    "\n",
    "        # Test this fold\n",
    "        true_y, pred_y = [], []\n",
    "        for batch in tqdm(iter(testloader), total=len(testloader)):\n",
    "            x, y = batch\n",
    "            true_y.extend(y)\n",
    "            preds, probs = get_prediction(x, model)\n",
    "            pred_y.extend(preds.cpu())\n",
    "\n",
    "        report = classification_report(true_y, pred_y, output_dict=True)\n",
    "        reports.append(report)\n",
    "        mean_f1s.append((report['0']['f1-score']+report['1']['f1-score'])/2)\n",
    "#         print('=> CONFIG:', config)\n",
    "#         print(classification_report(true_y, pred_y))\n",
    "    max_f1_idx = mean_f1s.index(max(mean_f1s))\n",
    "    return reports[max_f1_idx]\n",
    "\n",
    "# EPOCHS = [10,20]\n",
    "# LRS = [1e-3,1e-4]\n",
    "\n",
    "# grid_search = pd.DataFrame(columns=['epochs','lr','f1-0','f1-1','acc'])\n",
    "\n",
    "# for epochs in EPOCHS:\n",
    "#     for lr in LRS:\n",
    "#         config = {'epochs': epochs, 'lr': lr}\n",
    "#         report = train_tune(config)\n",
    "#         grid_search = grid_search.append(\n",
    "#                         pd.Series(\n",
    "#                             [epochs,lr,report['0']['f1-score'],report['1']['f1-score'],report['accuracy']],\n",
    "#                             index=grid_search.columns), \n",
    "#                         ignore_index=True)\n",
    "#         grid_search.to_csv('./grid_search/PlantVillage_cosen.csv')\n",
    "# grid_search"
   ]
  },
  {
   "cell_type": "code",
   "execution_count": 6,
   "id": "9d75a943",
   "metadata": {},
   "outputs": [
    {
     "name": "stdout",
     "output_type": "stream",
     "text": [
      "------------fold nº 0----------------------\n"
     ]
    },
    {
     "name": "stderr",
     "output_type": "stream",
     "text": [
      "GPU available: True (cuda), used: True\n",
      "TPU available: False, using: 0 TPU cores\n",
      "IPU available: False, using: 0 IPUs\n",
      "HPU available: False, using: 0 HPUs\n",
      "LOCAL_RANK: 0 - CUDA_VISIBLE_DEVICES: [0]\n",
      "\n",
      "  | Name     | Type                         | Params\n",
      "----------------------------------------------------------\n",
      "0 | accuracy | BinaryAccuracy               | 0     \n",
      "1 | f1score  | BinaryF1Score                | 0     \n",
      "2 | model    | ResNet                       | 23.5 M\n",
      "3 | loss     | CostSensitiveRegularizedLoss | 0     \n",
      "----------------------------------------------------------\n",
      "4.1 K     Trainable params\n",
      "23.5 M    Non-trainable params\n",
      "23.5 M    Total params\n",
      "94.049    Total estimated model params size (MB)\n",
      "/home/d/miniconda3/envs/tfg/lib/python3.7/site-packages/pytorch_lightning/trainer/connectors/data_connector.py:229: PossibleUserWarning: The dataloader, train_dataloader, does not have many workers which may be a bottleneck. Consider increasing the value of the `num_workers` argument` (try 12 which is the number of cpus on this machine) in the `DataLoader` init to improve performance.\n",
      "  category=PossibleUserWarning,\n"
     ]
    },
    {
     "data": {
      "application/vnd.jupyter.widget-view+json": {
       "model_id": "e8801acdc0fa4e4c922335310deeb984",
       "version_major": 2,
       "version_minor": 0
      },
      "text/plain": [
       "Training: 0it [00:00, ?it/s]"
      ]
     },
     "metadata": {},
     "output_type": "display_data"
    },
    {
     "name": "stderr",
     "output_type": "stream",
     "text": [
      "`Trainer.fit` stopped: `max_epochs=25` reached.\n"
     ]
    },
    {
     "data": {
      "application/vnd.jupyter.widget-view+json": {
       "model_id": "dd57c13bf0b74be69eec0ec5c5470c1b",
       "version_major": 2,
       "version_minor": 0
      },
      "text/plain": [
       "  0%|          | 0/252 [00:00<?, ?it/s]"
      ]
     },
     "metadata": {},
     "output_type": "display_data"
    },
    {
     "name": "stdout",
     "output_type": "stream",
     "text": [
      "------------fold nº 1----------------------\n"
     ]
    },
    {
     "name": "stderr",
     "output_type": "stream",
     "text": [
      "GPU available: True (cuda), used: True\n",
      "TPU available: False, using: 0 TPU cores\n",
      "IPU available: False, using: 0 IPUs\n",
      "HPU available: False, using: 0 HPUs\n",
      "LOCAL_RANK: 0 - CUDA_VISIBLE_DEVICES: [0]\n",
      "\n",
      "  | Name     | Type                         | Params\n",
      "----------------------------------------------------------\n",
      "0 | accuracy | BinaryAccuracy               | 0     \n",
      "1 | f1score  | BinaryF1Score                | 0     \n",
      "2 | model    | ResNet                       | 23.5 M\n",
      "3 | loss     | CostSensitiveRegularizedLoss | 0     \n",
      "----------------------------------------------------------\n",
      "4.1 K     Trainable params\n",
      "23.5 M    Non-trainable params\n",
      "23.5 M    Total params\n",
      "94.049    Total estimated model params size (MB)\n",
      "/home/d/miniconda3/envs/tfg/lib/python3.7/site-packages/pytorch_lightning/trainer/connectors/data_connector.py:229: PossibleUserWarning: The dataloader, train_dataloader, does not have many workers which may be a bottleneck. Consider increasing the value of the `num_workers` argument` (try 12 which is the number of cpus on this machine) in the `DataLoader` init to improve performance.\n",
      "  category=PossibleUserWarning,\n"
     ]
    },
    {
     "data": {
      "application/vnd.jupyter.widget-view+json": {
       "model_id": "723577ac30604d6f9ace379b12613b9d",
       "version_major": 2,
       "version_minor": 0
      },
      "text/plain": [
       "Training: 0it [00:00, ?it/s]"
      ]
     },
     "metadata": {},
     "output_type": "display_data"
    },
    {
     "name": "stderr",
     "output_type": "stream",
     "text": [
      "`Trainer.fit` stopped: `max_epochs=25` reached.\n"
     ]
    },
    {
     "data": {
      "application/vnd.jupyter.widget-view+json": {
       "model_id": "119939a18e1a4beda69f78925aa25c6a",
       "version_major": 2,
       "version_minor": 0
      },
      "text/plain": [
       "  0%|          | 0/252 [00:00<?, ?it/s]"
      ]
     },
     "metadata": {},
     "output_type": "display_data"
    },
    {
     "name": "stdout",
     "output_type": "stream",
     "text": [
      "------------fold nº 2----------------------\n"
     ]
    },
    {
     "name": "stderr",
     "output_type": "stream",
     "text": [
      "GPU available: True (cuda), used: True\n",
      "TPU available: False, using: 0 TPU cores\n",
      "IPU available: False, using: 0 IPUs\n",
      "HPU available: False, using: 0 HPUs\n",
      "LOCAL_RANK: 0 - CUDA_VISIBLE_DEVICES: [0]\n",
      "\n",
      "  | Name     | Type                         | Params\n",
      "----------------------------------------------------------\n",
      "0 | accuracy | BinaryAccuracy               | 0     \n",
      "1 | f1score  | BinaryF1Score                | 0     \n",
      "2 | model    | ResNet                       | 23.5 M\n",
      "3 | loss     | CostSensitiveRegularizedLoss | 0     \n",
      "----------------------------------------------------------\n",
      "4.1 K     Trainable params\n",
      "23.5 M    Non-trainable params\n",
      "23.5 M    Total params\n",
      "94.049    Total estimated model params size (MB)\n",
      "/home/d/miniconda3/envs/tfg/lib/python3.7/site-packages/pytorch_lightning/trainer/connectors/data_connector.py:229: PossibleUserWarning: The dataloader, train_dataloader, does not have many workers which may be a bottleneck. Consider increasing the value of the `num_workers` argument` (try 12 which is the number of cpus on this machine) in the `DataLoader` init to improve performance.\n",
      "  category=PossibleUserWarning,\n"
     ]
    },
    {
     "data": {
      "application/vnd.jupyter.widget-view+json": {
       "model_id": "fdf8c0eb3f6743438212069fa446fd1f",
       "version_major": 2,
       "version_minor": 0
      },
      "text/plain": [
       "Training: 0it [00:00, ?it/s]"
      ]
     },
     "metadata": {},
     "output_type": "display_data"
    },
    {
     "name": "stderr",
     "output_type": "stream",
     "text": [
      "`Trainer.fit` stopped: `max_epochs=25` reached.\n"
     ]
    },
    {
     "data": {
      "application/vnd.jupyter.widget-view+json": {
       "model_id": "cc753eb677fd4762993a1f7c4e3e1d14",
       "version_major": 2,
       "version_minor": 0
      },
      "text/plain": [
       "  0%|          | 0/252 [00:00<?, ?it/s]"
      ]
     },
     "metadata": {},
     "output_type": "display_data"
    },
    {
     "name": "stdout",
     "output_type": "stream",
     "text": [
      "------------fold nº 3----------------------\n"
     ]
    },
    {
     "name": "stderr",
     "output_type": "stream",
     "text": [
      "GPU available: True (cuda), used: True\n",
      "TPU available: False, using: 0 TPU cores\n",
      "IPU available: False, using: 0 IPUs\n",
      "HPU available: False, using: 0 HPUs\n",
      "LOCAL_RANK: 0 - CUDA_VISIBLE_DEVICES: [0]\n",
      "\n",
      "  | Name     | Type                         | Params\n",
      "----------------------------------------------------------\n",
      "0 | accuracy | BinaryAccuracy               | 0     \n",
      "1 | f1score  | BinaryF1Score                | 0     \n",
      "2 | model    | ResNet                       | 23.5 M\n",
      "3 | loss     | CostSensitiveRegularizedLoss | 0     \n",
      "----------------------------------------------------------\n",
      "4.1 K     Trainable params\n",
      "23.5 M    Non-trainable params\n",
      "23.5 M    Total params\n",
      "94.049    Total estimated model params size (MB)\n",
      "/home/d/miniconda3/envs/tfg/lib/python3.7/site-packages/pytorch_lightning/trainer/connectors/data_connector.py:229: PossibleUserWarning: The dataloader, train_dataloader, does not have many workers which may be a bottleneck. Consider increasing the value of the `num_workers` argument` (try 12 which is the number of cpus on this machine) in the `DataLoader` init to improve performance.\n",
      "  category=PossibleUserWarning,\n"
     ]
    },
    {
     "data": {
      "application/vnd.jupyter.widget-view+json": {
       "model_id": "5819c614cad84627b01be64d49f17f42",
       "version_major": 2,
       "version_minor": 0
      },
      "text/plain": [
       "Training: 0it [00:00, ?it/s]"
      ]
     },
     "metadata": {},
     "output_type": "display_data"
    },
    {
     "name": "stderr",
     "output_type": "stream",
     "text": [
      "`Trainer.fit` stopped: `max_epochs=25` reached.\n"
     ]
    },
    {
     "data": {
      "application/vnd.jupyter.widget-view+json": {
       "model_id": "18578204fb8c49628eca6711a89d5640",
       "version_major": 2,
       "version_minor": 0
      },
      "text/plain": [
       "  0%|          | 0/252 [00:00<?, ?it/s]"
      ]
     },
     "metadata": {},
     "output_type": "display_data"
    },
    {
     "name": "stdout",
     "output_type": "stream",
     "text": [
      "------------fold nº 4----------------------\n"
     ]
    },
    {
     "name": "stderr",
     "output_type": "stream",
     "text": [
      "GPU available: True (cuda), used: True\n",
      "TPU available: False, using: 0 TPU cores\n",
      "IPU available: False, using: 0 IPUs\n",
      "HPU available: False, using: 0 HPUs\n",
      "LOCAL_RANK: 0 - CUDA_VISIBLE_DEVICES: [0]\n",
      "\n",
      "  | Name     | Type                         | Params\n",
      "----------------------------------------------------------\n",
      "0 | accuracy | BinaryAccuracy               | 0     \n",
      "1 | f1score  | BinaryF1Score                | 0     \n",
      "2 | model    | ResNet                       | 23.5 M\n",
      "3 | loss     | CostSensitiveRegularizedLoss | 0     \n",
      "----------------------------------------------------------\n",
      "4.1 K     Trainable params\n",
      "23.5 M    Non-trainable params\n",
      "23.5 M    Total params\n",
      "94.049    Total estimated model params size (MB)\n",
      "/home/d/miniconda3/envs/tfg/lib/python3.7/site-packages/pytorch_lightning/trainer/connectors/data_connector.py:229: PossibleUserWarning: The dataloader, train_dataloader, does not have many workers which may be a bottleneck. Consider increasing the value of the `num_workers` argument` (try 12 which is the number of cpus on this machine) in the `DataLoader` init to improve performance.\n",
      "  category=PossibleUserWarning,\n"
     ]
    },
    {
     "data": {
      "application/vnd.jupyter.widget-view+json": {
       "model_id": "184b07754abe4ef79d0a4cd92615e16d",
       "version_major": 2,
       "version_minor": 0
      },
      "text/plain": [
       "Training: 0it [00:00, ?it/s]"
      ]
     },
     "metadata": {},
     "output_type": "display_data"
    },
    {
     "name": "stderr",
     "output_type": "stream",
     "text": [
      "`Trainer.fit` stopped: `max_epochs=25` reached.\n"
     ]
    },
    {
     "data": {
      "application/vnd.jupyter.widget-view+json": {
       "model_id": "9c5b4b996a194766b436864b59ade677",
       "version_major": 2,
       "version_minor": 0
      },
      "text/plain": [
       "  0%|          | 0/252 [00:00<?, ?it/s]"
      ]
     },
     "metadata": {},
     "output_type": "display_data"
    },
    {
     "name": "stdout",
     "output_type": "stream",
     "text": [
      "{'0': {'precision': 0.9078787878787878, 'recall': 0.9955693398316349, 'f1-score': 0.9497041420118343, 'support': 2257}, '1': {'precision': 0.7222222222222222, 'recall': 0.10236220472440945, 'f1-score': 0.1793103448275862, 'support': 254}, 'accuracy': 0.9052170450019913, 'macro avg': {'precision': 0.815050505050505, 'recall': 0.5489657722780221, 'f1-score': 0.5645072434197103, 'support': 2511}, 'weighted avg': {'precision': 0.8890987131369449, 'recall': 0.9052170450019913, 'f1-score': 0.8717750203532126, 'support': 2511}}\n"
     ]
    }
   ],
   "source": [
    "mean_losses = []\n",
    "mean_acc = []\n",
    "mean_f1s = []\n",
    "\n",
    "config = {'epochs': 25, 'lr': 1e-4}\n",
    "report = train_tune(config)\n",
    "print(report)"
   ]
  },
  {
   "cell_type": "code",
   "execution_count": 8,
   "id": "3fb8fbe5",
   "metadata": {},
   "outputs": [
    {
     "data": {
      "image/png": "[encoded data removed]",
      "text/plain": [
       "<Figure size 640x480 with 1 Axes>"
      ]
     },
     "metadata": {},
     "output_type": "display_data"
    }
   ],
   "source": [
    "# Plot mean loss\n",
    "x_axis = [i for i in range(4840)]\n",
    "\n",
    "splits=49\n",
    "plt.plot(x_axis, [sum(mean_losses[i:i + splits])/splits for i in range(0, len(mean_losses), splits)], 'g', label='Loss')\n",
    "# plt.plot(x_axis, [sum(mean_acc[i:i + splits])/splits for i in range(0, len(mean_acc), splits)], 'b', label='Accuracy')\n",
    "plt.plot(x_axis, [sum(mean_f1s[i:i + splits])/splits for i in range(0, len(mean_f1s), splits)], 'r', label='F1-score')\n",
    "plt.title('Training metrics')\n",
    "plt.xlabel('Épocas')\n",
    "# plt.ylabel('Loss media')\n",
    "plt.legend()\n",
    "plt.show()"
   ]
  }
 ],
 "metadata": {
  "kernelspec": {
   "display_name": "Python 3 (ipykernel)",
   "language": "python",
   "name": "python3"
  },
  "language_info": {
   "codemirror_mode": {
    "name": "ipython",
    "version": 3
   },
   "file_extension": ".py",
   "mimetype": "text/x-python",
   "name": "python",
   "nbconvert_exporter": "python",
   "pygments_lexer": "ipython3",
   "version": "3.7.13"
  }
 },
 "nbformat": 4,
 "nbformat_minor": 5
}

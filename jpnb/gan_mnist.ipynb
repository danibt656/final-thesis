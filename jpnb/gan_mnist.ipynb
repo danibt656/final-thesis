{
 "cells": [
  {
   "cell_type": "markdown",
   "id": "2e7ccedb",
   "metadata": {},
   "source": [
    "# GAN\n",
    "\n",
    "***\n",
    "\n",
    "Experiment with Generative Adversarial Networks based on [this article](https://realpython.com/generative-adversarial-networks/)."
   ]
  },
  {
   "cell_type": "code",
   "execution_count": 30,
   "id": "53bf026f",
   "metadata": {},
   "outputs": [
    {
     "data": {
      "text/plain": [
       "<torch._C.Generator at 0x7f6d84434b90>"
      ]
     },
     "execution_count": 30,
     "metadata": {},
     "output_type": "execute_result"
    }
   ],
   "source": [
    "import torch\n",
    "from torch import nn\n",
    "import math\n",
    "import matplotlib.pyplot as plt\n",
    "\n",
    "# For re-usability\n",
    "torch.manual_seed(111)"
   ]
  },
  {
   "cell_type": "markdown",
   "id": "42d8fcd6",
   "metadata": {},
   "source": [
    "### Create the data set for simple y = sin(x) function (x in range [0, 2pi])"
   ]
  },
  {
   "cell_type": "code",
   "execution_count": 31,
   "id": "127fa752",
   "metadata": {},
   "outputs": [],
   "source": [
    "train_data_length = 1024\n",
    "train_data = torch.zeros((train_data_length, 2))\n",
    "train_data[:,0] = 2 * math.pi * torch.rand(train_data_length)\n",
    "train_data[:,1] = torch.sin(train_data[:,0])\n",
    "train_labels = torch.zeros(train_data_length)\n",
    "train_set = [\n",
    "    (train_data[i], train_labels[i]) for i in range(train_data_length)\n",
    "]"
   ]
  },
  {
   "cell_type": "code",
   "execution_count": 32,
   "id": "a8f697a8",
   "metadata": {},
   "outputs": [
    {
     "data": {
      "text/plain": [
       "[<matplotlib.lines.Line2D at 0x7f6d30374310>]"
      ]
     },
     "execution_count": 32,
     "metadata": {},
     "output_type": "execute_result"
    },
    {
     "data": {
      "image/png": "[encoded data removed]",
      "text/plain": [
       "<Figure size 432x288 with 1 Axes>"
      ]
     },
     "metadata": {
      "needs_background": "light"
     },
     "output_type": "display_data"
    }
   ],
   "source": [
    "plt.plot(train_data[:, 0], train_data[:, 1], \".\")"
   ]
  },
  {
   "cell_type": "code",
   "execution_count": 33,
   "id": "f734b52c",
   "metadata": {},
   "outputs": [],
   "source": [
    "batch_size = 32\n",
    "train_loader = torch.utils.data.DataLoader(\n",
    "    train_set, batch_size=batch_size, shuffle=True\n",
    ")"
   ]
  },
  {
   "cell_type": "markdown",
   "id": "7754f3d6",
   "metadata": {},
   "source": [
    "### Create Discriminator & Generator nets"
   ]
  },
  {
   "cell_type": "code",
   "execution_count": 34,
   "id": "c4c55b75",
   "metadata": {},
   "outputs": [],
   "source": [
    "class Discriminator(nn.Module):\n",
    "    def __init__(self):\n",
    "        super().__init__()\n",
    "        self.model = nn.Sequential(\n",
    "            nn.Linear(2, 256),\n",
    "            nn.ReLU(),\n",
    "            nn.Dropout(0.3),\n",
    "            nn.Linear(256, 128),\n",
    "            nn.ReLU(),\n",
    "            nn.Dropout(0.3),\n",
    "            nn.Linear(128, 64),\n",
    "            nn.ReLU(),\n",
    "            nn.Dropout(0.3),\n",
    "            nn.Linear(64, 1),\n",
    "            nn.Sigmoid(),\n",
    "        )\n",
    "        \n",
    "    def forward(self, x):\n",
    "        output = self.model(x)\n",
    "        return output\n",
    "    \n",
    "class Generator(nn.Module):\n",
    "    def __init__(self):\n",
    "        super().__init__()\n",
    "        self.model = nn.Sequential(\n",
    "            nn.Linear(2, 16),\n",
    "            nn.ReLU(),\n",
    "            nn.Linear(16, 32),\n",
    "            nn.ReLU(),\n",
    "            nn.Linear(32, 2),\n",
    "        )\n",
    "        \n",
    "    def forward(self, x):\n",
    "        output = self.model(x)\n",
    "        return output"
   ]
  },
  {
   "cell_type": "code",
   "execution_count": 35,
   "id": "d156eb0b",
   "metadata": {},
   "outputs": [],
   "source": [
    "discriminator = Discriminator()\n",
    "generator = Generator()"
   ]
  },
  {
   "cell_type": "markdown",
   "id": "750011e0",
   "metadata": {},
   "source": [
    "### Training the models"
   ]
  },
  {
   "cell_type": "code",
   "execution_count": 36,
   "id": "9c2c0d4b",
   "metadata": {},
   "outputs": [],
   "source": [
    "lr = 0.001 # learning rate\n",
    "num_epochs = 300\n",
    "loss_function = nn.BCELoss()"
   ]
  },
  {
   "cell_type": "code",
   "execution_count": 37,
   "id": "1e1a5f50",
   "metadata": {},
   "outputs": [],
   "source": [
    "optimizer_discriminator = torch.optim.Adam(discriminator.parameters(), lr=lr)\n",
    "optimizer_generator = torch.optim.Adam(generator.parameters(), lr=lr)"
   ]
  },
  {
   "cell_type": "code",
   "execution_count": 26,
   "id": "f6077ef3",
   "metadata": {},
   "outputs": [
    {
     "name": "stdout",
     "output_type": "stream",
     "text": [
      "Epoch: 0 Loss D.: 0.657355010509491 Loss G.: 0.7505490183830261\n",
      "Epoch: 10 Loss D.: 0.690373957157135 Loss G.: 0.8222972750663757\n",
      "Epoch: 20 Loss D.: 0.6800248026847839 Loss G.: 1.0879905223846436\n",
      "Epoch: 30 Loss D.: 0.6096493005752563 Loss G.: 0.8101580739021301\n",
      "Epoch: 40 Loss D.: 0.7103850245475769 Loss G.: 0.7602136731147766\n",
      "Epoch: 50 Loss D.: 0.6228328347206116 Loss G.: 0.8047717213630676\n",
      "Epoch: 60 Loss D.: 0.6702821254730225 Loss G.: 0.8068242073059082\n",
      "Epoch: 70 Loss D.: 0.6050972938537598 Loss G.: 1.1488230228424072\n",
      "Epoch: 80 Loss D.: 0.6951301097869873 Loss G.: 0.8065435886383057\n",
      "Epoch: 90 Loss D.: 0.689238965511322 Loss G.: 0.7050328254699707\n",
      "Epoch: 100 Loss D.: 0.6759951114654541 Loss G.: 0.7231992483139038\n",
      "Epoch: 110 Loss D.: 0.51629239320755 Loss G.: 1.4924169778823853\n",
      "Epoch: 120 Loss D.: 0.6870977282524109 Loss G.: 0.7498778104782104\n",
      "Epoch: 130 Loss D.: 0.6885086297988892 Loss G.: 0.7616593837738037\n",
      "Epoch: 140 Loss D.: 0.68923020362854 Loss G.: 0.8642635345458984\n",
      "Epoch: 150 Loss D.: 0.6563189625740051 Loss G.: 0.6891502141952515\n",
      "Epoch: 160 Loss D.: 0.6806265115737915 Loss G.: 0.9550836086273193\n",
      "Epoch: 170 Loss D.: 0.7517330050468445 Loss G.: 0.749718427658081\n",
      "Epoch: 180 Loss D.: 0.7198529839515686 Loss G.: 0.9431372880935669\n",
      "Epoch: 190 Loss D.: 0.7042568325996399 Loss G.: 0.842444658279419\n",
      "Epoch: 200 Loss D.: 0.6634023785591125 Loss G.: 0.8229681849479675\n",
      "Epoch: 210 Loss D.: 0.6315159797668457 Loss G.: 1.1159546375274658\n",
      "Epoch: 220 Loss D.: 0.6209485530853271 Loss G.: 1.064274549484253\n",
      "Epoch: 230 Loss D.: 0.6533680558204651 Loss G.: 0.9486516714096069\n",
      "Epoch: 240 Loss D.: 0.6633570790290833 Loss G.: 0.8694248199462891\n",
      "Epoch: 250 Loss D.: 0.6909238696098328 Loss G.: 0.7762820720672607\n",
      "Epoch: 260 Loss D.: 0.6716344356536865 Loss G.: 0.6622865200042725\n",
      "Epoch: 270 Loss D.: 0.5083625316619873 Loss G.: 1.0823147296905518\n",
      "Epoch: 280 Loss D.: 0.6377630233764648 Loss G.: 0.9422820210456848\n",
      "Epoch: 290 Loss D.: 0.6920954585075378 Loss G.: 0.7134886384010315\n"
     ]
    }
   ],
   "source": [
    "for epoch in range(num_epochs):\n",
    "    for n, (real_samples,_) in enumerate(train_loader):\n",
    "        # Data for training Discriminator\n",
    "        real_samples_labels = torch.ones((batch_size, 1)) # 1 for real samples\n",
    "        latent_space_samples = torch.randn((batch_size, 2))\n",
    "        generated_samples = generator(latent_space_samples)\n",
    "        generated_samples_labels = torch.zeros((batch_size, 1)) # 0 for \"fake\" samples\n",
    "        all_samples = torch.cat((real_samples, generated_samples))\n",
    "        all_samples_labels = torch.cat((real_samples_labels, generated_samples_labels))\n",
    "        \n",
    "        # Trainin the Discriminator\n",
    "        discriminator.zero_grad() # clear the gradients at each step to avoid accumulating them\n",
    "        output_discriminator = discriminator(all_samples)\n",
    "        loss_discriminator = loss_function(\n",
    "            output_discriminator, all_samples_labels\n",
    "        )\n",
    "        loss_discriminator.backward() # calculate the gradients to update weights\n",
    "        optimizer_discriminator.step() # update discriminator weights\n",
    "        \n",
    "        # Data for training Generator\n",
    "        latent_space_samples = torch.randn((batch_size, 2))\n",
    "        \n",
    "        # Training the Generator\n",
    "        generator.zero_grad()\n",
    "        generated_samples = generator(latent_space_samples)\n",
    "        output_discriminator_generated = discriminator(generated_samples)\n",
    "        loss_generator = loss_function(\n",
    "            output_discriminator_generated, real_samples_labels\n",
    "        )\n",
    "        loss_generator.backward()\n",
    "        optimizer_generator.step()\n",
    "        \n",
    "        # Show loss\n",
    "        if epoch % 10 == 0 and n == batch_size - 1:\n",
    "            print(f\"Epoch: {epoch} Loss D.: {loss_discriminator} Loss G.: {loss_generator}\")"
   ]
  },
  {
   "cell_type": "markdown",
   "id": "6035d146",
   "metadata": {},
   "source": [
    "### Test the trained generator"
   ]
  },
  {
   "cell_type": "code",
   "execution_count": 27,
   "id": "93141b67",
   "metadata": {},
   "outputs": [
    {
     "data": {
      "text/plain": [
       "[<matplotlib.lines.Line2D at 0x7f6d2970c850>]"
      ]
     },
     "execution_count": 27,
     "metadata": {},
     "output_type": "execute_result"
    },
    {
     "data": {
      "image/png": "[encoded data removed]",
      "text/plain": [
       "<Figure size 432x288 with 1 Axes>"
      ]
     },
     "metadata": {
      "needs_background": "light"
     },
     "output_type": "display_data"
    }
   ],
   "source": [
    "latent_space_samples = torch.randn(100, 2)\n",
    "generated_samples = generator(latent_space_samples)\n",
    "\n",
    "generated_samples = generated_samples.detach()\n",
    "plt.plot(generated_samples[:, 0], generated_samples[:, 1], \".\")"
   ]
  },
  {
   "cell_type": "markdown",
   "id": "ab2f7857",
   "metadata": {},
   "source": [
    "# mnist GAN\n",
    "\n",
    "***\n",
    "\n",
    "Now we get messy with images"
   ]
  },
  {
   "cell_type": "code",
   "execution_count": 1,
   "id": "ffdc7748",
   "metadata": {},
   "outputs": [],
   "source": [
    "import torch\n",
    "from torch import nn\n",
    "import math\n",
    "import matplotlib.pyplot as plt\n",
    "import torchvision\n",
    "import torchvision.transforms as transforms"
   ]
  },
  {
   "cell_type": "code",
   "execution_count": 5,
   "id": "c9c198ac",
   "metadata": {},
   "outputs": [],
   "source": [
    "device = \"\"\n",
    "if torch.cuda.is_available():\n",
    "    device = torch.device(\"cuda\")\n",
    "else:\n",
    "    device = torch.device(\"cpu\")"
   ]
  },
  {
   "cell_type": "markdown",
   "id": "ad2825fa",
   "metadata": {},
   "source": [
    "### preparing data"
   ]
  },
  {
   "cell_type": "code",
   "execution_count": null,
   "id": "a2b450e1",
   "metadata": {},
   "outputs": [],
   "source": [
    "# define a transform function to perform over images\n",
    "transform = transforms.Compose(\n",
    "    [\n",
    "        transforms.ToTensor(), # convert data to PyTorch ternsor\n",
    "        transforms.Normalize((0.5,), (0.5,)) # convert range of tensor coefficients\n",
    "    ]\n",
    ")"
   ]
  },
  {
   "cell_type": "code",
   "execution_count": null,
   "id": "27a9bc93",
   "metadata": {},
   "outputs": [],
   "source": [
    "# this will download the dataset on current directory!!!\n",
    "train_set = torchvision.datasets.MNIST(\n",
    "    root=\".\", train=True, download=True, transform=transform\n",
    ")"
   ]
  },
  {
   "cell_type": "code",
   "execution_count": 3,
   "id": "8ac9bed4",
   "metadata": {},
   "outputs": [],
   "source": [
    "# create data loader\n",
    "batch_size = 32\n",
    "train_loader = torch.utils.data.DataLoader(\n",
    "    train_set, batch_size=batch_size, shuffle=True\n",
    ")"
   ]
  },
  {
   "cell_type": "code",
   "execution_count": 4,
   "id": "bd01f0bb",
   "metadata": {},
   "outputs": [
    {
     "data": {
      "image/png": "[encoded data removed]",
      "text/plain": [
       "<Figure size 432x288 with 16 Axes>"
      ]
     },
     "metadata": {},
     "output_type": "display_data"
    }
   ],
   "source": [
    "real_samples, mnist_labels = next(iter(train_loader))\n",
    "for i in range(16):\n",
    "    ax = plt.subplot(4, 4, i+1)\n",
    "    plt.imshow(real_samples[i].reshape(28,28), cmap=\"gray_r\")\n",
    "    plt.xticks([])\n",
    "    plt.yticks([])"
   ]
  },
  {
   "cell_type": "markdown",
   "id": "9e5743d2",
   "metadata": {},
   "source": [
    "### Creating Discriminator & Generator"
   ]
  },
  {
   "cell_type": "code",
   "execution_count": 6,
   "id": "9681032f",
   "metadata": {},
   "outputs": [],
   "source": [
    "class Discriminator(nn.Module):\n",
    "    def __init__(self):\n",
    "        super().__init__()\n",
    "        self.model = nn.Sequential(\n",
    "            nn.Linear(784, 1024),\n",
    "            nn.ReLU(),\n",
    "            nn.Dropout(0.3),\n",
    "            nn.Linear(1024, 512),\n",
    "            nn.ReLU(),\n",
    "            nn.Dropout(0.3),\n",
    "            nn.Linear(512, 256),\n",
    "            nn.ReLU(),\n",
    "            nn.Dropout(0.3),\n",
    "            nn.Linear(256, 1),\n",
    "            nn.Sigmoid(),\n",
    "        )\n",
    "    \n",
    "    def forward(self, x):\n",
    "        x = x.view(x.size(0), 784) # convert shape of image tensor to 28x28=784 vector\n",
    "        output = self.model(x)\n",
    "        return output\n",
    "    \n",
    "class Generator(nn.Module):\n",
    "    def __init__(self):\n",
    "        super().__init__()\n",
    "        self.model = nn.Sequential(\n",
    "            nn.Linear(100, 256),\n",
    "            nn.ReLU(),\n",
    "            nn.Linear(256, 512),\n",
    "            nn.ReLU(),\n",
    "            nn.Linear(512, 1024),\n",
    "            nn.ReLU(),\n",
    "            nn.Linear(1024, 784),\n",
    "            nn.Tanh(),\n",
    "        )\n",
    "    \n",
    "    def forward(self, x):\n",
    "        output = self.model(x)\n",
    "        output = output.view(x.size(0), 1, 28, 28) # reconvert to image\n",
    "        return output"
   ]
  },
  {
   "cell_type": "code",
   "execution_count": 7,
   "id": "76fc3997",
   "metadata": {},
   "outputs": [],
   "source": [
    "discriminator = Discriminator().to(device=device)\n",
    "generator = Generator().to(device=device)"
   ]
  },
  {
   "cell_type": "markdown",
   "id": "f3b55109",
   "metadata": {},
   "source": [
    "### Training the models"
   ]
  },
  {
   "cell_type": "code",
   "execution_count": 9,
   "id": "53e492c3",
   "metadata": {},
   "outputs": [],
   "source": [
    "lr = 0.0001\n",
    "num_epochs = 50\n",
    "loss_function = nn.BCELoss()\n",
    "\n",
    "optimizer_discriminator = torch.optim.Adam(discriminator.parameters(), lr=lr)\n",
    "optimizer_generator = torch.optim.Adam(generator.parameters(), lr=lr)"
   ]
  },
  {
   "cell_type": "code",
   "execution_count": 11,
   "id": "4ca5bcca",
   "metadata": {},
   "outputs": [
    {
     "name": "stdout",
     "output_type": "stream",
     "text": [
      "Epoch: 0 Loss D.: 0.012778738513588905 Loss G.: 11.285544395446777\n",
      "Epoch: 1 Loss D.: 0.007840100675821304 Loss G.: 4.909295082092285\n",
      "Epoch: 2 Loss D.: 0.07658687233924866 Loss G.: 4.351418972015381\n",
      "Epoch: 3 Loss D.: 0.13224661350250244 Loss G.: 3.6041040420532227\n",
      "Epoch: 4 Loss D.: 0.239459827542305 Loss G.: 3.4968008995056152\n",
      "Epoch: 5 Loss D.: 0.34479472041130066 Loss G.: 1.959396481513977\n",
      "Epoch: 6 Loss D.: 0.36296290159225464 Loss G.: 2.2809224128723145\n",
      "Epoch: 7 Loss D.: 0.3738551139831543 Loss G.: 1.4041264057159424\n",
      "Epoch: 8 Loss D.: 0.45103317499160767 Loss G.: 1.2825595140457153\n",
      "Epoch: 9 Loss D.: 0.39669907093048096 Loss G.: 1.8873693943023682\n",
      "Epoch: 10 Loss D.: 0.38669461011886597 Loss G.: 1.388193130493164\n",
      "Epoch: 11 Loss D.: 0.4949536919593811 Loss G.: 1.274950623512268\n",
      "Epoch: 12 Loss D.: 0.500879168510437 Loss G.: 1.5403163433074951\n",
      "Epoch: 13 Loss D.: 0.45211654901504517 Loss G.: 1.207140564918518\n",
      "Epoch: 14 Loss D.: 0.5676167607307434 Loss G.: 1.2709286212921143\n",
      "Epoch: 15 Loss D.: 0.5320877432823181 Loss G.: 1.452101230621338\n",
      "Epoch: 16 Loss D.: 0.49068978428840637 Loss G.: 1.2996819019317627\n",
      "Epoch: 17 Loss D.: 0.49586403369903564 Loss G.: 1.1078912019729614\n",
      "Epoch: 18 Loss D.: 0.6979435682296753 Loss G.: 1.3134924173355103\n",
      "Epoch: 19 Loss D.: 0.5355768203735352 Loss G.: 1.3759434223175049\n",
      "Epoch: 20 Loss D.: 0.5229133367538452 Loss G.: 1.0893380641937256\n",
      "Epoch: 21 Loss D.: 0.5408468246459961 Loss G.: 1.1127523183822632\n",
      "Epoch: 22 Loss D.: 0.6474815607070923 Loss G.: 1.128056287765503\n",
      "Epoch: 23 Loss D.: 0.5454083681106567 Loss G.: 1.1488409042358398\n",
      "Epoch: 24 Loss D.: 0.5830890536308289 Loss G.: 1.1480207443237305\n",
      "Epoch: 25 Loss D.: 0.4823417365550995 Loss G.: 1.3313707113265991\n",
      "Epoch: 26 Loss D.: 0.5218999981880188 Loss G.: 1.0541341304779053\n",
      "Epoch: 27 Loss D.: 0.4342576861381531 Loss G.: 1.2272099256515503\n",
      "Epoch: 28 Loss D.: 0.5427303910255432 Loss G.: 1.168670654296875\n",
      "Epoch: 29 Loss D.: 0.6098865866661072 Loss G.: 0.818416953086853\n",
      "Epoch: 30 Loss D.: 0.5270053744316101 Loss G.: 0.9900364279747009\n",
      "Epoch: 31 Loss D.: 0.4699885845184326 Loss G.: 1.0185390710830688\n",
      "Epoch: 32 Loss D.: 0.6266316175460815 Loss G.: 1.1337345838546753\n",
      "Epoch: 33 Loss D.: 0.5254814624786377 Loss G.: 1.2408109903335571\n",
      "Epoch: 34 Loss D.: 0.5845626592636108 Loss G.: 0.9035859704017639\n",
      "Epoch: 35 Loss D.: 0.6367942094802856 Loss G.: 1.1128944158554077\n",
      "Epoch: 36 Loss D.: 0.6051073670387268 Loss G.: 1.2032358646392822\n",
      "Epoch: 37 Loss D.: 0.664452075958252 Loss G.: 1.1022956371307373\n",
      "Epoch: 38 Loss D.: 0.5174577236175537 Loss G.: 1.1456186771392822\n",
      "Epoch: 39 Loss D.: 0.47584354877471924 Loss G.: 0.9584012031555176\n",
      "Epoch: 40 Loss D.: 0.5753120183944702 Loss G.: 1.071693778038025\n",
      "Epoch: 41 Loss D.: 0.42674362659454346 Loss G.: 0.9288253784179688\n",
      "Epoch: 42 Loss D.: 0.4434778690338135 Loss G.: 0.7907780408859253\n",
      "Epoch: 43 Loss D.: 0.592741072177887 Loss G.: 1.0770506858825684\n",
      "Epoch: 44 Loss D.: 0.5684410333633423 Loss G.: 0.8829013109207153\n",
      "Epoch: 45 Loss D.: 0.4907451868057251 Loss G.: 0.9347331523895264\n",
      "Epoch: 46 Loss D.: 0.44155558943748474 Loss G.: 1.1695173978805542\n",
      "Epoch: 47 Loss D.: 0.4171377122402191 Loss G.: 1.0053493976593018\n",
      "Epoch: 48 Loss D.: 0.6661109924316406 Loss G.: 0.9890434145927429\n",
      "Epoch: 49 Loss D.: 0.5869773626327515 Loss G.: 1.114316463470459\n"
     ]
    }
   ],
   "source": [
    "for epoch in range(num_epochs):\n",
    "    for n, (real_samples,_) in enumerate(train_loader):\n",
    "        # Data for training Discriminator\n",
    "        real_samples = real_samples.to(device=device)\n",
    "        real_samples_labels = torch.ones((batch_size, 1)).to(device=device)\n",
    "        latent_space_samples = torch.randn((batch_size, 100)).to(device=device)\n",
    "        generated_samples = generator(latent_space_samples)\n",
    "        generated_samples_labels = torch.zeros((batch_size, 1)).to(device=device)\n",
    "        all_samples = torch.cat((real_samples, generated_samples))\n",
    "        all_samples_labels = torch.cat((real_samples_labels, generated_samples_labels))\n",
    "        \n",
    "        # Trainin the Discriminator\n",
    "        discriminator.zero_grad() # clear the gradients at each step to avoid accumulating them\n",
    "        output_discriminator = discriminator(all_samples)\n",
    "        loss_discriminator = loss_function(\n",
    "            output_discriminator, all_samples_labels\n",
    "        )\n",
    "        loss_discriminator.backward() # calculate the gradients to update weights\n",
    "        optimizer_discriminator.step() # update discriminator weights\n",
    "        \n",
    "        # Data for training Generator\n",
    "        latent_space_samples = torch.randn((batch_size, 100)).to(device=device)\n",
    "        \n",
    "        # Training the Generator\n",
    "        generator.zero_grad()\n",
    "        generated_samples = generator(latent_space_samples)\n",
    "        output_discriminator_generated = discriminator(generated_samples)\n",
    "        loss_generator = loss_function(\n",
    "            output_discriminator_generated, real_samples_labels\n",
    "        )\n",
    "        loss_generator.backward()\n",
    "        optimizer_generator.step()\n",
    "        \n",
    "        # Show loss\n",
    "        if n == batch_size - 1:\n",
    "            print(f\"Epoch: {epoch} Loss D.: {loss_discriminator} Loss G.: {loss_generator}\")"
   ]
  },
  {
   "cell_type": "code",
   "execution_count": 15,
   "id": "09e9559a",
   "metadata": {},
   "outputs": [
    {
     "data": {
      "image/png": "[encoded data removed]",
      "text/plain": [
       "<Figure size 432x288 with 16 Axes>"
      ]
     },
     "metadata": {},
     "output_type": "display_data"
    }
   ],
   "source": [
    "latent_space_samples = torch.randn(batch_size, 100).to(device=device)\n",
    "generated_samples = generator(latent_space_samples)\n",
    "\n",
    "generated_samples = generated_samples.cpu().detach()\n",
    "for i in range(16):\n",
    "    ax = plt.subplot(4, 4, i + 1)\n",
    "    plt.imshow(generated_samples[i].reshape(28, 28), cmap=\"gray_r\")\n",
    "    plt.xticks([])\n",
    "    plt.yticks([])"
   ]
  },
  {
   "cell_type": "code",
   "execution_count": null,
   "id": "cb0ce1c6",
   "metadata": {},
   "outputs": [],
   "source": []
  }
 ],
 "metadata": {
  "kernelspec": {
   "display_name": "Python [conda env:tfg] *",
   "language": "python",
   "name": "conda-env-tfg-py"
  },
  "language_info": {
   "codemirror_mode": {
    "name": "ipython",
    "version": 3
   },
   "file_extension": ".py",
   "mimetype": "text/x-python",
   "name": "python",
   "nbconvert_exporter": "python",
   "pygments_lexer": "ipython3",
   "version": "3.7.13"
  }
 },
 "nbformat": 4,
 "nbformat_minor": 5
}

{
 "cells": [
  {
   "cell_type": "markdown",
   "id": "83b97187",
   "metadata": {},
   "source": [
    "# Gender prediction\n",
    "\n",
    "From [Kaggle](https://www.kaggle.com/code/shahraizanwar/age-gender-ethnicity-prediction)"
   ]
  },
  {
   "cell_type": "code",
   "execution_count": null,
   "id": "3c455ba0",
   "metadata": {},
   "outputs": [],
   "source": [
    "import numpy as np \n",
    "import pandas as pd\n",
    "# import tensorflow as tf\n",
    "# import tensorflow.keras.layers as L\n",
    "import matplotlib.pyplot as plt\n",
    "import plotly.graph_objects as go\n",
    "import plotly.express as px\n",
    "from sklearn.model_selection import train_test_split"
   ]
  },
  {
   "cell_type": "code",
   "execution_count": null,
   "id": "19a3070d",
   "metadata": {},
   "outputs": [],
   "source": [
    "data = pd.read_csv('../data/age_gender.csv')\n",
    "\n",
    "data['pixels'] = data['pixels'].apply(lambda x: np.array(x.split(), dtype = 'float32'))\n",
    "data['pixels'] = data['pixels'].apply(lambda x:x/255)\n",
    "\n",
    "gender_dist = data['gender'].value_counts().rename(index={0:'Male', 1:'Female'})\n",
    "\n",
    "data.head(5)"
   ]
  },
  {
   "cell_type": "code",
   "execution_count": null,
   "id": "8968ef8c",
   "metadata": {},
   "outputs": [],
   "source": [
    "print(f'Total rows: {len(data)}')\n",
    "print(f'Total columns: {len(data.columns)}')"
   ]
  },
  {
   "cell_type": "code",
   "execution_count": null,
   "id": "c554c807",
   "metadata": {},
   "outputs": [],
   "source": [
    "X = np.array(data['pixels'].tolist())\n",
    "X = X.reshape(len(data), 48, 48) # reshape each array of length 48x48 into matrix\n",
    "y = data['gender'].tolist()"
   ]
  },
  {
   "cell_type": "code",
   "execution_count": null,
   "id": "680224ea",
   "metadata": {},
   "outputs": [],
   "source": [
    "# Plot some faces\n",
    "X = X.reshape(X.shape[0], 48,48, 1)\n",
    "plt.figure(figsize=(16,16))\n",
    "for i in range(1500,1520):\n",
    "    plt.subplot(5,5,(i%25)+1)\n",
    "    plt.xticks([])\n",
    "    plt.yticks([])\n",
    "    plt.grid(False)\n",
    "    plt.imshow(data['pixels'].iloc[i].reshape(48,48))\n",
    "    plt.xlabel(\n",
    "        \"Age:\"+str(data['age'].iloc[i])+\n",
    "        \"  Ethnicity:\"+str(data['ethnicity'].iloc[i])+\n",
    "        \"  Gender:\"+ str(data['gender'].iloc[i])\n",
    "    )\n",
    "plt.show()"
   ]
  },
  {
   "cell_type": "code",
   "execution_count": null,
   "id": "09d045ae",
   "metadata": {},
   "outputs": [],
   "source": [
    "import torch\n",
    "from torch import nn\n",
    "import torch.nn.functional as F\n",
    "import torchvision"
   ]
  },
  {
   "cell_type": "code",
   "execution_count": null,
   "id": "36d720a6",
   "metadata": {},
   "outputs": [],
   "source": [
    "from torch.utils.data import Dataset\n",
    "from sklearn.preprocessing import StandardScaler\n",
    "from math import floor\n",
    "\n",
    "train_ratio = 0.7 # 70% train, 30% test\n",
    "slice = int(floor(len(X) * train_ratio))\n",
    "\n",
    "class DataSetLoader(Dataset):\n",
    "    def __init__(self, x, y):       \n",
    "        self.x = x\n",
    "        self.y = y\n",
    "        \n",
    "        self.x_train = torch.tensor(self.x, dtype=torch.float32)\n",
    "        self.y_train = torch.tensor(self.y)\n",
    "    \n",
    "    def __len__(self):\n",
    "        return len(self.y_train)\n",
    "    \n",
    "    def __getitem__(self, idx):\n",
    "        img = self.x_train[idx]\n",
    "        img = img.unsqueeze(0)\n",
    "        \n",
    "        return img, self.y_train[idx]\n",
    "    \n",
    "trainset = DataSetLoader(X[:slice], y[:slice])\n",
    "testset = DataSetLoader(X[slice:], y[slice:])"
   ]
  },
  {
   "cell_type": "code",
   "execution_count": null,
   "id": "d8af2e91",
   "metadata": {},
   "outputs": [],
   "source": [
    "batch_size = 64\n",
    "\n",
    "trainloader = torch.utils.data.DataLoader(\n",
    "    trainset,\n",
    "    batch_size=batch_size,\n",
    "    shuffle=True,\n",
    "    num_workers=2\n",
    ")\n",
    "\n",
    "testloader = torch.utils.data.DataLoader(\n",
    "    testset,\n",
    "    batch_size=batch_size,\n",
    "    shuffle=True,\n",
    "    num_workers=2\n",
    ")\n",
    "\n",
    "classes = ('male', 'female')"
   ]
  },
  {
   "cell_type": "code",
   "execution_count": null,
   "id": "939c8295",
   "metadata": {},
   "outputs": [],
   "source": [
    "device = torch.device(\"cuda\" if torch.cuda.is_available() else \"cpu\")\n",
    "device"
   ]
  },
  {
   "cell_type": "code",
   "execution_count": null,
   "id": "3c22baa6",
   "metadata": {},
   "outputs": [],
   "source": [
    "class Classifier(nn.Module):\n",
    "    def __init__(self):\n",
    "        super().__init__()\n",
    "        self.conv1 = nn.Conv2d(in_channels=1, out_channels=32, kernel_size=3, stride=1)\n",
    "        self.pool = nn.MaxPool2d(2,2)\n",
    "        self.conv2 = nn.Conv2d(in_channels=32, out_channels=64, kernel_size=3, stride=1)\n",
    "        self.fc1 = nn.Linear(6400, 64)\n",
    "        self.dropout = nn.Dropout(p=0.5)\n",
    "        self.fc2 = nn.Linear(64, 2)\n",
    "        \n",
    "    def forward(self, x):\n",
    "        # Convolutional layers\n",
    "        x = self.pool(F.relu(self.conv1(x)))\n",
    "        x = self.pool(F.relu(self.conv2(x)))\n",
    "        \n",
    "#         x = torch.flatten(x, 1) # flatten all dimensions except batch\n",
    "        x = x.reshape(x.shape[0], -1)\n",
    "        \n",
    "        # Fully connected layers\n",
    "        x = self.dropout(F.relu(self.fc1(x)))\n",
    "        x = self.fc2(x)\n",
    "        return x    \n",
    "\n",
    "cf = Classifier().to(device=device)\n",
    "cf"
   ]
  },
  {
   "cell_type": "code",
   "execution_count": null,
   "id": "4b677be3",
   "metadata": {},
   "outputs": [],
   "source": [
    "import torch.optim as optim\n",
    "\n",
    "criterion = nn.CrossEntropyLoss()\n",
    "optimizer = optim.SGD(cf.parameters(), lr=0.001, momentum=0.9)"
   ]
  },
  {
   "cell_type": "code",
   "execution_count": null,
   "id": "4f2524b8",
   "metadata": {},
   "outputs": [],
   "source": [
    "NUM_EPOCHS = 40\n",
    "PLOT_LOSS = True\n",
    "epochs = np.arange(1,NUM_EPOCHS+1)\n",
    "losses = []\n",
    "\n",
    "for epoch in range(NUM_EPOCHS):\n",
    "    running_loss = 0.0\n",
    "    for i, data in enumerate(trainloader, 0):\n",
    "        # get the inputs; data is a list of [inputs, labels]\n",
    "        inputs, labels = data\n",
    "        # model is in GPU, thus we send data also to GPU\n",
    "        inputs, labels = inputs.to(device), labels.to(device)\n",
    "        \n",
    "        # zero the parameter gradients\n",
    "        optimizer.zero_grad()\n",
    "\n",
    "        # forward + backward + optimize\n",
    "        outputs = cf(inputs)\n",
    "        loss = criterion(outputs, labels)\n",
    "        loss.backward()\n",
    "        optimizer.step()\n",
    "\n",
    "        # print statistics\n",
    "        running_loss += loss.item()\n",
    "        loss_batch = running_loss / 2000\n",
    "        if i % 200 == 199:    # print every 2000 mini-batches\n",
    "            print(f'[Epoch: {epoch + 1}] Loss: {loss_batch}')\n",
    "            running_loss = 0.0\n",
    "    losses.append(loss_batch)\n",
    "\n",
    "print('Finished Training')"
   ]
  },
  {
   "cell_type": "code",
   "execution_count": null,
   "id": "9a0bcbd3",
   "metadata": {},
   "outputs": [],
   "source": [
    "if PLOT_LOSS:\n",
    "    plt.plot(epochs, losses)\n",
    "    plt.show()"
   ]
  },
  {
   "cell_type": "code",
   "execution_count": null,
   "id": "1508989b",
   "metadata": {},
   "outputs": [],
   "source": [
    "# Save model\n",
    "PATH = './models/gender_test.pth'\n",
    "torch.save(cf.state_dict(), PATH)"
   ]
  },
  {
   "cell_type": "code",
   "execution_count": null,
   "id": "7b62f441",
   "metadata": {},
   "outputs": [],
   "source": [
    "# Load model\n",
    "PATH = './models/gender_test.pth'\n",
    "cf = Classifier().to(device=device)\n",
    "cf.load_state_dict(torch.load(PATH))"
   ]
  },
  {
   "cell_type": "code",
   "execution_count": null,
   "id": "2fe35a28",
   "metadata": {},
   "outputs": [],
   "source": [
    "dataiter = iter(testloader)\n",
    "images, labels = dataiter.next()\n",
    "\n",
    "print('GroundTruth: ', ' '.join(f'{classes[labels[j]]:5s}' for j in range(4)))\n",
    "\n",
    "outputs = cf(images)\n",
    "\n",
    "_, predicted = torch.max(outputs, 1)\n",
    "\n",
    "# The outputs are energies for the 10 classes. The higher the energy for a class,\n",
    "# the more the network thinks that the image is of the particular class.\n",
    "# So, let’s get the index of the highest energy\n",
    "\n",
    "print('Predicted: ', ' '.join(f'{classes[predicted[j]]:5s}'\n",
    "                              for j in range(4)))"
   ]
  },
  {
   "cell_type": "code",
   "execution_count": null,
   "id": "0724aee3",
   "metadata": {},
   "outputs": [],
   "source": [
    "# Let us look at how the network performs on the whole dataset\n",
    "\n",
    "correct = 0\n",
    "total = 0\n",
    "# since we're not training, we don't need to calculate the gradients for our outputs\n",
    "with torch.no_grad():\n",
    "    for data in testloader:\n",
    "        images, labels = data\n",
    "        images, labels = images.to(device), labels.to(device)\n",
    "        # calculate outputs by running images through the network\n",
    "        outputs = cf(images)\n",
    "        # the class with the highest energy is what we choose as prediction\n",
    "        _, predicted = torch.max(outputs.data, 1)\n",
    "        total += labels.size(0)\n",
    "        correct += (predicted == labels).sum().item()\n",
    "\n",
    "print(f'Accuracy: {100 * correct // total} %')"
   ]
  },
  {
   "cell_type": "code",
   "execution_count": null,
   "id": "1d8d5593",
   "metadata": {},
   "outputs": [],
   "source": [
    "# what are the classes that performed well, and the classes that did not perform well?\n",
    "\n",
    "# prepare to count predictions for each class\n",
    "correct_pred = {classname: 0 for classname in classes}\n",
    "total_pred = {classname: 0 for classname in classes}\n",
    "\n",
    "# again no gradients needed\n",
    "with torch.no_grad():\n",
    "    for data in testloader:\n",
    "        images, labels = data\n",
    "        images, labels = images.to(device), labels.to(device)\n",
    "        \n",
    "        outputs = cf(images)\n",
    "        _, predictions = torch.max(outputs, 1)\n",
    "        # collect the correct predictions for each class\n",
    "        for label, prediction in zip(labels, predictions):\n",
    "            if label == prediction:\n",
    "                correct_pred[classes[label]] += 1\n",
    "            total_pred[classes[label]] += 1\n",
    "\n",
    "\n",
    "# print accuracy for each class\n",
    "for classname, correct_count in correct_pred.items():\n",
    "    accuracy = 100 * float(correct_count) / total_pred[classname]\n",
    "    print(f'Accuracy for class: {classname:5s} is {accuracy:.1f} %')"
   ]
  }
 ],
 "metadata": {
  "kernelspec": {
   "display_name": "Python [conda env:tfg] *",
   "language": "python",
   "name": "conda-env-tfg-py"
  },
  "language_info": {
   "codemirror_mode": {
    "name": "ipython",
    "version": 3
   },
   "file_extension": ".py",
   "mimetype": "text/x-python",
   "name": "python",
   "nbconvert_exporter": "python",
   "pygments_lexer": "ipython3",
   "version": "3.7.13"
  },
  "vscode": {
   "interpreter": {
    "hash": "9942e9fed0efa49a647b3fef8f02f11c1f9c57085da6a16f9d17ce9a87c90977"
   }
  }
 },
 "nbformat": 4,
 "nbformat_minor": 5
}

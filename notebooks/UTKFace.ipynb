{
 "cells": [
  {
   "cell_type": "code",
   "execution_count": 19,
   "id": "5dd783d7",
   "metadata": {},
   "outputs": [
    {
     "name": "stdout",
     "output_type": "stream",
     "text": [
      "0 2 ['-4' '71' '-4' '96' '-3' '120' '-1' '144' '9' '166' '28' '179' '53' '186'\n",
      " '77' '192' '100' '194' '121' '191' '142' '183' '161' '174' '180' '161'\n",
      " '192' '142' '195' '120' '194' '97' '192' '74' '16' '53' '29' '39' '48'\n",
      " '33' '68' '34' '86' '40' '113' '39' '129' '33' '148' '32' '164' '37'\n",
      " '175' '49' '100' '59' '101' '72' '101' '85' '101' '99' '78' '112' '89'\n",
      " '113' '100' '116' '110' '114' '120' '111' '39' '62' '51' '61' '61' '60'\n",
      " '71' '65' '60' '63' '50' '62' '124' '64' '134' '59' '144' '59' '155' '62'\n",
      " '144' '62' '134' '62' '55' '137' '72' '134' '87' '132' '97' '133' '107'\n",
      " '131' '120' '132' '136' '133' '121' '143' '109' '146' '98' '147' '88'\n",
      " '146' '72' '145' '61' '138' '87' '137' '97' '138' '107' '136' '130' '135'\n",
      " '108' '139' '98' '140' '88' '139']\n"
     ]
    }
   ],
   "source": [
    "# Read data files into lines\n",
    "import os\n",
    "import numpy as np\n",
    "path = '../data/utkface-landmark/'\n",
    "\n",
    "lines = []\n",
    "genders = []\n",
    "races = []\n",
    "lmk = []\n",
    "\n",
    "for fn in os.listdir(path):\n",
    "    fl = os.path.join(path, fn)\n",
    "    if os.path.isfile(fl):\n",
    "        with open(fl) as f:\n",
    "            lines.extend(f.readlines())\n",
    "\n",
    "for line in lines:\n",
    "    ll = line.split(' ')[:-1] # discard \\n\n",
    "    labels = ll[0].split('_')[:3] # age_gender_race\n",
    "    \"\"\"\n",
    "    [age] is an integer from 0 to 116, indicating the age\n",
    "    [gender] is either 0 (male) or 1 (female)\n",
    "    [race] is an integer from 0 to 4, denoting White, Black, Asian, Indian, and Others\n",
    "    \"\"\"\n",
    "    genders.append(labels[1]) # gender\n",
    "    races.append(labels[2]) # ethnicity\n",
    "    lmk.append(np.array(ll[1:])) # landmarks\n",
    "    \n",
    "print(genders[0], races[0], lmk[0])"
   ]
  },
  {
   "cell_type": "code",
   "execution_count": 21,
   "id": "adda929b",
   "metadata": {},
   "outputs": [
    {
     "name": "stdout",
     "output_type": "stream",
     "text": [
      "(136,)\n"
     ]
    }
   ],
   "source": [
    "print(lmk[0].shape)"
   ]
  },
  {
   "cell_type": "code",
   "execution_count": 39,
   "id": "5afa9f03",
   "metadata": {},
   "outputs": [],
   "source": [
    "from tensorflow.keras.models import Sequential\n",
    "from tensorflow.keras.layers import Conv2D, MaxPooling2D, Dense, Flatten\n",
    "from tensorflow.keras.layers import Dropout\n",
    "\n",
    "num_filters = 8\n",
    "filter_size = 3\n",
    "pool_size = 2\n",
    "\n",
    "model = Sequential([\n",
    "    # 1st layer MUST include shape of input\n",
    "    Conv2D(num_filters, filter_size, activation='relu', input_shape=(136,28,1)),\n",
    "    Conv2D(num_filters, filter_size, activation='relu',),\n",
    "    Conv2D(num_filters, filter_size, activation='relu',),\n",
    "    MaxPooling2D(pool_size=pool_size),\n",
    "    Dropout(0.5),\n",
    "    Flatten(),\n",
    "    Dense(64, activation='relu'), # Fully Connected layer\n",
    "    Dense(10, activation='softmax'), # Output softmax layer of 10 nodes (numbers 0..9)\n",
    "])"
   ]
  }
 ],
 "metadata": {
  "kernelspec": {
   "display_name": "Python [conda env:tfg] *",
   "language": "python",
   "name": "conda-env-tfg-py"
  },
  "language_info": {
   "codemirror_mode": {
    "name": "ipython",
    "version": 3
   },
   "file_extension": ".py",
   "mimetype": "text/x-python",
   "name": "python",
   "nbconvert_exporter": "python",
   "pygments_lexer": "ipython3",
   "version": "3.7.13"
  }
 },
 "nbformat": 4,
 "nbformat_minor": 5
}

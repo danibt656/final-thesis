{
 "cells": [
  {
   "cell_type": "markdown",
   "metadata": {},
   "source": [
    "## Environment Test\n",
    "\n",
    "This is a quick program to test that all libraries are up and running"
   ]
  },
  {
   "cell_type": "code",
   "execution_count": 4,
   "metadata": {},
   "outputs": [
    {
     "name": "stdout",
     "output_type": "stream",
     "text": [
      "\n",
      "Pytorch version: 1.9.0\n",
      "\n",
      "Python: 3.7.13 (default, Mar 29 2022, 02:18:16) \n",
      "[GCC 7.5.0]\n",
      "Pandas: 1.3.5\n",
      "GPU is  available\n"
     ]
    }
   ],
   "source": [
    "import sys\n",
    "\n",
    "#import tensorflow.keras\n",
    "import torch\n",
    "import pandas as pd\n",
    "#import sklearn as sk\n",
    "#import tensorflow as tf\n",
    "\n",
    "#print(f'Tensorflow version: {tf.__version__}')\n",
    "#print(f'Keras version: {tensorflow.keras.__version__}')\n",
    "print()\n",
    "print(f'Pytorch version: {torch.__version__}')\n",
    "print()\n",
    "print(f'Python: {sys.version}')\n",
    "print(f'Pandas: {pd.__version__}')\n",
    "#print(f'Scikit-Learn version: {sk.__version__}')\n",
    "\n",
    "gpu = torch.cuda.is_available()\n",
    "print('GPU is', 'available' if gpu else 'NOT AVAILABLE')\n"
   ]
  },
  {
   "cell_type": "code",
   "execution_count": null,
   "metadata": {},
   "outputs": [],
   "source": []
  }
 ],
 "metadata": {
  "kernelspec": {
   "display_name": "Python 3.8.0 32-bit",
   "language": "python",
   "name": "python3"
  },
  "language_info": {
   "codemirror_mode": {
    "name": "ipython",
    "version": 3
   },
   "file_extension": ".py",
   "mimetype": "text/x-python",
   "name": "python",
   "nbconvert_exporter": "python",
   "pygments_lexer": "ipython3",
   "version": "3.8.0"
  },
  "vscode": {
   "interpreter": {
    "hash": "9942e9fed0efa49a647b3fef8f02f11c1f9c57085da6a16f9d17ce9a87c90977"
   }
  }
 },
 "nbformat": 4,
 "nbformat_minor": 2
}

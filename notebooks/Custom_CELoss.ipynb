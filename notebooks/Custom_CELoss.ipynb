{
 "cells": [
  {
   "cell_type": "markdown",
   "id": "1db7cc05",
   "metadata": {},
   "source": [
    "## Custom Cross_Entropy Losses\n",
    "\n",
    "Tests with PyTorch"
   ]
  },
  {
   "cell_type": "code",
   "execution_count": 17,
   "id": "08be4435",
   "metadata": {},
   "outputs": [],
   "source": [
    "import torch\n",
    "import torch.nn as nn\n",
    "import torch.nn.functional as F\n",
    "\n",
    "# Generate dummy dataset\n",
    "batch_size, n_classes = 5, 3\n",
    "x = torch.randn(batch_size, n_classes)\n",
    "\n",
    "# Generate dummy labels\n",
    "target = torch.randint(n_classes, size=(batch_size,), dtype=torch.long)"
   ]
  },
  {
   "cell_type": "code",
   "execution_count": 22,
   "id": "d5a88c3f",
   "metadata": {},
   "outputs": [
    {
     "data": {
      "text/plain": [
       "(tensor([[ 0.2934,  0.1837, -0.7830],\n",
       "         [ 1.3234, -0.1950,  0.2638],\n",
       "         [ 0.0298, -1.4776, -0.0341],\n",
       "         [-1.9384, -0.3713, -0.9684],\n",
       "         [ 1.8053,  0.5740, -0.9478]]),\n",
       " tensor([2, 1, 1, 1, 1]))"
      ]
     },
     "execution_count": 22,
     "metadata": {},
     "output_type": "execute_result"
    }
   ],
   "source": [
    "x, target"
   ]
  },
  {
   "cell_type": "code",
   "execution_count": 18,
   "id": "f17b872b",
   "metadata": {},
   "outputs": [
    {
     "data": {
      "text/plain": [
       "tensor(1.6452)"
      ]
     },
     "execution_count": 18,
     "metadata": {},
     "output_type": "execute_result"
    }
   ],
   "source": [
    "# Base Cross-Entropy\n",
    "F.cross_entropy(x, target)"
   ]
  },
  {
   "cell_type": "code",
   "execution_count": 19,
   "id": "401ff4c4",
   "metadata": {},
   "outputs": [
    {
     "data": {
      "text/plain": [
       "tensor(1.6452)"
      ]
     },
     "execution_count": 19,
     "metadata": {},
     "output_type": "execute_result"
    }
   ],
   "source": [
    "# Built CE\n",
    "# It's just a combination of LogSoftMax and NLLLoss in one single \"module\"\n",
    "\n",
    "def log_softmax(x):\n",
    "    return x - x.exp().sum(-1).log().unsqueeze(-1)\n",
    "\n",
    "def nll(inp, target):\n",
    "    return -inp[range(target.shape[0]), target].mean()\n",
    "\n",
    "nll(log_softmax(x), target)"
   ]
  },
  {
   "cell_type": "code",
   "execution_count": 20,
   "id": "ea5eeb31",
   "metadata": {},
   "outputs": [
    {
     "data": {
      "text/plain": [
       "tensor(1.6452)"
      ]
     },
     "execution_count": 20,
     "metadata": {},
     "output_type": "execute_result"
    }
   ],
   "source": [
    "# Cross-Entropy class\n",
    "\n",
    "class myCELoss(nn.Module):\n",
    "    def __init__(self, class_weights):\n",
    "        super().__init__()\n",
    "        self.class_weights = torch.autograd.Variable(torch.FloatTensor(class_weights))\n",
    "        \n",
    "    def forward(self, logits, target):\n",
    "        log_probabilites = log_softmax(logits)\n",
    "        # NLLLoss(x, class) = -weights[class] * x[class]\n",
    "        return (-self.class_weights.index_select(0, target) * log_probabilites.index_select(-1, target).diag()).mean()\n",
    "\n",
    "ce = myCELoss([1.0, 1.0, 1.0])\n",
    "ce(x, target)"
   ]
  },
  {
   "cell_type": "code",
   "execution_count": 21,
   "id": "6e5ef260",
   "metadata": {},
   "outputs": [
    {
     "name": "stdout",
     "output_type": "stream",
     "text": [
      "Torch CE: 1.6452\n",
      "My CE: 1.6452\n"
     ]
    }
   ],
   "source": [
    "def my_cross_entropy(x, y):\n",
    "    log_prob = -1.0 * F.log_softmax(x, 1)\n",
    "    loss = log_prob.gather(1, y.unsqueeze(1))\n",
    "    loss = loss.mean()\n",
    "    return loss\n",
    "\n",
    "criterion = nn.CrossEntropyLoss()\n",
    "\n",
    "batch_size = 5\n",
    "nb_classes = 10\n",
    "# x = torch.randn(batch_size, nb_classes, requires_grad=True)\n",
    "# y = torch.randint(0, nb_classes, (batch_size,))\n",
    "y = target\n",
    "\n",
    "loss_reference = criterion(x, y)\n",
    "loss = my_cross_entropy(x, y)\n",
    "\n",
    "print(f'Torch CE: {loss_reference:.4f}')\n",
    "print(f'My CE: {loss:.4f}')"
   ]
  },
  {
   "cell_type": "code",
   "execution_count": 14,
   "id": "3fd5bebd",
   "metadata": {},
   "outputs": [
    {
     "data": {
      "text/plain": [
       "tensor(0.5000, dtype=torch.float64)"
      ]
     },
     "execution_count": 14,
     "metadata": {},
     "output_type": "execute_result"
    }
   ],
   "source": [
    "t = torch.tensor([0, 1, 1, 0], dtype=float)\n",
    "torch.mean(t)"
   ]
  },
  {
   "cell_type": "markdown",
   "id": "34a5dd92",
   "metadata": {},
   "source": [
    "## Understanding CELoss"
   ]
  },
  {
   "cell_type": "code",
   "execution_count": 6,
   "id": "b970cf53",
   "metadata": {},
   "outputs": [],
   "source": [
    "import numpy as np\n",
    "import matplotlib.pyplot as plt\n",
    "\n",
    "def sigmoid(z):\n",
    "    \"\"\"\n",
    "    Hypothesis function - sigmoid\n",
    "    \"\"\"\n",
    "    return 1.0 / (1.0 + np.exp(-z))\n",
    "\n",
    "def cross_entropy_loss(yHat, y):\n",
    "    \"\"\"\n",
    "    Cross-entropy loss function\n",
    "        yHat is the predicted probability for the label\n",
    "        y is the actual label\n",
    "    \"\"\"\n",
    "    if y == 1:\n",
    "        return -np.log(yHat)\n",
    "    else:\n",
    "        return -np.log(1 - yHat)\n"
   ]
  },
  {
   "cell_type": "code",
   "execution_count": 7,
   "id": "13eb4238",
   "metadata": {},
   "outputs": [
    {
     "data": {
      "image/png": "[encoded data removed]",
      "text/plain": [
       "<Figure size 500x400 with 1 Axes>"
      ]
     },
     "metadata": {},
     "output_type": "display_data"
    }
   ],
   "source": [
    "# Calculate sample values for Z\n",
    "z = np.arange(-10, 10, 0.1)\n",
    "h_z = sigmoid(z)\n",
    "\n",
    "cost_1 = cross_entropy_loss(h_z, 1)\n",
    "cost_0 = cross_entropy_loss(h_z, 0)\n",
    "\n",
    "fig, ax = plt.subplots(figsize=(5, 4))\n",
    "plt.plot(h_z, cost_1, label='J(w) if y=1')\n",
    "plt.plot(h_z, cost_0, label='J(w) if y=0')\n",
    "plt.xlabel('$\\phi$(z)')\n",
    "plt.ylabel('J(w)')\n",
    "plt.legend(loc='best')\n",
    "plt.tight_layout()\n",
    "plt.show()"
   ]
  },
  {
   "cell_type": "markdown",
   "id": "7163fce4",
   "metadata": {},
   "source": [
    "For y=1, if predicted probability is near 1, the loss function (J(w)) is close to 0, otherwise close to infinity.\n",
    "\n",
    "For y=0, if predicted probability is near 0, the loss function is close to 0, otherwise close to infinity"
   ]
  }
 ],
 "metadata": {
  "kernelspec": {
   "display_name": "Python [conda env:tfg] *",
   "language": "python",
   "name": "conda-env-tfg-py"
  },
  "language_info": {
   "codemirror_mode": {
    "name": "ipython",
    "version": 3
   },
   "file_extension": ".py",
   "mimetype": "text/x-python",
   "name": "python",
   "nbconvert_exporter": "python",
   "pygments_lexer": "ipython3",
   "version": "3.7.13"
  }
 },
 "nbformat": 4,
 "nbformat_minor": 5
}
